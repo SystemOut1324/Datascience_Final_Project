{
 "cells": [
  {
   "cell_type": "code",
   "execution_count": 1,
   "metadata": {},
   "outputs": [],
   "source": [
    "# Follow the link below:\n",
    "# https://www.kaggle.com/sudalairajkumar/getting-started-with-text-preprocessing\n",
    "# https://www.analyticsvidhya.com/blog/2018/04/a-comprehensive-guide-to-understand-and-implement-text-classification-in-python/\n",
    "\n",
    "import psycopg2\n",
    "import nltk\n",
    "import pandas as pd\n",
    "import numpy as np\n",
    "import re\n",
    "import string"
   ]
  },
  {
   "cell_type": "code",
   "execution_count": 4,
   "metadata": {},
   "outputs": [
    {
     "output_type": "execute_result",
     "data": {
      "text/plain": "     Unnamed: 0.1     id                  domain       type  \\\n67             67  11593  washingtonexaminer.com  political   \n249           249  39558         www.newsmax.com        NaN   \n230           230  37351       beforeitsnews.com       fake   \n161           161  25191       beforeitsnews.com       fake   \n91             91  15468       beforeitsnews.com       fake   \n\n                                                   url  \\\n67   http://www.washingtonexaminer.com/us-support-f...   \n249  https://www.newsmax.com/newsfront/bill-clinton...   \n230  http://beforeitsnews.com/alternative/2018/01/t...   \n161  http://beforeitsnews.com/health/2017/04/audio-...   \n91   http://beforeitsnews.com/science-and-technolog...   \n\n                                               content  \\\n67   The United States has slashed its contribution...   \n249  Former U.S. President Bill Clinton on Monday c...   \n230  The Real Story Behind Marijuana Prohibition\\n\\...   \n161  Audio Sensors Market Analysis by Current Indus...   \n91   Headline: Bitcoin & Blockchain Searches Exceed...   \n\n                     scraped_at                 inserted_at  \\\n67   2018-01-25 16:17:44.789555  2018-02-02 01:19:41.756632   \n249  2018-01-25 20:13:50.426130  2018-02-02 01:19:41.756632   \n230  2018-01-25 20:13:50.426130  2018-02-02 01:19:41.756632   \n161  2018-01-25 16:17:44.789555  2018-02-02 01:19:41.756632   \n91   2018-01-25 16:17:44.789555  2018-02-02 01:19:41.756632   \n\n                     updated_at  \\\n67   2018-02-02 01:19:41.756664   \n249  2018-02-02 01:19:41.756664   \n230  2018-02-02 01:19:41.756664   \n161  2018-02-02 01:19:41.756664   \n91   2018-02-02 01:19:41.756664   \n\n                                                 title            authors  \\\n67        US support for UNRWA has gone on long enough      Michael Rubin   \n249  Bill Clinton Calls for Release of Reuters Jour...                NaN   \n230        The Real Story Behind Marijuana Prohibition  The Daily Sheeple   \n161  Audio Sensors Market Analysis by Current Indus...                NaN   \n91   Yawning — Why Is It So Contagious and Why Shou...      Alton Parrish   \n\n     keywords                                      meta_keywords  \\\n67        NaN  ['Blog Contributors', 'Refugees', 'Palestinian...   \n249       NaN  ['bill clinton', 'myanmar', 'calls', 'release'...   \n230       NaN                                               ['']   \n161       NaN                                               ['']   \n91        NaN                                               ['']   \n\n                                      meta_description  \\\n67   When the U.N. created UNRWA, it was meant to b...   \n249  Former U.S. President Bill Clinton Calls for R...   \n230                                                NaN   \n161                                                NaN   \n91                                                 NaN   \n\n                                                  tags  summary  \\\n67                                                 NaN      NaN   \n249  Donald Trump, Russia, Trump Administration, Gu...      NaN   \n230                                                NaN      NaN   \n161                                                NaN      NaN   \n91                                                 NaN      NaN   \n\n    content_tokens  type_id  \n67              []        6  \n249             []       -1  \n230             []        3  \n161             []        3  \n91              []        3  ",
      "text/html": "<div>\n<style scoped>\n    .dataframe tbody tr th:only-of-type {\n        vertical-align: middle;\n    }\n\n    .dataframe tbody tr th {\n        vertical-align: top;\n    }\n\n    .dataframe thead th {\n        text-align: right;\n    }\n</style>\n<table border=\"1\" class=\"dataframe\">\n  <thead>\n    <tr style=\"text-align: right;\">\n      <th></th>\n      <th>Unnamed: 0.1</th>\n      <th>id</th>\n      <th>domain</th>\n      <th>type</th>\n      <th>url</th>\n      <th>content</th>\n      <th>scraped_at</th>\n      <th>inserted_at</th>\n      <th>updated_at</th>\n      <th>title</th>\n      <th>authors</th>\n      <th>keywords</th>\n      <th>meta_keywords</th>\n      <th>meta_description</th>\n      <th>tags</th>\n      <th>summary</th>\n      <th>content_tokens</th>\n      <th>type_id</th>\n    </tr>\n  </thead>\n  <tbody>\n    <tr>\n      <th>67</th>\n      <td>67</td>\n      <td>11593</td>\n      <td>washingtonexaminer.com</td>\n      <td>political</td>\n      <td>http://www.washingtonexaminer.com/us-support-f...</td>\n      <td>The United States has slashed its contribution...</td>\n      <td>2018-01-25 16:17:44.789555</td>\n      <td>2018-02-02 01:19:41.756632</td>\n      <td>2018-02-02 01:19:41.756664</td>\n      <td>US support for UNRWA has gone on long enough</td>\n      <td>Michael Rubin</td>\n      <td>NaN</td>\n      <td>['Blog Contributors', 'Refugees', 'Palestinian...</td>\n      <td>When the U.N. created UNRWA, it was meant to b...</td>\n      <td>NaN</td>\n      <td>NaN</td>\n      <td>[]</td>\n      <td>6</td>\n    </tr>\n    <tr>\n      <th>249</th>\n      <td>249</td>\n      <td>39558</td>\n      <td>www.newsmax.com</td>\n      <td>NaN</td>\n      <td>https://www.newsmax.com/newsfront/bill-clinton...</td>\n      <td>Former U.S. President Bill Clinton on Monday c...</td>\n      <td>2018-01-25 20:13:50.426130</td>\n      <td>2018-02-02 01:19:41.756632</td>\n      <td>2018-02-02 01:19:41.756664</td>\n      <td>Bill Clinton Calls for Release of Reuters Jour...</td>\n      <td>NaN</td>\n      <td>NaN</td>\n      <td>['bill clinton', 'myanmar', 'calls', 'release'...</td>\n      <td>Former U.S. President Bill Clinton Calls for R...</td>\n      <td>Donald Trump, Russia, Trump Administration, Gu...</td>\n      <td>NaN</td>\n      <td>[]</td>\n      <td>-1</td>\n    </tr>\n    <tr>\n      <th>230</th>\n      <td>230</td>\n      <td>37351</td>\n      <td>beforeitsnews.com</td>\n      <td>fake</td>\n      <td>http://beforeitsnews.com/alternative/2018/01/t...</td>\n      <td>The Real Story Behind Marijuana Prohibition\\n\\...</td>\n      <td>2018-01-25 20:13:50.426130</td>\n      <td>2018-02-02 01:19:41.756632</td>\n      <td>2018-02-02 01:19:41.756664</td>\n      <td>The Real Story Behind Marijuana Prohibition</td>\n      <td>The Daily Sheeple</td>\n      <td>NaN</td>\n      <td>['']</td>\n      <td>NaN</td>\n      <td>NaN</td>\n      <td>NaN</td>\n      <td>[]</td>\n      <td>3</td>\n    </tr>\n    <tr>\n      <th>161</th>\n      <td>161</td>\n      <td>25191</td>\n      <td>beforeitsnews.com</td>\n      <td>fake</td>\n      <td>http://beforeitsnews.com/health/2017/04/audio-...</td>\n      <td>Audio Sensors Market Analysis by Current Indus...</td>\n      <td>2018-01-25 16:17:44.789555</td>\n      <td>2018-02-02 01:19:41.756632</td>\n      <td>2018-02-02 01:19:41.756664</td>\n      <td>Audio Sensors Market Analysis by Current Indus...</td>\n      <td>NaN</td>\n      <td>NaN</td>\n      <td>['']</td>\n      <td>NaN</td>\n      <td>NaN</td>\n      <td>NaN</td>\n      <td>[]</td>\n      <td>3</td>\n    </tr>\n    <tr>\n      <th>91</th>\n      <td>91</td>\n      <td>15468</td>\n      <td>beforeitsnews.com</td>\n      <td>fake</td>\n      <td>http://beforeitsnews.com/science-and-technolog...</td>\n      <td>Headline: Bitcoin &amp; Blockchain Searches Exceed...</td>\n      <td>2018-01-25 16:17:44.789555</td>\n      <td>2018-02-02 01:19:41.756632</td>\n      <td>2018-02-02 01:19:41.756664</td>\n      <td>Yawning — Why Is It So Contagious and Why Shou...</td>\n      <td>Alton Parrish</td>\n      <td>NaN</td>\n      <td>['']</td>\n      <td>NaN</td>\n      <td>NaN</td>\n      <td>NaN</td>\n      <td>[]</td>\n      <td>3</td>\n    </tr>\n  </tbody>\n</table>\n</div>"
     },
     "metadata": {},
     "execution_count": 4
    }
   ],
   "source": [
    "# importing and creating df (has to have type_id)\n",
    "\n",
    "# usage: specify file location, sample size and seed(used by random) \n",
    "filepath = '/home/daniel/Downloads/clean-100k.csv'                           # Linux\n",
    "filepath = 'd:/Personal/Desktop/downloads-tmp/clean-100k.csv'                # win\n",
    "filepath = 'd:/Personal/OneDrive/KU-uni/DataScience/Python/small.csv'        # win small\n",
    "filepath = '/home/daniel/OneDrive/KU-uni/DataScience/Python/small.csv' # Linux small\n",
    "s = 250                    # desired sample size(seems to have slack ie. not exact)\n",
    "seed = 1                     # seed used by Pseudorandom number generator\n",
    "\n",
    "df = pd.read_csv(filepath, index_col = [0]).sample(n=s, random_state=seed)\n",
    "df[\"content\"] = df[\"content\"].astype(str)\n",
    "# create type_id\n",
    "df['type_id'] = df.groupby(['type']).ngroup()\n",
    "\n",
    "df.head()"
   ]
  },
  {
   "cell_type": "code",
   "execution_count": 5,
   "metadata": {},
   "outputs": [
    {
     "output_type": "display_data",
     "data": {
      "text/plain": "<Figure size 576x432 with 1 Axes>",
      "image/svg+xml": "<?xml version=\"1.0\" encoding=\"utf-8\" standalone=\"no\"?>\n<!DOCTYPE svg PUBLIC \"-//W3C//DTD SVG 1.1//EN\"\n  \"http://www.w3.org/Graphics/SVG/1.1/DTD/svg11.dtd\">\n<!-- Created with matplotlib (https://matplotlib.org/) -->\n<svg height=\"415.185pt\" version=\"1.1\" viewBox=\"0 0 486.8875 415.185\" width=\"486.8875pt\" xmlns=\"http://www.w3.org/2000/svg\" xmlns:xlink=\"http://www.w3.org/1999/xlink\">\n <defs>\n  <style type=\"text/css\">\n*{stroke-linecap:butt;stroke-linejoin:round;}\n  </style>\n </defs>\n <g id=\"figure_1\">\n  <g id=\"patch_1\">\n   <path d=\"M 0 415.185 \nL 486.8875 415.185 \nL 486.8875 0 \nL 0 0 \nz\n\" style=\"fill:none;\"/>\n  </g>\n  <g id=\"axes_1\">\n   <g id=\"patch_2\">\n    <path d=\"M 33.2875 333.36 \nL 479.6875 333.36 \nL 479.6875 7.2 \nL 33.2875 7.2 \nz\n\" style=\"fill:#ffffff;\"/>\n   </g>\n   <g id=\"patch_3\">\n    <path clip-path=\"url(#pa8cb796741)\" d=\"M 44.4475 333.36 \nL 66.7675 333.36 \nL 66.7675 321.335668 \nL 44.4475 321.335668 \nz\n\" style=\"fill:#1f77b4;\"/>\n   </g>\n   <g id=\"patch_4\">\n    <path clip-path=\"url(#pa8cb796741)\" d=\"M 89.0875 333.36 \nL 111.4075 333.36 \nL 111.4075 331.355945 \nL 89.0875 331.355945 \nz\n\" style=\"fill:#1f77b4;\"/>\n   </g>\n   <g id=\"patch_5\">\n    <path clip-path=\"url(#pa8cb796741)\" d=\"M 133.7275 333.36 \nL 156.0475 333.36 \nL 156.0475 271.234286 \nL 133.7275 271.234286 \nz\n\" style=\"fill:#1f77b4;\"/>\n   </g>\n   <g id=\"patch_6\">\n    <path clip-path=\"url(#pa8cb796741)\" d=\"M 178.3675 333.36 \nL 200.6875 333.36 \nL 200.6875 22.731429 \nL 178.3675 22.731429 \nz\n\" style=\"fill:#1f77b4;\"/>\n   </g>\n   <g id=\"patch_7\">\n    <path clip-path=\"url(#pa8cb796741)\" d=\"M 223.0075 333.36 \nL 245.3275 333.36 \nL 245.3275 331.355945 \nL 223.0075 331.355945 \nz\n\" style=\"fill:#1f77b4;\"/>\n   </g>\n   <g id=\"patch_8\">\n    <path clip-path=\"url(#pa8cb796741)\" d=\"M 267.6475 333.36 \nL 289.9675 333.36 \nL 289.9675 321.335668 \nL 267.6475 321.335668 \nz\n\" style=\"fill:#1f77b4;\"/>\n   </g>\n   <g id=\"patch_9\">\n    <path clip-path=\"url(#pa8cb796741)\" d=\"M 312.2875 333.36 \nL 334.6075 333.36 \nL 334.6075 287.266728 \nL 312.2875 287.266728 \nz\n\" style=\"fill:#1f77b4;\"/>\n   </g>\n   <g id=\"patch_10\">\n    <path clip-path=\"url(#pa8cb796741)\" d=\"M 356.9275 333.36 \nL 379.2475 333.36 \nL 379.2475 327.347834 \nL 356.9275 327.347834 \nz\n\" style=\"fill:#1f77b4;\"/>\n   </g>\n   <g id=\"patch_11\">\n    <path clip-path=\"url(#pa8cb796741)\" d=\"M 401.5675 333.36 \nL 423.8875 333.36 \nL 423.8875 321.335668 \nL 401.5675 321.335668 \nz\n\" style=\"fill:#1f77b4;\"/>\n   </g>\n   <g id=\"patch_12\">\n    <path clip-path=\"url(#pa8cb796741)\" d=\"M 446.2075 333.36 \nL 468.5275 333.36 \nL 468.5275 321.335668 \nL 446.2075 321.335668 \nz\n\" style=\"fill:#1f77b4;\"/>\n   </g>\n   <g id=\"matplotlib.axis_1\">\n    <g id=\"xtick_1\">\n     <g id=\"line2d_1\">\n      <defs>\n       <path d=\"M 0 0 \nL 0 3.5 \n\" id=\"md9fbf6696c\" style=\"stroke:#000000;stroke-width:0.8;\"/>\n      </defs>\n      <g>\n       <use style=\"stroke:#000000;stroke-width:0.8;\" x=\"55.6075\" xlink:href=\"#md9fbf6696c\" y=\"333.36\"/>\n      </g>\n     </g>\n     <g id=\"text_1\">\n      <!-- bias -->\n      <defs>\n       <path d=\"M 48.6875 27.296875 \nQ 48.6875 37.203125 44.609375 42.84375 \nQ 40.53125 48.484375 33.40625 48.484375 \nQ 26.265625 48.484375 22.1875 42.84375 \nQ 18.109375 37.203125 18.109375 27.296875 \nQ 18.109375 17.390625 22.1875 11.75 \nQ 26.265625 6.109375 33.40625 6.109375 \nQ 40.53125 6.109375 44.609375 11.75 \nQ 48.6875 17.390625 48.6875 27.296875 \nz\nM 18.109375 46.390625 \nQ 20.953125 51.265625 25.265625 53.625 \nQ 29.59375 56 35.59375 56 \nQ 45.5625 56 51.78125 48.09375 \nQ 58.015625 40.1875 58.015625 27.296875 \nQ 58.015625 14.40625 51.78125 6.484375 \nQ 45.5625 -1.421875 35.59375 -1.421875 \nQ 29.59375 -1.421875 25.265625 0.953125 \nQ 20.953125 3.328125 18.109375 8.203125 \nL 18.109375 0 \nL 9.078125 0 \nL 9.078125 75.984375 \nL 18.109375 75.984375 \nz\n\" id=\"DejaVuSans-98\"/>\n       <path d=\"M 9.421875 54.6875 \nL 18.40625 54.6875 \nL 18.40625 0 \nL 9.421875 0 \nz\nM 9.421875 75.984375 \nL 18.40625 75.984375 \nL 18.40625 64.59375 \nL 9.421875 64.59375 \nz\n\" id=\"DejaVuSans-105\"/>\n       <path d=\"M 34.28125 27.484375 \nQ 23.390625 27.484375 19.1875 25 \nQ 14.984375 22.515625 14.984375 16.5 \nQ 14.984375 11.71875 18.140625 8.90625 \nQ 21.296875 6.109375 26.703125 6.109375 \nQ 34.1875 6.109375 38.703125 11.40625 \nQ 43.21875 16.703125 43.21875 25.484375 \nL 43.21875 27.484375 \nz\nM 52.203125 31.203125 \nL 52.203125 0 \nL 43.21875 0 \nL 43.21875 8.296875 \nQ 40.140625 3.328125 35.546875 0.953125 \nQ 30.953125 -1.421875 24.3125 -1.421875 \nQ 15.921875 -1.421875 10.953125 3.296875 \nQ 6 8.015625 6 15.921875 \nQ 6 25.140625 12.171875 29.828125 \nQ 18.359375 34.515625 30.609375 34.515625 \nL 43.21875 34.515625 \nL 43.21875 35.40625 \nQ 43.21875 41.609375 39.140625 45 \nQ 35.0625 48.390625 27.6875 48.390625 \nQ 23 48.390625 18.546875 47.265625 \nQ 14.109375 46.140625 10.015625 43.890625 \nL 10.015625 52.203125 \nQ 14.9375 54.109375 19.578125 55.046875 \nQ 24.21875 56 28.609375 56 \nQ 40.484375 56 46.34375 49.84375 \nQ 52.203125 43.703125 52.203125 31.203125 \nz\n\" id=\"DejaVuSans-97\"/>\n       <path d=\"M 44.28125 53.078125 \nL 44.28125 44.578125 \nQ 40.484375 46.53125 36.375 47.5 \nQ 32.28125 48.484375 27.875 48.484375 \nQ 21.1875 48.484375 17.84375 46.4375 \nQ 14.5 44.390625 14.5 40.28125 \nQ 14.5 37.15625 16.890625 35.375 \nQ 19.28125 33.59375 26.515625 31.984375 \nL 29.59375 31.296875 \nQ 39.15625 29.25 43.1875 25.515625 \nQ 47.21875 21.78125 47.21875 15.09375 \nQ 47.21875 7.46875 41.1875 3.015625 \nQ 35.15625 -1.421875 24.609375 -1.421875 \nQ 20.21875 -1.421875 15.453125 -0.5625 \nQ 10.6875 0.296875 5.421875 2 \nL 5.421875 11.28125 \nQ 10.40625 8.6875 15.234375 7.390625 \nQ 20.0625 6.109375 24.8125 6.109375 \nQ 31.15625 6.109375 34.5625 8.28125 \nQ 37.984375 10.453125 37.984375 14.40625 \nQ 37.984375 18.0625 35.515625 20.015625 \nQ 33.0625 21.96875 24.703125 23.78125 \nL 21.578125 24.515625 \nQ 13.234375 26.265625 9.515625 29.90625 \nQ 5.8125 33.546875 5.8125 39.890625 \nQ 5.8125 47.609375 11.28125 51.796875 \nQ 16.75 56 26.8125 56 \nQ 31.78125 56 36.171875 55.265625 \nQ 40.578125 54.546875 44.28125 53.078125 \nz\n\" id=\"DejaVuSans-115\"/>\n      </defs>\n      <g transform=\"translate(58.366875 360.824062)rotate(-90)scale(0.1 -0.1)\">\n       <use xlink:href=\"#DejaVuSans-98\"/>\n       <use x=\"63.476562\" xlink:href=\"#DejaVuSans-105\"/>\n       <use x=\"91.259766\" xlink:href=\"#DejaVuSans-97\"/>\n       <use x=\"152.539062\" xlink:href=\"#DejaVuSans-115\"/>\n      </g>\n     </g>\n    </g>\n    <g id=\"xtick_2\">\n     <g id=\"line2d_2\">\n      <g>\n       <use style=\"stroke:#000000;stroke-width:0.8;\" x=\"100.2475\" xlink:href=\"#md9fbf6696c\" y=\"333.36\"/>\n      </g>\n     </g>\n     <g id=\"text_2\">\n      <!-- clickbait -->\n      <defs>\n       <path d=\"M 48.78125 52.59375 \nL 48.78125 44.1875 \nQ 44.96875 46.296875 41.140625 47.34375 \nQ 37.3125 48.390625 33.40625 48.390625 \nQ 24.65625 48.390625 19.8125 42.84375 \nQ 14.984375 37.3125 14.984375 27.296875 \nQ 14.984375 17.28125 19.8125 11.734375 \nQ 24.65625 6.203125 33.40625 6.203125 \nQ 37.3125 6.203125 41.140625 7.25 \nQ 44.96875 8.296875 48.78125 10.40625 \nL 48.78125 2.09375 \nQ 45.015625 0.34375 40.984375 -0.53125 \nQ 36.96875 -1.421875 32.421875 -1.421875 \nQ 20.0625 -1.421875 12.78125 6.34375 \nQ 5.515625 14.109375 5.515625 27.296875 \nQ 5.515625 40.671875 12.859375 48.328125 \nQ 20.21875 56 33.015625 56 \nQ 37.15625 56 41.109375 55.140625 \nQ 45.0625 54.296875 48.78125 52.59375 \nz\n\" id=\"DejaVuSans-99\"/>\n       <path d=\"M 9.421875 75.984375 \nL 18.40625 75.984375 \nL 18.40625 0 \nL 9.421875 0 \nz\n\" id=\"DejaVuSans-108\"/>\n       <path d=\"M 9.078125 75.984375 \nL 18.109375 75.984375 \nL 18.109375 31.109375 \nL 44.921875 54.6875 \nL 56.390625 54.6875 \nL 27.390625 29.109375 \nL 57.625 0 \nL 45.90625 0 \nL 18.109375 26.703125 \nL 18.109375 0 \nL 9.078125 0 \nz\n\" id=\"DejaVuSans-107\"/>\n       <path d=\"M 18.3125 70.21875 \nL 18.3125 54.6875 \nL 36.8125 54.6875 \nL 36.8125 47.703125 \nL 18.3125 47.703125 \nL 18.3125 18.015625 \nQ 18.3125 11.328125 20.140625 9.421875 \nQ 21.96875 7.515625 27.59375 7.515625 \nL 36.8125 7.515625 \nL 36.8125 0 \nL 27.59375 0 \nQ 17.1875 0 13.234375 3.875 \nQ 9.28125 7.765625 9.28125 18.015625 \nL 9.28125 47.703125 \nL 2.6875 47.703125 \nL 2.6875 54.6875 \nL 9.28125 54.6875 \nL 9.28125 70.21875 \nz\n\" id=\"DejaVuSans-116\"/>\n      </defs>\n      <g transform=\"translate(103.006875 381.87875)rotate(-90)scale(0.1 -0.1)\">\n       <use xlink:href=\"#DejaVuSans-99\"/>\n       <use x=\"54.980469\" xlink:href=\"#DejaVuSans-108\"/>\n       <use x=\"82.763672\" xlink:href=\"#DejaVuSans-105\"/>\n       <use x=\"110.546875\" xlink:href=\"#DejaVuSans-99\"/>\n       <use x=\"165.527344\" xlink:href=\"#DejaVuSans-107\"/>\n       <use x=\"223.4375\" xlink:href=\"#DejaVuSans-98\"/>\n       <use x=\"286.914062\" xlink:href=\"#DejaVuSans-97\"/>\n       <use x=\"348.193359\" xlink:href=\"#DejaVuSans-105\"/>\n       <use x=\"375.976562\" xlink:href=\"#DejaVuSans-116\"/>\n      </g>\n     </g>\n    </g>\n    <g id=\"xtick_3\">\n     <g id=\"line2d_3\">\n      <g>\n       <use style=\"stroke:#000000;stroke-width:0.8;\" x=\"144.8875\" xlink:href=\"#md9fbf6696c\" y=\"333.36\"/>\n      </g>\n     </g>\n     <g id=\"text_3\">\n      <!-- conspiracy -->\n      <defs>\n       <path d=\"M 30.609375 48.390625 \nQ 23.390625 48.390625 19.1875 42.75 \nQ 14.984375 37.109375 14.984375 27.296875 \nQ 14.984375 17.484375 19.15625 11.84375 \nQ 23.34375 6.203125 30.609375 6.203125 \nQ 37.796875 6.203125 41.984375 11.859375 \nQ 46.1875 17.53125 46.1875 27.296875 \nQ 46.1875 37.015625 41.984375 42.703125 \nQ 37.796875 48.390625 30.609375 48.390625 \nz\nM 30.609375 56 \nQ 42.328125 56 49.015625 48.375 \nQ 55.71875 40.765625 55.71875 27.296875 \nQ 55.71875 13.875 49.015625 6.21875 \nQ 42.328125 -1.421875 30.609375 -1.421875 \nQ 18.84375 -1.421875 12.171875 6.21875 \nQ 5.515625 13.875 5.515625 27.296875 \nQ 5.515625 40.765625 12.171875 48.375 \nQ 18.84375 56 30.609375 56 \nz\n\" id=\"DejaVuSans-111\"/>\n       <path d=\"M 54.890625 33.015625 \nL 54.890625 0 \nL 45.90625 0 \nL 45.90625 32.71875 \nQ 45.90625 40.484375 42.875 44.328125 \nQ 39.84375 48.1875 33.796875 48.1875 \nQ 26.515625 48.1875 22.3125 43.546875 \nQ 18.109375 38.921875 18.109375 30.90625 \nL 18.109375 0 \nL 9.078125 0 \nL 9.078125 54.6875 \nL 18.109375 54.6875 \nL 18.109375 46.1875 \nQ 21.34375 51.125 25.703125 53.5625 \nQ 30.078125 56 35.796875 56 \nQ 45.21875 56 50.046875 50.171875 \nQ 54.890625 44.34375 54.890625 33.015625 \nz\n\" id=\"DejaVuSans-110\"/>\n       <path d=\"M 18.109375 8.203125 \nL 18.109375 -20.796875 \nL 9.078125 -20.796875 \nL 9.078125 54.6875 \nL 18.109375 54.6875 \nL 18.109375 46.390625 \nQ 20.953125 51.265625 25.265625 53.625 \nQ 29.59375 56 35.59375 56 \nQ 45.5625 56 51.78125 48.09375 \nQ 58.015625 40.1875 58.015625 27.296875 \nQ 58.015625 14.40625 51.78125 6.484375 \nQ 45.5625 -1.421875 35.59375 -1.421875 \nQ 29.59375 -1.421875 25.265625 0.953125 \nQ 20.953125 3.328125 18.109375 8.203125 \nz\nM 48.6875 27.296875 \nQ 48.6875 37.203125 44.609375 42.84375 \nQ 40.53125 48.484375 33.40625 48.484375 \nQ 26.265625 48.484375 22.1875 42.84375 \nQ 18.109375 37.203125 18.109375 27.296875 \nQ 18.109375 17.390625 22.1875 11.75 \nQ 26.265625 6.109375 33.40625 6.109375 \nQ 40.53125 6.109375 44.609375 11.75 \nQ 48.6875 17.390625 48.6875 27.296875 \nz\n\" id=\"DejaVuSans-112\"/>\n       <path d=\"M 41.109375 46.296875 \nQ 39.59375 47.171875 37.8125 47.578125 \nQ 36.03125 48 33.890625 48 \nQ 26.265625 48 22.1875 43.046875 \nQ 18.109375 38.09375 18.109375 28.8125 \nL 18.109375 0 \nL 9.078125 0 \nL 9.078125 54.6875 \nL 18.109375 54.6875 \nL 18.109375 46.1875 \nQ 20.953125 51.171875 25.484375 53.578125 \nQ 30.03125 56 36.53125 56 \nQ 37.453125 56 38.578125 55.875 \nQ 39.703125 55.765625 41.0625 55.515625 \nz\n\" id=\"DejaVuSans-114\"/>\n       <path d=\"M 32.171875 -5.078125 \nQ 28.375 -14.84375 24.75 -17.8125 \nQ 21.140625 -20.796875 15.09375 -20.796875 \nL 7.90625 -20.796875 \nL 7.90625 -13.28125 \nL 13.1875 -13.28125 \nQ 16.890625 -13.28125 18.9375 -11.515625 \nQ 21 -9.765625 23.484375 -3.21875 \nL 25.09375 0.875 \nL 2.984375 54.6875 \nL 12.5 54.6875 \nL 29.59375 11.921875 \nL 46.6875 54.6875 \nL 56.203125 54.6875 \nz\n\" id=\"DejaVuSans-121\"/>\n      </defs>\n      <g transform=\"translate(147.646875 394.306875)rotate(-90)scale(0.1 -0.1)\">\n       <use xlink:href=\"#DejaVuSans-99\"/>\n       <use x=\"54.980469\" xlink:href=\"#DejaVuSans-111\"/>\n       <use x=\"116.162109\" xlink:href=\"#DejaVuSans-110\"/>\n       <use x=\"179.541016\" xlink:href=\"#DejaVuSans-115\"/>\n       <use x=\"231.640625\" xlink:href=\"#DejaVuSans-112\"/>\n       <use x=\"295.117188\" xlink:href=\"#DejaVuSans-105\"/>\n       <use x=\"322.900391\" xlink:href=\"#DejaVuSans-114\"/>\n       <use x=\"364.013672\" xlink:href=\"#DejaVuSans-97\"/>\n       <use x=\"425.292969\" xlink:href=\"#DejaVuSans-99\"/>\n       <use x=\"480.273438\" xlink:href=\"#DejaVuSans-121\"/>\n      </g>\n     </g>\n    </g>\n    <g id=\"xtick_4\">\n     <g id=\"line2d_4\">\n      <g>\n       <use style=\"stroke:#000000;stroke-width:0.8;\" x=\"189.5275\" xlink:href=\"#md9fbf6696c\" y=\"333.36\"/>\n      </g>\n     </g>\n     <g id=\"text_4\">\n      <!-- fake -->\n      <defs>\n       <path d=\"M 37.109375 75.984375 \nL 37.109375 68.5 \nL 28.515625 68.5 \nQ 23.6875 68.5 21.796875 66.546875 \nQ 19.921875 64.59375 19.921875 59.515625 \nL 19.921875 54.6875 \nL 34.71875 54.6875 \nL 34.71875 47.703125 \nL 19.921875 47.703125 \nL 19.921875 0 \nL 10.890625 0 \nL 10.890625 47.703125 \nL 2.296875 47.703125 \nL 2.296875 54.6875 \nL 10.890625 54.6875 \nL 10.890625 58.5 \nQ 10.890625 67.625 15.140625 71.796875 \nQ 19.390625 75.984375 28.609375 75.984375 \nz\n\" id=\"DejaVuSans-102\"/>\n       <path d=\"M 56.203125 29.59375 \nL 56.203125 25.203125 \nL 14.890625 25.203125 \nQ 15.484375 15.921875 20.484375 11.0625 \nQ 25.484375 6.203125 34.421875 6.203125 \nQ 39.59375 6.203125 44.453125 7.46875 \nQ 49.3125 8.734375 54.109375 11.28125 \nL 54.109375 2.78125 \nQ 49.265625 0.734375 44.1875 -0.34375 \nQ 39.109375 -1.421875 33.890625 -1.421875 \nQ 20.796875 -1.421875 13.15625 6.1875 \nQ 5.515625 13.8125 5.515625 26.8125 \nQ 5.515625 40.234375 12.765625 48.109375 \nQ 20.015625 56 32.328125 56 \nQ 43.359375 56 49.78125 48.890625 \nQ 56.203125 41.796875 56.203125 29.59375 \nz\nM 47.21875 32.234375 \nQ 47.125 39.59375 43.09375 43.984375 \nQ 39.0625 48.390625 32.421875 48.390625 \nQ 24.90625 48.390625 20.390625 44.140625 \nQ 15.875 39.890625 15.1875 32.171875 \nz\n\" id=\"DejaVuSans-101\"/>\n      </defs>\n      <g transform=\"translate(192.286875 361.9475)rotate(-90)scale(0.1 -0.1)\">\n       <use xlink:href=\"#DejaVuSans-102\"/>\n       <use x=\"35.205078\" xlink:href=\"#DejaVuSans-97\"/>\n       <use x=\"96.484375\" xlink:href=\"#DejaVuSans-107\"/>\n       <use x=\"154.347656\" xlink:href=\"#DejaVuSans-101\"/>\n      </g>\n     </g>\n    </g>\n    <g id=\"xtick_5\">\n     <g id=\"line2d_5\">\n      <g>\n       <use style=\"stroke:#000000;stroke-width:0.8;\" x=\"234.1675\" xlink:href=\"#md9fbf6696c\" y=\"333.36\"/>\n      </g>\n     </g>\n     <g id=\"text_5\">\n      <!-- hate -->\n      <defs>\n       <path d=\"M 54.890625 33.015625 \nL 54.890625 0 \nL 45.90625 0 \nL 45.90625 32.71875 \nQ 45.90625 40.484375 42.875 44.328125 \nQ 39.84375 48.1875 33.796875 48.1875 \nQ 26.515625 48.1875 22.3125 43.546875 \nQ 18.109375 38.921875 18.109375 30.90625 \nL 18.109375 0 \nL 9.078125 0 \nL 9.078125 75.984375 \nL 18.109375 75.984375 \nL 18.109375 46.1875 \nQ 21.34375 51.125 25.703125 53.5625 \nQ 30.078125 56 35.796875 56 \nQ 45.21875 56 50.046875 50.171875 \nQ 54.890625 44.34375 54.890625 33.015625 \nz\n\" id=\"DejaVuSans-104\"/>\n      </defs>\n      <g transform=\"translate(236.926875 362.899063)rotate(-90)scale(0.1 -0.1)\">\n       <use xlink:href=\"#DejaVuSans-104\"/>\n       <use x=\"63.378906\" xlink:href=\"#DejaVuSans-97\"/>\n       <use x=\"124.658203\" xlink:href=\"#DejaVuSans-116\"/>\n       <use x=\"163.867188\" xlink:href=\"#DejaVuSans-101\"/>\n      </g>\n     </g>\n    </g>\n    <g id=\"xtick_6\">\n     <g id=\"line2d_6\">\n      <g>\n       <use style=\"stroke:#000000;stroke-width:0.8;\" x=\"278.8075\" xlink:href=\"#md9fbf6696c\" y=\"333.36\"/>\n      </g>\n     </g>\n     <g id=\"text_6\">\n      <!-- junksci -->\n      <defs>\n       <path d=\"M 9.421875 54.6875 \nL 18.40625 54.6875 \nL 18.40625 -0.984375 \nQ 18.40625 -11.421875 14.421875 -16.109375 \nQ 10.453125 -20.796875 1.609375 -20.796875 \nL -1.8125 -20.796875 \nL -1.8125 -13.1875 \nL 0.59375 -13.1875 \nQ 5.71875 -13.1875 7.5625 -10.8125 \nQ 9.421875 -8.453125 9.421875 -0.984375 \nz\nM 9.421875 75.984375 \nL 18.40625 75.984375 \nL 18.40625 64.59375 \nL 9.421875 64.59375 \nz\n\" id=\"DejaVuSans-106\"/>\n       <path d=\"M 8.5 21.578125 \nL 8.5 54.6875 \nL 17.484375 54.6875 \nL 17.484375 21.921875 \nQ 17.484375 14.15625 20.5 10.265625 \nQ 23.53125 6.390625 29.59375 6.390625 \nQ 36.859375 6.390625 41.078125 11.03125 \nQ 45.3125 15.671875 45.3125 23.6875 \nL 45.3125 54.6875 \nL 54.296875 54.6875 \nL 54.296875 0 \nL 45.3125 0 \nL 45.3125 8.40625 \nQ 42.046875 3.421875 37.71875 1 \nQ 33.40625 -1.421875 27.6875 -1.421875 \nQ 18.265625 -1.421875 13.375 4.4375 \nQ 8.5 10.296875 8.5 21.578125 \nz\nM 31.109375 56 \nz\n\" id=\"DejaVuSans-117\"/>\n      </defs>\n      <g transform=\"translate(281.566875 375.089687)rotate(-90)scale(0.1 -0.1)\">\n       <use xlink:href=\"#DejaVuSans-106\"/>\n       <use x=\"27.783203\" xlink:href=\"#DejaVuSans-117\"/>\n       <use x=\"91.162109\" xlink:href=\"#DejaVuSans-110\"/>\n       <use x=\"154.541016\" xlink:href=\"#DejaVuSans-107\"/>\n       <use x=\"212.451172\" xlink:href=\"#DejaVuSans-115\"/>\n       <use x=\"264.550781\" xlink:href=\"#DejaVuSans-99\"/>\n       <use x=\"319.53125\" xlink:href=\"#DejaVuSans-105\"/>\n      </g>\n     </g>\n    </g>\n    <g id=\"xtick_7\">\n     <g id=\"line2d_7\">\n      <g>\n       <use style=\"stroke:#000000;stroke-width:0.8;\" x=\"323.4475\" xlink:href=\"#md9fbf6696c\" y=\"333.36\"/>\n      </g>\n     </g>\n     <g id=\"text_7\">\n      <!-- political -->\n      <g transform=\"translate(326.206875 379.486562)rotate(-90)scale(0.1 -0.1)\">\n       <use xlink:href=\"#DejaVuSans-112\"/>\n       <use x=\"63.476562\" xlink:href=\"#DejaVuSans-111\"/>\n       <use x=\"124.658203\" xlink:href=\"#DejaVuSans-108\"/>\n       <use x=\"152.441406\" xlink:href=\"#DejaVuSans-105\"/>\n       <use x=\"180.224609\" xlink:href=\"#DejaVuSans-116\"/>\n       <use x=\"219.433594\" xlink:href=\"#DejaVuSans-105\"/>\n       <use x=\"247.216797\" xlink:href=\"#DejaVuSans-99\"/>\n       <use x=\"302.197266\" xlink:href=\"#DejaVuSans-97\"/>\n       <use x=\"363.476562\" xlink:href=\"#DejaVuSans-108\"/>\n      </g>\n     </g>\n    </g>\n    <g id=\"xtick_8\">\n     <g id=\"line2d_8\">\n      <g>\n       <use style=\"stroke:#000000;stroke-width:0.8;\" x=\"368.0875\" xlink:href=\"#md9fbf6696c\" y=\"333.36\"/>\n      </g>\n     </g>\n     <g id=\"text_8\">\n      <!-- reliable -->\n      <g transform=\"translate(370.846875 377.585)rotate(-90)scale(0.1 -0.1)\">\n       <use xlink:href=\"#DejaVuSans-114\"/>\n       <use x=\"41.082031\" xlink:href=\"#DejaVuSans-101\"/>\n       <use x=\"102.605469\" xlink:href=\"#DejaVuSans-108\"/>\n       <use x=\"130.388672\" xlink:href=\"#DejaVuSans-105\"/>\n       <use x=\"158.171875\" xlink:href=\"#DejaVuSans-97\"/>\n       <use x=\"219.451172\" xlink:href=\"#DejaVuSans-98\"/>\n       <use x=\"282.927734\" xlink:href=\"#DejaVuSans-108\"/>\n       <use x=\"310.710938\" xlink:href=\"#DejaVuSans-101\"/>\n      </g>\n     </g>\n    </g>\n    <g id=\"xtick_9\">\n     <g id=\"line2d_9\">\n      <g>\n       <use style=\"stroke:#000000;stroke-width:0.8;\" x=\"412.7275\" xlink:href=\"#md9fbf6696c\" y=\"333.36\"/>\n      </g>\n     </g>\n     <g id=\"text_9\">\n      <!-- unknown -->\n      <defs>\n       <path d=\"M 4.203125 54.6875 \nL 13.1875 54.6875 \nL 24.421875 12.015625 \nL 35.59375 54.6875 \nL 46.1875 54.6875 \nL 57.421875 12.015625 \nL 68.609375 54.6875 \nL 77.59375 54.6875 \nL 63.28125 0 \nL 52.6875 0 \nL 40.921875 44.828125 \nL 29.109375 0 \nL 18.5 0 \nz\n\" id=\"DejaVuSans-119\"/>\n      </defs>\n      <g transform=\"translate(415.486875 385.7975)rotate(-90)scale(0.1 -0.1)\">\n       <use xlink:href=\"#DejaVuSans-117\"/>\n       <use x=\"63.378906\" xlink:href=\"#DejaVuSans-110\"/>\n       <use x=\"126.757812\" xlink:href=\"#DejaVuSans-107\"/>\n       <use x=\"184.667969\" xlink:href=\"#DejaVuSans-110\"/>\n       <use x=\"248.046875\" xlink:href=\"#DejaVuSans-111\"/>\n       <use x=\"309.228516\" xlink:href=\"#DejaVuSans-119\"/>\n       <use x=\"391.015625\" xlink:href=\"#DejaVuSans-110\"/>\n      </g>\n     </g>\n    </g>\n    <g id=\"xtick_10\">\n     <g id=\"line2d_10\">\n      <g>\n       <use style=\"stroke:#000000;stroke-width:0.8;\" x=\"457.3675\" xlink:href=\"#md9fbf6696c\" y=\"333.36\"/>\n      </g>\n     </g>\n     <g id=\"text_10\">\n      <!-- unreliable -->\n      <g transform=\"translate(460.126875 390.26)rotate(-90)scale(0.1 -0.1)\">\n       <use xlink:href=\"#DejaVuSans-117\"/>\n       <use x=\"63.378906\" xlink:href=\"#DejaVuSans-110\"/>\n       <use x=\"126.757812\" xlink:href=\"#DejaVuSans-114\"/>\n       <use x=\"167.839844\" xlink:href=\"#DejaVuSans-101\"/>\n       <use x=\"229.363281\" xlink:href=\"#DejaVuSans-108\"/>\n       <use x=\"257.146484\" xlink:href=\"#DejaVuSans-105\"/>\n       <use x=\"284.929688\" xlink:href=\"#DejaVuSans-97\"/>\n       <use x=\"346.208984\" xlink:href=\"#DejaVuSans-98\"/>\n       <use x=\"409.685547\" xlink:href=\"#DejaVuSans-108\"/>\n       <use x=\"437.46875\" xlink:href=\"#DejaVuSans-101\"/>\n      </g>\n     </g>\n    </g>\n    <g id=\"text_11\">\n     <!-- type -->\n     <g transform=\"translate(245.317188 405.905312)scale(0.1 -0.1)\">\n      <use xlink:href=\"#DejaVuSans-116\"/>\n      <use x=\"39.208984\" xlink:href=\"#DejaVuSans-121\"/>\n      <use x=\"98.388672\" xlink:href=\"#DejaVuSans-112\"/>\n      <use x=\"161.865234\" xlink:href=\"#DejaVuSans-101\"/>\n     </g>\n    </g>\n   </g>\n   <g id=\"matplotlib.axis_2\">\n    <g id=\"ytick_1\">\n     <g id=\"line2d_11\">\n      <defs>\n       <path d=\"M 0 0 \nL -3.5 0 \n\" id=\"m38fd6f5e53\" style=\"stroke:#000000;stroke-width:0.8;\"/>\n      </defs>\n      <g>\n       <use style=\"stroke:#000000;stroke-width:0.8;\" x=\"33.2875\" xlink:href=\"#m38fd6f5e53\" y=\"333.36\"/>\n      </g>\n     </g>\n     <g id=\"text_12\">\n      <!-- 0 -->\n      <defs>\n       <path d=\"M 31.78125 66.40625 \nQ 24.171875 66.40625 20.328125 58.90625 \nQ 16.5 51.421875 16.5 36.375 \nQ 16.5 21.390625 20.328125 13.890625 \nQ 24.171875 6.390625 31.78125 6.390625 \nQ 39.453125 6.390625 43.28125 13.890625 \nQ 47.125 21.390625 47.125 36.375 \nQ 47.125 51.421875 43.28125 58.90625 \nQ 39.453125 66.40625 31.78125 66.40625 \nz\nM 31.78125 74.21875 \nQ 44.046875 74.21875 50.515625 64.515625 \nQ 56.984375 54.828125 56.984375 36.375 \nQ 56.984375 17.96875 50.515625 8.265625 \nQ 44.046875 -1.421875 31.78125 -1.421875 \nQ 19.53125 -1.421875 13.0625 8.265625 \nQ 6.59375 17.96875 6.59375 36.375 \nQ 6.59375 54.828125 13.0625 64.515625 \nQ 19.53125 74.21875 31.78125 74.21875 \nz\n\" id=\"DejaVuSans-48\"/>\n      </defs>\n      <g transform=\"translate(19.925 337.159219)scale(0.1 -0.1)\">\n       <use xlink:href=\"#DejaVuSans-48\"/>\n      </g>\n     </g>\n    </g>\n    <g id=\"ytick_2\">\n     <g id=\"line2d_12\">\n      <g>\n       <use style=\"stroke:#000000;stroke-width:0.8;\" x=\"33.2875\" xlink:href=\"#m38fd6f5e53\" y=\"293.278894\"/>\n      </g>\n     </g>\n     <g id=\"text_13\">\n      <!-- 20 -->\n      <defs>\n       <path d=\"M 19.1875 8.296875 \nL 53.609375 8.296875 \nL 53.609375 0 \nL 7.328125 0 \nL 7.328125 8.296875 \nQ 12.9375 14.109375 22.625 23.890625 \nQ 32.328125 33.6875 34.8125 36.53125 \nQ 39.546875 41.84375 41.421875 45.53125 \nQ 43.3125 49.21875 43.3125 52.78125 \nQ 43.3125 58.59375 39.234375 62.25 \nQ 35.15625 65.921875 28.609375 65.921875 \nQ 23.96875 65.921875 18.8125 64.3125 \nQ 13.671875 62.703125 7.8125 59.421875 \nL 7.8125 69.390625 \nQ 13.765625 71.78125 18.9375 73 \nQ 24.125 74.21875 28.421875 74.21875 \nQ 39.75 74.21875 46.484375 68.546875 \nQ 53.21875 62.890625 53.21875 53.421875 \nQ 53.21875 48.921875 51.53125 44.890625 \nQ 49.859375 40.875 45.40625 35.40625 \nQ 44.1875 33.984375 37.640625 27.21875 \nQ 31.109375 20.453125 19.1875 8.296875 \nz\n\" id=\"DejaVuSans-50\"/>\n      </defs>\n      <g transform=\"translate(13.5625 297.078113)scale(0.1 -0.1)\">\n       <use xlink:href=\"#DejaVuSans-50\"/>\n       <use x=\"63.623047\" xlink:href=\"#DejaVuSans-48\"/>\n      </g>\n     </g>\n    </g>\n    <g id=\"ytick_3\">\n     <g id=\"line2d_13\">\n      <g>\n       <use style=\"stroke:#000000;stroke-width:0.8;\" x=\"33.2875\" xlink:href=\"#m38fd6f5e53\" y=\"253.197788\"/>\n      </g>\n     </g>\n     <g id=\"text_14\">\n      <!-- 40 -->\n      <defs>\n       <path d=\"M 37.796875 64.3125 \nL 12.890625 25.390625 \nL 37.796875 25.390625 \nz\nM 35.203125 72.90625 \nL 47.609375 72.90625 \nL 47.609375 25.390625 \nL 58.015625 25.390625 \nL 58.015625 17.1875 \nL 47.609375 17.1875 \nL 47.609375 0 \nL 37.796875 0 \nL 37.796875 17.1875 \nL 4.890625 17.1875 \nL 4.890625 26.703125 \nz\n\" id=\"DejaVuSans-52\"/>\n      </defs>\n      <g transform=\"translate(13.5625 256.997007)scale(0.1 -0.1)\">\n       <use xlink:href=\"#DejaVuSans-52\"/>\n       <use x=\"63.623047\" xlink:href=\"#DejaVuSans-48\"/>\n      </g>\n     </g>\n    </g>\n    <g id=\"ytick_4\">\n     <g id=\"line2d_14\">\n      <g>\n       <use style=\"stroke:#000000;stroke-width:0.8;\" x=\"33.2875\" xlink:href=\"#m38fd6f5e53\" y=\"213.116682\"/>\n      </g>\n     </g>\n     <g id=\"text_15\">\n      <!-- 60 -->\n      <defs>\n       <path d=\"M 33.015625 40.375 \nQ 26.375 40.375 22.484375 35.828125 \nQ 18.609375 31.296875 18.609375 23.390625 \nQ 18.609375 15.53125 22.484375 10.953125 \nQ 26.375 6.390625 33.015625 6.390625 \nQ 39.65625 6.390625 43.53125 10.953125 \nQ 47.40625 15.53125 47.40625 23.390625 \nQ 47.40625 31.296875 43.53125 35.828125 \nQ 39.65625 40.375 33.015625 40.375 \nz\nM 52.59375 71.296875 \nL 52.59375 62.3125 \nQ 48.875 64.0625 45.09375 64.984375 \nQ 41.3125 65.921875 37.59375 65.921875 \nQ 27.828125 65.921875 22.671875 59.328125 \nQ 17.53125 52.734375 16.796875 39.40625 \nQ 19.671875 43.65625 24.015625 45.921875 \nQ 28.375 48.1875 33.59375 48.1875 \nQ 44.578125 48.1875 50.953125 41.515625 \nQ 57.328125 34.859375 57.328125 23.390625 \nQ 57.328125 12.15625 50.6875 5.359375 \nQ 44.046875 -1.421875 33.015625 -1.421875 \nQ 20.359375 -1.421875 13.671875 8.265625 \nQ 6.984375 17.96875 6.984375 36.375 \nQ 6.984375 53.65625 15.1875 63.9375 \nQ 23.390625 74.21875 37.203125 74.21875 \nQ 40.921875 74.21875 44.703125 73.484375 \nQ 48.484375 72.75 52.59375 71.296875 \nz\n\" id=\"DejaVuSans-54\"/>\n      </defs>\n      <g transform=\"translate(13.5625 216.915901)scale(0.1 -0.1)\">\n       <use xlink:href=\"#DejaVuSans-54\"/>\n       <use x=\"63.623047\" xlink:href=\"#DejaVuSans-48\"/>\n      </g>\n     </g>\n    </g>\n    <g id=\"ytick_5\">\n     <g id=\"line2d_15\">\n      <g>\n       <use style=\"stroke:#000000;stroke-width:0.8;\" x=\"33.2875\" xlink:href=\"#m38fd6f5e53\" y=\"173.035576\"/>\n      </g>\n     </g>\n     <g id=\"text_16\">\n      <!-- 80 -->\n      <defs>\n       <path d=\"M 31.78125 34.625 \nQ 24.75 34.625 20.71875 30.859375 \nQ 16.703125 27.09375 16.703125 20.515625 \nQ 16.703125 13.921875 20.71875 10.15625 \nQ 24.75 6.390625 31.78125 6.390625 \nQ 38.8125 6.390625 42.859375 10.171875 \nQ 46.921875 13.96875 46.921875 20.515625 \nQ 46.921875 27.09375 42.890625 30.859375 \nQ 38.875 34.625 31.78125 34.625 \nz\nM 21.921875 38.8125 \nQ 15.578125 40.375 12.03125 44.71875 \nQ 8.5 49.078125 8.5 55.328125 \nQ 8.5 64.0625 14.71875 69.140625 \nQ 20.953125 74.21875 31.78125 74.21875 \nQ 42.671875 74.21875 48.875 69.140625 \nQ 55.078125 64.0625 55.078125 55.328125 \nQ 55.078125 49.078125 51.53125 44.71875 \nQ 48 40.375 41.703125 38.8125 \nQ 48.828125 37.15625 52.796875 32.3125 \nQ 56.78125 27.484375 56.78125 20.515625 \nQ 56.78125 9.90625 50.3125 4.234375 \nQ 43.84375 -1.421875 31.78125 -1.421875 \nQ 19.734375 -1.421875 13.25 4.234375 \nQ 6.78125 9.90625 6.78125 20.515625 \nQ 6.78125 27.484375 10.78125 32.3125 \nQ 14.796875 37.15625 21.921875 38.8125 \nz\nM 18.3125 54.390625 \nQ 18.3125 48.734375 21.84375 45.5625 \nQ 25.390625 42.390625 31.78125 42.390625 \nQ 38.140625 42.390625 41.71875 45.5625 \nQ 45.3125 48.734375 45.3125 54.390625 \nQ 45.3125 60.0625 41.71875 63.234375 \nQ 38.140625 66.40625 31.78125 66.40625 \nQ 25.390625 66.40625 21.84375 63.234375 \nQ 18.3125 60.0625 18.3125 54.390625 \nz\n\" id=\"DejaVuSans-56\"/>\n      </defs>\n      <g transform=\"translate(13.5625 176.834795)scale(0.1 -0.1)\">\n       <use xlink:href=\"#DejaVuSans-56\"/>\n       <use x=\"63.623047\" xlink:href=\"#DejaVuSans-48\"/>\n      </g>\n     </g>\n    </g>\n    <g id=\"ytick_6\">\n     <g id=\"line2d_16\">\n      <g>\n       <use style=\"stroke:#000000;stroke-width:0.8;\" x=\"33.2875\" xlink:href=\"#m38fd6f5e53\" y=\"132.95447\"/>\n      </g>\n     </g>\n     <g id=\"text_17\">\n      <!-- 100 -->\n      <defs>\n       <path d=\"M 12.40625 8.296875 \nL 28.515625 8.296875 \nL 28.515625 63.921875 \nL 10.984375 60.40625 \nL 10.984375 69.390625 \nL 28.421875 72.90625 \nL 38.28125 72.90625 \nL 38.28125 8.296875 \nL 54.390625 8.296875 \nL 54.390625 0 \nL 12.40625 0 \nz\n\" id=\"DejaVuSans-49\"/>\n      </defs>\n      <g transform=\"translate(7.2 136.753689)scale(0.1 -0.1)\">\n       <use xlink:href=\"#DejaVuSans-49\"/>\n       <use x=\"63.623047\" xlink:href=\"#DejaVuSans-48\"/>\n       <use x=\"127.246094\" xlink:href=\"#DejaVuSans-48\"/>\n      </g>\n     </g>\n    </g>\n    <g id=\"ytick_7\">\n     <g id=\"line2d_17\">\n      <g>\n       <use style=\"stroke:#000000;stroke-width:0.8;\" x=\"33.2875\" xlink:href=\"#m38fd6f5e53\" y=\"92.873364\"/>\n      </g>\n     </g>\n     <g id=\"text_18\">\n      <!-- 120 -->\n      <g transform=\"translate(7.2 96.672583)scale(0.1 -0.1)\">\n       <use xlink:href=\"#DejaVuSans-49\"/>\n       <use x=\"63.623047\" xlink:href=\"#DejaVuSans-50\"/>\n       <use x=\"127.246094\" xlink:href=\"#DejaVuSans-48\"/>\n      </g>\n     </g>\n    </g>\n    <g id=\"ytick_8\">\n     <g id=\"line2d_18\">\n      <g>\n       <use style=\"stroke:#000000;stroke-width:0.8;\" x=\"33.2875\" xlink:href=\"#m38fd6f5e53\" y=\"52.792258\"/>\n      </g>\n     </g>\n     <g id=\"text_19\">\n      <!-- 140 -->\n      <g transform=\"translate(7.2 56.591477)scale(0.1 -0.1)\">\n       <use xlink:href=\"#DejaVuSans-49\"/>\n       <use x=\"63.623047\" xlink:href=\"#DejaVuSans-52\"/>\n       <use x=\"127.246094\" xlink:href=\"#DejaVuSans-48\"/>\n      </g>\n     </g>\n    </g>\n    <g id=\"ytick_9\">\n     <g id=\"line2d_19\">\n      <g>\n       <use style=\"stroke:#000000;stroke-width:0.8;\" x=\"33.2875\" xlink:href=\"#m38fd6f5e53\" y=\"12.711152\"/>\n      </g>\n     </g>\n     <g id=\"text_20\">\n      <!-- 160 -->\n      <g transform=\"translate(7.2 16.510371)scale(0.1 -0.1)\">\n       <use xlink:href=\"#DejaVuSans-49\"/>\n       <use x=\"63.623047\" xlink:href=\"#DejaVuSans-54\"/>\n       <use x=\"127.246094\" xlink:href=\"#DejaVuSans-48\"/>\n      </g>\n     </g>\n    </g>\n   </g>\n   <g id=\"patch_13\">\n    <path d=\"M 33.2875 333.36 \nL 33.2875 7.2 \n\" style=\"fill:none;stroke:#000000;stroke-linecap:square;stroke-linejoin:miter;stroke-width:0.8;\"/>\n   </g>\n   <g id=\"patch_14\">\n    <path d=\"M 479.6875 333.36 \nL 479.6875 7.2 \n\" style=\"fill:none;stroke:#000000;stroke-linecap:square;stroke-linejoin:miter;stroke-width:0.8;\"/>\n   </g>\n   <g id=\"patch_15\">\n    <path d=\"M 33.2875 333.36 \nL 479.6875 333.36 \n\" style=\"fill:none;stroke:#000000;stroke-linecap:square;stroke-linejoin:miter;stroke-width:0.8;\"/>\n   </g>\n   <g id=\"patch_16\">\n    <path d=\"M 33.2875 7.2 \nL 479.6875 7.2 \n\" style=\"fill:none;stroke:#000000;stroke-linecap:square;stroke-linejoin:miter;stroke-width:0.8;\"/>\n   </g>\n  </g>\n </g>\n <defs>\n  <clipPath id=\"pa8cb796741\">\n   <rect height=\"326.16\" width=\"446.4\" x=\"33.2875\" y=\"7.2\"/>\n  </clipPath>\n </defs>\n</svg>\n",
      "image/png": "[encoded data removed]"
     },
     "metadata": {
      "needs_background": "light"
     }
    }
   ],
   "source": [
    "# plotting of categories\n",
    "\n",
    "import matplotlib.pyplot as plt\n",
    "fig = plt.figure(figsize=(8,6))\n",
    "df.groupby('type').content.count().plot.bar(ylim=0)\n",
    "plt.show()"
   ]
  },
  {
   "cell_type": "code",
   "execution_count": 6,
   "metadata": {},
   "outputs": [
    {
     "output_type": "stream",
     "name": "stdout",
     "text": "Dataframe Dimension: 250 Rows, 18 Columns\n"
    },
    {
     "output_type": "execute_result",
     "data": {
      "text/plain": "Column   Unnamed: 0.1   id  domain  type  url  content  scraped_at  \\\nUnique            250  250      29    11  250      239           2   \nMissing             0    0       0    12    0        0           0   \n\nColumn   inserted_at  updated_at  title  authors  keywords  meta_keywords  \\\nUnique             1           1    248      110         1             36   \nMissing            0           0      0       80       250              0   \n\nColumn   meta_description  tags  summary  content_tokens  type_id  \nUnique                 52    25        1               1       11  \nMissing               196   223      250               0        0  ",
      "text/html": "<div>\n<style scoped>\n    .dataframe tbody tr th:only-of-type {\n        vertical-align: middle;\n    }\n\n    .dataframe tbody tr th {\n        vertical-align: top;\n    }\n\n    .dataframe thead th {\n        text-align: right;\n    }\n</style>\n<table border=\"1\" class=\"dataframe\">\n  <thead>\n    <tr style=\"text-align: right;\">\n      <th>Column</th>\n      <th>Unnamed: 0.1</th>\n      <th>id</th>\n      <th>domain</th>\n      <th>type</th>\n      <th>url</th>\n      <th>content</th>\n      <th>scraped_at</th>\n      <th>inserted_at</th>\n      <th>updated_at</th>\n      <th>title</th>\n      <th>authors</th>\n      <th>keywords</th>\n      <th>meta_keywords</th>\n      <th>meta_description</th>\n      <th>tags</th>\n      <th>summary</th>\n      <th>content_tokens</th>\n      <th>type_id</th>\n    </tr>\n  </thead>\n  <tbody>\n    <tr>\n      <th>Unique</th>\n      <td>250</td>\n      <td>250</td>\n      <td>29</td>\n      <td>11</td>\n      <td>250</td>\n      <td>239</td>\n      <td>2</td>\n      <td>1</td>\n      <td>1</td>\n      <td>248</td>\n      <td>110</td>\n      <td>1</td>\n      <td>36</td>\n      <td>52</td>\n      <td>25</td>\n      <td>1</td>\n      <td>1</td>\n      <td>11</td>\n    </tr>\n    <tr>\n      <th>Missing</th>\n      <td>0</td>\n      <td>0</td>\n      <td>0</td>\n      <td>12</td>\n      <td>0</td>\n      <td>0</td>\n      <td>0</td>\n      <td>0</td>\n      <td>0</td>\n      <td>0</td>\n      <td>80</td>\n      <td>250</td>\n      <td>0</td>\n      <td>196</td>\n      <td>223</td>\n      <td>250</td>\n      <td>0</td>\n      <td>0</td>\n    </tr>\n  </tbody>\n</table>\n</div>"
     },
     "metadata": {},
     "execution_count": 6
    }
   ],
   "source": [
    "# Extracting Missing Count and Unique Count by Column\n",
    "unique_count = []\n",
    "for x in df.columns:\n",
    "    unique_count.append([x,len(df[x].unique()),df[x].isnull().sum()])\n",
    "\n",
    "# print information about data\n",
    "print(\"Dataframe Dimension: {} Rows, {} Columns\".format(*df.shape))\n",
    "pd.DataFrame(unique_count, columns=[\"Column\",\"Unique\",\"Missing\"]).set_index(\"Column\").T"
   ]
  },
  {
   "cell_type": "markdown",
   "metadata": {},
   "source": [
    "### Dataset Preparation"
   ]
  },
  {
   "cell_type": "code",
   "execution_count": 7,
   "metadata": {},
   "outputs": [
    {
     "output_type": "stream",
     "name": "stdout",
     "text": "-> The United States has slashed its contribution to the UN Relief and Works Agency for Palestinian refugees by more than NUM million but still gave the agency NUM million Thats NUM million too much UNRWA has become the poster child for UN bureaucratic bloat mission creep and twisted morality\n\nUNRWA was founded in NUM to help Palestinian refugees displaced by Israels war of independence Even that decision was questionable After all putting Israels creation aside in the NUMs alone wars created more than NUM million refugees There was World War II of course but the NUM partition of India also displaced NUM million persons and created millions of refugees In the wake of Israels creation Arab states expelled hundreds of thousands of their Jews This is why the UN created the United Nations High Commissioner for Refugees to be the permanent agency charged with refugee assistance and protection\n\nIndividual Palestinian Arab families suffered dislocation and tragedy but they were hardly alone They were alone however in having a UN agency created to cater specifically to them Still when the UN created UNRWA it was meant to be a temporary agency to address a temporary problem Once it resettled Palestinian refugees its job was done and it was to shut its doors forever and dissolve\n\nIn a NUM report to the UN General Assembly UNRWA reported There must be a firm goal of terminating relief operations Sustained relief operations inevitably contain the germ of human deterioration It was right but Arab state rejectionism got in the way Arab states like Egypt Syria and Iraq quickly concluded that they could use UNRWA to perpetuate the problem to undercut normalization with Israel and to transform an aid agency into a weapon against Israel\n\nThe rest is history Both current UNRWA Commissioner General Pierre Krahenbuhl and UNRWA spokesman Chris Gunness were born years after UNRWA was meant to dissolve\n\nNor does UNRWAs track record make it worth saving While UNHCR has resettled refugees and allowed them to get on with their lives UNRWA has actively undercut settlement It has embraced a unique definition of refugee that differs with UNHCR and that is used everywhere else in the world Consider If India and Pakistan used the same definition of refugee from their partition that UNRWA embraces there would be more than NUM million refugees in South Asia today UNRWA has helped make the Palestinians the largest per capita recipient of aid on earth but has the least to show for it\n\nThe problem isnt just waste of money however Almost a quartercentury after the Palestinian Authority began UNRWA has eroded rather than supported the foundations of good governance After all if UNRWA promises to take care of housing education and support why shouldnt both the Palestinian Authority and their sometimepartner Hamas spend money on terror pensions terror tunnels and an arsenal of rockets\n\nAdd into the mix UNRWA incompetence schools used as arsenals school books teaching incitement UNRWA employees moonlighting as bomb makers and terror recruitment in UNRWA high schools and the problem is even worse UNRWA denials of complicity in such activities if taken at face value are just acknowledgment of its own poor oversight\n\nIts long past time to cut off UNRWA and ask UNHCR to take over The Palestinians deserve an apolitical agency rather than an amplifier for radicalism and waste UNRWA has become a cancer not only for those who seek peace and reconciliation but also for the entire UN system\n\nUNRWA in NUM was right Permanence is not a virtue its an impediment\n\nMichael Rubin MrubinNUM is a contributor to the Washington Examiners Beltway Confidential blog He is a resident scholar at the American Enterprise Institute and a former Pentagon official\n\nIf you would like to write an oped for the Washington Examiner please read our guidelines on submissions here\n"
    },
    {
     "output_type": "error",
     "ename": "NameError",
     "evalue": "name 'stopwords' is not defined",
     "traceback": [
      "\u001b[0;31m---------------------------------------------------------------------------\u001b[0m",
      "\u001b[0;31mNameError\u001b[0m                                 Traceback (most recent call last)",
      "\u001b[0;32m<ipython-input-7-606e031f033c>\u001b[0m in \u001b[0;36m<module>\u001b[0;34m\u001b[0m\n\u001b[1;32m     37\u001b[0m \u001b[0;34m\u001b[0m\u001b[0m\n\u001b[1;32m     38\u001b[0m \u001b[0;31m# remove stopwords - NOT DONE\u001b[0m\u001b[0;34m\u001b[0m\u001b[0;34m\u001b[0m\u001b[0;34m\u001b[0m\u001b[0m\n\u001b[0;32m---> 39\u001b[0;31m \u001b[0mstopWords\u001b[0m \u001b[0;34m=\u001b[0m \u001b[0mset\u001b[0m\u001b[0;34m(\u001b[0m\u001b[0mstopwords\u001b[0m\u001b[0;34m.\u001b[0m\u001b[0mwords\u001b[0m\u001b[0;34m(\u001b[0m\u001b[0;34m'english'\u001b[0m\u001b[0;34m)\u001b[0m\u001b[0;34m)\u001b[0m\u001b[0;34m\u001b[0m\u001b[0;34m\u001b[0m\u001b[0m\n\u001b[0m\u001b[1;32m     40\u001b[0m \u001b[0mseries_content\u001b[0m\u001b[0;34m.\u001b[0m\u001b[0mstr\u001b[0m\u001b[0;34m.\u001b[0m\u001b[0msplit\u001b[0m\u001b[0;34m(\u001b[0m\u001b[0;34m)\u001b[0m\u001b[0;34m.\u001b[0m\u001b[0mexplode\u001b[0m\u001b[0;34m(\u001b[0m\u001b[0;34m)\u001b[0m\u001b[0;34m.\u001b[0m\u001b[0misin\u001b[0m\u001b[0;34m(\u001b[0m\u001b[0mstopWords\u001b[0m\u001b[0;34m)\u001b[0m \u001b[0;34m==\u001b[0m \u001b[0;32mFalse\u001b[0m\u001b[0;34m\u001b[0m\u001b[0;34m\u001b[0m\u001b[0m\n\u001b[1;32m     41\u001b[0m \u001b[0;34m\u001b[0m\u001b[0m\n",
      "\u001b[0;31mNameError\u001b[0m: name 'stopwords' is not defined"
     ]
    }
   ],
   "source": [
    "# working with content as a series\n",
    "series_content = df['content']\n",
    "\n",
    "### preprocessing - https://www.kaggle.com/sudalairajkumar/getting-started-with-text-preprocessing ###\n",
    "# try creating super regex ie. combine alle into one - might be alot faster\n",
    "\n",
    "### replace [name] with tokens in text ###\n",
    "\n",
    "# replace URLs  with token\n",
    "regexURL= r\"(?:https?:\\/\\/)?(?:www\\.)?([^@\\s]+\\.[a-zA-Z]{2,4})[^\\s]*\"\n",
    "series_content = series_content.replace(to_replace=regexURL, value='<URL>', regex=True)\n",
    "\n",
    "# replace emails with token\n",
    "regexEmail = r\"[a-zA-Z_-]+@[a-zA-Z_-]+(?:\\.[a-zA-Z]{2,4}){1,3}\"\n",
    "series_content = series_content.replace(to_replace=regexEmail, value='<EMAIL>', regex=True)\n",
    "\n",
    "# replace dates with token\n",
    "regexDate = r\"(((19[7-9]\\d|20\\d{2})|(?:jan(?:uary)?|feb(?:ruary)?|mar(?:ch)?|apr(?:il)?|may|jun(?:e)?|jul(?:y)?|aug(?:ust)?|sep(?:tember)?|oct(?:ober)?|(nov|dec)(?:ember)?)|(([12][0-9])|(3[01])|(0?[1-9])))[\\/. \\-,\\n]){2,3}\"\n",
    "series_content = series_content.replace(to_replace=regexDate, value='<DATE>', regex=True)\n",
    "\n",
    "# replace numbers with token\n",
    "regexNum = r\"[0-9][0-9,\\.]+\" # type of nums with [0-9] and [,.]\n",
    "series_content = series_content.replace(to_replace=regexNum, value='<NUM>', regex=True)\n",
    "\n",
    "### remove chars in text ###\n",
    "# repalc \"\\n\"\n",
    "regexNL = r\"(\\\\n)\"\n",
    "series_content = series_content.replace(to_replace=regexNL, value=' ', regex=True) # inserts space instead of removing pt.\n",
    "\n",
    "# remove punctuations - remove \"<\" and \">\"\n",
    "regexPunkt = r\"[!“”\\\"#$%&()*+,\\-–.\\/:;<=>?@[\\\\\\]^_`{|}~'\\’\\']\" # also removes: \" ' \" which means it's -> its - remove \\' from regex if not needed\n",
    "series_content = series_content.replace(to_replace=regexPunkt, value='', regex=True)\n",
    "print(\"->\", series_content.iloc[0])\n",
    "\n",
    "# lower Casing - IMP lower casing is DONE my most of the modern day vecotirzers and tokenizers \n",
    "series_content = series_content.str.lower()\n",
    "\n",
    "# remove stopwords - NOT DONE\n",
    "stopWords = set(stopwords.words('english'))\n",
    "series_content.str.split().explode().isin(stopWords) == False\n",
    "\n"
   ]
  },
  {
   "cell_type": "code",
   "execution_count": 36,
   "metadata": {},
   "outputs": [
    {
     "output_type": "execute_result",
     "data": {
      "text/plain": "67     the united states has slashed its contribution...\n249    former us president bill clinton on monday cal...\n230    the real story behind marijuana prohibition\\n\\...\n161    audio sensors market analysis by current indus...\n91     headline bitcoin  blockchain searches exceed t...\n                             ...                        \n137    headline bitcoin  blockchain searches exceed t...\n72     a weird week draws to a close\\n\\nheadline bitc...\n140    how to easily understand the difference betwee...\n235    error\\n\\nmain error mesage here\\n\\nmore detail...\n37     greg hunter big banks in big trouble syrianort...\nName: content, Length: 250, dtype: object"
     },
     "metadata": {},
     "execution_count": 36
    }
   ],
   "source": [
    "series_content"
   ]
  },
  {
   "cell_type": "markdown",
   "metadata": {},
   "source": [
    "Common data cleaning steps\n",
    "- make text all lower case\n",
    "- remove puntuiation\n",
    "- remove numerical values\n",
    "- remove common non-sensial text(/n)\n",
    "- tokanize text\n",
    "\n"
   ]
  },
  {
   "cell_type": "code",
   "execution_count": 31,
   "metadata": {},
   "outputs": [
    {
     "output_type": "stream",
     "name": "stdout",
     "text": "\n (lower_cast)\nCPU times: user 5.51 ms, sys: 0 ns, total: 5.51 ms\nWall time: 5.26 ms\n\n (lower_cast)\nCPU times: user 31 ms, sys: 3.22 ms, total: 34.2 ms\nWall time: 33.5 ms\n\n (lower_cast)\nCPU times: user 1.41 ms, sys: 0 ns, total: 1.41 ms\nWall time: 1.25 ms\n\n (lower_cast)\nCPU times: user 213 ms, sys: 0 ns, total: 213 ms\nWall time: 213 ms\n\n (lower_cast)\nCPU times: user 1.41 ms, sys: 0 ns, total: 1.41 ms\nWall time: 1.36 ms\n\n (lower_cast)\nCPU times: user 6.7 ms, sys: 0 ns, total: 6.7 ms\nWall time: 6.45 ms\n\n (Email_replace)\nCPU times: user 37.8 ms, sys: 0 ns, total: 37.8 ms\nWall time: 37.7 ms\n\n (URL_replace)\nCPU times: user 105 ms, sys: 0 ns, total: 105 ms\nWall time: 105 ms\n\n (HTML_replace)\nCPU times: user 107 ms, sys: 0 ns, total: 107 ms\nWall time: 108 ms\n\n (Date_replace)\nCPU times: user 227 ms, sys: 0 ns, total: 227 ms\nWall time: 227 ms\n\n (End_of_line_remove)\n"
    },
    {
     "output_type": "error",
     "ename": "AttributeError",
     "evalue": "'function' object has no attribute 'replace'",
     "traceback": [
      "\u001b[0;31m---------------------------------------------------------------------------\u001b[0m",
      "\u001b[0;31mAttributeError\u001b[0m                            Traceback (most recent call last)",
      "\u001b[0;32m<timed exec>\u001b[0m in \u001b[0;36m<module>\u001b[0;34m\u001b[0m\n",
      "\u001b[0;32m<ipython-input-30-b2613389ad5b>\u001b[0m in \u001b[0;36mNumber_replace\u001b[0;34m(series_in)\u001b[0m\n\u001b[1;32m     34\u001b[0m     \u001b[0;34m\"\"\"Replace numbers with token\"\"\"\u001b[0m\u001b[0;34m\u001b[0m\u001b[0;34m\u001b[0m\u001b[0m\n\u001b[1;32m     35\u001b[0m     \u001b[0mregexNum\u001b[0m \u001b[0;34m=\u001b[0m \u001b[0;34mr\"[0-9][0-9,\\.]+\"\u001b[0m \u001b[0;31m# type of nums with [0-9] and [,.]\u001b[0m\u001b[0;34m\u001b[0m\u001b[0;34m\u001b[0m\u001b[0m\n\u001b[0;32m---> 36\u001b[0;31m     \u001b[0;32mreturn\u001b[0m \u001b[0mseries_in\u001b[0m\u001b[0;34m.\u001b[0m\u001b[0mreplace\u001b[0m\u001b[0;34m(\u001b[0m\u001b[0mto_replace\u001b[0m\u001b[0;34m=\u001b[0m\u001b[0mregexNum\u001b[0m\u001b[0;34m,\u001b[0m \u001b[0mvalue\u001b[0m\u001b[0;34m=\u001b[0m\u001b[0;34m'<NUM>'\u001b[0m\u001b[0;34m,\u001b[0m \u001b[0mregex\u001b[0m\u001b[0;34m=\u001b[0m\u001b[0;32mTrue\u001b[0m\u001b[0;34m)\u001b[0m\u001b[0;34m\u001b[0m\u001b[0;34m\u001b[0m\u001b[0m\n\u001b[0m\u001b[1;32m     37\u001b[0m \u001b[0mseries_content\u001b[0m\u001b[0;34m\u001b[0m\u001b[0;34m\u001b[0m\u001b[0m\n\u001b[1;32m     38\u001b[0m \u001b[0;31m### string removal functions\u001b[0m\u001b[0;34m\u001b[0m\u001b[0;34m\u001b[0m\u001b[0;34m\u001b[0m\u001b[0m\n",
      "\u001b[0;31mAttributeError\u001b[0m: 'function' object has no attribute 'replace'"
     ]
    }
   ],
   "source": [
    "# working with content as a series\n",
    "series_content = df['content']\n",
    "\n",
    "### Defining functions for cleaning\n",
    "### some functions cant be ron before others\n",
    "### CANT BE AFTER = CBA - meaning it negates the given functions\n",
    "\n",
    "### overall preprocessing\n",
    "# lower_cast - Maybe not needed - lower casing is DONE my most of the modern day vecotirzers and tokenizers\n",
    "%time print(\"\\n (lower_cast)\"); series_content = series_content.str.lower()\n",
    "\n",
    "# Email_replace\n",
    "regexEmail = r\"[a-zA-Z_-]+@[a-zA-Z_-]+(?:\\.[a-zA-Z]{2,4}){1,3}\"\n",
    "%time print(\"\\n (lower_cast)\"); series_content = series_content.replace(to_replace=regexEmail, value='<EMAIL>', regex=True)\n",
    "\n",
    "# HTML_replace\n",
    "regexHTML = r\"<\\s*a[^>]*>(.*?)<\\s*/\\s*a>\"\n",
    "%time print(\"\\n (lower_cast)\"); series_content = series_content.replace(to_replace=regexHTML, value='<HTML>', regex=True)\n",
    "\n",
    "# Date_replace\n",
    "# - name         (jan(?:uary)?|Feb(?:ruary)?|Mar(?:ch)?|Apr(?:il)?|May|Jun(?:e)?|Jul(?:y)?|Aug(?:ust)?|Sep(?:tember)?|Oct(?:ober)?|Nov(?:ember)?|Dec(?:ember)?)\n",
    "# - day in month ([12]\\d|3[01]|0?[1-9]) - Day 0-31\n",
    "# - year         ([12][0-9]{3})         - Years from 1000 to 2999\n",
    "regexDate = r\"(((19[7-9]\\d|20\\d{2})|(?:jan(?:uary)?|feb(?:ruary)?|mar(?:ch)?|apr(?:il)?|may|jun(?:e)?|jul(?:y)?|aug(?:ust)?|sep(?:tember)?|oct(?:ober)?|(nov|dec)(?:ember)?)|(([12][0-9])|(3[01])|(0?[1-9])))[\\/. \\-,\\n]){2,3}\"\n",
    "%time print(\"\\n (lower_cast)\"); series_content = series_content.replace(to_replace=regexDate, value='<DATE>', regex=True)\n",
    "\n",
    "# Number_replace\n",
    "regexNum = r\"[0-9][0-9,\\.]+\" # type of nums with [0-9] and [,.]\n",
    "series_content = series_content.replace(to_replace=regexNum, value='<NUM>', regex=True)\n",
    "\n",
    "### string removal functions\n",
    "# End_of_line_remove\n",
    "regexNL = r\"(\\\\n)\"\n",
    "%time print(\"\\n (lower_cast)\"); series_content = series_content.replace(to_replace=regexNL, value=' ', regex=True)\n",
    "\n",
    "# Punctuation_remove\n",
    "regexPunkt = r\"[!“”\\\"#$%&()*+,\\-–.\\/:;<=>?@[\\\\\\]^_`{|}~'\\’\\']\" # also removes: \" ' \" which means ie. it's -> its - remove \\' from regex if not needed\n",
    "series_content = series_content.replace(to_replace=regexPunkt, value='', regex=True)\n",
    "\n",
    "def remove_stopwords(text): # words like 'the', 'a', 'me' - SLOW\n",
    "    \"\"\"custom function to remove the stopwords\"\"\"\n",
    "    STOPWORDS = set(stopwords.words('english'))\n",
    "    return \" \".join([word for word in str(text).split() if word not in STOPWORDS])\n",
    "\n",
    "\n",
    "\n",
    "\n",
    "\n",
    "\n",
    "\n",
    "\n",
    "# execute and time - comment out to NOT run\n",
    "# forma: %time print(func_name) series=func(series)\n",
    "\n",
    "\n",
    "%time print(\"\\n (lower_cast)\");     series_content = lower_cast     (series_content)\n",
    "\n",
    "%time print(\"\\n (Email_replace)\");      series_content = Email_replace  (series_content)\n",
    "%time print(\"\\n (URL_replace)\");        series_content = URL_replace    (series_content)\n",
    "%time print(\"\\n (HTML_replace)\");       series_content = URL_replace    (series_content)\n",
    "%time print(\"\\n (Date_replace)\");       series_content = Date_replace   (series_content)\n",
    "%time print(\"\\n (End_of_line_remove)\"); series_content = Number_replace (End_of_line_remove)\n",
    "%time print(\"\\n (Number_replace)\");     series_content = Number_replace (series_content)\n",
    "\n",
    "\n",
    "# %time print(\"\\n (End_of_line_remove)\");     series_content = End_of_line_remove (series_content)\n",
    "\n",
    "print(\"\\n (Done cleaning)\")\n",
    "# series_content.iloc[1]"
   ]
  },
  {
   "cell_type": "code",
   "execution_count": 13,
   "metadata": {},
   "outputs": [
    {
     "output_type": "execute_result",
     "data": {
      "text/plain": "'audio sensors market analysis by current industry status & growth opportunities, top key players, target audience and forecast to <NUM>\\n\\n% of readers think this story is fact. add your two cents.\\n\\nheadline: bitcoin & blockchain searches exceed trump! blockchain stocks are next!\\n\\naudio sensors market is expected to witness growth of international market with respect to advancements and innovations including development history, competitive analysis and regional development forecast.\\n\\nthe report starts with a basic audio sensors market overview. in this introductory section, the research report incorporates analysis of definitions, classifications, applications and industry chain structure.\\n\\nin depth analysis of audio sensors market is a crucial thing for various stakeholders like investors, ceos, traders, suppliers and others.\\n\\nbrowse more detail information about audio sensors market at: <URL>\\n\\nto begin with, the report elaborates the audio sensors market overview. various definitions and classification of the industry, applications of the industry and chain structure are given. present day status of the audio sensors market in key regions is stated and industry policies and news are analysed.\\n\\nnext part of the audio sensors market analysis report speaks about the manufacturing process. the process is analysed thoroughly with respect three points, viz. raw material and equipment suppliers, various manufacturing associated costs (material cost, labour cost, etc.) and the actual process.\\n\\nfollowing are the key players covered in this audio sensors market research report:\\n\\nanalog devices inc.\\n\\non semiconductor\\n\\nmolex\\n\\nte connectivity\\n\\nadvantech\\n\\nquora\\n\\nstmicroconductor\\n\\ncui inc.\\n\\ndigilent\\n\\npui audio\\n\\ncirrus logic\\n\\nand many others……\\n\\nget a pdf sample of audio sensors market research report at: <URL>\\n\\nafter the basic information, the audio sensors market report sheds light on the production. production plants, their capacities, global production and revenue are studied. also, the audio sensors market growth in various regions and r&d status are also covered.\\n\\nfollowing are major table of content of audio sensors industry:\\n\\n• audio sensors market competition by manufacturers\\n\\n• audio sensors production, revenue (value) by region (<NUM>-<NUM>)\\n\\n• audio sensors supply (production), consumption, export, import by regions (<NUM>-<NUM>)\\n\\n• audio sensors production, revenue (value), price trend by type\\n\\n• audio sensors market analysis by application\\n\\n• audio sensors manufacturers profiles/analysis\\n\\n• audio sensors manufacturing cost analysis\\n\\n• industrial chain, sourcing strategy and downstream buyers\\n\\npurchase audio sensors market report at: <URL>\\n\\nfurther in the audio sensors market industry analysis report, the audio sensors market is examined for price, cost and gross capacity. these three points are analysed for types, companies and regions. in continuation with this data sale price for various types, applications and region is also included. the audio sensors market for major regions is given.\\n\\nscope of the audio sensors industry on the basis of region:\\n\\nnorth america\\n\\neurope\\n\\nchina\\n\\njapan\\n\\nkorea\\n\\ntaiwan\\n\\nadditionally, type wise and application wise consumption figures are also given. with the help of supply and consumption data, gap between these two is also explained.\\n\\nto provide information on competitive landscape, this report includes detailed profiles of audio sensors market key players. for each player, product details, capacity, price, cost, gross and revenue numbers are given. their contact information is provided for better understanding.\\n\\nin audio sensors market report analysis, traders and distributors analysis is given along with contact details. for material and equipment suppliers also, contact details are given. new investment feasibility analysis and audio sensors market industry growth is included in the report.\\n\\nno. of pages: <NUM>\\n\\nprice of report: $<NUM> (single user licence)'"
     },
     "metadata": {},
     "execution_count": 13
    }
   ],
   "source": [
    "series_content.iloc[3]"
   ]
  },
  {
   "cell_type": "code",
   "execution_count": 100,
   "metadata": {},
   "outputs": [],
   "source": [
    "# series_content[series_content['content'].apply(regexDate)]\n",
    "\n",
    "df1 =series_content.str.extract(r\"(?:https?:\\/\\/)?(?:www\\.)?([^@\\s]+\\.[a-zA-Z]{2,4})[^\\s]*\").isnull()"
   ]
  },
  {
   "cell_type": "code",
   "execution_count": 106,
   "metadata": {},
   "outputs": [],
   "source": [
    "df1['mask'] = series_content.str.contains('(\\d+[A-Z]+\\d+)')\n"
   ]
  },
  {
   "cell_type": "code",
   "execution_count": 113,
   "metadata": {},
   "outputs": [],
   "source": [
    "pat = r\"(?:https?:\\/\\/)?(?:www\\.)?([^@\\s]+\\.[a-zA-Z]{2,4})[^\\s]*\"\n",
    "df_bool = series_content.str.contains(pat)"
   ]
  },
  {
   "cell_type": "code",
   "execution_count": 117,
   "metadata": {},
   "outputs": [],
   "source": [
    "result = pd.DataFrame(series_content.str.extract(r'([\\d]+)',expand=False))\n"
   ]
  },
  {
   "cell_type": "code",
   "execution_count": 67,
   "metadata": {},
   "outputs": [
    {
     "output_type": "stream",
     "name": "stdout",
     "text": "Elapsed time: 7556.248846449 7554.760254202\n"
    }
   ],
   "source": [
    "from time import perf_counter \n",
    "t1_start = perf_counter()  \n",
    "# replace URLs  with token\n",
    "regexURL= r\"(?:https?:\\/\\/)?(?:www\\.)?([^@\\s]+\\.[a-zA-Z]{2,4})[^\\s]*\"\n",
    "series_content = series_content.replace(to_replace=regexURL, value='<URL>', regex=True)\n",
    "\n",
    "# Stop the stopwatch / counter \n",
    "t1_stop = perf_counter() \n",
    "  \n",
    "print(\"Elapsed time:\", t1_stop, t1_start)  "
   ]
  },
  {
   "cell_type": "code",
   "execution_count": 70,
   "metadata": {},
   "outputs": [],
   "source": [
    "import time\n",
    " \n",
    "class MeasureDuration:\n",
    "    def __init__(self):\n",
    "        self.start = None\n",
    "        self.end = None\n",
    " \n",
    "    def __enter__(self):\n",
    "        self.start = time.time()\n",
    "        return self\n",
    " \n",
    "    def __exit__(self, exc_type, exc_val, exc_tb):\n",
    "        self.end = time.time()\n",
    "        print(\"Total time taken: %s\" % self.duration())\n",
    " \n",
    "    def duration(self):\n",
    "        return str((self.end - self.start) * 1000) + ' milliseconds'"
   ]
  },
  {
   "cell_type": "code",
   "execution_count": 1,
   "metadata": {},
   "outputs": [],
   "source": [
    "from time import time\n",
    "\n",
    "class Timer():\n",
    "    def __init__(self, message):\n",
    "        self.message = message\n",
    "    def __enter__(self):\n",
    "        self.start = time()\n",
    "        return None  # could return anything, to be used like this: with Timer(\"Message\") as value:\n",
    "    def __exit__(self, type, value, traceback):\n",
    "        elapsed_time = (time() - self.start) * 1000\n",
    "        print(self.message.format(elapsed_time))"
   ]
  },
  {
   "cell_type": "code",
   "execution_count": 46,
   "metadata": {},
   "outputs": [],
   "source": [
    "df = pd.DataFrame({'x': [1, 2, 3, 4], 'y': [5, 6, 7, 8]})\n",
    "\n",
    "# runs on single core\n",
    "df['x2'] = df['x'].apply(lambda x: x**2)\n",
    "# runs on multiple cores\n",
    "df['x2'] = df['x'].swifter.apply(lambda x: x**2)"
   ]
  },
  {
   "cell_type": "code",
   "execution_count": null,
   "metadata": {},
   "outputs": [],
   "source": []
  },
  {
   "cell_type": "code",
   "execution_count": 7,
   "metadata": {},
   "outputs": [
    {
     "output_type": "execute_result",
     "data": {
      "text/plain": "(5000, 39001)"
     },
     "metadata": {},
     "execution_count": 7
    }
   ],
   "source": [
    "from sklearn.feature_extraction.text import TfidfVectorizer\n",
    "\n",
    "# sublinear_df is set to True to use a logarithmic form for frequency\n",
    "# min_df is the minimum numbers of documents a word must be present in to be kept\n",
    "# norm is set to l2, to ensure all our feature vectors have a euclidian norm of 1.\n",
    "# ngram_range is set to (1, 2) to indicate that we want to consider both unigrams and bigrams\n",
    "# stop_words is set to \"english\" to remove all common pronouns (\"a\", \"the\", ...) to reduce the number of noisy features.\n",
    "tfidf = TfidfVectorizer(sublinear_tf=True, min_df=5, norm='l2', encoding='latin-1', ngram_range=(1, 2), stop_words='english')\n",
    "\n",
    "features = tfidf.fit_transform(df.content).toarray()\n",
    "labels = df.type_id\n",
    "features.shape"
   ]
  },
  {
   "cell_type": "code",
   "execution_count": 8,
   "metadata": {},
   "outputs": [
    {
     "output_type": "error",
     "ename": "SyntaxError",
     "evalue": "invalid syntax (<ipython-input-8-8ae1abe34dc4>, line 10)",
     "traceback": [
      "\u001b[0;36m  File \u001b[0;32m\"<ipython-input-8-8ae1abe34dc4>\"\u001b[0;36m, line \u001b[0;32m10\u001b[0m\n\u001b[0;31m    X_train_tfidf = tfidf_transformer.fit_transform(X_train_counts)clf = MultinomialNB().fit(X_train_tfidf, y_train)\u001b[0m\n\u001b[0m                                                                     ^\u001b[0m\n\u001b[0;31mSyntaxError\u001b[0m\u001b[0;31m:\u001b[0m invalid syntax\n"
     ]
    }
   ],
   "source": [
    "from sklearn.model_selection import train_test_split\n",
    "from sklearn.feature_extraction.text import CountVectorizer\n",
    "from sklearn.feature_extraction.text import TfidfTransformer\n",
    "from sklearn.naive_bayes import MultinomialNB\n",
    "\n",
    "X_train, X_test, y_train, y_test = train_test_split(df['type_id'], df['content'], random_state = 0)\n",
    "count_vect = CountVectorizer()\n",
    "X_train_counts = count_vect.fit_transform(X_train)\n",
    "tfidf_transformer = TfidfTransformer()\n",
    "X_train_tfidf = tfidf_transformer.fit_transform(X_train_counts)clf = MultinomialNB().fit(X_train_tfidf, y_train)"
   ]
  },
  {
   "cell_type": "code",
   "execution_count": null,
   "metadata": {},
   "outputs": [],
   "source": [
    "def remove_stopwords(text): # words like 'the', 'a', 'me' - SLOW\n",
    "    \"\"\"custom function to remove the stopwords\"\"\"\n",
    "    STOPWORDS = set(stopwords.words('english'))\n",
    "    return \" \".join([word for word in str(text).split() if word not in STOPWORDS])\n",
    "\n",
    "# def lower_cast(series_in): # Maybe not needed - lower casing is DONE my most of the modern day vecotirzers and tokenizers\n",
    "#     \"\"\"Lower Casing\"\"\"\n",
    "#     return series_in.str.lower()\n",
    "\n",
    "# def Email_replace(series_in):\n",
    "#     \"\"\"Replace emails with token\"\"\"\n",
    "#     regexEmail = r\"[a-zA-Z_-]+@[a-zA-Z_-]+(?:\\.[a-zA-Z]{2,4}){1,3}\"\n",
    "#     return series_in.replace(to_replace=regexEmail, value='<EMAIL>', regex=True)\n",
    "\n",
    "# def HTML_replace(series_in):\n",
    "#     \"\"\"REpalce HTML wiith token\"\"\"\n",
    "#     regexHTML = r\"<\\s*a[^>]*>(.*?)<\\s*/\\s*a>\"\n",
    "#     return series_in.replace(to_replace=regexHTML, value='<HTML>', regex=True)\n",
    "\n",
    "# def Date_replace(series_in): # NOT WORKING PROBABLY - needs to be recreated\n",
    "#     \"\"\"Replace dates with token\"\"\"\n",
    "#     # name         (jan(?:uary)?|Feb(?:ruary)?|Mar(?:ch)?|Apr(?:il)?|May|Jun(?:e)?|Jul(?:y)?|Aug(?:ust)?|Sep(?:tember)?|Oct(?:ober)?|Nov(?:ember)?|Dec(?:ember)?)\n",
    "#     # day in month ([12]\\d|3[01]|0?[1-9]) - Day 0-31\n",
    "#     # year         ([12][0-9]{3})         - Years from 1000 to 2999\n",
    "#     regexDate = r\"(((19[7-9]\\d|20\\d{2})|(?:jan(?:uary)?|feb(?:ruary)?|mar(?:ch)?|apr(?:il)?|may|jun(?:e)?|jul(?:y)?|aug(?:ust)?|sep(?:tember)?|oct(?:ober)?|(nov|dec)(?:ember)?)|(([12][0-9])|(3[01])|(0?[1-9])))[\\/. \\-,\\n]){2,3}\"\n",
    "#     return series_in.replace(to_replace=regexDate, value='<DATE>', regex=True)\n",
    "\n",
    "# def Number_replace(series_in): \n",
    "#     \"\"\"Replace numbers with token\"\"\"\n",
    "#     regexNum = r\"[0-9][0-9,\\.]+\" # type of nums with [0-9] and [,.]\n",
    "#     return series_in.replace(to_replace=regexNum, value='<NUM>', regex=True)\n",
    "\n",
    "# def End_of_line_remove(series_in):\n",
    "#     \"\"\"Remove end_of_line \\n\"\"\"\n",
    "#     regexNL = r\"(\\\\n)\"\n",
    "#     return series_in.replace(to_replace=regexNL, value=' ', regex=True)\n",
    "\n",
    "# def Punctuation_remove(series_in): \n",
    "#     \"\"\"Remove punctuations\"\"\"\n",
    "#     regexPunkt = r\"[!“”\\\"#$%&()*+,\\-–.\\/:;<=>?@[\\\\\\]^_`{|}~'\\’\\']\" # also removes: \" ' \" which means ie. it's -> its - remove \\' from regex if not needed\n",
    "#     series_in.replace(to_replace=regexPunkt, value='', regex=True)\n"
   ]
  }
 ],
 "metadata": {
  "kernelspec": {
   "display_name": "Python 3.8.3 64-bit ('DS': conda)",
   "language": "python",
   "name": "python38364bitdsconda84862e90309c4c22a12caae225d7d73a"
  },
  "language_info": {
   "codemirror_mode": {
    "name": "ipython",
    "version": 3
   },
   "file_extension": ".py",
   "mimetype": "text/x-python",
   "name": "python",
   "nbconvert_exporter": "python",
   "pygments_lexer": "ipython3",
   "version": "3.8.3-final"
  }
 },
 "nbformat": 4,
 "nbformat_minor": 4
}