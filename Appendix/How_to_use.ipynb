{
 "cells": [
  {
   "cell_type": "markdown",
   "metadata": {},
   "source": [
    "## General info on how to organize and make code execute on all comupters\n",
    "\n",
    "All code to generate and setup an envioment should be possible on any PC with all starting files ie. no it works on my PC which means:\n",
    "\n",
    "All files should be located inside\n",
    "- Manual\n",
    "- Code\n",
    "- Data_git_ignore\n",
    "- Data_sample\n",
    "\n",
    "All scripts should if they can refer to the folders above using relative paths.\n",
    "\n",
    "Data-files too large(<100MB) should be located inside [Data_git_ignore] as github can't sync them. All smaller data can be in [Data_sample]"
   ]
  },
  {
   "cell_type": "markdown",
   "metadata": {},
   "source": [
    "## Using the terminal from a notebook\n",
    "You can use the terminal from a notebook by setting a whole cell as a terminal input by using %%bash. This should work on macOS and Linux but NOT Windows \n",
    "\n",
    "Below is an example of using the terminal"
   ]
  },
  {
   "cell_type": "code",
   "execution_count": 4,
   "metadata": {},
   "outputs": [
    {
     "output_type": "stream",
     "name": "stdout",
     "text": "Code\nData_git_ignore\nData_sample\nGuide.ipynb\nManual\n"
    }
   ],
   "source": [
    "%%bash\n",
    "ls"
   ]
  },
  {
   "cell_type": "markdown",
   "metadata": {},
   "source": [
    "## Using relative path to movee files using \n",
    "\n",
    "The reson for using relative paths is that it will work on all computeres such that we only work on files inside appendix.\n",
    "\n",
    "You can move files within the notebook using:\n",
    "- import os     # Read filepaths\n",
    "- import shutil # Move files\n",
    "\n",
    "**OR**\n",
    "\n",
    "I have provided a function that that moves any file from relative path [src] to relative path [dst] and gives debug info. Use it if a script/notebook can't generate a file in the correct location.\n",
    "\n",
    "Example:\n",
    "Inside \"How_to_use.ipynb\" I have to move \"move.txt\" from \"Code/Wiki_News_Scrapy/\" to \"Data_sample/\" and back\n",
    "\n",
    "Below is the example moving it back and forth"
   ]
  },
  {
   "cell_type": "code",
   "execution_count": 13,
   "metadata": {},
   "outputs": [
    {
     "output_type": "stream",
     "name": "stdout",
     "text": "### Fst move ###\nMoving: move.txt\n- From src: Code/Wiki_News_Scrapy/\n- Into dst: Data_sample/\n\nAfter\n- Files in src: ['Wiki_News_Scrapy', 'README.md', 'text_for_DS_5.md', 'scrapy.cfg']\n- Files in dst: ['git_ignore.txt', 'move.txt', 'wiki_news_nr_12_raw.csv']\n\n\n### Snd move ###\nMoving: move.txt\n- From src: Data_sample/\n- Into dst: Code/Wiki_News_Scrapy/\n\nAfter\n- Files in src: ['git_ignore.txt', 'wiki_news_nr_12_raw.csv']\n- Files in dst: ['move.txt', 'Wiki_News_Scrapy', 'README.md', 'text_for_DS_5.md', 'scrapy.cfg']\n"
    }
   ],
   "source": [
    "import sys\n",
    "sys.path.append('../Code')\n",
    "\n",
    "from Code.move_module import move # import move func defined locally\n",
    "\n",
    "print(\"### Fst move ###\")\n",
    "move('move.txt', 'Code/Wiki_News_Scrapy/', 'Data_sample/')\n",
    "print(\"\\n\\n### Snd move ###\")\n",
    "move('move.txt', 'Data_sample/', 'Code/Wiki_News_Scrapy/')"
   ]
  },
  {
   "cell_type": "markdown",
   "metadata": {},
   "source": [
    "### Generally when using move() from inside [Manual] the relative paths will be\n",
    "- ../Manual/\n",
    "- ../Code/\n",
    "- ../Data_sample/\n",
    "- ../Data_git_ignore/\n",
    "\n",
    "**And to import the module:**\n",
    "\n",
    "import sys\n",
    "\n",
    "sys.path.append('Code')\n",
    "\n",
    "from move_module import move # import move func defined locally\n",
    "\n",
    "move()\n",
    "\n"
   ]
  },
  {
   "cell_type": "code",
   "execution_count": null,
   "metadata": {},
   "outputs": [],
   "source": []
  }
 ],
 "metadata": {
  "kernelspec": {
   "display_name": "Python 3.8.2 64-bit",
   "language": "python",
   "name": "python38264bit37cd1e95e39a4efba51fa9017060ef90"
  },
  "language_info": {
   "codemirror_mode": {
    "name": "ipython",
    "version": 3
   },
   "file_extension": ".py",
   "mimetype": "text/x-python",
   "name": "python",
   "nbconvert_exporter": "python",
   "pygments_lexer": "ipython3",
   "version": "3.8.2-final"
  }
 },
 "nbformat": 4,
 "nbformat_minor": 4
}