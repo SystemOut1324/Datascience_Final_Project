{
 "cells": [
  {
   "cell_type": "code",
   "execution_count": 2,
   "metadata": {},
   "outputs": [],
   "source": [
    "import nltk\n",
    "import pandas as pd\n",
    "import numpy as np\n",
    "import re\n",
    "import string\n",
    "import spacy\n",
    "import sklearn\n",
    "from sklearn.svm import LinearSVC\n",
    "from sklearn.model_selection import train_test_split"
   ]
  },
  {
   "cell_type": "code",
   "execution_count": 2,
   "metadata": {},
   "outputs": [
    {
     "output_type": "execute_result",
     "data": {
      "text/plain": "           id              domain        type  \\\n0           2       express.co.uk       rumor   \n1           6  barenakedislam.com        hate   \n2           7  barenakedislam.com        hate   \n3           8  barenakedislam.com        hate   \n4           9  barenakedislam.com        hate   \n...       ...                 ...         ...   \n9895  1170082       wikileaks.org  unreliable   \n9906  1170093       wikileaks.org  unreliable   \n9913  1170100       wikileaks.org  unreliable   \n9923  1170110       wikileaks.org  unreliable   \n9927  1170114       express.co.uk       rumor   \n\n                                                    url  \\\n0     https://www.express.co.uk/news/science/738402/...   \n1     http://barenakedislam.com/category/donald-trum...   \n2     http://barenakedislam.com/category/donald-trum...   \n3     http://barenakedislam.com/2017/12/24/more-winn...   \n4     http://barenakedislam.com/2017/12/25/oh-trump-...   \n...                                                 ...   \n9895  https://www.wikileaks.org/plusd/cables/1974ATO...   \n9906  https://www.wikileaks.org/plusd/cables/1976ABU...   \n9913  https://www.wikileaks.org/plusd/cables/1976ANK...   \n9923  https://www.wikileaks.org/plusd/cables/1976ROM...   \n9927  https://www.express.co.uk/celebrity-news/56649...   \n\n                                                content  \\\n0     Life is an illusion, at least on a quantum lev...   \n1     Unfortunately, he hasn’t yet attacked her for ...   \n2     The Los Angeles Police Department has been den...   \n3     The White House has decided to quietly withdra...   \n4     “The time has come to cut off the tongues of t...   \n...                                                 ...   \n9895  Raw content\\n\\nPAGE 01 NATO 05116 01 OF 02 201...   \n9906  Raw content\\n\\nCONFIDENTIAL PAGE 01 ABU DH 000...   \n9913  Raw content\\n\\nCONFIDENTIAL PAGE 01 ANKARA 019...   \n9923  Raw content\\n\\nLIMITED OFFICIAL USE PAGE 01 RO...   \n9927  FLYNET Eddie looked unrecognisable as Einar We...   \n\n                      scraped_at                 inserted_at  \\\n0     2018-01-25 16:17:44.789555  2018-02-02 01:19:41.756632   \n1     2018-01-25 16:17:44.789555  2018-02-02 01:19:41.756632   \n2     2018-01-25 16:17:44.789555  2018-02-02 01:19:41.756632   \n3     2018-01-25 16:17:44.789555  2018-02-02 01:19:41.756632   \n4     2018-01-25 16:17:44.789555  2018-02-02 01:19:41.756632   \n...                          ...                         ...   \n9895  2018-01-25 20:13:50.426130  2018-02-02 01:19:41.756632   \n9906  2018-01-25 20:13:50.426130  2018-02-02 01:19:41.756632   \n9913  2018-01-25 20:13:50.426130  2018-02-02 01:19:41.756632   \n9923  2018-01-25 20:13:50.426130  2018-02-02 01:19:41.756632   \n9927  2018-01-25 20:13:50.426130  2018-02-02 01:19:41.756632   \n\n                      updated_at  \\\n0     2018-02-02 01:19:41.756664   \n1     2018-02-02 01:19:41.756664   \n2     2018-02-02 01:19:41.756664   \n3     2018-02-02 01:19:41.756664   \n4     2018-02-02 01:19:41.756664   \n...                          ...   \n9895  2018-02-02 01:19:41.756664   \n9906  2018-02-02 01:19:41.756664   \n9913  2018-02-02 01:19:41.756664   \n9923  2018-02-02 01:19:41.756664   \n9927  2018-02-02 01:19:41.756664   \n\n                                                  title  \\\n0     Is life an ILLUSION? Researchers prove 'realit...   \n1                                          Donald Trump   \n2                                          Donald Trump   \n3     MORE WINNING! Israeli intelligence source, DEB...   \n4     “Oh, Trump, you coward, you just wait, we will...   \n...                                                 ...   \n9895                                Cable: 1974ATO05116   \n9906                              Cable: 1976ABUDH00021   \n9913                             Cable: 1976ANKARA01989   \n9923                               Cable: 1976ROME16372   \n9927  Eddie Redmayne looks ultra feminine as transge...   \n\n                                                authors  keywords  \\\n0                                           Sean Martin       NaN   \n1     Linda Rivera, Conrad Calvano, Az Gal, Lincoln ...       NaN   \n2     Linda Rivera, Conrad Calvano, Az Gal, Lincoln ...       NaN   \n3     Cleavis Nowell, Cleavisnowell, Clarence J. Fei...       NaN   \n4     F.N. Lehner, Don Spilman, Clarence J. Feinour,...       NaN   \n...                                                 ...       ...   \n9895                                                NaN       NaN   \n9906                                                NaN       NaN   \n9913                                                NaN       NaN   \n9923                                                NaN       NaN   \n9927                                        Annie Price       NaN   \n\n     meta_keywords                                   meta_description  \\\n0             ['']  THE UNIVERSE ceases to exist when we are not l...   \n1             ['']                                                NaN   \n2             ['']                                                NaN   \n3             ['']                                                NaN   \n4             ['']                                                NaN   \n...            ...                                                ...   \n9895          ['']                                                NaN   \n9906          ['']                                                NaN   \n9913          ['']                                                NaN   \n9923          ['']                                                NaN   \n9927          ['']  FOR his last role Eddie Redmayne transformed h...   \n\n           tags  summary  source  type_id  \n0           NaN      NaN     NaN        8  \n1           NaN      NaN     NaN        4  \n2           NaN      NaN     NaN        4  \n3           NaN      NaN     NaN        4  \n4           NaN      NaN     NaN        4  \n...         ...      ...     ...      ...  \n9895  View Tags      NaN     NaN       11  \n9906  View Tags      NaN     NaN       11  \n9913  View Tags      NaN     NaN       11  \n9923  View Tags      NaN     NaN       11  \n9927        NaN      NaN     NaN        8  \n\n[628202 rows x 17 columns]",
      "text/html": "<div>\n<style scoped>\n    .dataframe tbody tr th:only-of-type {\n        vertical-align: middle;\n    }\n\n    .dataframe tbody tr th {\n        vertical-align: top;\n    }\n\n    .dataframe thead th {\n        text-align: right;\n    }\n</style>\n<table border=\"1\" class=\"dataframe\">\n  <thead>\n    <tr style=\"text-align: right;\">\n      <th></th>\n      <th>id</th>\n      <th>domain</th>\n      <th>type</th>\n      <th>url</th>\n      <th>content</th>\n      <th>scraped_at</th>\n      <th>inserted_at</th>\n      <th>updated_at</th>\n      <th>title</th>\n      <th>authors</th>\n      <th>keywords</th>\n      <th>meta_keywords</th>\n      <th>meta_description</th>\n      <th>tags</th>\n      <th>summary</th>\n      <th>source</th>\n      <th>type_id</th>\n    </tr>\n  </thead>\n  <tbody>\n    <tr>\n      <th>0</th>\n      <td>2</td>\n      <td>express.co.uk</td>\n      <td>rumor</td>\n      <td>https://www.express.co.uk/news/science/738402/...</td>\n      <td>Life is an illusion, at least on a quantum lev...</td>\n      <td>2018-01-25 16:17:44.789555</td>\n      <td>2018-02-02 01:19:41.756632</td>\n      <td>2018-02-02 01:19:41.756664</td>\n      <td>Is life an ILLUSION? Researchers prove 'realit...</td>\n      <td>Sean Martin</td>\n      <td>NaN</td>\n      <td>['']</td>\n      <td>THE UNIVERSE ceases to exist when we are not l...</td>\n      <td>NaN</td>\n      <td>NaN</td>\n      <td>NaN</td>\n      <td>8</td>\n    </tr>\n    <tr>\n      <th>1</th>\n      <td>6</td>\n      <td>barenakedislam.com</td>\n      <td>hate</td>\n      <td>http://barenakedislam.com/category/donald-trum...</td>\n      <td>Unfortunately, he hasn’t yet attacked her for ...</td>\n      <td>2018-01-25 16:17:44.789555</td>\n      <td>2018-02-02 01:19:41.756632</td>\n      <td>2018-02-02 01:19:41.756664</td>\n      <td>Donald Trump</td>\n      <td>Linda Rivera, Conrad Calvano, Az Gal, Lincoln ...</td>\n      <td>NaN</td>\n      <td>['']</td>\n      <td>NaN</td>\n      <td>NaN</td>\n      <td>NaN</td>\n      <td>NaN</td>\n      <td>4</td>\n    </tr>\n    <tr>\n      <th>2</th>\n      <td>7</td>\n      <td>barenakedislam.com</td>\n      <td>hate</td>\n      <td>http://barenakedislam.com/category/donald-trum...</td>\n      <td>The Los Angeles Police Department has been den...</td>\n      <td>2018-01-25 16:17:44.789555</td>\n      <td>2018-02-02 01:19:41.756632</td>\n      <td>2018-02-02 01:19:41.756664</td>\n      <td>Donald Trump</td>\n      <td>Linda Rivera, Conrad Calvano, Az Gal, Lincoln ...</td>\n      <td>NaN</td>\n      <td>['']</td>\n      <td>NaN</td>\n      <td>NaN</td>\n      <td>NaN</td>\n      <td>NaN</td>\n      <td>4</td>\n    </tr>\n    <tr>\n      <th>3</th>\n      <td>8</td>\n      <td>barenakedislam.com</td>\n      <td>hate</td>\n      <td>http://barenakedislam.com/2017/12/24/more-winn...</td>\n      <td>The White House has decided to quietly withdra...</td>\n      <td>2018-01-25 16:17:44.789555</td>\n      <td>2018-02-02 01:19:41.756632</td>\n      <td>2018-02-02 01:19:41.756664</td>\n      <td>MORE WINNING! Israeli intelligence source, DEB...</td>\n      <td>Cleavis Nowell, Cleavisnowell, Clarence J. Fei...</td>\n      <td>NaN</td>\n      <td>['']</td>\n      <td>NaN</td>\n      <td>NaN</td>\n      <td>NaN</td>\n      <td>NaN</td>\n      <td>4</td>\n    </tr>\n    <tr>\n      <th>4</th>\n      <td>9</td>\n      <td>barenakedislam.com</td>\n      <td>hate</td>\n      <td>http://barenakedislam.com/2017/12/25/oh-trump-...</td>\n      <td>“The time has come to cut off the tongues of t...</td>\n      <td>2018-01-25 16:17:44.789555</td>\n      <td>2018-02-02 01:19:41.756632</td>\n      <td>2018-02-02 01:19:41.756664</td>\n      <td>“Oh, Trump, you coward, you just wait, we will...</td>\n      <td>F.N. Lehner, Don Spilman, Clarence J. Feinour,...</td>\n      <td>NaN</td>\n      <td>['']</td>\n      <td>NaN</td>\n      <td>NaN</td>\n      <td>NaN</td>\n      <td>NaN</td>\n      <td>4</td>\n    </tr>\n    <tr>\n      <th>...</th>\n      <td>...</td>\n      <td>...</td>\n      <td>...</td>\n      <td>...</td>\n      <td>...</td>\n      <td>...</td>\n      <td>...</td>\n      <td>...</td>\n      <td>...</td>\n      <td>...</td>\n      <td>...</td>\n      <td>...</td>\n      <td>...</td>\n      <td>...</td>\n      <td>...</td>\n      <td>...</td>\n      <td>...</td>\n    </tr>\n    <tr>\n      <th>9895</th>\n      <td>1170082</td>\n      <td>wikileaks.org</td>\n      <td>unreliable</td>\n      <td>https://www.wikileaks.org/plusd/cables/1974ATO...</td>\n      <td>Raw content\\n\\nPAGE 01 NATO 05116 01 OF 02 201...</td>\n      <td>2018-01-25 20:13:50.426130</td>\n      <td>2018-02-02 01:19:41.756632</td>\n      <td>2018-02-02 01:19:41.756664</td>\n      <td>Cable: 1974ATO05116</td>\n      <td>NaN</td>\n      <td>NaN</td>\n      <td>['']</td>\n      <td>NaN</td>\n      <td>View Tags</td>\n      <td>NaN</td>\n      <td>NaN</td>\n      <td>11</td>\n    </tr>\n    <tr>\n      <th>9906</th>\n      <td>1170093</td>\n      <td>wikileaks.org</td>\n      <td>unreliable</td>\n      <td>https://www.wikileaks.org/plusd/cables/1976ABU...</td>\n      <td>Raw content\\n\\nCONFIDENTIAL PAGE 01 ABU DH 000...</td>\n      <td>2018-01-25 20:13:50.426130</td>\n      <td>2018-02-02 01:19:41.756632</td>\n      <td>2018-02-02 01:19:41.756664</td>\n      <td>Cable: 1976ABUDH00021</td>\n      <td>NaN</td>\n      <td>NaN</td>\n      <td>['']</td>\n      <td>NaN</td>\n      <td>View Tags</td>\n      <td>NaN</td>\n      <td>NaN</td>\n      <td>11</td>\n    </tr>\n    <tr>\n      <th>9913</th>\n      <td>1170100</td>\n      <td>wikileaks.org</td>\n      <td>unreliable</td>\n      <td>https://www.wikileaks.org/plusd/cables/1976ANK...</td>\n      <td>Raw content\\n\\nCONFIDENTIAL PAGE 01 ANKARA 019...</td>\n      <td>2018-01-25 20:13:50.426130</td>\n      <td>2018-02-02 01:19:41.756632</td>\n      <td>2018-02-02 01:19:41.756664</td>\n      <td>Cable: 1976ANKARA01989</td>\n      <td>NaN</td>\n      <td>NaN</td>\n      <td>['']</td>\n      <td>NaN</td>\n      <td>View Tags</td>\n      <td>NaN</td>\n      <td>NaN</td>\n      <td>11</td>\n    </tr>\n    <tr>\n      <th>9923</th>\n      <td>1170110</td>\n      <td>wikileaks.org</td>\n      <td>unreliable</td>\n      <td>https://www.wikileaks.org/plusd/cables/1976ROM...</td>\n      <td>Raw content\\n\\nLIMITED OFFICIAL USE PAGE 01 RO...</td>\n      <td>2018-01-25 20:13:50.426130</td>\n      <td>2018-02-02 01:19:41.756632</td>\n      <td>2018-02-02 01:19:41.756664</td>\n      <td>Cable: 1976ROME16372</td>\n      <td>NaN</td>\n      <td>NaN</td>\n      <td>['']</td>\n      <td>NaN</td>\n      <td>View Tags</td>\n      <td>NaN</td>\n      <td>NaN</td>\n      <td>11</td>\n    </tr>\n    <tr>\n      <th>9927</th>\n      <td>1170114</td>\n      <td>express.co.uk</td>\n      <td>rumor</td>\n      <td>https://www.express.co.uk/celebrity-news/56649...</td>\n      <td>FLYNET Eddie looked unrecognisable as Einar We...</td>\n      <td>2018-01-25 20:13:50.426130</td>\n      <td>2018-02-02 01:19:41.756632</td>\n      <td>2018-02-02 01:19:41.756664</td>\n      <td>Eddie Redmayne looks ultra feminine as transge...</td>\n      <td>Annie Price</td>\n      <td>NaN</td>\n      <td>['']</td>\n      <td>FOR his last role Eddie Redmayne transformed h...</td>\n      <td>NaN</td>\n      <td>NaN</td>\n      <td>NaN</td>\n      <td>8</td>\n    </tr>\n  </tbody>\n</table>\n<p>628202 rows × 17 columns</p>\n</div>"
     },
     "metadata": {},
     "execution_count": 2
    }
   ],
   "source": [
    "### Import data and setup dataframe ###\n",
    "\n",
    "# usage: specify file location\n",
    "filepath = '../Data_git_ignore/1mio-raw.csv'\n",
    "# filepath = '../Data_git_ignore/clean-100k.csv'\n",
    "\n",
    "# Create df for the entire file\n",
    "entire_df = pd.read_csv(filepath, index_col = [0])\n",
    "\n",
    "### Below are overall integrity cleaning ###\n",
    "\n",
    "# Drop non-numeric id's\n",
    "entire_df['id'] = pd.to_numeric(entire_df['id'], errors = 'coerce', downcast = 'integer')\n",
    "entire_df.dropna(subset=['id'], inplace = True)\n",
    "\n",
    "# Set id to int\n",
    "entire_df['id'] = entire_df['id'].astype(int)\n",
    "\n",
    "# content has to be unique\n",
    "entire_df.drop_duplicates(['content'], inplace = True)\n",
    "\n",
    "# Drop rows wiht type-nan´\n",
    "entire_df = entire_df[entire_df['type'].notna()]\n",
    "\n",
    "# Create type_id column\n",
    "entire_df['type_id'] = entire_df.groupby(['type']).ngroup()\n",
    "\n",
    "entire_df"
   ]
  },
  {
   "cell_type": "code",
   "execution_count": 3,
   "metadata": {},
   "outputs": [],
   "source": [
    "entire_df.reset_index(inplace = True, drop = True)"
   ]
  },
  {
   "cell_type": "code",
   "execution_count": 9,
   "metadata": {},
   "outputs": [
    {
     "output_type": "stream",
     "name": "stdout",
     "text": "=> fake (7000, 17)\n=> satire (7000, 17)\n=> bias (7000, 17)\n=> conspiracy (7000, 17)\n=> junksci (7000, 17)\n=> hate (7000, 17)\n=> rumor (7000, 17)\n=> clickbait (7000, 17)\n=> unreliable (7000, 17)\n=> political (7000, 17)\n=> reliable (7000, 17)\n\n[Final sub-dataset]\nwhole ==> (77000, 17)\n"
    }
   ],
   "source": [
    "### SELECT SIZE OF -> sub-dataset ###\n",
    "\n",
    "# This can generate a dataset with random purmutation and a max size for each type(can be smaller if desired max is not possible)\n",
    "\n",
    "# max size for type\n",
    "max_size = 7000\n",
    "# Labels to include - ['fake', 'satire', 'bias', 'conspiracy', 'state', 'junksci', 'hate', 'clickbait', 'unreliable', 'political', 'reliable'] - all labels\n",
    "use_types = ['fake', 'satire', 'bias', 'conspiracy', 'junksci', 'hate', 'rumor', 'clickbait', 'unreliable', 'political', 'reliable']\n",
    "# Random seed\n",
    "rnd = 1\n",
    "\n",
    "# initialize dataframes\n",
    "df = pd.DataFrame(columns = entire_df.columns)\n",
    "\n",
    "# add type to test splits\n",
    "for t in use_types:\n",
    "\n",
    "    # type size\n",
    "    type_size = entire_df['type'].loc[entire_df['type'] == t].value_counts().min()\n",
    "\n",
    "    # set size of type slice\n",
    "    if type_size < max_size:\n",
    "        # tmp = entire_df.loc[entire_df['type'] == t].sample(n = type_size, random_state=rnd)\n",
    "        tmp = entire_df.loc[entire_df['type'] == t].sample(n = max_size, random_state=rnd, replace=True)\n",
    "    else:\n",
    "        tmp = entire_df.loc[entire_df['type'] == t].sample(n = max_size, random_state=rnd)\n",
    "    \n",
    "    # add tmp to dataframes\n",
    "    df = pd.concat([df, tmp])\n",
    "    \n",
    "    # print split shape\n",
    "    print(\"=>\", t, tmp.shape)\n",
    "\n",
    "print(\"\\n[Final sub-dataset]\\nwhole ==>\", df.shape)"
   ]
  },
  {
   "cell_type": "code",
   "execution_count": 59,
   "metadata": {},
   "outputs": [],
   "source": [
    "#del entire_df"
   ]
  },
  {
   "cell_type": "code",
   "execution_count": 10,
   "metadata": {},
   "outputs": [],
   "source": [
    "### REMOVE AND REPLACE -> NaN/Empty elmements ###\n",
    "\n",
    "# Remove rows where columns are NaN\n",
    "df.dropna(subset=['title'])\n",
    "\n",
    "# Replace NaN-elements with 'NULL'\n",
    "df = df.fillna('NULL')\n",
    "\n",
    "# Replace \"['']\" - these are NaN \n",
    "regex = r\"\\[''\\]\"\n",
    "df['meta_keywords'] = df['meta_keywords'].replace(to_replace=regex, value='NULL', regex=True)\n",
    "\n",
    "# Replace '_' or '' (empty str) from \"string-like\" columns - these are NaN\n",
    "regex = r\"^$|^ +\"\n",
    "columns = ['domain', 'type', 'url', 'content', 'title', 'authors', 'keywords', 'meta_description', 'tags', 'summary', 'source']\n",
    "df[columns] = df[columns].replace(to_replace=regex, value='NULL', regex=True)"
   ]
  },
  {
   "cell_type": "code",
   "execution_count": 11,
   "metadata": {},
   "outputs": [],
   "source": [
    "df['type_id'] = df.groupby(['type']).ngroup()"
   ]
  },
  {
   "cell_type": "code",
   "execution_count": 12,
   "metadata": {},
   "outputs": [
    {
     "output_type": "stream",
     "name": "stdout",
     "text": "\n (lower_cast)\nWall time: 2.11 s\n\n (Email_replace)\nWall time: 8.09 s\n\n (URL_replace)\nWall time: 36.8 s\n\n (HTML_replace)\nWall time: 295 ms\n\n (Date_replace)\nWall time: 1min 43s\n\n (Number_replace)\nWall time: 2.04 s\n\n (Punctuation_remove)\nWall time: 3.36 s\n\n (whitespace_remove)\nWall time: 17.7 s\n\n (Done cleaning)\n"
    }
   ],
   "source": [
    "# # working with content as a series\n",
    "series_content = df['content']\n",
    "\n",
    "### Order matters - (not final order of pipeline)\n",
    "### Overall preprocessing\n",
    "\n",
    "# lower_cast - NEEDED? - DONE by many libs\n",
    "%time print(\"\\n (lower_cast)\"); series_content = series_content.str.lower()\n",
    "\n",
    "### replace [name] with tokens in text ###\n",
    "\n",
    "# Email_replace\n",
    "regexEmail = r\"[a-zA-Z_-]+@[a-zA-Z_-]+(?:\\.[a-zA-Z]{2,4}){1,3}\"\n",
    "%time print(\"\\n (Email_replace)\"); series_content = series_content.replace(to_replace=regexEmail, value=' EMAIL ', regex=True)\n",
    "\n",
    "# replace URLs  with token\n",
    "regexURL= r\"(?:https?:\\/\\/)?(?:www\\.)?([^@\\s]+\\.[a-zA-Z]{2,4})[^\\s]*\"\n",
    "%time print(\"\\n (URL_replace)\"); series_content = series_content.replace(to_replace=regexURL, value=' URL ', regex=True)\n",
    "\n",
    "# HTML_replace\n",
    "regexHTML = r\"<\\s*a[^>]*>(.*?)<\\s*/\\s*a>\"\n",
    "%time print(\"\\n (HTML_replace)\"); series_content = series_content.replace(to_replace=regexHTML, value=' HTML ', regex=True)\n",
    "\n",
    "# Date_replace - NOT DONE\n",
    "# - name         (jan(?:uary)?|Feb(?:ruary)?|Mar(?:ch)?|Apr(?:il)?|May|Jun(?:e)?|Jul(?:y)?|Aug(?:ust)?|Sep(?:tember)?|Oct(?:ober)?|Nov(?:ember)?|Dec(?:ember)?)\n",
    "# - day in month ([12]\\d|3[01]|0?[1-9]) - Day 0-31\n",
    "# - year         ([12][0-9]{3})         - Years from 1000 to 2999\n",
    "regexDate = r\"(((19[7-9]\\d|20\\d{2})|(?:jan(?:uary)?|feb(?:ruary)?|mar(?:ch)?|apr(?:il)?|may|jun(?:e)?|jul(?:y)?|aug(?:ust)?|sep(?:tember)?|oct(?:ober)?|(nov|dec)(?:ember)?)|(([12][0-9])|(3[01])|(0?[1-9])))[\\/. \\-,\\n]){2,3}\"\n",
    "%time print(\"\\n (Date_replace)\"); series_content = series_content.replace(to_replace=regexDate, value=' DATE ', regex=True)\n",
    "\n",
    "# Number_replace\n",
    "regexNum = r\"[0-9][0-9,\\.]+\" # nums with [0-9] and [,.]\n",
    "%time print(\"\\n (Number_replace)\"); series_content = series_content.replace(to_replace=regexNum, value=' NUM ', regex=True)\n",
    "\n",
    "### string removal functions ###\n",
    "\n",
    "# Punctuation_remove\n",
    "regexPunkt = r\"[!“”\\\"#$%&()*+,\\-–.…\\/:;<=>?@[\\\\\\]^_`{|}~'\\’\\'»]\" # also removes: \" ' \" which means ie. it's -> its - remove \\' from regwex if not needed\n",
    "%time print(\"\\n (Punctuation_remove)\"); series_content = series_content.replace(to_replace=regexPunkt, value='', regex=True)\n",
    "\n",
    "# whitespace_remove\n",
    "regexWhiteSpace = r\"\\s+|\\\\n+\"\n",
    "%time print(\"\\n (whitespace_remove)\"); series_content = series_content.replace(to_replace=regexWhiteSpace, value=' ', regex=True)\n",
    "\n",
    "# # Non_ASCII_remove - Maybe a step too much\n",
    "# %time print(\"\\n (Non_ASCII_remove)\"); series_content = series_content.str.encode('ascii', 'ignore').str.decode('ascii')\n",
    "\n",
    "# After all steps\n",
    "print(\"\\n (Done cleaning)\")"
   ]
  },
  {
   "cell_type": "code",
   "execution_count": 13,
   "metadata": {},
   "outputs": [],
   "source": [
    "dfRaw = pd.DataFrame({'content' : series_content.values, 'type' : df.type.values, 'type_id' : df.type_id.values})"
   ]
  },
  {
   "cell_type": "code",
   "execution_count": 14,
   "metadata": {},
   "outputs": [
    {
     "output_type": "stream",
     "name": "stdout",
     "text": "=> fake (7000, 3) (5600, 3) (1400, 3)\n=> satire (7000, 3) (5600, 3) (1400, 3)\n=> bias (7000, 3) (5600, 3) (1400, 3)\n=> conspiracy (7000, 3) (5600, 3) (1400, 3)\n=> junksci (7000, 3) (5600, 3) (1400, 3)\n=> hate (7000, 3) (5600, 3) (1400, 3)\n=> clickbait (7000, 3) (5600, 3) (1400, 3)\n=> unreliable (7000, 3) (5600, 3) (1400, 3)\n=> political (7000, 3) (5600, 3) (1400, 3)\n=> reliable (7000, 3) (5600, 3) (1400, 3)\n=> rumor (7000, 3) (5600, 3) (1400, 3)\n\n[Final split]\ntrainRaw, testRaw==> (61600, 3) (15400, 3)\n"
    }
   ],
   "source": [
    "# This can generate a dataset with random purmutation and a max size for each type(can be smaller if desired max is not possible)\n",
    "\n",
    "# max size for type\n",
    "max_size = 7000\n",
    "# traning_set ratio - splits data into traning=ratio,  test and validate=(1-ratio)/2 ex. train=80%, test=10%, validate=10%\n",
    "ratio=0.8\n",
    "# Labels to include - ['fake', 'satire', 'bias', 'conspiracy', 'state', 'junksci', 'hate', 'clickbait', 'unreliable', 'political', 'reliable'] - all labels\n",
    "use_types = ['fake', 'satire', 'bias', 'conspiracy', 'junksci', 'hate', 'clickbait', 'unreliable', 'political', 'reliable', 'rumor']\n",
    "# Random seed\n",
    "rnd = 1\n",
    "\n",
    "# initialize dataframes\n",
    "trainRaw    = pd.DataFrame(columns = dfRaw.columns)\n",
    "testRaw     = pd.DataFrame(columns = dfRaw.columns)\n",
    "\n",
    "# add type to test splits\n",
    "for t in use_types:\n",
    "\n",
    "    # type size\n",
    "    type_size = dfRaw['type'].loc[dfRaw['type'] == t].value_counts().min()\n",
    "\n",
    "    # set size of type slice\n",
    "    if type_size < max_size:\n",
    "        tmp = dfRaw.loc[dfRaw['type'] == t].sample(n = max_size, random_state=rnd, replace=True)\n",
    "    else:\n",
    "        tmp = dfRaw.loc[dfRaw['type'] == t].sample(n = max_size, random_state=rnd)\n",
    "\n",
    "    # split current type\n",
    "    train_tmp, test_tmp = np.split(tmp, [int(ratio * len(tmp))])\n",
    "\n",
    "    # add tmp to dataframes\n",
    "    trainRaw    = pd.concat([trainRaw, train_tmp])\n",
    "    testRaw     = pd.concat([testRaw, test_tmp])\n",
    "    \n",
    "    # print split shape\n",
    "    print(\"=>\", t, tmp.shape, train_tmp.shape, test_tmp.shape)\n",
    "\n",
    "print(\"\\n[Final split]\\ntrainRaw, testRaw==>\", trainRaw.shape, testRaw.shape)"
   ]
  },
  {
   "cell_type": "code",
   "execution_count": 15,
   "metadata": {},
   "outputs": [],
   "source": [
    "#train.set_index('id', inplace = True)\n",
    "from sklearn.utils import shuffle\n",
    "trainRaw = shuffle(trainRaw, random_state = 1)\n",
    "testRaw = shuffle(testRaw, random_state = 1)\n",
    "trainRaw.reset_index(inplace = True, drop = True)\n",
    "testRaw.reset_index(inplace = True, drop = True)"
   ]
  },
  {
   "cell_type": "code",
   "execution_count": 16,
   "metadata": {},
   "outputs": [],
   "source": [
    "#Tokenize cleaned content\n",
    "content_tokenize_series = series_content.str.split()\n",
    "#change df-content to the tokenized version\n",
    "df['content'] = content_tokenize_series"
   ]
  },
  {
   "cell_type": "code",
   "execution_count": 17,
   "metadata": {},
   "outputs": [
    {
     "output_type": "stream",
     "name": "stdout",
     "text": "=> fake (7000, 17) (5600, 17) (1400, 17)\n=> satire (7000, 17) (5600, 17) (1400, 17)\n=> bias (7000, 17) (5600, 17) (1400, 17)\n=> conspiracy (7000, 17) (5600, 17) (1400, 17)\n=> junksci (7000, 17) (5600, 17) (1400, 17)\n=> hate (7000, 17) (5600, 17) (1400, 17)\n=> clickbait (7000, 17) (5600, 17) (1400, 17)\n=> unreliable (7000, 17) (5600, 17) (1400, 17)\n=> political (7000, 17) (5600, 17) (1400, 17)\n=> reliable (7000, 17) (5600, 17) (1400, 17)\n=> rumor (7000, 17) (5600, 17) (1400, 17)\n\n[Final split]\ntrain, test==> (61600, 17) (15400, 17)\n"
    }
   ],
   "source": [
    "# This can generate a dataset with random purmutation and a max size for each type(can be smaller if desired max is not possible)\n",
    "\n",
    "# max size for type\n",
    "max_size = 7000\n",
    "# traning_set ratio - splits data into traning=ratio,  test and validate=(1-ratio)/2 ex. train=80%, test=10%, validate=10%\n",
    "ratio=0.8\n",
    "# Labels to include - ['fake', 'satire', 'bias', 'conspiracy', 'state', 'junksci', 'hate', 'clickbait', 'unreliable', 'political', 'reliable'] - all labels\n",
    "use_types = ['fake', 'satire', 'bias', 'conspiracy', 'junksci', 'hate', 'clickbait', 'unreliable', 'political', 'reliable', 'rumor']\n",
    "# Random seed\n",
    "rnd = 1\n",
    "\n",
    "# initialize dataframes\n",
    "train    = pd.DataFrame(columns = df.columns)\n",
    "test     = pd.DataFrame(columns = df.columns)\n",
    "\n",
    "# add type to test splits\n",
    "for t in use_types:\n",
    "\n",
    "    # type size\n",
    "    type_size = df['type'].loc[df['type'] == t].value_counts().min()\n",
    "\n",
    "    # set size of type slice\n",
    "    if type_size < max_size:\n",
    "        tmp = df.loc[df['type'] == t].sample(n = max_size, random_state=rnd, replace=True)\n",
    "    else:\n",
    "        tmp = df.loc[df['type'] == t].sample(n = max_size, random_state=rnd)\n",
    "\n",
    "    # split current type\n",
    "    train_tmp, test_tmp = np.split(tmp, [int(ratio * len(tmp))])\n",
    "\n",
    "    # add tmp to dataframes\n",
    "    train    = pd.concat([train, train_tmp])\n",
    "    test     = pd.concat([test, test_tmp])\n",
    "    \n",
    "    # print split shape\n",
    "    print(\"=>\", t, tmp.shape, train_tmp.shape, test_tmp.shape)\n",
    "\n",
    "print(\"\\n[Final split]\\ntrain, test==>\", train.shape, test.shape)"
   ]
  },
  {
   "cell_type": "code",
   "execution_count": 18,
   "metadata": {},
   "outputs": [],
   "source": [
    "import gensim \n",
    "from gensim.models.doc2vec import TaggedDocument, Doc2Vec "
   ]
  },
  {
   "cell_type": "code",
   "execution_count": 19,
   "metadata": {},
   "outputs": [],
   "source": [
    "#from sklearn.utils import shuffle\n",
    "train = shuffle(train, random_state = 1)\n",
    "test = shuffle(test, random_state = 1)\n",
    "train.reset_index(inplace = True, drop = True)\n",
    "test.reset_index(inplace = True, drop = True)"
   ]
  },
  {
   "cell_type": "code",
   "execution_count": 20,
   "metadata": {},
   "outputs": [],
   "source": [
    "contTok = train.content\n",
    "train_typeLst = train.type_id.tolist()"
   ]
  },
  {
   "cell_type": "code",
   "execution_count": 21,
   "metadata": {},
   "outputs": [],
   "source": [
    "testTok = test.content\n",
    "test_typeLst = test.type_id.tolist()"
   ]
  },
  {
   "cell_type": "code",
   "execution_count": 22,
   "metadata": {},
   "outputs": [
    {
     "output_type": "execute_result",
     "data": {
      "text/plain": "0        [in, case, you, havent, seen, the, film, the, ...\n1        [america, first, the, worlds, confidence, in, ...\n2        [heading, into, election, day, donald, trump, ...\n3        [sen, ted, cruz, delivered, a, blistering, cri...\n4        [raw, content, s, e, c, r, e, t, section, NUM,...\n                               ...                        \n15395    [‘the, great, pension, scare, of, readers, thi...\n15396    [lawless, leaders, of, sanctuary, cities, abou...\n15397    [URL, will, now, start, posting, headlines, wi...\n15398    [top, euphemising, by, the, french, of, reader...\n15399    [expand, collapse, michael, j, new, is, a, vis...\nName: content, Length: 15400, dtype: object"
     },
     "metadata": {},
     "execution_count": 22
    }
   ],
   "source": [
    "testTok"
   ]
  },
  {
   "cell_type": "code",
   "execution_count": 23,
   "metadata": {},
   "outputs": [],
   "source": [
    "documents = [TaggedDocument(contTok, [i]) for i, contTok in enumerate(contTok)]"
   ]
  },
  {
   "cell_type": "code",
   "execution_count": 24,
   "metadata": {},
   "outputs": [],
   "source": [
    "import logging\n",
    "logging.basicConfig(format='%(asctime)s : %(levelname)s : %(message)s', level=logging.INFO)"
   ]
  },
  {
   "cell_type": "code",
   "execution_count": 25,
   "metadata": {},
   "outputs": [],
   "source": [
    "import multiprocessing\n",
    "cores = multiprocessing.cpu_count()*2"
   ]
  },
  {
   "cell_type": "code",
   "execution_count": 26,
   "metadata": {
    "tags": [
     "outputPrepend",
     "outputPrepend",
     "outputPrepend",
     "outputPrepend",
     "outputPrepend",
     "outputPrepend",
     "outputPrepend",
     "outputPrepend",
     "outputPrepend",
     "outputPrepend",
     "outputPrepend",
     "outputPrepend",
     "outputPrepend",
     "outputPrepend",
     "outputPrepend",
     "outputPrepend",
     "outputPrepend",
     "outputPrepend",
     "outputPrepend",
     "outputPrepend",
     "outputPrepend",
     "outputPrepend",
     "outputPrepend",
     "outputPrepend",
     "outputPrepend",
     "outputPrepend",
     "outputPrepend",
     "outputPrepend",
     "outputPrepend",
     "outputPrepend",
     "outputPrepend",
     "outputPrepend",
     "outputPrepend",
     "outputPrepend",
     "outputPrepend",
     "outputPrepend",
     "outputPrepend",
     "outputPrepend",
     "outputPrepend",
     "outputPrepend",
     "outputPrepend",
     "outputPrepend",
     "outputPrepend",
     "outputPrepend",
     "outputPrepend",
     "outputPrepend",
     "outputPrepend",
     "outputPrepend",
     "outputPrepend",
     "outputPrepend",
     "outputPrepend",
     "outputPrepend",
     "outputPrepend",
     "outputPrepend",
     "outputPrepend",
     "outputPrepend",
     "outputPrepend",
     "outputPrepend",
     "outputPrepend",
     "outputPrepend",
     "outputPrepend",
     "outputPrepend",
     "outputPrepend",
     "outputPrepend",
     "outputPrepend",
     "outputPrepend",
     "outputPrepend",
     "outputPrepend",
     "outputPrepend",
     "outputPrepend",
     "outputPrepend",
     "outputPrepend",
     "outputPrepend",
     "outputPrepend",
     "outputPrepend",
     "outputPrepend",
     "outputPrepend",
     "outputPrepend",
     "outputPrepend",
     "outputPrepend",
     "outputPrepend",
     "outputPrepend",
     "outputPrepend",
     "outputPrepend",
     "outputPrepend",
     "outputPrepend",
     "outputPrepend",
     "outputPrepend",
     "outputPrepend",
     "outputPrepend",
     "outputPrepend",
     "outputPrepend",
     "outputPrepend",
     "outputPrepend",
     "outputPrepend",
     "outputPrepend",
     "outputPrepend",
     "outputPrepend",
     "outputPrepend",
     "outputPrepend",
     "outputPrepend",
     "outputPrepend",
     "outputPrepend",
     "outputPrepend",
     "outputPrepend",
     "outputPrepend",
     "outputPrepend",
     "outputPrepend",
     "outputPrepend",
     "outputPrepend",
     "outputPrepend",
     "outputPrepend",
     "outputPrepend",
     "outputPrepend",
     "outputPrepend",
     "outputPrepend",
     "outputPrepend",
     "outputPrepend",
     "outputPrepend",
     "outputPrepend",
     "outputPrepend",
     "outputPrepend",
     "outputPrepend",
     "outputPrepend",
     "outputPrepend",
     "outputPrepend",
     "outputPrepend",
     "outputPrepend",
     "outputPrepend",
     "outputPrepend",
     "outputPrepend",
     "outputPrepend",
     "outputPrepend",
     "outputPrepend",
     "outputPrepend",
     "outputPrepend",
     "outputPrepend",
     "outputPrepend",
     "outputPrepend",
     "outputPrepend",
     "outputPrepend",
     "outputPrepend",
     "outputPrepend",
     "outputPrepend",
     "outputPrepend",
     "outputPrepend",
     "outputPrepend",
     "outputPrepend",
     "outputPrepend",
     "outputPrepend",
     "outputPrepend",
     "outputPrepend",
     "outputPrepend",
     "outputPrepend",
     "outputPrepend",
     "outputPrepend",
     "outputPrepend",
     "outputPrepend",
     "outputPrepend",
     "outputPrepend",
     "outputPrepend",
     "outputPrepend",
     "outputPrepend",
     "outputPrepend",
     "outputPrepend",
     "outputPrepend",
     "outputPrepend",
     "outputPrepend",
     "outputPrepend",
     "outputPrepend",
     "outputPrepend",
     "outputPrepend",
     "outputPrepend",
     "outputPrepend",
     "outputPrepend",
     "outputPrepend",
     "outputPrepend",
     "outputPrepend",
     "outputPrepend",
     "outputPrepend",
     "outputPrepend",
     "outputPrepend",
     "outputPrepend",
     "outputPrepend",
     "outputPrepend",
     "outputPrepend",
     "outputPrepend",
     "outputPrepend",
     "outputPrepend",
     "outputPrepend",
     "outputPrepend",
     "outputPrepend",
     "outputPrepend",
     "outputPrepend",
     "outputPrepend",
     "outputPrepend",
     "outputPrepend",
     "outputPrepend",
     "outputPrepend",
     "outputPrepend",
     "outputPrepend",
     "outputPrepend",
     "outputPrepend",
     "outputPrepend",
     "outputPrepend",
     "outputPrepend",
     "outputPrepend",
     "outputPrepend",
     "outputPrepend",
     "outputPrepend",
     "outputPrepend",
     "outputPrepend",
     "outputPrepend",
     "outputPrepend",
     "outputPrepend",
     "outputPrepend",
     "outputPrepend",
     "outputPrepend",
     "outputPrepend",
     "outputPrepend",
     "outputPrepend",
     "outputPrepend",
     "outputPrepend",
     "outputPrepend",
     "outputPrepend",
     "outputPrepend",
     "outputPrepend",
     "outputPrepend",
     "outputPrepend",
     "outputPrepend",
     "outputPrepend",
     "outputPrepend",
     "outputPrepend",
     "outputPrepend",
     "outputPrepend",
     "outputPrepend",
     "outputPrepend",
     "outputPrepend",
     "outputPrepend",
     "outputPrepend",
     "outputPrepend",
     "outputPrepend",
     "outputPrepend",
     "outputPrepend",
     "outputPrepend",
     "outputPrepend",
     "outputPrepend",
     "outputPrepend",
     "outputPrepend",
     "outputPrepend",
     "outputPrepend",
     "outputPrepend",
     "outputPrepend",
     "outputPrepend",
     "outputPrepend",
     "outputPrepend",
     "outputPrepend",
     "outputPrepend",
     "outputPrepend",
     "outputPrepend",
     "outputPrepend",
     "outputPrepend",
     "outputPrepend",
     "outputPrepend",
     "outputPrepend",
     "outputPrepend",
     "outputPrepend",
     "outputPrepend",
     "outputPrepend",
     "outputPrepend",
     "outputPrepend",
     "outputPrepend",
     "outputPrepend",
     "outputPrepend",
     "outputPrepend",
     "outputPrepend",
     "outputPrepend",
     "outputPrepend",
     "outputPrepend",
     "outputPrepend",
     "outputPrepend",
     "outputPrepend",
     "outputPrepend",
     "outputPrepend",
     "outputPrepend",
     "outputPrepend",
     "outputPrepend",
     "outputPrepend",
     "outputPrepend",
     "outputPrepend",
     "outputPrepend",
     "outputPrepend",
     "outputPrepend",
     "outputPrepend",
     "outputPrepend",
     "outputPrepend",
     "outputPrepend",
     "outputPrepend",
     "outputPrepend",
     "outputPrepend",
     "outputPrepend",
     "outputPrepend",
     "outputPrepend",
     "outputPrepend",
     "outputPrepend",
     "outputPrepend",
     "outputPrepend",
     "outputPrepend",
     "outputPrepend",
     "outputPrepend",
     "outputPrepend",
     "outputPrepend",
     "outputPrepend",
     "outputPrepend",
     "outputPrepend",
     "outputPrepend",
     "outputPrepend",
     "outputPrepend",
     "outputPrepend",
     "outputPrepend",
     "outputPrepend",
     "outputPrepend",
     "outputPrepend",
     "outputPrepend",
     "outputPrepend",
     "outputPrepend",
     "outputPrepend",
     "outputPrepend",
     "outputPrepend",
     "outputPrepend",
     "outputPrepend",
     "outputPrepend",
     "outputPrepend",
     "outputPrepend",
     "outputPrepend",
     "outputPrepend",
     "outputPrepend",
     "outputPrepend",
     "outputPrepend",
     "outputPrepend",
     "outputPrepend",
     "outputPrepend",
     "outputPrepend",
     "outputPrepend",
     "outputPrepend",
     "outputPrepend",
     "outputPrepend",
     "outputPrepend",
     "outputPrepend",
     "outputPrepend",
     "outputPrepend",
     "outputPrepend",
     "outputPrepend"
    ]
   },
   "outputs": [
    {
     "output_type": "stream",
     "name": "stderr",
     "text": "3084 words/s, in_qsize 31, out_qsize 0\n2020-06-10 23:53:44,517 : INFO : worker thread finished; awaiting finish of 15 more threads\n2020-06-10 23:53:44,530 : INFO : worker thread finished; awaiting finish of 14 more threads\n2020-06-10 23:53:44,537 : INFO : worker thread finished; awaiting finish of 13 more threads\n2020-06-10 23:53:44,539 : INFO : worker thread finished; awaiting finish of 12 more threads\n2020-06-10 23:53:44,540 : INFO : worker thread finished; awaiting finish of 11 more threads\n2020-06-10 23:53:44,541 : INFO : worker thread finished; awaiting finish of 10 more threads\n2020-06-10 23:53:44,542 : INFO : worker thread finished; awaiting finish of 9 more threads\n2020-06-10 23:53:44,542 : INFO : worker thread finished; awaiting finish of 8 more threads\n2020-06-10 23:53:44,543 : INFO : worker thread finished; awaiting finish of 7 more threads\n2020-06-10 23:53:44,543 : INFO : worker thread finished; awaiting finish of 6 more threads\n2020-06-10 23:53:44,543 : INFO : worker thread finished; awaiting finish of 5 more threads\n2020-06-10 23:53:44,544 : INFO : worker thread finished; awaiting finish of 4 more threads\n2020-06-10 23:53:44,544 : INFO : worker thread finished; awaiting finish of 3 more threads\n2020-06-10 23:53:44,545 : INFO : worker thread finished; awaiting finish of 2 more threads\n2020-06-10 23:53:44,545 : INFO : worker thread finished; awaiting finish of 1 more threads\n2020-06-10 23:53:44,545 : INFO : worker thread finished; awaiting finish of 0 more threads\n2020-06-10 23:53:44,546 : INFO : EPOCH - 10 : training on 41119452 raw words (31989216 effective words) took 18.2s, 1756083 effective words/s\n2020-06-10 23:53:45,563 : INFO : EPOCH 11 - PROGRESS: at 5.46% examples, 1744068 words/s, in_qsize 32, out_qsize 4\n2020-06-10 23:53:46,566 : INFO : EPOCH 11 - PROGRESS: at 11.12% examples, 1781567 words/s, in_qsize 31, out_qsize 0\n2020-06-10 23:53:47,568 : INFO : EPOCH 11 - PROGRESS: at 16.88% examples, 1774038 words/s, in_qsize 31, out_qsize 0\n2020-06-10 23:53:48,571 : INFO : EPOCH 11 - PROGRESS: at 22.48% examples, 1778562 words/s, in_qsize 30, out_qsize 2\n2020-06-10 23:53:49,582 : INFO : EPOCH 11 - PROGRESS: at 27.88% examples, 1777122 words/s, in_qsize 31, out_qsize 0\n2020-06-10 23:53:50,584 : INFO : EPOCH 11 - PROGRESS: at 33.57% examples, 1778548 words/s, in_qsize 31, out_qsize 0\n2020-06-10 23:53:51,591 : INFO : EPOCH 11 - PROGRESS: at 39.14% examples, 1770338 words/s, in_qsize 29, out_qsize 2\n2020-06-10 23:53:52,593 : INFO : EPOCH 11 - PROGRESS: at 44.64% examples, 1773160 words/s, in_qsize 30, out_qsize 1\n2020-06-10 23:53:53,596 : INFO : EPOCH 11 - PROGRESS: at 50.20% examples, 1771312 words/s, in_qsize 32, out_qsize 1\n2020-06-10 23:53:54,600 : INFO : EPOCH 11 - PROGRESS: at 55.72% examples, 1771411 words/s, in_qsize 30, out_qsize 2\n2020-06-10 23:53:55,618 : INFO : EPOCH 11 - PROGRESS: at 61.31% examples, 1770758 words/s, in_qsize 30, out_qsize 1\n2020-06-10 23:53:56,625 : INFO : EPOCH 11 - PROGRESS: at 66.93% examples, 1772466 words/s, in_qsize 31, out_qsize 2\n2020-06-10 23:53:57,629 : INFO : EPOCH 11 - PROGRESS: at 72.52% examples, 1772563 words/s, in_qsize 31, out_qsize 1\n2020-06-10 23:53:58,629 : INFO : EPOCH 11 - PROGRESS: at 77.99% examples, 1773271 words/s, in_qsize 32, out_qsize 0\n2020-06-10 23:53:59,641 : INFO : EPOCH 11 - PROGRESS: at 83.54% examples, 1772245 words/s, in_qsize 32, out_qsize 2\n2020-06-10 23:54:00,647 : INFO : EPOCH 11 - PROGRESS: at 89.00% examples, 1772386 words/s, in_qsize 32, out_qsize 3\n2020-06-10 23:54:01,649 : INFO : EPOCH 11 - PROGRESS: at 94.56% examples, 1772436 words/s, in_qsize 31, out_qsize 0\n2020-06-10 23:54:02,543 : INFO : worker thread finished; awaiting finish of 15 more threads\n2020-06-10 23:54:02,559 : INFO : worker thread finished; awaiting finish of 14 more threads\n2020-06-10 23:54:02,565 : INFO : worker thread finished; awaiting finish of 13 more threads\n2020-06-10 23:54:02,567 : INFO : worker thread finished; awaiting finish of 12 more threads\n2020-06-10 23:54:02,568 : INFO : worker thread finished; awaiting finish of 11 more threads\n2020-06-10 23:54:02,569 : INFO : worker thread finished; awaiting finish of 10 more threads\n2020-06-10 23:54:02,569 : INFO : worker thread finished; awaiting finish of 9 more threads\n2020-06-10 23:54:02,570 : INFO : worker thread finished; awaiting finish of 8 more threads\n2020-06-10 23:54:02,570 : INFO : worker thread finished; awaiting finish of 7 more threads\n2020-06-10 23:54:02,571 : INFO : worker thread finished; awaiting finish of 6 more threads\n2020-06-10 23:54:02,571 : INFO : worker thread finished; awaiting finish of 5 more threads\n2020-06-10 23:54:02,572 : INFO : worker thread finished; awaiting finish of 4 more threads\n2020-06-10 23:54:02,572 : INFO : worker thread finished; awaiting finish of 3 more threads\n2020-06-10 23:54:02,573 : INFO : worker thread finished; awaiting finish of 2 more threads\n2020-06-10 23:54:02,573 : INFO : worker thread finished; awaiting finish of 1 more threads\n2020-06-10 23:54:02,574 : INFO : worker thread finished; awaiting finish of 0 more threads\n2020-06-10 23:54:02,574 : INFO : EPOCH - 11 : training on 41119452 raw words (31987975 effective words) took 18.0s, 1775025 effective words/s\n2020-06-10 23:54:03,585 : INFO : EPOCH 12 - PROGRESS: at 5.50% examples, 1763069 words/s, in_qsize 32, out_qsize 1\n2020-06-10 23:54:04,593 : INFO : EPOCH 12 - PROGRESS: at 11.09% examples, 1777876 words/s, in_qsize 32, out_qsize 1\n2020-06-10 23:54:05,597 : INFO : EPOCH 12 - PROGRESS: at 16.77% examples, 1763318 words/s, in_qsize 32, out_qsize 0\n2020-06-10 23:54:06,610 : INFO : EPOCH 12 - PROGRESS: at 22.33% examples, 1761631 words/s, in_qsize 32, out_qsize 5\n2020-06-10 23:54:07,620 : INFO : EPOCH 12 - PROGRESS: at 27.80% examples, 1769198 words/s, in_qsize 32, out_qsize 2\n2020-06-10 23:54:08,621 : INFO : EPOCH 12 - PROGRESS: at 33.40% examples, 1767486 words/s, in_qsize 31, out_qsize 0\n2020-06-10 23:54:09,627 : INFO : EPOCH 12 - PROGRESS: at 39.06% examples, 1766157 words/s, in_qsize 30, out_qsize 3\n2020-06-10 23:54:10,627 : INFO : EPOCH 12 - PROGRESS: at 44.60% examples, 1769702 words/s, in_qsize 32, out_qsize 0\n2020-06-10 23:54:11,630 : INFO : EPOCH 12 - PROGRESS: at 50.09% examples, 1766002 words/s, in_qsize 31, out_qsize 0\n2020-06-10 23:54:12,630 : INFO : EPOCH 12 - PROGRESS: at 55.63% examples, 1766796 words/s, in_qsize 30, out_qsize 1\n2020-06-10 23:54:13,631 : INFO : EPOCH 12 - PROGRESS: at 61.13% examples, 1767086 words/s, in_qsize 30, out_qsize 1\n2020-06-10 23:54:14,632 : INFO : EPOCH 12 - PROGRESS: at 66.57% examples, 1766448 words/s, in_qsize 31, out_qsize 1\n2020-06-10 23:54:15,633 : INFO : EPOCH 12 - PROGRESS: at 72.01% examples, 1762335 words/s, in_qsize 31, out_qsize 1\n2020-06-10 23:54:16,635 : INFO : EPOCH 12 - PROGRESS: at 77.27% examples, 1757670 words/s, in_qsize 30, out_qsize 1\n2020-06-10 23:54:17,636 : INFO : EPOCH 12 - PROGRESS: at 82.39% examples, 1753104 words/s, in_qsize 31, out_qsize 3\n2020-06-10 23:54:18,644 : INFO : EPOCH 12 - PROGRESS: at 87.80% examples, 1752178 words/s, in_qsize 32, out_qsize 3\n2020-06-10 23:54:19,645 : INFO : EPOCH 12 - PROGRESS: at 93.07% examples, 1748447 words/s, in_qsize 32, out_qsize 4\n2020-06-10 23:54:20,652 : INFO : EPOCH 12 - PROGRESS: at 98.77% examples, 1749873 words/s, in_qsize 31, out_qsize 3\n2020-06-10 23:54:20,804 : INFO : worker thread finished; awaiting finish of 15 more threads\n2020-06-10 23:54:20,822 : INFO : worker thread finished; awaiting finish of 14 more threads\n2020-06-10 23:54:20,824 : INFO : worker thread finished; awaiting finish of 13 more threads\n2020-06-10 23:54:20,826 : INFO : worker thread finished; awaiting finish of 12 more threads\n2020-06-10 23:54:20,828 : INFO : worker thread finished; awaiting finish of 11 more threads\n2020-06-10 23:54:20,829 : INFO : worker thread finished; awaiting finish of 10 more threads\n2020-06-10 23:54:20,829 : INFO : worker thread finished; awaiting finish of 9 more threads\n2020-06-10 23:54:20,830 : INFO : worker thread finished; awaiting finish of 8 more threads\n2020-06-10 23:54:20,831 : INFO : worker thread finished; awaiting finish of 7 more threads\n2020-06-10 23:54:20,831 : INFO : worker thread finished; awaiting finish of 6 more threads\n2020-06-10 23:54:20,832 : INFO : worker thread finished; awaiting finish of 5 more threads\n2020-06-10 23:54:20,832 : INFO : worker thread finished; awaiting finish of 4 more threads\n2020-06-10 23:54:20,832 : INFO : worker thread finished; awaiting finish of 3 more threads\n2020-06-10 23:54:20,833 : INFO : worker thread finished; awaiting finish of 2 more threads\n2020-06-10 23:54:20,833 : INFO : worker thread finished; awaiting finish of 1 more threads\n2020-06-10 23:54:20,833 : INFO : worker thread finished; awaiting finish of 0 more threads\n2020-06-10 23:54:20,834 : INFO : EPOCH - 12 : training on 41119452 raw words (31990838 effective words) took 18.3s, 1752783 effective words/s\n2020-06-10 23:54:21,844 : INFO : EPOCH 13 - PROGRESS: at 5.50% examples, 1761359 words/s, in_qsize 32, out_qsize 1\n2020-06-10 23:54:22,845 : INFO : EPOCH 13 - PROGRESS: at 11.02% examples, 1771093 words/s, in_qsize 28, out_qsize 1\n2020-06-10 23:54:23,851 : INFO : EPOCH 13 - PROGRESS: at 16.75% examples, 1760256 words/s, in_qsize 32, out_qsize 1\n2020-06-10 23:54:24,857 : INFO : EPOCH 13 - PROGRESS: at 22.35% examples, 1768410 words/s, in_qsize 32, out_qsize 0\n2020-06-10 23:54:25,857 : INFO : EPOCH 13 - PROGRESS: at 27.61% examples, 1763062 words/s, in_qsize 32, out_qsize 3\n2020-06-10 23:54:26,861 : INFO : EPOCH 13 - PROGRESS: at 33.31% examples, 1767458 words/s, in_qsize 32, out_qsize 0\n2020-06-10 23:54:27,877 : INFO : EPOCH 13 - PROGRESS: at 39.00% examples, 1763381 words/s, in_qsize 30, out_qsize 7\n2020-06-10 23:54:28,880 : INFO : EPOCH 13 - PROGRESS: at 44.60% examples, 1770440 words/s, in_qsize 32, out_qsize 1\n2020-06-10 23:54:29,885 : INFO : EPOCH 13 - PROGRESS: at 50.03% examples, 1764501 words/s, in_qsize 30, out_qsize 1\n2020-06-10 23:54:30,885 : INFO : EPOCH 13 - PROGRESS: at 55.46% examples, 1761854 words/s, in_qsize 32, out_qsize 4\n2020-06-10 23:54:31,887 : INFO : EPOCH 13 - PROGRESS: at 61.00% examples, 1763862 words/s, in_qsize 30, out_qsize 1\n2020-06-10 23:54:32,894 : INFO : EPOCH 13 - PROGRESS: at 66.40% examples, 1761890 words/s, in_qsize 32, out_qsize 4\n2020-06-10 23:54:33,903 : INFO : EPOCH 13 - PROGRESS: at 72.08% examples, 1761643 words/s, in_qsize 30, out_qsize 1\n2020-06-10 23:54:34,919 : INFO : EPOCH 13 - PROGRESS: at 77.53% examples, 1761260 words/s, in_qsize 31, out_qsize 0\n2020-06-10 23:54:35,934 : INFO : EPOCH 13 - PROGRESS: at 82.90% examples, 1758588 words/s, in_qsize 28, out_qsize 9\n2020-06-10 23:54:36,937 : INFO : EPOCH 13 - PROGRESS: at 88.51% examples, 1762925 words/s, in_qsize 32, out_qsize 0\n2020-06-10 23:54:37,943 : INFO : EPOCH 13 - PROGRESS: at 93.99% examples, 1761998 words/s, in_qsize 32, out_qsize 1\n2020-06-10 23:54:38,934 : INFO : worker thread finished; awaiting finish of 15 more threads\n2020-06-10 23:54:38,945 : INFO : EPOCH 13 - PROGRESS: at 99.68% examples, 1761285 words/s, in_qsize 11, out_qsize 7\n2020-06-10 23:54:38,952 : INFO : worker thread finished; awaiting finish of 14 more threads\n2020-06-10 23:54:38,955 : INFO : worker thread finished; awaiting finish of 13 more threads\n2020-06-10 23:54:38,956 : INFO : worker thread finished; awaiting finish of 12 more threads\n2020-06-10 23:54:38,957 : INFO : worker thread finished; awaiting finish of 11 more threads\n2020-06-10 23:54:38,958 : INFO : worker thread finished; awaiting finish of 10 more threads\n2020-06-10 23:54:38,959 : INFO : worker thread finished; awaiting finish of 9 more threads\n2020-06-10 23:54:38,959 : INFO : worker thread finished; awaiting finish of 8 more threads\n2020-06-10 23:54:38,960 : INFO : worker thread finished; awaiting finish of 7 more threads\n2020-06-10 23:54:38,961 : INFO : worker thread finished; awaiting finish of 6 more threads\n2020-06-10 23:54:38,961 : INFO : worker thread finished; awaiting finish of 5 more threads\n2020-06-10 23:54:38,961 : INFO : worker thread finished; awaiting finish of 4 more threads\n2020-06-10 23:54:38,962 : INFO : worker thread finished; awaiting finish of 3 more threads\n2020-06-10 23:54:38,962 : INFO : worker thread finished; awaiting finish of 2 more threads\n2020-06-10 23:54:38,963 : INFO : worker thread finished; awaiting finish of 1 more threads\n2020-06-10 23:54:38,963 : INFO : worker thread finished; awaiting finish of 0 more threads\n2020-06-10 23:54:38,963 : INFO : EPOCH - 13 : training on 41119452 raw words (31988801 effective words) took 18.1s, 1765011 effective words/s\n2020-06-10 23:54:39,979 : INFO : EPOCH 14 - PROGRESS: at 5.45% examples, 1741097 words/s, in_qsize 32, out_qsize 2\n2020-06-10 23:54:40,979 : INFO : EPOCH 14 - PROGRESS: at 11.03% examples, 1771841 words/s, in_qsize 31, out_qsize 0\n2020-06-10 23:54:41,981 : INFO : EPOCH 14 - PROGRESS: at 16.69% examples, 1755508 words/s, in_qsize 29, out_qsize 5\n2020-06-10 23:54:42,983 : INFO : EPOCH 14 - PROGRESS: at 22.35% examples, 1770048 words/s, in_qsize 31, out_qsize 0\n2020-06-10 23:54:43,984 : INFO : EPOCH 14 - PROGRESS: at 27.75% examples, 1773708 words/s, in_qsize 30, out_qsize 1\n2020-06-10 23:54:44,995 : INFO : EPOCH 14 - PROGRESS: at 33.39% examples, 1770273 words/s, in_qsize 31, out_qsize 0\n2020-06-10 23:54:45,998 : INFO : EPOCH 14 - PROGRESS: at 39.07% examples, 1770214 words/s, in_qsize 32, out_qsize 0\n2020-06-10 23:54:46,999 : INFO : EPOCH 14 - PROGRESS: at 44.57% examples, 1772114 words/s, in_qsize 29, out_qsize 0\n2020-06-10 23:54:48,000 : INFO : EPOCH 14 - PROGRESS: at 50.06% examples, 1768385 words/s, in_qsize 31, out_qsize 0\n2020-06-10 23:54:49,008 : INFO : EPOCH 14 - PROGRESS: at 55.67% examples, 1769147 words/s, in_qsize 31, out_qsize 1\n2020-06-10 23:54:50,016 : INFO : EPOCH 14 - PROGRESS: at 61.20% examples, 1770864 words/s, in_qsize 31, out_qsize 1\n2020-06-10 23:54:51,019 : INFO : EPOCH 14 - PROGRESS: at 66.63% examples, 1768067 words/s, in_qsize 29, out_qsize 2\n2020-06-10 23:54:52,031 : INFO : EPOCH 14 - PROGRESS: at 72.36% examples, 1768793 words/s, in_qsize 31, out_qsize 0\n2020-06-10 23:54:53,043 : INFO : EPOCH 14 - PROGRESS: at 77.80% examples, 1767163 words/s, in_qsize 30, out_qsize 2\n2020-06-10 23:54:54,045 : INFO : EPOCH 14 - PROGRESS: at 83.28% examples, 1768268 words/s, in_qsize 32, out_qsize 1\n2020-06-10 23:54:55,054 : INFO : EPOCH 14 - PROGRESS: at 88.75% examples, 1768723 words/s, in_qsize 31, out_qsize 0\n2020-06-10 23:54:56,062 : INFO : EPOCH 14 - PROGRESS: at 94.28% examples, 1768475 words/s, in_qsize 30, out_qsize 2\n2020-06-10 23:54:56,996 : INFO : worker thread finished; awaiting finish of 15 more threads\n2020-06-10 23:54:57,006 : INFO : worker thread finished; awaiting finish of 14 more threads\n2020-06-10 23:54:57,022 : INFO : worker thread finished; awaiting finish of 13 more threads\n2020-06-10 23:54:57,027 : INFO : worker thread finished; awaiting finish of 12 more threads\n2020-06-10 23:54:57,028 : INFO : worker thread finished; awaiting finish of 11 more threads\n2020-06-10 23:54:57,028 : INFO : worker thread finished; awaiting finish of 10 more threads\n2020-06-10 23:54:57,029 : INFO : worker thread finished; awaiting finish of 9 more threads\n2020-06-10 23:54:57,030 : INFO : worker thread finished; awaiting finish of 8 more threads\n2020-06-10 23:54:57,030 : INFO : worker thread finished; awaiting finish of 7 more threads\n2020-06-10 23:54:57,031 : INFO : worker thread finished; awaiting finish of 6 more threads\n2020-06-10 23:54:57,031 : INFO : worker thread finished; awaiting finish of 5 more threads\n2020-06-10 23:54:57,032 : INFO : worker thread finished; awaiting finish of 4 more threads\n2020-06-10 23:54:57,033 : INFO : worker thread finished; awaiting finish of 3 more threads\n2020-06-10 23:54:57,033 : INFO : worker thread finished; awaiting finish of 2 more threads\n2020-06-10 23:54:57,033 : INFO : worker thread finished; awaiting finish of 1 more threads\n2020-06-10 23:54:57,034 : INFO : worker thread finished; awaiting finish of 0 more threads\n2020-06-10 23:54:57,034 : INFO : EPOCH - 14 : training on 41119452 raw words (31987109 effective words) took 18.1s, 1770808 effective words/s\n2020-06-10 23:54:58,043 : INFO : EPOCH 15 - PROGRESS: at 5.45% examples, 1751337 words/s, in_qsize 32, out_qsize 1\n2020-06-10 23:54:59,054 : INFO : EPOCH 15 - PROGRESS: at 11.07% examples, 1771694 words/s, in_qsize 32, out_qsize 1\n2020-06-10 23:55:00,063 : INFO : EPOCH 15 - PROGRESS: at 16.85% examples, 1766904 words/s, in_qsize 32, out_qsize 1\n2020-06-10 23:55:01,066 : INFO : EPOCH 15 - PROGRESS: at 22.47% examples, 1775175 words/s, in_qsize 31, out_qsize 0\n2020-06-10 23:55:02,069 : INFO : EPOCH 15 - PROGRESS: at 27.84% examples, 1775088 words/s, in_qsize 32, out_qsize 0\n2020-06-10 23:55:03,073 : INFO : EPOCH 15 - PROGRESS: at 33.42% examples, 1769430 words/s, in_qsize 31, out_qsize 3\n2020-06-10 23:55:04,082 : INFO : EPOCH 15 - PROGRESS: at 39.13% examples, 1768986 words/s, in_qsize 31, out_qsize 2\n2020-06-10 23:55:05,091 : INFO : EPOCH 15 - PROGRESS: at 44.64% examples, 1771250 words/s, in_qsize 31, out_qsize 1\n2020-06-10 23:55:06,097 : INFO : EPOCH 15 - PROGRESS: at 50.24% examples, 1770361 words/s, in_qsize 31, out_qsize 1\n2020-06-10 23:55:07,099 : INFO : EPOCH 15 - PROGRESS: at 55.77% examples, 1769278 words/s, in_qsize 30, out_qsize 1\n2020-06-10 23:55:08,107 : INFO : EPOCH 15 - PROGRESS: at 61.21% examples, 1768171 words/s, in_qsize 32, out_qsize 2\n2020-06-10 23:55:09,123 : INFO : EPOCH 15 - PROGRESS: at 66.77% examples, 1767395 words/s, in_qsize 31, out_qsize 3\n2020-06-10 23:55:10,127 : INFO : EPOCH 15 - PROGRESS: at 72.40% examples, 1767537 words/s, in_qsize 31, out_qsize 0\n2020-06-10 23:55:11,128 : INFO : EPOCH 15 - PROGRESS: at 77.81% examples, 1765958 words/s, in_qsize 29, out_qsize 6\n2020-06-10 23:55:12,134 : INFO : EPOCH 15 - PROGRESS: at 83.26% examples, 1766132 words/s, in_qsize 31, out_qsize 1\n2020-06-10 23:55:13,135 : INFO : EPOCH 15 - PROGRESS: at 88.68% examples, 1766359 words/s, in_qsize 31, out_qsize 0\n2020-06-10 23:55:14,139 : INFO : EPOCH 15 - PROGRESS: at 93.94% examples, 1761664 words/s, in_qsize 32, out_qsize 0\n2020-06-10 23:55:15,140 : INFO : EPOCH 15 - PROGRESS: at 99.51% examples, 1759605 words/s, in_qsize 20, out_qsize 0\n2020-06-10 23:55:15,159 : INFO : worker thread finished; awaiting finish of 15 more threads\n2020-06-10 23:55:15,176 : INFO : worker thread finished; awaiting finish of 14 more threads\n2020-06-10 23:55:15,180 : INFO : worker thread finished; awaiting finish of 13 more threads\n2020-06-10 23:55:15,184 : INFO : worker thread finished; awaiting finish of 12 more threads\n2020-06-10 23:55:15,185 : INFO : worker thread finished; awaiting finish of 11 more threads\n2020-06-10 23:55:15,186 : INFO : worker thread finished; awaiting finish of 10 more threads\n2020-06-10 23:55:15,186 : INFO : worker thread finished; awaiting finish of 9 more threads\n2020-06-10 23:55:15,187 : INFO : worker thread finished; awaiting finish of 8 more threads\n2020-06-10 23:55:15,187 : INFO : worker thread finished; awaiting finish of 7 more threads\n2020-06-10 23:55:15,187 : INFO : worker thread finished; awaiting finish of 6 more threads\n2020-06-10 23:55:15,188 : INFO : worker thread finished; awaiting finish of 5 more threads\n2020-06-10 23:55:15,188 : INFO : worker thread finished; awaiting finish of 4 more threads\n2020-06-10 23:55:15,188 : INFO : worker thread finished; awaiting finish of 3 more threads\n2020-06-10 23:55:15,189 : INFO : worker thread finished; awaiting finish of 2 more threads\n2020-06-10 23:55:15,189 : INFO : worker thread finished; awaiting finish of 1 more threads\n2020-06-10 23:55:15,189 : INFO : worker thread finished; awaiting finish of 0 more threads\n2020-06-10 23:55:15,190 : INFO : EPOCH - 15 : training on 41119452 raw words (31987545 effective words) took 18.1s, 1762505 effective words/s\n2020-06-10 23:55:15,190 : INFO : training on a 616791780 raw words (479831919 effective words) took 274.4s, 1748509 effective words/s\n"
    }
   ],
   "source": [
    "model2 = Doc2Vec(documents, vector_size = 300, min_count = 3, dm = 0, epochs=15, workers = cores)"
   ]
  },
  {
   "cell_type": "code",
   "execution_count": 89,
   "metadata": {},
   "outputs": [],
   "source": [
    "#Going to use model2 not this model1\n",
    "#%%time\n",
    "#model1 = Doc2Vec(documents, vector_size = , min_count = 3, window = 10, epochs=10, workers = 4)"
   ]
  },
  {
   "cell_type": "code",
   "execution_count": null,
   "metadata": {},
   "outputs": [],
   "source": [
    "#Eventuel træn andre modeller herefter:\n",
    "#%%time\n",
    "#model2 = Doc2Vec(documents, vector_size = 200, dm = 1, min_count = 3, window = 10, epochs= 10, workers = 4)"
   ]
  },
  {
   "cell_type": "code",
   "execution_count": 27,
   "metadata": {},
   "outputs": [
    {
     "output_type": "stream",
     "name": "stderr",
     "text": "2020-06-10 23:55:20,766 : INFO : precomputing L2-norms of word weight vectors\n"
    },
    {
     "output_type": "execute_result",
     "data": {
      "text/plain": "[('fsan', 0.27069127559661865),\n ('ergot', 0.24395392835140228),\n ('substitute', 0.23345041275024414),\n ('congresswoman', 0.22664108872413635),\n ('noahide', 0.2266072928905487),\n ('objec', 0.22164762020111084),\n ('owi', 0.22115477919578552),\n ('skilfully', 0.21880218386650085),\n ('jehan', 0.21878682076931),\n ('diddle', 0.21816784143447876)]"
     },
     "metadata": {},
     "execution_count": 27
    }
   ],
   "source": [
    "model2.most_similar('apple')"
   ]
  },
  {
   "cell_type": "code",
   "execution_count": 28,
   "metadata": {},
   "outputs": [
    {
     "output_type": "execute_result",
     "data": {
      "text/plain": "61600"
     },
     "metadata": {},
     "execution_count": 28
    }
   ],
   "source": [
    "model2.docvecs.count"
   ]
  },
  {
   "cell_type": "code",
   "execution_count": 29,
   "metadata": {},
   "outputs": [
    {
     "output_type": "stream",
     "name": "stderr",
     "text": "2020-06-10 23:55:24,201 : INFO : precomputing L2-norms of doc weight vectors\n"
    },
    {
     "output_type": "execute_result",
     "data": {
      "text/plain": "(array(['fake', 'junksci'], dtype=object), array([1, 9], dtype=int64))"
     },
     "metadata": {},
     "execution_count": 29
    }
   ],
   "source": [
    "#See types of most similar documents for model2\n",
    "#for idx in train.type.loc[train.type == 'fake'].index:\n",
    "sim_labels1 = np.empty(10,dtype='object')\n",
    "for i in range(len(sim_labels1)):\n",
    "    sim_labels1[i] = train.type.loc[train.type.index == model2.docvecs.most_similar(42426)[i][0]].values[0]\n",
    "\n",
    "# amount of articles with given type equal to testing article\n",
    "np.unique(sim_labels1,return_counts=True)"
   ]
  },
  {
   "cell_type": "code",
   "execution_count": 30,
   "metadata": {},
   "outputs": [
    {
     "output_type": "execute_result",
     "data": {
      "text/plain": "16       rumor\n35       rumor\n49       rumor\n51       rumor\n66       rumor\n         ...  \n61538    rumor\n61541    rumor\n61552    rumor\n61573    rumor\n61582    rumor\nName: type, Length: 5600, dtype: object"
     },
     "metadata": {},
     "execution_count": 30
    }
   ],
   "source": [
    "#Lookup indeices for articles with certain types\n",
    "train.type.loc[train.type == 'rumor']"
   ]
  },
  {
   "cell_type": "code",
   "execution_count": 31,
   "metadata": {},
   "outputs": [],
   "source": [
    "from sklearn.metrics import accuracy_score, f1_score\n",
    "from sklearn.metrics import confusion_matrix\n",
    "from sklearn.model_selection import train_test_split\n",
    "from sklearn.linear_model import LogisticRegression\n",
    "from sklearn import utils\n"
   ]
  },
  {
   "cell_type": "code",
   "execution_count": 137,
   "metadata": {},
   "outputs": [],
   "source": [
    "#Dont use model1\n",
    "#Model 1 traindata\n",
    "#train_arrays = np.zeros((model1.docvecs.count,150),dtype=\"float32\")\n",
    "#train_labels = np.zeros(model1.docvecs.count,dtype=\"float32\")\n",
    "#for i in range(model1.docvecs.count):\n",
    "#    train_arrays[i] = model1.docvecs[i]\n",
    "#    train_labels[i] = train.type_id[i]"
   ]
  },
  {
   "cell_type": "code",
   "execution_count": 33,
   "metadata": {},
   "outputs": [],
   "source": [
    "#Model 2 traindata:\n",
    "train_arrays2 = np.zeros((model2.docvecs.count,300),dtype=\"float32\")\n",
    "train_labels2 = np.zeros(model2.docvecs.count,dtype=\"float32\")\n",
    "for i in range(model2.docvecs.count):\n",
    "    train_arrays2[i] = model2.docvecs[i]\n",
    "    train_labels2[i] = train.type_id[i]"
   ]
  },
  {
   "cell_type": "code",
   "execution_count": 153,
   "metadata": {},
   "outputs": [],
   "source": [
    "#How infer_vector works:\n",
    "#token = \"this is new sentence\".split()\n",
    "#new_vector = model1.infer_vector(token)\n",
    "#sims = model1.docvecs.most_similar([new_vector])\n",
    "#model2.docvecs.most_similar([new_vec])"
   ]
  },
  {
   "cell_type": "code",
   "execution_count": 154,
   "metadata": {},
   "outputs": [],
   "source": [
    "#Only usable for model1\n",
    "#Inferring vectors for testdata with model1\n",
    "#test_arrays = np.zeros((len(test),150),dtype = \"float32\")\n",
    "#for i in range(len(test)):\n",
    "#    test_arrays[i] = model1.infer_vector(testTok[i],steps = 15)   \n",
    "#test_labels = np.array(test_typeLst,dtype=\"float32\")\n",
    "\n",
    "#test_arrays = np.zeros((model1.docvecs.count,150),dtype=\"float32\")\n",
    "#test_labels = np.zeros(model1.docvecs.count,dtype=\"float32\")"
   ]
  },
  {
   "cell_type": "code",
   "execution_count": 34,
   "metadata": {},
   "outputs": [
    {
     "output_type": "stream",
     "name": "stdout",
     "text": "Wall time: 3min 52s\n"
    }
   ],
   "source": [
    "%%time\n",
    "#Inferring vectors for testdata with model2\n",
    "test_arrays2 = np.zeros((len(test),300),dtype = \"float32\")\n",
    "for i in range(len(test)):\n",
    "    test_arrays2[i] = model2.infer_vector(testTok[i], epochs = 20, alpha = 0.025)   \n",
    "test_labels = np.array(test_typeLst,dtype=\"float32\")"
   ]
  },
  {
   "cell_type": "code",
   "execution_count": 163,
   "metadata": {},
   "outputs": [],
   "source": [
    "#model1.docvecs.most_similar([test_arrays[200]])"
   ]
  },
  {
   "cell_type": "code",
   "execution_count": 35,
   "metadata": {},
   "outputs": [
    {
     "output_type": "execute_result",
     "data": {
      "text/plain": "3642    satire\nName: type, dtype: object"
     },
     "metadata": {},
     "execution_count": 35
    }
   ],
   "source": [
    "test.type.loc[test.type.index == 3642]"
   ]
  },
  {
   "cell_type": "code",
   "execution_count": 166,
   "metadata": {},
   "outputs": [],
   "source": [
    "#Only usable for model1:\n",
    "#Find originalarticle types most similar to inferred vector by model1:\n",
    "#sim_labels = np.empty(10,dtype='object')\n",
    "#for i in range(len(sim_labels)):\n",
    "#    sim_labels[i] = train.type.loc[train.type.index == model1.docvecs.most_similar([test_arrays[3642]])#[i][0]].values[0]\n",
    "\n",
    "#np.unique(sim_labels,return_counts=True)"
   ]
  },
  {
   "cell_type": "code",
   "execution_count": 36,
   "metadata": {},
   "outputs": [
    {
     "output_type": "execute_result",
     "data": {
      "text/plain": "[(11355, 0.5147608518600464),\n (59351, 0.5065075755119324),\n (53902, 0.5060799717903137),\n (35815, 0.4856951832771301),\n (23120, 0.48559555411338806),\n (13526, 0.4847506880760193),\n (53736, 0.4819234013557434),\n (10041, 0.47995203733444214),\n (40260, 0.4796353578567505),\n (23923, 0.47875624895095825)]"
     },
     "metadata": {},
     "execution_count": 36
    }
   ],
   "source": [
    "model2.docvecs.most_similar([test_arrays2[10]])"
   ]
  },
  {
   "cell_type": "code",
   "execution_count": 37,
   "metadata": {},
   "outputs": [
    {
     "output_type": "execute_result",
     "data": {
      "text/plain": "(array(['clickbait', 'junksci'], dtype=object), array([1, 9], dtype=int64))"
     },
     "metadata": {},
     "execution_count": 37
    }
   ],
   "source": [
    "#Find originalarticle types most similar to inferred vector by model2:\n",
    "sim_labels = np.empty(10,dtype='object')\n",
    "for i in range(len(sim_labels)):\n",
    "    sim_labels[i] = train.type.loc[train.type.index == model2.docvecs.most_similar([test_arrays2[76]])[i][0]].values[0]\n",
    "\n",
    "np.unique(sim_labels,return_counts=True)"
   ]
  },
  {
   "cell_type": "code",
   "execution_count": 38,
   "metadata": {},
   "outputs": [
    {
     "output_type": "execute_result",
     "data": {
      "text/plain": "Int64Index([    3,    21,    30,    45,    47,   100,   104,   135,   136,\n              138,\n            ...\n            15315, 15334, 15348, 15358, 15359, 15369, 15376, 15380, 15385,\n            15392],\n           dtype='int64', length=1400)"
     },
     "metadata": {},
     "execution_count": 38
    }
   ],
   "source": [
    "#Get indices for testarticles of a certain type:\n",
    "test.type.loc[test.type == 'bias'].index"
   ]
  },
  {
   "cell_type": "code",
   "execution_count": 39,
   "metadata": {},
   "outputs": [],
   "source": [
    "from sklearn.preprocessing import StandardScaler\n",
    "from sklearn.metrics import accuracy_score, confusion_matrix, classification_report\n",
    "import matplotlib.pyplot as plt\n",
    "#standardizing data\n",
    "scaler = StandardScaler()\n",
    "scaler.fit(train_arrays2)\n",
    "X_train = scaler.transform(train_arrays2)\n",
    "X_test = scaler.transform(test_arrays2)"
   ]
  },
  {
   "cell_type": "code",
   "execution_count": 40,
   "metadata": {},
   "outputs": [
    {
     "output_type": "execute_result",
     "data": {
      "text/plain": "LogisticRegression()"
     },
     "metadata": {},
     "execution_count": 40
    }
   ],
   "source": [
    "#Now train a logistic classifier:\n",
    "#can try gridsearch for parameters:\n",
    "#Logistic = LogisticRegression()\n",
    "#grid = {\"C\" :np.logspace(0,4,10), \"penalty\": [\"l1\", \"l2\"]}\n",
    "#logClf = GridSearchCV(Logistic, grid, cv = 5)\n",
    "#best_model = logClf.fit(X_train, train_labels)\n",
    "clfLog = LogisticRegression()\n",
    "clfLog.fit(X_train, train_labels2)\n",
    "\n",
    "#classifier.fit(X_train,train_labels)\n",
    "#classifier.n_iter_"
   ]
  },
  {
   "cell_type": "code",
   "execution_count": 41,
   "metadata": {},
   "outputs": [
    {
     "output_type": "execute_result",
     "data": {
      "text/plain": "0.6804545454545454"
     },
     "metadata": {},
     "execution_count": 41
    }
   ],
   "source": [
    "clfLog.score(X_test, test_labels)"
   ]
  },
  {
   "cell_type": "code",
   "execution_count": 42,
   "metadata": {},
   "outputs": [],
   "source": [
    "y_true = test_labels\n",
    "y_pred = clfLog.predict(X_test)"
   ]
  },
  {
   "cell_type": "code",
   "execution_count": 43,
   "metadata": {},
   "outputs": [
    {
     "output_type": "execute_result",
     "data": {
      "text/plain": "array([[ 682,   89,  119,   16,  127,   48,  177,   45,   21,   60,   16],\n       [ 115,  692,   62,   13,   67,   38,  151,   75,   31,  126,   30],\n       [ 126,   55,  824,   34,   62,   79,  104,   24,    8,   70,   14],\n       [  19,   15,   36, 1239,   18,   26,   27,    3,    2,   14,    1],\n       [ 125,   42,   55,   23,  962,   11,   68,   43,    6,   48,   17],\n       [  37,   58,   80,   30,   23, 1058,   22,   28,    4,   56,    4],\n       [ 166,  149,  107,   32,   90,   23,  631,   75,   18,   91,   18],\n       [ 101,   61,   20,    5,   62,   30,   43, 1017,    2,   57,    2],\n       [  21,   10,    8,    1,    8,    2,    6,    5, 1233,  104,    2],\n       [  63,   79,   60,   14,   31,   35,   57,   42,   59,  946,   14],\n       [  27,   44,   21,    6,   17,   17,   38,    9,    4,   22, 1195]],\n      dtype=int64)"
     },
     "metadata": {},
     "execution_count": 43
    }
   ],
   "source": [
    "confusion_matrix(y_true,y_pred)"
   ]
  },
  {
   "cell_type": "code",
   "execution_count": 45,
   "metadata": {},
   "outputs": [],
   "source": [
    "target_names = []\n",
    "for i in range(11):\n",
    "    target_names.append(test.type.loc[test.type_id == i].values[0])"
   ]
  },
  {
   "cell_type": "code",
   "execution_count": 46,
   "metadata": {},
   "outputs": [],
   "source": [
    "y_true = list(map(int,y_true.tolist()))\n",
    "y_pred = list(map(int,y_pred.tolist()))"
   ]
  },
  {
   "cell_type": "code",
   "execution_count": 47,
   "metadata": {},
   "outputs": [
    {
     "output_type": "stream",
     "name": "stdout",
     "text": "precision    recall  f1-score   support\n\n        bias       0.46      0.49      0.47      1400\n   clickbait       0.53      0.49      0.51      1400\n  conspiracy       0.59      0.59      0.59      1400\n        fake       0.88      0.89      0.88      1400\n        hate       0.66      0.69      0.67      1400\n     junksci       0.77      0.76      0.76      1400\n   political       0.48      0.45      0.46      1400\n    reliable       0.74      0.73      0.74      1400\n       rumor       0.89      0.88      0.88      1400\n      satire       0.59      0.68      0.63      1400\n  unreliable       0.91      0.85      0.88      1400\n\n    accuracy                           0.68     15400\n   macro avg       0.68      0.68      0.68     15400\nweighted avg       0.68      0.68      0.68     15400\n\n"
    }
   ],
   "source": [
    "print(classification_report(y_true, y_pred, target_names = target_names))"
   ]
  },
  {
   "cell_type": "code",
   "execution_count": 48,
   "metadata": {},
   "outputs": [
    {
     "output_type": "execute_result",
     "data": {
      "text/plain": "SGDClassifier()"
     },
     "metadata": {},
     "execution_count": 48
    }
   ],
   "source": [
    "from sklearn.linear_model import SGDClassifier\n",
    "sgd = SGDClassifier()\n",
    "sgd.fit(X_train,train_labels2)"
   ]
  },
  {
   "cell_type": "code",
   "execution_count": 49,
   "metadata": {},
   "outputs": [],
   "source": [
    "y_sgd_pred = sgd.predict(X_test)"
   ]
  },
  {
   "cell_type": "code",
   "execution_count": 50,
   "metadata": {},
   "outputs": [],
   "source": [
    "y_sgd_pred = list(map(int,y_sgd_pred.tolist()))"
   ]
  },
  {
   "cell_type": "code",
   "execution_count": 51,
   "metadata": {},
   "outputs": [
    {
     "output_type": "stream",
     "name": "stdout",
     "text": "precision    recall  f1-score   support\n\n        bias       0.40      0.43      0.42      1400\n   clickbait       0.50      0.41      0.45      1400\n  conspiracy       0.52      0.49      0.51      1400\n        fake       0.91      0.88      0.89      1400\n        hate       0.63      0.64      0.63      1400\n     junksci       0.71      0.74      0.72      1400\n   political       0.44      0.38      0.41      1400\n    reliable       0.64      0.72      0.68      1400\n       rumor       0.90      0.84      0.87      1400\n      satire       0.50      0.60      0.55      1400\n  unreliable       0.84      0.85      0.85      1400\n\n    accuracy                           0.64     15400\n   macro avg       0.64      0.64      0.63     15400\nweighted avg       0.64      0.64      0.63     15400\n\n"
    }
   ],
   "source": [
    "print(classification_report(y_true, y_sgd_pred, target_names = target_names))"
   ]
  },
  {
   "cell_type": "code",
   "execution_count": 52,
   "metadata": {},
   "outputs": [
    {
     "output_type": "execute_result",
     "data": {
      "text/plain": "SVC()"
     },
     "metadata": {},
     "execution_count": 52
    }
   ],
   "source": [
    "#rbf kernel = .723, poly kernel = 0.7\n",
    "from sklearn import svm\n",
    "from sklearn.model_selection import GridSearchCV\n",
    "#parameters = {'C':[1,10], 'kernel': ('linear','rbf')}\n",
    "clf = svm.SVC() \n",
    "clf.fit(X_train,train_labels2)\n",
    "#clf.score(X_test, y_test)"
   ]
  },
  {
   "cell_type": "code",
   "execution_count": 53,
   "metadata": {},
   "outputs": [],
   "source": [
    "y_svc_pred = clf.predict(X_test)"
   ]
  },
  {
   "cell_type": "code",
   "execution_count": 94,
   "metadata": {},
   "outputs": [],
   "source": [
    "from sklearn.multiclass import OneVsRestClassifier\n",
    "from sklearn.svm import SVC\n",
    "\n",
    "clf_OVR = OneVsRestClassifier(SVC()).fit(X_train, train_labels2)"
   ]
  },
  {
   "cell_type": "code",
   "execution_count": null,
   "metadata": {},
   "outputs": [],
   "source": [
    "y_OVR_pred = clf_OVR.predict(X_test)"
   ]
  },
  {
   "cell_type": "code",
   "execution_count": 54,
   "metadata": {},
   "outputs": [],
   "source": [
    "y_svc_pred = list(map(int,y_svc_pred.tolist()))"
   ]
  },
  {
   "cell_type": "code",
   "execution_count": 55,
   "metadata": {},
   "outputs": [
    {
     "output_type": "stream",
     "name": "stdout",
     "text": "precision    recall  f1-score   support\n\n        bias       0.54      0.63      0.58      1400\n   clickbait       0.64      0.59      0.62      1400\n  conspiracy       0.71      0.61      0.66      1400\n        fake       0.90      0.88      0.89      1400\n        hate       0.80      0.90      0.85      1400\n     junksci       0.84      0.82      0.83      1400\n   political       0.53      0.53      0.53      1400\n    reliable       0.90      0.89      0.90      1400\n       rumor       0.94      0.81      0.87      1400\n      satire       0.64      0.82      0.72      1400\n  unreliable       1.00      0.86      0.92      1400\n\n    accuracy                           0.76     15400\n   macro avg       0.77      0.76      0.76     15400\nweighted avg       0.77      0.76      0.76     15400\n\n"
    }
   ],
   "source": [
    "print(classification_report(y_true, y_svc_pred, target_names = target_names))"
   ]
  },
  {
   "cell_type": "code",
   "execution_count": 70,
   "metadata": {},
   "outputs": [
    {
     "output_type": "display_data",
     "data": {
      "text/plain": "<Figure size 432x288 with 2 Axes>",
      "image/svg+xml": "<?xml version=\"1.0\" encoding=\"utf-8\" standalone=\"no\"?>\r\n<!DOCTYPE svg PUBLIC \"-//W3C//DTD SVG 1.1//EN\"\r\n  \"http://www.w3.org/Graphics/SVG/1.1/DTD/svg11.dtd\">\r\n<!-- Created with matplotlib (https://matplotlib.org/) -->\r\n<svg height=\"262.19625pt\" version=\"1.1\" viewBox=\"0 0 334.84575 262.19625\" width=\"334.84575pt\" xmlns=\"http://www.w3.org/2000/svg\" xmlns:xlink=\"http://www.w3.org/1999/xlink\">\r\n <defs>\r\n  <style type=\"text/css\">\r\n*{stroke-linecap:butt;stroke-linejoin:round;}\r\n  </style>\r\n </defs>\r\n <g id=\"figure_1\">\r\n  <g id=\"patch_1\">\r\n   <path d=\"M 0 262.19625 \r\nL 334.84575 262.19625 \r\nL 334.84575 0 \r\nL 0 0 \r\nz\r\n\" style=\"fill:none;\"/>\r\n  </g>\r\n  <g id=\"axes_1\">\r\n   <g id=\"patch_2\">\r\n    <path d=\"M 50.14375 224.64 \r\nL 267.58375 224.64 \r\nL 267.58375 7.2 \r\nL 50.14375 7.2 \r\nz\r\n\" style=\"fill:#ffffff;\"/>\r\n   </g>\r\n   <g clip-path=\"url(#p2ee489f155)\">\r\n    <image height=\"218\" id=\"image38229a670f\" transform=\"scale(1 -1)translate(0 -218)\" width=\"218\" x=\"50.14375\" xlink:href=\"data:image/png;base64,\r\niVBORw0KGgoAAAANSUhEUgAAANoAAADaCAYAAADAHVzbAAAABHNCSVQICAgIfAhkiAAABNNJREFUeJzt3D2LXGUAhuH3zMxuPlYQNGoRFfxogp1WglgaEBsRrbTyZ4g2+RWCYG2TzsLC1lRCCsUiJoj4EYhoErPCzu6cY2ErVk8eU1zXD3g4u2fueat5p9fOvLuMoOn0qeTcmO8dxraWk5PY1hhjjNU6uxe22t+L7s1HR9G9seQ+etOp7Ofuk2tfRvdW0TXgXwkNCoQGBUKDAqFBgdCgQGhQIDQoEBoUCA0KhAYFQoMCoUGB0KBAaFAgNCgQGhQIDQqEBgWbaX8/uzhHryAZYwp+F4Tv+JjWD/adIfF3uz3O7k25qQ+/u5IbG2O8//Qr0T0nGhQIDQqEBgVCgwKhQYHQoEBoUCA0KBAaFAgNCoQGBUKDAqFBgdCgQGhQIDQoEBoUCA0KhAYFm2W7jQ7O6Xsl5l12L2hZ5vRgdG53En4X4ef74MbV2Nalt9+Lbf3j2+iaEw0KhAYFQoMCoUGB0KBAaFAgNCgQGhQIDQqEBgVCgwKhQYHQoEBoUCA0KBAaFAgNCoQGBZuxXkcHp73sz92XbfC6gPBP8afw/26Zw8+3t4nufX7jSnTv9fMvxramvWuxrfvBiQYFQoMCoUGB0KBAaFAgNCgQGhQIDQqEBgVCgwKhQYHQoEBoUCA0KBAaFAgNCoQGBUKDAqFBwWZ+4dno4PqPw+jeuP1nbGq+eze2NcYYq7Nno3u7O9nn+/7TC9G9N56bontjdRybWp97JLY1xhgnv96M7jnRoEBoUCA0KBAaFAgNCoQGBUKDAqFBgdCgQGhQIDQoEBoUCA0KhAYFQoMCoUGB0KBAaFAgNCjYrL65Hh1cpuy9EtPeJrqXtLt9O7r30fWvo3uXLmT/d/N2G90by5KbOvwrtnU/ONGgQGhQIDQoEBoUCA0KhAYFQoMCoUGB0KBAaFAgNCgQGhQIDQqEBgVCgwKhQYHQoEBoUCA0KNiM8B0fy9HRA7u3nJzEtsYY44tfrkb3Lp5/Kbq3Opu9MyT9bpN29w7/70f4T040KBAaFAgNCoQGBUKDAqFBgdCgQGhQIDQoEBoUCA0KhAYFQoMCoUGB0KBAaFAgNCgQGhQIDQo2y/Y4OrjMS3RvdfpUbOvyD1/FtsYY4+KTL0f3ps06ujd2u+xe+H6ZsWQ/Kw8yJxoUCA0KhAYFQoMCoUGB0KBAaFAgNCgQGhQIDQqEBgVCgwKhQYHQoEBoUCA0KBAaFAgNCoQGBZvVM09FB5efb0b3Di8/Htt66/lXY1tjjLF++Ex0b6yyd3JMDx1E9+Yff4ruJe8gWT/6SGxrjDF2t25F95xoUCA0KBAaFAgNCoQGBUKDAqFBgdCgQGhQIDQoEBoUCA0KhAYFQoMCoUGB0KBAaFAgNCjYjHmODv722fno3rk3cz+fn7fHsa0xxljt7UX3lu02urd64lx270z26obk3zsdhK+VyN5k4ESDBqFBgdCgQGhQIDQoEBoUCA0KhAYFQoMCoUGB0KBAaFAgNCgQGhQIDQqEBgVCgwKhQYHQoGCz+zh7j8Zj79yJ7o2Dg9jUFL6TY9rP3hkyjrPvYtlkv0eX45Ps3rzktn6/Hdu6H5xoUCA0KBAaFAgNCoQGBUKDAqFBgdCgQGhQIDQoEBoUCA0KhAYFQoMCoUGB0KBAaFAgNCgQGhT8Dc/VpshUcV4UAAAAAElFTkSuQmCC\" y=\"-6.64\"/>\r\n   </g>\r\n   <g id=\"matplotlib.axis_1\">\r\n    <g id=\"xtick_1\">\r\n     <g id=\"line2d_1\">\r\n      <defs>\r\n       <path d=\"M 0 0 \r\nL 0 3.5 \r\n\" id=\"m304b7649af\" style=\"stroke:#000000;stroke-width:0.8;\"/>\r\n      </defs>\r\n      <g>\r\n       <use style=\"stroke:#000000;stroke-width:0.8;\" x=\"60.027386\" xlink:href=\"#m304b7649af\" y=\"224.64\"/>\r\n      </g>\r\n     </g>\r\n     <g id=\"text_1\">\r\n      <!-- 0.0 -->\r\n      <defs>\r\n       <path d=\"M 31.78125 66.40625 \r\nQ 24.171875 66.40625 20.328125 58.90625 \r\nQ 16.5 51.421875 16.5 36.375 \r\nQ 16.5 21.390625 20.328125 13.890625 \r\nQ 24.171875 6.390625 31.78125 6.390625 \r\nQ 39.453125 6.390625 43.28125 13.890625 \r\nQ 47.125 21.390625 47.125 36.375 \r\nQ 47.125 51.421875 43.28125 58.90625 \r\nQ 39.453125 66.40625 31.78125 66.40625 \r\nz\r\nM 31.78125 74.21875 \r\nQ 44.046875 74.21875 50.515625 64.515625 \r\nQ 56.984375 54.828125 56.984375 36.375 \r\nQ 56.984375 17.96875 50.515625 8.265625 \r\nQ 44.046875 -1.421875 31.78125 -1.421875 \r\nQ 19.53125 -1.421875 13.0625 8.265625 \r\nQ 6.59375 17.96875 6.59375 36.375 \r\nQ 6.59375 54.828125 13.0625 64.515625 \r\nQ 19.53125 74.21875 31.78125 74.21875 \r\nz\r\n\" id=\"DejaVuSans-48\"/>\r\n       <path d=\"M 10.6875 12.40625 \r\nL 21 12.40625 \r\nL 21 0 \r\nL 10.6875 0 \r\nz\r\n\" id=\"DejaVuSans-46\"/>\r\n      </defs>\r\n      <g transform=\"translate(52.075824 239.238437)scale(0.1 -0.1)\">\r\n       <use xlink:href=\"#DejaVuSans-48\"/>\r\n       <use x=\"63.623047\" xlink:href=\"#DejaVuSans-46\"/>\r\n       <use x=\"95.410156\" xlink:href=\"#DejaVuSans-48\"/>\r\n      </g>\r\n     </g>\r\n    </g>\r\n    <g id=\"xtick_2\">\r\n     <g id=\"line2d_2\">\r\n      <g>\r\n       <use style=\"stroke:#000000;stroke-width:0.8;\" x=\"79.794659\" xlink:href=\"#m304b7649af\" y=\"224.64\"/>\r\n      </g>\r\n     </g>\r\n     <g id=\"text_2\">\r\n      <!-- 1.0 -->\r\n      <defs>\r\n       <path d=\"M 12.40625 8.296875 \r\nL 28.515625 8.296875 \r\nL 28.515625 63.921875 \r\nL 10.984375 60.40625 \r\nL 10.984375 69.390625 \r\nL 28.421875 72.90625 \r\nL 38.28125 72.90625 \r\nL 38.28125 8.296875 \r\nL 54.390625 8.296875 \r\nL 54.390625 0 \r\nL 12.40625 0 \r\nz\r\n\" id=\"DejaVuSans-49\"/>\r\n      </defs>\r\n      <g transform=\"translate(71.843097 239.238437)scale(0.1 -0.1)\">\r\n       <use xlink:href=\"#DejaVuSans-49\"/>\r\n       <use x=\"63.623047\" xlink:href=\"#DejaVuSans-46\"/>\r\n       <use x=\"95.410156\" xlink:href=\"#DejaVuSans-48\"/>\r\n      </g>\r\n     </g>\r\n    </g>\r\n    <g id=\"xtick_3\">\r\n     <g id=\"line2d_3\">\r\n      <g>\r\n       <use style=\"stroke:#000000;stroke-width:0.8;\" x=\"99.561932\" xlink:href=\"#m304b7649af\" y=\"224.64\"/>\r\n      </g>\r\n     </g>\r\n     <g id=\"text_3\">\r\n      <!-- 2.0 -->\r\n      <defs>\r\n       <path d=\"M 19.1875 8.296875 \r\nL 53.609375 8.296875 \r\nL 53.609375 0 \r\nL 7.328125 0 \r\nL 7.328125 8.296875 \r\nQ 12.9375 14.109375 22.625 23.890625 \r\nQ 32.328125 33.6875 34.8125 36.53125 \r\nQ 39.546875 41.84375 41.421875 45.53125 \r\nQ 43.3125 49.21875 43.3125 52.78125 \r\nQ 43.3125 58.59375 39.234375 62.25 \r\nQ 35.15625 65.921875 28.609375 65.921875 \r\nQ 23.96875 65.921875 18.8125 64.3125 \r\nQ 13.671875 62.703125 7.8125 59.421875 \r\nL 7.8125 69.390625 \r\nQ 13.765625 71.78125 18.9375 73 \r\nQ 24.125 74.21875 28.421875 74.21875 \r\nQ 39.75 74.21875 46.484375 68.546875 \r\nQ 53.21875 62.890625 53.21875 53.421875 \r\nQ 53.21875 48.921875 51.53125 44.890625 \r\nQ 49.859375 40.875 45.40625 35.40625 \r\nQ 44.1875 33.984375 37.640625 27.21875 \r\nQ 31.109375 20.453125 19.1875 8.296875 \r\nz\r\n\" id=\"DejaVuSans-50\"/>\r\n      </defs>\r\n      <g transform=\"translate(91.610369 239.238437)scale(0.1 -0.1)\">\r\n       <use xlink:href=\"#DejaVuSans-50\"/>\r\n       <use x=\"63.623047\" xlink:href=\"#DejaVuSans-46\"/>\r\n       <use x=\"95.410156\" xlink:href=\"#DejaVuSans-48\"/>\r\n      </g>\r\n     </g>\r\n    </g>\r\n    <g id=\"xtick_4\">\r\n     <g id=\"line2d_4\">\r\n      <g>\r\n       <use style=\"stroke:#000000;stroke-width:0.8;\" x=\"119.329205\" xlink:href=\"#m304b7649af\" y=\"224.64\"/>\r\n      </g>\r\n     </g>\r\n     <g id=\"text_4\">\r\n      <!-- 3.0 -->\r\n      <defs>\r\n       <path d=\"M 40.578125 39.3125 \r\nQ 47.65625 37.796875 51.625 33 \r\nQ 55.609375 28.21875 55.609375 21.1875 \r\nQ 55.609375 10.40625 48.1875 4.484375 \r\nQ 40.765625 -1.421875 27.09375 -1.421875 \r\nQ 22.515625 -1.421875 17.65625 -0.515625 \r\nQ 12.796875 0.390625 7.625 2.203125 \r\nL 7.625 11.71875 \r\nQ 11.71875 9.328125 16.59375 8.109375 \r\nQ 21.484375 6.890625 26.8125 6.890625 \r\nQ 36.078125 6.890625 40.9375 10.546875 \r\nQ 45.796875 14.203125 45.796875 21.1875 \r\nQ 45.796875 27.640625 41.28125 31.265625 \r\nQ 36.765625 34.90625 28.71875 34.90625 \r\nL 20.21875 34.90625 \r\nL 20.21875 43.015625 \r\nL 29.109375 43.015625 \r\nQ 36.375 43.015625 40.234375 45.921875 \r\nQ 44.09375 48.828125 44.09375 54.296875 \r\nQ 44.09375 59.90625 40.109375 62.90625 \r\nQ 36.140625 65.921875 28.71875 65.921875 \r\nQ 24.65625 65.921875 20.015625 65.03125 \r\nQ 15.375 64.15625 9.8125 62.3125 \r\nL 9.8125 71.09375 \r\nQ 15.4375 72.65625 20.34375 73.4375 \r\nQ 25.25 74.21875 29.59375 74.21875 \r\nQ 40.828125 74.21875 47.359375 69.109375 \r\nQ 53.90625 64.015625 53.90625 55.328125 \r\nQ 53.90625 49.265625 50.4375 45.09375 \r\nQ 46.96875 40.921875 40.578125 39.3125 \r\nz\r\n\" id=\"DejaVuSans-51\"/>\r\n      </defs>\r\n      <g transform=\"translate(111.377642 239.238437)scale(0.1 -0.1)\">\r\n       <use xlink:href=\"#DejaVuSans-51\"/>\r\n       <use x=\"63.623047\" xlink:href=\"#DejaVuSans-46\"/>\r\n       <use x=\"95.410156\" xlink:href=\"#DejaVuSans-48\"/>\r\n      </g>\r\n     </g>\r\n    </g>\r\n    <g id=\"xtick_5\">\r\n     <g id=\"line2d_5\">\r\n      <g>\r\n       <use style=\"stroke:#000000;stroke-width:0.8;\" x=\"139.096477\" xlink:href=\"#m304b7649af\" y=\"224.64\"/>\r\n      </g>\r\n     </g>\r\n     <g id=\"text_5\">\r\n      <!-- 4.0 -->\r\n      <defs>\r\n       <path d=\"M 37.796875 64.3125 \r\nL 12.890625 25.390625 \r\nL 37.796875 25.390625 \r\nz\r\nM 35.203125 72.90625 \r\nL 47.609375 72.90625 \r\nL 47.609375 25.390625 \r\nL 58.015625 25.390625 \r\nL 58.015625 17.1875 \r\nL 47.609375 17.1875 \r\nL 47.609375 0 \r\nL 37.796875 0 \r\nL 37.796875 17.1875 \r\nL 4.890625 17.1875 \r\nL 4.890625 26.703125 \r\nz\r\n\" id=\"DejaVuSans-52\"/>\r\n      </defs>\r\n      <g transform=\"translate(131.144915 239.238437)scale(0.1 -0.1)\">\r\n       <use xlink:href=\"#DejaVuSans-52\"/>\r\n       <use x=\"63.623047\" xlink:href=\"#DejaVuSans-46\"/>\r\n       <use x=\"95.410156\" xlink:href=\"#DejaVuSans-48\"/>\r\n      </g>\r\n     </g>\r\n    </g>\r\n    <g id=\"xtick_6\">\r\n     <g id=\"line2d_6\">\r\n      <g>\r\n       <use style=\"stroke:#000000;stroke-width:0.8;\" x=\"158.86375\" xlink:href=\"#m304b7649af\" y=\"224.64\"/>\r\n      </g>\r\n     </g>\r\n     <g id=\"text_6\">\r\n      <!-- 5.0 -->\r\n      <defs>\r\n       <path d=\"M 10.796875 72.90625 \r\nL 49.515625 72.90625 \r\nL 49.515625 64.59375 \r\nL 19.828125 64.59375 \r\nL 19.828125 46.734375 \r\nQ 21.96875 47.46875 24.109375 47.828125 \r\nQ 26.265625 48.1875 28.421875 48.1875 \r\nQ 40.625 48.1875 47.75 41.5 \r\nQ 54.890625 34.8125 54.890625 23.390625 \r\nQ 54.890625 11.625 47.5625 5.09375 \r\nQ 40.234375 -1.421875 26.90625 -1.421875 \r\nQ 22.3125 -1.421875 17.546875 -0.640625 \r\nQ 12.796875 0.140625 7.71875 1.703125 \r\nL 7.71875 11.625 \r\nQ 12.109375 9.234375 16.796875 8.0625 \r\nQ 21.484375 6.890625 26.703125 6.890625 \r\nQ 35.15625 6.890625 40.078125 11.328125 \r\nQ 45.015625 15.765625 45.015625 23.390625 \r\nQ 45.015625 31 40.078125 35.4375 \r\nQ 35.15625 39.890625 26.703125 39.890625 \r\nQ 22.75 39.890625 18.8125 39.015625 \r\nQ 14.890625 38.140625 10.796875 36.28125 \r\nz\r\n\" id=\"DejaVuSans-53\"/>\r\n      </defs>\r\n      <g transform=\"translate(150.912187 239.238437)scale(0.1 -0.1)\">\r\n       <use xlink:href=\"#DejaVuSans-53\"/>\r\n       <use x=\"63.623047\" xlink:href=\"#DejaVuSans-46\"/>\r\n       <use x=\"95.410156\" xlink:href=\"#DejaVuSans-48\"/>\r\n      </g>\r\n     </g>\r\n    </g>\r\n    <g id=\"xtick_7\">\r\n     <g id=\"line2d_7\">\r\n      <g>\r\n       <use style=\"stroke:#000000;stroke-width:0.8;\" x=\"178.631023\" xlink:href=\"#m304b7649af\" y=\"224.64\"/>\r\n      </g>\r\n     </g>\r\n     <g id=\"text_7\">\r\n      <!-- 6.0 -->\r\n      <defs>\r\n       <path d=\"M 33.015625 40.375 \r\nQ 26.375 40.375 22.484375 35.828125 \r\nQ 18.609375 31.296875 18.609375 23.390625 \r\nQ 18.609375 15.53125 22.484375 10.953125 \r\nQ 26.375 6.390625 33.015625 6.390625 \r\nQ 39.65625 6.390625 43.53125 10.953125 \r\nQ 47.40625 15.53125 47.40625 23.390625 \r\nQ 47.40625 31.296875 43.53125 35.828125 \r\nQ 39.65625 40.375 33.015625 40.375 \r\nz\r\nM 52.59375 71.296875 \r\nL 52.59375 62.3125 \r\nQ 48.875 64.0625 45.09375 64.984375 \r\nQ 41.3125 65.921875 37.59375 65.921875 \r\nQ 27.828125 65.921875 22.671875 59.328125 \r\nQ 17.53125 52.734375 16.796875 39.40625 \r\nQ 19.671875 43.65625 24.015625 45.921875 \r\nQ 28.375 48.1875 33.59375 48.1875 \r\nQ 44.578125 48.1875 50.953125 41.515625 \r\nQ 57.328125 34.859375 57.328125 23.390625 \r\nQ 57.328125 12.15625 50.6875 5.359375 \r\nQ 44.046875 -1.421875 33.015625 -1.421875 \r\nQ 20.359375 -1.421875 13.671875 8.265625 \r\nQ 6.984375 17.96875 6.984375 36.375 \r\nQ 6.984375 53.65625 15.1875 63.9375 \r\nQ 23.390625 74.21875 37.203125 74.21875 \r\nQ 40.921875 74.21875 44.703125 73.484375 \r\nQ 48.484375 72.75 52.59375 71.296875 \r\nz\r\n\" id=\"DejaVuSans-54\"/>\r\n      </defs>\r\n      <g transform=\"translate(170.67946 239.238437)scale(0.1 -0.1)\">\r\n       <use xlink:href=\"#DejaVuSans-54\"/>\r\n       <use x=\"63.623047\" xlink:href=\"#DejaVuSans-46\"/>\r\n       <use x=\"95.410156\" xlink:href=\"#DejaVuSans-48\"/>\r\n      </g>\r\n     </g>\r\n    </g>\r\n    <g id=\"xtick_8\">\r\n     <g id=\"line2d_8\">\r\n      <g>\r\n       <use style=\"stroke:#000000;stroke-width:0.8;\" x=\"198.398295\" xlink:href=\"#m304b7649af\" y=\"224.64\"/>\r\n      </g>\r\n     </g>\r\n     <g id=\"text_8\">\r\n      <!-- 7.0 -->\r\n      <defs>\r\n       <path d=\"M 8.203125 72.90625 \r\nL 55.078125 72.90625 \r\nL 55.078125 68.703125 \r\nL 28.609375 0 \r\nL 18.3125 0 \r\nL 43.21875 64.59375 \r\nL 8.203125 64.59375 \r\nz\r\n\" id=\"DejaVuSans-55\"/>\r\n      </defs>\r\n      <g transform=\"translate(190.446733 239.238437)scale(0.1 -0.1)\">\r\n       <use xlink:href=\"#DejaVuSans-55\"/>\r\n       <use x=\"63.623047\" xlink:href=\"#DejaVuSans-46\"/>\r\n       <use x=\"95.410156\" xlink:href=\"#DejaVuSans-48\"/>\r\n      </g>\r\n     </g>\r\n    </g>\r\n    <g id=\"xtick_9\">\r\n     <g id=\"line2d_9\">\r\n      <g>\r\n       <use style=\"stroke:#000000;stroke-width:0.8;\" x=\"218.165568\" xlink:href=\"#m304b7649af\" y=\"224.64\"/>\r\n      </g>\r\n     </g>\r\n     <g id=\"text_9\">\r\n      <!-- 8.0 -->\r\n      <defs>\r\n       <path d=\"M 31.78125 34.625 \r\nQ 24.75 34.625 20.71875 30.859375 \r\nQ 16.703125 27.09375 16.703125 20.515625 \r\nQ 16.703125 13.921875 20.71875 10.15625 \r\nQ 24.75 6.390625 31.78125 6.390625 \r\nQ 38.8125 6.390625 42.859375 10.171875 \r\nQ 46.921875 13.96875 46.921875 20.515625 \r\nQ 46.921875 27.09375 42.890625 30.859375 \r\nQ 38.875 34.625 31.78125 34.625 \r\nz\r\nM 21.921875 38.8125 \r\nQ 15.578125 40.375 12.03125 44.71875 \r\nQ 8.5 49.078125 8.5 55.328125 \r\nQ 8.5 64.0625 14.71875 69.140625 \r\nQ 20.953125 74.21875 31.78125 74.21875 \r\nQ 42.671875 74.21875 48.875 69.140625 \r\nQ 55.078125 64.0625 55.078125 55.328125 \r\nQ 55.078125 49.078125 51.53125 44.71875 \r\nQ 48 40.375 41.703125 38.8125 \r\nQ 48.828125 37.15625 52.796875 32.3125 \r\nQ 56.78125 27.484375 56.78125 20.515625 \r\nQ 56.78125 9.90625 50.3125 4.234375 \r\nQ 43.84375 -1.421875 31.78125 -1.421875 \r\nQ 19.734375 -1.421875 13.25 4.234375 \r\nQ 6.78125 9.90625 6.78125 20.515625 \r\nQ 6.78125 27.484375 10.78125 32.3125 \r\nQ 14.796875 37.15625 21.921875 38.8125 \r\nz\r\nM 18.3125 54.390625 \r\nQ 18.3125 48.734375 21.84375 45.5625 \r\nQ 25.390625 42.390625 31.78125 42.390625 \r\nQ 38.140625 42.390625 41.71875 45.5625 \r\nQ 45.3125 48.734375 45.3125 54.390625 \r\nQ 45.3125 60.0625 41.71875 63.234375 \r\nQ 38.140625 66.40625 31.78125 66.40625 \r\nQ 25.390625 66.40625 21.84375 63.234375 \r\nQ 18.3125 60.0625 18.3125 54.390625 \r\nz\r\n\" id=\"DejaVuSans-56\"/>\r\n      </defs>\r\n      <g transform=\"translate(210.214006 239.238437)scale(0.1 -0.1)\">\r\n       <use xlink:href=\"#DejaVuSans-56\"/>\r\n       <use x=\"63.623047\" xlink:href=\"#DejaVuSans-46\"/>\r\n       <use x=\"95.410156\" xlink:href=\"#DejaVuSans-48\"/>\r\n      </g>\r\n     </g>\r\n    </g>\r\n    <g id=\"xtick_10\">\r\n     <g id=\"line2d_10\">\r\n      <g>\r\n       <use style=\"stroke:#000000;stroke-width:0.8;\" x=\"237.932841\" xlink:href=\"#m304b7649af\" y=\"224.64\"/>\r\n      </g>\r\n     </g>\r\n     <g id=\"text_10\">\r\n      <!-- 9.0 -->\r\n      <defs>\r\n       <path d=\"M 10.984375 1.515625 \r\nL 10.984375 10.5 \r\nQ 14.703125 8.734375 18.5 7.8125 \r\nQ 22.3125 6.890625 25.984375 6.890625 \r\nQ 35.75 6.890625 40.890625 13.453125 \r\nQ 46.046875 20.015625 46.78125 33.40625 \r\nQ 43.953125 29.203125 39.59375 26.953125 \r\nQ 35.25 24.703125 29.984375 24.703125 \r\nQ 19.046875 24.703125 12.671875 31.3125 \r\nQ 6.296875 37.9375 6.296875 49.421875 \r\nQ 6.296875 60.640625 12.9375 67.421875 \r\nQ 19.578125 74.21875 30.609375 74.21875 \r\nQ 43.265625 74.21875 49.921875 64.515625 \r\nQ 56.59375 54.828125 56.59375 36.375 \r\nQ 56.59375 19.140625 48.40625 8.859375 \r\nQ 40.234375 -1.421875 26.421875 -1.421875 \r\nQ 22.703125 -1.421875 18.890625 -0.6875 \r\nQ 15.09375 0.046875 10.984375 1.515625 \r\nz\r\nM 30.609375 32.421875 \r\nQ 37.25 32.421875 41.125 36.953125 \r\nQ 45.015625 41.5 45.015625 49.421875 \r\nQ 45.015625 57.28125 41.125 61.84375 \r\nQ 37.25 66.40625 30.609375 66.40625 \r\nQ 23.96875 66.40625 20.09375 61.84375 \r\nQ 16.21875 57.28125 16.21875 49.421875 \r\nQ 16.21875 41.5 20.09375 36.953125 \r\nQ 23.96875 32.421875 30.609375 32.421875 \r\nz\r\n\" id=\"DejaVuSans-57\"/>\r\n      </defs>\r\n      <g transform=\"translate(229.981278 239.238437)scale(0.1 -0.1)\">\r\n       <use xlink:href=\"#DejaVuSans-57\"/>\r\n       <use x=\"63.623047\" xlink:href=\"#DejaVuSans-46\"/>\r\n       <use x=\"95.410156\" xlink:href=\"#DejaVuSans-48\"/>\r\n      </g>\r\n     </g>\r\n    </g>\r\n    <g id=\"xtick_11\">\r\n     <g id=\"line2d_11\">\r\n      <g>\r\n       <use style=\"stroke:#000000;stroke-width:0.8;\" x=\"257.700114\" xlink:href=\"#m304b7649af\" y=\"224.64\"/>\r\n      </g>\r\n     </g>\r\n     <g id=\"text_11\">\r\n      <!-- 10.0 -->\r\n      <g transform=\"translate(246.567301 239.238437)scale(0.1 -0.1)\">\r\n       <use xlink:href=\"#DejaVuSans-49\"/>\r\n       <use x=\"63.623047\" xlink:href=\"#DejaVuSans-48\"/>\r\n       <use x=\"127.246094\" xlink:href=\"#DejaVuSans-46\"/>\r\n       <use x=\"159.033203\" xlink:href=\"#DejaVuSans-48\"/>\r\n      </g>\r\n     </g>\r\n    </g>\r\n    <g id=\"text_12\">\r\n     <!-- Predicted label -->\r\n     <defs>\r\n      <path d=\"M 19.671875 64.796875 \r\nL 19.671875 37.40625 \r\nL 32.078125 37.40625 \r\nQ 38.96875 37.40625 42.71875 40.96875 \r\nQ 46.484375 44.53125 46.484375 51.125 \r\nQ 46.484375 57.671875 42.71875 61.234375 \r\nQ 38.96875 64.796875 32.078125 64.796875 \r\nz\r\nM 9.8125 72.90625 \r\nL 32.078125 72.90625 \r\nQ 44.34375 72.90625 50.609375 67.359375 \r\nQ 56.890625 61.8125 56.890625 51.125 \r\nQ 56.890625 40.328125 50.609375 34.8125 \r\nQ 44.34375 29.296875 32.078125 29.296875 \r\nL 19.671875 29.296875 \r\nL 19.671875 0 \r\nL 9.8125 0 \r\nz\r\n\" id=\"DejaVuSans-80\"/>\r\n      <path d=\"M 41.109375 46.296875 \r\nQ 39.59375 47.171875 37.8125 47.578125 \r\nQ 36.03125 48 33.890625 48 \r\nQ 26.265625 48 22.1875 43.046875 \r\nQ 18.109375 38.09375 18.109375 28.8125 \r\nL 18.109375 0 \r\nL 9.078125 0 \r\nL 9.078125 54.6875 \r\nL 18.109375 54.6875 \r\nL 18.109375 46.1875 \r\nQ 20.953125 51.171875 25.484375 53.578125 \r\nQ 30.03125 56 36.53125 56 \r\nQ 37.453125 56 38.578125 55.875 \r\nQ 39.703125 55.765625 41.0625 55.515625 \r\nz\r\n\" id=\"DejaVuSans-114\"/>\r\n      <path d=\"M 56.203125 29.59375 \r\nL 56.203125 25.203125 \r\nL 14.890625 25.203125 \r\nQ 15.484375 15.921875 20.484375 11.0625 \r\nQ 25.484375 6.203125 34.421875 6.203125 \r\nQ 39.59375 6.203125 44.453125 7.46875 \r\nQ 49.3125 8.734375 54.109375 11.28125 \r\nL 54.109375 2.78125 \r\nQ 49.265625 0.734375 44.1875 -0.34375 \r\nQ 39.109375 -1.421875 33.890625 -1.421875 \r\nQ 20.796875 -1.421875 13.15625 6.1875 \r\nQ 5.515625 13.8125 5.515625 26.8125 \r\nQ 5.515625 40.234375 12.765625 48.109375 \r\nQ 20.015625 56 32.328125 56 \r\nQ 43.359375 56 49.78125 48.890625 \r\nQ 56.203125 41.796875 56.203125 29.59375 \r\nz\r\nM 47.21875 32.234375 \r\nQ 47.125 39.59375 43.09375 43.984375 \r\nQ 39.0625 48.390625 32.421875 48.390625 \r\nQ 24.90625 48.390625 20.390625 44.140625 \r\nQ 15.875 39.890625 15.1875 32.171875 \r\nz\r\n\" id=\"DejaVuSans-101\"/>\r\n      <path d=\"M 45.40625 46.390625 \r\nL 45.40625 75.984375 \r\nL 54.390625 75.984375 \r\nL 54.390625 0 \r\nL 45.40625 0 \r\nL 45.40625 8.203125 \r\nQ 42.578125 3.328125 38.25 0.953125 \r\nQ 33.9375 -1.421875 27.875 -1.421875 \r\nQ 17.96875 -1.421875 11.734375 6.484375 \r\nQ 5.515625 14.40625 5.515625 27.296875 \r\nQ 5.515625 40.1875 11.734375 48.09375 \r\nQ 17.96875 56 27.875 56 \r\nQ 33.9375 56 38.25 53.625 \r\nQ 42.578125 51.265625 45.40625 46.390625 \r\nz\r\nM 14.796875 27.296875 \r\nQ 14.796875 17.390625 18.875 11.75 \r\nQ 22.953125 6.109375 30.078125 6.109375 \r\nQ 37.203125 6.109375 41.296875 11.75 \r\nQ 45.40625 17.390625 45.40625 27.296875 \r\nQ 45.40625 37.203125 41.296875 42.84375 \r\nQ 37.203125 48.484375 30.078125 48.484375 \r\nQ 22.953125 48.484375 18.875 42.84375 \r\nQ 14.796875 37.203125 14.796875 27.296875 \r\nz\r\n\" id=\"DejaVuSans-100\"/>\r\n      <path d=\"M 9.421875 54.6875 \r\nL 18.40625 54.6875 \r\nL 18.40625 0 \r\nL 9.421875 0 \r\nz\r\nM 9.421875 75.984375 \r\nL 18.40625 75.984375 \r\nL 18.40625 64.59375 \r\nL 9.421875 64.59375 \r\nz\r\n\" id=\"DejaVuSans-105\"/>\r\n      <path d=\"M 48.78125 52.59375 \r\nL 48.78125 44.1875 \r\nQ 44.96875 46.296875 41.140625 47.34375 \r\nQ 37.3125 48.390625 33.40625 48.390625 \r\nQ 24.65625 48.390625 19.8125 42.84375 \r\nQ 14.984375 37.3125 14.984375 27.296875 \r\nQ 14.984375 17.28125 19.8125 11.734375 \r\nQ 24.65625 6.203125 33.40625 6.203125 \r\nQ 37.3125 6.203125 41.140625 7.25 \r\nQ 44.96875 8.296875 48.78125 10.40625 \r\nL 48.78125 2.09375 \r\nQ 45.015625 0.34375 40.984375 -0.53125 \r\nQ 36.96875 -1.421875 32.421875 -1.421875 \r\nQ 20.0625 -1.421875 12.78125 6.34375 \r\nQ 5.515625 14.109375 5.515625 27.296875 \r\nQ 5.515625 40.671875 12.859375 48.328125 \r\nQ 20.21875 56 33.015625 56 \r\nQ 37.15625 56 41.109375 55.140625 \r\nQ 45.0625 54.296875 48.78125 52.59375 \r\nz\r\n\" id=\"DejaVuSans-99\"/>\r\n      <path d=\"M 18.3125 70.21875 \r\nL 18.3125 54.6875 \r\nL 36.8125 54.6875 \r\nL 36.8125 47.703125 \r\nL 18.3125 47.703125 \r\nL 18.3125 18.015625 \r\nQ 18.3125 11.328125 20.140625 9.421875 \r\nQ 21.96875 7.515625 27.59375 7.515625 \r\nL 36.8125 7.515625 \r\nL 36.8125 0 \r\nL 27.59375 0 \r\nQ 17.1875 0 13.234375 3.875 \r\nQ 9.28125 7.765625 9.28125 18.015625 \r\nL 9.28125 47.703125 \r\nL 2.6875 47.703125 \r\nL 2.6875 54.6875 \r\nL 9.28125 54.6875 \r\nL 9.28125 70.21875 \r\nz\r\n\" id=\"DejaVuSans-116\"/>\r\n      <path id=\"DejaVuSans-32\"/>\r\n      <path d=\"M 9.421875 75.984375 \r\nL 18.40625 75.984375 \r\nL 18.40625 0 \r\nL 9.421875 0 \r\nz\r\n\" id=\"DejaVuSans-108\"/>\r\n      <path d=\"M 34.28125 27.484375 \r\nQ 23.390625 27.484375 19.1875 25 \r\nQ 14.984375 22.515625 14.984375 16.5 \r\nQ 14.984375 11.71875 18.140625 8.90625 \r\nQ 21.296875 6.109375 26.703125 6.109375 \r\nQ 34.1875 6.109375 38.703125 11.40625 \r\nQ 43.21875 16.703125 43.21875 25.484375 \r\nL 43.21875 27.484375 \r\nz\r\nM 52.203125 31.203125 \r\nL 52.203125 0 \r\nL 43.21875 0 \r\nL 43.21875 8.296875 \r\nQ 40.140625 3.328125 35.546875 0.953125 \r\nQ 30.953125 -1.421875 24.3125 -1.421875 \r\nQ 15.921875 -1.421875 10.953125 3.296875 \r\nQ 6 8.015625 6 15.921875 \r\nQ 6 25.140625 12.171875 29.828125 \r\nQ 18.359375 34.515625 30.609375 34.515625 \r\nL 43.21875 34.515625 \r\nL 43.21875 35.40625 \r\nQ 43.21875 41.609375 39.140625 45 \r\nQ 35.0625 48.390625 27.6875 48.390625 \r\nQ 23 48.390625 18.546875 47.265625 \r\nQ 14.109375 46.140625 10.015625 43.890625 \r\nL 10.015625 52.203125 \r\nQ 14.9375 54.109375 19.578125 55.046875 \r\nQ 24.21875 56 28.609375 56 \r\nQ 40.484375 56 46.34375 49.84375 \r\nQ 52.203125 43.703125 52.203125 31.203125 \r\nz\r\n\" id=\"DejaVuSans-97\"/>\r\n      <path d=\"M 48.6875 27.296875 \r\nQ 48.6875 37.203125 44.609375 42.84375 \r\nQ 40.53125 48.484375 33.40625 48.484375 \r\nQ 26.265625 48.484375 22.1875 42.84375 \r\nQ 18.109375 37.203125 18.109375 27.296875 \r\nQ 18.109375 17.390625 22.1875 11.75 \r\nQ 26.265625 6.109375 33.40625 6.109375 \r\nQ 40.53125 6.109375 44.609375 11.75 \r\nQ 48.6875 17.390625 48.6875 27.296875 \r\nz\r\nM 18.109375 46.390625 \r\nQ 20.953125 51.265625 25.265625 53.625 \r\nQ 29.59375 56 35.59375 56 \r\nQ 45.5625 56 51.78125 48.09375 \r\nQ 58.015625 40.1875 58.015625 27.296875 \r\nQ 58.015625 14.40625 51.78125 6.484375 \r\nQ 45.5625 -1.421875 35.59375 -1.421875 \r\nQ 29.59375 -1.421875 25.265625 0.953125 \r\nQ 20.953125 3.328125 18.109375 8.203125 \r\nL 18.109375 0 \r\nL 9.078125 0 \r\nL 9.078125 75.984375 \r\nL 18.109375 75.984375 \r\nz\r\n\" id=\"DejaVuSans-98\"/>\r\n     </defs>\r\n     <g transform=\"translate(121.711406 252.916562)scale(0.1 -0.1)\">\r\n      <use xlink:href=\"#DejaVuSans-80\"/>\r\n      <use x=\"58.552734\" xlink:href=\"#DejaVuSans-114\"/>\r\n      <use x=\"97.416016\" xlink:href=\"#DejaVuSans-101\"/>\r\n      <use x=\"158.939453\" xlink:href=\"#DejaVuSans-100\"/>\r\n      <use x=\"222.416016\" xlink:href=\"#DejaVuSans-105\"/>\r\n      <use x=\"250.199219\" xlink:href=\"#DejaVuSans-99\"/>\r\n      <use x=\"305.179688\" xlink:href=\"#DejaVuSans-116\"/>\r\n      <use x=\"344.388672\" xlink:href=\"#DejaVuSans-101\"/>\r\n      <use x=\"405.912109\" xlink:href=\"#DejaVuSans-100\"/>\r\n      <use x=\"469.388672\" xlink:href=\"#DejaVuSans-32\"/>\r\n      <use x=\"501.175781\" xlink:href=\"#DejaVuSans-108\"/>\r\n      <use x=\"528.958984\" xlink:href=\"#DejaVuSans-97\"/>\r\n      <use x=\"590.238281\" xlink:href=\"#DejaVuSans-98\"/>\r\n      <use x=\"653.714844\" xlink:href=\"#DejaVuSans-101\"/>\r\n      <use x=\"715.238281\" xlink:href=\"#DejaVuSans-108\"/>\r\n     </g>\r\n    </g>\r\n   </g>\r\n   <g id=\"matplotlib.axis_2\">\r\n    <g id=\"ytick_1\">\r\n     <g id=\"line2d_12\">\r\n      <defs>\r\n       <path d=\"M 0 0 \r\nL -3.5 0 \r\n\" id=\"m8ee90a5213\" style=\"stroke:#000000;stroke-width:0.8;\"/>\r\n      </defs>\r\n      <g>\r\n       <use style=\"stroke:#000000;stroke-width:0.8;\" x=\"50.14375\" xlink:href=\"#m8ee90a5213\" y=\"17.083636\"/>\r\n      </g>\r\n     </g>\r\n     <g id=\"text_13\">\r\n      <!-- 0.0 -->\r\n      <g transform=\"translate(27.240625 20.882855)scale(0.1 -0.1)\">\r\n       <use xlink:href=\"#DejaVuSans-48\"/>\r\n       <use x=\"63.623047\" xlink:href=\"#DejaVuSans-46\"/>\r\n       <use x=\"95.410156\" xlink:href=\"#DejaVuSans-48\"/>\r\n      </g>\r\n     </g>\r\n    </g>\r\n    <g id=\"ytick_2\">\r\n     <g id=\"line2d_13\">\r\n      <g>\r\n       <use style=\"stroke:#000000;stroke-width:0.8;\" x=\"50.14375\" xlink:href=\"#m8ee90a5213\" y=\"36.850909\"/>\r\n      </g>\r\n     </g>\r\n     <g id=\"text_14\">\r\n      <!-- 1.0 -->\r\n      <g transform=\"translate(27.240625 40.650128)scale(0.1 -0.1)\">\r\n       <use xlink:href=\"#DejaVuSans-49\"/>\r\n       <use x=\"63.623047\" xlink:href=\"#DejaVuSans-46\"/>\r\n       <use x=\"95.410156\" xlink:href=\"#DejaVuSans-48\"/>\r\n      </g>\r\n     </g>\r\n    </g>\r\n    <g id=\"ytick_3\">\r\n     <g id=\"line2d_14\">\r\n      <g>\r\n       <use style=\"stroke:#000000;stroke-width:0.8;\" x=\"50.14375\" xlink:href=\"#m8ee90a5213\" y=\"56.618182\"/>\r\n      </g>\r\n     </g>\r\n     <g id=\"text_15\">\r\n      <!-- 2.0 -->\r\n      <g transform=\"translate(27.240625 60.417401)scale(0.1 -0.1)\">\r\n       <use xlink:href=\"#DejaVuSans-50\"/>\r\n       <use x=\"63.623047\" xlink:href=\"#DejaVuSans-46\"/>\r\n       <use x=\"95.410156\" xlink:href=\"#DejaVuSans-48\"/>\r\n      </g>\r\n     </g>\r\n    </g>\r\n    <g id=\"ytick_4\">\r\n     <g id=\"line2d_15\">\r\n      <g>\r\n       <use style=\"stroke:#000000;stroke-width:0.8;\" x=\"50.14375\" xlink:href=\"#m8ee90a5213\" y=\"76.385455\"/>\r\n      </g>\r\n     </g>\r\n     <g id=\"text_16\">\r\n      <!-- 3.0 -->\r\n      <g transform=\"translate(27.240625 80.184673)scale(0.1 -0.1)\">\r\n       <use xlink:href=\"#DejaVuSans-51\"/>\r\n       <use x=\"63.623047\" xlink:href=\"#DejaVuSans-46\"/>\r\n       <use x=\"95.410156\" xlink:href=\"#DejaVuSans-48\"/>\r\n      </g>\r\n     </g>\r\n    </g>\r\n    <g id=\"ytick_5\">\r\n     <g id=\"line2d_16\">\r\n      <g>\r\n       <use style=\"stroke:#000000;stroke-width:0.8;\" x=\"50.14375\" xlink:href=\"#m8ee90a5213\" y=\"96.152727\"/>\r\n      </g>\r\n     </g>\r\n     <g id=\"text_17\">\r\n      <!-- 4.0 -->\r\n      <g transform=\"translate(27.240625 99.951946)scale(0.1 -0.1)\">\r\n       <use xlink:href=\"#DejaVuSans-52\"/>\r\n       <use x=\"63.623047\" xlink:href=\"#DejaVuSans-46\"/>\r\n       <use x=\"95.410156\" xlink:href=\"#DejaVuSans-48\"/>\r\n      </g>\r\n     </g>\r\n    </g>\r\n    <g id=\"ytick_6\">\r\n     <g id=\"line2d_17\">\r\n      <g>\r\n       <use style=\"stroke:#000000;stroke-width:0.8;\" x=\"50.14375\" xlink:href=\"#m8ee90a5213\" y=\"115.92\"/>\r\n      </g>\r\n     </g>\r\n     <g id=\"text_18\">\r\n      <!-- 5.0 -->\r\n      <g transform=\"translate(27.240625 119.719219)scale(0.1 -0.1)\">\r\n       <use xlink:href=\"#DejaVuSans-53\"/>\r\n       <use x=\"63.623047\" xlink:href=\"#DejaVuSans-46\"/>\r\n       <use x=\"95.410156\" xlink:href=\"#DejaVuSans-48\"/>\r\n      </g>\r\n     </g>\r\n    </g>\r\n    <g id=\"ytick_7\">\r\n     <g id=\"line2d_18\">\r\n      <g>\r\n       <use style=\"stroke:#000000;stroke-width:0.8;\" x=\"50.14375\" xlink:href=\"#m8ee90a5213\" y=\"135.687273\"/>\r\n      </g>\r\n     </g>\r\n     <g id=\"text_19\">\r\n      <!-- 6.0 -->\r\n      <g transform=\"translate(27.240625 139.486491)scale(0.1 -0.1)\">\r\n       <use xlink:href=\"#DejaVuSans-54\"/>\r\n       <use x=\"63.623047\" xlink:href=\"#DejaVuSans-46\"/>\r\n       <use x=\"95.410156\" xlink:href=\"#DejaVuSans-48\"/>\r\n      </g>\r\n     </g>\r\n    </g>\r\n    <g id=\"ytick_8\">\r\n     <g id=\"line2d_19\">\r\n      <g>\r\n       <use style=\"stroke:#000000;stroke-width:0.8;\" x=\"50.14375\" xlink:href=\"#m8ee90a5213\" y=\"155.454545\"/>\r\n      </g>\r\n     </g>\r\n     <g id=\"text_20\">\r\n      <!-- 7.0 -->\r\n      <g transform=\"translate(27.240625 159.253764)scale(0.1 -0.1)\">\r\n       <use xlink:href=\"#DejaVuSans-55\"/>\r\n       <use x=\"63.623047\" xlink:href=\"#DejaVuSans-46\"/>\r\n       <use x=\"95.410156\" xlink:href=\"#DejaVuSans-48\"/>\r\n      </g>\r\n     </g>\r\n    </g>\r\n    <g id=\"ytick_9\">\r\n     <g id=\"line2d_20\">\r\n      <g>\r\n       <use style=\"stroke:#000000;stroke-width:0.8;\" x=\"50.14375\" xlink:href=\"#m8ee90a5213\" y=\"175.221818\"/>\r\n      </g>\r\n     </g>\r\n     <g id=\"text_21\">\r\n      <!-- 8.0 -->\r\n      <g transform=\"translate(27.240625 179.021037)scale(0.1 -0.1)\">\r\n       <use xlink:href=\"#DejaVuSans-56\"/>\r\n       <use x=\"63.623047\" xlink:href=\"#DejaVuSans-46\"/>\r\n       <use x=\"95.410156\" xlink:href=\"#DejaVuSans-48\"/>\r\n      </g>\r\n     </g>\r\n    </g>\r\n    <g id=\"ytick_10\">\r\n     <g id=\"line2d_21\">\r\n      <g>\r\n       <use style=\"stroke:#000000;stroke-width:0.8;\" x=\"50.14375\" xlink:href=\"#m8ee90a5213\" y=\"194.989091\"/>\r\n      </g>\r\n     </g>\r\n     <g id=\"text_22\">\r\n      <!-- 9.0 -->\r\n      <g transform=\"translate(27.240625 198.78831)scale(0.1 -0.1)\">\r\n       <use xlink:href=\"#DejaVuSans-57\"/>\r\n       <use x=\"63.623047\" xlink:href=\"#DejaVuSans-46\"/>\r\n       <use x=\"95.410156\" xlink:href=\"#DejaVuSans-48\"/>\r\n      </g>\r\n     </g>\r\n    </g>\r\n    <g id=\"ytick_11\">\r\n     <g id=\"line2d_22\">\r\n      <g>\r\n       <use style=\"stroke:#000000;stroke-width:0.8;\" x=\"50.14375\" xlink:href=\"#m8ee90a5213\" y=\"214.756364\"/>\r\n      </g>\r\n     </g>\r\n     <g id=\"text_23\">\r\n      <!-- 10.0 -->\r\n      <g transform=\"translate(20.878125 218.555582)scale(0.1 -0.1)\">\r\n       <use xlink:href=\"#DejaVuSans-49\"/>\r\n       <use x=\"63.623047\" xlink:href=\"#DejaVuSans-48\"/>\r\n       <use x=\"127.246094\" xlink:href=\"#DejaVuSans-46\"/>\r\n       <use x=\"159.033203\" xlink:href=\"#DejaVuSans-48\"/>\r\n      </g>\r\n     </g>\r\n    </g>\r\n    <g id=\"text_24\">\r\n     <!-- True label -->\r\n     <defs>\r\n      <path d=\"M -0.296875 72.90625 \r\nL 61.375 72.90625 \r\nL 61.375 64.59375 \r\nL 35.5 64.59375 \r\nL 35.5 0 \r\nL 25.59375 0 \r\nL 25.59375 64.59375 \r\nL -0.296875 64.59375 \r\nz\r\n\" id=\"DejaVuSans-84\"/>\r\n      <path d=\"M 8.5 21.578125 \r\nL 8.5 54.6875 \r\nL 17.484375 54.6875 \r\nL 17.484375 21.921875 \r\nQ 17.484375 14.15625 20.5 10.265625 \r\nQ 23.53125 6.390625 29.59375 6.390625 \r\nQ 36.859375 6.390625 41.078125 11.03125 \r\nQ 45.3125 15.671875 45.3125 23.6875 \r\nL 45.3125 54.6875 \r\nL 54.296875 54.6875 \r\nL 54.296875 0 \r\nL 45.3125 0 \r\nL 45.3125 8.40625 \r\nQ 42.046875 3.421875 37.71875 1 \r\nQ 33.40625 -1.421875 27.6875 -1.421875 \r\nQ 18.265625 -1.421875 13.375 4.4375 \r\nQ 8.5 10.296875 8.5 21.578125 \r\nz\r\nM 31.109375 56 \r\nz\r\n\" id=\"DejaVuSans-117\"/>\r\n     </defs>\r\n     <g transform=\"translate(14.798438 140.219219)rotate(-90)scale(0.1 -0.1)\">\r\n      <use xlink:href=\"#DejaVuSans-84\"/>\r\n      <use x=\"46.333984\" xlink:href=\"#DejaVuSans-114\"/>\r\n      <use x=\"87.447266\" xlink:href=\"#DejaVuSans-117\"/>\r\n      <use x=\"150.826172\" xlink:href=\"#DejaVuSans-101\"/>\r\n      <use x=\"212.349609\" xlink:href=\"#DejaVuSans-32\"/>\r\n      <use x=\"244.136719\" xlink:href=\"#DejaVuSans-108\"/>\r\n      <use x=\"271.919922\" xlink:href=\"#DejaVuSans-97\"/>\r\n      <use x=\"333.199219\" xlink:href=\"#DejaVuSans-98\"/>\r\n      <use x=\"396.675781\" xlink:href=\"#DejaVuSans-101\"/>\r\n      <use x=\"458.199219\" xlink:href=\"#DejaVuSans-108\"/>\r\n     </g>\r\n    </g>\r\n   </g>\r\n   <g id=\"patch_3\">\r\n    <path d=\"M 50.14375 224.64 \r\nL 50.14375 7.2 \r\n\" style=\"fill:none;stroke:#000000;stroke-linecap:square;stroke-linejoin:miter;stroke-width:0.8;\"/>\r\n   </g>\r\n   <g id=\"patch_4\">\r\n    <path d=\"M 267.58375 224.64 \r\nL 267.58375 7.2 \r\n\" style=\"fill:none;stroke:#000000;stroke-linecap:square;stroke-linejoin:miter;stroke-width:0.8;\"/>\r\n   </g>\r\n   <g id=\"patch_5\">\r\n    <path d=\"M 50.14375 224.64 \r\nL 267.58375 224.64 \r\n\" style=\"fill:none;stroke:#000000;stroke-linecap:square;stroke-linejoin:miter;stroke-width:0.8;\"/>\r\n   </g>\r\n   <g id=\"patch_6\">\r\n    <path d=\"M 50.14375 7.2 \r\nL 267.58375 7.2 \r\n\" style=\"fill:none;stroke:#000000;stroke-linecap:square;stroke-linejoin:miter;stroke-width:0.8;\"/>\r\n   </g>\r\n   <g id=\"text_25\">\r\n    <!-- 881 -->\r\n    <g style=\"fill:#440154;\" transform=\"translate(50.483636 19.843011)scale(0.1 -0.1)\">\r\n     <use xlink:href=\"#DejaVuSans-56\"/>\r\n     <use x=\"63.623047\" xlink:href=\"#DejaVuSans-56\"/>\r\n     <use x=\"127.246094\" xlink:href=\"#DejaVuSans-49\"/>\r\n    </g>\r\n   </g>\r\n   <g id=\"text_26\">\r\n    <!-- 65 -->\r\n    <g style=\"fill:#fde725;\" transform=\"translate(73.432159 19.843011)scale(0.1 -0.1)\">\r\n     <use xlink:href=\"#DejaVuSans-54\"/>\r\n     <use x=\"63.623047\" xlink:href=\"#DejaVuSans-53\"/>\r\n    </g>\r\n   </g>\r\n   <g id=\"text_27\">\r\n    <!-- 77 -->\r\n    <g style=\"fill:#fde725;\" transform=\"translate(93.199432 19.843011)scale(0.1 -0.1)\">\r\n     <use xlink:href=\"#DejaVuSans-55\"/>\r\n     <use x=\"63.623047\" xlink:href=\"#DejaVuSans-55\"/>\r\n    </g>\r\n   </g>\r\n   <g id=\"text_28\">\r\n    <!-- 17 -->\r\n    <g style=\"fill:#fde725;\" transform=\"translate(112.966705 19.843011)scale(0.1 -0.1)\">\r\n     <use xlink:href=\"#DejaVuSans-49\"/>\r\n     <use x=\"63.623047\" xlink:href=\"#DejaVuSans-55\"/>\r\n    </g>\r\n   </g>\r\n   <g id=\"text_29\">\r\n    <!-- 67 -->\r\n    <g style=\"fill:#fde725;\" transform=\"translate(132.733977 19.843011)scale(0.1 -0.1)\">\r\n     <use xlink:href=\"#DejaVuSans-54\"/>\r\n     <use x=\"63.623047\" xlink:href=\"#DejaVuSans-55\"/>\r\n    </g>\r\n   </g>\r\n   <g id=\"text_30\">\r\n    <!-- 34 -->\r\n    <g style=\"fill:#fde725;\" transform=\"translate(152.50125 19.843011)scale(0.1 -0.1)\">\r\n     <use xlink:href=\"#DejaVuSans-51\"/>\r\n     <use x=\"63.623047\" xlink:href=\"#DejaVuSans-52\"/>\r\n    </g>\r\n   </g>\r\n   <g id=\"text_31\">\r\n    <!-- 171 -->\r\n    <g style=\"fill:#fde725;\" transform=\"translate(169.087273 19.843011)scale(0.1 -0.1)\">\r\n     <use xlink:href=\"#DejaVuSans-49\"/>\r\n     <use x=\"63.623047\" xlink:href=\"#DejaVuSans-55\"/>\r\n     <use x=\"127.246094\" xlink:href=\"#DejaVuSans-49\"/>\r\n    </g>\r\n   </g>\r\n   <g id=\"text_32\">\r\n    <!-- 24 -->\r\n    <g style=\"fill:#fde725;\" transform=\"translate(192.035795 19.843011)scale(0.1 -0.1)\">\r\n     <use xlink:href=\"#DejaVuSans-50\"/>\r\n     <use x=\"63.623047\" xlink:href=\"#DejaVuSans-52\"/>\r\n    </g>\r\n   </g>\r\n   <g id=\"text_33\">\r\n    <!-- 13 -->\r\n    <g style=\"fill:#fde725;\" transform=\"translate(211.803068 19.843011)scale(0.1 -0.1)\">\r\n     <use xlink:href=\"#DejaVuSans-49\"/>\r\n     <use x=\"63.623047\" xlink:href=\"#DejaVuSans-51\"/>\r\n    </g>\r\n   </g>\r\n   <g id=\"text_34\">\r\n    <!-- 50 -->\r\n    <g style=\"fill:#fde725;\" transform=\"translate(231.570341 19.843011)scale(0.1 -0.1)\">\r\n     <use xlink:href=\"#DejaVuSans-53\"/>\r\n     <use x=\"63.623047\" xlink:href=\"#DejaVuSans-48\"/>\r\n    </g>\r\n   </g>\r\n   <g id=\"text_35\">\r\n    <!-- 1 -->\r\n    <g style=\"fill:#fde725;\" transform=\"translate(254.518864 19.843011)scale(0.1 -0.1)\">\r\n     <use xlink:href=\"#DejaVuSans-49\"/>\r\n    </g>\r\n   </g>\r\n   <g id=\"text_36\">\r\n    <!-- 129 -->\r\n    <g style=\"fill:#fde725;\" transform=\"translate(50.483636 39.610284)scale(0.1 -0.1)\">\r\n     <use xlink:href=\"#DejaVuSans-49\"/>\r\n     <use x=\"63.623047\" xlink:href=\"#DejaVuSans-50\"/>\r\n     <use x=\"127.246094\" xlink:href=\"#DejaVuSans-57\"/>\r\n    </g>\r\n   </g>\r\n   <g id=\"text_37\">\r\n    <!-- 830 -->\r\n    <g style=\"fill:#440154;\" transform=\"translate(70.250909 39.610284)scale(0.1 -0.1)\">\r\n     <use xlink:href=\"#DejaVuSans-56\"/>\r\n     <use x=\"63.623047\" xlink:href=\"#DejaVuSans-51\"/>\r\n     <use x=\"127.246094\" xlink:href=\"#DejaVuSans-48\"/>\r\n    </g>\r\n   </g>\r\n   <g id=\"text_38\">\r\n    <!-- 37 -->\r\n    <g style=\"fill:#fde725;\" transform=\"translate(93.199432 39.610284)scale(0.1 -0.1)\">\r\n     <use xlink:href=\"#DejaVuSans-51\"/>\r\n     <use x=\"63.623047\" xlink:href=\"#DejaVuSans-55\"/>\r\n    </g>\r\n   </g>\r\n   <g id=\"text_39\">\r\n    <!-- 11 -->\r\n    <g style=\"fill:#fde725;\" transform=\"translate(112.966705 39.610284)scale(0.1 -0.1)\">\r\n     <use xlink:href=\"#DejaVuSans-49\"/>\r\n     <use x=\"63.623047\" xlink:href=\"#DejaVuSans-49\"/>\r\n    </g>\r\n   </g>\r\n   <g id=\"text_40\">\r\n    <!-- 45 -->\r\n    <g style=\"fill:#fde725;\" transform=\"translate(132.733977 39.610284)scale(0.1 -0.1)\">\r\n     <use xlink:href=\"#DejaVuSans-52\"/>\r\n     <use x=\"63.623047\" xlink:href=\"#DejaVuSans-53\"/>\r\n    </g>\r\n   </g>\r\n   <g id=\"text_41\">\r\n    <!-- 29 -->\r\n    <g style=\"fill:#fde725;\" transform=\"translate(152.50125 39.610284)scale(0.1 -0.1)\">\r\n     <use xlink:href=\"#DejaVuSans-50\"/>\r\n     <use x=\"63.623047\" xlink:href=\"#DejaVuSans-57\"/>\r\n    </g>\r\n   </g>\r\n   <g id=\"text_42\">\r\n    <!-- 153 -->\r\n    <g style=\"fill:#fde725;\" transform=\"translate(169.087273 39.610284)scale(0.1 -0.1)\">\r\n     <use xlink:href=\"#DejaVuSans-49\"/>\r\n     <use x=\"63.623047\" xlink:href=\"#DejaVuSans-53\"/>\r\n     <use x=\"127.246094\" xlink:href=\"#DejaVuSans-51\"/>\r\n    </g>\r\n   </g>\r\n   <g id=\"text_43\">\r\n    <!-- 35 -->\r\n    <g style=\"fill:#fde725;\" transform=\"translate(192.035795 39.610284)scale(0.1 -0.1)\">\r\n     <use xlink:href=\"#DejaVuSans-51\"/>\r\n     <use x=\"63.623047\" xlink:href=\"#DejaVuSans-53\"/>\r\n    </g>\r\n   </g>\r\n   <g id=\"text_44\">\r\n    <!-- 15 -->\r\n    <g style=\"fill:#fde725;\" transform=\"translate(211.803068 39.610284)scale(0.1 -0.1)\">\r\n     <use xlink:href=\"#DejaVuSans-49\"/>\r\n     <use x=\"63.623047\" xlink:href=\"#DejaVuSans-53\"/>\r\n    </g>\r\n   </g>\r\n   <g id=\"text_45\">\r\n    <!-- 114 -->\r\n    <g style=\"fill:#fde725;\" transform=\"translate(228.389091 39.610284)scale(0.1 -0.1)\">\r\n     <use xlink:href=\"#DejaVuSans-49\"/>\r\n     <use x=\"63.623047\" xlink:href=\"#DejaVuSans-49\"/>\r\n     <use x=\"127.246094\" xlink:href=\"#DejaVuSans-52\"/>\r\n    </g>\r\n   </g>\r\n   <g id=\"text_46\">\r\n    <!-- 2 -->\r\n    <g style=\"fill:#fde725;\" transform=\"translate(254.518864 39.610284)scale(0.1 -0.1)\">\r\n     <use xlink:href=\"#DejaVuSans-50\"/>\r\n    </g>\r\n   </g>\r\n   <g id=\"text_47\">\r\n    <!-- 142 -->\r\n    <g style=\"fill:#fde725;\" transform=\"translate(50.483636 59.377557)scale(0.1 -0.1)\">\r\n     <use xlink:href=\"#DejaVuSans-49\"/>\r\n     <use x=\"63.623047\" xlink:href=\"#DejaVuSans-52\"/>\r\n     <use x=\"127.246094\" xlink:href=\"#DejaVuSans-50\"/>\r\n    </g>\r\n   </g>\r\n   <g id=\"text_48\">\r\n    <!-- 43 -->\r\n    <g style=\"fill:#fde725;\" transform=\"translate(73.432159 59.377557)scale(0.1 -0.1)\">\r\n     <use xlink:href=\"#DejaVuSans-52\"/>\r\n     <use x=\"63.623047\" xlink:href=\"#DejaVuSans-51\"/>\r\n    </g>\r\n   </g>\r\n   <g id=\"text_49\">\r\n    <!-- 858 -->\r\n    <g style=\"fill:#440154;\" transform=\"translate(90.018182 59.377557)scale(0.1 -0.1)\">\r\n     <use xlink:href=\"#DejaVuSans-56\"/>\r\n     <use x=\"63.623047\" xlink:href=\"#DejaVuSans-53\"/>\r\n     <use x=\"127.246094\" xlink:href=\"#DejaVuSans-56\"/>\r\n    </g>\r\n   </g>\r\n   <g id=\"text_50\">\r\n    <!-- 32 -->\r\n    <g style=\"fill:#fde725;\" transform=\"translate(112.966705 59.377557)scale(0.1 -0.1)\">\r\n     <use xlink:href=\"#DejaVuSans-51\"/>\r\n     <use x=\"63.623047\" xlink:href=\"#DejaVuSans-50\"/>\r\n    </g>\r\n   </g>\r\n   <g id=\"text_51\">\r\n    <!-- 59 -->\r\n    <g style=\"fill:#fde725;\" transform=\"translate(132.733977 59.377557)scale(0.1 -0.1)\">\r\n     <use xlink:href=\"#DejaVuSans-53\"/>\r\n     <use x=\"63.623047\" xlink:href=\"#DejaVuSans-57\"/>\r\n    </g>\r\n   </g>\r\n   <g id=\"text_52\">\r\n    <!-- 65 -->\r\n    <g style=\"fill:#fde725;\" transform=\"translate(152.50125 59.377557)scale(0.1 -0.1)\">\r\n     <use xlink:href=\"#DejaVuSans-54\"/>\r\n     <use x=\"63.623047\" xlink:href=\"#DejaVuSans-53\"/>\r\n    </g>\r\n   </g>\r\n   <g id=\"text_53\">\r\n    <!-- 112 -->\r\n    <g style=\"fill:#fde725;\" transform=\"translate(169.087273 59.377557)scale(0.1 -0.1)\">\r\n     <use xlink:href=\"#DejaVuSans-49\"/>\r\n     <use x=\"63.623047\" xlink:href=\"#DejaVuSans-49\"/>\r\n     <use x=\"127.246094\" xlink:href=\"#DejaVuSans-50\"/>\r\n    </g>\r\n   </g>\r\n   <g id=\"text_54\">\r\n    <!-- 9 -->\r\n    <g style=\"fill:#fde725;\" transform=\"translate(195.217045 59.377557)scale(0.1 -0.1)\">\r\n     <use xlink:href=\"#DejaVuSans-57\"/>\r\n    </g>\r\n   </g>\r\n   <g id=\"text_55\">\r\n    <!-- 5 -->\r\n    <g style=\"fill:#fde725;\" transform=\"translate(214.984318 59.377557)scale(0.1 -0.1)\">\r\n     <use xlink:href=\"#DejaVuSans-53\"/>\r\n    </g>\r\n   </g>\r\n   <g id=\"text_56\">\r\n    <!-- 75 -->\r\n    <g style=\"fill:#fde725;\" transform=\"translate(231.570341 59.377557)scale(0.1 -0.1)\">\r\n     <use xlink:href=\"#DejaVuSans-55\"/>\r\n     <use x=\"63.623047\" xlink:href=\"#DejaVuSans-53\"/>\r\n    </g>\r\n   </g>\r\n   <g id=\"text_57\">\r\n    <!-- 0 -->\r\n    <g style=\"fill:#fde725;\" transform=\"translate(254.518864 59.377557)scale(0.1 -0.1)\">\r\n     <use xlink:href=\"#DejaVuSans-48\"/>\r\n    </g>\r\n   </g>\r\n   <g id=\"text_58\">\r\n    <!-- 22 -->\r\n    <g style=\"fill:#fde725;\" transform=\"translate(53.664886 79.14483)scale(0.1 -0.1)\">\r\n     <use xlink:href=\"#DejaVuSans-50\"/>\r\n     <use x=\"63.623047\" xlink:href=\"#DejaVuSans-50\"/>\r\n    </g>\r\n   </g>\r\n   <g id=\"text_59\">\r\n    <!-- 13 -->\r\n    <g style=\"fill:#fde725;\" transform=\"translate(73.432159 79.14483)scale(0.1 -0.1)\">\r\n     <use xlink:href=\"#DejaVuSans-49\"/>\r\n     <use x=\"63.623047\" xlink:href=\"#DejaVuSans-51\"/>\r\n    </g>\r\n   </g>\r\n   <g id=\"text_60\">\r\n    <!-- 38 -->\r\n    <g style=\"fill:#fde725;\" transform=\"translate(93.199432 79.14483)scale(0.1 -0.1)\">\r\n     <use xlink:href=\"#DejaVuSans-51\"/>\r\n     <use x=\"63.623047\" xlink:href=\"#DejaVuSans-56\"/>\r\n    </g>\r\n   </g>\r\n   <g id=\"text_61\">\r\n    <!-- 1234 -->\r\n    <g style=\"fill:#440154;\" transform=\"translate(106.604205 79.14483)scale(0.1 -0.1)\">\r\n     <use xlink:href=\"#DejaVuSans-49\"/>\r\n     <use x=\"63.623047\" xlink:href=\"#DejaVuSans-50\"/>\r\n     <use x=\"127.246094\" xlink:href=\"#DejaVuSans-51\"/>\r\n     <use x=\"190.869141\" xlink:href=\"#DejaVuSans-52\"/>\r\n    </g>\r\n   </g>\r\n   <g id=\"text_62\">\r\n    <!-- 13 -->\r\n    <g style=\"fill:#fde725;\" transform=\"translate(132.733977 79.14483)scale(0.1 -0.1)\">\r\n     <use xlink:href=\"#DejaVuSans-49\"/>\r\n     <use x=\"63.623047\" xlink:href=\"#DejaVuSans-51\"/>\r\n    </g>\r\n   </g>\r\n   <g id=\"text_63\">\r\n    <!-- 24 -->\r\n    <g style=\"fill:#fde725;\" transform=\"translate(152.50125 79.14483)scale(0.1 -0.1)\">\r\n     <use xlink:href=\"#DejaVuSans-50\"/>\r\n     <use x=\"63.623047\" xlink:href=\"#DejaVuSans-52\"/>\r\n    </g>\r\n   </g>\r\n   <g id=\"text_64\">\r\n    <!-- 33 -->\r\n    <g style=\"fill:#fde725;\" transform=\"translate(172.268523 79.14483)scale(0.1 -0.1)\">\r\n     <use xlink:href=\"#DejaVuSans-51\"/>\r\n     <use x=\"63.623047\" xlink:href=\"#DejaVuSans-51\"/>\r\n    </g>\r\n   </g>\r\n   <g id=\"text_65\">\r\n    <!-- 5 -->\r\n    <g style=\"fill:#fde725;\" transform=\"translate(195.217045 79.14483)scale(0.1 -0.1)\">\r\n     <use xlink:href=\"#DejaVuSans-53\"/>\r\n    </g>\r\n   </g>\r\n   <g id=\"text_66\">\r\n    <!-- 4 -->\r\n    <g style=\"fill:#fde725;\" transform=\"translate(214.984318 79.14483)scale(0.1 -0.1)\">\r\n     <use xlink:href=\"#DejaVuSans-52\"/>\r\n    </g>\r\n   </g>\r\n   <g id=\"text_67\">\r\n    <!-- 14 -->\r\n    <g style=\"fill:#fde725;\" transform=\"translate(231.570341 79.14483)scale(0.1 -0.1)\">\r\n     <use xlink:href=\"#DejaVuSans-49\"/>\r\n     <use x=\"63.623047\" xlink:href=\"#DejaVuSans-52\"/>\r\n    </g>\r\n   </g>\r\n   <g id=\"text_68\">\r\n    <!-- 0 -->\r\n    <g style=\"fill:#fde725;\" transform=\"translate(254.518864 79.14483)scale(0.1 -0.1)\">\r\n     <use xlink:href=\"#DejaVuSans-48\"/>\r\n    </g>\r\n   </g>\r\n   <g id=\"text_69\">\r\n    <!-- 44 -->\r\n    <g style=\"fill:#fde725;\" transform=\"translate(53.664886 98.912102)scale(0.1 -0.1)\">\r\n     <use xlink:href=\"#DejaVuSans-52\"/>\r\n     <use x=\"63.623047\" xlink:href=\"#DejaVuSans-52\"/>\r\n    </g>\r\n   </g>\r\n   <g id=\"text_70\">\r\n    <!-- 19 -->\r\n    <g style=\"fill:#fde725;\" transform=\"translate(73.432159 98.912102)scale(0.1 -0.1)\">\r\n     <use xlink:href=\"#DejaVuSans-49\"/>\r\n     <use x=\"63.623047\" xlink:href=\"#DejaVuSans-57\"/>\r\n    </g>\r\n   </g>\r\n   <g id=\"text_71\">\r\n    <!-- 16 -->\r\n    <g style=\"fill:#fde725;\" transform=\"translate(93.199432 98.912102)scale(0.1 -0.1)\">\r\n     <use xlink:href=\"#DejaVuSans-49\"/>\r\n     <use x=\"63.623047\" xlink:href=\"#DejaVuSans-54\"/>\r\n    </g>\r\n   </g>\r\n   <g id=\"text_72\">\r\n    <!-- 3 -->\r\n    <g style=\"fill:#fde725;\" transform=\"translate(116.147955 98.912102)scale(0.1 -0.1)\">\r\n     <use xlink:href=\"#DejaVuSans-51\"/>\r\n    </g>\r\n   </g>\r\n   <g id=\"text_73\">\r\n    <!-- 1258 -->\r\n    <g style=\"fill:#440154;\" transform=\"translate(126.371477 98.912102)scale(0.1 -0.1)\">\r\n     <use xlink:href=\"#DejaVuSans-49\"/>\r\n     <use x=\"63.623047\" xlink:href=\"#DejaVuSans-50\"/>\r\n     <use x=\"127.246094\" xlink:href=\"#DejaVuSans-53\"/>\r\n     <use x=\"190.869141\" xlink:href=\"#DejaVuSans-56\"/>\r\n    </g>\r\n   </g>\r\n   <g id=\"text_74\">\r\n    <!-- 7 -->\r\n    <g style=\"fill:#fde725;\" transform=\"translate(155.6825 98.912102)scale(0.1 -0.1)\">\r\n     <use xlink:href=\"#DejaVuSans-55\"/>\r\n    </g>\r\n   </g>\r\n   <g id=\"text_75\">\r\n    <!-- 40 -->\r\n    <g style=\"fill:#fde725;\" transform=\"translate(172.268523 98.912102)scale(0.1 -0.1)\">\r\n     <use xlink:href=\"#DejaVuSans-52\"/>\r\n     <use x=\"63.623047\" xlink:href=\"#DejaVuSans-48\"/>\r\n    </g>\r\n   </g>\r\n   <g id=\"text_76\">\r\n    <!-- 2 -->\r\n    <g style=\"fill:#fde725;\" transform=\"translate(195.217045 98.912102)scale(0.1 -0.1)\">\r\n     <use xlink:href=\"#DejaVuSans-50\"/>\r\n    </g>\r\n   </g>\r\n   <g id=\"text_77\">\r\n    <!-- 0 -->\r\n    <g style=\"fill:#fde725;\" transform=\"translate(214.984318 98.912102)scale(0.1 -0.1)\">\r\n     <use xlink:href=\"#DejaVuSans-48\"/>\r\n    </g>\r\n   </g>\r\n   <g id=\"text_78\">\r\n    <!-- 11 -->\r\n    <g style=\"fill:#fde725;\" transform=\"translate(231.570341 98.912102)scale(0.1 -0.1)\">\r\n     <use xlink:href=\"#DejaVuSans-49\"/>\r\n     <use x=\"63.623047\" xlink:href=\"#DejaVuSans-49\"/>\r\n    </g>\r\n   </g>\r\n   <g id=\"text_79\">\r\n    <!-- 0 -->\r\n    <g style=\"fill:#fde725;\" transform=\"translate(254.518864 98.912102)scale(0.1 -0.1)\">\r\n     <use xlink:href=\"#DejaVuSans-48\"/>\r\n    </g>\r\n   </g>\r\n   <g id=\"text_80\">\r\n    <!-- 36 -->\r\n    <g style=\"fill:#fde725;\" transform=\"translate(53.664886 118.679375)scale(0.1 -0.1)\">\r\n     <use xlink:href=\"#DejaVuSans-51\"/>\r\n     <use x=\"63.623047\" xlink:href=\"#DejaVuSans-54\"/>\r\n    </g>\r\n   </g>\r\n   <g id=\"text_81\">\r\n    <!-- 41 -->\r\n    <g style=\"fill:#fde725;\" transform=\"translate(73.432159 118.679375)scale(0.1 -0.1)\">\r\n     <use xlink:href=\"#DejaVuSans-52\"/>\r\n     <use x=\"63.623047\" xlink:href=\"#DejaVuSans-49\"/>\r\n    </g>\r\n   </g>\r\n   <g id=\"text_82\">\r\n    <!-- 57 -->\r\n    <g style=\"fill:#fde725;\" transform=\"translate(93.199432 118.679375)scale(0.1 -0.1)\">\r\n     <use xlink:href=\"#DejaVuSans-53\"/>\r\n     <use x=\"63.623047\" xlink:href=\"#DejaVuSans-55\"/>\r\n    </g>\r\n   </g>\r\n   <g id=\"text_83\">\r\n    <!-- 25 -->\r\n    <g style=\"fill:#fde725;\" transform=\"translate(112.966705 118.679375)scale(0.1 -0.1)\">\r\n     <use xlink:href=\"#DejaVuSans-50\"/>\r\n     <use x=\"63.623047\" xlink:href=\"#DejaVuSans-53\"/>\r\n    </g>\r\n   </g>\r\n   <g id=\"text_84\">\r\n    <!-- 9 -->\r\n    <g style=\"fill:#fde725;\" transform=\"translate(135.915227 118.679375)scale(0.1 -0.1)\">\r\n     <use xlink:href=\"#DejaVuSans-57\"/>\r\n    </g>\r\n   </g>\r\n   <g id=\"text_85\">\r\n    <!-- 1142 -->\r\n    <g style=\"fill:#440154;\" transform=\"translate(146.13875 118.679375)scale(0.1 -0.1)\">\r\n     <use xlink:href=\"#DejaVuSans-49\"/>\r\n     <use x=\"63.623047\" xlink:href=\"#DejaVuSans-49\"/>\r\n     <use x=\"127.246094\" xlink:href=\"#DejaVuSans-52\"/>\r\n     <use x=\"190.869141\" xlink:href=\"#DejaVuSans-50\"/>\r\n    </g>\r\n   </g>\r\n   <g id=\"text_86\">\r\n    <!-- 29 -->\r\n    <g style=\"fill:#fde725;\" transform=\"translate(172.268523 118.679375)scale(0.1 -0.1)\">\r\n     <use xlink:href=\"#DejaVuSans-50\"/>\r\n     <use x=\"63.623047\" xlink:href=\"#DejaVuSans-57\"/>\r\n    </g>\r\n   </g>\r\n   <g id=\"text_87\">\r\n    <!-- 5 -->\r\n    <g style=\"fill:#fde725;\" transform=\"translate(195.217045 118.679375)scale(0.1 -0.1)\">\r\n     <use xlink:href=\"#DejaVuSans-53\"/>\r\n    </g>\r\n   </g>\r\n   <g id=\"text_88\">\r\n    <!-- 4 -->\r\n    <g style=\"fill:#fde725;\" transform=\"translate(214.984318 118.679375)scale(0.1 -0.1)\">\r\n     <use xlink:href=\"#DejaVuSans-52\"/>\r\n    </g>\r\n   </g>\r\n   <g id=\"text_89\">\r\n    <!-- 52 -->\r\n    <g style=\"fill:#fde725;\" transform=\"translate(231.570341 118.679375)scale(0.1 -0.1)\">\r\n     <use xlink:href=\"#DejaVuSans-53\"/>\r\n     <use x=\"63.623047\" xlink:href=\"#DejaVuSans-50\"/>\r\n    </g>\r\n   </g>\r\n   <g id=\"text_90\">\r\n    <!-- 0 -->\r\n    <g style=\"fill:#fde725;\" transform=\"translate(254.518864 118.679375)scale(0.1 -0.1)\">\r\n     <use xlink:href=\"#DejaVuSans-48\"/>\r\n    </g>\r\n   </g>\r\n   <g id=\"text_91\">\r\n    <!-- 204 -->\r\n    <g style=\"fill:#fde725;\" transform=\"translate(50.483636 138.446648)scale(0.1 -0.1)\">\r\n     <use xlink:href=\"#DejaVuSans-50\"/>\r\n     <use x=\"63.623047\" xlink:href=\"#DejaVuSans-48\"/>\r\n     <use x=\"127.246094\" xlink:href=\"#DejaVuSans-52\"/>\r\n    </g>\r\n   </g>\r\n   <g id=\"text_92\">\r\n    <!-- 134 -->\r\n    <g style=\"fill:#fde725;\" transform=\"translate(70.250909 138.446648)scale(0.1 -0.1)\">\r\n     <use xlink:href=\"#DejaVuSans-49\"/>\r\n     <use x=\"63.623047\" xlink:href=\"#DejaVuSans-51\"/>\r\n     <use x=\"127.246094\" xlink:href=\"#DejaVuSans-52\"/>\r\n    </g>\r\n   </g>\r\n   <g id=\"text_93\">\r\n    <!-- 76 -->\r\n    <g style=\"fill:#fde725;\" transform=\"translate(93.199432 138.446648)scale(0.1 -0.1)\">\r\n     <use xlink:href=\"#DejaVuSans-55\"/>\r\n     <use x=\"63.623047\" xlink:href=\"#DejaVuSans-54\"/>\r\n    </g>\r\n   </g>\r\n   <g id=\"text_94\">\r\n    <!-- 27 -->\r\n    <g style=\"fill:#fde725;\" transform=\"translate(112.966705 138.446648)scale(0.1 -0.1)\">\r\n     <use xlink:href=\"#DejaVuSans-50\"/>\r\n     <use x=\"63.623047\" xlink:href=\"#DejaVuSans-55\"/>\r\n    </g>\r\n   </g>\r\n   <g id=\"text_95\">\r\n    <!-- 60 -->\r\n    <g style=\"fill:#fde725;\" transform=\"translate(132.733977 138.446648)scale(0.1 -0.1)\">\r\n     <use xlink:href=\"#DejaVuSans-54\"/>\r\n     <use x=\"63.623047\" xlink:href=\"#DejaVuSans-48\"/>\r\n    </g>\r\n   </g>\r\n   <g id=\"text_96\">\r\n    <!-- 14 -->\r\n    <g style=\"fill:#fde725;\" transform=\"translate(152.50125 138.446648)scale(0.1 -0.1)\">\r\n     <use xlink:href=\"#DejaVuSans-49\"/>\r\n     <use x=\"63.623047\" xlink:href=\"#DejaVuSans-52\"/>\r\n    </g>\r\n   </g>\r\n   <g id=\"text_97\">\r\n    <!-- 748 -->\r\n    <g style=\"fill:#440154;\" transform=\"translate(169.087273 138.446648)scale(0.1 -0.1)\">\r\n     <use xlink:href=\"#DejaVuSans-55\"/>\r\n     <use x=\"63.623047\" xlink:href=\"#DejaVuSans-52\"/>\r\n     <use x=\"127.246094\" xlink:href=\"#DejaVuSans-56\"/>\r\n    </g>\r\n   </g>\r\n   <g id=\"text_98\">\r\n    <!-- 31 -->\r\n    <g style=\"fill:#fde725;\" transform=\"translate(192.035795 138.446648)scale(0.1 -0.1)\">\r\n     <use xlink:href=\"#DejaVuSans-51\"/>\r\n     <use x=\"63.623047\" xlink:href=\"#DejaVuSans-49\"/>\r\n    </g>\r\n   </g>\r\n   <g id=\"text_99\">\r\n    <!-- 12 -->\r\n    <g style=\"fill:#fde725;\" transform=\"translate(211.803068 138.446648)scale(0.1 -0.1)\">\r\n     <use xlink:href=\"#DejaVuSans-49\"/>\r\n     <use x=\"63.623047\" xlink:href=\"#DejaVuSans-50\"/>\r\n    </g>\r\n   </g>\r\n   <g id=\"text_100\">\r\n    <!-- 93 -->\r\n    <g style=\"fill:#fde725;\" transform=\"translate(231.570341 138.446648)scale(0.1 -0.1)\">\r\n     <use xlink:href=\"#DejaVuSans-57\"/>\r\n     <use x=\"63.623047\" xlink:href=\"#DejaVuSans-51\"/>\r\n    </g>\r\n   </g>\r\n   <g id=\"text_101\">\r\n    <!-- 1 -->\r\n    <g style=\"fill:#fde725;\" transform=\"translate(254.518864 138.446648)scale(0.1 -0.1)\">\r\n     <use xlink:href=\"#DejaVuSans-49\"/>\r\n    </g>\r\n   </g>\r\n   <g id=\"text_102\">\r\n    <!-- 42 -->\r\n    <g style=\"fill:#fde725;\" transform=\"translate(53.664886 158.21392)scale(0.1 -0.1)\">\r\n     <use xlink:href=\"#DejaVuSans-52\"/>\r\n     <use x=\"63.623047\" xlink:href=\"#DejaVuSans-50\"/>\r\n    </g>\r\n   </g>\r\n   <g id=\"text_103\">\r\n    <!-- 25 -->\r\n    <g style=\"fill:#fde725;\" transform=\"translate(73.432159 158.21392)scale(0.1 -0.1)\">\r\n     <use xlink:href=\"#DejaVuSans-50\"/>\r\n     <use x=\"63.623047\" xlink:href=\"#DejaVuSans-53\"/>\r\n    </g>\r\n   </g>\r\n   <g id=\"text_104\">\r\n    <!-- 5 -->\r\n    <g style=\"fill:#fde725;\" transform=\"translate(96.380682 158.21392)scale(0.1 -0.1)\">\r\n     <use xlink:href=\"#DejaVuSans-53\"/>\r\n    </g>\r\n   </g>\r\n   <g id=\"text_105\">\r\n    <!-- 1 -->\r\n    <g style=\"fill:#fde725;\" transform=\"translate(116.147955 158.21392)scale(0.1 -0.1)\">\r\n     <use xlink:href=\"#DejaVuSans-49\"/>\r\n    </g>\r\n   </g>\r\n   <g id=\"text_106\">\r\n    <!-- 16 -->\r\n    <g style=\"fill:#fde725;\" transform=\"translate(132.733977 158.21392)scale(0.1 -0.1)\">\r\n     <use xlink:href=\"#DejaVuSans-49\"/>\r\n     <use x=\"63.623047\" xlink:href=\"#DejaVuSans-54\"/>\r\n    </g>\r\n   </g>\r\n   <g id=\"text_107\">\r\n    <!-- 13 -->\r\n    <g style=\"fill:#fde725;\" transform=\"translate(152.50125 158.21392)scale(0.1 -0.1)\">\r\n     <use xlink:href=\"#DejaVuSans-49\"/>\r\n     <use x=\"63.623047\" xlink:href=\"#DejaVuSans-51\"/>\r\n    </g>\r\n   </g>\r\n   <g id=\"text_108\">\r\n    <!-- 25 -->\r\n    <g style=\"fill:#fde725;\" transform=\"translate(172.268523 158.21392)scale(0.1 -0.1)\">\r\n     <use xlink:href=\"#DejaVuSans-50\"/>\r\n     <use x=\"63.623047\" xlink:href=\"#DejaVuSans-53\"/>\r\n    </g>\r\n   </g>\r\n   <g id=\"text_109\">\r\n    <!-- 1249 -->\r\n    <g style=\"fill:#440154;\" transform=\"translate(185.673295 158.21392)scale(0.1 -0.1)\">\r\n     <use xlink:href=\"#DejaVuSans-49\"/>\r\n     <use x=\"63.623047\" xlink:href=\"#DejaVuSans-50\"/>\r\n     <use x=\"127.246094\" xlink:href=\"#DejaVuSans-52\"/>\r\n     <use x=\"190.869141\" xlink:href=\"#DejaVuSans-57\"/>\r\n    </g>\r\n   </g>\r\n   <g id=\"text_110\">\r\n    <!-- 1 -->\r\n    <g style=\"fill:#fde725;\" transform=\"translate(214.984318 158.21392)scale(0.1 -0.1)\">\r\n     <use xlink:href=\"#DejaVuSans-49\"/>\r\n    </g>\r\n   </g>\r\n   <g id=\"text_111\">\r\n    <!-- 23 -->\r\n    <g style=\"fill:#fde725;\" transform=\"translate(231.570341 158.21392)scale(0.1 -0.1)\">\r\n     <use xlink:href=\"#DejaVuSans-50\"/>\r\n     <use x=\"63.623047\" xlink:href=\"#DejaVuSans-51\"/>\r\n    </g>\r\n   </g>\r\n   <g id=\"text_112\">\r\n    <!-- 0 -->\r\n    <g style=\"fill:#fde725;\" transform=\"translate(254.518864 158.21392)scale(0.1 -0.1)\">\r\n     <use xlink:href=\"#DejaVuSans-48\"/>\r\n    </g>\r\n   </g>\r\n   <g id=\"text_113\">\r\n    <!-- 33 -->\r\n    <g style=\"fill:#fde725;\" transform=\"translate(53.664886 177.981193)scale(0.1 -0.1)\">\r\n     <use xlink:href=\"#DejaVuSans-51\"/>\r\n     <use x=\"63.623047\" xlink:href=\"#DejaVuSans-51\"/>\r\n    </g>\r\n   </g>\r\n   <g id=\"text_114\">\r\n    <!-- 13 -->\r\n    <g style=\"fill:#fde725;\" transform=\"translate(73.432159 177.981193)scale(0.1 -0.1)\">\r\n     <use xlink:href=\"#DejaVuSans-49\"/>\r\n     <use x=\"63.623047\" xlink:href=\"#DejaVuSans-51\"/>\r\n    </g>\r\n   </g>\r\n   <g id=\"text_115\">\r\n    <!-- 4 -->\r\n    <g style=\"fill:#fde725;\" transform=\"translate(96.380682 177.981193)scale(0.1 -0.1)\">\r\n     <use xlink:href=\"#DejaVuSans-52\"/>\r\n    </g>\r\n   </g>\r\n   <g id=\"text_116\">\r\n    <!-- 3 -->\r\n    <g style=\"fill:#fde725;\" transform=\"translate(116.147955 177.981193)scale(0.1 -0.1)\">\r\n     <use xlink:href=\"#DejaVuSans-51\"/>\r\n    </g>\r\n   </g>\r\n   <g id=\"text_117\">\r\n    <!-- 8 -->\r\n    <g style=\"fill:#fde725;\" transform=\"translate(135.915227 177.981193)scale(0.1 -0.1)\">\r\n     <use xlink:href=\"#DejaVuSans-56\"/>\r\n    </g>\r\n   </g>\r\n   <g id=\"text_118\">\r\n    <!-- 0 -->\r\n    <g style=\"fill:#fde725;\" transform=\"translate(155.6825 177.981193)scale(0.1 -0.1)\">\r\n     <use xlink:href=\"#DejaVuSans-48\"/>\r\n    </g>\r\n   </g>\r\n   <g id=\"text_119\">\r\n    <!-- 5 -->\r\n    <g style=\"fill:#fde725;\" transform=\"translate(175.449773 177.981193)scale(0.1 -0.1)\">\r\n     <use xlink:href=\"#DejaVuSans-53\"/>\r\n    </g>\r\n   </g>\r\n   <g id=\"text_120\">\r\n    <!-- 4 -->\r\n    <g style=\"fill:#fde725;\" transform=\"translate(195.217045 177.981193)scale(0.1 -0.1)\">\r\n     <use xlink:href=\"#DejaVuSans-52\"/>\r\n    </g>\r\n   </g>\r\n   <g id=\"text_121\">\r\n    <!-- 1140 -->\r\n    <g style=\"fill:#440154;\" transform=\"translate(205.440568 177.981193)scale(0.1 -0.1)\">\r\n     <use xlink:href=\"#DejaVuSans-49\"/>\r\n     <use x=\"63.623047\" xlink:href=\"#DejaVuSans-49\"/>\r\n     <use x=\"127.246094\" xlink:href=\"#DejaVuSans-52\"/>\r\n     <use x=\"190.869141\" xlink:href=\"#DejaVuSans-48\"/>\r\n    </g>\r\n   </g>\r\n   <g id=\"text_122\">\r\n    <!-- 190 -->\r\n    <g style=\"fill:#fde725;\" transform=\"translate(228.389091 177.981193)scale(0.1 -0.1)\">\r\n     <use xlink:href=\"#DejaVuSans-49\"/>\r\n     <use x=\"63.623047\" xlink:href=\"#DejaVuSans-57\"/>\r\n     <use x=\"127.246094\" xlink:href=\"#DejaVuSans-48\"/>\r\n    </g>\r\n   </g>\r\n   <g id=\"text_123\">\r\n    <!-- 0 -->\r\n    <g style=\"fill:#fde725;\" transform=\"translate(254.518864 177.981193)scale(0.1 -0.1)\">\r\n     <use xlink:href=\"#DejaVuSans-48\"/>\r\n    </g>\r\n   </g>\r\n   <g id=\"text_124\">\r\n    <!-- 51 -->\r\n    <g style=\"fill:#fde725;\" transform=\"translate(53.664886 197.748466)scale(0.1 -0.1)\">\r\n     <use xlink:href=\"#DejaVuSans-53\"/>\r\n     <use x=\"63.623047\" xlink:href=\"#DejaVuSans-49\"/>\r\n    </g>\r\n   </g>\r\n   <g id=\"text_125\">\r\n    <!-- 52 -->\r\n    <g style=\"fill:#fde725;\" transform=\"translate(73.432159 197.748466)scale(0.1 -0.1)\">\r\n     <use xlink:href=\"#DejaVuSans-53\"/>\r\n     <use x=\"63.623047\" xlink:href=\"#DejaVuSans-50\"/>\r\n    </g>\r\n   </g>\r\n   <g id=\"text_126\">\r\n    <!-- 23 -->\r\n    <g style=\"fill:#fde725;\" transform=\"translate(93.199432 197.748466)scale(0.1 -0.1)\">\r\n     <use xlink:href=\"#DejaVuSans-50\"/>\r\n     <use x=\"63.623047\" xlink:href=\"#DejaVuSans-51\"/>\r\n    </g>\r\n   </g>\r\n   <g id=\"text_127\">\r\n    <!-- 14 -->\r\n    <g style=\"fill:#fde725;\" transform=\"translate(112.966705 197.748466)scale(0.1 -0.1)\">\r\n     <use xlink:href=\"#DejaVuSans-49\"/>\r\n     <use x=\"63.623047\" xlink:href=\"#DejaVuSans-52\"/>\r\n    </g>\r\n   </g>\r\n   <g id=\"text_128\">\r\n    <!-- 21 -->\r\n    <g style=\"fill:#fde725;\" transform=\"translate(132.733977 197.748466)scale(0.1 -0.1)\">\r\n     <use xlink:href=\"#DejaVuSans-50\"/>\r\n     <use x=\"63.623047\" xlink:href=\"#DejaVuSans-49\"/>\r\n    </g>\r\n   </g>\r\n   <g id=\"text_129\">\r\n    <!-- 20 -->\r\n    <g style=\"fill:#fde725;\" transform=\"translate(152.50125 197.748466)scale(0.1 -0.1)\">\r\n     <use xlink:href=\"#DejaVuSans-50\"/>\r\n     <use x=\"63.623047\" xlink:href=\"#DejaVuSans-48\"/>\r\n    </g>\r\n   </g>\r\n   <g id=\"text_130\">\r\n    <!-- 50 -->\r\n    <g style=\"fill:#fde725;\" transform=\"translate(172.268523 197.748466)scale(0.1 -0.1)\">\r\n     <use xlink:href=\"#DejaVuSans-53\"/>\r\n     <use x=\"63.623047\" xlink:href=\"#DejaVuSans-48\"/>\r\n    </g>\r\n   </g>\r\n   <g id=\"text_131\">\r\n    <!-- 11 -->\r\n    <g style=\"fill:#fde725;\" transform=\"translate(192.035795 197.748466)scale(0.1 -0.1)\">\r\n     <use xlink:href=\"#DejaVuSans-49\"/>\r\n     <use x=\"63.623047\" xlink:href=\"#DejaVuSans-49\"/>\r\n    </g>\r\n   </g>\r\n   <g id=\"text_132\">\r\n    <!-- 13 -->\r\n    <g style=\"fill:#fde725;\" transform=\"translate(211.803068 197.748466)scale(0.1 -0.1)\">\r\n     <use xlink:href=\"#DejaVuSans-49\"/>\r\n     <use x=\"63.623047\" xlink:href=\"#DejaVuSans-51\"/>\r\n    </g>\r\n   </g>\r\n   <g id=\"text_133\">\r\n    <!-- 1143 -->\r\n    <g style=\"fill:#440154;\" transform=\"translate(225.207841 197.748466)scale(0.1 -0.1)\">\r\n     <use xlink:href=\"#DejaVuSans-49\"/>\r\n     <use x=\"63.623047\" xlink:href=\"#DejaVuSans-49\"/>\r\n     <use x=\"127.246094\" xlink:href=\"#DejaVuSans-52\"/>\r\n     <use x=\"190.869141\" xlink:href=\"#DejaVuSans-51\"/>\r\n    </g>\r\n   </g>\r\n   <g id=\"text_134\">\r\n    <!-- 2 -->\r\n    <g style=\"fill:#fde725;\" transform=\"translate(254.518864 197.748466)scale(0.1 -0.1)\">\r\n     <use xlink:href=\"#DejaVuSans-50\"/>\r\n    </g>\r\n   </g>\r\n   <g id=\"text_135\">\r\n    <!-- 33 -->\r\n    <g style=\"fill:#fde725;\" transform=\"translate(53.664886 217.515739)scale(0.1 -0.1)\">\r\n     <use xlink:href=\"#DejaVuSans-51\"/>\r\n     <use x=\"63.623047\" xlink:href=\"#DejaVuSans-51\"/>\r\n    </g>\r\n   </g>\r\n   <g id=\"text_136\">\r\n    <!-- 57 -->\r\n    <g style=\"fill:#fde725;\" transform=\"translate(73.432159 217.515739)scale(0.1 -0.1)\">\r\n     <use xlink:href=\"#DejaVuSans-53\"/>\r\n     <use x=\"63.623047\" xlink:href=\"#DejaVuSans-55\"/>\r\n    </g>\r\n   </g>\r\n   <g id=\"text_137\">\r\n    <!-- 17 -->\r\n    <g style=\"fill:#fde725;\" transform=\"translate(93.199432 217.515739)scale(0.1 -0.1)\">\r\n     <use xlink:href=\"#DejaVuSans-49\"/>\r\n     <use x=\"63.623047\" xlink:href=\"#DejaVuSans-55\"/>\r\n    </g>\r\n   </g>\r\n   <g id=\"text_138\">\r\n    <!-- 3 -->\r\n    <g style=\"fill:#fde725;\" transform=\"translate(116.147955 217.515739)scale(0.1 -0.1)\">\r\n     <use xlink:href=\"#DejaVuSans-51\"/>\r\n    </g>\r\n   </g>\r\n   <g id=\"text_139\">\r\n    <!-- 13 -->\r\n    <g style=\"fill:#fde725;\" transform=\"translate(132.733977 217.515739)scale(0.1 -0.1)\">\r\n     <use xlink:href=\"#DejaVuSans-49\"/>\r\n     <use x=\"63.623047\" xlink:href=\"#DejaVuSans-51\"/>\r\n    </g>\r\n   </g>\r\n   <g id=\"text_140\">\r\n    <!-- 10 -->\r\n    <g style=\"fill:#fde725;\" transform=\"translate(152.50125 217.515739)scale(0.1 -0.1)\">\r\n     <use xlink:href=\"#DejaVuSans-49\"/>\r\n     <use x=\"63.623047\" xlink:href=\"#DejaVuSans-48\"/>\r\n    </g>\r\n   </g>\r\n   <g id=\"text_141\">\r\n    <!-- 33 -->\r\n    <g style=\"fill:#fde725;\" transform=\"translate(172.268523 217.515739)scale(0.1 -0.1)\">\r\n     <use xlink:href=\"#DejaVuSans-51\"/>\r\n     <use x=\"63.623047\" xlink:href=\"#DejaVuSans-51\"/>\r\n    </g>\r\n   </g>\r\n   <g id=\"text_142\">\r\n    <!-- 6 -->\r\n    <g style=\"fill:#fde725;\" transform=\"translate(195.217045 217.515739)scale(0.1 -0.1)\">\r\n     <use xlink:href=\"#DejaVuSans-54\"/>\r\n    </g>\r\n   </g>\r\n   <g id=\"text_143\">\r\n    <!-- 1 -->\r\n    <g style=\"fill:#fde725;\" transform=\"translate(214.984318 217.515739)scale(0.1 -0.1)\">\r\n     <use xlink:href=\"#DejaVuSans-49\"/>\r\n    </g>\r\n   </g>\r\n   <g id=\"text_144\">\r\n    <!-- 27 -->\r\n    <g style=\"fill:#fde725;\" transform=\"translate(231.570341 217.515739)scale(0.1 -0.1)\">\r\n     <use xlink:href=\"#DejaVuSans-50\"/>\r\n     <use x=\"63.623047\" xlink:href=\"#DejaVuSans-55\"/>\r\n    </g>\r\n   </g>\r\n   <g id=\"text_145\">\r\n    <!-- 1200 -->\r\n    <g style=\"fill:#440154;\" transform=\"translate(244.975114 217.515739)scale(0.1 -0.1)\">\r\n     <use xlink:href=\"#DejaVuSans-49\"/>\r\n     <use x=\"63.623047\" xlink:href=\"#DejaVuSans-50\"/>\r\n     <use x=\"127.246094\" xlink:href=\"#DejaVuSans-48\"/>\r\n     <use x=\"190.869141\" xlink:href=\"#DejaVuSans-48\"/>\r\n    </g>\r\n   </g>\r\n  </g>\r\n  <g id=\"axes_2\">\r\n   <g id=\"patch_7\">\r\n    <path clip-path=\"url(#pd91f349fd2)\" d=\"M 284.32375 224.64 \r\nL 284.32375 223.790625 \r\nL 284.32375 8.049375 \r\nL 284.32375 7.2 \r\nL 295.19575 7.2 \r\nL 295.19575 8.049375 \r\nL 295.19575 223.790625 \r\nL 295.19575 224.64 \r\nz\r\n\" style=\"fill:#ffffff;stroke:#ffffff;stroke-linejoin:miter;stroke-width:0.01;\"/>\r\n   </g>\r\n   <image height=\"217\" id=\"imagef31974d442\" transform=\"scale(1 -1)translate(0 -217)\" width=\"11\" x=\"284\" xlink:href=\"data:image/png;base64,\r\niVBORw0KGgoAAAANSUhEUgAAAAsAAADZCAYAAAD2WsoCAAAABHNCSVQICAgIfAhkiAAAAWFJREFUaIHt2kFuwzAQQ1FpJOdkPUPvf5C26bZANnoLAuMiWRPEJ2dkO07mR30+x+Fnz5qn2rHnWufiMQvEgjGmMJdgiPOgNqjnHtVZQHLOid9t/BXH2niuHgGJ2cbdA+P8SpDFEOcgc8p5iDMtv/VMGLE2bIK0G8YM4iZtBDFy1VHALqcbxOSMAVMY6By7yNyyjZjzHds41+Lzxh0n+P/HTc4txg0Q79P9Ij4/33fcjTZtBMcNzMHqKoXRpA14REq2MUYuIDjPWEDrmZhNDBjUhmGcU3DAVBurfjpgVKyNJeIcRhPnNWHc5NxEvO8YUG4T1kZ9d8AoGYodWGGmNpa1kdo6amNPCphjFmfpmZwvacNWNLYbuaE85hc4x4ZSEpCW/5KA1DNekcg5tRu0/LbPwYCpG9Bj0KVAlp9OigU81o592YEF5wVfCLe83dtLfsgowbjgfZZigDMxL/kjkGD8AgQsgWhMNMxTAAAAAElFTkSuQmCC\" y=\"-7\"/>\r\n   <g id=\"matplotlib.axis_3\"/>\r\n   <g id=\"matplotlib.axis_4\">\r\n    <g id=\"ytick_12\">\r\n     <g id=\"line2d_23\">\r\n      <defs>\r\n       <path d=\"M 0 0 \r\nL 3.5 0 \r\n\" id=\"m0caf457116\" style=\"stroke:#000000;stroke-width:0.8;\"/>\r\n      </defs>\r\n      <g>\r\n       <use style=\"stroke:#000000;stroke-width:0.8;\" x=\"295.19575\" xlink:href=\"#m0caf457116\" y=\"224.64\"/>\r\n      </g>\r\n     </g>\r\n     <g id=\"text_146\">\r\n      <!-- 0 -->\r\n      <g transform=\"translate(302.19575 228.439219)scale(0.1 -0.1)\">\r\n       <use xlink:href=\"#DejaVuSans-48\"/>\r\n      </g>\r\n     </g>\r\n    </g>\r\n    <g id=\"ytick_13\">\r\n     <g id=\"line2d_24\">\r\n      <g>\r\n       <use style=\"stroke:#000000;stroke-width:0.8;\" x=\"295.19575\" xlink:href=\"#m0caf457116\" y=\"190.070843\"/>\r\n      </g>\r\n     </g>\r\n     <g id=\"text_147\">\r\n      <!-- 200 -->\r\n      <g transform=\"translate(302.19575 193.870061)scale(0.1 -0.1)\">\r\n       <use xlink:href=\"#DejaVuSans-50\"/>\r\n       <use x=\"63.623047\" xlink:href=\"#DejaVuSans-48\"/>\r\n       <use x=\"127.246094\" xlink:href=\"#DejaVuSans-48\"/>\r\n      </g>\r\n     </g>\r\n    </g>\r\n    <g id=\"ytick_14\">\r\n     <g id=\"line2d_25\">\r\n      <g>\r\n       <use style=\"stroke:#000000;stroke-width:0.8;\" x=\"295.19575\" xlink:href=\"#m0caf457116\" y=\"155.501685\"/>\r\n      </g>\r\n     </g>\r\n     <g id=\"text_148\">\r\n      <!-- 400 -->\r\n      <g transform=\"translate(302.19575 159.300904)scale(0.1 -0.1)\">\r\n       <use xlink:href=\"#DejaVuSans-52\"/>\r\n       <use x=\"63.623047\" xlink:href=\"#DejaVuSans-48\"/>\r\n       <use x=\"127.246094\" xlink:href=\"#DejaVuSans-48\"/>\r\n      </g>\r\n     </g>\r\n    </g>\r\n    <g id=\"ytick_15\">\r\n     <g id=\"line2d_26\">\r\n      <g>\r\n       <use style=\"stroke:#000000;stroke-width:0.8;\" x=\"295.19575\" xlink:href=\"#m0caf457116\" y=\"120.932528\"/>\r\n      </g>\r\n     </g>\r\n     <g id=\"text_149\">\r\n      <!-- 600 -->\r\n      <g transform=\"translate(302.19575 124.731747)scale(0.1 -0.1)\">\r\n       <use xlink:href=\"#DejaVuSans-54\"/>\r\n       <use x=\"63.623047\" xlink:href=\"#DejaVuSans-48\"/>\r\n       <use x=\"127.246094\" xlink:href=\"#DejaVuSans-48\"/>\r\n      </g>\r\n     </g>\r\n    </g>\r\n    <g id=\"ytick_16\">\r\n     <g id=\"line2d_27\">\r\n      <g>\r\n       <use style=\"stroke:#000000;stroke-width:0.8;\" x=\"295.19575\" xlink:href=\"#m0caf457116\" y=\"86.36337\"/>\r\n      </g>\r\n     </g>\r\n     <g id=\"text_150\">\r\n      <!-- 800 -->\r\n      <g transform=\"translate(302.19575 90.162589)scale(0.1 -0.1)\">\r\n       <use xlink:href=\"#DejaVuSans-56\"/>\r\n       <use x=\"63.623047\" xlink:href=\"#DejaVuSans-48\"/>\r\n       <use x=\"127.246094\" xlink:href=\"#DejaVuSans-48\"/>\r\n      </g>\r\n     </g>\r\n    </g>\r\n    <g id=\"ytick_17\">\r\n     <g id=\"line2d_28\">\r\n      <g>\r\n       <use style=\"stroke:#000000;stroke-width:0.8;\" x=\"295.19575\" xlink:href=\"#m0caf457116\" y=\"51.794213\"/>\r\n      </g>\r\n     </g>\r\n     <g id=\"text_151\">\r\n      <!-- 1000 -->\r\n      <g transform=\"translate(302.19575 55.593432)scale(0.1 -0.1)\">\r\n       <use xlink:href=\"#DejaVuSans-49\"/>\r\n       <use x=\"63.623047\" xlink:href=\"#DejaVuSans-48\"/>\r\n       <use x=\"127.246094\" xlink:href=\"#DejaVuSans-48\"/>\r\n       <use x=\"190.869141\" xlink:href=\"#DejaVuSans-48\"/>\r\n      </g>\r\n     </g>\r\n    </g>\r\n    <g id=\"ytick_18\">\r\n     <g id=\"line2d_29\">\r\n      <g>\r\n       <use style=\"stroke:#000000;stroke-width:0.8;\" x=\"295.19575\" xlink:href=\"#m0caf457116\" y=\"17.225056\"/>\r\n      </g>\r\n     </g>\r\n     <g id=\"text_152\">\r\n      <!-- 1200 -->\r\n      <g transform=\"translate(302.19575 21.024274)scale(0.1 -0.1)\">\r\n       <use xlink:href=\"#DejaVuSans-49\"/>\r\n       <use x=\"63.623047\" xlink:href=\"#DejaVuSans-50\"/>\r\n       <use x=\"127.246094\" xlink:href=\"#DejaVuSans-48\"/>\r\n       <use x=\"190.869141\" xlink:href=\"#DejaVuSans-48\"/>\r\n      </g>\r\n     </g>\r\n    </g>\r\n   </g>\r\n   <g id=\"patch_8\">\r\n    <path d=\"M 284.32375 224.64 \r\nL 284.32375 223.790625 \r\nL 284.32375 8.049375 \r\nL 284.32375 7.2 \r\nL 295.19575 7.2 \r\nL 295.19575 8.049375 \r\nL 295.19575 223.790625 \r\nL 295.19575 224.64 \r\nz\r\n\" style=\"fill:none;stroke:#000000;stroke-linejoin:miter;stroke-width:0.8;\"/>\r\n   </g>\r\n  </g>\r\n </g>\r\n <defs>\r\n  <clipPath id=\"p2ee489f155\">\r\n   <rect height=\"217.44\" width=\"217.44\" x=\"50.14375\" y=\"7.2\"/>\r\n  </clipPath>\r\n  <clipPath id=\"pd91f349fd2\">\r\n   <rect height=\"217.44\" width=\"10.872\" x=\"284.32375\" y=\"7.2\"/>\r\n  </clipPath>\r\n </defs>\r\n</svg>\r\n",
      "image/png": "[encoded data removed]"
     },
     "metadata": {
      "needs_background": "light"
     }
    }
   ],
   "source": [
    "plot_confusion_matrix(clf, X_test, test_labels)\n",
    "plt.show()"
   ]
  },
  {
   "cell_type": "code",
   "execution_count": 71,
   "metadata": {},
   "outputs": [
    {
     "output_type": "execute_result",
     "data": {
      "text/plain": "['bias',\n 'clickbait',\n 'conspiracy',\n 'fake',\n 'hate',\n 'junksci',\n 'political',\n 'reliable',\n 'rumor',\n 'satire',\n 'unreliable']"
     },
     "metadata": {},
     "execution_count": 71
    }
   ],
   "source": [
    "target_names"
   ]
  },
  {
   "cell_type": "code",
   "execution_count": null,
   "metadata": {},
   "outputs": [],
   "source": [
    "plot_confusion_matrix(clfLogTf, x_test, testRaw_labels)\n",
    "plt.show()"
   ]
  },
  {
   "cell_type": "code",
   "execution_count": 64,
   "metadata": {},
   "outputs": [
    {
     "output_type": "execute_result",
     "data": {
      "text/plain": "array([[ 881,   65,   77,   17,   67,   34,  171,   24,   13,   50,    1],\n       [ 129,  830,   37,   11,   45,   29,  153,   35,   15,  114,    2],\n       [ 142,   43,  858,   32,   59,   65,  112,    9,    5,   75,    0],\n       [  22,   13,   38, 1234,   13,   24,   33,    5,    4,   14,    0],\n       [  44,   19,   16,    3, 1258,    7,   40,    2,    0,   11,    0],\n       [  36,   41,   57,   25,    9, 1142,   29,    5,    4,   52,    0],\n       [ 204,  134,   76,   27,   60,   14,  748,   31,   12,   93,    1],\n       [  42,   25,    5,    1,   16,   13,   25, 1249,    1,   23,    0],\n       [  33,   13,    4,    3,    8,    0,    5,    4, 1140,  190,    0],\n       [  51,   52,   23,   14,   21,   20,   50,   11,   13, 1143,    2],\n       [  33,   57,   17,    3,   13,   10,   33,    6,    1,   27, 1200]],\n      dtype=int64)"
     },
     "metadata": {},
     "execution_count": 64
    }
   ],
   "source": [
    "confusion_matrix(y_true,y_svc_pred)"
   ]
  },
  {
   "cell_type": "code",
   "execution_count": 57,
   "metadata": {},
   "outputs": [],
   "source": [
    "#try tf-idf Logref\n",
    "from sklearn.feature_extraction.text import TfidfVectorizer\n",
    "v = TfidfVectorizer()\n",
    "x = v.fit_transform(trainRaw['content'])\n",
    "x_test = v.transform(testRaw['content'])\n"
   ]
  },
  {
   "cell_type": "code",
   "execution_count": 58,
   "metadata": {},
   "outputs": [],
   "source": [
    "trainRaw_labels = list(trainRaw.type_id.values)\n",
    "testRaw_labels = list(testRaw.type_id.values)"
   ]
  },
  {
   "cell_type": "code",
   "execution_count": 59,
   "metadata": {},
   "outputs": [
    {
     "output_type": "execute_result",
     "data": {
      "text/plain": "LogisticRegression()"
     },
     "metadata": {},
     "execution_count": 59
    }
   ],
   "source": [
    "from sklearn.linear_model import LogisticRegression\n",
    "clfLogTf = LogisticRegression()\n",
    "clfLogTf.fit(x, trainRaw_labels)"
   ]
  },
  {
   "cell_type": "code",
   "execution_count": 60,
   "metadata": {},
   "outputs": [
    {
     "output_type": "execute_result",
     "data": {
      "text/plain": "0.7612337662337663"
     },
     "metadata": {},
     "execution_count": 60
    }
   ],
   "source": [
    "clfLogTf.score(x_test, testRaw_labels)"
   ]
  },
  {
   "cell_type": "code",
   "execution_count": 61,
   "metadata": {},
   "outputs": [],
   "source": [
    "y_true = testRaw_labels\n",
    "y_pred = clfLogTf.predict(x_test)"
   ]
  },
  {
   "cell_type": "code",
   "execution_count": 62,
   "metadata": {},
   "outputs": [
    {
     "output_type": "execute_result",
     "data": {
      "text/plain": "array([[ 787,   75,   83,    3,  113,   49,  163,   51,   24,   46,    6],\n       [  60,  900,   58,    1,   36,   51,  129,   53,   31,   77,    4],\n       [ 110,   50,  891,    6,   77,   69,  108,   27,   11,   48,    3],\n       [  31,   12,   33, 1202,   18,   38,   31,    8,    5,   17,    5],\n       [  39,   38,   27,    4, 1179,    9,   49,   14,   11,   24,    6],\n       [  13,   32,   55,    1,    6, 1224,   30,    7,    6,   25,    1],\n       [ 122,  128,   93,    7,   75,   24,  762,   49,   33,  101,    6],\n       [  30,   40,    7,    0,   30,   26,   33, 1196,    2,   36,    0],\n       [  12,   10,    6,    0,    6,   12,    5,    2, 1274,   72,    1],\n       [  41,   64,   38,    8,   18,   36,   58,   20,   36, 1080,    1],\n       [  31,   34,   16,    0,   10,   16,   26,    6,    6,   27, 1228]],\n      dtype=int64)"
     },
     "metadata": {},
     "execution_count": 62
    }
   ],
   "source": [
    "confusion_matrix(y_true,y_pred)"
   ]
  },
  {
   "cell_type": "code",
   "execution_count": 63,
   "metadata": {},
   "outputs": [
    {
     "output_type": "stream",
     "name": "stdout",
     "text": "precision    recall  f1-score   support\n\n        bias       0.62      0.56      0.59      1400\n   clickbait       0.65      0.64      0.65      1400\n  conspiracy       0.68      0.64      0.66      1400\n        fake       0.98      0.86      0.91      1400\n        hate       0.75      0.84      0.79      1400\n     junksci       0.79      0.87      0.83      1400\n   political       0.55      0.54      0.55      1400\n    reliable       0.83      0.85      0.84      1400\n       rumor       0.89      0.91      0.90      1400\n      satire       0.70      0.77      0.73      1400\n  unreliable       0.97      0.88      0.92      1400\n\n    accuracy                           0.76     15400\n   macro avg       0.76      0.76      0.76     15400\nweighted avg       0.76      0.76      0.76     15400\n\n"
    }
   ],
   "source": [
    "from sklearn.datasets import make_classification\n",
    "from sklearn.metrics import accuracy_score, confusion_matrix, classification_report\n",
    "print(classification_report(y_true, y_pred, target_names = target_names))"
   ]
  },
  {
   "cell_type": "code",
   "execution_count": 66,
   "metadata": {},
   "outputs": [],
   "source": [
    "from sklearn.metrics import plot_confusion_matrix\n",
    "import matplotlib.pyplot as plt"
   ]
  },
  {
   "cell_type": "code",
   "execution_count": 67,
   "metadata": {},
   "outputs": [
    {
     "output_type": "display_data",
     "data": {
      "text/plain": "<Figure size 432x288 with 2 Axes>",
      "image/svg+xml": "<?xml version=\"1.0\" encoding=\"utf-8\" standalone=\"no\"?>\r\n<!DOCTYPE svg PUBLIC \"-//W3C//DTD SVG 1.1//EN\"\r\n  \"http://www.w3.org/Graphics/SVG/1.1/DTD/svg11.dtd\">\r\n<!-- Created with matplotlib (https://matplotlib.org/) -->\r\n<svg height=\"262.19625pt\" version=\"1.1\" viewBox=\"0 0 325.305125 262.19625\" width=\"325.305125pt\" xmlns=\"http://www.w3.org/2000/svg\" xmlns:xlink=\"http://www.w3.org/1999/xlink\">\r\n <defs>\r\n  <style type=\"text/css\">\r\n*{stroke-linecap:butt;stroke-linejoin:round;}\r\n  </style>\r\n </defs>\r\n <g id=\"figure_1\">\r\n  <g id=\"patch_1\">\r\n   <path d=\"M 0 262.19625 \r\nL 325.305125 262.19625 \r\nL 325.305125 0 \r\nL 0 0 \r\nz\r\n\" style=\"fill:none;\"/>\r\n  </g>\r\n  <g id=\"axes_1\">\r\n   <g id=\"patch_2\">\r\n    <path d=\"M 40.603125 224.64 \r\nL 258.043125 224.64 \r\nL 258.043125 7.2 \r\nL 40.603125 7.2 \r\nz\r\n\" style=\"fill:#ffffff;\"/>\r\n   </g>\r\n   <g clip-path=\"url(#pd667738ee5)\">\r\n    <image height=\"218\" id=\"image785acfa8f8\" transform=\"scale(1 -1)translate(0 -218)\" width=\"218\" x=\"40.603125\" xlink:href=\"data:image/png;base64,\r\niVBORw0KGgoAAAANSUhEUgAAANoAAADaCAYAAADAHVzbAAAABHNCSVQICAgIfAhkiAAABNZJREFUeJzt3L2KXXUUxuG19+w584EjRA1BUVQEQRBvIAQEQcFSBBsFsdTC67C0sLFSb0BLG220EMELEEJkwCKaqIkxmTMfZ28LW+2WryM8zwW8DGfOb/7VrOHFvdeXOseWs7NzuVVVVeNW69wwDq17tdX78y0nJ617nYbVqnXvk6tftu6NrWvA3xIaBAgNAoQGAUKDAKFBgNAgQGgQIDQIEBoECA0ChAYBQoMAoUGA0CBAaBAgNAgQGgQIDQKm7rsS3bcb6vi4bWrZbNq2qvpvfHR/dsNqu3VvnnvPywzbU9vWq99da9uqqnrjscute140CBAaBAgNAoQGAUKDAKFBgNAgQGgQIDQIEBoECA0ChAYBQoMAoUGA0CBAaBAgNAgQGgQIDQKm+Wjdu9i9t8yNW703L7pvkCzrvvsoVVV1dNS71/z5fX74bdvWy8+90Lb1l19a17xoECA0CBAaBAgNAoQGAUKDAKFBgNAgQGgQIDQIEBoECA0ChAYBQoMAoUGA0CBAaBAgNAiYxtV27+LWVuvcfO9e616ncWendW9pPhUwDEPr3vvff9G699Ijl9u2xv3msw3NvGgQIDQIEBoECA0ChAYBQoMAoUGA0CBAaBAgNAgQGgQIDQKEBgFCgwChQYDQIEBoECA0CBAaBEzjw5d6F5vvVIxH67ats+s/tW1VVQ0HB617y63brXtXP36mde/dZ3vvy4y7p31bD1xo26qqmo96b5B40SBAaBAgNAgQGgQIDQKEBgFCgwChQYDQIEBoECA0CBAaBAgNAoQGAUKDAKFBgNAgQGgQIDQImM4Of2wdHFe9dyWG3Z2+sWXp26qqzc2brXsfHX7VuvfW071/R+fj49a9TsuN3t9F93fFiwYBQoMAoUGA0CBAaBAgNAgQGgQIDQKEBgFCgwChQYDQIEBoECA0CBAaBAgNAoQGAUKDAKFBwDR23uT4F8xH6//6R/hH7137pnXvzcevtO6N9/Xeb6mT0969TnPvjY8ahtY5LxoECA0ChAYBQoMAoUGA0CBAaBAgNAgQGgQIDQKEBgFCgwChQYDQIEBoECA0CBAaBAgNAoQGAVPNc+vg3HxXYlz13b344PDrtq2qqneeer51b9xbte7VafONj6X3u9Jq6b3x0c2LBgFCgwChQYDQIEBoECA0CBAaBAgNAoQGAUKDAKFBgNAgQGgQIDQIEBoECA0ChAYBQoMAoUHANF662Do4/Ha7dW/z6f1tW28/caVtq6pq66ELrXs1b1rnhv391r3l5xu9e6dnbVvD3l7bVlXVcudO654XDQKEBgFCgwChQYDQIEBoECA0CBAaBAgNAoQGAUKDAKFBgNAgQGgQIDQIEBoECA0ChAYB0/L7H62D82cHrXtbr/T9S/lmWdq2qqqWu3db94Zpat2r7d69cWendW8ZhratYXe3bauqqpwygP8foUGA0CBAaBAgNAgQGgQIDQKEBgFCgwChQYDQIEBoECA0CBAaBAgNAoQGAUKDAKFBgNAgYPrhw0dbB5987XrrXjXfqeg0XnywdW/+9VbrXu2d38+uqmrZzH1j63XfVlVV4z2TKi8aRAgNAoQGAUKDAKFBgNAgQGgQIDQIEBoECA0ChAYBQoMAoUGA0CBAaBAgNAgQGgQIDQKEBgF/AkOfmwKmV+OnAAAAAElFTkSuQmCC\" y=\"-6.64\"/>\r\n   </g>\r\n   <g id=\"matplotlib.axis_1\">\r\n    <g id=\"xtick_1\">\r\n     <g id=\"line2d_1\">\r\n      <defs>\r\n       <path d=\"M 0 0 \r\nL 0 3.5 \r\n\" id=\"m1cd1438613\" style=\"stroke:#000000;stroke-width:0.8;\"/>\r\n      </defs>\r\n      <g>\r\n       <use style=\"stroke:#000000;stroke-width:0.8;\" x=\"50.486761\" xlink:href=\"#m1cd1438613\" y=\"224.64\"/>\r\n      </g>\r\n     </g>\r\n     <g id=\"text_1\">\r\n      <!-- 0 -->\r\n      <defs>\r\n       <path d=\"M 31.78125 66.40625 \r\nQ 24.171875 66.40625 20.328125 58.90625 \r\nQ 16.5 51.421875 16.5 36.375 \r\nQ 16.5 21.390625 20.328125 13.890625 \r\nQ 24.171875 6.390625 31.78125 6.390625 \r\nQ 39.453125 6.390625 43.28125 13.890625 \r\nQ 47.125 21.390625 47.125 36.375 \r\nQ 47.125 51.421875 43.28125 58.90625 \r\nQ 39.453125 66.40625 31.78125 66.40625 \r\nz\r\nM 31.78125 74.21875 \r\nQ 44.046875 74.21875 50.515625 64.515625 \r\nQ 56.984375 54.828125 56.984375 36.375 \r\nQ 56.984375 17.96875 50.515625 8.265625 \r\nQ 44.046875 -1.421875 31.78125 -1.421875 \r\nQ 19.53125 -1.421875 13.0625 8.265625 \r\nQ 6.59375 17.96875 6.59375 36.375 \r\nQ 6.59375 54.828125 13.0625 64.515625 \r\nQ 19.53125 74.21875 31.78125 74.21875 \r\nz\r\n\" id=\"DejaVuSans-48\"/>\r\n      </defs>\r\n      <g transform=\"translate(47.305511 239.238437)scale(0.1 -0.1)\">\r\n       <use xlink:href=\"#DejaVuSans-48\"/>\r\n      </g>\r\n     </g>\r\n    </g>\r\n    <g id=\"xtick_2\">\r\n     <g id=\"line2d_2\">\r\n      <g>\r\n       <use style=\"stroke:#000000;stroke-width:0.8;\" x=\"70.254034\" xlink:href=\"#m1cd1438613\" y=\"224.64\"/>\r\n      </g>\r\n     </g>\r\n     <g id=\"text_2\">\r\n      <!-- 1 -->\r\n      <defs>\r\n       <path d=\"M 12.40625 8.296875 \r\nL 28.515625 8.296875 \r\nL 28.515625 63.921875 \r\nL 10.984375 60.40625 \r\nL 10.984375 69.390625 \r\nL 28.421875 72.90625 \r\nL 38.28125 72.90625 \r\nL 38.28125 8.296875 \r\nL 54.390625 8.296875 \r\nL 54.390625 0 \r\nL 12.40625 0 \r\nz\r\n\" id=\"DejaVuSans-49\"/>\r\n      </defs>\r\n      <g transform=\"translate(67.072784 239.238437)scale(0.1 -0.1)\">\r\n       <use xlink:href=\"#DejaVuSans-49\"/>\r\n      </g>\r\n     </g>\r\n    </g>\r\n    <g id=\"xtick_3\">\r\n     <g id=\"line2d_3\">\r\n      <g>\r\n       <use style=\"stroke:#000000;stroke-width:0.8;\" x=\"90.021307\" xlink:href=\"#m1cd1438613\" y=\"224.64\"/>\r\n      </g>\r\n     </g>\r\n     <g id=\"text_3\">\r\n      <!-- 2 -->\r\n      <defs>\r\n       <path d=\"M 19.1875 8.296875 \r\nL 53.609375 8.296875 \r\nL 53.609375 0 \r\nL 7.328125 0 \r\nL 7.328125 8.296875 \r\nQ 12.9375 14.109375 22.625 23.890625 \r\nQ 32.328125 33.6875 34.8125 36.53125 \r\nQ 39.546875 41.84375 41.421875 45.53125 \r\nQ 43.3125 49.21875 43.3125 52.78125 \r\nQ 43.3125 58.59375 39.234375 62.25 \r\nQ 35.15625 65.921875 28.609375 65.921875 \r\nQ 23.96875 65.921875 18.8125 64.3125 \r\nQ 13.671875 62.703125 7.8125 59.421875 \r\nL 7.8125 69.390625 \r\nQ 13.765625 71.78125 18.9375 73 \r\nQ 24.125 74.21875 28.421875 74.21875 \r\nQ 39.75 74.21875 46.484375 68.546875 \r\nQ 53.21875 62.890625 53.21875 53.421875 \r\nQ 53.21875 48.921875 51.53125 44.890625 \r\nQ 49.859375 40.875 45.40625 35.40625 \r\nQ 44.1875 33.984375 37.640625 27.21875 \r\nQ 31.109375 20.453125 19.1875 8.296875 \r\nz\r\n\" id=\"DejaVuSans-50\"/>\r\n      </defs>\r\n      <g transform=\"translate(86.840057 239.238437)scale(0.1 -0.1)\">\r\n       <use xlink:href=\"#DejaVuSans-50\"/>\r\n      </g>\r\n     </g>\r\n    </g>\r\n    <g id=\"xtick_4\">\r\n     <g id=\"line2d_4\">\r\n      <g>\r\n       <use style=\"stroke:#000000;stroke-width:0.8;\" x=\"109.78858\" xlink:href=\"#m1cd1438613\" y=\"224.64\"/>\r\n      </g>\r\n     </g>\r\n     <g id=\"text_4\">\r\n      <!-- 3 -->\r\n      <defs>\r\n       <path d=\"M 40.578125 39.3125 \r\nQ 47.65625 37.796875 51.625 33 \r\nQ 55.609375 28.21875 55.609375 21.1875 \r\nQ 55.609375 10.40625 48.1875 4.484375 \r\nQ 40.765625 -1.421875 27.09375 -1.421875 \r\nQ 22.515625 -1.421875 17.65625 -0.515625 \r\nQ 12.796875 0.390625 7.625 2.203125 \r\nL 7.625 11.71875 \r\nQ 11.71875 9.328125 16.59375 8.109375 \r\nQ 21.484375 6.890625 26.8125 6.890625 \r\nQ 36.078125 6.890625 40.9375 10.546875 \r\nQ 45.796875 14.203125 45.796875 21.1875 \r\nQ 45.796875 27.640625 41.28125 31.265625 \r\nQ 36.765625 34.90625 28.71875 34.90625 \r\nL 20.21875 34.90625 \r\nL 20.21875 43.015625 \r\nL 29.109375 43.015625 \r\nQ 36.375 43.015625 40.234375 45.921875 \r\nQ 44.09375 48.828125 44.09375 54.296875 \r\nQ 44.09375 59.90625 40.109375 62.90625 \r\nQ 36.140625 65.921875 28.71875 65.921875 \r\nQ 24.65625 65.921875 20.015625 65.03125 \r\nQ 15.375 64.15625 9.8125 62.3125 \r\nL 9.8125 71.09375 \r\nQ 15.4375 72.65625 20.34375 73.4375 \r\nQ 25.25 74.21875 29.59375 74.21875 \r\nQ 40.828125 74.21875 47.359375 69.109375 \r\nQ 53.90625 64.015625 53.90625 55.328125 \r\nQ 53.90625 49.265625 50.4375 45.09375 \r\nQ 46.96875 40.921875 40.578125 39.3125 \r\nz\r\n\" id=\"DejaVuSans-51\"/>\r\n      </defs>\r\n      <g transform=\"translate(106.60733 239.238437)scale(0.1 -0.1)\">\r\n       <use xlink:href=\"#DejaVuSans-51\"/>\r\n      </g>\r\n     </g>\r\n    </g>\r\n    <g id=\"xtick_5\">\r\n     <g id=\"line2d_5\">\r\n      <g>\r\n       <use style=\"stroke:#000000;stroke-width:0.8;\" x=\"129.555852\" xlink:href=\"#m1cd1438613\" y=\"224.64\"/>\r\n      </g>\r\n     </g>\r\n     <g id=\"text_5\">\r\n      <!-- 4 -->\r\n      <defs>\r\n       <path d=\"M 37.796875 64.3125 \r\nL 12.890625 25.390625 \r\nL 37.796875 25.390625 \r\nz\r\nM 35.203125 72.90625 \r\nL 47.609375 72.90625 \r\nL 47.609375 25.390625 \r\nL 58.015625 25.390625 \r\nL 58.015625 17.1875 \r\nL 47.609375 17.1875 \r\nL 47.609375 0 \r\nL 37.796875 0 \r\nL 37.796875 17.1875 \r\nL 4.890625 17.1875 \r\nL 4.890625 26.703125 \r\nz\r\n\" id=\"DejaVuSans-52\"/>\r\n      </defs>\r\n      <g transform=\"translate(126.374602 239.238437)scale(0.1 -0.1)\">\r\n       <use xlink:href=\"#DejaVuSans-52\"/>\r\n      </g>\r\n     </g>\r\n    </g>\r\n    <g id=\"xtick_6\">\r\n     <g id=\"line2d_6\">\r\n      <g>\r\n       <use style=\"stroke:#000000;stroke-width:0.8;\" x=\"149.323125\" xlink:href=\"#m1cd1438613\" y=\"224.64\"/>\r\n      </g>\r\n     </g>\r\n     <g id=\"text_6\">\r\n      <!-- 5 -->\r\n      <defs>\r\n       <path d=\"M 10.796875 72.90625 \r\nL 49.515625 72.90625 \r\nL 49.515625 64.59375 \r\nL 19.828125 64.59375 \r\nL 19.828125 46.734375 \r\nQ 21.96875 47.46875 24.109375 47.828125 \r\nQ 26.265625 48.1875 28.421875 48.1875 \r\nQ 40.625 48.1875 47.75 41.5 \r\nQ 54.890625 34.8125 54.890625 23.390625 \r\nQ 54.890625 11.625 47.5625 5.09375 \r\nQ 40.234375 -1.421875 26.90625 -1.421875 \r\nQ 22.3125 -1.421875 17.546875 -0.640625 \r\nQ 12.796875 0.140625 7.71875 1.703125 \r\nL 7.71875 11.625 \r\nQ 12.109375 9.234375 16.796875 8.0625 \r\nQ 21.484375 6.890625 26.703125 6.890625 \r\nQ 35.15625 6.890625 40.078125 11.328125 \r\nQ 45.015625 15.765625 45.015625 23.390625 \r\nQ 45.015625 31 40.078125 35.4375 \r\nQ 35.15625 39.890625 26.703125 39.890625 \r\nQ 22.75 39.890625 18.8125 39.015625 \r\nQ 14.890625 38.140625 10.796875 36.28125 \r\nz\r\n\" id=\"DejaVuSans-53\"/>\r\n      </defs>\r\n      <g transform=\"translate(146.141875 239.238437)scale(0.1 -0.1)\">\r\n       <use xlink:href=\"#DejaVuSans-53\"/>\r\n      </g>\r\n     </g>\r\n    </g>\r\n    <g id=\"xtick_7\">\r\n     <g id=\"line2d_7\">\r\n      <g>\r\n       <use style=\"stroke:#000000;stroke-width:0.8;\" x=\"169.090398\" xlink:href=\"#m1cd1438613\" y=\"224.64\"/>\r\n      </g>\r\n     </g>\r\n     <g id=\"text_7\">\r\n      <!-- 6 -->\r\n      <defs>\r\n       <path d=\"M 33.015625 40.375 \r\nQ 26.375 40.375 22.484375 35.828125 \r\nQ 18.609375 31.296875 18.609375 23.390625 \r\nQ 18.609375 15.53125 22.484375 10.953125 \r\nQ 26.375 6.390625 33.015625 6.390625 \r\nQ 39.65625 6.390625 43.53125 10.953125 \r\nQ 47.40625 15.53125 47.40625 23.390625 \r\nQ 47.40625 31.296875 43.53125 35.828125 \r\nQ 39.65625 40.375 33.015625 40.375 \r\nz\r\nM 52.59375 71.296875 \r\nL 52.59375 62.3125 \r\nQ 48.875 64.0625 45.09375 64.984375 \r\nQ 41.3125 65.921875 37.59375 65.921875 \r\nQ 27.828125 65.921875 22.671875 59.328125 \r\nQ 17.53125 52.734375 16.796875 39.40625 \r\nQ 19.671875 43.65625 24.015625 45.921875 \r\nQ 28.375 48.1875 33.59375 48.1875 \r\nQ 44.578125 48.1875 50.953125 41.515625 \r\nQ 57.328125 34.859375 57.328125 23.390625 \r\nQ 57.328125 12.15625 50.6875 5.359375 \r\nQ 44.046875 -1.421875 33.015625 -1.421875 \r\nQ 20.359375 -1.421875 13.671875 8.265625 \r\nQ 6.984375 17.96875 6.984375 36.375 \r\nQ 6.984375 53.65625 15.1875 63.9375 \r\nQ 23.390625 74.21875 37.203125 74.21875 \r\nQ 40.921875 74.21875 44.703125 73.484375 \r\nQ 48.484375 72.75 52.59375 71.296875 \r\nz\r\n\" id=\"DejaVuSans-54\"/>\r\n      </defs>\r\n      <g transform=\"translate(165.909148 239.238437)scale(0.1 -0.1)\">\r\n       <use xlink:href=\"#DejaVuSans-54\"/>\r\n      </g>\r\n     </g>\r\n    </g>\r\n    <g id=\"xtick_8\">\r\n     <g id=\"line2d_8\">\r\n      <g>\r\n       <use style=\"stroke:#000000;stroke-width:0.8;\" x=\"188.85767\" xlink:href=\"#m1cd1438613\" y=\"224.64\"/>\r\n      </g>\r\n     </g>\r\n     <g id=\"text_8\">\r\n      <!-- 7 -->\r\n      <defs>\r\n       <path d=\"M 8.203125 72.90625 \r\nL 55.078125 72.90625 \r\nL 55.078125 68.703125 \r\nL 28.609375 0 \r\nL 18.3125 0 \r\nL 43.21875 64.59375 \r\nL 8.203125 64.59375 \r\nz\r\n\" id=\"DejaVuSans-55\"/>\r\n      </defs>\r\n      <g transform=\"translate(185.67642 239.238437)scale(0.1 -0.1)\">\r\n       <use xlink:href=\"#DejaVuSans-55\"/>\r\n      </g>\r\n     </g>\r\n    </g>\r\n    <g id=\"xtick_9\">\r\n     <g id=\"line2d_9\">\r\n      <g>\r\n       <use style=\"stroke:#000000;stroke-width:0.8;\" x=\"208.624943\" xlink:href=\"#m1cd1438613\" y=\"224.64\"/>\r\n      </g>\r\n     </g>\r\n     <g id=\"text_9\">\r\n      <!-- 8 -->\r\n      <defs>\r\n       <path d=\"M 31.78125 34.625 \r\nQ 24.75 34.625 20.71875 30.859375 \r\nQ 16.703125 27.09375 16.703125 20.515625 \r\nQ 16.703125 13.921875 20.71875 10.15625 \r\nQ 24.75 6.390625 31.78125 6.390625 \r\nQ 38.8125 6.390625 42.859375 10.171875 \r\nQ 46.921875 13.96875 46.921875 20.515625 \r\nQ 46.921875 27.09375 42.890625 30.859375 \r\nQ 38.875 34.625 31.78125 34.625 \r\nz\r\nM 21.921875 38.8125 \r\nQ 15.578125 40.375 12.03125 44.71875 \r\nQ 8.5 49.078125 8.5 55.328125 \r\nQ 8.5 64.0625 14.71875 69.140625 \r\nQ 20.953125 74.21875 31.78125 74.21875 \r\nQ 42.671875 74.21875 48.875 69.140625 \r\nQ 55.078125 64.0625 55.078125 55.328125 \r\nQ 55.078125 49.078125 51.53125 44.71875 \r\nQ 48 40.375 41.703125 38.8125 \r\nQ 48.828125 37.15625 52.796875 32.3125 \r\nQ 56.78125 27.484375 56.78125 20.515625 \r\nQ 56.78125 9.90625 50.3125 4.234375 \r\nQ 43.84375 -1.421875 31.78125 -1.421875 \r\nQ 19.734375 -1.421875 13.25 4.234375 \r\nQ 6.78125 9.90625 6.78125 20.515625 \r\nQ 6.78125 27.484375 10.78125 32.3125 \r\nQ 14.796875 37.15625 21.921875 38.8125 \r\nz\r\nM 18.3125 54.390625 \r\nQ 18.3125 48.734375 21.84375 45.5625 \r\nQ 25.390625 42.390625 31.78125 42.390625 \r\nQ 38.140625 42.390625 41.71875 45.5625 \r\nQ 45.3125 48.734375 45.3125 54.390625 \r\nQ 45.3125 60.0625 41.71875 63.234375 \r\nQ 38.140625 66.40625 31.78125 66.40625 \r\nQ 25.390625 66.40625 21.84375 63.234375 \r\nQ 18.3125 60.0625 18.3125 54.390625 \r\nz\r\n\" id=\"DejaVuSans-56\"/>\r\n      </defs>\r\n      <g transform=\"translate(205.443693 239.238437)scale(0.1 -0.1)\">\r\n       <use xlink:href=\"#DejaVuSans-56\"/>\r\n      </g>\r\n     </g>\r\n    </g>\r\n    <g id=\"xtick_10\">\r\n     <g id=\"line2d_10\">\r\n      <g>\r\n       <use style=\"stroke:#000000;stroke-width:0.8;\" x=\"228.392216\" xlink:href=\"#m1cd1438613\" y=\"224.64\"/>\r\n      </g>\r\n     </g>\r\n     <g id=\"text_10\">\r\n      <!-- 9 -->\r\n      <defs>\r\n       <path d=\"M 10.984375 1.515625 \r\nL 10.984375 10.5 \r\nQ 14.703125 8.734375 18.5 7.8125 \r\nQ 22.3125 6.890625 25.984375 6.890625 \r\nQ 35.75 6.890625 40.890625 13.453125 \r\nQ 46.046875 20.015625 46.78125 33.40625 \r\nQ 43.953125 29.203125 39.59375 26.953125 \r\nQ 35.25 24.703125 29.984375 24.703125 \r\nQ 19.046875 24.703125 12.671875 31.3125 \r\nQ 6.296875 37.9375 6.296875 49.421875 \r\nQ 6.296875 60.640625 12.9375 67.421875 \r\nQ 19.578125 74.21875 30.609375 74.21875 \r\nQ 43.265625 74.21875 49.921875 64.515625 \r\nQ 56.59375 54.828125 56.59375 36.375 \r\nQ 56.59375 19.140625 48.40625 8.859375 \r\nQ 40.234375 -1.421875 26.421875 -1.421875 \r\nQ 22.703125 -1.421875 18.890625 -0.6875 \r\nQ 15.09375 0.046875 10.984375 1.515625 \r\nz\r\nM 30.609375 32.421875 \r\nQ 37.25 32.421875 41.125 36.953125 \r\nQ 45.015625 41.5 45.015625 49.421875 \r\nQ 45.015625 57.28125 41.125 61.84375 \r\nQ 37.25 66.40625 30.609375 66.40625 \r\nQ 23.96875 66.40625 20.09375 61.84375 \r\nQ 16.21875 57.28125 16.21875 49.421875 \r\nQ 16.21875 41.5 20.09375 36.953125 \r\nQ 23.96875 32.421875 30.609375 32.421875 \r\nz\r\n\" id=\"DejaVuSans-57\"/>\r\n      </defs>\r\n      <g transform=\"translate(225.210966 239.238437)scale(0.1 -0.1)\">\r\n       <use xlink:href=\"#DejaVuSans-57\"/>\r\n      </g>\r\n     </g>\r\n    </g>\r\n    <g id=\"xtick_11\">\r\n     <g id=\"line2d_11\">\r\n      <g>\r\n       <use style=\"stroke:#000000;stroke-width:0.8;\" x=\"248.159489\" xlink:href=\"#m1cd1438613\" y=\"224.64\"/>\r\n      </g>\r\n     </g>\r\n     <g id=\"text_11\">\r\n      <!-- 10 -->\r\n      <g transform=\"translate(241.796989 239.238437)scale(0.1 -0.1)\">\r\n       <use xlink:href=\"#DejaVuSans-49\"/>\r\n       <use x=\"63.623047\" xlink:href=\"#DejaVuSans-48\"/>\r\n      </g>\r\n     </g>\r\n    </g>\r\n    <g id=\"text_12\">\r\n     <!-- Predicted label -->\r\n     <defs>\r\n      <path d=\"M 19.671875 64.796875 \r\nL 19.671875 37.40625 \r\nL 32.078125 37.40625 \r\nQ 38.96875 37.40625 42.71875 40.96875 \r\nQ 46.484375 44.53125 46.484375 51.125 \r\nQ 46.484375 57.671875 42.71875 61.234375 \r\nQ 38.96875 64.796875 32.078125 64.796875 \r\nz\r\nM 9.8125 72.90625 \r\nL 32.078125 72.90625 \r\nQ 44.34375 72.90625 50.609375 67.359375 \r\nQ 56.890625 61.8125 56.890625 51.125 \r\nQ 56.890625 40.328125 50.609375 34.8125 \r\nQ 44.34375 29.296875 32.078125 29.296875 \r\nL 19.671875 29.296875 \r\nL 19.671875 0 \r\nL 9.8125 0 \r\nz\r\n\" id=\"DejaVuSans-80\"/>\r\n      <path d=\"M 41.109375 46.296875 \r\nQ 39.59375 47.171875 37.8125 47.578125 \r\nQ 36.03125 48 33.890625 48 \r\nQ 26.265625 48 22.1875 43.046875 \r\nQ 18.109375 38.09375 18.109375 28.8125 \r\nL 18.109375 0 \r\nL 9.078125 0 \r\nL 9.078125 54.6875 \r\nL 18.109375 54.6875 \r\nL 18.109375 46.1875 \r\nQ 20.953125 51.171875 25.484375 53.578125 \r\nQ 30.03125 56 36.53125 56 \r\nQ 37.453125 56 38.578125 55.875 \r\nQ 39.703125 55.765625 41.0625 55.515625 \r\nz\r\n\" id=\"DejaVuSans-114\"/>\r\n      <path d=\"M 56.203125 29.59375 \r\nL 56.203125 25.203125 \r\nL 14.890625 25.203125 \r\nQ 15.484375 15.921875 20.484375 11.0625 \r\nQ 25.484375 6.203125 34.421875 6.203125 \r\nQ 39.59375 6.203125 44.453125 7.46875 \r\nQ 49.3125 8.734375 54.109375 11.28125 \r\nL 54.109375 2.78125 \r\nQ 49.265625 0.734375 44.1875 -0.34375 \r\nQ 39.109375 -1.421875 33.890625 -1.421875 \r\nQ 20.796875 -1.421875 13.15625 6.1875 \r\nQ 5.515625 13.8125 5.515625 26.8125 \r\nQ 5.515625 40.234375 12.765625 48.109375 \r\nQ 20.015625 56 32.328125 56 \r\nQ 43.359375 56 49.78125 48.890625 \r\nQ 56.203125 41.796875 56.203125 29.59375 \r\nz\r\nM 47.21875 32.234375 \r\nQ 47.125 39.59375 43.09375 43.984375 \r\nQ 39.0625 48.390625 32.421875 48.390625 \r\nQ 24.90625 48.390625 20.390625 44.140625 \r\nQ 15.875 39.890625 15.1875 32.171875 \r\nz\r\n\" id=\"DejaVuSans-101\"/>\r\n      <path d=\"M 45.40625 46.390625 \r\nL 45.40625 75.984375 \r\nL 54.390625 75.984375 \r\nL 54.390625 0 \r\nL 45.40625 0 \r\nL 45.40625 8.203125 \r\nQ 42.578125 3.328125 38.25 0.953125 \r\nQ 33.9375 -1.421875 27.875 -1.421875 \r\nQ 17.96875 -1.421875 11.734375 6.484375 \r\nQ 5.515625 14.40625 5.515625 27.296875 \r\nQ 5.515625 40.1875 11.734375 48.09375 \r\nQ 17.96875 56 27.875 56 \r\nQ 33.9375 56 38.25 53.625 \r\nQ 42.578125 51.265625 45.40625 46.390625 \r\nz\r\nM 14.796875 27.296875 \r\nQ 14.796875 17.390625 18.875 11.75 \r\nQ 22.953125 6.109375 30.078125 6.109375 \r\nQ 37.203125 6.109375 41.296875 11.75 \r\nQ 45.40625 17.390625 45.40625 27.296875 \r\nQ 45.40625 37.203125 41.296875 42.84375 \r\nQ 37.203125 48.484375 30.078125 48.484375 \r\nQ 22.953125 48.484375 18.875 42.84375 \r\nQ 14.796875 37.203125 14.796875 27.296875 \r\nz\r\n\" id=\"DejaVuSans-100\"/>\r\n      <path d=\"M 9.421875 54.6875 \r\nL 18.40625 54.6875 \r\nL 18.40625 0 \r\nL 9.421875 0 \r\nz\r\nM 9.421875 75.984375 \r\nL 18.40625 75.984375 \r\nL 18.40625 64.59375 \r\nL 9.421875 64.59375 \r\nz\r\n\" id=\"DejaVuSans-105\"/>\r\n      <path d=\"M 48.78125 52.59375 \r\nL 48.78125 44.1875 \r\nQ 44.96875 46.296875 41.140625 47.34375 \r\nQ 37.3125 48.390625 33.40625 48.390625 \r\nQ 24.65625 48.390625 19.8125 42.84375 \r\nQ 14.984375 37.3125 14.984375 27.296875 \r\nQ 14.984375 17.28125 19.8125 11.734375 \r\nQ 24.65625 6.203125 33.40625 6.203125 \r\nQ 37.3125 6.203125 41.140625 7.25 \r\nQ 44.96875 8.296875 48.78125 10.40625 \r\nL 48.78125 2.09375 \r\nQ 45.015625 0.34375 40.984375 -0.53125 \r\nQ 36.96875 -1.421875 32.421875 -1.421875 \r\nQ 20.0625 -1.421875 12.78125 6.34375 \r\nQ 5.515625 14.109375 5.515625 27.296875 \r\nQ 5.515625 40.671875 12.859375 48.328125 \r\nQ 20.21875 56 33.015625 56 \r\nQ 37.15625 56 41.109375 55.140625 \r\nQ 45.0625 54.296875 48.78125 52.59375 \r\nz\r\n\" id=\"DejaVuSans-99\"/>\r\n      <path d=\"M 18.3125 70.21875 \r\nL 18.3125 54.6875 \r\nL 36.8125 54.6875 \r\nL 36.8125 47.703125 \r\nL 18.3125 47.703125 \r\nL 18.3125 18.015625 \r\nQ 18.3125 11.328125 20.140625 9.421875 \r\nQ 21.96875 7.515625 27.59375 7.515625 \r\nL 36.8125 7.515625 \r\nL 36.8125 0 \r\nL 27.59375 0 \r\nQ 17.1875 0 13.234375 3.875 \r\nQ 9.28125 7.765625 9.28125 18.015625 \r\nL 9.28125 47.703125 \r\nL 2.6875 47.703125 \r\nL 2.6875 54.6875 \r\nL 9.28125 54.6875 \r\nL 9.28125 70.21875 \r\nz\r\n\" id=\"DejaVuSans-116\"/>\r\n      <path id=\"DejaVuSans-32\"/>\r\n      <path d=\"M 9.421875 75.984375 \r\nL 18.40625 75.984375 \r\nL 18.40625 0 \r\nL 9.421875 0 \r\nz\r\n\" id=\"DejaVuSans-108\"/>\r\n      <path d=\"M 34.28125 27.484375 \r\nQ 23.390625 27.484375 19.1875 25 \r\nQ 14.984375 22.515625 14.984375 16.5 \r\nQ 14.984375 11.71875 18.140625 8.90625 \r\nQ 21.296875 6.109375 26.703125 6.109375 \r\nQ 34.1875 6.109375 38.703125 11.40625 \r\nQ 43.21875 16.703125 43.21875 25.484375 \r\nL 43.21875 27.484375 \r\nz\r\nM 52.203125 31.203125 \r\nL 52.203125 0 \r\nL 43.21875 0 \r\nL 43.21875 8.296875 \r\nQ 40.140625 3.328125 35.546875 0.953125 \r\nQ 30.953125 -1.421875 24.3125 -1.421875 \r\nQ 15.921875 -1.421875 10.953125 3.296875 \r\nQ 6 8.015625 6 15.921875 \r\nQ 6 25.140625 12.171875 29.828125 \r\nQ 18.359375 34.515625 30.609375 34.515625 \r\nL 43.21875 34.515625 \r\nL 43.21875 35.40625 \r\nQ 43.21875 41.609375 39.140625 45 \r\nQ 35.0625 48.390625 27.6875 48.390625 \r\nQ 23 48.390625 18.546875 47.265625 \r\nQ 14.109375 46.140625 10.015625 43.890625 \r\nL 10.015625 52.203125 \r\nQ 14.9375 54.109375 19.578125 55.046875 \r\nQ 24.21875 56 28.609375 56 \r\nQ 40.484375 56 46.34375 49.84375 \r\nQ 52.203125 43.703125 52.203125 31.203125 \r\nz\r\n\" id=\"DejaVuSans-97\"/>\r\n      <path d=\"M 48.6875 27.296875 \r\nQ 48.6875 37.203125 44.609375 42.84375 \r\nQ 40.53125 48.484375 33.40625 48.484375 \r\nQ 26.265625 48.484375 22.1875 42.84375 \r\nQ 18.109375 37.203125 18.109375 27.296875 \r\nQ 18.109375 17.390625 22.1875 11.75 \r\nQ 26.265625 6.109375 33.40625 6.109375 \r\nQ 40.53125 6.109375 44.609375 11.75 \r\nQ 48.6875 17.390625 48.6875 27.296875 \r\nz\r\nM 18.109375 46.390625 \r\nQ 20.953125 51.265625 25.265625 53.625 \r\nQ 29.59375 56 35.59375 56 \r\nQ 45.5625 56 51.78125 48.09375 \r\nQ 58.015625 40.1875 58.015625 27.296875 \r\nQ 58.015625 14.40625 51.78125 6.484375 \r\nQ 45.5625 -1.421875 35.59375 -1.421875 \r\nQ 29.59375 -1.421875 25.265625 0.953125 \r\nQ 20.953125 3.328125 18.109375 8.203125 \r\nL 18.109375 0 \r\nL 9.078125 0 \r\nL 9.078125 75.984375 \r\nL 18.109375 75.984375 \r\nz\r\n\" id=\"DejaVuSans-98\"/>\r\n     </defs>\r\n     <g transform=\"translate(112.170781 252.916562)scale(0.1 -0.1)\">\r\n      <use xlink:href=\"#DejaVuSans-80\"/>\r\n      <use x=\"58.552734\" xlink:href=\"#DejaVuSans-114\"/>\r\n      <use x=\"97.416016\" xlink:href=\"#DejaVuSans-101\"/>\r\n      <use x=\"158.939453\" xlink:href=\"#DejaVuSans-100\"/>\r\n      <use x=\"222.416016\" xlink:href=\"#DejaVuSans-105\"/>\r\n      <use x=\"250.199219\" xlink:href=\"#DejaVuSans-99\"/>\r\n      <use x=\"305.179688\" xlink:href=\"#DejaVuSans-116\"/>\r\n      <use x=\"344.388672\" xlink:href=\"#DejaVuSans-101\"/>\r\n      <use x=\"405.912109\" xlink:href=\"#DejaVuSans-100\"/>\r\n      <use x=\"469.388672\" xlink:href=\"#DejaVuSans-32\"/>\r\n      <use x=\"501.175781\" xlink:href=\"#DejaVuSans-108\"/>\r\n      <use x=\"528.958984\" xlink:href=\"#DejaVuSans-97\"/>\r\n      <use x=\"590.238281\" xlink:href=\"#DejaVuSans-98\"/>\r\n      <use x=\"653.714844\" xlink:href=\"#DejaVuSans-101\"/>\r\n      <use x=\"715.238281\" xlink:href=\"#DejaVuSans-108\"/>\r\n     </g>\r\n    </g>\r\n   </g>\r\n   <g id=\"matplotlib.axis_2\">\r\n    <g id=\"ytick_1\">\r\n     <g id=\"line2d_12\">\r\n      <defs>\r\n       <path d=\"M 0 0 \r\nL -3.5 0 \r\n\" id=\"m311fc37033\" style=\"stroke:#000000;stroke-width:0.8;\"/>\r\n      </defs>\r\n      <g>\r\n       <use style=\"stroke:#000000;stroke-width:0.8;\" x=\"40.603125\" xlink:href=\"#m311fc37033\" y=\"17.083636\"/>\r\n      </g>\r\n     </g>\r\n     <g id=\"text_13\">\r\n      <!-- 0 -->\r\n      <g transform=\"translate(27.240625 20.882855)scale(0.1 -0.1)\">\r\n       <use xlink:href=\"#DejaVuSans-48\"/>\r\n      </g>\r\n     </g>\r\n    </g>\r\n    <g id=\"ytick_2\">\r\n     <g id=\"line2d_13\">\r\n      <g>\r\n       <use style=\"stroke:#000000;stroke-width:0.8;\" x=\"40.603125\" xlink:href=\"#m311fc37033\" y=\"36.850909\"/>\r\n      </g>\r\n     </g>\r\n     <g id=\"text_14\">\r\n      <!-- 1 -->\r\n      <g transform=\"translate(27.240625 40.650128)scale(0.1 -0.1)\">\r\n       <use xlink:href=\"#DejaVuSans-49\"/>\r\n      </g>\r\n     </g>\r\n    </g>\r\n    <g id=\"ytick_3\">\r\n     <g id=\"line2d_14\">\r\n      <g>\r\n       <use style=\"stroke:#000000;stroke-width:0.8;\" x=\"40.603125\" xlink:href=\"#m311fc37033\" y=\"56.618182\"/>\r\n      </g>\r\n     </g>\r\n     <g id=\"text_15\">\r\n      <!-- 2 -->\r\n      <g transform=\"translate(27.240625 60.417401)scale(0.1 -0.1)\">\r\n       <use xlink:href=\"#DejaVuSans-50\"/>\r\n      </g>\r\n     </g>\r\n    </g>\r\n    <g id=\"ytick_4\">\r\n     <g id=\"line2d_15\">\r\n      <g>\r\n       <use style=\"stroke:#000000;stroke-width:0.8;\" x=\"40.603125\" xlink:href=\"#m311fc37033\" y=\"76.385455\"/>\r\n      </g>\r\n     </g>\r\n     <g id=\"text_16\">\r\n      <!-- 3 -->\r\n      <g transform=\"translate(27.240625 80.184673)scale(0.1 -0.1)\">\r\n       <use xlink:href=\"#DejaVuSans-51\"/>\r\n      </g>\r\n     </g>\r\n    </g>\r\n    <g id=\"ytick_5\">\r\n     <g id=\"line2d_16\">\r\n      <g>\r\n       <use style=\"stroke:#000000;stroke-width:0.8;\" x=\"40.603125\" xlink:href=\"#m311fc37033\" y=\"96.152727\"/>\r\n      </g>\r\n     </g>\r\n     <g id=\"text_17\">\r\n      <!-- 4 -->\r\n      <g transform=\"translate(27.240625 99.951946)scale(0.1 -0.1)\">\r\n       <use xlink:href=\"#DejaVuSans-52\"/>\r\n      </g>\r\n     </g>\r\n    </g>\r\n    <g id=\"ytick_6\">\r\n     <g id=\"line2d_17\">\r\n      <g>\r\n       <use style=\"stroke:#000000;stroke-width:0.8;\" x=\"40.603125\" xlink:href=\"#m311fc37033\" y=\"115.92\"/>\r\n      </g>\r\n     </g>\r\n     <g id=\"text_18\">\r\n      <!-- 5 -->\r\n      <g transform=\"translate(27.240625 119.719219)scale(0.1 -0.1)\">\r\n       <use xlink:href=\"#DejaVuSans-53\"/>\r\n      </g>\r\n     </g>\r\n    </g>\r\n    <g id=\"ytick_7\">\r\n     <g id=\"line2d_18\">\r\n      <g>\r\n       <use style=\"stroke:#000000;stroke-width:0.8;\" x=\"40.603125\" xlink:href=\"#m311fc37033\" y=\"135.687273\"/>\r\n      </g>\r\n     </g>\r\n     <g id=\"text_19\">\r\n      <!-- 6 -->\r\n      <g transform=\"translate(27.240625 139.486491)scale(0.1 -0.1)\">\r\n       <use xlink:href=\"#DejaVuSans-54\"/>\r\n      </g>\r\n     </g>\r\n    </g>\r\n    <g id=\"ytick_8\">\r\n     <g id=\"line2d_19\">\r\n      <g>\r\n       <use style=\"stroke:#000000;stroke-width:0.8;\" x=\"40.603125\" xlink:href=\"#m311fc37033\" y=\"155.454545\"/>\r\n      </g>\r\n     </g>\r\n     <g id=\"text_20\">\r\n      <!-- 7 -->\r\n      <g transform=\"translate(27.240625 159.253764)scale(0.1 -0.1)\">\r\n       <use xlink:href=\"#DejaVuSans-55\"/>\r\n      </g>\r\n     </g>\r\n    </g>\r\n    <g id=\"ytick_9\">\r\n     <g id=\"line2d_20\">\r\n      <g>\r\n       <use style=\"stroke:#000000;stroke-width:0.8;\" x=\"40.603125\" xlink:href=\"#m311fc37033\" y=\"175.221818\"/>\r\n      </g>\r\n     </g>\r\n     <g id=\"text_21\">\r\n      <!-- 8 -->\r\n      <g transform=\"translate(27.240625 179.021037)scale(0.1 -0.1)\">\r\n       <use xlink:href=\"#DejaVuSans-56\"/>\r\n      </g>\r\n     </g>\r\n    </g>\r\n    <g id=\"ytick_10\">\r\n     <g id=\"line2d_21\">\r\n      <g>\r\n       <use style=\"stroke:#000000;stroke-width:0.8;\" x=\"40.603125\" xlink:href=\"#m311fc37033\" y=\"194.989091\"/>\r\n      </g>\r\n     </g>\r\n     <g id=\"text_22\">\r\n      <!-- 9 -->\r\n      <g transform=\"translate(27.240625 198.78831)scale(0.1 -0.1)\">\r\n       <use xlink:href=\"#DejaVuSans-57\"/>\r\n      </g>\r\n     </g>\r\n    </g>\r\n    <g id=\"ytick_11\">\r\n     <g id=\"line2d_22\">\r\n      <g>\r\n       <use style=\"stroke:#000000;stroke-width:0.8;\" x=\"40.603125\" xlink:href=\"#m311fc37033\" y=\"214.756364\"/>\r\n      </g>\r\n     </g>\r\n     <g id=\"text_23\">\r\n      <!-- 10 -->\r\n      <g transform=\"translate(20.878125 218.555582)scale(0.1 -0.1)\">\r\n       <use xlink:href=\"#DejaVuSans-49\"/>\r\n       <use x=\"63.623047\" xlink:href=\"#DejaVuSans-48\"/>\r\n      </g>\r\n     </g>\r\n    </g>\r\n    <g id=\"text_24\">\r\n     <!-- True label -->\r\n     <defs>\r\n      <path d=\"M -0.296875 72.90625 \r\nL 61.375 72.90625 \r\nL 61.375 64.59375 \r\nL 35.5 64.59375 \r\nL 35.5 0 \r\nL 25.59375 0 \r\nL 25.59375 64.59375 \r\nL -0.296875 64.59375 \r\nz\r\n\" id=\"DejaVuSans-84\"/>\r\n      <path d=\"M 8.5 21.578125 \r\nL 8.5 54.6875 \r\nL 17.484375 54.6875 \r\nL 17.484375 21.921875 \r\nQ 17.484375 14.15625 20.5 10.265625 \r\nQ 23.53125 6.390625 29.59375 6.390625 \r\nQ 36.859375 6.390625 41.078125 11.03125 \r\nQ 45.3125 15.671875 45.3125 23.6875 \r\nL 45.3125 54.6875 \r\nL 54.296875 54.6875 \r\nL 54.296875 0 \r\nL 45.3125 0 \r\nL 45.3125 8.40625 \r\nQ 42.046875 3.421875 37.71875 1 \r\nQ 33.40625 -1.421875 27.6875 -1.421875 \r\nQ 18.265625 -1.421875 13.375 4.4375 \r\nQ 8.5 10.296875 8.5 21.578125 \r\nz\r\nM 31.109375 56 \r\nz\r\n\" id=\"DejaVuSans-117\"/>\r\n     </defs>\r\n     <g transform=\"translate(14.798438 140.219219)rotate(-90)scale(0.1 -0.1)\">\r\n      <use xlink:href=\"#DejaVuSans-84\"/>\r\n      <use x=\"46.333984\" xlink:href=\"#DejaVuSans-114\"/>\r\n      <use x=\"87.447266\" xlink:href=\"#DejaVuSans-117\"/>\r\n      <use x=\"150.826172\" xlink:href=\"#DejaVuSans-101\"/>\r\n      <use x=\"212.349609\" xlink:href=\"#DejaVuSans-32\"/>\r\n      <use x=\"244.136719\" xlink:href=\"#DejaVuSans-108\"/>\r\n      <use x=\"271.919922\" xlink:href=\"#DejaVuSans-97\"/>\r\n      <use x=\"333.199219\" xlink:href=\"#DejaVuSans-98\"/>\r\n      <use x=\"396.675781\" xlink:href=\"#DejaVuSans-101\"/>\r\n      <use x=\"458.199219\" xlink:href=\"#DejaVuSans-108\"/>\r\n     </g>\r\n    </g>\r\n   </g>\r\n   <g id=\"patch_3\">\r\n    <path d=\"M 40.603125 224.64 \r\nL 40.603125 7.2 \r\n\" style=\"fill:none;stroke:#000000;stroke-linecap:square;stroke-linejoin:miter;stroke-width:0.8;\"/>\r\n   </g>\r\n   <g id=\"patch_4\">\r\n    <path d=\"M 258.043125 224.64 \r\nL 258.043125 7.2 \r\n\" style=\"fill:none;stroke:#000000;stroke-linecap:square;stroke-linejoin:miter;stroke-width:0.8;\"/>\r\n   </g>\r\n   <g id=\"patch_5\">\r\n    <path d=\"M 40.603125 224.64 \r\nL 258.043125 224.64 \r\n\" style=\"fill:none;stroke:#000000;stroke-linecap:square;stroke-linejoin:miter;stroke-width:0.8;\"/>\r\n   </g>\r\n   <g id=\"patch_6\">\r\n    <path d=\"M 40.603125 7.2 \r\nL 258.043125 7.2 \r\n\" style=\"fill:none;stroke:#000000;stroke-linecap:square;stroke-linejoin:miter;stroke-width:0.8;\"/>\r\n   </g>\r\n   <g id=\"text_25\">\r\n    <!-- 787 -->\r\n    <g style=\"fill:#440154;\" transform=\"translate(40.943011 19.843011)scale(0.1 -0.1)\">\r\n     <use xlink:href=\"#DejaVuSans-55\"/>\r\n     <use x=\"63.623047\" xlink:href=\"#DejaVuSans-56\"/>\r\n     <use x=\"127.246094\" xlink:href=\"#DejaVuSans-55\"/>\r\n    </g>\r\n   </g>\r\n   <g id=\"text_26\">\r\n    <!-- 75 -->\r\n    <g style=\"fill:#fde725;\" transform=\"translate(63.891534 19.843011)scale(0.1 -0.1)\">\r\n     <use xlink:href=\"#DejaVuSans-55\"/>\r\n     <use x=\"63.623047\" xlink:href=\"#DejaVuSans-53\"/>\r\n    </g>\r\n   </g>\r\n   <g id=\"text_27\">\r\n    <!-- 83 -->\r\n    <g style=\"fill:#fde725;\" transform=\"translate(83.658807 19.843011)scale(0.1 -0.1)\">\r\n     <use xlink:href=\"#DejaVuSans-56\"/>\r\n     <use x=\"63.623047\" xlink:href=\"#DejaVuSans-51\"/>\r\n    </g>\r\n   </g>\r\n   <g id=\"text_28\">\r\n    <!-- 3 -->\r\n    <g style=\"fill:#fde725;\" transform=\"translate(106.60733 19.843011)scale(0.1 -0.1)\">\r\n     <use xlink:href=\"#DejaVuSans-51\"/>\r\n    </g>\r\n   </g>\r\n   <g id=\"text_29\">\r\n    <!-- 113 -->\r\n    <g style=\"fill:#fde725;\" transform=\"translate(120.012102 19.843011)scale(0.1 -0.1)\">\r\n     <use xlink:href=\"#DejaVuSans-49\"/>\r\n     <use x=\"63.623047\" xlink:href=\"#DejaVuSans-49\"/>\r\n     <use x=\"127.246094\" xlink:href=\"#DejaVuSans-51\"/>\r\n    </g>\r\n   </g>\r\n   <g id=\"text_30\">\r\n    <!-- 49 -->\r\n    <g style=\"fill:#fde725;\" transform=\"translate(142.960625 19.843011)scale(0.1 -0.1)\">\r\n     <use xlink:href=\"#DejaVuSans-52\"/>\r\n     <use x=\"63.623047\" xlink:href=\"#DejaVuSans-57\"/>\r\n    </g>\r\n   </g>\r\n   <g id=\"text_31\">\r\n    <!-- 163 -->\r\n    <g style=\"fill:#fde725;\" transform=\"translate(159.546648 19.843011)scale(0.1 -0.1)\">\r\n     <use xlink:href=\"#DejaVuSans-49\"/>\r\n     <use x=\"63.623047\" xlink:href=\"#DejaVuSans-54\"/>\r\n     <use x=\"127.246094\" xlink:href=\"#DejaVuSans-51\"/>\r\n    </g>\r\n   </g>\r\n   <g id=\"text_32\">\r\n    <!-- 51 -->\r\n    <g style=\"fill:#fde725;\" transform=\"translate(182.49517 19.843011)scale(0.1 -0.1)\">\r\n     <use xlink:href=\"#DejaVuSans-53\"/>\r\n     <use x=\"63.623047\" xlink:href=\"#DejaVuSans-49\"/>\r\n    </g>\r\n   </g>\r\n   <g id=\"text_33\">\r\n    <!-- 24 -->\r\n    <g style=\"fill:#fde725;\" transform=\"translate(202.262443 19.843011)scale(0.1 -0.1)\">\r\n     <use xlink:href=\"#DejaVuSans-50\"/>\r\n     <use x=\"63.623047\" xlink:href=\"#DejaVuSans-52\"/>\r\n    </g>\r\n   </g>\r\n   <g id=\"text_34\">\r\n    <!-- 46 -->\r\n    <g style=\"fill:#fde725;\" transform=\"translate(222.029716 19.843011)scale(0.1 -0.1)\">\r\n     <use xlink:href=\"#DejaVuSans-52\"/>\r\n     <use x=\"63.623047\" xlink:href=\"#DejaVuSans-54\"/>\r\n    </g>\r\n   </g>\r\n   <g id=\"text_35\">\r\n    <!-- 6 -->\r\n    <g style=\"fill:#fde725;\" transform=\"translate(244.978239 19.843011)scale(0.1 -0.1)\">\r\n     <use xlink:href=\"#DejaVuSans-54\"/>\r\n    </g>\r\n   </g>\r\n   <g id=\"text_36\">\r\n    <!-- 60 -->\r\n    <g style=\"fill:#fde725;\" transform=\"translate(44.124261 39.610284)scale(0.1 -0.1)\">\r\n     <use xlink:href=\"#DejaVuSans-54\"/>\r\n     <use x=\"63.623047\" xlink:href=\"#DejaVuSans-48\"/>\r\n    </g>\r\n   </g>\r\n   <g id=\"text_37\">\r\n    <!-- 900 -->\r\n    <g style=\"fill:#440154;\" transform=\"translate(60.710284 39.610284)scale(0.1 -0.1)\">\r\n     <use xlink:href=\"#DejaVuSans-57\"/>\r\n     <use x=\"63.623047\" xlink:href=\"#DejaVuSans-48\"/>\r\n     <use x=\"127.246094\" xlink:href=\"#DejaVuSans-48\"/>\r\n    </g>\r\n   </g>\r\n   <g id=\"text_38\">\r\n    <!-- 58 -->\r\n    <g style=\"fill:#fde725;\" transform=\"translate(83.658807 39.610284)scale(0.1 -0.1)\">\r\n     <use xlink:href=\"#DejaVuSans-53\"/>\r\n     <use x=\"63.623047\" xlink:href=\"#DejaVuSans-56\"/>\r\n    </g>\r\n   </g>\r\n   <g id=\"text_39\">\r\n    <!-- 1 -->\r\n    <g style=\"fill:#fde725;\" transform=\"translate(106.60733 39.610284)scale(0.1 -0.1)\">\r\n     <use xlink:href=\"#DejaVuSans-49\"/>\r\n    </g>\r\n   </g>\r\n   <g id=\"text_40\">\r\n    <!-- 36 -->\r\n    <g style=\"fill:#fde725;\" transform=\"translate(123.193352 39.610284)scale(0.1 -0.1)\">\r\n     <use xlink:href=\"#DejaVuSans-51\"/>\r\n     <use x=\"63.623047\" xlink:href=\"#DejaVuSans-54\"/>\r\n    </g>\r\n   </g>\r\n   <g id=\"text_41\">\r\n    <!-- 51 -->\r\n    <g style=\"fill:#fde725;\" transform=\"translate(142.960625 39.610284)scale(0.1 -0.1)\">\r\n     <use xlink:href=\"#DejaVuSans-53\"/>\r\n     <use x=\"63.623047\" xlink:href=\"#DejaVuSans-49\"/>\r\n    </g>\r\n   </g>\r\n   <g id=\"text_42\">\r\n    <!-- 129 -->\r\n    <g style=\"fill:#fde725;\" transform=\"translate(159.546648 39.610284)scale(0.1 -0.1)\">\r\n     <use xlink:href=\"#DejaVuSans-49\"/>\r\n     <use x=\"63.623047\" xlink:href=\"#DejaVuSans-50\"/>\r\n     <use x=\"127.246094\" xlink:href=\"#DejaVuSans-57\"/>\r\n    </g>\r\n   </g>\r\n   <g id=\"text_43\">\r\n    <!-- 53 -->\r\n    <g style=\"fill:#fde725;\" transform=\"translate(182.49517 39.610284)scale(0.1 -0.1)\">\r\n     <use xlink:href=\"#DejaVuSans-53\"/>\r\n     <use x=\"63.623047\" xlink:href=\"#DejaVuSans-51\"/>\r\n    </g>\r\n   </g>\r\n   <g id=\"text_44\">\r\n    <!-- 31 -->\r\n    <g style=\"fill:#fde725;\" transform=\"translate(202.262443 39.610284)scale(0.1 -0.1)\">\r\n     <use xlink:href=\"#DejaVuSans-51\"/>\r\n     <use x=\"63.623047\" xlink:href=\"#DejaVuSans-49\"/>\r\n    </g>\r\n   </g>\r\n   <g id=\"text_45\">\r\n    <!-- 77 -->\r\n    <g style=\"fill:#fde725;\" transform=\"translate(222.029716 39.610284)scale(0.1 -0.1)\">\r\n     <use xlink:href=\"#DejaVuSans-55\"/>\r\n     <use x=\"63.623047\" xlink:href=\"#DejaVuSans-55\"/>\r\n    </g>\r\n   </g>\r\n   <g id=\"text_46\">\r\n    <!-- 4 -->\r\n    <g style=\"fill:#fde725;\" transform=\"translate(244.978239 39.610284)scale(0.1 -0.1)\">\r\n     <use xlink:href=\"#DejaVuSans-52\"/>\r\n    </g>\r\n   </g>\r\n   <g id=\"text_47\">\r\n    <!-- 110 -->\r\n    <g style=\"fill:#fde725;\" transform=\"translate(40.943011 59.377557)scale(0.1 -0.1)\">\r\n     <use xlink:href=\"#DejaVuSans-49\"/>\r\n     <use x=\"63.623047\" xlink:href=\"#DejaVuSans-49\"/>\r\n     <use x=\"127.246094\" xlink:href=\"#DejaVuSans-48\"/>\r\n    </g>\r\n   </g>\r\n   <g id=\"text_48\">\r\n    <!-- 50 -->\r\n    <g style=\"fill:#fde725;\" transform=\"translate(63.891534 59.377557)scale(0.1 -0.1)\">\r\n     <use xlink:href=\"#DejaVuSans-53\"/>\r\n     <use x=\"63.623047\" xlink:href=\"#DejaVuSans-48\"/>\r\n    </g>\r\n   </g>\r\n   <g id=\"text_49\">\r\n    <!-- 891 -->\r\n    <g style=\"fill:#440154;\" transform=\"translate(80.477557 59.377557)scale(0.1 -0.1)\">\r\n     <use xlink:href=\"#DejaVuSans-56\"/>\r\n     <use x=\"63.623047\" xlink:href=\"#DejaVuSans-57\"/>\r\n     <use x=\"127.246094\" xlink:href=\"#DejaVuSans-49\"/>\r\n    </g>\r\n   </g>\r\n   <g id=\"text_50\">\r\n    <!-- 6 -->\r\n    <g style=\"fill:#fde725;\" transform=\"translate(106.60733 59.377557)scale(0.1 -0.1)\">\r\n     <use xlink:href=\"#DejaVuSans-54\"/>\r\n    </g>\r\n   </g>\r\n   <g id=\"text_51\">\r\n    <!-- 77 -->\r\n    <g style=\"fill:#fde725;\" transform=\"translate(123.193352 59.377557)scale(0.1 -0.1)\">\r\n     <use xlink:href=\"#DejaVuSans-55\"/>\r\n     <use x=\"63.623047\" xlink:href=\"#DejaVuSans-55\"/>\r\n    </g>\r\n   </g>\r\n   <g id=\"text_52\">\r\n    <!-- 69 -->\r\n    <g style=\"fill:#fde725;\" transform=\"translate(142.960625 59.377557)scale(0.1 -0.1)\">\r\n     <use xlink:href=\"#DejaVuSans-54\"/>\r\n     <use x=\"63.623047\" xlink:href=\"#DejaVuSans-57\"/>\r\n    </g>\r\n   </g>\r\n   <g id=\"text_53\">\r\n    <!-- 108 -->\r\n    <g style=\"fill:#fde725;\" transform=\"translate(159.546648 59.377557)scale(0.1 -0.1)\">\r\n     <use xlink:href=\"#DejaVuSans-49\"/>\r\n     <use x=\"63.623047\" xlink:href=\"#DejaVuSans-48\"/>\r\n     <use x=\"127.246094\" xlink:href=\"#DejaVuSans-56\"/>\r\n    </g>\r\n   </g>\r\n   <g id=\"text_54\">\r\n    <!-- 27 -->\r\n    <g style=\"fill:#fde725;\" transform=\"translate(182.49517 59.377557)scale(0.1 -0.1)\">\r\n     <use xlink:href=\"#DejaVuSans-50\"/>\r\n     <use x=\"63.623047\" xlink:href=\"#DejaVuSans-55\"/>\r\n    </g>\r\n   </g>\r\n   <g id=\"text_55\">\r\n    <!-- 11 -->\r\n    <g style=\"fill:#fde725;\" transform=\"translate(202.262443 59.377557)scale(0.1 -0.1)\">\r\n     <use xlink:href=\"#DejaVuSans-49\"/>\r\n     <use x=\"63.623047\" xlink:href=\"#DejaVuSans-49\"/>\r\n    </g>\r\n   </g>\r\n   <g id=\"text_56\">\r\n    <!-- 48 -->\r\n    <g style=\"fill:#fde725;\" transform=\"translate(222.029716 59.377557)scale(0.1 -0.1)\">\r\n     <use xlink:href=\"#DejaVuSans-52\"/>\r\n     <use x=\"63.623047\" xlink:href=\"#DejaVuSans-56\"/>\r\n    </g>\r\n   </g>\r\n   <g id=\"text_57\">\r\n    <!-- 3 -->\r\n    <g style=\"fill:#fde725;\" transform=\"translate(244.978239 59.377557)scale(0.1 -0.1)\">\r\n     <use xlink:href=\"#DejaVuSans-51\"/>\r\n    </g>\r\n   </g>\r\n   <g id=\"text_58\">\r\n    <!-- 31 -->\r\n    <g style=\"fill:#fde725;\" transform=\"translate(44.124261 79.14483)scale(0.1 -0.1)\">\r\n     <use xlink:href=\"#DejaVuSans-51\"/>\r\n     <use x=\"63.623047\" xlink:href=\"#DejaVuSans-49\"/>\r\n    </g>\r\n   </g>\r\n   <g id=\"text_59\">\r\n    <!-- 12 -->\r\n    <g style=\"fill:#fde725;\" transform=\"translate(63.891534 79.14483)scale(0.1 -0.1)\">\r\n     <use xlink:href=\"#DejaVuSans-49\"/>\r\n     <use x=\"63.623047\" xlink:href=\"#DejaVuSans-50\"/>\r\n    </g>\r\n   </g>\r\n   <g id=\"text_60\">\r\n    <!-- 33 -->\r\n    <g style=\"fill:#fde725;\" transform=\"translate(83.658807 79.14483)scale(0.1 -0.1)\">\r\n     <use xlink:href=\"#DejaVuSans-51\"/>\r\n     <use x=\"63.623047\" xlink:href=\"#DejaVuSans-51\"/>\r\n    </g>\r\n   </g>\r\n   <g id=\"text_61\">\r\n    <!-- 1202 -->\r\n    <g style=\"fill:#440154;\" transform=\"translate(97.06358 79.14483)scale(0.1 -0.1)\">\r\n     <use xlink:href=\"#DejaVuSans-49\"/>\r\n     <use x=\"63.623047\" xlink:href=\"#DejaVuSans-50\"/>\r\n     <use x=\"127.246094\" xlink:href=\"#DejaVuSans-48\"/>\r\n     <use x=\"190.869141\" xlink:href=\"#DejaVuSans-50\"/>\r\n    </g>\r\n   </g>\r\n   <g id=\"text_62\">\r\n    <!-- 18 -->\r\n    <g style=\"fill:#fde725;\" transform=\"translate(123.193352 79.14483)scale(0.1 -0.1)\">\r\n     <use xlink:href=\"#DejaVuSans-49\"/>\r\n     <use x=\"63.623047\" xlink:href=\"#DejaVuSans-56\"/>\r\n    </g>\r\n   </g>\r\n   <g id=\"text_63\">\r\n    <!-- 38 -->\r\n    <g style=\"fill:#fde725;\" transform=\"translate(142.960625 79.14483)scale(0.1 -0.1)\">\r\n     <use xlink:href=\"#DejaVuSans-51\"/>\r\n     <use x=\"63.623047\" xlink:href=\"#DejaVuSans-56\"/>\r\n    </g>\r\n   </g>\r\n   <g id=\"text_64\">\r\n    <!-- 31 -->\r\n    <g style=\"fill:#fde725;\" transform=\"translate(162.727898 79.14483)scale(0.1 -0.1)\">\r\n     <use xlink:href=\"#DejaVuSans-51\"/>\r\n     <use x=\"63.623047\" xlink:href=\"#DejaVuSans-49\"/>\r\n    </g>\r\n   </g>\r\n   <g id=\"text_65\">\r\n    <!-- 8 -->\r\n    <g style=\"fill:#fde725;\" transform=\"translate(185.67642 79.14483)scale(0.1 -0.1)\">\r\n     <use xlink:href=\"#DejaVuSans-56\"/>\r\n    </g>\r\n   </g>\r\n   <g id=\"text_66\">\r\n    <!-- 5 -->\r\n    <g style=\"fill:#fde725;\" transform=\"translate(205.443693 79.14483)scale(0.1 -0.1)\">\r\n     <use xlink:href=\"#DejaVuSans-53\"/>\r\n    </g>\r\n   </g>\r\n   <g id=\"text_67\">\r\n    <!-- 17 -->\r\n    <g style=\"fill:#fde725;\" transform=\"translate(222.029716 79.14483)scale(0.1 -0.1)\">\r\n     <use xlink:href=\"#DejaVuSans-49\"/>\r\n     <use x=\"63.623047\" xlink:href=\"#DejaVuSans-55\"/>\r\n    </g>\r\n   </g>\r\n   <g id=\"text_68\">\r\n    <!-- 5 -->\r\n    <g style=\"fill:#fde725;\" transform=\"translate(244.978239 79.14483)scale(0.1 -0.1)\">\r\n     <use xlink:href=\"#DejaVuSans-53\"/>\r\n    </g>\r\n   </g>\r\n   <g id=\"text_69\">\r\n    <!-- 39 -->\r\n    <g style=\"fill:#fde725;\" transform=\"translate(44.124261 98.912102)scale(0.1 -0.1)\">\r\n     <use xlink:href=\"#DejaVuSans-51\"/>\r\n     <use x=\"63.623047\" xlink:href=\"#DejaVuSans-57\"/>\r\n    </g>\r\n   </g>\r\n   <g id=\"text_70\">\r\n    <!-- 38 -->\r\n    <g style=\"fill:#fde725;\" transform=\"translate(63.891534 98.912102)scale(0.1 -0.1)\">\r\n     <use xlink:href=\"#DejaVuSans-51\"/>\r\n     <use x=\"63.623047\" xlink:href=\"#DejaVuSans-56\"/>\r\n    </g>\r\n   </g>\r\n   <g id=\"text_71\">\r\n    <!-- 27 -->\r\n    <g style=\"fill:#fde725;\" transform=\"translate(83.658807 98.912102)scale(0.1 -0.1)\">\r\n     <use xlink:href=\"#DejaVuSans-50\"/>\r\n     <use x=\"63.623047\" xlink:href=\"#DejaVuSans-55\"/>\r\n    </g>\r\n   </g>\r\n   <g id=\"text_72\">\r\n    <!-- 4 -->\r\n    <g style=\"fill:#fde725;\" transform=\"translate(106.60733 98.912102)scale(0.1 -0.1)\">\r\n     <use xlink:href=\"#DejaVuSans-52\"/>\r\n    </g>\r\n   </g>\r\n   <g id=\"text_73\">\r\n    <!-- 1179 -->\r\n    <g style=\"fill:#440154;\" transform=\"translate(116.830852 98.912102)scale(0.1 -0.1)\">\r\n     <use xlink:href=\"#DejaVuSans-49\"/>\r\n     <use x=\"63.623047\" xlink:href=\"#DejaVuSans-49\"/>\r\n     <use x=\"127.246094\" xlink:href=\"#DejaVuSans-55\"/>\r\n     <use x=\"190.869141\" xlink:href=\"#DejaVuSans-57\"/>\r\n    </g>\r\n   </g>\r\n   <g id=\"text_74\">\r\n    <!-- 9 -->\r\n    <g style=\"fill:#fde725;\" transform=\"translate(146.141875 98.912102)scale(0.1 -0.1)\">\r\n     <use xlink:href=\"#DejaVuSans-57\"/>\r\n    </g>\r\n   </g>\r\n   <g id=\"text_75\">\r\n    <!-- 49 -->\r\n    <g style=\"fill:#fde725;\" transform=\"translate(162.727898 98.912102)scale(0.1 -0.1)\">\r\n     <use xlink:href=\"#DejaVuSans-52\"/>\r\n     <use x=\"63.623047\" xlink:href=\"#DejaVuSans-57\"/>\r\n    </g>\r\n   </g>\r\n   <g id=\"text_76\">\r\n    <!-- 14 -->\r\n    <g style=\"fill:#fde725;\" transform=\"translate(182.49517 98.912102)scale(0.1 -0.1)\">\r\n     <use xlink:href=\"#DejaVuSans-49\"/>\r\n     <use x=\"63.623047\" xlink:href=\"#DejaVuSans-52\"/>\r\n    </g>\r\n   </g>\r\n   <g id=\"text_77\">\r\n    <!-- 11 -->\r\n    <g style=\"fill:#fde725;\" transform=\"translate(202.262443 98.912102)scale(0.1 -0.1)\">\r\n     <use xlink:href=\"#DejaVuSans-49\"/>\r\n     <use x=\"63.623047\" xlink:href=\"#DejaVuSans-49\"/>\r\n    </g>\r\n   </g>\r\n   <g id=\"text_78\">\r\n    <!-- 24 -->\r\n    <g style=\"fill:#fde725;\" transform=\"translate(222.029716 98.912102)scale(0.1 -0.1)\">\r\n     <use xlink:href=\"#DejaVuSans-50\"/>\r\n     <use x=\"63.623047\" xlink:href=\"#DejaVuSans-52\"/>\r\n    </g>\r\n   </g>\r\n   <g id=\"text_79\">\r\n    <!-- 6 -->\r\n    <g style=\"fill:#fde725;\" transform=\"translate(244.978239 98.912102)scale(0.1 -0.1)\">\r\n     <use xlink:href=\"#DejaVuSans-54\"/>\r\n    </g>\r\n   </g>\r\n   <g id=\"text_80\">\r\n    <!-- 13 -->\r\n    <g style=\"fill:#fde725;\" transform=\"translate(44.124261 118.679375)scale(0.1 -0.1)\">\r\n     <use xlink:href=\"#DejaVuSans-49\"/>\r\n     <use x=\"63.623047\" xlink:href=\"#DejaVuSans-51\"/>\r\n    </g>\r\n   </g>\r\n   <g id=\"text_81\">\r\n    <!-- 32 -->\r\n    <g style=\"fill:#fde725;\" transform=\"translate(63.891534 118.679375)scale(0.1 -0.1)\">\r\n     <use xlink:href=\"#DejaVuSans-51\"/>\r\n     <use x=\"63.623047\" xlink:href=\"#DejaVuSans-50\"/>\r\n    </g>\r\n   </g>\r\n   <g id=\"text_82\">\r\n    <!-- 55 -->\r\n    <g style=\"fill:#fde725;\" transform=\"translate(83.658807 118.679375)scale(0.1 -0.1)\">\r\n     <use xlink:href=\"#DejaVuSans-53\"/>\r\n     <use x=\"63.623047\" xlink:href=\"#DejaVuSans-53\"/>\r\n    </g>\r\n   </g>\r\n   <g id=\"text_83\">\r\n    <!-- 1 -->\r\n    <g style=\"fill:#fde725;\" transform=\"translate(106.60733 118.679375)scale(0.1 -0.1)\">\r\n     <use xlink:href=\"#DejaVuSans-49\"/>\r\n    </g>\r\n   </g>\r\n   <g id=\"text_84\">\r\n    <!-- 6 -->\r\n    <g style=\"fill:#fde725;\" transform=\"translate(126.374602 118.679375)scale(0.1 -0.1)\">\r\n     <use xlink:href=\"#DejaVuSans-54\"/>\r\n    </g>\r\n   </g>\r\n   <g id=\"text_85\">\r\n    <!-- 1224 -->\r\n    <g style=\"fill:#440154;\" transform=\"translate(136.598125 118.679375)scale(0.1 -0.1)\">\r\n     <use xlink:href=\"#DejaVuSans-49\"/>\r\n     <use x=\"63.623047\" xlink:href=\"#DejaVuSans-50\"/>\r\n     <use x=\"127.246094\" xlink:href=\"#DejaVuSans-50\"/>\r\n     <use x=\"190.869141\" xlink:href=\"#DejaVuSans-52\"/>\r\n    </g>\r\n   </g>\r\n   <g id=\"text_86\">\r\n    <!-- 30 -->\r\n    <g style=\"fill:#fde725;\" transform=\"translate(162.727898 118.679375)scale(0.1 -0.1)\">\r\n     <use xlink:href=\"#DejaVuSans-51\"/>\r\n     <use x=\"63.623047\" xlink:href=\"#DejaVuSans-48\"/>\r\n    </g>\r\n   </g>\r\n   <g id=\"text_87\">\r\n    <!-- 7 -->\r\n    <g style=\"fill:#fde725;\" transform=\"translate(185.67642 118.679375)scale(0.1 -0.1)\">\r\n     <use xlink:href=\"#DejaVuSans-55\"/>\r\n    </g>\r\n   </g>\r\n   <g id=\"text_88\">\r\n    <!-- 6 -->\r\n    <g style=\"fill:#fde725;\" transform=\"translate(205.443693 118.679375)scale(0.1 -0.1)\">\r\n     <use xlink:href=\"#DejaVuSans-54\"/>\r\n    </g>\r\n   </g>\r\n   <g id=\"text_89\">\r\n    <!-- 25 -->\r\n    <g style=\"fill:#fde725;\" transform=\"translate(222.029716 118.679375)scale(0.1 -0.1)\">\r\n     <use xlink:href=\"#DejaVuSans-50\"/>\r\n     <use x=\"63.623047\" xlink:href=\"#DejaVuSans-53\"/>\r\n    </g>\r\n   </g>\r\n   <g id=\"text_90\">\r\n    <!-- 1 -->\r\n    <g style=\"fill:#fde725;\" transform=\"translate(244.978239 118.679375)scale(0.1 -0.1)\">\r\n     <use xlink:href=\"#DejaVuSans-49\"/>\r\n    </g>\r\n   </g>\r\n   <g id=\"text_91\">\r\n    <!-- 122 -->\r\n    <g style=\"fill:#fde725;\" transform=\"translate(40.943011 138.446648)scale(0.1 -0.1)\">\r\n     <use xlink:href=\"#DejaVuSans-49\"/>\r\n     <use x=\"63.623047\" xlink:href=\"#DejaVuSans-50\"/>\r\n     <use x=\"127.246094\" xlink:href=\"#DejaVuSans-50\"/>\r\n    </g>\r\n   </g>\r\n   <g id=\"text_92\">\r\n    <!-- 128 -->\r\n    <g style=\"fill:#fde725;\" transform=\"translate(60.710284 138.446648)scale(0.1 -0.1)\">\r\n     <use xlink:href=\"#DejaVuSans-49\"/>\r\n     <use x=\"63.623047\" xlink:href=\"#DejaVuSans-50\"/>\r\n     <use x=\"127.246094\" xlink:href=\"#DejaVuSans-56\"/>\r\n    </g>\r\n   </g>\r\n   <g id=\"text_93\">\r\n    <!-- 93 -->\r\n    <g style=\"fill:#fde725;\" transform=\"translate(83.658807 138.446648)scale(0.1 -0.1)\">\r\n     <use xlink:href=\"#DejaVuSans-57\"/>\r\n     <use x=\"63.623047\" xlink:href=\"#DejaVuSans-51\"/>\r\n    </g>\r\n   </g>\r\n   <g id=\"text_94\">\r\n    <!-- 7 -->\r\n    <g style=\"fill:#fde725;\" transform=\"translate(106.60733 138.446648)scale(0.1 -0.1)\">\r\n     <use xlink:href=\"#DejaVuSans-55\"/>\r\n    </g>\r\n   </g>\r\n   <g id=\"text_95\">\r\n    <!-- 75 -->\r\n    <g style=\"fill:#fde725;\" transform=\"translate(123.193352 138.446648)scale(0.1 -0.1)\">\r\n     <use xlink:href=\"#DejaVuSans-55\"/>\r\n     <use x=\"63.623047\" xlink:href=\"#DejaVuSans-53\"/>\r\n    </g>\r\n   </g>\r\n   <g id=\"text_96\">\r\n    <!-- 24 -->\r\n    <g style=\"fill:#fde725;\" transform=\"translate(142.960625 138.446648)scale(0.1 -0.1)\">\r\n     <use xlink:href=\"#DejaVuSans-50\"/>\r\n     <use x=\"63.623047\" xlink:href=\"#DejaVuSans-52\"/>\r\n    </g>\r\n   </g>\r\n   <g id=\"text_97\">\r\n    <!-- 762 -->\r\n    <g style=\"fill:#440154;\" transform=\"translate(159.546648 138.446648)scale(0.1 -0.1)\">\r\n     <use xlink:href=\"#DejaVuSans-55\"/>\r\n     <use x=\"63.623047\" xlink:href=\"#DejaVuSans-54\"/>\r\n     <use x=\"127.246094\" xlink:href=\"#DejaVuSans-50\"/>\r\n    </g>\r\n   </g>\r\n   <g id=\"text_98\">\r\n    <!-- 49 -->\r\n    <g style=\"fill:#fde725;\" transform=\"translate(182.49517 138.446648)scale(0.1 -0.1)\">\r\n     <use xlink:href=\"#DejaVuSans-52\"/>\r\n     <use x=\"63.623047\" xlink:href=\"#DejaVuSans-57\"/>\r\n    </g>\r\n   </g>\r\n   <g id=\"text_99\">\r\n    <!-- 33 -->\r\n    <g style=\"fill:#fde725;\" transform=\"translate(202.262443 138.446648)scale(0.1 -0.1)\">\r\n     <use xlink:href=\"#DejaVuSans-51\"/>\r\n     <use x=\"63.623047\" xlink:href=\"#DejaVuSans-51\"/>\r\n    </g>\r\n   </g>\r\n   <g id=\"text_100\">\r\n    <!-- 101 -->\r\n    <g style=\"fill:#fde725;\" transform=\"translate(218.848466 138.446648)scale(0.1 -0.1)\">\r\n     <use xlink:href=\"#DejaVuSans-49\"/>\r\n     <use x=\"63.623047\" xlink:href=\"#DejaVuSans-48\"/>\r\n     <use x=\"127.246094\" xlink:href=\"#DejaVuSans-49\"/>\r\n    </g>\r\n   </g>\r\n   <g id=\"text_101\">\r\n    <!-- 6 -->\r\n    <g style=\"fill:#fde725;\" transform=\"translate(244.978239 138.446648)scale(0.1 -0.1)\">\r\n     <use xlink:href=\"#DejaVuSans-54\"/>\r\n    </g>\r\n   </g>\r\n   <g id=\"text_102\">\r\n    <!-- 30 -->\r\n    <g style=\"fill:#fde725;\" transform=\"translate(44.124261 158.21392)scale(0.1 -0.1)\">\r\n     <use xlink:href=\"#DejaVuSans-51\"/>\r\n     <use x=\"63.623047\" xlink:href=\"#DejaVuSans-48\"/>\r\n    </g>\r\n   </g>\r\n   <g id=\"text_103\">\r\n    <!-- 40 -->\r\n    <g style=\"fill:#fde725;\" transform=\"translate(63.891534 158.21392)scale(0.1 -0.1)\">\r\n     <use xlink:href=\"#DejaVuSans-52\"/>\r\n     <use x=\"63.623047\" xlink:href=\"#DejaVuSans-48\"/>\r\n    </g>\r\n   </g>\r\n   <g id=\"text_104\">\r\n    <!-- 7 -->\r\n    <g style=\"fill:#fde725;\" transform=\"translate(86.840057 158.21392)scale(0.1 -0.1)\">\r\n     <use xlink:href=\"#DejaVuSans-55\"/>\r\n    </g>\r\n   </g>\r\n   <g id=\"text_105\">\r\n    <!-- 0 -->\r\n    <g style=\"fill:#fde725;\" transform=\"translate(106.60733 158.21392)scale(0.1 -0.1)\">\r\n     <use xlink:href=\"#DejaVuSans-48\"/>\r\n    </g>\r\n   </g>\r\n   <g id=\"text_106\">\r\n    <!-- 30 -->\r\n    <g style=\"fill:#fde725;\" transform=\"translate(123.193352 158.21392)scale(0.1 -0.1)\">\r\n     <use xlink:href=\"#DejaVuSans-51\"/>\r\n     <use x=\"63.623047\" xlink:href=\"#DejaVuSans-48\"/>\r\n    </g>\r\n   </g>\r\n   <g id=\"text_107\">\r\n    <!-- 26 -->\r\n    <g style=\"fill:#fde725;\" transform=\"translate(142.960625 158.21392)scale(0.1 -0.1)\">\r\n     <use xlink:href=\"#DejaVuSans-50\"/>\r\n     <use x=\"63.623047\" xlink:href=\"#DejaVuSans-54\"/>\r\n    </g>\r\n   </g>\r\n   <g id=\"text_108\">\r\n    <!-- 33 -->\r\n    <g style=\"fill:#fde725;\" transform=\"translate(162.727898 158.21392)scale(0.1 -0.1)\">\r\n     <use xlink:href=\"#DejaVuSans-51\"/>\r\n     <use x=\"63.623047\" xlink:href=\"#DejaVuSans-51\"/>\r\n    </g>\r\n   </g>\r\n   <g id=\"text_109\">\r\n    <!-- 1196 -->\r\n    <g style=\"fill:#440154;\" transform=\"translate(176.13267 158.21392)scale(0.1 -0.1)\">\r\n     <use xlink:href=\"#DejaVuSans-49\"/>\r\n     <use x=\"63.623047\" xlink:href=\"#DejaVuSans-49\"/>\r\n     <use x=\"127.246094\" xlink:href=\"#DejaVuSans-57\"/>\r\n     <use x=\"190.869141\" xlink:href=\"#DejaVuSans-54\"/>\r\n    </g>\r\n   </g>\r\n   <g id=\"text_110\">\r\n    <!-- 2 -->\r\n    <g style=\"fill:#fde725;\" transform=\"translate(205.443693 158.21392)scale(0.1 -0.1)\">\r\n     <use xlink:href=\"#DejaVuSans-50\"/>\r\n    </g>\r\n   </g>\r\n   <g id=\"text_111\">\r\n    <!-- 36 -->\r\n    <g style=\"fill:#fde725;\" transform=\"translate(222.029716 158.21392)scale(0.1 -0.1)\">\r\n     <use xlink:href=\"#DejaVuSans-51\"/>\r\n     <use x=\"63.623047\" xlink:href=\"#DejaVuSans-54\"/>\r\n    </g>\r\n   </g>\r\n   <g id=\"text_112\">\r\n    <!-- 0 -->\r\n    <g style=\"fill:#fde725;\" transform=\"translate(244.978239 158.21392)scale(0.1 -0.1)\">\r\n     <use xlink:href=\"#DejaVuSans-48\"/>\r\n    </g>\r\n   </g>\r\n   <g id=\"text_113\">\r\n    <!-- 12 -->\r\n    <g style=\"fill:#fde725;\" transform=\"translate(44.124261 177.981193)scale(0.1 -0.1)\">\r\n     <use xlink:href=\"#DejaVuSans-49\"/>\r\n     <use x=\"63.623047\" xlink:href=\"#DejaVuSans-50\"/>\r\n    </g>\r\n   </g>\r\n   <g id=\"text_114\">\r\n    <!-- 10 -->\r\n    <g style=\"fill:#fde725;\" transform=\"translate(63.891534 177.981193)scale(0.1 -0.1)\">\r\n     <use xlink:href=\"#DejaVuSans-49\"/>\r\n     <use x=\"63.623047\" xlink:href=\"#DejaVuSans-48\"/>\r\n    </g>\r\n   </g>\r\n   <g id=\"text_115\">\r\n    <!-- 6 -->\r\n    <g style=\"fill:#fde725;\" transform=\"translate(86.840057 177.981193)scale(0.1 -0.1)\">\r\n     <use xlink:href=\"#DejaVuSans-54\"/>\r\n    </g>\r\n   </g>\r\n   <g id=\"text_116\">\r\n    <!-- 0 -->\r\n    <g style=\"fill:#fde725;\" transform=\"translate(106.60733 177.981193)scale(0.1 -0.1)\">\r\n     <use xlink:href=\"#DejaVuSans-48\"/>\r\n    </g>\r\n   </g>\r\n   <g id=\"text_117\">\r\n    <!-- 6 -->\r\n    <g style=\"fill:#fde725;\" transform=\"translate(126.374602 177.981193)scale(0.1 -0.1)\">\r\n     <use xlink:href=\"#DejaVuSans-54\"/>\r\n    </g>\r\n   </g>\r\n   <g id=\"text_118\">\r\n    <!-- 12 -->\r\n    <g style=\"fill:#fde725;\" transform=\"translate(142.960625 177.981193)scale(0.1 -0.1)\">\r\n     <use xlink:href=\"#DejaVuSans-49\"/>\r\n     <use x=\"63.623047\" xlink:href=\"#DejaVuSans-50\"/>\r\n    </g>\r\n   </g>\r\n   <g id=\"text_119\">\r\n    <!-- 5 -->\r\n    <g style=\"fill:#fde725;\" transform=\"translate(165.909148 177.981193)scale(0.1 -0.1)\">\r\n     <use xlink:href=\"#DejaVuSans-53\"/>\r\n    </g>\r\n   </g>\r\n   <g id=\"text_120\">\r\n    <!-- 2 -->\r\n    <g style=\"fill:#fde725;\" transform=\"translate(185.67642 177.981193)scale(0.1 -0.1)\">\r\n     <use xlink:href=\"#DejaVuSans-50\"/>\r\n    </g>\r\n   </g>\r\n   <g id=\"text_121\">\r\n    <!-- 1274 -->\r\n    <g style=\"fill:#440154;\" transform=\"translate(195.899943 177.981193)scale(0.1 -0.1)\">\r\n     <use xlink:href=\"#DejaVuSans-49\"/>\r\n     <use x=\"63.623047\" xlink:href=\"#DejaVuSans-50\"/>\r\n     <use x=\"127.246094\" xlink:href=\"#DejaVuSans-55\"/>\r\n     <use x=\"190.869141\" xlink:href=\"#DejaVuSans-52\"/>\r\n    </g>\r\n   </g>\r\n   <g id=\"text_122\">\r\n    <!-- 72 -->\r\n    <g style=\"fill:#fde725;\" transform=\"translate(222.029716 177.981193)scale(0.1 -0.1)\">\r\n     <use xlink:href=\"#DejaVuSans-55\"/>\r\n     <use x=\"63.623047\" xlink:href=\"#DejaVuSans-50\"/>\r\n    </g>\r\n   </g>\r\n   <g id=\"text_123\">\r\n    <!-- 1 -->\r\n    <g style=\"fill:#fde725;\" transform=\"translate(244.978239 177.981193)scale(0.1 -0.1)\">\r\n     <use xlink:href=\"#DejaVuSans-49\"/>\r\n    </g>\r\n   </g>\r\n   <g id=\"text_124\">\r\n    <!-- 41 -->\r\n    <g style=\"fill:#fde725;\" transform=\"translate(44.124261 197.748466)scale(0.1 -0.1)\">\r\n     <use xlink:href=\"#DejaVuSans-52\"/>\r\n     <use x=\"63.623047\" xlink:href=\"#DejaVuSans-49\"/>\r\n    </g>\r\n   </g>\r\n   <g id=\"text_125\">\r\n    <!-- 64 -->\r\n    <g style=\"fill:#fde725;\" transform=\"translate(63.891534 197.748466)scale(0.1 -0.1)\">\r\n     <use xlink:href=\"#DejaVuSans-54\"/>\r\n     <use x=\"63.623047\" xlink:href=\"#DejaVuSans-52\"/>\r\n    </g>\r\n   </g>\r\n   <g id=\"text_126\">\r\n    <!-- 38 -->\r\n    <g style=\"fill:#fde725;\" transform=\"translate(83.658807 197.748466)scale(0.1 -0.1)\">\r\n     <use xlink:href=\"#DejaVuSans-51\"/>\r\n     <use x=\"63.623047\" xlink:href=\"#DejaVuSans-56\"/>\r\n    </g>\r\n   </g>\r\n   <g id=\"text_127\">\r\n    <!-- 8 -->\r\n    <g style=\"fill:#fde725;\" transform=\"translate(106.60733 197.748466)scale(0.1 -0.1)\">\r\n     <use xlink:href=\"#DejaVuSans-56\"/>\r\n    </g>\r\n   </g>\r\n   <g id=\"text_128\">\r\n    <!-- 18 -->\r\n    <g style=\"fill:#fde725;\" transform=\"translate(123.193352 197.748466)scale(0.1 -0.1)\">\r\n     <use xlink:href=\"#DejaVuSans-49\"/>\r\n     <use x=\"63.623047\" xlink:href=\"#DejaVuSans-56\"/>\r\n    </g>\r\n   </g>\r\n   <g id=\"text_129\">\r\n    <!-- 36 -->\r\n    <g style=\"fill:#fde725;\" transform=\"translate(142.960625 197.748466)scale(0.1 -0.1)\">\r\n     <use xlink:href=\"#DejaVuSans-51\"/>\r\n     <use x=\"63.623047\" xlink:href=\"#DejaVuSans-54\"/>\r\n    </g>\r\n   </g>\r\n   <g id=\"text_130\">\r\n    <!-- 58 -->\r\n    <g style=\"fill:#fde725;\" transform=\"translate(162.727898 197.748466)scale(0.1 -0.1)\">\r\n     <use xlink:href=\"#DejaVuSans-53\"/>\r\n     <use x=\"63.623047\" xlink:href=\"#DejaVuSans-56\"/>\r\n    </g>\r\n   </g>\r\n   <g id=\"text_131\">\r\n    <!-- 20 -->\r\n    <g style=\"fill:#fde725;\" transform=\"translate(182.49517 197.748466)scale(0.1 -0.1)\">\r\n     <use xlink:href=\"#DejaVuSans-50\"/>\r\n     <use x=\"63.623047\" xlink:href=\"#DejaVuSans-48\"/>\r\n    </g>\r\n   </g>\r\n   <g id=\"text_132\">\r\n    <!-- 36 -->\r\n    <g style=\"fill:#fde725;\" transform=\"translate(202.262443 197.748466)scale(0.1 -0.1)\">\r\n     <use xlink:href=\"#DejaVuSans-51\"/>\r\n     <use x=\"63.623047\" xlink:href=\"#DejaVuSans-54\"/>\r\n    </g>\r\n   </g>\r\n   <g id=\"text_133\">\r\n    <!-- 1080 -->\r\n    <g style=\"fill:#440154;\" transform=\"translate(215.667216 197.748466)scale(0.1 -0.1)\">\r\n     <use xlink:href=\"#DejaVuSans-49\"/>\r\n     <use x=\"63.623047\" xlink:href=\"#DejaVuSans-48\"/>\r\n     <use x=\"127.246094\" xlink:href=\"#DejaVuSans-56\"/>\r\n     <use x=\"190.869141\" xlink:href=\"#DejaVuSans-48\"/>\r\n    </g>\r\n   </g>\r\n   <g id=\"text_134\">\r\n    <!-- 1 -->\r\n    <g style=\"fill:#fde725;\" transform=\"translate(244.978239 197.748466)scale(0.1 -0.1)\">\r\n     <use xlink:href=\"#DejaVuSans-49\"/>\r\n    </g>\r\n   </g>\r\n   <g id=\"text_135\">\r\n    <!-- 31 -->\r\n    <g style=\"fill:#fde725;\" transform=\"translate(44.124261 217.515739)scale(0.1 -0.1)\">\r\n     <use xlink:href=\"#DejaVuSans-51\"/>\r\n     <use x=\"63.623047\" xlink:href=\"#DejaVuSans-49\"/>\r\n    </g>\r\n   </g>\r\n   <g id=\"text_136\">\r\n    <!-- 34 -->\r\n    <g style=\"fill:#fde725;\" transform=\"translate(63.891534 217.515739)scale(0.1 -0.1)\">\r\n     <use xlink:href=\"#DejaVuSans-51\"/>\r\n     <use x=\"63.623047\" xlink:href=\"#DejaVuSans-52\"/>\r\n    </g>\r\n   </g>\r\n   <g id=\"text_137\">\r\n    <!-- 16 -->\r\n    <g style=\"fill:#fde725;\" transform=\"translate(83.658807 217.515739)scale(0.1 -0.1)\">\r\n     <use xlink:href=\"#DejaVuSans-49\"/>\r\n     <use x=\"63.623047\" xlink:href=\"#DejaVuSans-54\"/>\r\n    </g>\r\n   </g>\r\n   <g id=\"text_138\">\r\n    <!-- 0 -->\r\n    <g style=\"fill:#fde725;\" transform=\"translate(106.60733 217.515739)scale(0.1 -0.1)\">\r\n     <use xlink:href=\"#DejaVuSans-48\"/>\r\n    </g>\r\n   </g>\r\n   <g id=\"text_139\">\r\n    <!-- 10 -->\r\n    <g style=\"fill:#fde725;\" transform=\"translate(123.193352 217.515739)scale(0.1 -0.1)\">\r\n     <use xlink:href=\"#DejaVuSans-49\"/>\r\n     <use x=\"63.623047\" xlink:href=\"#DejaVuSans-48\"/>\r\n    </g>\r\n   </g>\r\n   <g id=\"text_140\">\r\n    <!-- 16 -->\r\n    <g style=\"fill:#fde725;\" transform=\"translate(142.960625 217.515739)scale(0.1 -0.1)\">\r\n     <use xlink:href=\"#DejaVuSans-49\"/>\r\n     <use x=\"63.623047\" xlink:href=\"#DejaVuSans-54\"/>\r\n    </g>\r\n   </g>\r\n   <g id=\"text_141\">\r\n    <!-- 26 -->\r\n    <g style=\"fill:#fde725;\" transform=\"translate(162.727898 217.515739)scale(0.1 -0.1)\">\r\n     <use xlink:href=\"#DejaVuSans-50\"/>\r\n     <use x=\"63.623047\" xlink:href=\"#DejaVuSans-54\"/>\r\n    </g>\r\n   </g>\r\n   <g id=\"text_142\">\r\n    <!-- 6 -->\r\n    <g style=\"fill:#fde725;\" transform=\"translate(185.67642 217.515739)scale(0.1 -0.1)\">\r\n     <use xlink:href=\"#DejaVuSans-54\"/>\r\n    </g>\r\n   </g>\r\n   <g id=\"text_143\">\r\n    <!-- 6 -->\r\n    <g style=\"fill:#fde725;\" transform=\"translate(205.443693 217.515739)scale(0.1 -0.1)\">\r\n     <use xlink:href=\"#DejaVuSans-54\"/>\r\n    </g>\r\n   </g>\r\n   <g id=\"text_144\">\r\n    <!-- 27 -->\r\n    <g style=\"fill:#fde725;\" transform=\"translate(222.029716 217.515739)scale(0.1 -0.1)\">\r\n     <use xlink:href=\"#DejaVuSans-50\"/>\r\n     <use x=\"63.623047\" xlink:href=\"#DejaVuSans-55\"/>\r\n    </g>\r\n   </g>\r\n   <g id=\"text_145\">\r\n    <!-- 1228 -->\r\n    <g style=\"fill:#440154;\" transform=\"translate(235.434489 217.515739)scale(0.1 -0.1)\">\r\n     <use xlink:href=\"#DejaVuSans-49\"/>\r\n     <use x=\"63.623047\" xlink:href=\"#DejaVuSans-50\"/>\r\n     <use x=\"127.246094\" xlink:href=\"#DejaVuSans-50\"/>\r\n     <use x=\"190.869141\" xlink:href=\"#DejaVuSans-56\"/>\r\n    </g>\r\n   </g>\r\n  </g>\r\n  <g id=\"axes_2\">\r\n   <g id=\"patch_7\">\r\n    <path clip-path=\"url(#p58e406811a)\" d=\"M 274.783125 224.64 \r\nL 274.783125 223.790625 \r\nL 274.783125 8.049375 \r\nL 274.783125 7.2 \r\nL 285.655125 7.2 \r\nL 285.655125 8.049375 \r\nL 285.655125 223.790625 \r\nL 285.655125 224.64 \r\nz\r\n\" style=\"fill:#ffffff;stroke:#ffffff;stroke-linejoin:miter;stroke-width:0.01;\"/>\r\n   </g>\r\n   <image height=\"217\" id=\"imagefe647f2d93\" transform=\"scale(1 -1)translate(0 -217)\" width=\"11\" x=\"275\" xlink:href=\"data:image/png;base64,\r\niVBORw0KGgoAAAANSUhEUgAAAAsAAADZCAYAAAD2WsoCAAAABHNCSVQICAgIfAhkiAAAAWFJREFUaIHt2kFuwzAQQ1FpJOdkPUPvf5C26bZANnoLAuMiWRPEJ2dkO07mR30+x+Fnz5qn2rHnWufiMQvEgjGmMJdgiPOgNqjnHtVZQHLOid9t/BXH2niuHgGJ2cbdA+P8SpDFEOcgc8p5iDMtv/VMGLE2bIK0G8YM4iZtBDFy1VHALqcbxOSMAVMY6By7yNyyjZjzHds41+Lzxh0n+P/HTc4txg0Q79P9Ij4/33fcjTZtBMcNzMHqKoXRpA14REq2MUYuIDjPWEDrmZhNDBjUhmGcU3DAVBurfjpgVKyNJeIcRhPnNWHc5NxEvO8YUG4T1kZ9d8AoGYodWGGmNpa1kdo6amNPCphjFmfpmZwvacNWNLYbuaE85hc4x4ZSEpCW/5KA1DNekcg5tRu0/LbPwYCpG9Bj0KVAlp9OigU81o592YEF5wVfCLe83dtLfsgowbjgfZZigDMxL/kjkGD8AgQsgWhMNMxTAAAAAElFTkSuQmCC\" y=\"-7\"/>\r\n   <g id=\"matplotlib.axis_3\"/>\r\n   <g id=\"matplotlib.axis_4\">\r\n    <g id=\"ytick_12\">\r\n     <g id=\"line2d_23\">\r\n      <defs>\r\n       <path d=\"M 0 0 \r\nL 3.5 0 \r\n\" id=\"m92a4139581\" style=\"stroke:#000000;stroke-width:0.8;\"/>\r\n      </defs>\r\n      <g>\r\n       <use style=\"stroke:#000000;stroke-width:0.8;\" x=\"285.655125\" xlink:href=\"#m92a4139581\" y=\"224.64\"/>\r\n      </g>\r\n     </g>\r\n     <g id=\"text_146\">\r\n      <!-- 0 -->\r\n      <g transform=\"translate(292.655125 228.439219)scale(0.1 -0.1)\">\r\n       <use xlink:href=\"#DejaVuSans-48\"/>\r\n      </g>\r\n     </g>\r\n    </g>\r\n    <g id=\"ytick_13\">\r\n     <g id=\"line2d_24\">\r\n      <g>\r\n       <use style=\"stroke:#000000;stroke-width:0.8;\" x=\"285.655125\" xlink:href=\"#m92a4139581\" y=\"190.504992\"/>\r\n      </g>\r\n     </g>\r\n     <g id=\"text_147\">\r\n      <!-- 200 -->\r\n      <g transform=\"translate(292.655125 194.304211)scale(0.1 -0.1)\">\r\n       <use xlink:href=\"#DejaVuSans-50\"/>\r\n       <use x=\"63.623047\" xlink:href=\"#DejaVuSans-48\"/>\r\n       <use x=\"127.246094\" xlink:href=\"#DejaVuSans-48\"/>\r\n      </g>\r\n     </g>\r\n    </g>\r\n    <g id=\"ytick_14\">\r\n     <g id=\"line2d_25\">\r\n      <g>\r\n       <use style=\"stroke:#000000;stroke-width:0.8;\" x=\"285.655125\" xlink:href=\"#m92a4139581\" y=\"156.369984\"/>\r\n      </g>\r\n     </g>\r\n     <g id=\"text_148\">\r\n      <!-- 400 -->\r\n      <g transform=\"translate(292.655125 160.169203)scale(0.1 -0.1)\">\r\n       <use xlink:href=\"#DejaVuSans-52\"/>\r\n       <use x=\"63.623047\" xlink:href=\"#DejaVuSans-48\"/>\r\n       <use x=\"127.246094\" xlink:href=\"#DejaVuSans-48\"/>\r\n      </g>\r\n     </g>\r\n    </g>\r\n    <g id=\"ytick_15\">\r\n     <g id=\"line2d_26\">\r\n      <g>\r\n       <use style=\"stroke:#000000;stroke-width:0.8;\" x=\"285.655125\" xlink:href=\"#m92a4139581\" y=\"122.234976\"/>\r\n      </g>\r\n     </g>\r\n     <g id=\"text_149\">\r\n      <!-- 600 -->\r\n      <g transform=\"translate(292.655125 126.034195)scale(0.1 -0.1)\">\r\n       <use xlink:href=\"#DejaVuSans-54\"/>\r\n       <use x=\"63.623047\" xlink:href=\"#DejaVuSans-48\"/>\r\n       <use x=\"127.246094\" xlink:href=\"#DejaVuSans-48\"/>\r\n      </g>\r\n     </g>\r\n    </g>\r\n    <g id=\"ytick_16\">\r\n     <g id=\"line2d_27\">\r\n      <g>\r\n       <use style=\"stroke:#000000;stroke-width:0.8;\" x=\"285.655125\" xlink:href=\"#m92a4139581\" y=\"88.099969\"/>\r\n      </g>\r\n     </g>\r\n     <g id=\"text_150\">\r\n      <!-- 800 -->\r\n      <g transform=\"translate(292.655125 91.899187)scale(0.1 -0.1)\">\r\n       <use xlink:href=\"#DejaVuSans-56\"/>\r\n       <use x=\"63.623047\" xlink:href=\"#DejaVuSans-48\"/>\r\n       <use x=\"127.246094\" xlink:href=\"#DejaVuSans-48\"/>\r\n      </g>\r\n     </g>\r\n    </g>\r\n    <g id=\"ytick_17\">\r\n     <g id=\"line2d_28\">\r\n      <g>\r\n       <use style=\"stroke:#000000;stroke-width:0.8;\" x=\"285.655125\" xlink:href=\"#m92a4139581\" y=\"53.964961\"/>\r\n      </g>\r\n     </g>\r\n     <g id=\"text_151\">\r\n      <!-- 1000 -->\r\n      <g transform=\"translate(292.655125 57.76418)scale(0.1 -0.1)\">\r\n       <use xlink:href=\"#DejaVuSans-49\"/>\r\n       <use x=\"63.623047\" xlink:href=\"#DejaVuSans-48\"/>\r\n       <use x=\"127.246094\" xlink:href=\"#DejaVuSans-48\"/>\r\n       <use x=\"190.869141\" xlink:href=\"#DejaVuSans-48\"/>\r\n      </g>\r\n     </g>\r\n    </g>\r\n    <g id=\"ytick_18\">\r\n     <g id=\"line2d_29\">\r\n      <g>\r\n       <use style=\"stroke:#000000;stroke-width:0.8;\" x=\"285.655125\" xlink:href=\"#m92a4139581\" y=\"19.829953\"/>\r\n      </g>\r\n     </g>\r\n     <g id=\"text_152\">\r\n      <!-- 1200 -->\r\n      <g transform=\"translate(292.655125 23.629172)scale(0.1 -0.1)\">\r\n       <use xlink:href=\"#DejaVuSans-49\"/>\r\n       <use x=\"63.623047\" xlink:href=\"#DejaVuSans-50\"/>\r\n       <use x=\"127.246094\" xlink:href=\"#DejaVuSans-48\"/>\r\n       <use x=\"190.869141\" xlink:href=\"#DejaVuSans-48\"/>\r\n      </g>\r\n     </g>\r\n    </g>\r\n   </g>\r\n   <g id=\"patch_8\">\r\n    <path d=\"M 274.783125 224.64 \r\nL 274.783125 223.790625 \r\nL 274.783125 8.049375 \r\nL 274.783125 7.2 \r\nL 285.655125 7.2 \r\nL 285.655125 8.049375 \r\nL 285.655125 223.790625 \r\nL 285.655125 224.64 \r\nz\r\n\" style=\"fill:none;stroke:#000000;stroke-linejoin:miter;stroke-width:0.8;\"/>\r\n   </g>\r\n  </g>\r\n </g>\r\n <defs>\r\n  <clipPath id=\"pd667738ee5\">\r\n   <rect height=\"217.44\" width=\"217.44\" x=\"40.603125\" y=\"7.2\"/>\r\n  </clipPath>\r\n  <clipPath id=\"p58e406811a\">\r\n   <rect height=\"217.44\" width=\"10.872\" x=\"274.783125\" y=\"7.2\"/>\r\n  </clipPath>\r\n </defs>\r\n</svg>\r\n",
      "image/png": "[encoded data removed]"
     },
     "metadata": {
      "needs_background": "light"
     }
    }
   ],
   "source": [
    "plot_confusion_matrix(clfLogTf, x_test, testRaw_labels)\n",
    "plt.show()"
   ]
  },
  {
   "cell_type": "code",
   "execution_count": null,
   "metadata": {},
   "outputs": [],
   "source": []
  },
  {
   "cell_type": "code",
   "execution_count": 57,
   "metadata": {},
   "outputs": [
    {
     "output_type": "error",
     "ename": "NameError",
     "evalue": "name 'TruncatedSVD' is not defined",
     "traceback": [
      "\u001b[1;31m---------------------------------------------------------------------------\u001b[0m",
      "\u001b[1;31mNameError\u001b[0m                                 Traceback (most recent call last)",
      "\u001b[1;32m<ipython-input-57-8e9f3b176b02>\u001b[0m in \u001b[0;36m<module>\u001b[1;34m\u001b[0m\n\u001b[1;32m----> 1\u001b[1;33m \u001b[0msvd\u001b[0m \u001b[1;33m=\u001b[0m \u001b[0mTruncatedSVD\u001b[0m\u001b[1;33m(\u001b[0m\u001b[0mn_components\u001b[0m \u001b[1;33m=\u001b[0m \u001b[1;36m5\u001b[0m\u001b[1;33m,\u001b[0m \u001b[0mrandom_state\u001b[0m \u001b[1;33m=\u001b[0m \u001b[1;36m1\u001b[0m\u001b[1;33m)\u001b[0m\u001b[1;33m\u001b[0m\u001b[1;33m\u001b[0m\u001b[0m\n\u001b[0m\u001b[0;32m      2\u001b[0m \u001b[0msvc_x\u001b[0m \u001b[1;33m=\u001b[0m \u001b[0msvd\u001b[0m\u001b[1;33m.\u001b[0m\u001b[0mfit_transform\u001b[0m\u001b[1;33m(\u001b[0m\u001b[0mx\u001b[0m\u001b[1;33m)\u001b[0m\u001b[1;33m\u001b[0m\u001b[1;33m\u001b[0m\u001b[0m\n\u001b[0;32m      3\u001b[0m \u001b[0msvc_x_test\u001b[0m \u001b[1;33m=\u001b[0m \u001b[0msvd\u001b[0m\u001b[1;33m.\u001b[0m\u001b[0mtransform\u001b[0m\u001b[1;33m(\u001b[0m\u001b[0mx_test\u001b[0m\u001b[1;33m)\u001b[0m\u001b[1;33m\u001b[0m\u001b[1;33m\u001b[0m\u001b[0m\n",
      "\u001b[1;31mNameError\u001b[0m: name 'TruncatedSVD' is not defined"
     ]
    }
   ],
   "source": [
    "svd = TruncatedSVD(n_components = 5, random_state = 1)\n",
    "svc_x = svd.fit_transform(x)\n",
    "svc_x_test = svd.transform(x_test)"
   ]
  },
  {
   "cell_type": "code",
   "execution_count": 27,
   "metadata": {},
   "outputs": [
    {
     "output_type": "execute_result",
     "data": {
      "text/plain": "SVC(C=1.0, cache_size=200, class_weight=None, coef0=0.0,\n    decision_function_shape='ovr', degree=3, gamma='auto_deprecated',\n    kernel='rbf', max_iter=-1, probability=False, random_state=None,\n    shrinking=True, tol=0.001, verbose=False)"
     },
     "metadata": {},
     "execution_count": 27
    }
   ],
   "source": [
    "#Try tf-idf svm:\n",
    "from sklearn import svm\n",
    "from sklearn.decomposition import TruncatedSVD\n",
    "svcTf = svm.SVC() \n",
    "svcTf.fit(svc_x,trainRaw_labels)"
   ]
  },
  {
   "cell_type": "code",
   "execution_count": 31,
   "metadata": {},
   "outputs": [
    {
     "output_type": "execute_result",
     "data": {
      "text/plain": "0.3166713734349995"
     },
     "metadata": {},
     "execution_count": 31
    }
   ],
   "source": [
    "svcTf.score(svc_x_test, testRaw_labels)"
   ]
  },
  {
   "cell_type": "code",
   "execution_count": 32,
   "metadata": {},
   "outputs": [
    {
     "output_type": "execute_result",
     "data": {
      "text/plain": "MultinomialNB(alpha=1.0, class_prior=None, fit_prior=True)"
     },
     "metadata": {},
     "execution_count": 32
    }
   ],
   "source": [
    "#try tf-idf multinomial NB:\n",
    "from sklearn.naive_bayes import MultinomialNB\n",
    "clfNB = MultinomialNB()\n",
    "clfNB.fit(x, trainRaw_labels)"
   ]
  },
  {
   "cell_type": "code",
   "execution_count": 33,
   "metadata": {},
   "outputs": [
    {
     "output_type": "execute_result",
     "data": {
      "text/plain": "0.5653770121434623"
     },
     "metadata": {},
     "execution_count": 33
    }
   ],
   "source": [
    "clfNB.score(x_test, testRaw_labels)"
   ]
  },
  {
   "cell_type": "code",
   "execution_count": 91,
   "metadata": {},
   "outputs": [
    {
     "output_type": "stream",
     "name": "stdout",
     "text": "Epoch 1/8\n1925/1925 [==============================] - 2s 922us/step - loss: 1.0362 - accuracy: 0.6589\nEpoch 2/8\n1925/1925 [==============================] - 2s 935us/step - loss: 0.7689 - accuracy: 0.7473\nEpoch 3/8\n1925/1925 [==============================] - 2s 907us/step - loss: 0.6712 - accuracy: 0.7775\nEpoch 4/8\n1925/1925 [==============================] - 2s 912us/step - loss: 0.6077 - accuracy: 0.7982\nEpoch 5/8\n1925/1925 [==============================] - 2s 908us/step - loss: 0.5555 - accuracy: 0.8139\nEpoch 6/8\n1925/1925 [==============================] - 2s 924us/step - loss: 0.5101 - accuracy: 0.8284\nEpoch 7/8\n1925/1925 [==============================] - 2s 920us/step - loss: 0.4745 - accuracy: 0.8399\nEpoch 8/8\n1925/1925 [==============================] - 2s 899us/step - loss: 0.4357 - accuracy: 0.8519\n"
    },
    {
     "output_type": "execute_result",
     "data": {
      "text/plain": "<tensorflow.python.keras.callbacks.History at 0x1a193bed688>"
     },
     "metadata": {},
     "execution_count": 91
    }
   ],
   "source": [
    "import tensorflow as tf\n",
    "\n",
    "### Create Model size ###\n",
    "\n",
    "# laver modellen\n",
    "model = tf.keras.models.Sequential()\n",
    "# tilføjer et input på modellen\n",
    "model.add(tf.keras.layers.Flatten())\n",
    "# relu er default aktiverings funktion. Lav den om hvis resultatet ikke er godt nok\n",
    "model.add(tf.keras.layers.Dense(100, activation=tf.nn.relu))\n",
    "# jeg tilføjer 2 lag til netwærket. Dette er fordi det er en simpel opgave\n",
    "model.add(tf.keras.layers.Dense(100, activation=tf.nn.relu))\n",
    "#antallet (10) er antal output. Det er 10 tal i datasettet derfor skal der være et 10 tal\n",
    "model.add(tf.keras.layers.Dense(100, activation=tf.nn.relu))\n",
    "#antallet (10) er antal output. Det er 10 tal i datasettet derfor skal der være et 10 tal\n",
    "model.add(tf.keras.layers.Dense(11, activation=tf.nn.softmax))\n",
    "\n",
    "# Dette er den mest komplexe del. adam er goto. Hvis der kun er 2 løsninger så brug binary_categorical_crossentropy eller binary_crossentropy i stedet for sparse_categorical_crossentropy\n",
    "model.compile(optimizer='adam',\n",
    "    loss='sparse_categorical_crossentropy',\n",
    "    metrics=['accuracy'])\n",
    "\n",
    "model.fit(X_train, train_labels2, epochs = 8)\n",
    "# model.fit(X_train, train_labels2, batch_size=64, epochs = 15)"
   ]
  },
  {
   "cell_type": "code",
   "execution_count": 93,
   "metadata": {},
   "outputs": [
    {
     "output_type": "stream",
     "name": "stdout",
     "text": "482/482 [==============================] - 0s 539us/step - loss: 0.9833 - accuracy: 0.7343\n0.9833441972732544 0.7342857122421265\n"
    }
   ],
   "source": [
    "val_loss, val_acc = model.evaluate(X_test,test_labels)\n",
    "print(val_loss, val_acc)\n"
   ]
  },
  {
   "cell_type": "code",
   "execution_count": null,
   "metadata": {},
   "outputs": [],
   "source": []
  },
  {
   "cell_type": "code",
   "execution_count": 85,
   "metadata": {},
   "outputs": [
    {
     "output_type": "stream",
     "name": "stderr",
     "text": "2020-06-11 00:48:56,237 : INFO : saving Doc2Vec object under ../Code/word2vec, separately None\n2020-06-11 00:48:56,238 : INFO : storing np array 'syn1neg' to ../Code/word2vec.trainables.syn1neg.npy\n2020-06-11 00:48:58,171 : INFO : storing np array 'vectors' to ../Code/word2vec.wv.vectors.npy\n2020-06-11 00:48:59,918 : INFO : storing np array 'vectors_norm' to ../Code/word2vec.wv.vectors_norm.npy\n2020-06-11 00:49:01,510 : INFO : storing np array 'vectors_docs' to ../Code/word2vec.docvecs.vectors_docs.npy\n2020-06-11 00:49:01,990 : INFO : storing np array 'vectors_docs_norm' to ../Code/word2vec.docvecs.vectors_docs_norm.npy\n2020-06-11 00:49:02,866 : INFO : saved ../Code/word2vec\n"
    },
    {
     "output_type": "execute_result",
     "data": {
      "text/plain": "['../Code/clf.joblib']"
     },
     "metadata": {},
     "execution_count": 85
    }
   ],
   "source": [
    "# Save models\n",
    "\n",
    "# path\n",
    "path = '../Data_git_ignore/Models/'\n",
    "\n",
    "# Save gensim models\n",
    "model2.save(path+\"word2vec\")\n",
    "\n",
    "# save scikit-lean models\n",
    "from joblib import dump, load\n",
    "dump(clf, path+'clf.joblib')  "
   ]
  },
  {
   "cell_type": "code",
   "execution_count": 3,
   "metadata": {},
   "outputs": [
    {
     "output_type": "error",
     "ename": "NameError",
     "evalue": "name 'Doc2Vec' is not defined",
     "traceback": [
      "\u001b[1;31m---------------------------------------------------------------------------\u001b[0m",
      "\u001b[1;31mNameError\u001b[0m                                 Traceback (most recent call last)",
      "\u001b[1;32m<ipython-input-3-7881cac36453>\u001b[0m in \u001b[0;36m<module>\u001b[1;34m\u001b[0m\n\u001b[0;32m      1\u001b[0m \u001b[0mpath\u001b[0m \u001b[1;33m=\u001b[0m \u001b[1;34m'../Data_git_ignore/Models/'\u001b[0m\u001b[1;33m\u001b[0m\u001b[1;33m\u001b[0m\u001b[0m\n\u001b[1;32m----> 2\u001b[1;33m \u001b[0mmodel3\u001b[0m \u001b[1;33m=\u001b[0m \u001b[0mDoc2Vec\u001b[0m\u001b[1;33m.\u001b[0m\u001b[0mload\u001b[0m\u001b[1;33m(\u001b[0m\u001b[0mpath\u001b[0m\u001b[1;33m+\u001b[0m\u001b[1;34m\"word2vec\"\u001b[0m\u001b[1;33m)\u001b[0m\u001b[1;33m\u001b[0m\u001b[1;33m\u001b[0m\u001b[0m\n\u001b[0m",
      "\u001b[1;31mNameError\u001b[0m: name 'Doc2Vec' is not defined"
     ]
    }
   ],
   "source": [
    "path = '../Data_git_ignore/Models/'\n",
    "model3 = Doc2Vec.load(path+\"word2vec\")\n",
    "\n",
    "clf2 = load(path+'clf.joblib')\n",
    "y_svc_pred = clf.predict(X_test)"
   ]
  }
 ],
 "metadata": {
  "language_info": {
   "codemirror_mode": {
    "name": "ipython",
    "version": 3
   },
   "file_extension": ".py",
   "mimetype": "text/x-python",
   "name": "python",
   "nbconvert_exporter": "python",
   "pygments_lexer": "ipython3",
   "version": "3.7.7-final"
  },
  "orig_nbformat": 2,
  "kernelspec": {
   "name": "python37764bitnewcondae2b41800e1a24f049ef50ffcb90345e7",
   "display_name": "Python 3.7.7 64-bit ('new': conda)"
  }
 },
 "nbformat": 4,
 "nbformat_minor": 2
}