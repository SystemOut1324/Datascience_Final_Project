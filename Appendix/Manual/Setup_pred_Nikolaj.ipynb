{
 "cells": [
  {
   "cell_type": "code",
   "execution_count": 1,
   "metadata": {},
   "outputs": [],
   "source": [
    "import nltk\n",
    "import pandas as pd\n",
    "import numpy as np\n",
    "import re\n",
    "import string\n",
    "import spacy\n",
    "import sklearn\n",
    "from sklearn.svm import LinearSVC\n",
    "from sklearn.model_selection import train_test_split"
   ]
  },
  {
   "cell_type": "code",
   "execution_count": 2,
   "metadata": {},
   "outputs": [
    {
     "output_type": "execute_result",
     "data": {
      "text/plain": "           id              domain        type  \\\n0           2       express.co.uk       rumor   \n1           6  barenakedislam.com        hate   \n2           7  barenakedislam.com        hate   \n3           8  barenakedislam.com        hate   \n4           9  barenakedislam.com        hate   \n...       ...                 ...         ...   \n9895  1170082       wikileaks.org  unreliable   \n9906  1170093       wikileaks.org  unreliable   \n9913  1170100       wikileaks.org  unreliable   \n9923  1170110       wikileaks.org  unreliable   \n9927  1170114       express.co.uk       rumor   \n\n                                                    url  \\\n0     https://www.express.co.uk/news/science/738402/...   \n1     http://barenakedislam.com/category/donald-trum...   \n2     http://barenakedislam.com/category/donald-trum...   \n3     http://barenakedislam.com/2017/12/24/more-winn...   \n4     http://barenakedislam.com/2017/12/25/oh-trump-...   \n...                                                 ...   \n9895  https://www.wikileaks.org/plusd/cables/1974ATO...   \n9906  https://www.wikileaks.org/plusd/cables/1976ABU...   \n9913  https://www.wikileaks.org/plusd/cables/1976ANK...   \n9923  https://www.wikileaks.org/plusd/cables/1976ROM...   \n9927  https://www.express.co.uk/celebrity-news/56649...   \n\n                                                content  \\\n0     Life is an illusion, at least on a quantum lev...   \n1     Unfortunately, he hasn’t yet attacked her for ...   \n2     The Los Angeles Police Department has been den...   \n3     The White House has decided to quietly withdra...   \n4     “The time has come to cut off the tongues of t...   \n...                                                 ...   \n9895  Raw content\\n\\nPAGE 01 NATO 05116 01 OF 02 201...   \n9906  Raw content\\n\\nCONFIDENTIAL PAGE 01 ABU DH 000...   \n9913  Raw content\\n\\nCONFIDENTIAL PAGE 01 ANKARA 019...   \n9923  Raw content\\n\\nLIMITED OFFICIAL USE PAGE 01 RO...   \n9927  FLYNET Eddie looked unrecognisable as Einar We...   \n\n                      scraped_at                 inserted_at  \\\n0     2018-01-25 16:17:44.789555  2018-02-02 01:19:41.756632   \n1     2018-01-25 16:17:44.789555  2018-02-02 01:19:41.756632   \n2     2018-01-25 16:17:44.789555  2018-02-02 01:19:41.756632   \n3     2018-01-25 16:17:44.789555  2018-02-02 01:19:41.756632   \n4     2018-01-25 16:17:44.789555  2018-02-02 01:19:41.756632   \n...                          ...                         ...   \n9895  2018-01-25 20:13:50.426130  2018-02-02 01:19:41.756632   \n9906  2018-01-25 20:13:50.426130  2018-02-02 01:19:41.756632   \n9913  2018-01-25 20:13:50.426130  2018-02-02 01:19:41.756632   \n9923  2018-01-25 20:13:50.426130  2018-02-02 01:19:41.756632   \n9927  2018-01-25 20:13:50.426130  2018-02-02 01:19:41.756632   \n\n                      updated_at  \\\n0     2018-02-02 01:19:41.756664   \n1     2018-02-02 01:19:41.756664   \n2     2018-02-02 01:19:41.756664   \n3     2018-02-02 01:19:41.756664   \n4     2018-02-02 01:19:41.756664   \n...                          ...   \n9895  2018-02-02 01:19:41.756664   \n9906  2018-02-02 01:19:41.756664   \n9913  2018-02-02 01:19:41.756664   \n9923  2018-02-02 01:19:41.756664   \n9927  2018-02-02 01:19:41.756664   \n\n                                                  title  \\\n0     Is life an ILLUSION? Researchers prove 'realit...   \n1                                          Donald Trump   \n2                                          Donald Trump   \n3     MORE WINNING! Israeli intelligence source, DEB...   \n4     “Oh, Trump, you coward, you just wait, we will...   \n...                                                 ...   \n9895                                Cable: 1974ATO05116   \n9906                              Cable: 1976ABUDH00021   \n9913                             Cable: 1976ANKARA01989   \n9923                               Cable: 1976ROME16372   \n9927  Eddie Redmayne looks ultra feminine as transge...   \n\n                                                authors  keywords  \\\n0                                           Sean Martin       NaN   \n1     Linda Rivera, Conrad Calvano, Az Gal, Lincoln ...       NaN   \n2     Linda Rivera, Conrad Calvano, Az Gal, Lincoln ...       NaN   \n3     Cleavis Nowell, Cleavisnowell, Clarence J. Fei...       NaN   \n4     F.N. Lehner, Don Spilman, Clarence J. Feinour,...       NaN   \n...                                                 ...       ...   \n9895                                                NaN       NaN   \n9906                                                NaN       NaN   \n9913                                                NaN       NaN   \n9923                                                NaN       NaN   \n9927                                        Annie Price       NaN   \n\n     meta_keywords                                   meta_description  \\\n0             ['']  THE UNIVERSE ceases to exist when we are not l...   \n1             ['']                                                NaN   \n2             ['']                                                NaN   \n3             ['']                                                NaN   \n4             ['']                                                NaN   \n...            ...                                                ...   \n9895          ['']                                                NaN   \n9906          ['']                                                NaN   \n9913          ['']                                                NaN   \n9923          ['']                                                NaN   \n9927          ['']  FOR his last role Eddie Redmayne transformed h...   \n\n           tags  summary  source  type_id  \n0           NaN      NaN     NaN        8  \n1           NaN      NaN     NaN        4  \n2           NaN      NaN     NaN        4  \n3           NaN      NaN     NaN        4  \n4           NaN      NaN     NaN        4  \n...         ...      ...     ...      ...  \n9895  View Tags      NaN     NaN       11  \n9906  View Tags      NaN     NaN       11  \n9913  View Tags      NaN     NaN       11  \n9923  View Tags      NaN     NaN       11  \n9927        NaN      NaN     NaN        8  \n\n[628202 rows x 17 columns]",
      "text/html": "<div>\n<style scoped>\n    .dataframe tbody tr th:only-of-type {\n        vertical-align: middle;\n    }\n\n    .dataframe tbody tr th {\n        vertical-align: top;\n    }\n\n    .dataframe thead th {\n        text-align: right;\n    }\n</style>\n<table border=\"1\" class=\"dataframe\">\n  <thead>\n    <tr style=\"text-align: right;\">\n      <th></th>\n      <th>id</th>\n      <th>domain</th>\n      <th>type</th>\n      <th>url</th>\n      <th>content</th>\n      <th>scraped_at</th>\n      <th>inserted_at</th>\n      <th>updated_at</th>\n      <th>title</th>\n      <th>authors</th>\n      <th>keywords</th>\n      <th>meta_keywords</th>\n      <th>meta_description</th>\n      <th>tags</th>\n      <th>summary</th>\n      <th>source</th>\n      <th>type_id</th>\n    </tr>\n  </thead>\n  <tbody>\n    <tr>\n      <td>0</td>\n      <td>2</td>\n      <td>express.co.uk</td>\n      <td>rumor</td>\n      <td>https://www.express.co.uk/news/science/738402/...</td>\n      <td>Life is an illusion, at least on a quantum lev...</td>\n      <td>2018-01-25 16:17:44.789555</td>\n      <td>2018-02-02 01:19:41.756632</td>\n      <td>2018-02-02 01:19:41.756664</td>\n      <td>Is life an ILLUSION? Researchers prove 'realit...</td>\n      <td>Sean Martin</td>\n      <td>NaN</td>\n      <td>['']</td>\n      <td>THE UNIVERSE ceases to exist when we are not l...</td>\n      <td>NaN</td>\n      <td>NaN</td>\n      <td>NaN</td>\n      <td>8</td>\n    </tr>\n    <tr>\n      <td>1</td>\n      <td>6</td>\n      <td>barenakedislam.com</td>\n      <td>hate</td>\n      <td>http://barenakedislam.com/category/donald-trum...</td>\n      <td>Unfortunately, he hasn’t yet attacked her for ...</td>\n      <td>2018-01-25 16:17:44.789555</td>\n      <td>2018-02-02 01:19:41.756632</td>\n      <td>2018-02-02 01:19:41.756664</td>\n      <td>Donald Trump</td>\n      <td>Linda Rivera, Conrad Calvano, Az Gal, Lincoln ...</td>\n      <td>NaN</td>\n      <td>['']</td>\n      <td>NaN</td>\n      <td>NaN</td>\n      <td>NaN</td>\n      <td>NaN</td>\n      <td>4</td>\n    </tr>\n    <tr>\n      <td>2</td>\n      <td>7</td>\n      <td>barenakedislam.com</td>\n      <td>hate</td>\n      <td>http://barenakedislam.com/category/donald-trum...</td>\n      <td>The Los Angeles Police Department has been den...</td>\n      <td>2018-01-25 16:17:44.789555</td>\n      <td>2018-02-02 01:19:41.756632</td>\n      <td>2018-02-02 01:19:41.756664</td>\n      <td>Donald Trump</td>\n      <td>Linda Rivera, Conrad Calvano, Az Gal, Lincoln ...</td>\n      <td>NaN</td>\n      <td>['']</td>\n      <td>NaN</td>\n      <td>NaN</td>\n      <td>NaN</td>\n      <td>NaN</td>\n      <td>4</td>\n    </tr>\n    <tr>\n      <td>3</td>\n      <td>8</td>\n      <td>barenakedislam.com</td>\n      <td>hate</td>\n      <td>http://barenakedislam.com/2017/12/24/more-winn...</td>\n      <td>The White House has decided to quietly withdra...</td>\n      <td>2018-01-25 16:17:44.789555</td>\n      <td>2018-02-02 01:19:41.756632</td>\n      <td>2018-02-02 01:19:41.756664</td>\n      <td>MORE WINNING! Israeli intelligence source, DEB...</td>\n      <td>Cleavis Nowell, Cleavisnowell, Clarence J. Fei...</td>\n      <td>NaN</td>\n      <td>['']</td>\n      <td>NaN</td>\n      <td>NaN</td>\n      <td>NaN</td>\n      <td>NaN</td>\n      <td>4</td>\n    </tr>\n    <tr>\n      <td>4</td>\n      <td>9</td>\n      <td>barenakedislam.com</td>\n      <td>hate</td>\n      <td>http://barenakedislam.com/2017/12/25/oh-trump-...</td>\n      <td>“The time has come to cut off the tongues of t...</td>\n      <td>2018-01-25 16:17:44.789555</td>\n      <td>2018-02-02 01:19:41.756632</td>\n      <td>2018-02-02 01:19:41.756664</td>\n      <td>“Oh, Trump, you coward, you just wait, we will...</td>\n      <td>F.N. Lehner, Don Spilman, Clarence J. Feinour,...</td>\n      <td>NaN</td>\n      <td>['']</td>\n      <td>NaN</td>\n      <td>NaN</td>\n      <td>NaN</td>\n      <td>NaN</td>\n      <td>4</td>\n    </tr>\n    <tr>\n      <td>...</td>\n      <td>...</td>\n      <td>...</td>\n      <td>...</td>\n      <td>...</td>\n      <td>...</td>\n      <td>...</td>\n      <td>...</td>\n      <td>...</td>\n      <td>...</td>\n      <td>...</td>\n      <td>...</td>\n      <td>...</td>\n      <td>...</td>\n      <td>...</td>\n      <td>...</td>\n      <td>...</td>\n      <td>...</td>\n    </tr>\n    <tr>\n      <td>9895</td>\n      <td>1170082</td>\n      <td>wikileaks.org</td>\n      <td>unreliable</td>\n      <td>https://www.wikileaks.org/plusd/cables/1974ATO...</td>\n      <td>Raw content\\n\\nPAGE 01 NATO 05116 01 OF 02 201...</td>\n      <td>2018-01-25 20:13:50.426130</td>\n      <td>2018-02-02 01:19:41.756632</td>\n      <td>2018-02-02 01:19:41.756664</td>\n      <td>Cable: 1974ATO05116</td>\n      <td>NaN</td>\n      <td>NaN</td>\n      <td>['']</td>\n      <td>NaN</td>\n      <td>View Tags</td>\n      <td>NaN</td>\n      <td>NaN</td>\n      <td>11</td>\n    </tr>\n    <tr>\n      <td>9906</td>\n      <td>1170093</td>\n      <td>wikileaks.org</td>\n      <td>unreliable</td>\n      <td>https://www.wikileaks.org/plusd/cables/1976ABU...</td>\n      <td>Raw content\\n\\nCONFIDENTIAL PAGE 01 ABU DH 000...</td>\n      <td>2018-01-25 20:13:50.426130</td>\n      <td>2018-02-02 01:19:41.756632</td>\n      <td>2018-02-02 01:19:41.756664</td>\n      <td>Cable: 1976ABUDH00021</td>\n      <td>NaN</td>\n      <td>NaN</td>\n      <td>['']</td>\n      <td>NaN</td>\n      <td>View Tags</td>\n      <td>NaN</td>\n      <td>NaN</td>\n      <td>11</td>\n    </tr>\n    <tr>\n      <td>9913</td>\n      <td>1170100</td>\n      <td>wikileaks.org</td>\n      <td>unreliable</td>\n      <td>https://www.wikileaks.org/plusd/cables/1976ANK...</td>\n      <td>Raw content\\n\\nCONFIDENTIAL PAGE 01 ANKARA 019...</td>\n      <td>2018-01-25 20:13:50.426130</td>\n      <td>2018-02-02 01:19:41.756632</td>\n      <td>2018-02-02 01:19:41.756664</td>\n      <td>Cable: 1976ANKARA01989</td>\n      <td>NaN</td>\n      <td>NaN</td>\n      <td>['']</td>\n      <td>NaN</td>\n      <td>View Tags</td>\n      <td>NaN</td>\n      <td>NaN</td>\n      <td>11</td>\n    </tr>\n    <tr>\n      <td>9923</td>\n      <td>1170110</td>\n      <td>wikileaks.org</td>\n      <td>unreliable</td>\n      <td>https://www.wikileaks.org/plusd/cables/1976ROM...</td>\n      <td>Raw content\\n\\nLIMITED OFFICIAL USE PAGE 01 RO...</td>\n      <td>2018-01-25 20:13:50.426130</td>\n      <td>2018-02-02 01:19:41.756632</td>\n      <td>2018-02-02 01:19:41.756664</td>\n      <td>Cable: 1976ROME16372</td>\n      <td>NaN</td>\n      <td>NaN</td>\n      <td>['']</td>\n      <td>NaN</td>\n      <td>View Tags</td>\n      <td>NaN</td>\n      <td>NaN</td>\n      <td>11</td>\n    </tr>\n    <tr>\n      <td>9927</td>\n      <td>1170114</td>\n      <td>express.co.uk</td>\n      <td>rumor</td>\n      <td>https://www.express.co.uk/celebrity-news/56649...</td>\n      <td>FLYNET Eddie looked unrecognisable as Einar We...</td>\n      <td>2018-01-25 20:13:50.426130</td>\n      <td>2018-02-02 01:19:41.756632</td>\n      <td>2018-02-02 01:19:41.756664</td>\n      <td>Eddie Redmayne looks ultra feminine as transge...</td>\n      <td>Annie Price</td>\n      <td>NaN</td>\n      <td>['']</td>\n      <td>FOR his last role Eddie Redmayne transformed h...</td>\n      <td>NaN</td>\n      <td>NaN</td>\n      <td>NaN</td>\n      <td>8</td>\n    </tr>\n  </tbody>\n</table>\n<p>628202 rows × 17 columns</p>\n</div>"
     },
     "metadata": {},
     "execution_count": 2
    }
   ],
   "source": [
    "### Import data and setup dataframe ###\n",
    "\n",
    "# usage: specify file location\n",
    "filepath = '../Data_git_ignore/1mio-raw.csv'\n",
    "# filepath = '../Data_git_ignore/clean-100k.csv'\n",
    "\n",
    "# Create df for the entire file\n",
    "entire_df = pd.read_csv(filepath, index_col = [0])\n",
    "\n",
    "### Below are overall integrity cleaning ###\n",
    "\n",
    "# Drop non-numeric id's\n",
    "entire_df['id'] = pd.to_numeric(entire_df['id'], errors = 'coerce', downcast = 'integer')\n",
    "entire_df.dropna(subset=['id'], inplace = True)\n",
    "\n",
    "# Set id to int\n",
    "entire_df['id'] = entire_df['id'].astype(int)\n",
    "\n",
    "# content has to be unique\n",
    "entire_df.drop_duplicates(['content'], inplace = True)\n",
    "\n",
    "# Drop rows wiht type-nan´\n",
    "entire_df = entire_df[entire_df['type'].notna()]\n",
    "\n",
    "# Create type_id column\n",
    "entire_df['type_id'] = entire_df.groupby(['type']).ngroup()\n",
    "\n",
    "entire_df"
   ]
  },
  {
   "cell_type": "code",
   "execution_count": 5,
   "metadata": {},
   "outputs": [
    {
     "output_type": "execute_result",
     "data": {
      "text/plain": "2047      1\n220353    1\n201928    1\n224455    1\n222406    1\n         ..\n222009    1\n224056    1\n201527    1\n203574    1\n0         1\nLength: 628202, dtype: int64"
     },
     "metadata": {},
     "execution_count": 5
    }
   ],
   "source": [
    "entire_df.reset_index(inplace = True, drop = True)"
   ]
  },
  {
   "cell_type": "code",
   "execution_count": 6,
   "metadata": {},
   "outputs": [
    {
     "output_type": "stream",
     "name": "stdout",
     "text": "=> fake (300, 17)\n=> satire (300, 17)\n=> bias (300, 17)\n=> conspiracy (300, 17)\n=> junksci (300, 17)\n=> hate (300, 17)\n=> rumor (300, 17)\n=> clickbait (300, 17)\n=> unreliable (300, 17)\n=> political (300, 17)\n=> reliable (300, 17)\n\n[Final sub-dataset]\nwhole ==> (3300, 17)\n"
    }
   ],
   "source": [
    "### SELECT SIZE OF -> sub-dataset ###\n",
    "\n",
    "# This can generate a dataset with random purmutation and a max size for each type(can be smaller if desired max is not possible)\n",
    "\n",
    "# max size for type\n",
    "max_size = 300\n",
    "# Labels to include - ['fake', 'satire', 'bias', 'conspiracy', 'state', 'junksci', 'hate', 'clickbait', 'unreliable', 'political', 'reliable'] - all labels\n",
    "use_types = ['fake', 'satire', 'bias', 'conspiracy', 'junksci', 'hate', 'rumor', 'clickbait', 'unreliable', 'political', 'reliable']\n",
    "# Random seed\n",
    "rnd = 1\n",
    "\n",
    "# initialize dataframes\n",
    "df = pd.DataFrame(columns = entire_df.columns)\n",
    "\n",
    "# add type to test splits\n",
    "for t in use_types:\n",
    "\n",
    "    # type size\n",
    "    type_size = entire_df['type'].loc[entire_df['type'] == t].value_counts().min()\n",
    "\n",
    "    # set size of type slice\n",
    "    if type_size < max_size:\n",
    "        tmp = entire_df.loc[entire_df['type'] == t].sample(n = type_size, random_state=rnd)\n",
    "    else:\n",
    "        tmp = entire_df.loc[entire_df['type'] == t].sample(n = max_size, random_state=rnd)\n",
    "    \n",
    "    # add tmp to dataframes\n",
    "    df = pd.concat([df, tmp])\n",
    "    \n",
    "    # print split shape\n",
    "    print(\"=>\", t, tmp.shape)\n",
    "\n",
    "print(\"\\n[Final sub-dataset]\\nwhole ==>\", df.shape)"
   ]
  },
  {
   "cell_type": "code",
   "execution_count": 8,
   "metadata": {},
   "outputs": [],
   "source": [
    "#del entire_df"
   ]
  },
  {
   "cell_type": "code",
   "execution_count": 6,
   "metadata": {},
   "outputs": [],
   "source": [
    "### REMOVE AND REPLACE -> NaN/Empty elmements ###\n",
    "\n",
    "# Remove rows where columns are NaN\n",
    "df.dropna(subset=['title'])\n",
    "\n",
    "# Replace NaN-elements with 'NULL'\n",
    "df = df.fillna('NULL')\n",
    "\n",
    "# Replace \"['']\" - these are NaN \n",
    "regex = r\"\\[''\\]\"\n",
    "df['meta_keywords'] = df['meta_keywords'].replace(to_replace=regex, value='NULL', regex=True)\n",
    "\n",
    "# Replace '_' or '' (empty str) from \"string-like\" columns - these are NaN\n",
    "regex = r\"^$|^ +\"\n",
    "columns = ['domain', 'type', 'url', 'content', 'title', 'authors', 'keywords', 'meta_description', 'tags', 'summary', 'source']\n",
    "df[columns] = df[columns].replace(to_replace=regex, value='NULL', regex=True)"
   ]
  },
  {
   "cell_type": "code",
   "execution_count": 7,
   "metadata": {},
   "outputs": [],
   "source": [
    "df['type_id'] = df.groupby(['type']).ngroup()"
   ]
  },
  {
   "cell_type": "code",
   "execution_count": 8,
   "metadata": {},
   "outputs": [
    {
     "output_type": "stream",
     "name": "stdout",
     "text": "\n (lower_cast)\nCPU times: user 120 ms, sys: 519 ms, total: 639 ms\nWall time: 2.27 s\n\n (Email_replace)\nCPU times: user 722 ms, sys: 12.6 ms, total: 734 ms\nWall time: 802 ms\n\n (URL_replace)\nCPU times: user 2.67 s, sys: 62.1 ms, total: 2.73 s\nWall time: 2.94 s\n\n (HTML_replace)\nCPU times: user 12 ms, sys: 286 µs, total: 12.2 ms\nWall time: 12.3 ms\n\n (Date_replace)\nCPU times: user 4.4 s, sys: 62.1 ms, total: 4.46 s\nWall time: 4.69 s\n\n (Number_replace)\nCPU times: user 194 ms, sys: 47.5 ms, total: 241 ms\nWall time: 376 ms\n\n (Punctuation_remove)\nCPU times: user 259 ms, sys: 14.3 ms, total: 274 ms\nWall time: 311 ms\n\n (whitespace_remove)\nCPU times: user 1.26 s, sys: 28.7 ms, total: 1.29 s\nWall time: 1.41 s\n\n (Done cleaning)\n"
    }
   ],
   "source": [
    "# # working with content as a series\n",
    "series_content = df['content']\n",
    "\n",
    "### Order matters - (not final order of pipeline)\n",
    "### Overall preprocessing\n",
    "\n",
    "# lower_cast - NEEDED? - DONE by many libs\n",
    "%time print(\"\\n (lower_cast)\"); series_content = series_content.str.lower()\n",
    "\n",
    "### replace [name] with tokens in text ###\n",
    "\n",
    "# Email_replace\n",
    "regexEmail = r\"[a-zA-Z_-]+@[a-zA-Z_-]+(?:\\.[a-zA-Z]{2,4}){1,3}\"\n",
    "%time print(\"\\n (Email_replace)\"); series_content = series_content.replace(to_replace=regexEmail, value=' EMAIL ', regex=True)\n",
    "\n",
    "# replace URLs  with token\n",
    "regexURL= r\"(?:https?:\\/\\/)?(?:www\\.)?([^@\\s]+\\.[a-zA-Z]{2,4})[^\\s]*\"\n",
    "%time print(\"\\n (URL_replace)\"); series_content = series_content.replace(to_replace=regexURL, value=' URL ', regex=True)\n",
    "\n",
    "# HTML_replace\n",
    "regexHTML = r\"<\\s*a[^>]*>(.*?)<\\s*/\\s*a>\"\n",
    "%time print(\"\\n (HTML_replace)\"); series_content = series_content.replace(to_replace=regexHTML, value=' HTML ', regex=True)\n",
    "\n",
    "# Date_replace - NOT DONE\n",
    "# - name         (jan(?:uary)?|Feb(?:ruary)?|Mar(?:ch)?|Apr(?:il)?|May|Jun(?:e)?|Jul(?:y)?|Aug(?:ust)?|Sep(?:tember)?|Oct(?:ober)?|Nov(?:ember)?|Dec(?:ember)?)\n",
    "# - day in month ([12]\\d|3[01]|0?[1-9]) - Day 0-31\n",
    "# - year         ([12][0-9]{3})         - Years from 1000 to 2999\n",
    "regexDate = r\"(((19[7-9]\\d|20\\d{2})|(?:jan(?:uary)?|feb(?:ruary)?|mar(?:ch)?|apr(?:il)?|may|jun(?:e)?|jul(?:y)?|aug(?:ust)?|sep(?:tember)?|oct(?:ober)?|(nov|dec)(?:ember)?)|(([12][0-9])|(3[01])|(0?[1-9])))[\\/. \\-,\\n]){2,3}\"\n",
    "%time print(\"\\n (Date_replace)\"); series_content = series_content.replace(to_replace=regexDate, value=' DATE ', regex=True)\n",
    "\n",
    "# Number_replace\n",
    "regexNum = r\"[0-9][0-9,\\.]+\" # nums with [0-9] and [,.]\n",
    "%time print(\"\\n (Number_replace)\"); series_content = series_content.replace(to_replace=regexNum, value=' NUM ', regex=True)\n",
    "\n",
    "### string removal functions ###\n",
    "\n",
    "# Punctuation_remove\n",
    "regexPunkt = r\"[!“”\\\"#$%&()*+,\\-–.…\\/:;<=>?@[\\\\\\]^_`{|}~'\\’\\'»]\" # also removes: \" ' \" which means ie. it's -> its - remove \\' from regwex if not needed\n",
    "%time print(\"\\n (Punctuation_remove)\"); series_content = series_content.replace(to_replace=regexPunkt, value='', regex=True)\n",
    "\n",
    "# whitespace_remove\n",
    "regexWhiteSpace = r\"\\s+|\\\\n+\"\n",
    "%time print(\"\\n (whitespace_remove)\"); series_content = series_content.replace(to_replace=regexWhiteSpace, value=' ', regex=True)\n",
    "\n",
    "# # Non_ASCII_remove - Maybe a step too much\n",
    "# %time print(\"\\n (Non_ASCII_remove)\"); series_content = series_content.str.encode('ascii', 'ignore').str.decode('ascii')\n",
    "\n",
    "# After all steps\n",
    "print(\"\\n (Done cleaning)\")"
   ]
  },
  {
   "cell_type": "code",
   "execution_count": 9,
   "metadata": {},
   "outputs": [],
   "source": [
    "dfRaw = pd.DataFrame({'content' : series_content.values, 'type' : df.type.values, 'type_id' : df.type_id.values})"
   ]
  },
  {
   "cell_type": "code",
   "execution_count": 10,
   "metadata": {},
   "outputs": [
    {
     "output_type": "stream",
     "name": "stdout",
     "text": "=> fake (300, 3) (240, 3) (60, 3)\n=> satire (300, 3) (240, 3) (60, 3)\n=> bias (300, 3) (240, 3) (60, 3)\n=> conspiracy (300, 3) (240, 3) (60, 3)\n=> junksci (300, 3) (240, 3) (60, 3)\n=> hate (300, 3) (240, 3) (60, 3)\n=> clickbait (300, 3) (240, 3) (60, 3)\n=> unreliable (300, 3) (240, 3) (60, 3)\n=> political (300, 3) (240, 3) (60, 3)\n=> reliable (300, 3) (240, 3) (60, 3)\n=> rumor (300, 3) (240, 3) (60, 3)\n\n[Final split]\ntrainRaw, testRaw==> (2640, 3) (660, 3)\n"
    }
   ],
   "source": [
    "# This can generate a dataset with random purmutation and a max size for each type(can be smaller if desired max is not possible)\n",
    "\n",
    "# max size for type\n",
    "max_size = 300\n",
    "# traning_set ratio - splits data into traning=ratio,  test and validate=(1-ratio)/2 ex. train=80%, test=10%, validate=10%\n",
    "ratio=0.8\n",
    "# Labels to include - ['fake', 'satire', 'bias', 'conspiracy', 'state', 'junksci', 'hate', 'clickbait', 'unreliable', 'political', 'reliable'] - all labels\n",
    "use_types = ['fake', 'satire', 'bias', 'conspiracy', 'junksci', 'hate', 'clickbait', 'unreliable', 'political', 'reliable', 'rumor']\n",
    "# Random seed\n",
    "rnd = 1\n",
    "\n",
    "# initialize dataframes\n",
    "trainRaw    = pd.DataFrame(columns = dfRaw.columns)\n",
    "testRaw     = pd.DataFrame(columns = dfRaw.columns)\n",
    "\n",
    "# add type to test splits\n",
    "for t in use_types:\n",
    "\n",
    "    # type size\n",
    "    type_size = dfRaw['type'].loc[dfRaw['type'] == t].value_counts().min()\n",
    "\n",
    "    # set size of type slice\n",
    "    if type_size < max_size:\n",
    "        tmp = dfRaw.loc[dfRaw['type'] == t].sample(n = type_size, random_state=rnd)\n",
    "    else:\n",
    "        tmp = dfRaw.loc[dfRaw['type'] == t].sample(n = max_size, random_state=rnd)\n",
    "\n",
    "    # split current type\n",
    "    train_tmp, test_tmp = np.split(tmp, [int(ratio * len(tmp))])\n",
    "\n",
    "    # add tmp to dataframes\n",
    "    trainRaw    = pd.concat([trainRaw, train_tmp])\n",
    "    testRaw     = pd.concat([testRaw, test_tmp])\n",
    "    \n",
    "    # print split shape\n",
    "    print(\"=>\", t, tmp.shape, train_tmp.shape, test_tmp.shape)\n",
    "\n",
    "print(\"\\n[Final split]\\ntrainRaw, testRaw==>\", trainRaw.shape, testRaw.shape)"
   ]
  },
  {
   "cell_type": "code",
   "execution_count": 11,
   "metadata": {},
   "outputs": [],
   "source": [
    "#train.set_index('id', inplace = True)\n",
    "from sklearn.utils import shuffle\n",
    "trainRaw = shuffle(trainRaw, random_state = 1)\n",
    "testRaw = shuffle(testRaw, random_state = 1)\n",
    "trainRaw.reset_index(inplace = True, drop = True)\n",
    "testRaw.reset_index(inplace = True, drop = True)"
   ]
  },
  {
   "cell_type": "code",
   "execution_count": 12,
   "metadata": {},
   "outputs": [],
   "source": [
    "#Tokenize cleaned content\n",
    "content_tokenize_series = series_content.str.split()\n",
    "#change df-content to the tokenized version\n",
    "df['content'] = content_tokenize_series"
   ]
  },
  {
   "cell_type": "code",
   "execution_count": 14,
   "metadata": {},
   "outputs": [
    {
     "output_type": "stream",
     "name": "stdout",
     "text": "=> fake (300, 17) (240, 17) (60, 17)\n=> satire (300, 17) (240, 17) (60, 17)\n=> bias (300, 17) (240, 17) (60, 17)\n=> conspiracy (300, 17) (240, 17) (60, 17)\n=> junksci (300, 17) (240, 17) (60, 17)\n=> hate (300, 17) (240, 17) (60, 17)\n=> clickbait (300, 17) (240, 17) (60, 17)\n=> unreliable (300, 17) (240, 17) (60, 17)\n=> political (300, 17) (240, 17) (60, 17)\n=> reliable (300, 17) (240, 17) (60, 17)\n=> rumor (300, 17) (240, 17) (60, 17)\n\n[Final split]\ntrain, test==> (2640, 17) (660, 17)\n"
    }
   ],
   "source": [
    "# This can generate a dataset with random purmutation and a max size for each type(can be smaller if desired max is not possible)\n",
    "\n",
    "# max size for type\n",
    "max_size = 300\n",
    "# traning_set ratio - splits data into traning=ratio,  test and validate=(1-ratio)/2 ex. train=80%, test=10%, validate=10%\n",
    "ratio=0.8\n",
    "# Labels to include - ['fake', 'satire', 'bias', 'conspiracy', 'state', 'junksci', 'hate', 'clickbait', 'unreliable', 'political', 'reliable'] - all labels\n",
    "use_types = ['fake', 'satire', 'bias', 'conspiracy', 'junksci', 'hate', 'clickbait', 'unreliable', 'political', 'reliable', 'rumor']\n",
    "# Random seed\n",
    "rnd = 1\n",
    "\n",
    "# initialize dataframes\n",
    "train    = pd.DataFrame(columns = df.columns)\n",
    "test     = pd.DataFrame(columns = df.columns)\n",
    "\n",
    "# add type to test splits\n",
    "for t in use_types:\n",
    "\n",
    "    # type size\n",
    "    type_size = df['type'].loc[df['type'] == t].value_counts().min()\n",
    "\n",
    "    # set size of type slice\n",
    "    if type_size < max_size:\n",
    "        tmp = df.loc[df['type'] == t].sample(n = type_size, random_state=rnd)\n",
    "    else:\n",
    "        tmp = df.loc[df['type'] == t].sample(n = max_size, random_state=rnd)\n",
    "\n",
    "    # split current type\n",
    "    train_tmp, test_tmp = np.split(tmp, [int(ratio * len(tmp))])\n",
    "\n",
    "    # add tmp to dataframes\n",
    "    train    = pd.concat([train, train_tmp])\n",
    "    test     = pd.concat([test, test_tmp])\n",
    "    \n",
    "    # print split shape\n",
    "    print(\"=>\", t, tmp.shape, train_tmp.shape, test_tmp.shape)\n",
    "\n",
    "print(\"\\n[Final split]\\ntrain, test==>\", train.shape, test.shape)"
   ]
  },
  {
   "cell_type": "code",
   "execution_count": 15,
   "metadata": {},
   "outputs": [],
   "source": [
    "import gensim \n",
    "from gensim.models.doc2vec import TaggedDocument, Doc2Vec "
   ]
  },
  {
   "cell_type": "code",
   "execution_count": 16,
   "metadata": {},
   "outputs": [],
   "source": [
    "#from sklearn.utils import shuffle\n",
    "train = shuffle(train, random_state = 1)\n",
    "test = shuffle(test, random_state = 1)\n",
    "train.reset_index(inplace = True, drop = True)\n",
    "test.reset_index(inplace = True, drop = True)"
   ]
  },
  {
   "cell_type": "code",
   "execution_count": 17,
   "metadata": {},
   "outputs": [],
   "source": [
    "contTok = train.content\n",
    "train_typeLst = train.type_id.tolist()"
   ]
  },
  {
   "cell_type": "code",
   "execution_count": 18,
   "metadata": {},
   "outputs": [],
   "source": [
    "testTok = test.content\n",
    "test_typeLst = test.type_id.tolist()"
   ]
  },
  {
   "cell_type": "code",
   "execution_count": 156,
   "metadata": {},
   "outputs": [
    {
     "output_type": "execute_result",
     "data": {
      "text/plain": "0        [there, is, no, denying, that, japanese, game,...\n1        [julian, and, adrian, riester, were, known, as...\n2        [back, in, the, summer, of, NUM, when, the, ec...\n3        [the, democratic, partys, long, sojourn, into,...\n4        [an, overview, of, rapture, and, millennial, v...\n                               ...                        \n10618    [beijing, —, chinese, are, embracing, christia...\n10619    [personally, i, see, this, tentatively, as, a,...\n10620    [evidence, continues, to, mount, for, ninth, p...\n10621    [by, mark, twain, pictured, first, published, ...\n10622    [hli, spain, honored, by, leading, spanish, ma...\nName: content, Length: 10623, dtype: object"
     },
     "metadata": {},
     "execution_count": 156
    }
   ],
   "source": [
    "testTok"
   ]
  },
  {
   "cell_type": "code",
   "execution_count": 33,
   "metadata": {},
   "outputs": [],
   "source": [
    "documents = [TaggedDocument(contTok, [i]) for i, contTok in enumerate(contTok)]"
   ]
  },
  {
   "cell_type": "code",
   "execution_count": 34,
   "metadata": {},
   "outputs": [],
   "source": [
    "import logging\n",
    "logging.basicConfig(format='%(asctime)s : %(levelname)s : %(message)s', level=logging.INFO)"
   ]
  },
  {
   "cell_type": "code",
   "execution_count": 35,
   "metadata": {},
   "outputs": [],
   "source": [
    "import multiprocessing\n",
    "cores = multiprocessing.cpu_count()"
   ]
  },
  {
   "cell_type": "code",
   "execution_count": 36,
   "metadata": {
    "tags": [
     "outputPrepend",
     "outputPrepend",
     "outputPrepend",
     "outputPrepend",
     "outputPrepend",
     "outputPrepend",
     "outputPrepend",
     "outputPrepend",
     "outputPrepend",
     "outputPrepend",
     "outputPrepend",
     "outputPrepend",
     "outputPrepend",
     "outputPrepend",
     "outputPrepend",
     "outputPrepend",
     "outputPrepend",
     "outputPrepend",
     "outputPrepend",
     "outputPrepend",
     "outputPrepend",
     "outputPrepend",
     "outputPrepend",
     "outputPrepend",
     "outputPrepend",
     "outputPrepend",
     "outputPrepend",
     "outputPrepend",
     "outputPrepend",
     "outputPrepend",
     "outputPrepend",
     "outputPrepend",
     "outputPrepend",
     "outputPrepend",
     "outputPrepend",
     "outputPrepend"
    ]
   },
   "outputs": [
    {
     "output_type": "stream",
     "name": "stderr",
     "text": "rds/s, in_qsize 7, out_qsize 0\n2020-06-10 21:34:52,676 : INFO : EPOCH 1 - PROGRESS: at 44.72% examples, 438356 words/s, in_qsize 7, out_qsize 0\n2020-06-10 21:34:53,685 : INFO : EPOCH 1 - PROGRESS: at 46.36% examples, 433564 words/s, in_qsize 7, out_qsize 0\n2020-06-10 21:34:54,687 : INFO : EPOCH 1 - PROGRESS: at 48.35% examples, 432881 words/s, in_qsize 7, out_qsize 0\n2020-06-10 21:34:55,688 : INFO : EPOCH 1 - PROGRESS: at 50.49% examples, 434947 words/s, in_qsize 7, out_qsize 0\n2020-06-10 21:34:56,698 : INFO : EPOCH 1 - PROGRESS: at 52.53% examples, 434795 words/s, in_qsize 7, out_qsize 0\n2020-06-10 21:34:57,718 : INFO : EPOCH 1 - PROGRESS: at 55.03% examples, 436382 words/s, in_qsize 7, out_qsize 0\n2020-06-10 21:34:58,725 : INFO : EPOCH 1 - PROGRESS: at 56.81% examples, 435160 words/s, in_qsize 7, out_qsize 0\n2020-06-10 21:34:59,742 : INFO : EPOCH 1 - PROGRESS: at 58.75% examples, 434892 words/s, in_qsize 7, out_qsize 0\n2020-06-10 21:35:00,753 : INFO : EPOCH 1 - PROGRESS: at 61.18% examples, 436890 words/s, in_qsize 7, out_qsize 0\n2020-06-10 21:35:01,759 : INFO : EPOCH 1 - PROGRESS: at 63.59% examples, 438628 words/s, in_qsize 7, out_qsize 0\n2020-06-10 21:35:02,762 : INFO : EPOCH 1 - PROGRESS: at 66.06% examples, 440784 words/s, in_qsize 7, out_qsize 0\n2020-06-10 21:35:03,762 : INFO : EPOCH 1 - PROGRESS: at 68.42% examples, 442614 words/s, in_qsize 7, out_qsize 0\n2020-06-10 21:35:04,764 : INFO : EPOCH 1 - PROGRESS: at 70.80% examples, 444406 words/s, in_qsize 7, out_qsize 0\n2020-06-10 21:35:05,774 : INFO : EPOCH 1 - PROGRESS: at 73.14% examples, 446046 words/s, in_qsize 7, out_qsize 0\n2020-06-10 21:35:06,777 : INFO : EPOCH 1 - PROGRESS: at 75.38% examples, 447053 words/s, in_qsize 6, out_qsize 1\n2020-06-10 21:35:07,779 : INFO : EPOCH 1 - PROGRESS: at 77.53% examples, 447313 words/s, in_qsize 7, out_qsize 0\n2020-06-10 21:35:08,818 : INFO : EPOCH 1 - PROGRESS: at 79.75% examples, 448593 words/s, in_qsize 7, out_qsize 0\n2020-06-10 21:35:09,824 : INFO : EPOCH 1 - PROGRESS: at 82.19% examples, 450207 words/s, in_qsize 7, out_qsize 0\n2020-06-10 21:35:10,829 : INFO : EPOCH 1 - PROGRESS: at 84.24% examples, 450207 words/s, in_qsize 7, out_qsize 0\n2020-06-10 21:35:11,906 : INFO : EPOCH 1 - PROGRESS: at 86.00% examples, 447158 words/s, in_qsize 7, out_qsize 0\n2020-06-10 21:35:12,926 : INFO : EPOCH 1 - PROGRESS: at 87.14% examples, 441771 words/s, in_qsize 7, out_qsize 0\n2020-06-10 21:35:13,954 : INFO : EPOCH 1 - PROGRESS: at 88.93% examples, 439954 words/s, in_qsize 7, out_qsize 0\n2020-06-10 21:35:14,961 : INFO : EPOCH 1 - PROGRESS: at 90.29% examples, 435886 words/s, in_qsize 7, out_qsize 0\n2020-06-10 21:35:15,966 : INFO : EPOCH 1 - PROGRESS: at 92.06% examples, 434332 words/s, in_qsize 6, out_qsize 1\n2020-06-10 21:35:16,967 : INFO : EPOCH 1 - PROGRESS: at 93.55% examples, 431956 words/s, in_qsize 7, out_qsize 0\n2020-06-10 21:35:17,969 : INFO : EPOCH 1 - PROGRESS: at 95.72% examples, 432842 words/s, in_qsize 7, out_qsize 0\n2020-06-10 21:35:18,975 : INFO : EPOCH 1 - PROGRESS: at 98.15% examples, 434145 words/s, in_qsize 7, out_qsize 0\n2020-06-10 21:35:19,835 : INFO : worker thread finished; awaiting finish of 3 more threads\n2020-06-10 21:35:19,858 : INFO : worker thread finished; awaiting finish of 2 more threads\n2020-06-10 21:35:19,873 : INFO : worker thread finished; awaiting finish of 1 more threads\n2020-06-10 21:35:19,887 : INFO : worker thread finished; awaiting finish of 0 more threads\n2020-06-10 21:35:19,888 : INFO : EPOCH - 1 : training on 27058484 raw words (21071382 effective words) took 48.5s, 434291 effective words/s\n2020-06-10 21:35:20,907 : INFO : EPOCH 2 - PROGRESS: at 2.00% examples, 429825 words/s, in_qsize 7, out_qsize 0\n2020-06-10 21:35:21,938 : INFO : EPOCH 2 - PROGRESS: at 4.39% examples, 464726 words/s, in_qsize 7, out_qsize 0\n2020-06-10 21:35:22,952 : INFO : EPOCH 2 - PROGRESS: at 6.95% examples, 475175 words/s, in_qsize 7, out_qsize 0\n2020-06-10 21:35:23,976 : INFO : EPOCH 2 - PROGRESS: at 9.36% examples, 480182 words/s, in_qsize 7, out_qsize 0\n2020-06-10 21:35:24,985 : INFO : EPOCH 2 - PROGRESS: at 12.00% examples, 488676 words/s, in_qsize 7, out_qsize 0\n2020-06-10 21:35:26,001 : INFO : EPOCH 2 - PROGRESS: at 14.43% examples, 491145 words/s, in_qsize 7, out_qsize 0\n2020-06-10 21:35:27,022 : INFO : EPOCH 2 - PROGRESS: at 16.75% examples, 490647 words/s, in_qsize 7, out_qsize 0\n2020-06-10 21:35:28,023 : INFO : EPOCH 2 - PROGRESS: at 19.12% examples, 491639 words/s, in_qsize 7, out_qsize 0\n2020-06-10 21:35:29,025 : INFO : EPOCH 2 - PROGRESS: at 21.42% examples, 494350 words/s, in_qsize 7, out_qsize 0\n2020-06-10 21:35:30,028 : INFO : EPOCH 2 - PROGRESS: at 23.78% examples, 494279 words/s, in_qsize 6, out_qsize 1\n2020-06-10 21:35:31,059 : INFO : EPOCH 2 - PROGRESS: at 26.25% examples, 496192 words/s, in_qsize 7, out_qsize 0\n2020-06-10 21:35:32,077 : INFO : EPOCH 2 - PROGRESS: at 28.57% examples, 495015 words/s, in_qsize 7, out_qsize 0\n2020-06-10 21:35:33,078 : INFO : EPOCH 2 - PROGRESS: at 31.16% examples, 495901 words/s, in_qsize 7, out_qsize 0\n2020-06-10 21:35:34,079 : INFO : EPOCH 2 - PROGRESS: at 33.63% examples, 494014 words/s, in_qsize 7, out_qsize 0\n2020-06-10 21:35:35,095 : INFO : EPOCH 2 - PROGRESS: at 36.02% examples, 495485 words/s, in_qsize 7, out_qsize 0\n2020-06-10 21:35:36,099 : INFO : EPOCH 2 - PROGRESS: at 38.49% examples, 494866 words/s, in_qsize 7, out_qsize 0\n2020-06-10 21:35:37,107 : INFO : EPOCH 2 - PROGRESS: at 40.98% examples, 495494 words/s, in_qsize 7, out_qsize 0\n2020-06-10 21:35:38,112 : INFO : EPOCH 2 - PROGRESS: at 43.27% examples, 496301 words/s, in_qsize 7, out_qsize 0\n2020-06-10 21:35:39,126 : INFO : EPOCH 2 - PROGRESS: at 45.75% examples, 497173 words/s, in_qsize 7, out_qsize 0\n2020-06-10 21:35:40,127 : INFO : EPOCH 2 - PROGRESS: at 48.24% examples, 498174 words/s, in_qsize 7, out_qsize 0\n2020-06-10 21:35:41,132 : INFO : EPOCH 2 - PROGRESS: at 50.44% examples, 498046 words/s, in_qsize 7, out_qsize 0\n2020-06-10 21:35:42,133 : INFO : EPOCH 2 - PROGRESS: at 52.87% examples, 499040 words/s, in_qsize 7, out_qsize 0\n2020-06-10 21:35:43,140 : INFO : EPOCH 2 - PROGRESS: at 55.54% examples, 500424 words/s, in_qsize 7, out_qsize 0\n2020-06-10 21:35:44,144 : INFO : EPOCH 2 - PROGRESS: at 58.02% examples, 501504 words/s, in_qsize 7, out_qsize 0\n2020-06-10 21:35:45,152 : INFO : EPOCH 2 - PROGRESS: at 60.18% examples, 499920 words/s, in_qsize 7, out_qsize 0\n2020-06-10 21:35:46,157 : INFO : EPOCH 2 - PROGRESS: at 62.69% examples, 501051 words/s, in_qsize 7, out_qsize 0\n2020-06-10 21:35:47,165 : INFO : EPOCH 2 - PROGRESS: at 65.27% examples, 502077 words/s, in_qsize 7, out_qsize 0\n2020-06-10 21:35:48,172 : INFO : EPOCH 2 - PROGRESS: at 67.95% examples, 503623 words/s, in_qsize 7, out_qsize 0\n2020-06-10 21:35:49,182 : INFO : EPOCH 2 - PROGRESS: at 70.45% examples, 504698 words/s, in_qsize 7, out_qsize 0\n2020-06-10 21:35:50,185 : INFO : EPOCH 2 - PROGRESS: at 72.93% examples, 505723 words/s, in_qsize 7, out_qsize 0\n2020-06-10 21:35:51,195 : INFO : EPOCH 2 - PROGRESS: at 75.45% examples, 506654 words/s, in_qsize 7, out_qsize 0\n2020-06-10 21:35:52,229 : INFO : EPOCH 2 - PROGRESS: at 77.98% examples, 507694 words/s, in_qsize 7, out_qsize 0\n2020-06-10 21:35:53,247 : INFO : EPOCH 2 - PROGRESS: at 80.54% examples, 508765 words/s, in_qsize 7, out_qsize 0\n2020-06-10 21:35:54,250 : INFO : EPOCH 2 - PROGRESS: at 83.01% examples, 509641 words/s, in_qsize 7, out_qsize 0\n2020-06-10 21:35:55,288 : INFO : EPOCH 2 - PROGRESS: at 85.66% examples, 510565 words/s, in_qsize 7, out_qsize 1\n2020-06-10 21:35:56,293 : INFO : EPOCH 2 - PROGRESS: at 88.31% examples, 510978 words/s, in_qsize 7, out_qsize 0\n2020-06-10 21:35:57,314 : INFO : EPOCH 2 - PROGRESS: at 90.91% examples, 511202 words/s, in_qsize 7, out_qsize 0\n2020-06-10 21:35:58,319 : INFO : EPOCH 2 - PROGRESS: at 93.40% examples, 511783 words/s, in_qsize 7, out_qsize 0\n2020-06-10 21:35:59,324 : INFO : EPOCH 2 - PROGRESS: at 95.92% examples, 512686 words/s, in_qsize 7, out_qsize 0\n2020-06-10 21:36:00,329 : INFO : EPOCH 2 - PROGRESS: at 98.54% examples, 513388 words/s, in_qsize 7, out_qsize 0\n2020-06-10 21:36:00,911 : INFO : worker thread finished; awaiting finish of 3 more threads\n2020-06-10 21:36:00,917 : INFO : worker thread finished; awaiting finish of 2 more threads\n2020-06-10 21:36:00,941 : INFO : worker thread finished; awaiting finish of 1 more threads\n2020-06-10 21:36:00,958 : INFO : worker thread finished; awaiting finish of 0 more threads\n2020-06-10 21:36:00,959 : INFO : EPOCH - 2 : training on 27058484 raw words (21073172 effective words) took 41.1s, 513333 effective words/s\n2020-06-10 21:36:01,987 : INFO : EPOCH 3 - PROGRESS: at 2.47% examples, 526858 words/s, in_qsize 7, out_qsize 0\n2020-06-10 21:36:02,987 : INFO : EPOCH 3 - PROGRESS: at 5.11% examples, 529587 words/s, in_qsize 7, out_qsize 0\n2020-06-10 21:36:03,989 : INFO : EPOCH 3 - PROGRESS: at 7.66% examples, 530605 words/s, in_qsize 7, out_qsize 0\n2020-06-10 21:36:04,990 : INFO : EPOCH 3 - PROGRESS: at 10.31% examples, 533298 words/s, in_qsize 7, out_qsize 0\n2020-06-10 21:36:05,995 : INFO : EPOCH 3 - PROGRESS: at 13.00% examples, 532431 words/s, in_qsize 7, out_qsize 0\n2020-06-10 21:36:07,020 : INFO : EPOCH 3 - PROGRESS: at 15.53% examples, 532446 words/s, in_qsize 7, out_qsize 0\n2020-06-10 21:36:08,026 : INFO : EPOCH 3 - PROGRESS: at 18.11% examples, 533780 words/s, in_qsize 7, out_qsize 0\n2020-06-10 21:36:09,038 : INFO : EPOCH 3 - PROGRESS: at 20.49% examples, 534550 words/s, in_qsize 7, out_qsize 0\n2020-06-10 21:36:10,058 : INFO : EPOCH 3 - PROGRESS: at 22.98% examples, 533304 words/s, in_qsize 5, out_qsize 2\n2020-06-10 21:36:11,073 : INFO : EPOCH 3 - PROGRESS: at 25.59% examples, 533999 words/s, in_qsize 7, out_qsize 0\n2020-06-10 21:36:12,075 : INFO : EPOCH 3 - PROGRESS: at 28.12% examples, 533069 words/s, in_qsize 7, out_qsize 0\n2020-06-10 21:36:13,077 : INFO : EPOCH 3 - PROGRESS: at 30.78% examples, 532688 words/s, in_qsize 7, out_qsize 0\n2020-06-10 21:36:14,080 : INFO : EPOCH 3 - PROGRESS: at 33.51% examples, 532603 words/s, in_qsize 7, out_qsize 0\n2020-06-10 21:36:15,082 : INFO : EPOCH 3 - PROGRESS: at 36.00% examples, 533002 words/s, in_qsize 7, out_qsize 0\n2020-06-10 21:36:16,095 : INFO : EPOCH 3 - PROGRESS: at 38.65% examples, 532265 words/s, in_qsize 7, out_qsize 0\n2020-06-10 21:36:17,099 : INFO : EPOCH 3 - PROGRESS: at 41.28% examples, 532871 words/s, in_qsize 7, out_qsize 0\n2020-06-10 21:36:18,112 : INFO : EPOCH 3 - PROGRESS: at 43.48% examples, 530198 words/s, in_qsize 7, out_qsize 0\n2020-06-10 21:36:19,113 : INFO : EPOCH 3 - PROGRESS: at 45.99% examples, 529853 words/s, in_qsize 7, out_qsize 0\n2020-06-10 21:36:20,117 : INFO : EPOCH 3 - PROGRESS: at 48.16% examples, 525089 words/s, in_qsize 6, out_qsize 1\n2020-06-10 21:36:21,151 : INFO : EPOCH 3 - PROGRESS: at 50.63% examples, 526227 words/s, in_qsize 7, out_qsize 0\n2020-06-10 21:36:22,160 : INFO : EPOCH 3 - PROGRESS: at 53.21% examples, 526738 words/s, in_qsize 7, out_qsize 0\n2020-06-10 21:36:23,178 : INFO : EPOCH 3 - PROGRESS: at 55.85% examples, 526529 words/s, in_qsize 7, out_qsize 0\n2020-06-10 21:36:24,206 : INFO : EPOCH 3 - PROGRESS: at 58.33% examples, 527004 words/s, in_qsize 7, out_qsize 0\n2020-06-10 21:36:25,211 : INFO : EPOCH 3 - PROGRESS: at 60.91% examples, 527759 words/s, in_qsize 7, out_qsize 0\n2020-06-10 21:36:26,218 : INFO : EPOCH 3 - PROGRESS: at 63.49% examples, 527275 words/s, in_qsize 7, out_qsize 0\n2020-06-10 21:36:27,219 : INFO : EPOCH 3 - PROGRESS: at 66.11% examples, 527659 words/s, in_qsize 7, out_qsize 0\n2020-06-10 21:36:28,223 : INFO : EPOCH 3 - PROGRESS: at 67.72% examples, 520271 words/s, in_qsize 7, out_qsize 0\n2020-06-10 21:36:29,256 : INFO : EPOCH 3 - PROGRESS: at 69.37% examples, 514190 words/s, in_qsize 7, out_qsize 0\n2020-06-10 21:36:30,262 : INFO : EPOCH 3 - PROGRESS: at 71.92% examples, 515027 words/s, in_qsize 7, out_qsize 0\n2020-06-10 21:36:31,288 : INFO : EPOCH 3 - PROGRESS: at 73.68% examples, 509966 words/s, in_qsize 7, out_qsize 0\n2020-06-10 21:36:32,303 : INFO : EPOCH 3 - PROGRESS: at 75.17% examples, 503756 words/s, in_qsize 7, out_qsize 0\n2020-06-10 21:36:33,305 : INFO : EPOCH 3 - PROGRESS: at 76.55% examples, 497755 words/s, in_qsize 7, out_qsize 0\n2020-06-10 21:36:34,307 : INFO : EPOCH 3 - PROGRESS: at 78.81% examples, 497611 words/s, in_qsize 7, out_qsize 0\n2020-06-10 21:36:35,325 : INFO : EPOCH 3 - PROGRESS: at 80.48% examples, 493390 words/s, in_qsize 7, out_qsize 0\n2020-06-10 21:36:36,345 : INFO : EPOCH 3 - PROGRESS: at 82.05% examples, 488884 words/s, in_qsize 7, out_qsize 0\n2020-06-10 21:36:37,347 : INFO : EPOCH 3 - PROGRESS: at 84.04% examples, 487064 words/s, in_qsize 7, out_qsize 0\n2020-06-10 21:36:38,359 : INFO : EPOCH 3 - PROGRESS: at 86.54% examples, 487854 words/s, in_qsize 7, out_qsize 0\n2020-06-10 21:36:39,369 : INFO : EPOCH 3 - PROGRESS: at 89.09% examples, 488832 words/s, in_qsize 7, out_qsize 0\n2020-06-10 21:36:40,389 : INFO : EPOCH 3 - PROGRESS: at 91.68% examples, 489489 words/s, in_qsize 7, out_qsize 0\n2020-06-10 21:36:41,389 : INFO : EPOCH 3 - PROGRESS: at 94.20% examples, 490617 words/s, in_qsize 7, out_qsize 0\n2020-06-10 21:36:42,393 : INFO : EPOCH 3 - PROGRESS: at 96.67% examples, 491665 words/s, in_qsize 7, out_qsize 0\n2020-06-10 21:36:43,394 : INFO : EPOCH 3 - PROGRESS: at 99.17% examples, 492676 words/s, in_qsize 7, out_qsize 0\n2020-06-10 21:36:43,724 : INFO : worker thread finished; awaiting finish of 3 more threads\n2020-06-10 21:36:43,729 : INFO : worker thread finished; awaiting finish of 2 more threads\n2020-06-10 21:36:43,749 : INFO : worker thread finished; awaiting finish of 1 more threads\n2020-06-10 21:36:43,757 : INFO : worker thread finished; awaiting finish of 0 more threads\n2020-06-10 21:36:43,758 : INFO : EPOCH - 3 : training on 27058484 raw words (21072462 effective words) took 42.8s, 492562 effective words/s\n2020-06-10 21:36:44,792 : INFO : EPOCH 4 - PROGRESS: at 2.41% examples, 511791 words/s, in_qsize 7, out_qsize 0\n2020-06-10 21:36:45,798 : INFO : EPOCH 4 - PROGRESS: at 5.00% examples, 519325 words/s, in_qsize 7, out_qsize 0\n2020-06-10 21:36:46,821 : INFO : EPOCH 4 - PROGRESS: at 7.01% examples, 479065 words/s, in_qsize 7, out_qsize 0\n2020-06-10 21:36:47,842 : INFO : EPOCH 4 - PROGRESS: at 8.75% examples, 451293 words/s, in_qsize 7, out_qsize 0\n2020-06-10 21:36:48,845 : INFO : EPOCH 4 - PROGRESS: at 10.92% examples, 446591 words/s, in_qsize 7, out_qsize 0\n2020-06-10 21:36:49,848 : INFO : EPOCH 4 - PROGRESS: at 13.47% examples, 458751 words/s, in_qsize 7, out_qsize 0\n2020-06-10 21:36:50,857 : INFO : EPOCH 4 - PROGRESS: at 16.00% examples, 469924 words/s, in_qsize 8, out_qsize 0\n2020-06-10 21:36:51,879 : INFO : EPOCH 4 - PROGRESS: at 18.54% examples, 478271 words/s, in_qsize 7, out_qsize 0\n2020-06-10 21:36:52,881 : INFO : EPOCH 4 - PROGRESS: at 21.02% examples, 484552 words/s, in_qsize 7, out_qsize 0\n2020-06-10 21:36:53,899 : INFO : EPOCH 4 - PROGRESS: at 23.63% examples, 490186 words/s, in_qsize 7, out_qsize 0\n2020-06-10 21:36:54,903 : INFO : EPOCH 4 - PROGRESS: at 25.94% examples, 491355 words/s, in_qsize 7, out_qsize 0\n2020-06-10 21:36:55,922 : INFO : EPOCH 4 - PROGRESS: at 27.10% examples, 470660 words/s, in_qsize 7, out_qsize 0\n2020-06-10 21:36:56,925 : INFO : EPOCH 4 - PROGRESS: at 29.74% examples, 474238 words/s, in_qsize 8, out_qsize 0\n2020-06-10 21:36:57,925 : INFO : EPOCH 4 - PROGRESS: at 32.29% examples, 477431 words/s, in_qsize 7, out_qsize 0\n2020-06-10 21:36:58,940 : INFO : EPOCH 4 - PROGRESS: at 34.88% examples, 480473 words/s, in_qsize 8, out_qsize 0\n2020-06-10 21:36:59,948 : INFO : EPOCH 4 - PROGRESS: at 37.67% examples, 484610 words/s, in_qsize 7, out_qsize 0\n2020-06-10 21:37:00,955 : INFO : EPOCH 4 - PROGRESS: at 40.22% examples, 486764 words/s, in_qsize 7, out_qsize 0\n2020-06-10 21:37:01,965 : INFO : EPOCH 4 - PROGRESS: at 42.69% examples, 489506 words/s, in_qsize 7, out_qsize 0\n2020-06-10 21:37:02,967 : INFO : EPOCH 4 - PROGRESS: at 45.13% examples, 491007 words/s, in_qsize 7, out_qsize 0\n2020-06-10 21:37:03,979 : INFO : EPOCH 4 - PROGRESS: at 47.65% examples, 492776 words/s, in_qsize 7, out_qsize 0\n2020-06-10 21:37:05,001 : INFO : EPOCH 4 - PROGRESS: at 50.15% examples, 494749 words/s, in_qsize 7, out_qsize 0\n2020-06-10 21:37:06,004 : INFO : EPOCH 4 - PROGRESS: at 52.58% examples, 496646 words/s, in_qsize 7, out_qsize 0\n2020-06-10 21:37:07,022 : INFO : EPOCH 4 - PROGRESS: at 55.30% examples, 497958 words/s, in_qsize 7, out_qsize 0\n2020-06-10 21:37:08,039 : INFO : EPOCH 4 - PROGRESS: at 57.84% examples, 499197 words/s, in_qsize 6, out_qsize 1\n2020-06-10 21:37:09,051 : INFO : EPOCH 4 - PROGRESS: at 60.36% examples, 500886 words/s, in_qsize 7, out_qsize 0\n2020-06-10 21:37:10,062 : INFO : EPOCH 4 - PROGRESS: at 62.47% examples, 498977 words/s, in_qsize 7, out_qsize 0\n2020-06-10 21:37:11,087 : INFO : EPOCH 4 - PROGRESS: at 65.15% examples, 500119 words/s, in_qsize 7, out_qsize 0\n2020-06-10 21:37:12,111 : INFO : EPOCH 4 - PROGRESS: at 67.84% examples, 501392 words/s, in_qsize 7, out_qsize 0\n2020-06-10 21:37:13,111 : INFO : EPOCH 4 - PROGRESS: at 70.31% examples, 502995 words/s, in_qsize 7, out_qsize 0\n2020-06-10 21:37:14,122 : INFO : EPOCH 4 - PROGRESS: at 72.83% examples, 503988 words/s, in_qsize 7, out_qsize 0\n2020-06-10 21:37:15,134 : INFO : EPOCH 4 - PROGRESS: at 75.34% examples, 504558 words/s, in_qsize 5, out_qsize 2\n2020-06-10 21:37:16,144 : INFO : EPOCH 4 - PROGRESS: at 77.82% examples, 505545 words/s, in_qsize 7, out_qsize 0\n2020-06-10 21:37:17,160 : INFO : EPOCH 4 - PROGRESS: at 80.33% examples, 506619 words/s, in_qsize 7, out_qsize 0\n2020-06-10 21:37:18,174 : INFO : EPOCH 4 - PROGRESS: at 82.67% examples, 506730 words/s, in_qsize 7, out_qsize 0\n2020-06-10 21:37:19,193 : INFO : EPOCH 4 - PROGRESS: at 85.28% examples, 507782 words/s, in_qsize 7, out_qsize 0\n2020-06-10 21:37:20,205 : INFO : EPOCH 4 - PROGRESS: at 87.93% examples, 508328 words/s, in_qsize 6, out_qsize 1\n2020-06-10 21:37:21,208 : INFO : EPOCH 4 - PROGRESS: at 90.56% examples, 509294 words/s, in_qsize 7, out_qsize 0\n2020-06-10 21:37:22,235 : INFO : EPOCH 4 - PROGRESS: at 93.13% examples, 510070 words/s, in_qsize 7, out_qsize 0\n2020-06-10 21:37:23,241 : INFO : EPOCH 4 - PROGRESS: at 95.70% examples, 511045 words/s, in_qsize 7, out_qsize 0\n2020-06-10 21:37:24,247 : INFO : EPOCH 4 - PROGRESS: at 98.30% examples, 511727 words/s, in_qsize 7, out_qsize 0\n2020-06-10 21:37:24,909 : INFO : worker thread finished; awaiting finish of 3 more threads\n2020-06-10 21:37:24,913 : INFO : worker thread finished; awaiting finish of 2 more threads\n2020-06-10 21:37:24,929 : INFO : worker thread finished; awaiting finish of 1 more threads\n2020-06-10 21:37:24,941 : INFO : worker thread finished; awaiting finish of 0 more threads\n2020-06-10 21:37:24,942 : INFO : EPOCH - 4 : training on 27058484 raw words (21074275 effective words) took 41.2s, 511952 effective words/s\n2020-06-10 21:37:25,966 : INFO : EPOCH 5 - PROGRESS: at 2.47% examples, 531733 words/s, in_qsize 7, out_qsize 0\n2020-06-10 21:37:26,968 : INFO : EPOCH 5 - PROGRESS: at 5.17% examples, 538745 words/s, in_qsize 7, out_qsize 0\n2020-06-10 21:37:27,983 : INFO : EPOCH 5 - PROGRESS: at 7.77% examples, 536401 words/s, in_qsize 7, out_qsize 0\n2020-06-10 21:37:28,996 : INFO : EPOCH 5 - PROGRESS: at 10.22% examples, 525340 words/s, in_qsize 7, out_qsize 0\n2020-06-10 21:37:30,047 : INFO : EPOCH 5 - PROGRESS: at 12.15% examples, 492816 words/s, in_qsize 7, out_qsize 0\n2020-06-10 21:37:31,059 : INFO : EPOCH 5 - PROGRESS: at 13.80% examples, 469344 words/s, in_qsize 7, out_qsize 0\n2020-06-10 21:37:32,063 : INFO : EPOCH 5 - PROGRESS: at 16.22% examples, 477649 words/s, in_qsize 7, out_qsize 0\n2020-06-10 21:37:33,082 : INFO : EPOCH 5 - PROGRESS: at 18.07% examples, 462697 words/s, in_qsize 7, out_qsize 0\n2020-06-10 21:37:34,115 : INFO : EPOCH 5 - PROGRESS: at 19.57% examples, 449196 words/s, in_qsize 7, out_qsize 0\n2020-06-10 21:37:35,116 : INFO : EPOCH 5 - PROGRESS: at 21.27% examples, 441007 words/s, in_qsize 7, out_qsize 0\n"
    },
    {
     "output_type": "error",
     "ename": "KeyboardInterrupt",
     "evalue": "",
     "traceback": [
      "\u001b[0;31m---------------------------------------------------------------------------\u001b[0m",
      "\u001b[0;31mKeyboardInterrupt\u001b[0m                         Traceback (most recent call last)",
      "\u001b[0;32m<ipython-input-36-898d4e6e1585>\u001b[0m in \u001b[0;36m<module>\u001b[0;34m\u001b[0m\n\u001b[0;32m----> 1\u001b[0;31m \u001b[0mmodel2\u001b[0m \u001b[0;34m=\u001b[0m \u001b[0mDoc2Vec\u001b[0m\u001b[0;34m(\u001b[0m\u001b[0mdocuments\u001b[0m\u001b[0;34m,\u001b[0m \u001b[0mvector_size\u001b[0m \u001b[0;34m=\u001b[0m \u001b[0;36m200\u001b[0m\u001b[0;34m,\u001b[0m \u001b[0mmin_count\u001b[0m \u001b[0;34m=\u001b[0m \u001b[0;36m3\u001b[0m\u001b[0;34m,\u001b[0m \u001b[0mdm\u001b[0m \u001b[0;34m=\u001b[0m \u001b[0;36m0\u001b[0m\u001b[0;34m,\u001b[0m \u001b[0mepochs\u001b[0m\u001b[0;34m=\u001b[0m\u001b[0;36m15\u001b[0m\u001b[0;34m,\u001b[0m \u001b[0mworkers\u001b[0m \u001b[0;34m=\u001b[0m \u001b[0mcores\u001b[0m\u001b[0;34m)\u001b[0m\u001b[0;34m\u001b[0m\u001b[0;34m\u001b[0m\u001b[0m\n\u001b[0m",
      "\u001b[0;32m/opt/anaconda3/lib/python3.7/site-packages/gensim/models/doc2vec.py\u001b[0m in \u001b[0;36m__init__\u001b[0;34m(self, documents, corpus_file, dm_mean, dm, dbow_words, dm_concat, dm_tag_count, docvecs, docvecs_mapfile, comment, trim_rule, callbacks, **kwargs)\u001b[0m\n\u001b[1;32m    361\u001b[0m                 \u001b[0mdocuments\u001b[0m\u001b[0;34m=\u001b[0m\u001b[0mdocuments\u001b[0m\u001b[0;34m,\u001b[0m \u001b[0mcorpus_file\u001b[0m\u001b[0;34m=\u001b[0m\u001b[0mcorpus_file\u001b[0m\u001b[0;34m,\u001b[0m \u001b[0mtotal_examples\u001b[0m\u001b[0;34m=\u001b[0m\u001b[0mself\u001b[0m\u001b[0;34m.\u001b[0m\u001b[0mcorpus_count\u001b[0m\u001b[0;34m,\u001b[0m\u001b[0;34m\u001b[0m\u001b[0;34m\u001b[0m\u001b[0m\n\u001b[1;32m    362\u001b[0m                 \u001b[0mtotal_words\u001b[0m\u001b[0;34m=\u001b[0m\u001b[0mself\u001b[0m\u001b[0;34m.\u001b[0m\u001b[0mcorpus_total_words\u001b[0m\u001b[0;34m,\u001b[0m \u001b[0mepochs\u001b[0m\u001b[0;34m=\u001b[0m\u001b[0mself\u001b[0m\u001b[0;34m.\u001b[0m\u001b[0mepochs\u001b[0m\u001b[0;34m,\u001b[0m \u001b[0mstart_alpha\u001b[0m\u001b[0;34m=\u001b[0m\u001b[0mself\u001b[0m\u001b[0;34m.\u001b[0m\u001b[0malpha\u001b[0m\u001b[0;34m,\u001b[0m\u001b[0;34m\u001b[0m\u001b[0;34m\u001b[0m\u001b[0m\n\u001b[0;32m--> 363\u001b[0;31m                 end_alpha=self.min_alpha, callbacks=callbacks)\n\u001b[0m\u001b[1;32m    364\u001b[0m \u001b[0;34m\u001b[0m\u001b[0m\n\u001b[1;32m    365\u001b[0m     \u001b[0;34m@\u001b[0m\u001b[0mproperty\u001b[0m\u001b[0;34m\u001b[0m\u001b[0;34m\u001b[0m\u001b[0m\n",
      "\u001b[0;32m/opt/anaconda3/lib/python3.7/site-packages/gensim/models/doc2vec.py\u001b[0m in \u001b[0;36mtrain\u001b[0;34m(self, documents, corpus_file, total_examples, total_words, epochs, start_alpha, end_alpha, word_count, queue_factor, report_delay, callbacks)\u001b[0m\n\u001b[1;32m    555\u001b[0m             \u001b[0msentences\u001b[0m\u001b[0;34m=\u001b[0m\u001b[0mdocuments\u001b[0m\u001b[0;34m,\u001b[0m \u001b[0mcorpus_file\u001b[0m\u001b[0;34m=\u001b[0m\u001b[0mcorpus_file\u001b[0m\u001b[0;34m,\u001b[0m \u001b[0mtotal_examples\u001b[0m\u001b[0;34m=\u001b[0m\u001b[0mtotal_examples\u001b[0m\u001b[0;34m,\u001b[0m \u001b[0mtotal_words\u001b[0m\u001b[0;34m=\u001b[0m\u001b[0mtotal_words\u001b[0m\u001b[0;34m,\u001b[0m\u001b[0;34m\u001b[0m\u001b[0;34m\u001b[0m\u001b[0m\n\u001b[1;32m    556\u001b[0m             \u001b[0mepochs\u001b[0m\u001b[0;34m=\u001b[0m\u001b[0mepochs\u001b[0m\u001b[0;34m,\u001b[0m \u001b[0mstart_alpha\u001b[0m\u001b[0;34m=\u001b[0m\u001b[0mstart_alpha\u001b[0m\u001b[0;34m,\u001b[0m \u001b[0mend_alpha\u001b[0m\u001b[0;34m=\u001b[0m\u001b[0mend_alpha\u001b[0m\u001b[0;34m,\u001b[0m \u001b[0mword_count\u001b[0m\u001b[0;34m=\u001b[0m\u001b[0mword_count\u001b[0m\u001b[0;34m,\u001b[0m\u001b[0;34m\u001b[0m\u001b[0;34m\u001b[0m\u001b[0m\n\u001b[0;32m--> 557\u001b[0;31m             queue_factor=queue_factor, report_delay=report_delay, callbacks=callbacks, **kwargs)\n\u001b[0m\u001b[1;32m    558\u001b[0m \u001b[0;34m\u001b[0m\u001b[0m\n\u001b[1;32m    559\u001b[0m     \u001b[0;34m@\u001b[0m\u001b[0mclassmethod\u001b[0m\u001b[0;34m\u001b[0m\u001b[0;34m\u001b[0m\u001b[0m\n",
      "\u001b[0;32m/opt/anaconda3/lib/python3.7/site-packages/gensim/models/base_any2vec.py\u001b[0m in \u001b[0;36mtrain\u001b[0;34m(self, sentences, corpus_file, total_examples, total_words, epochs, start_alpha, end_alpha, word_count, queue_factor, report_delay, compute_loss, callbacks, **kwargs)\u001b[0m\n\u001b[1;32m   1065\u001b[0m             \u001b[0mtotal_words\u001b[0m\u001b[0;34m=\u001b[0m\u001b[0mtotal_words\u001b[0m\u001b[0;34m,\u001b[0m \u001b[0mepochs\u001b[0m\u001b[0;34m=\u001b[0m\u001b[0mepochs\u001b[0m\u001b[0;34m,\u001b[0m \u001b[0mstart_alpha\u001b[0m\u001b[0;34m=\u001b[0m\u001b[0mstart_alpha\u001b[0m\u001b[0;34m,\u001b[0m \u001b[0mend_alpha\u001b[0m\u001b[0;34m=\u001b[0m\u001b[0mend_alpha\u001b[0m\u001b[0;34m,\u001b[0m \u001b[0mword_count\u001b[0m\u001b[0;34m=\u001b[0m\u001b[0mword_count\u001b[0m\u001b[0;34m,\u001b[0m\u001b[0;34m\u001b[0m\u001b[0;34m\u001b[0m\u001b[0m\n\u001b[1;32m   1066\u001b[0m             \u001b[0mqueue_factor\u001b[0m\u001b[0;34m=\u001b[0m\u001b[0mqueue_factor\u001b[0m\u001b[0;34m,\u001b[0m \u001b[0mreport_delay\u001b[0m\u001b[0;34m=\u001b[0m\u001b[0mreport_delay\u001b[0m\u001b[0;34m,\u001b[0m \u001b[0mcompute_loss\u001b[0m\u001b[0;34m=\u001b[0m\u001b[0mcompute_loss\u001b[0m\u001b[0;34m,\u001b[0m \u001b[0mcallbacks\u001b[0m\u001b[0;34m=\u001b[0m\u001b[0mcallbacks\u001b[0m\u001b[0;34m,\u001b[0m\u001b[0;34m\u001b[0m\u001b[0;34m\u001b[0m\u001b[0m\n\u001b[0;32m-> 1067\u001b[0;31m             **kwargs)\n\u001b[0m\u001b[1;32m   1068\u001b[0m \u001b[0;34m\u001b[0m\u001b[0m\n\u001b[1;32m   1069\u001b[0m     \u001b[0;32mdef\u001b[0m \u001b[0m_get_job_params\u001b[0m\u001b[0;34m(\u001b[0m\u001b[0mself\u001b[0m\u001b[0;34m,\u001b[0m \u001b[0mcur_epoch\u001b[0m\u001b[0;34m)\u001b[0m\u001b[0;34m:\u001b[0m\u001b[0;34m\u001b[0m\u001b[0;34m\u001b[0m\u001b[0m\n",
      "\u001b[0;32m/opt/anaconda3/lib/python3.7/site-packages/gensim/models/base_any2vec.py\u001b[0m in \u001b[0;36mtrain\u001b[0;34m(self, data_iterable, corpus_file, epochs, total_examples, total_words, queue_factor, report_delay, callbacks, **kwargs)\u001b[0m\n\u001b[1;32m    550\u001b[0m                 trained_word_count_epoch, raw_word_count_epoch, job_tally_epoch = self._train_epoch(\n\u001b[1;32m    551\u001b[0m                     \u001b[0mdata_iterable\u001b[0m\u001b[0;34m,\u001b[0m \u001b[0mcur_epoch\u001b[0m\u001b[0;34m=\u001b[0m\u001b[0mcur_epoch\u001b[0m\u001b[0;34m,\u001b[0m \u001b[0mtotal_examples\u001b[0m\u001b[0;34m=\u001b[0m\u001b[0mtotal_examples\u001b[0m\u001b[0;34m,\u001b[0m\u001b[0;34m\u001b[0m\u001b[0;34m\u001b[0m\u001b[0m\n\u001b[0;32m--> 552\u001b[0;31m                     total_words=total_words, queue_factor=queue_factor, report_delay=report_delay)\n\u001b[0m\u001b[1;32m    553\u001b[0m             \u001b[0;32melse\u001b[0m\u001b[0;34m:\u001b[0m\u001b[0;34m\u001b[0m\u001b[0;34m\u001b[0m\u001b[0m\n\u001b[1;32m    554\u001b[0m                 trained_word_count_epoch, raw_word_count_epoch, job_tally_epoch = self._train_epoch_corpusfile(\n",
      "\u001b[0;32m/opt/anaconda3/lib/python3.7/site-packages/gensim/models/base_any2vec.py\u001b[0m in \u001b[0;36m_train_epoch\u001b[0;34m(self, data_iterable, cur_epoch, total_examples, total_words, queue_factor, report_delay)\u001b[0m\n\u001b[1;32m    486\u001b[0m         trained_word_count, raw_word_count, job_tally = self._log_epoch_progress(\n\u001b[1;32m    487\u001b[0m             \u001b[0mprogress_queue\u001b[0m\u001b[0;34m,\u001b[0m \u001b[0mjob_queue\u001b[0m\u001b[0;34m,\u001b[0m \u001b[0mcur_epoch\u001b[0m\u001b[0;34m=\u001b[0m\u001b[0mcur_epoch\u001b[0m\u001b[0;34m,\u001b[0m \u001b[0mtotal_examples\u001b[0m\u001b[0;34m=\u001b[0m\u001b[0mtotal_examples\u001b[0m\u001b[0;34m,\u001b[0m \u001b[0mtotal_words\u001b[0m\u001b[0;34m=\u001b[0m\u001b[0mtotal_words\u001b[0m\u001b[0;34m,\u001b[0m\u001b[0;34m\u001b[0m\u001b[0;34m\u001b[0m\u001b[0m\n\u001b[0;32m--> 488\u001b[0;31m             report_delay=report_delay, is_corpus_file_mode=False)\n\u001b[0m\u001b[1;32m    489\u001b[0m \u001b[0;34m\u001b[0m\u001b[0m\n\u001b[1;32m    490\u001b[0m         \u001b[0;32mreturn\u001b[0m \u001b[0mtrained_word_count\u001b[0m\u001b[0;34m,\u001b[0m \u001b[0mraw_word_count\u001b[0m\u001b[0;34m,\u001b[0m \u001b[0mjob_tally\u001b[0m\u001b[0;34m\u001b[0m\u001b[0;34m\u001b[0m\u001b[0m\n",
      "\u001b[0;32m/opt/anaconda3/lib/python3.7/site-packages/gensim/models/base_any2vec.py\u001b[0m in \u001b[0;36m_log_epoch_progress\u001b[0;34m(self, progress_queue, job_queue, cur_epoch, total_examples, total_words, report_delay, is_corpus_file_mode)\u001b[0m\n\u001b[1;32m    343\u001b[0m \u001b[0;34m\u001b[0m\u001b[0m\n\u001b[1;32m    344\u001b[0m         \u001b[0;32mwhile\u001b[0m \u001b[0munfinished_worker_count\u001b[0m \u001b[0;34m>\u001b[0m \u001b[0;36m0\u001b[0m\u001b[0;34m:\u001b[0m\u001b[0;34m\u001b[0m\u001b[0;34m\u001b[0m\u001b[0m\n\u001b[0;32m--> 345\u001b[0;31m             \u001b[0mreport\u001b[0m \u001b[0;34m=\u001b[0m \u001b[0mprogress_queue\u001b[0m\u001b[0;34m.\u001b[0m\u001b[0mget\u001b[0m\u001b[0;34m(\u001b[0m\u001b[0;34m)\u001b[0m  \u001b[0;31m# blocks if workers too slow\u001b[0m\u001b[0;34m\u001b[0m\u001b[0;34m\u001b[0m\u001b[0m\n\u001b[0m\u001b[1;32m    346\u001b[0m             \u001b[0;32mif\u001b[0m \u001b[0mreport\u001b[0m \u001b[0;32mis\u001b[0m \u001b[0;32mNone\u001b[0m\u001b[0;34m:\u001b[0m  \u001b[0;31m# a thread reporting that it finished\u001b[0m\u001b[0;34m\u001b[0m\u001b[0;34m\u001b[0m\u001b[0m\n\u001b[1;32m    347\u001b[0m                 \u001b[0munfinished_worker_count\u001b[0m \u001b[0;34m-=\u001b[0m \u001b[0;36m1\u001b[0m\u001b[0;34m\u001b[0m\u001b[0;34m\u001b[0m\u001b[0m\n",
      "\u001b[0;32m/opt/anaconda3/lib/python3.7/queue.py\u001b[0m in \u001b[0;36mget\u001b[0;34m(self, block, timeout)\u001b[0m\n\u001b[1;32m    168\u001b[0m             \u001b[0;32melif\u001b[0m \u001b[0mtimeout\u001b[0m \u001b[0;32mis\u001b[0m \u001b[0;32mNone\u001b[0m\u001b[0;34m:\u001b[0m\u001b[0;34m\u001b[0m\u001b[0;34m\u001b[0m\u001b[0m\n\u001b[1;32m    169\u001b[0m                 \u001b[0;32mwhile\u001b[0m \u001b[0;32mnot\u001b[0m \u001b[0mself\u001b[0m\u001b[0;34m.\u001b[0m\u001b[0m_qsize\u001b[0m\u001b[0;34m(\u001b[0m\u001b[0;34m)\u001b[0m\u001b[0;34m:\u001b[0m\u001b[0;34m\u001b[0m\u001b[0;34m\u001b[0m\u001b[0m\n\u001b[0;32m--> 170\u001b[0;31m                     \u001b[0mself\u001b[0m\u001b[0;34m.\u001b[0m\u001b[0mnot_empty\u001b[0m\u001b[0;34m.\u001b[0m\u001b[0mwait\u001b[0m\u001b[0;34m(\u001b[0m\u001b[0;34m)\u001b[0m\u001b[0;34m\u001b[0m\u001b[0;34m\u001b[0m\u001b[0m\n\u001b[0m\u001b[1;32m    171\u001b[0m             \u001b[0;32melif\u001b[0m \u001b[0mtimeout\u001b[0m \u001b[0;34m<\u001b[0m \u001b[0;36m0\u001b[0m\u001b[0;34m:\u001b[0m\u001b[0;34m\u001b[0m\u001b[0;34m\u001b[0m\u001b[0m\n\u001b[1;32m    172\u001b[0m                 \u001b[0;32mraise\u001b[0m \u001b[0mValueError\u001b[0m\u001b[0;34m(\u001b[0m\u001b[0;34m\"'timeout' must be a non-negative number\"\u001b[0m\u001b[0;34m)\u001b[0m\u001b[0;34m\u001b[0m\u001b[0;34m\u001b[0m\u001b[0m\n",
      "\u001b[0;32m/opt/anaconda3/lib/python3.7/threading.py\u001b[0m in \u001b[0;36mwait\u001b[0;34m(self, timeout)\u001b[0m\n\u001b[1;32m    294\u001b[0m         \u001b[0;32mtry\u001b[0m\u001b[0;34m:\u001b[0m    \u001b[0;31m# restore state no matter what (e.g., KeyboardInterrupt)\u001b[0m\u001b[0;34m\u001b[0m\u001b[0;34m\u001b[0m\u001b[0m\n\u001b[1;32m    295\u001b[0m             \u001b[0;32mif\u001b[0m \u001b[0mtimeout\u001b[0m \u001b[0;32mis\u001b[0m \u001b[0;32mNone\u001b[0m\u001b[0;34m:\u001b[0m\u001b[0;34m\u001b[0m\u001b[0;34m\u001b[0m\u001b[0m\n\u001b[0;32m--> 296\u001b[0;31m                 \u001b[0mwaiter\u001b[0m\u001b[0;34m.\u001b[0m\u001b[0macquire\u001b[0m\u001b[0;34m(\u001b[0m\u001b[0;34m)\u001b[0m\u001b[0;34m\u001b[0m\u001b[0;34m\u001b[0m\u001b[0m\n\u001b[0m\u001b[1;32m    297\u001b[0m                 \u001b[0mgotit\u001b[0m \u001b[0;34m=\u001b[0m \u001b[0;32mTrue\u001b[0m\u001b[0;34m\u001b[0m\u001b[0;34m\u001b[0m\u001b[0m\n\u001b[1;32m    298\u001b[0m             \u001b[0;32melse\u001b[0m\u001b[0;34m:\u001b[0m\u001b[0;34m\u001b[0m\u001b[0;34m\u001b[0m\u001b[0m\n",
      "\u001b[0;31mKeyboardInterrupt\u001b[0m: "
     ]
    }
   ],
   "source": [
    "model2 = Doc2Vec(documents, vector_size = 200, min_count = 3, dm = 0, epochs=15, workers = cores)"
   ]
  },
  {
   "cell_type": "code",
   "execution_count": 89,
   "metadata": {},
   "outputs": [],
   "source": [
    "#Going to use model2 not this model1\n",
    "#%%time\n",
    "#model1 = Doc2Vec(documents, vector_size = , min_count = 3, window = 10, epochs=10, workers = 4)"
   ]
  },
  {
   "cell_type": "code",
   "execution_count": null,
   "metadata": {},
   "outputs": [],
   "source": [
    "#Eventuel træn andre modeller herefter:\n",
    "#%%time\n",
    "#model2 = Doc2Vec(documents, vector_size = 200, dm = 1, min_count = 3, window = 10, epochs= 10, workers = 4)"
   ]
  },
  {
   "cell_type": "code",
   "execution_count": 90,
   "metadata": {},
   "outputs": [
    {
     "output_type": "stream",
     "name": "stderr",
     "text": "2020-06-10 17:33:18,324 : INFO : precomputing L2-norms of word weight vectors\n"
    },
    {
     "output_type": "execute_result",
     "data": {
      "text/plain": "[('nonincrease', 0.31726324558258057),\n ('unchanging', 0.30460652709007263),\n ('fumigation', 0.2858912944793701),\n ('usando', 0.28205808997154236),\n ('palestinianamerican', 0.2792540192604065),\n ('reasoned', 0.2768038511276245),\n ('cyborgs', 0.276467502117157),\n ('humanly', 0.2712938189506531),\n ('benghazi', 0.2702161967754364),\n ('determined', 0.26968449354171753)]"
     },
     "metadata": {},
     "execution_count": 90
    }
   ],
   "source": [
    "model2.most_similar('apple')"
   ]
  },
  {
   "cell_type": "code",
   "execution_count": 19,
   "metadata": {},
   "outputs": [
    {
     "output_type": "execute_result",
     "data": {
      "text/plain": "42489"
     },
     "metadata": {},
     "execution_count": 19
    }
   ],
   "source": [
    "model2.docvecs.count"
   ]
  },
  {
   "cell_type": "code",
   "execution_count": 134,
   "metadata": {},
   "outputs": [
    {
     "output_type": "execute_result",
     "data": {
      "text/plain": "(array(['bias', 'clickbait', 'conspiracy', 'junksci', 'rumor'],\n       dtype=object), array([2, 1, 2, 1, 4]))"
     },
     "metadata": {},
     "execution_count": 134
    }
   ],
   "source": [
    "#See types of most similar documents for model2\n",
    "#for idx in train.type.loc[train.type == 'fake'].index:\n",
    "sim_labels1 = np.empty(10,dtype='object')\n",
    "for i in range(len(sim_labels1)):\n",
    "    sim_labels1[i] = train.type.loc[train.type.index == model2.docvecs.most_similar(42426)[i][0]].values[0]\n",
    "\n",
    "# amount of articles with given type equal to testing article\n",
    "np.unique(sim_labels1,return_counts=True)"
   ]
  },
  {
   "cell_type": "code",
   "execution_count": 129,
   "metadata": {},
   "outputs": [
    {
     "output_type": "execute_result",
     "data": {
      "text/plain": "3        rumor\n29       rumor\n42       rumor\n74       rumor\n78       rumor\n         ...  \n42426    rumor\n42446    rumor\n42455    rumor\n42459    rumor\n42463    rumor\nName: type, Length: 4000, dtype: object"
     },
     "metadata": {},
     "execution_count": 129
    }
   ],
   "source": [
    "#Lookup indeices for articles with certain types\n",
    "train.type.loc[train.type == 'rumor']"
   ]
  },
  {
   "cell_type": "code",
   "execution_count": 15,
   "metadata": {},
   "outputs": [],
   "source": [
    "from sklearn.metrics import accuracy_score, f1_score\n",
    "from sklearn.metrics import confusion_matrix\n",
    "from sklearn.model_selection import train_test_split\n",
    "from sklearn.linear_model import LogisticRegression\n",
    "from sklearn import utils\n"
   ]
  },
  {
   "cell_type": "code",
   "execution_count": 137,
   "metadata": {},
   "outputs": [],
   "source": [
    "#Dont use model1\n",
    "#Model 1 traindata\n",
    "#train_arrays = np.zeros((model1.docvecs.count,150),dtype=\"float32\")\n",
    "#train_labels = np.zeros(model1.docvecs.count,dtype=\"float32\")\n",
    "#for i in range(model1.docvecs.count):\n",
    "#    train_arrays[i] = model1.docvecs[i]\n",
    "#    train_labels[i] = train.type_id[i]"
   ]
  },
  {
   "cell_type": "code",
   "execution_count": 21,
   "metadata": {},
   "outputs": [],
   "source": [
    "#Model 2 traindata:\n",
    "train_arrays2 = np.zeros((model2.docvecs.count,200),dtype=\"float32\")\n",
    "train_labels2 = np.zeros(model2.docvecs.count,dtype=\"float32\")\n",
    "for i in range(model2.docvecs.count):\n",
    "    train_arrays2[i] = model2.docvecs[i]\n",
    "    train_labels2[i] = train.type_id[i]"
   ]
  },
  {
   "cell_type": "code",
   "execution_count": 153,
   "metadata": {},
   "outputs": [],
   "source": [
    "#How infer_vector works:\n",
    "#token = \"this is new sentence\".split()\n",
    "#new_vector = model1.infer_vector(token)\n",
    "#sims = model1.docvecs.most_similar([new_vector])\n",
    "#model2.docvecs.most_similar([new_vec])"
   ]
  },
  {
   "cell_type": "code",
   "execution_count": 154,
   "metadata": {},
   "outputs": [],
   "source": [
    "#Only usable for model1\n",
    "#Inferring vectors for testdata with model1\n",
    "#test_arrays = np.zeros((len(test),150),dtype = \"float32\")\n",
    "#for i in range(len(test)):\n",
    "#    test_arrays[i] = model1.infer_vector(testTok[i],steps = 15)   \n",
    "#test_labels = np.array(test_typeLst,dtype=\"float32\")\n",
    "\n",
    "#test_arrays = np.zeros((model1.docvecs.count,150),dtype=\"float32\")\n",
    "#test_labels = np.zeros(model1.docvecs.count,dtype=\"float32\")"
   ]
  },
  {
   "cell_type": "code",
   "execution_count": 22,
   "metadata": {},
   "outputs": [
    {
     "output_type": "stream",
     "name": "stdout",
     "text": "CPU times: user 5min 21s, sys: 2.76 s, total: 5min 24s\nWall time: 5min 40s\n"
    }
   ],
   "source": [
    "%%time\n",
    "#Inferring vectors for testdata with model2\n",
    "test_arrays2 = np.zeros((len(test),200),dtype = \"float32\")\n",
    "for i in range(len(test)):\n",
    "    test_arrays2[i] = model2.infer_vector(testTok[i], epochs = 20, alpha = 0.025)   \n",
    "test_labels = np.array(test_typeLst,dtype=\"float32\")"
   ]
  },
  {
   "cell_type": "code",
   "execution_count": 163,
   "metadata": {},
   "outputs": [],
   "source": [
    "#model1.docvecs.most_similar([test_arrays[200]])"
   ]
  },
  {
   "cell_type": "code",
   "execution_count": 164,
   "metadata": {},
   "outputs": [
    {
     "output_type": "execute_result",
     "data": {
      "text/plain": "3642    bias\nName: type, dtype: object"
     },
     "metadata": {},
     "execution_count": 164
    }
   ],
   "source": [
    "test.type.loc[test.type.index == 3642]"
   ]
  },
  {
   "cell_type": "code",
   "execution_count": 166,
   "metadata": {},
   "outputs": [],
   "source": [
    "#Only usable for model1:\n",
    "#Find originalarticle types most similar to inferred vector by model1:\n",
    "#sim_labels = np.empty(10,dtype='object')\n",
    "#for i in range(len(sim_labels)):\n",
    "#    sim_labels[i] = train.type.loc[train.type.index == model1.docvecs.most_similar([test_arrays[3642]])#[i][0]].values[0]\n",
    "\n",
    "#np.unique(sim_labels,return_counts=True)"
   ]
  },
  {
   "cell_type": "code",
   "execution_count": 169,
   "metadata": {},
   "outputs": [
    {
     "output_type": "execute_result",
     "data": {
      "text/plain": "[(21173, 0.561996340751648),\n (18161, 0.5567409992218018),\n (6174, 0.5457913279533386),\n (20155, 0.5201143622398376),\n (3539, 0.5196638107299805),\n (17432, 0.5107928514480591),\n (8204, 0.5095251202583313),\n (2687, 0.5090910792350769),\n (38659, 0.5087523460388184),\n (15071, 0.5073102712631226)]"
     },
     "metadata": {},
     "execution_count": 169
    }
   ],
   "source": [
    "model2.docvecs.most_similar([test_arrays2[10]])"
   ]
  },
  {
   "cell_type": "code",
   "execution_count": 182,
   "metadata": {},
   "outputs": [
    {
     "output_type": "execute_result",
     "data": {
      "text/plain": "(array(['bias'], dtype=object), array([10]))"
     },
     "metadata": {},
     "execution_count": 182
    }
   ],
   "source": [
    "#Find originalarticle types most similar to inferred vector by model2:\n",
    "sim_labels = np.empty(10,dtype='object')\n",
    "for i in range(len(sim_labels)):\n",
    "    sim_labels[i] = train.type.loc[train.type.index == model2.docvecs.most_similar([test_arrays2[76]])[i][0]].values[0]\n",
    "\n",
    "np.unique(sim_labels,return_counts=True)"
   ]
  },
  {
   "cell_type": "code",
   "execution_count": 178,
   "metadata": {},
   "outputs": [
    {
     "output_type": "execute_result",
     "data": {
      "text/plain": "Int64Index([   10,    27,    31,    39,    76,    80,    86,    94,   123,\n              136,\n            ...\n            10507, 10531, 10541, 10571, 10573, 10588, 10591, 10608, 10609,\n            10618],\n           dtype='int64', length=1000)"
     },
     "metadata": {},
     "execution_count": 178
    }
   ],
   "source": [
    "#Get indices for testarticles of a certain type:\n",
    "test.type.loc[test.type == 'bias'].index"
   ]
  },
  {
   "cell_type": "code",
   "execution_count": 23,
   "metadata": {},
   "outputs": [],
   "source": [
    "from sklearn.preprocessing import StandardScaler\n",
    "from sklearn.metrics import accuracy_score, confusion_matrix, classification_report\n",
    "import matplotlib.pyplot as plt\n",
    "#standardizing data\n",
    "scaler = StandardScaler()\n",
    "scaler.fit(train_arrays2)\n",
    "X_train = scaler.transform(train_arrays2)\n",
    "X_test = scaler.transform(test_arrays2)"
   ]
  },
  {
   "cell_type": "code",
   "execution_count": 26,
   "metadata": {},
   "outputs": [
    {
     "output_type": "execute_result",
     "data": {
      "text/plain": "LogisticRegression(C=1.0, class_weight=None, dual=False, fit_intercept=True,\n                   intercept_scaling=1, l1_ratio=None, max_iter=100,\n                   multi_class='warn', n_jobs=None, penalty='l2',\n                   random_state=None, solver='warn', tol=0.0001, verbose=0,\n                   warm_start=False)"
     },
     "metadata": {},
     "execution_count": 26
    }
   ],
   "source": [
    "#Now train a logistic classifier:\n",
    "#can try gridsearch for parameters:\n",
    "#Logistic = LogisticRegression()\n",
    "#grid = {\"C\" :np.logspace(0,4,10), \"penalty\": [\"l1\", \"l2\"]}\n",
    "#logClf = GridSearchCV(Logistic, grid, cv = 5)\n",
    "#best_model = logClf.fit(X_train, train_labels)\n",
    "clfLog = LogisticRegression()\n",
    "clfLog.fit(X_train, train_labels2)\n",
    "\n",
    "#classifier.fit(X_train,train_labels)\n",
    "#classifier.n_iter_"
   ]
  },
  {
   "cell_type": "code",
   "execution_count": 27,
   "metadata": {},
   "outputs": [
    {
     "output_type": "execute_result",
     "data": {
      "text/plain": "0.6652546361668079"
     },
     "metadata": {},
     "execution_count": 27
    }
   ],
   "source": [
    "clfLog.score(X_test, test_labels)"
   ]
  },
  {
   "cell_type": "code",
   "execution_count": 28,
   "metadata": {},
   "outputs": [],
   "source": [
    "y_true = test_labels\n",
    "y_pred = clfLog.predict(X_test)"
   ]
  },
  {
   "cell_type": "code",
   "execution_count": 29,
   "metadata": {},
   "outputs": [
    {
     "output_type": "execute_result",
     "data": {
      "text/plain": "array([[464,  51,  77,  17,  99,  55, 104,  56,  16,  48,  13],\n       [ 85, 499,  36,  15,  28,  40,  96,  71,  25,  95,  10],\n       [ 82,  40, 531,  32,  61,  73,  82,  28,  11,  49,  11],\n       [ 12,  16,  20, 868,  14,  29,  22,   7,   1,  10,   1],\n       [ 68,  43,  32,  15, 350,  12,  48,  21,  10,  14,  10],\n       [ 31,  36,  48,   9,   7, 788,  20,  16,   4,  39,   2],\n       [109, 121,  81,  24,  41,  30, 458,  50,  19,  55,  12],\n       [ 61,  63,  10,   4,  25,  28,  42, 718,   7,  39,   3],\n       [ 15,   8,   7,   1,   2,   5,   2,   4, 899,  54,   3],\n       [ 61,  63,  43,   8,  11,  34,  44,  28,  63, 636,   9],\n       [ 18,  31,  13,   6,   7,  13,  29,   4,   3,  20, 856]])"
     },
     "metadata": {},
     "execution_count": 29
    }
   ],
   "source": [
    "confusion_matrix(y_true,y_pred)"
   ]
  },
  {
   "cell_type": "code",
   "execution_count": 36,
   "metadata": {},
   "outputs": [],
   "source": [
    "target_names = []\n",
    "for i in range(11):\n",
    "    target_names.append(test.type.loc[test.type_id == i].values[0])"
   ]
  },
  {
   "cell_type": "code",
   "execution_count": 42,
   "metadata": {},
   "outputs": [
    {
     "output_type": "error",
     "ename": "AttributeError",
     "evalue": "'list' object has no attribute 'tolist'",
     "traceback": [
      "\u001b[0;31m---------------------------------------------------------------------------\u001b[0m",
      "\u001b[0;31mAttributeError\u001b[0m                            Traceback (most recent call last)",
      "\u001b[0;32m<ipython-input-42-c8b87f1072a4>\u001b[0m in \u001b[0;36m<module>\u001b[0;34m\u001b[0m\n\u001b[0;32m----> 1\u001b[0;31m \u001b[0my_true\u001b[0m \u001b[0;34m=\u001b[0m \u001b[0mlist\u001b[0m\u001b[0;34m(\u001b[0m\u001b[0mmap\u001b[0m\u001b[0;34m(\u001b[0m\u001b[0mint\u001b[0m\u001b[0;34m,\u001b[0m\u001b[0my_true\u001b[0m\u001b[0;34m.\u001b[0m\u001b[0mtolist\u001b[0m\u001b[0;34m(\u001b[0m\u001b[0;34m)\u001b[0m\u001b[0;34m)\u001b[0m\u001b[0;34m)\u001b[0m\u001b[0;34m\u001b[0m\u001b[0;34m\u001b[0m\u001b[0m\n\u001b[0m\u001b[1;32m      2\u001b[0m \u001b[0my_pred\u001b[0m \u001b[0;34m=\u001b[0m \u001b[0mlist\u001b[0m\u001b[0;34m(\u001b[0m\u001b[0mmap\u001b[0m\u001b[0;34m(\u001b[0m\u001b[0mint\u001b[0m\u001b[0;34m,\u001b[0m\u001b[0my_pred\u001b[0m\u001b[0;34m.\u001b[0m\u001b[0mtolist\u001b[0m\u001b[0;34m(\u001b[0m\u001b[0;34m)\u001b[0m\u001b[0;34m)\u001b[0m\u001b[0;34m)\u001b[0m\u001b[0;34m\u001b[0m\u001b[0;34m\u001b[0m\u001b[0m\n",
      "\u001b[0;31mAttributeError\u001b[0m: 'list' object has no attribute 'tolist'"
     ]
    }
   ],
   "source": [
    "y_true = list(map(int,y_true.tolist()))\n",
    "y_pred = list(map(int,y_pred.tolist()))"
   ]
  },
  {
   "cell_type": "code",
   "execution_count": 105,
   "metadata": {},
   "outputs": [
    {
     "output_type": "stream",
     "name": "stdout",
     "text": "precision    recall  f1-score   support\n\n        bias       0.46      0.46      0.46      1000\n   clickbait       0.51      0.50      0.51      1000\n  conspiracy       0.59      0.53      0.56      1000\n        fake       0.87      0.87      0.87      1000\n        hate       0.54      0.56      0.55       623\n     junksci       0.71      0.79      0.75      1000\n   political       0.48      0.46      0.47      1000\n    reliable       0.72      0.72      0.72      1000\n       rumor       0.85      0.90      0.87      1000\n      satire       0.60      0.64      0.62      1000\n  unreliable       0.92      0.86      0.89      1000\n\n    accuracy                           0.67     10623\n   macro avg       0.66      0.66      0.66     10623\nweighted avg       0.66      0.67      0.66     10623\n\n"
    }
   ],
   "source": [
    "print(classification_report(y_true, y_pred, target_names = target_names))"
   ]
  },
  {
   "cell_type": "code",
   "execution_count": 109,
   "metadata": {},
   "outputs": [
    {
     "output_type": "execute_result",
     "data": {
      "text/plain": "SGDClassifier(alpha=0.0001, average=False, class_weight=None,\n              early_stopping=False, epsilon=0.1, eta0=0.0, fit_intercept=True,\n              l1_ratio=0.15, learning_rate='optimal', loss='hinge',\n              max_iter=1000, n_iter_no_change=5, n_jobs=None, penalty='l2',\n              power_t=0.5, random_state=None, shuffle=True, tol=0.001,\n              validation_fraction=0.1, verbose=0, warm_start=False)"
     },
     "metadata": {},
     "execution_count": 109
    }
   ],
   "source": [
    "from sklearn.linear_model import SGDClassifier\n",
    "sgd = SGDClassifier()\n",
    "sgd.fit(X_train,train_labels2)"
   ]
  },
  {
   "cell_type": "code",
   "execution_count": 117,
   "metadata": {},
   "outputs": [],
   "source": [
    "y_sgd_pred = sgd.predict(X_test)"
   ]
  },
  {
   "cell_type": "code",
   "execution_count": 123,
   "metadata": {},
   "outputs": [],
   "source": [
    "y_sgd_pred = list(map(int,y_sgd_pred.tolist()))"
   ]
  },
  {
   "cell_type": "code",
   "execution_count": 122,
   "metadata": {},
   "outputs": [
    {
     "output_type": "stream",
     "name": "stdout",
     "text": "precision    recall  f1-score   support\n\n        bias       0.36      0.41      0.38      1000\n   clickbait       0.47      0.42      0.44      1000\n  conspiracy       0.49      0.54      0.51      1000\n        fake       0.83      0.85      0.84      1000\n        hate       0.45      0.54      0.49       623\n     junksci       0.69      0.74      0.71      1000\n   political       0.44      0.31      0.36      1000\n    reliable       0.70      0.61      0.65      1000\n       rumor       0.90      0.83      0.87      1000\n      satire       0.51      0.60      0.55      1000\n  unreliable       0.87      0.86      0.86      1000\n\n    accuracy                           0.61     10623\n   macro avg       0.61      0.61      0.61     10623\nweighted avg       0.61      0.61      0.61     10623\n\n"
    }
   ],
   "source": [
    "print(classification_report(y_true, y_sgd_pred, target_names = target_names))"
   ]
  },
  {
   "cell_type": "code",
   "execution_count": 131,
   "metadata": {},
   "outputs": [
    {
     "output_type": "execute_result",
     "data": {
      "text/plain": "SVC(C=1.0, cache_size=200, class_weight=None, coef0=0.0,\n    decision_function_shape='ovr', degree=3, gamma='auto_deprecated',\n    kernel='rbf', max_iter=-1, probability=False, random_state=None,\n    shrinking=True, tol=0.001, verbose=False)"
     },
     "metadata": {},
     "execution_count": 131
    }
   ],
   "source": [
    "#rbf kernel = .723, poly kernel = 0.7\n",
    "from sklearn import svm\n",
    "from sklearn.model_selection import GridSearchCV\n",
    "#parameters = {'C':[1,10], 'kernel': ('linear','rbf')}\n",
    "clf = svm.SVC() \n",
    "clf.fit(X_train,train_labels2)\n",
    "#clf.score(X_test, y_test)"
   ]
  },
  {
   "cell_type": "code",
   "execution_count": 132,
   "metadata": {},
   "outputs": [],
   "source": [
    "y_svc_pred = clf.predict(X_test)"
   ]
  },
  {
   "cell_type": "code",
   "execution_count": 133,
   "metadata": {},
   "outputs": [],
   "source": [
    "y_svc_pred = list(map(int,y_svc_pred.tolist()))"
   ]
  },
  {
   "cell_type": "code",
   "execution_count": 134,
   "metadata": {},
   "outputs": [
    {
     "output_type": "stream",
     "name": "stdout",
     "text": "precision    recall  f1-score   support\n\n        bias       0.52      0.59      0.55      1000\n   clickbait       0.59      0.59      0.59      1000\n  conspiracy       0.67      0.60      0.64      1000\n        fake       0.89      0.86      0.88      1000\n        hate       0.64      0.63      0.64       623\n     junksci       0.78      0.82      0.80      1000\n   political       0.51      0.53      0.52      1000\n    reliable       0.85      0.82      0.84      1000\n       rumor       0.92      0.84      0.88      1000\n      satire       0.65      0.79      0.71      1000\n  unreliable       1.00      0.86      0.92      1000\n\n    accuracy                           0.72     10623\n   macro avg       0.73      0.72      0.72     10623\nweighted avg       0.73      0.72      0.73     10623\n\n"
    }
   ],
   "source": [
    "print(classification_report(y_true, y_svc_pred, target_names = target_names))"
   ]
  },
  {
   "cell_type": "code",
   "execution_count": 135,
   "metadata": {},
   "outputs": [
    {
     "output_type": "execute_result",
     "data": {
      "text/plain": "array([[586,  47,  54,  14,  66,  38, 114,  33,   7,  41,   0],\n       [ 91, 589,  34,   9,  18,  30, 106,  35,  19,  69,   0],\n       [ 83,  30, 601,  29,  52,  58,  84,  11,   6,  45,   1],\n       [ 14,  10,  30, 865,  11,  27,  22,   6,   2,  13,   0],\n       [ 73,  37,  23,   5, 391,  15,  51,  12,   8,   7,   1],\n       [ 24,  32,  42,  10,   5, 817,  23,   6,   4,  37,   0],\n       [133, 108,  62,  27,  31,  19, 530,  26,  11,  53,   0],\n       [ 32,  51,   5,   1,  17,   9,  36, 822,   2,  25,   0],\n       [ 20,   8,   3,   2,   2,   3,   4,   2, 838, 118,   0],\n       [ 42,  41,  26,  12,   9,  17,  41,  11,  13, 787,   1],\n       [ 26,  41,  11,   2,   6,  13,  23,   0,   1,  17, 860]])"
     },
     "metadata": {},
     "execution_count": 135
    }
   ],
   "source": [
    "confusion_matrix(y_true,y_svc_pred)"
   ]
  },
  {
   "cell_type": "code",
   "execution_count": 18,
   "metadata": {},
   "outputs": [],
   "source": [
    "#try tf-idf Logref\n",
    "from sklearn.feature_extraction.text import TfidfVectorizer\n",
    "v = TfidfVectorizer()\n",
    "x = v.fit_transform(trainRaw['content'])\n",
    "x_test = v.transform(testRaw['content'])\n"
   ]
  },
  {
   "cell_type": "code",
   "execution_count": 46,
   "metadata": {},
   "outputs": [
    {
     "output_type": "execute_result",
     "data": {
      "text/plain": "array([0., 0., 0., ..., 0., 0., 0.])"
     },
     "metadata": {},
     "execution_count": 46
    }
   ],
   "source": [
    "x.toarray()[0]"
   ]
  },
  {
   "cell_type": "code",
   "execution_count": 19,
   "metadata": {},
   "outputs": [],
   "source": [
    "trainRaw_labels = list(trainRaw.type_id.values)\n",
    "testRaw_labels = list(testRaw.type_id.values)"
   ]
  },
  {
   "cell_type": "code",
   "execution_count": 20,
   "metadata": {},
   "outputs": [
    {
     "output_type": "execute_result",
     "data": {
      "text/plain": "LogisticRegression()"
     },
     "metadata": {},
     "execution_count": 20
    }
   ],
   "source": [
    "from sklearn.linear_model import LogisticRegression\n",
    "clfLogTf = LogisticRegression()\n",
    "clfLogTf.fit(x, trainRaw_labels)"
   ]
  },
  {
   "cell_type": "code",
   "execution_count": 23,
   "metadata": {},
   "outputs": [
    {
     "output_type": "execute_result",
     "data": {
      "text/plain": "0.5772727272727273"
     },
     "metadata": {},
     "execution_count": 23
    }
   ],
   "source": [
    "clfLogTf.score(x_test, testRaw_labels)"
   ]
  },
  {
   "cell_type": "code",
   "execution_count": 24,
   "metadata": {},
   "outputs": [],
   "source": [
    "y_true = testRaw_labels\n",
    "y_pred = clfLogTf.predict(x_test)"
   ]
  },
  {
   "cell_type": "code",
   "execution_count": 25,
   "metadata": {},
   "outputs": [
    {
     "output_type": "execute_result",
     "data": {
      "text/plain": "array([[22,  3,  0,  2, 13,  1,  7,  4,  3,  3,  2],\n       [ 4, 33,  0,  0,  4,  3,  8,  5,  1,  2,  0],\n       [ 7,  2, 28,  1,  3,  7,  0,  5,  1,  5,  1],\n       [ 2,  1,  2, 37,  4,  8,  3,  2,  0,  0,  1],\n       [ 2,  6,  3,  0, 34,  1,  0,  5,  2,  2,  5],\n       [ 3,  2,  2,  1,  0, 46,  1,  1,  1,  3,  0],\n       [ 7,  7,  5,  0,  5,  2, 25,  2,  2,  4,  1],\n       [ 4,  4,  0,  0,  5, 11,  4, 29,  1,  1,  1],\n       [ 2,  0,  0,  0,  0,  0,  1,  0, 55,  2,  0],\n       [ 4,  5,  2,  0,  4,  5,  5,  5,  4, 26,  0],\n       [ 1,  8,  1,  0,  1,  0,  2,  0,  0,  1, 46]])"
     },
     "metadata": {},
     "execution_count": 25
    }
   ],
   "source": [
    "confusion_matrix(y_true,y_pred)"
   ]
  },
  {
   "cell_type": "code",
   "execution_count": 26,
   "metadata": {},
   "outputs": [
    {
     "output_type": "stream",
     "name": "stdout",
     "text": "precision    recall  f1-score   support\n\n        bias       0.38      0.37      0.37        60\n   clickbait       0.46      0.55      0.50        60\n  conspiracy       0.65      0.47      0.54        60\n        fake       0.90      0.62      0.73        60\n        hate       0.47      0.57      0.51        60\n     junksci       0.55      0.77      0.64        60\n   political       0.45      0.42      0.43        60\n    reliable       0.50      0.48      0.49        60\n       rumor       0.79      0.92      0.85        60\n      satire       0.53      0.43      0.48        60\n  unreliable       0.81      0.77      0.79        60\n\n    accuracy                           0.58       660\n   macro avg       0.59      0.58      0.58       660\nweighted avg       0.59      0.58      0.58       660\n\n"
    }
   ],
   "source": [
    "from sklearn.datasets import make_classification\n",
    "from sklearn.metrics import accuracy_score, confusion_matrix, classification_report\n",
    "print(classification_report(y_true, y_pred, target_names = target_names))"
   ]
  },
  {
   "cell_type": "code",
   "execution_count": 31,
   "metadata": {},
   "outputs": [],
   "source": [
    "from sklearn.metrics import plot_confusion_matrix\n",
    "import matplotlib.pyplot as plt"
   ]
  },
  {
   "cell_type": "code",
   "execution_count": 38,
   "metadata": {},
   "outputs": [
    {
     "output_type": "display_data",
     "data": {
      "text/plain": "<Figure size 432x288 with 2 Axes>",
      "image/svg+xml": "<?xml version=\"1.0\" encoding=\"utf-8\" standalone=\"no\"?>\n<!DOCTYPE svg PUBLIC \"-//W3C//DTD SVG 1.1//EN\"\n  \"http://www.w3.org/Graphics/SVG/1.1/DTD/svg11.dtd\">\n<!-- Created with matplotlib (https://matplotlib.org/) -->\n<svg height=\"262.19625pt\" version=\"1.1\" viewBox=\"0 0 312.580125 262.19625\" width=\"312.580125pt\" xmlns=\"http://www.w3.org/2000/svg\" xmlns:xlink=\"http://www.w3.org/1999/xlink\">\n <defs>\n  <style type=\"text/css\">\n*{stroke-linecap:butt;stroke-linejoin:round;}\n  </style>\n </defs>\n <g id=\"figure_1\">\n  <g id=\"patch_1\">\n   <path d=\"M 0 262.19625 \nL 312.580125 262.19625 \nL 312.580125 0 \nL 0 0 \nz\n\" style=\"fill:none;\"/>\n  </g>\n  <g id=\"axes_1\">\n   <g id=\"patch_2\">\n    <path d=\"M 40.603125 224.64 \nL 258.043125 224.64 \nL 258.043125 7.2 \nL 40.603125 7.2 \nz\n\" style=\"fill:#ffffff;\"/>\n   </g>\n   <g clip-path=\"url(#p81616bfa01)\">\n    <image height=\"218\" id=\"image7fdac4ad8b\" transform=\"scale(1 -1)translate(0 -218)\" width=\"218\" x=\"40.603125\" xlink:href=\"data:image/png;base64,\niVBORw0KGgoAAAANSUhEUgAAANoAAADaCAYAAADAHVzbAAAABHNCSVQICAgIfAhkiAAABMpJREFUeJzt3L1qHXQcxvH/SU9exKZitVAU0hqJBa0UcXYUdKgX0EHwAsRRB0dvwmtws4u9AgWhVCjWtg412DZQkyip0Lyd4+AqTo+PHT6fC3jIyTlf/ttv8u7SlflIurgRnRs378am5ocHsa0xxpgsLkX30n/fwupqdG+2txfdS0p/F5d/eBjdW4iuAf9IaFAgNCgQGhQIDQqEBgVCgwKhQYHQoEBoUCA0KBAaFAgNCoQGBUKDAqFBgdCgQGhQIDQomJ548XR2cTd7V2K2shzbSt/kiP/vlrN3L9IWXng+O7if+z7ufPJKbGuMMb5+/dvonhcNCoQGBUKDAqFBgdCgQGhQIDQoEBoUCA0KhAYFQoMCoUGB0KBAaFAgNCgQGhQIDQqEBgVCg4Lp7PGf0cHZw63o3tPs6Cn/rJPF7A2S9M2Vaw9uxLbev/BObGuMMWbRNS8aVAgNCoQGBUKDAqFBgdCgQGhQIDQoEBoUCA0KhAYFQoMCoUGB0KBAaFAgNCgQGhQIDQqmCyefjQ6m957mcwHT82vRvSfrZ6J7K7fuR/dufX4uuvfeueSphf3gVv4MhBcNCoQGBUKDAqFBgdCgQGhQIDQoEBoUCA0KhAYFQoMCoUGB0KBAaFAgNCgQGhQIDQqEBgVCg4Lp/PRz//ff8K+my7nbDUf3NmNb/4Wl7+9E937+9GJ078JnN6N7Y2U5NpW+VXP82050z4sGBUKDAqFBgdCgQGhQIDQoEBoUCA0KhAYFQoMCoUGB0KBAaFAgNCgQGhQIDQqEBgVCgwKhQcF0bD2KDs4PDrN7wa3JYu7+yBj5GyQf/Lgd3bt6aT+6l/wu0uZLi9m9w4PonhcNCoQGBUKDAqFBgdCgQGhQIDQoEBoUCA0KhAYFQoMCoUGB0KBAaFAgNCgQGhQIDQqEBgVCg4Jp+sbH5OyZ6N7Y+T02Ndvbi22NMcbmV29G965euh3dS9+9mJ5fi+7NtndjW+nfcfqzetGgQGhQIDQoEBoUCA0KhAYFQoMCoUGB0KBAaFAgNCgQGhQIDQqEBgVCgwKhQYHQoEBoUCA0KJimB2f3fo3uTVaWY1uPv1mPbY0xxvpHj6J7xxc3onsnNh9G95I3PsbI33BJmj/Zj+550aBAaFAgNCgQGhQIDQqEBgVCgwKhQYHQoEBoUCA0KBAaFAgNCoQGBUKDAqFBgdCgQGhQIDQomE7WXsoubj6Izt3+4o3Y1muXr8e2xhhjfupkdG/h4Ci6d7y9E92bnl+L7iXvcpx4+Wxsa4wxju9vRfe8aFAgNCgQGhQIDQqEBgVCgwKhQYHQoEBoUCA0KBAaFAgNCoQGBUKDAqFBgdCgQGhQIDQomE52/ogO3v3y1ejexpXvYlvz2NLfJktL0b351qPo3uSt3BmIMcYYu3vZvaDZ9m50b354EN3zokGB0KBAaFAgNCgQGhQIDQqEBgVCgwKhQYHQoEBoUCA0KBAaFAgNCoQGBUKDAqFBgdCgQGhQMP3lw/Xo4MbHP0X3joNbC6urwbUxHr+9Ft175tqN6N7CwVF0b+yH72icOhndS0r/VrxoUCA0KBAaFAgNCoQGBUKDAqFBgdCgQGhQIDQoEBoUCA0KhAYFQoMCoUGB0KBAaFAgNCgQGhT8BVLNpG3jnEyOAAAAAElFTkSuQmCC\" y=\"-6.64\"/>\n   </g>\n   <g id=\"matplotlib.axis_1\">\n    <g id=\"xtick_1\">\n     <g id=\"line2d_1\">\n      <defs>\n       <path d=\"M 0 0 \nL 0 3.5 \n\" id=\"mba07310133\" style=\"stroke:#000000;stroke-width:0.8;\"/>\n      </defs>\n      <g>\n       <use style=\"stroke:#000000;stroke-width:0.8;\" x=\"50.486761\" xlink:href=\"#mba07310133\" y=\"224.64\"/>\n      </g>\n     </g>\n     <g id=\"text_1\">\n      <!-- 0 -->\n      <defs>\n       <path d=\"M 31.78125 66.40625 \nQ 24.171875 66.40625 20.328125 58.90625 \nQ 16.5 51.421875 16.5 36.375 \nQ 16.5 21.390625 20.328125 13.890625 \nQ 24.171875 6.390625 31.78125 6.390625 \nQ 39.453125 6.390625 43.28125 13.890625 \nQ 47.125 21.390625 47.125 36.375 \nQ 47.125 51.421875 43.28125 58.90625 \nQ 39.453125 66.40625 31.78125 66.40625 \nz\nM 31.78125 74.21875 \nQ 44.046875 74.21875 50.515625 64.515625 \nQ 56.984375 54.828125 56.984375 36.375 \nQ 56.984375 17.96875 50.515625 8.265625 \nQ 44.046875 -1.421875 31.78125 -1.421875 \nQ 19.53125 -1.421875 13.0625 8.265625 \nQ 6.59375 17.96875 6.59375 36.375 \nQ 6.59375 54.828125 13.0625 64.515625 \nQ 19.53125 74.21875 31.78125 74.21875 \nz\n\" id=\"DejaVuSans-48\"/>\n      </defs>\n      <g transform=\"translate(47.305511 239.238437)scale(0.1 -0.1)\">\n       <use xlink:href=\"#DejaVuSans-48\"/>\n      </g>\n     </g>\n    </g>\n    <g id=\"xtick_2\">\n     <g id=\"line2d_2\">\n      <g>\n       <use style=\"stroke:#000000;stroke-width:0.8;\" x=\"70.254034\" xlink:href=\"#mba07310133\" y=\"224.64\"/>\n      </g>\n     </g>\n     <g id=\"text_2\">\n      <!-- 1 -->\n      <defs>\n       <path d=\"M 12.40625 8.296875 \nL 28.515625 8.296875 \nL 28.515625 63.921875 \nL 10.984375 60.40625 \nL 10.984375 69.390625 \nL 28.421875 72.90625 \nL 38.28125 72.90625 \nL 38.28125 8.296875 \nL 54.390625 8.296875 \nL 54.390625 0 \nL 12.40625 0 \nz\n\" id=\"DejaVuSans-49\"/>\n      </defs>\n      <g transform=\"translate(67.072784 239.238437)scale(0.1 -0.1)\">\n       <use xlink:href=\"#DejaVuSans-49\"/>\n      </g>\n     </g>\n    </g>\n    <g id=\"xtick_3\">\n     <g id=\"line2d_3\">\n      <g>\n       <use style=\"stroke:#000000;stroke-width:0.8;\" x=\"90.021307\" xlink:href=\"#mba07310133\" y=\"224.64\"/>\n      </g>\n     </g>\n     <g id=\"text_3\">\n      <!-- 2 -->\n      <defs>\n       <path d=\"M 19.1875 8.296875 \nL 53.609375 8.296875 \nL 53.609375 0 \nL 7.328125 0 \nL 7.328125 8.296875 \nQ 12.9375 14.109375 22.625 23.890625 \nQ 32.328125 33.6875 34.8125 36.53125 \nQ 39.546875 41.84375 41.421875 45.53125 \nQ 43.3125 49.21875 43.3125 52.78125 \nQ 43.3125 58.59375 39.234375 62.25 \nQ 35.15625 65.921875 28.609375 65.921875 \nQ 23.96875 65.921875 18.8125 64.3125 \nQ 13.671875 62.703125 7.8125 59.421875 \nL 7.8125 69.390625 \nQ 13.765625 71.78125 18.9375 73 \nQ 24.125 74.21875 28.421875 74.21875 \nQ 39.75 74.21875 46.484375 68.546875 \nQ 53.21875 62.890625 53.21875 53.421875 \nQ 53.21875 48.921875 51.53125 44.890625 \nQ 49.859375 40.875 45.40625 35.40625 \nQ 44.1875 33.984375 37.640625 27.21875 \nQ 31.109375 20.453125 19.1875 8.296875 \nz\n\" id=\"DejaVuSans-50\"/>\n      </defs>\n      <g transform=\"translate(86.840057 239.238437)scale(0.1 -0.1)\">\n       <use xlink:href=\"#DejaVuSans-50\"/>\n      </g>\n     </g>\n    </g>\n    <g id=\"xtick_4\">\n     <g id=\"line2d_4\">\n      <g>\n       <use style=\"stroke:#000000;stroke-width:0.8;\" x=\"109.78858\" xlink:href=\"#mba07310133\" y=\"224.64\"/>\n      </g>\n     </g>\n     <g id=\"text_4\">\n      <!-- 3 -->\n      <defs>\n       <path d=\"M 40.578125 39.3125 \nQ 47.65625 37.796875 51.625 33 \nQ 55.609375 28.21875 55.609375 21.1875 \nQ 55.609375 10.40625 48.1875 4.484375 \nQ 40.765625 -1.421875 27.09375 -1.421875 \nQ 22.515625 -1.421875 17.65625 -0.515625 \nQ 12.796875 0.390625 7.625 2.203125 \nL 7.625 11.71875 \nQ 11.71875 9.328125 16.59375 8.109375 \nQ 21.484375 6.890625 26.8125 6.890625 \nQ 36.078125 6.890625 40.9375 10.546875 \nQ 45.796875 14.203125 45.796875 21.1875 \nQ 45.796875 27.640625 41.28125 31.265625 \nQ 36.765625 34.90625 28.71875 34.90625 \nL 20.21875 34.90625 \nL 20.21875 43.015625 \nL 29.109375 43.015625 \nQ 36.375 43.015625 40.234375 45.921875 \nQ 44.09375 48.828125 44.09375 54.296875 \nQ 44.09375 59.90625 40.109375 62.90625 \nQ 36.140625 65.921875 28.71875 65.921875 \nQ 24.65625 65.921875 20.015625 65.03125 \nQ 15.375 64.15625 9.8125 62.3125 \nL 9.8125 71.09375 \nQ 15.4375 72.65625 20.34375 73.4375 \nQ 25.25 74.21875 29.59375 74.21875 \nQ 40.828125 74.21875 47.359375 69.109375 \nQ 53.90625 64.015625 53.90625 55.328125 \nQ 53.90625 49.265625 50.4375 45.09375 \nQ 46.96875 40.921875 40.578125 39.3125 \nz\n\" id=\"DejaVuSans-51\"/>\n      </defs>\n      <g transform=\"translate(106.60733 239.238437)scale(0.1 -0.1)\">\n       <use xlink:href=\"#DejaVuSans-51\"/>\n      </g>\n     </g>\n    </g>\n    <g id=\"xtick_5\">\n     <g id=\"line2d_5\">\n      <g>\n       <use style=\"stroke:#000000;stroke-width:0.8;\" x=\"129.555852\" xlink:href=\"#mba07310133\" y=\"224.64\"/>\n      </g>\n     </g>\n     <g id=\"text_5\">\n      <!-- 4 -->\n      <defs>\n       <path d=\"M 37.796875 64.3125 \nL 12.890625 25.390625 \nL 37.796875 25.390625 \nz\nM 35.203125 72.90625 \nL 47.609375 72.90625 \nL 47.609375 25.390625 \nL 58.015625 25.390625 \nL 58.015625 17.1875 \nL 47.609375 17.1875 \nL 47.609375 0 \nL 37.796875 0 \nL 37.796875 17.1875 \nL 4.890625 17.1875 \nL 4.890625 26.703125 \nz\n\" id=\"DejaVuSans-52\"/>\n      </defs>\n      <g transform=\"translate(126.374602 239.238437)scale(0.1 -0.1)\">\n       <use xlink:href=\"#DejaVuSans-52\"/>\n      </g>\n     </g>\n    </g>\n    <g id=\"xtick_6\">\n     <g id=\"line2d_6\">\n      <g>\n       <use style=\"stroke:#000000;stroke-width:0.8;\" x=\"149.323125\" xlink:href=\"#mba07310133\" y=\"224.64\"/>\n      </g>\n     </g>\n     <g id=\"text_6\">\n      <!-- 5 -->\n      <defs>\n       <path d=\"M 10.796875 72.90625 \nL 49.515625 72.90625 \nL 49.515625 64.59375 \nL 19.828125 64.59375 \nL 19.828125 46.734375 \nQ 21.96875 47.46875 24.109375 47.828125 \nQ 26.265625 48.1875 28.421875 48.1875 \nQ 40.625 48.1875 47.75 41.5 \nQ 54.890625 34.8125 54.890625 23.390625 \nQ 54.890625 11.625 47.5625 5.09375 \nQ 40.234375 -1.421875 26.90625 -1.421875 \nQ 22.3125 -1.421875 17.546875 -0.640625 \nQ 12.796875 0.140625 7.71875 1.703125 \nL 7.71875 11.625 \nQ 12.109375 9.234375 16.796875 8.0625 \nQ 21.484375 6.890625 26.703125 6.890625 \nQ 35.15625 6.890625 40.078125 11.328125 \nQ 45.015625 15.765625 45.015625 23.390625 \nQ 45.015625 31 40.078125 35.4375 \nQ 35.15625 39.890625 26.703125 39.890625 \nQ 22.75 39.890625 18.8125 39.015625 \nQ 14.890625 38.140625 10.796875 36.28125 \nz\n\" id=\"DejaVuSans-53\"/>\n      </defs>\n      <g transform=\"translate(146.141875 239.238437)scale(0.1 -0.1)\">\n       <use xlink:href=\"#DejaVuSans-53\"/>\n      </g>\n     </g>\n    </g>\n    <g id=\"xtick_7\">\n     <g id=\"line2d_7\">\n      <g>\n       <use style=\"stroke:#000000;stroke-width:0.8;\" x=\"169.090398\" xlink:href=\"#mba07310133\" y=\"224.64\"/>\n      </g>\n     </g>\n     <g id=\"text_7\">\n      <!-- 6 -->\n      <defs>\n       <path d=\"M 33.015625 40.375 \nQ 26.375 40.375 22.484375 35.828125 \nQ 18.609375 31.296875 18.609375 23.390625 \nQ 18.609375 15.53125 22.484375 10.953125 \nQ 26.375 6.390625 33.015625 6.390625 \nQ 39.65625 6.390625 43.53125 10.953125 \nQ 47.40625 15.53125 47.40625 23.390625 \nQ 47.40625 31.296875 43.53125 35.828125 \nQ 39.65625 40.375 33.015625 40.375 \nz\nM 52.59375 71.296875 \nL 52.59375 62.3125 \nQ 48.875 64.0625 45.09375 64.984375 \nQ 41.3125 65.921875 37.59375 65.921875 \nQ 27.828125 65.921875 22.671875 59.328125 \nQ 17.53125 52.734375 16.796875 39.40625 \nQ 19.671875 43.65625 24.015625 45.921875 \nQ 28.375 48.1875 33.59375 48.1875 \nQ 44.578125 48.1875 50.953125 41.515625 \nQ 57.328125 34.859375 57.328125 23.390625 \nQ 57.328125 12.15625 50.6875 5.359375 \nQ 44.046875 -1.421875 33.015625 -1.421875 \nQ 20.359375 -1.421875 13.671875 8.265625 \nQ 6.984375 17.96875 6.984375 36.375 \nQ 6.984375 53.65625 15.1875 63.9375 \nQ 23.390625 74.21875 37.203125 74.21875 \nQ 40.921875 74.21875 44.703125 73.484375 \nQ 48.484375 72.75 52.59375 71.296875 \nz\n\" id=\"DejaVuSans-54\"/>\n      </defs>\n      <g transform=\"translate(165.909148 239.238437)scale(0.1 -0.1)\">\n       <use xlink:href=\"#DejaVuSans-54\"/>\n      </g>\n     </g>\n    </g>\n    <g id=\"xtick_8\">\n     <g id=\"line2d_8\">\n      <g>\n       <use style=\"stroke:#000000;stroke-width:0.8;\" x=\"188.85767\" xlink:href=\"#mba07310133\" y=\"224.64\"/>\n      </g>\n     </g>\n     <g id=\"text_8\">\n      <!-- 7 -->\n      <defs>\n       <path d=\"M 8.203125 72.90625 \nL 55.078125 72.90625 \nL 55.078125 68.703125 \nL 28.609375 0 \nL 18.3125 0 \nL 43.21875 64.59375 \nL 8.203125 64.59375 \nz\n\" id=\"DejaVuSans-55\"/>\n      </defs>\n      <g transform=\"translate(185.67642 239.238437)scale(0.1 -0.1)\">\n       <use xlink:href=\"#DejaVuSans-55\"/>\n      </g>\n     </g>\n    </g>\n    <g id=\"xtick_9\">\n     <g id=\"line2d_9\">\n      <g>\n       <use style=\"stroke:#000000;stroke-width:0.8;\" x=\"208.624943\" xlink:href=\"#mba07310133\" y=\"224.64\"/>\n      </g>\n     </g>\n     <g id=\"text_9\">\n      <!-- 8 -->\n      <defs>\n       <path d=\"M 31.78125 34.625 \nQ 24.75 34.625 20.71875 30.859375 \nQ 16.703125 27.09375 16.703125 20.515625 \nQ 16.703125 13.921875 20.71875 10.15625 \nQ 24.75 6.390625 31.78125 6.390625 \nQ 38.8125 6.390625 42.859375 10.171875 \nQ 46.921875 13.96875 46.921875 20.515625 \nQ 46.921875 27.09375 42.890625 30.859375 \nQ 38.875 34.625 31.78125 34.625 \nz\nM 21.921875 38.8125 \nQ 15.578125 40.375 12.03125 44.71875 \nQ 8.5 49.078125 8.5 55.328125 \nQ 8.5 64.0625 14.71875 69.140625 \nQ 20.953125 74.21875 31.78125 74.21875 \nQ 42.671875 74.21875 48.875 69.140625 \nQ 55.078125 64.0625 55.078125 55.328125 \nQ 55.078125 49.078125 51.53125 44.71875 \nQ 48 40.375 41.703125 38.8125 \nQ 48.828125 37.15625 52.796875 32.3125 \nQ 56.78125 27.484375 56.78125 20.515625 \nQ 56.78125 9.90625 50.3125 4.234375 \nQ 43.84375 -1.421875 31.78125 -1.421875 \nQ 19.734375 -1.421875 13.25 4.234375 \nQ 6.78125 9.90625 6.78125 20.515625 \nQ 6.78125 27.484375 10.78125 32.3125 \nQ 14.796875 37.15625 21.921875 38.8125 \nz\nM 18.3125 54.390625 \nQ 18.3125 48.734375 21.84375 45.5625 \nQ 25.390625 42.390625 31.78125 42.390625 \nQ 38.140625 42.390625 41.71875 45.5625 \nQ 45.3125 48.734375 45.3125 54.390625 \nQ 45.3125 60.0625 41.71875 63.234375 \nQ 38.140625 66.40625 31.78125 66.40625 \nQ 25.390625 66.40625 21.84375 63.234375 \nQ 18.3125 60.0625 18.3125 54.390625 \nz\n\" id=\"DejaVuSans-56\"/>\n      </defs>\n      <g transform=\"translate(205.443693 239.238437)scale(0.1 -0.1)\">\n       <use xlink:href=\"#DejaVuSans-56\"/>\n      </g>\n     </g>\n    </g>\n    <g id=\"xtick_10\">\n     <g id=\"line2d_10\">\n      <g>\n       <use style=\"stroke:#000000;stroke-width:0.8;\" x=\"228.392216\" xlink:href=\"#mba07310133\" y=\"224.64\"/>\n      </g>\n     </g>\n     <g id=\"text_10\">\n      <!-- 9 -->\n      <defs>\n       <path d=\"M 10.984375 1.515625 \nL 10.984375 10.5 \nQ 14.703125 8.734375 18.5 7.8125 \nQ 22.3125 6.890625 25.984375 6.890625 \nQ 35.75 6.890625 40.890625 13.453125 \nQ 46.046875 20.015625 46.78125 33.40625 \nQ 43.953125 29.203125 39.59375 26.953125 \nQ 35.25 24.703125 29.984375 24.703125 \nQ 19.046875 24.703125 12.671875 31.3125 \nQ 6.296875 37.9375 6.296875 49.421875 \nQ 6.296875 60.640625 12.9375 67.421875 \nQ 19.578125 74.21875 30.609375 74.21875 \nQ 43.265625 74.21875 49.921875 64.515625 \nQ 56.59375 54.828125 56.59375 36.375 \nQ 56.59375 19.140625 48.40625 8.859375 \nQ 40.234375 -1.421875 26.421875 -1.421875 \nQ 22.703125 -1.421875 18.890625 -0.6875 \nQ 15.09375 0.046875 10.984375 1.515625 \nz\nM 30.609375 32.421875 \nQ 37.25 32.421875 41.125 36.953125 \nQ 45.015625 41.5 45.015625 49.421875 \nQ 45.015625 57.28125 41.125 61.84375 \nQ 37.25 66.40625 30.609375 66.40625 \nQ 23.96875 66.40625 20.09375 61.84375 \nQ 16.21875 57.28125 16.21875 49.421875 \nQ 16.21875 41.5 20.09375 36.953125 \nQ 23.96875 32.421875 30.609375 32.421875 \nz\n\" id=\"DejaVuSans-57\"/>\n      </defs>\n      <g transform=\"translate(225.210966 239.238437)scale(0.1 -0.1)\">\n       <use xlink:href=\"#DejaVuSans-57\"/>\n      </g>\n     </g>\n    </g>\n    <g id=\"xtick_11\">\n     <g id=\"line2d_11\">\n      <g>\n       <use style=\"stroke:#000000;stroke-width:0.8;\" x=\"248.159489\" xlink:href=\"#mba07310133\" y=\"224.64\"/>\n      </g>\n     </g>\n     <g id=\"text_11\">\n      <!-- 10 -->\n      <g transform=\"translate(241.796989 239.238437)scale(0.1 -0.1)\">\n       <use xlink:href=\"#DejaVuSans-49\"/>\n       <use x=\"63.623047\" xlink:href=\"#DejaVuSans-48\"/>\n      </g>\n     </g>\n    </g>\n    <g id=\"text_12\">\n     <!-- Predicted label -->\n     <defs>\n      <path d=\"M 19.671875 64.796875 \nL 19.671875 37.40625 \nL 32.078125 37.40625 \nQ 38.96875 37.40625 42.71875 40.96875 \nQ 46.484375 44.53125 46.484375 51.125 \nQ 46.484375 57.671875 42.71875 61.234375 \nQ 38.96875 64.796875 32.078125 64.796875 \nz\nM 9.8125 72.90625 \nL 32.078125 72.90625 \nQ 44.34375 72.90625 50.609375 67.359375 \nQ 56.890625 61.8125 56.890625 51.125 \nQ 56.890625 40.328125 50.609375 34.8125 \nQ 44.34375 29.296875 32.078125 29.296875 \nL 19.671875 29.296875 \nL 19.671875 0 \nL 9.8125 0 \nz\n\" id=\"DejaVuSans-80\"/>\n      <path d=\"M 41.109375 46.296875 \nQ 39.59375 47.171875 37.8125 47.578125 \nQ 36.03125 48 33.890625 48 \nQ 26.265625 48 22.1875 43.046875 \nQ 18.109375 38.09375 18.109375 28.8125 \nL 18.109375 0 \nL 9.078125 0 \nL 9.078125 54.6875 \nL 18.109375 54.6875 \nL 18.109375 46.1875 \nQ 20.953125 51.171875 25.484375 53.578125 \nQ 30.03125 56 36.53125 56 \nQ 37.453125 56 38.578125 55.875 \nQ 39.703125 55.765625 41.0625 55.515625 \nz\n\" id=\"DejaVuSans-114\"/>\n      <path d=\"M 56.203125 29.59375 \nL 56.203125 25.203125 \nL 14.890625 25.203125 \nQ 15.484375 15.921875 20.484375 11.0625 \nQ 25.484375 6.203125 34.421875 6.203125 \nQ 39.59375 6.203125 44.453125 7.46875 \nQ 49.3125 8.734375 54.109375 11.28125 \nL 54.109375 2.78125 \nQ 49.265625 0.734375 44.1875 -0.34375 \nQ 39.109375 -1.421875 33.890625 -1.421875 \nQ 20.796875 -1.421875 13.15625 6.1875 \nQ 5.515625 13.8125 5.515625 26.8125 \nQ 5.515625 40.234375 12.765625 48.109375 \nQ 20.015625 56 32.328125 56 \nQ 43.359375 56 49.78125 48.890625 \nQ 56.203125 41.796875 56.203125 29.59375 \nz\nM 47.21875 32.234375 \nQ 47.125 39.59375 43.09375 43.984375 \nQ 39.0625 48.390625 32.421875 48.390625 \nQ 24.90625 48.390625 20.390625 44.140625 \nQ 15.875 39.890625 15.1875 32.171875 \nz\n\" id=\"DejaVuSans-101\"/>\n      <path d=\"M 45.40625 46.390625 \nL 45.40625 75.984375 \nL 54.390625 75.984375 \nL 54.390625 0 \nL 45.40625 0 \nL 45.40625 8.203125 \nQ 42.578125 3.328125 38.25 0.953125 \nQ 33.9375 -1.421875 27.875 -1.421875 \nQ 17.96875 -1.421875 11.734375 6.484375 \nQ 5.515625 14.40625 5.515625 27.296875 \nQ 5.515625 40.1875 11.734375 48.09375 \nQ 17.96875 56 27.875 56 \nQ 33.9375 56 38.25 53.625 \nQ 42.578125 51.265625 45.40625 46.390625 \nz\nM 14.796875 27.296875 \nQ 14.796875 17.390625 18.875 11.75 \nQ 22.953125 6.109375 30.078125 6.109375 \nQ 37.203125 6.109375 41.296875 11.75 \nQ 45.40625 17.390625 45.40625 27.296875 \nQ 45.40625 37.203125 41.296875 42.84375 \nQ 37.203125 48.484375 30.078125 48.484375 \nQ 22.953125 48.484375 18.875 42.84375 \nQ 14.796875 37.203125 14.796875 27.296875 \nz\n\" id=\"DejaVuSans-100\"/>\n      <path d=\"M 9.421875 54.6875 \nL 18.40625 54.6875 \nL 18.40625 0 \nL 9.421875 0 \nz\nM 9.421875 75.984375 \nL 18.40625 75.984375 \nL 18.40625 64.59375 \nL 9.421875 64.59375 \nz\n\" id=\"DejaVuSans-105\"/>\n      <path d=\"M 48.78125 52.59375 \nL 48.78125 44.1875 \nQ 44.96875 46.296875 41.140625 47.34375 \nQ 37.3125 48.390625 33.40625 48.390625 \nQ 24.65625 48.390625 19.8125 42.84375 \nQ 14.984375 37.3125 14.984375 27.296875 \nQ 14.984375 17.28125 19.8125 11.734375 \nQ 24.65625 6.203125 33.40625 6.203125 \nQ 37.3125 6.203125 41.140625 7.25 \nQ 44.96875 8.296875 48.78125 10.40625 \nL 48.78125 2.09375 \nQ 45.015625 0.34375 40.984375 -0.53125 \nQ 36.96875 -1.421875 32.421875 -1.421875 \nQ 20.0625 -1.421875 12.78125 6.34375 \nQ 5.515625 14.109375 5.515625 27.296875 \nQ 5.515625 40.671875 12.859375 48.328125 \nQ 20.21875 56 33.015625 56 \nQ 37.15625 56 41.109375 55.140625 \nQ 45.0625 54.296875 48.78125 52.59375 \nz\n\" id=\"DejaVuSans-99\"/>\n      <path d=\"M 18.3125 70.21875 \nL 18.3125 54.6875 \nL 36.8125 54.6875 \nL 36.8125 47.703125 \nL 18.3125 47.703125 \nL 18.3125 18.015625 \nQ 18.3125 11.328125 20.140625 9.421875 \nQ 21.96875 7.515625 27.59375 7.515625 \nL 36.8125 7.515625 \nL 36.8125 0 \nL 27.59375 0 \nQ 17.1875 0 13.234375 3.875 \nQ 9.28125 7.765625 9.28125 18.015625 \nL 9.28125 47.703125 \nL 2.6875 47.703125 \nL 2.6875 54.6875 \nL 9.28125 54.6875 \nL 9.28125 70.21875 \nz\n\" id=\"DejaVuSans-116\"/>\n      <path id=\"DejaVuSans-32\"/>\n      <path d=\"M 9.421875 75.984375 \nL 18.40625 75.984375 \nL 18.40625 0 \nL 9.421875 0 \nz\n\" id=\"DejaVuSans-108\"/>\n      <path d=\"M 34.28125 27.484375 \nQ 23.390625 27.484375 19.1875 25 \nQ 14.984375 22.515625 14.984375 16.5 \nQ 14.984375 11.71875 18.140625 8.90625 \nQ 21.296875 6.109375 26.703125 6.109375 \nQ 34.1875 6.109375 38.703125 11.40625 \nQ 43.21875 16.703125 43.21875 25.484375 \nL 43.21875 27.484375 \nz\nM 52.203125 31.203125 \nL 52.203125 0 \nL 43.21875 0 \nL 43.21875 8.296875 \nQ 40.140625 3.328125 35.546875 0.953125 \nQ 30.953125 -1.421875 24.3125 -1.421875 \nQ 15.921875 -1.421875 10.953125 3.296875 \nQ 6 8.015625 6 15.921875 \nQ 6 25.140625 12.171875 29.828125 \nQ 18.359375 34.515625 30.609375 34.515625 \nL 43.21875 34.515625 \nL 43.21875 35.40625 \nQ 43.21875 41.609375 39.140625 45 \nQ 35.0625 48.390625 27.6875 48.390625 \nQ 23 48.390625 18.546875 47.265625 \nQ 14.109375 46.140625 10.015625 43.890625 \nL 10.015625 52.203125 \nQ 14.9375 54.109375 19.578125 55.046875 \nQ 24.21875 56 28.609375 56 \nQ 40.484375 56 46.34375 49.84375 \nQ 52.203125 43.703125 52.203125 31.203125 \nz\n\" id=\"DejaVuSans-97\"/>\n      <path d=\"M 48.6875 27.296875 \nQ 48.6875 37.203125 44.609375 42.84375 \nQ 40.53125 48.484375 33.40625 48.484375 \nQ 26.265625 48.484375 22.1875 42.84375 \nQ 18.109375 37.203125 18.109375 27.296875 \nQ 18.109375 17.390625 22.1875 11.75 \nQ 26.265625 6.109375 33.40625 6.109375 \nQ 40.53125 6.109375 44.609375 11.75 \nQ 48.6875 17.390625 48.6875 27.296875 \nz\nM 18.109375 46.390625 \nQ 20.953125 51.265625 25.265625 53.625 \nQ 29.59375 56 35.59375 56 \nQ 45.5625 56 51.78125 48.09375 \nQ 58.015625 40.1875 58.015625 27.296875 \nQ 58.015625 14.40625 51.78125 6.484375 \nQ 45.5625 -1.421875 35.59375 -1.421875 \nQ 29.59375 -1.421875 25.265625 0.953125 \nQ 20.953125 3.328125 18.109375 8.203125 \nL 18.109375 0 \nL 9.078125 0 \nL 9.078125 75.984375 \nL 18.109375 75.984375 \nz\n\" id=\"DejaVuSans-98\"/>\n     </defs>\n     <g transform=\"translate(111.973125 252.916562)scale(0.1 -0.1)\">\n      <use xlink:href=\"#DejaVuSans-80\"/>\n      <use x=\"60.287109\" xlink:href=\"#DejaVuSans-114\"/>\n      <use x=\"101.369141\" xlink:href=\"#DejaVuSans-101\"/>\n      <use x=\"162.892578\" xlink:href=\"#DejaVuSans-100\"/>\n      <use x=\"226.369141\" xlink:href=\"#DejaVuSans-105\"/>\n      <use x=\"254.152344\" xlink:href=\"#DejaVuSans-99\"/>\n      <use x=\"309.132812\" xlink:href=\"#DejaVuSans-116\"/>\n      <use x=\"348.341797\" xlink:href=\"#DejaVuSans-101\"/>\n      <use x=\"409.865234\" xlink:href=\"#DejaVuSans-100\"/>\n      <use x=\"473.341797\" xlink:href=\"#DejaVuSans-32\"/>\n      <use x=\"505.128906\" xlink:href=\"#DejaVuSans-108\"/>\n      <use x=\"532.912109\" xlink:href=\"#DejaVuSans-97\"/>\n      <use x=\"594.191406\" xlink:href=\"#DejaVuSans-98\"/>\n      <use x=\"657.667969\" xlink:href=\"#DejaVuSans-101\"/>\n      <use x=\"719.191406\" xlink:href=\"#DejaVuSans-108\"/>\n     </g>\n    </g>\n   </g>\n   <g id=\"matplotlib.axis_2\">\n    <g id=\"ytick_1\">\n     <g id=\"line2d_12\">\n      <defs>\n       <path d=\"M 0 0 \nL -3.5 0 \n\" id=\"m3bb2d9a6e5\" style=\"stroke:#000000;stroke-width:0.8;\"/>\n      </defs>\n      <g>\n       <use style=\"stroke:#000000;stroke-width:0.8;\" x=\"40.603125\" xlink:href=\"#m3bb2d9a6e5\" y=\"17.083636\"/>\n      </g>\n     </g>\n     <g id=\"text_13\">\n      <!-- 0 -->\n      <g transform=\"translate(27.240625 20.882855)scale(0.1 -0.1)\">\n       <use xlink:href=\"#DejaVuSans-48\"/>\n      </g>\n     </g>\n    </g>\n    <g id=\"ytick_2\">\n     <g id=\"line2d_13\">\n      <g>\n       <use style=\"stroke:#000000;stroke-width:0.8;\" x=\"40.603125\" xlink:href=\"#m3bb2d9a6e5\" y=\"36.850909\"/>\n      </g>\n     </g>\n     <g id=\"text_14\">\n      <!-- 1 -->\n      <g transform=\"translate(27.240625 40.650128)scale(0.1 -0.1)\">\n       <use xlink:href=\"#DejaVuSans-49\"/>\n      </g>\n     </g>\n    </g>\n    <g id=\"ytick_3\">\n     <g id=\"line2d_14\">\n      <g>\n       <use style=\"stroke:#000000;stroke-width:0.8;\" x=\"40.603125\" xlink:href=\"#m3bb2d9a6e5\" y=\"56.618182\"/>\n      </g>\n     </g>\n     <g id=\"text_15\">\n      <!-- 2 -->\n      <g transform=\"translate(27.240625 60.417401)scale(0.1 -0.1)\">\n       <use xlink:href=\"#DejaVuSans-50\"/>\n      </g>\n     </g>\n    </g>\n    <g id=\"ytick_4\">\n     <g id=\"line2d_15\">\n      <g>\n       <use style=\"stroke:#000000;stroke-width:0.8;\" x=\"40.603125\" xlink:href=\"#m3bb2d9a6e5\" y=\"76.385455\"/>\n      </g>\n     </g>\n     <g id=\"text_16\">\n      <!-- 3 -->\n      <g transform=\"translate(27.240625 80.184673)scale(0.1 -0.1)\">\n       <use xlink:href=\"#DejaVuSans-51\"/>\n      </g>\n     </g>\n    </g>\n    <g id=\"ytick_5\">\n     <g id=\"line2d_16\">\n      <g>\n       <use style=\"stroke:#000000;stroke-width:0.8;\" x=\"40.603125\" xlink:href=\"#m3bb2d9a6e5\" y=\"96.152727\"/>\n      </g>\n     </g>\n     <g id=\"text_17\">\n      <!-- 4 -->\n      <g transform=\"translate(27.240625 99.951946)scale(0.1 -0.1)\">\n       <use xlink:href=\"#DejaVuSans-52\"/>\n      </g>\n     </g>\n    </g>\n    <g id=\"ytick_6\">\n     <g id=\"line2d_17\">\n      <g>\n       <use style=\"stroke:#000000;stroke-width:0.8;\" x=\"40.603125\" xlink:href=\"#m3bb2d9a6e5\" y=\"115.92\"/>\n      </g>\n     </g>\n     <g id=\"text_18\">\n      <!-- 5 -->\n      <g transform=\"translate(27.240625 119.719219)scale(0.1 -0.1)\">\n       <use xlink:href=\"#DejaVuSans-53\"/>\n      </g>\n     </g>\n    </g>\n    <g id=\"ytick_7\">\n     <g id=\"line2d_18\">\n      <g>\n       <use style=\"stroke:#000000;stroke-width:0.8;\" x=\"40.603125\" xlink:href=\"#m3bb2d9a6e5\" y=\"135.687273\"/>\n      </g>\n     </g>\n     <g id=\"text_19\">\n      <!-- 6 -->\n      <g transform=\"translate(27.240625 139.486491)scale(0.1 -0.1)\">\n       <use xlink:href=\"#DejaVuSans-54\"/>\n      </g>\n     </g>\n    </g>\n    <g id=\"ytick_8\">\n     <g id=\"line2d_19\">\n      <g>\n       <use style=\"stroke:#000000;stroke-width:0.8;\" x=\"40.603125\" xlink:href=\"#m3bb2d9a6e5\" y=\"155.454545\"/>\n      </g>\n     </g>\n     <g id=\"text_20\">\n      <!-- 7 -->\n      <g transform=\"translate(27.240625 159.253764)scale(0.1 -0.1)\">\n       <use xlink:href=\"#DejaVuSans-55\"/>\n      </g>\n     </g>\n    </g>\n    <g id=\"ytick_9\">\n     <g id=\"line2d_20\">\n      <g>\n       <use style=\"stroke:#000000;stroke-width:0.8;\" x=\"40.603125\" xlink:href=\"#m3bb2d9a6e5\" y=\"175.221818\"/>\n      </g>\n     </g>\n     <g id=\"text_21\">\n      <!-- 8 -->\n      <g transform=\"translate(27.240625 179.021037)scale(0.1 -0.1)\">\n       <use xlink:href=\"#DejaVuSans-56\"/>\n      </g>\n     </g>\n    </g>\n    <g id=\"ytick_10\">\n     <g id=\"line2d_21\">\n      <g>\n       <use style=\"stroke:#000000;stroke-width:0.8;\" x=\"40.603125\" xlink:href=\"#m3bb2d9a6e5\" y=\"194.989091\"/>\n      </g>\n     </g>\n     <g id=\"text_22\">\n      <!-- 9 -->\n      <g transform=\"translate(27.240625 198.78831)scale(0.1 -0.1)\">\n       <use xlink:href=\"#DejaVuSans-57\"/>\n      </g>\n     </g>\n    </g>\n    <g id=\"ytick_11\">\n     <g id=\"line2d_22\">\n      <g>\n       <use style=\"stroke:#000000;stroke-width:0.8;\" x=\"40.603125\" xlink:href=\"#m3bb2d9a6e5\" y=\"214.756364\"/>\n      </g>\n     </g>\n     <g id=\"text_23\">\n      <!-- 10 -->\n      <g transform=\"translate(20.878125 218.555582)scale(0.1 -0.1)\">\n       <use xlink:href=\"#DejaVuSans-49\"/>\n       <use x=\"63.623047\" xlink:href=\"#DejaVuSans-48\"/>\n      </g>\n     </g>\n    </g>\n    <g id=\"text_24\">\n     <!-- True label -->\n     <defs>\n      <path d=\"M -0.296875 72.90625 \nL 61.375 72.90625 \nL 61.375 64.59375 \nL 35.5 64.59375 \nL 35.5 0 \nL 25.59375 0 \nL 25.59375 64.59375 \nL -0.296875 64.59375 \nz\n\" id=\"DejaVuSans-84\"/>\n      <path d=\"M 8.5 21.578125 \nL 8.5 54.6875 \nL 17.484375 54.6875 \nL 17.484375 21.921875 \nQ 17.484375 14.15625 20.5 10.265625 \nQ 23.53125 6.390625 29.59375 6.390625 \nQ 36.859375 6.390625 41.078125 11.03125 \nQ 45.3125 15.671875 45.3125 23.6875 \nL 45.3125 54.6875 \nL 54.296875 54.6875 \nL 54.296875 0 \nL 45.3125 0 \nL 45.3125 8.40625 \nQ 42.046875 3.421875 37.71875 1 \nQ 33.40625 -1.421875 27.6875 -1.421875 \nQ 18.265625 -1.421875 13.375 4.4375 \nQ 8.5 10.296875 8.5 21.578125 \nz\nM 31.109375 56 \nz\n\" id=\"DejaVuSans-117\"/>\n     </defs>\n     <g transform=\"translate(14.798438 140.945781)rotate(-90)scale(0.1 -0.1)\">\n      <use xlink:href=\"#DejaVuSans-84\"/>\n      <use x=\"60.865234\" xlink:href=\"#DejaVuSans-114\"/>\n      <use x=\"101.978516\" xlink:href=\"#DejaVuSans-117\"/>\n      <use x=\"165.357422\" xlink:href=\"#DejaVuSans-101\"/>\n      <use x=\"226.880859\" xlink:href=\"#DejaVuSans-32\"/>\n      <use x=\"258.667969\" xlink:href=\"#DejaVuSans-108\"/>\n      <use x=\"286.451172\" xlink:href=\"#DejaVuSans-97\"/>\n      <use x=\"347.730469\" xlink:href=\"#DejaVuSans-98\"/>\n      <use x=\"411.207031\" xlink:href=\"#DejaVuSans-101\"/>\n      <use x=\"472.730469\" xlink:href=\"#DejaVuSans-108\"/>\n     </g>\n    </g>\n   </g>\n   <g id=\"patch_3\">\n    <path d=\"M 40.603125 224.64 \nL 40.603125 7.2 \n\" style=\"fill:none;stroke:#000000;stroke-linecap:square;stroke-linejoin:miter;stroke-width:0.8;\"/>\n   </g>\n   <g id=\"patch_4\">\n    <path d=\"M 258.043125 224.64 \nL 258.043125 7.2 \n\" style=\"fill:none;stroke:#000000;stroke-linecap:square;stroke-linejoin:miter;stroke-width:0.8;\"/>\n   </g>\n   <g id=\"patch_5\">\n    <path d=\"M 40.603125 224.64 \nL 258.043125 224.64 \n\" style=\"fill:none;stroke:#000000;stroke-linecap:square;stroke-linejoin:miter;stroke-width:0.8;\"/>\n   </g>\n   <g id=\"patch_6\">\n    <path d=\"M 40.603125 7.2 \nL 258.043125 7.2 \n\" style=\"fill:none;stroke:#000000;stroke-linecap:square;stroke-linejoin:miter;stroke-width:0.8;\"/>\n   </g>\n   <g id=\"text_25\">\n    <!-- 22 -->\n    <g style=\"fill:#fde725;\" transform=\"translate(44.124261 19.843011)scale(0.1 -0.1)\">\n     <use xlink:href=\"#DejaVuSans-50\"/>\n     <use x=\"63.623047\" xlink:href=\"#DejaVuSans-50\"/>\n    </g>\n   </g>\n   <g id=\"text_26\">\n    <!-- 3 -->\n    <g style=\"fill:#fde725;\" transform=\"translate(67.072784 19.843011)scale(0.1 -0.1)\">\n     <use xlink:href=\"#DejaVuSans-51\"/>\n    </g>\n   </g>\n   <g id=\"text_27\">\n    <!-- 0 -->\n    <g style=\"fill:#fde725;\" transform=\"translate(86.840057 19.843011)scale(0.1 -0.1)\">\n     <use xlink:href=\"#DejaVuSans-48\"/>\n    </g>\n   </g>\n   <g id=\"text_28\">\n    <!-- 2 -->\n    <g style=\"fill:#fde725;\" transform=\"translate(106.60733 19.843011)scale(0.1 -0.1)\">\n     <use xlink:href=\"#DejaVuSans-50\"/>\n    </g>\n   </g>\n   <g id=\"text_29\">\n    <!-- 13 -->\n    <g style=\"fill:#fde725;\" transform=\"translate(123.193352 19.843011)scale(0.1 -0.1)\">\n     <use xlink:href=\"#DejaVuSans-49\"/>\n     <use x=\"63.623047\" xlink:href=\"#DejaVuSans-51\"/>\n    </g>\n   </g>\n   <g id=\"text_30\">\n    <!-- 1 -->\n    <g style=\"fill:#fde725;\" transform=\"translate(146.141875 19.843011)scale(0.1 -0.1)\">\n     <use xlink:href=\"#DejaVuSans-49\"/>\n    </g>\n   </g>\n   <g id=\"text_31\">\n    <!-- 7 -->\n    <g style=\"fill:#fde725;\" transform=\"translate(165.909148 19.843011)scale(0.1 -0.1)\">\n     <use xlink:href=\"#DejaVuSans-55\"/>\n    </g>\n   </g>\n   <g id=\"text_32\">\n    <!-- 4 -->\n    <g style=\"fill:#fde725;\" transform=\"translate(185.67642 19.843011)scale(0.1 -0.1)\">\n     <use xlink:href=\"#DejaVuSans-52\"/>\n    </g>\n   </g>\n   <g id=\"text_33\">\n    <!-- 3 -->\n    <g style=\"fill:#fde725;\" transform=\"translate(205.443693 19.843011)scale(0.1 -0.1)\">\n     <use xlink:href=\"#DejaVuSans-51\"/>\n    </g>\n   </g>\n   <g id=\"text_34\">\n    <!-- 3 -->\n    <g style=\"fill:#fde725;\" transform=\"translate(225.210966 19.843011)scale(0.1 -0.1)\">\n     <use xlink:href=\"#DejaVuSans-51\"/>\n    </g>\n   </g>\n   <g id=\"text_35\">\n    <!-- 2 -->\n    <g style=\"fill:#fde725;\" transform=\"translate(244.978239 19.843011)scale(0.1 -0.1)\">\n     <use xlink:href=\"#DejaVuSans-50\"/>\n    </g>\n   </g>\n   <g id=\"text_36\">\n    <!-- 4 -->\n    <g style=\"fill:#fde725;\" transform=\"translate(47.305511 39.610284)scale(0.1 -0.1)\">\n     <use xlink:href=\"#DejaVuSans-52\"/>\n    </g>\n   </g>\n   <g id=\"text_37\">\n    <!-- 33 -->\n    <g style=\"fill:#440154;\" transform=\"translate(63.891534 39.610284)scale(0.1 -0.1)\">\n     <use xlink:href=\"#DejaVuSans-51\"/>\n     <use x=\"63.623047\" xlink:href=\"#DejaVuSans-51\"/>\n    </g>\n   </g>\n   <g id=\"text_38\">\n    <!-- 0 -->\n    <g style=\"fill:#fde725;\" transform=\"translate(86.840057 39.610284)scale(0.1 -0.1)\">\n     <use xlink:href=\"#DejaVuSans-48\"/>\n    </g>\n   </g>\n   <g id=\"text_39\">\n    <!-- 0 -->\n    <g style=\"fill:#fde725;\" transform=\"translate(106.60733 39.610284)scale(0.1 -0.1)\">\n     <use xlink:href=\"#DejaVuSans-48\"/>\n    </g>\n   </g>\n   <g id=\"text_40\">\n    <!-- 4 -->\n    <g style=\"fill:#fde725;\" transform=\"translate(126.374602 39.610284)scale(0.1 -0.1)\">\n     <use xlink:href=\"#DejaVuSans-52\"/>\n    </g>\n   </g>\n   <g id=\"text_41\">\n    <!-- 3 -->\n    <g style=\"fill:#fde725;\" transform=\"translate(146.141875 39.610284)scale(0.1 -0.1)\">\n     <use xlink:href=\"#DejaVuSans-51\"/>\n    </g>\n   </g>\n   <g id=\"text_42\">\n    <!-- 8 -->\n    <g style=\"fill:#fde725;\" transform=\"translate(165.909148 39.610284)scale(0.1 -0.1)\">\n     <use xlink:href=\"#DejaVuSans-56\"/>\n    </g>\n   </g>\n   <g id=\"text_43\">\n    <!-- 5 -->\n    <g style=\"fill:#fde725;\" transform=\"translate(185.67642 39.610284)scale(0.1 -0.1)\">\n     <use xlink:href=\"#DejaVuSans-53\"/>\n    </g>\n   </g>\n   <g id=\"text_44\">\n    <!-- 1 -->\n    <g style=\"fill:#fde725;\" transform=\"translate(205.443693 39.610284)scale(0.1 -0.1)\">\n     <use xlink:href=\"#DejaVuSans-49\"/>\n    </g>\n   </g>\n   <g id=\"text_45\">\n    <!-- 2 -->\n    <g style=\"fill:#fde725;\" transform=\"translate(225.210966 39.610284)scale(0.1 -0.1)\">\n     <use xlink:href=\"#DejaVuSans-50\"/>\n    </g>\n   </g>\n   <g id=\"text_46\">\n    <!-- 0 -->\n    <g style=\"fill:#fde725;\" transform=\"translate(244.978239 39.610284)scale(0.1 -0.1)\">\n     <use xlink:href=\"#DejaVuSans-48\"/>\n    </g>\n   </g>\n   <g id=\"text_47\">\n    <!-- 7 -->\n    <g style=\"fill:#fde725;\" transform=\"translate(47.305511 59.377557)scale(0.1 -0.1)\">\n     <use xlink:href=\"#DejaVuSans-55\"/>\n    </g>\n   </g>\n   <g id=\"text_48\">\n    <!-- 2 -->\n    <g style=\"fill:#fde725;\" transform=\"translate(67.072784 59.377557)scale(0.1 -0.1)\">\n     <use xlink:href=\"#DejaVuSans-50\"/>\n    </g>\n   </g>\n   <g id=\"text_49\">\n    <!-- 28 -->\n    <g style=\"fill:#440154;\" transform=\"translate(83.658807 59.377557)scale(0.1 -0.1)\">\n     <use xlink:href=\"#DejaVuSans-50\"/>\n     <use x=\"63.623047\" xlink:href=\"#DejaVuSans-56\"/>\n    </g>\n   </g>\n   <g id=\"text_50\">\n    <!-- 1 -->\n    <g style=\"fill:#fde725;\" transform=\"translate(106.60733 59.377557)scale(0.1 -0.1)\">\n     <use xlink:href=\"#DejaVuSans-49\"/>\n    </g>\n   </g>\n   <g id=\"text_51\">\n    <!-- 3 -->\n    <g style=\"fill:#fde725;\" transform=\"translate(126.374602 59.377557)scale(0.1 -0.1)\">\n     <use xlink:href=\"#DejaVuSans-51\"/>\n    </g>\n   </g>\n   <g id=\"text_52\">\n    <!-- 7 -->\n    <g style=\"fill:#fde725;\" transform=\"translate(146.141875 59.377557)scale(0.1 -0.1)\">\n     <use xlink:href=\"#DejaVuSans-55\"/>\n    </g>\n   </g>\n   <g id=\"text_53\">\n    <!-- 0 -->\n    <g style=\"fill:#fde725;\" transform=\"translate(165.909148 59.377557)scale(0.1 -0.1)\">\n     <use xlink:href=\"#DejaVuSans-48\"/>\n    </g>\n   </g>\n   <g id=\"text_54\">\n    <!-- 5 -->\n    <g style=\"fill:#fde725;\" transform=\"translate(185.67642 59.377557)scale(0.1 -0.1)\">\n     <use xlink:href=\"#DejaVuSans-53\"/>\n    </g>\n   </g>\n   <g id=\"text_55\">\n    <!-- 1 -->\n    <g style=\"fill:#fde725;\" transform=\"translate(205.443693 59.377557)scale(0.1 -0.1)\">\n     <use xlink:href=\"#DejaVuSans-49\"/>\n    </g>\n   </g>\n   <g id=\"text_56\">\n    <!-- 5 -->\n    <g style=\"fill:#fde725;\" transform=\"translate(225.210966 59.377557)scale(0.1 -0.1)\">\n     <use xlink:href=\"#DejaVuSans-53\"/>\n    </g>\n   </g>\n   <g id=\"text_57\">\n    <!-- 1 -->\n    <g style=\"fill:#fde725;\" transform=\"translate(244.978239 59.377557)scale(0.1 -0.1)\">\n     <use xlink:href=\"#DejaVuSans-49\"/>\n    </g>\n   </g>\n   <g id=\"text_58\">\n    <!-- 2 -->\n    <g style=\"fill:#fde725;\" transform=\"translate(47.305511 79.14483)scale(0.1 -0.1)\">\n     <use xlink:href=\"#DejaVuSans-50\"/>\n    </g>\n   </g>\n   <g id=\"text_59\">\n    <!-- 1 -->\n    <g style=\"fill:#fde725;\" transform=\"translate(67.072784 79.14483)scale(0.1 -0.1)\">\n     <use xlink:href=\"#DejaVuSans-49\"/>\n    </g>\n   </g>\n   <g id=\"text_60\">\n    <!-- 2 -->\n    <g style=\"fill:#fde725;\" transform=\"translate(86.840057 79.14483)scale(0.1 -0.1)\">\n     <use xlink:href=\"#DejaVuSans-50\"/>\n    </g>\n   </g>\n   <g id=\"text_61\">\n    <!-- 37 -->\n    <g style=\"fill:#440154;\" transform=\"translate(103.42608 79.14483)scale(0.1 -0.1)\">\n     <use xlink:href=\"#DejaVuSans-51\"/>\n     <use x=\"63.623047\" xlink:href=\"#DejaVuSans-55\"/>\n    </g>\n   </g>\n   <g id=\"text_62\">\n    <!-- 4 -->\n    <g style=\"fill:#fde725;\" transform=\"translate(126.374602 79.14483)scale(0.1 -0.1)\">\n     <use xlink:href=\"#DejaVuSans-52\"/>\n    </g>\n   </g>\n   <g id=\"text_63\">\n    <!-- 8 -->\n    <g style=\"fill:#fde725;\" transform=\"translate(146.141875 79.14483)scale(0.1 -0.1)\">\n     <use xlink:href=\"#DejaVuSans-56\"/>\n    </g>\n   </g>\n   <g id=\"text_64\">\n    <!-- 3 -->\n    <g style=\"fill:#fde725;\" transform=\"translate(165.909148 79.14483)scale(0.1 -0.1)\">\n     <use xlink:href=\"#DejaVuSans-51\"/>\n    </g>\n   </g>\n   <g id=\"text_65\">\n    <!-- 2 -->\n    <g style=\"fill:#fde725;\" transform=\"translate(185.67642 79.14483)scale(0.1 -0.1)\">\n     <use xlink:href=\"#DejaVuSans-50\"/>\n    </g>\n   </g>\n   <g id=\"text_66\">\n    <!-- 0 -->\n    <g style=\"fill:#fde725;\" transform=\"translate(205.443693 79.14483)scale(0.1 -0.1)\">\n     <use xlink:href=\"#DejaVuSans-48\"/>\n    </g>\n   </g>\n   <g id=\"text_67\">\n    <!-- 0 -->\n    <g style=\"fill:#fde725;\" transform=\"translate(225.210966 79.14483)scale(0.1 -0.1)\">\n     <use xlink:href=\"#DejaVuSans-48\"/>\n    </g>\n   </g>\n   <g id=\"text_68\">\n    <!-- 1 -->\n    <g style=\"fill:#fde725;\" transform=\"translate(244.978239 79.14483)scale(0.1 -0.1)\">\n     <use xlink:href=\"#DejaVuSans-49\"/>\n    </g>\n   </g>\n   <g id=\"text_69\">\n    <!-- 2 -->\n    <g style=\"fill:#fde725;\" transform=\"translate(47.305511 98.912102)scale(0.1 -0.1)\">\n     <use xlink:href=\"#DejaVuSans-50\"/>\n    </g>\n   </g>\n   <g id=\"text_70\">\n    <!-- 6 -->\n    <g style=\"fill:#fde725;\" transform=\"translate(67.072784 98.912102)scale(0.1 -0.1)\">\n     <use xlink:href=\"#DejaVuSans-54\"/>\n    </g>\n   </g>\n   <g id=\"text_71\">\n    <!-- 3 -->\n    <g style=\"fill:#fde725;\" transform=\"translate(86.840057 98.912102)scale(0.1 -0.1)\">\n     <use xlink:href=\"#DejaVuSans-51\"/>\n    </g>\n   </g>\n   <g id=\"text_72\">\n    <!-- 0 -->\n    <g style=\"fill:#fde725;\" transform=\"translate(106.60733 98.912102)scale(0.1 -0.1)\">\n     <use xlink:href=\"#DejaVuSans-48\"/>\n    </g>\n   </g>\n   <g id=\"text_73\">\n    <!-- 34 -->\n    <g style=\"fill:#440154;\" transform=\"translate(123.193352 98.912102)scale(0.1 -0.1)\">\n     <use xlink:href=\"#DejaVuSans-51\"/>\n     <use x=\"63.623047\" xlink:href=\"#DejaVuSans-52\"/>\n    </g>\n   </g>\n   <g id=\"text_74\">\n    <!-- 1 -->\n    <g style=\"fill:#fde725;\" transform=\"translate(146.141875 98.912102)scale(0.1 -0.1)\">\n     <use xlink:href=\"#DejaVuSans-49\"/>\n    </g>\n   </g>\n   <g id=\"text_75\">\n    <!-- 0 -->\n    <g style=\"fill:#fde725;\" transform=\"translate(165.909148 98.912102)scale(0.1 -0.1)\">\n     <use xlink:href=\"#DejaVuSans-48\"/>\n    </g>\n   </g>\n   <g id=\"text_76\">\n    <!-- 5 -->\n    <g style=\"fill:#fde725;\" transform=\"translate(185.67642 98.912102)scale(0.1 -0.1)\">\n     <use xlink:href=\"#DejaVuSans-53\"/>\n    </g>\n   </g>\n   <g id=\"text_77\">\n    <!-- 2 -->\n    <g style=\"fill:#fde725;\" transform=\"translate(205.443693 98.912102)scale(0.1 -0.1)\">\n     <use xlink:href=\"#DejaVuSans-50\"/>\n    </g>\n   </g>\n   <g id=\"text_78\">\n    <!-- 2 -->\n    <g style=\"fill:#fde725;\" transform=\"translate(225.210966 98.912102)scale(0.1 -0.1)\">\n     <use xlink:href=\"#DejaVuSans-50\"/>\n    </g>\n   </g>\n   <g id=\"text_79\">\n    <!-- 5 -->\n    <g style=\"fill:#fde725;\" transform=\"translate(244.978239 98.912102)scale(0.1 -0.1)\">\n     <use xlink:href=\"#DejaVuSans-53\"/>\n    </g>\n   </g>\n   <g id=\"text_80\">\n    <!-- 3 -->\n    <g style=\"fill:#fde725;\" transform=\"translate(47.305511 118.679375)scale(0.1 -0.1)\">\n     <use xlink:href=\"#DejaVuSans-51\"/>\n    </g>\n   </g>\n   <g id=\"text_81\">\n    <!-- 2 -->\n    <g style=\"fill:#fde725;\" transform=\"translate(67.072784 118.679375)scale(0.1 -0.1)\">\n     <use xlink:href=\"#DejaVuSans-50\"/>\n    </g>\n   </g>\n   <g id=\"text_82\">\n    <!-- 2 -->\n    <g style=\"fill:#fde725;\" transform=\"translate(86.840057 118.679375)scale(0.1 -0.1)\">\n     <use xlink:href=\"#DejaVuSans-50\"/>\n    </g>\n   </g>\n   <g id=\"text_83\">\n    <!-- 1 -->\n    <g style=\"fill:#fde725;\" transform=\"translate(106.60733 118.679375)scale(0.1 -0.1)\">\n     <use xlink:href=\"#DejaVuSans-49\"/>\n    </g>\n   </g>\n   <g id=\"text_84\">\n    <!-- 0 -->\n    <g style=\"fill:#fde725;\" transform=\"translate(126.374602 118.679375)scale(0.1 -0.1)\">\n     <use xlink:href=\"#DejaVuSans-48\"/>\n    </g>\n   </g>\n   <g id=\"text_85\">\n    <!-- 46 -->\n    <g style=\"fill:#440154;\" transform=\"translate(142.960625 118.679375)scale(0.1 -0.1)\">\n     <use xlink:href=\"#DejaVuSans-52\"/>\n     <use x=\"63.623047\" xlink:href=\"#DejaVuSans-54\"/>\n    </g>\n   </g>\n   <g id=\"text_86\">\n    <!-- 1 -->\n    <g style=\"fill:#fde725;\" transform=\"translate(165.909148 118.679375)scale(0.1 -0.1)\">\n     <use xlink:href=\"#DejaVuSans-49\"/>\n    </g>\n   </g>\n   <g id=\"text_87\">\n    <!-- 1 -->\n    <g style=\"fill:#fde725;\" transform=\"translate(185.67642 118.679375)scale(0.1 -0.1)\">\n     <use xlink:href=\"#DejaVuSans-49\"/>\n    </g>\n   </g>\n   <g id=\"text_88\">\n    <!-- 1 -->\n    <g style=\"fill:#fde725;\" transform=\"translate(205.443693 118.679375)scale(0.1 -0.1)\">\n     <use xlink:href=\"#DejaVuSans-49\"/>\n    </g>\n   </g>\n   <g id=\"text_89\">\n    <!-- 3 -->\n    <g style=\"fill:#fde725;\" transform=\"translate(225.210966 118.679375)scale(0.1 -0.1)\">\n     <use xlink:href=\"#DejaVuSans-51\"/>\n    </g>\n   </g>\n   <g id=\"text_90\">\n    <!-- 0 -->\n    <g style=\"fill:#fde725;\" transform=\"translate(244.978239 118.679375)scale(0.1 -0.1)\">\n     <use xlink:href=\"#DejaVuSans-48\"/>\n    </g>\n   </g>\n   <g id=\"text_91\">\n    <!-- 7 -->\n    <g style=\"fill:#fde725;\" transform=\"translate(47.305511 138.446648)scale(0.1 -0.1)\">\n     <use xlink:href=\"#DejaVuSans-55\"/>\n    </g>\n   </g>\n   <g id=\"text_92\">\n    <!-- 7 -->\n    <g style=\"fill:#fde725;\" transform=\"translate(67.072784 138.446648)scale(0.1 -0.1)\">\n     <use xlink:href=\"#DejaVuSans-55\"/>\n    </g>\n   </g>\n   <g id=\"text_93\">\n    <!-- 5 -->\n    <g style=\"fill:#fde725;\" transform=\"translate(86.840057 138.446648)scale(0.1 -0.1)\">\n     <use xlink:href=\"#DejaVuSans-53\"/>\n    </g>\n   </g>\n   <g id=\"text_94\">\n    <!-- 0 -->\n    <g style=\"fill:#fde725;\" transform=\"translate(106.60733 138.446648)scale(0.1 -0.1)\">\n     <use xlink:href=\"#DejaVuSans-48\"/>\n    </g>\n   </g>\n   <g id=\"text_95\">\n    <!-- 5 -->\n    <g style=\"fill:#fde725;\" transform=\"translate(126.374602 138.446648)scale(0.1 -0.1)\">\n     <use xlink:href=\"#DejaVuSans-53\"/>\n    </g>\n   </g>\n   <g id=\"text_96\">\n    <!-- 2 -->\n    <g style=\"fill:#fde725;\" transform=\"translate(146.141875 138.446648)scale(0.1 -0.1)\">\n     <use xlink:href=\"#DejaVuSans-50\"/>\n    </g>\n   </g>\n   <g id=\"text_97\">\n    <!-- 25 -->\n    <g style=\"fill:#fde725;\" transform=\"translate(162.727898 138.446648)scale(0.1 -0.1)\">\n     <use xlink:href=\"#DejaVuSans-50\"/>\n     <use x=\"63.623047\" xlink:href=\"#DejaVuSans-53\"/>\n    </g>\n   </g>\n   <g id=\"text_98\">\n    <!-- 2 -->\n    <g style=\"fill:#fde725;\" transform=\"translate(185.67642 138.446648)scale(0.1 -0.1)\">\n     <use xlink:href=\"#DejaVuSans-50\"/>\n    </g>\n   </g>\n   <g id=\"text_99\">\n    <!-- 2 -->\n    <g style=\"fill:#fde725;\" transform=\"translate(205.443693 138.446648)scale(0.1 -0.1)\">\n     <use xlink:href=\"#DejaVuSans-50\"/>\n    </g>\n   </g>\n   <g id=\"text_100\">\n    <!-- 4 -->\n    <g style=\"fill:#fde725;\" transform=\"translate(225.210966 138.446648)scale(0.1 -0.1)\">\n     <use xlink:href=\"#DejaVuSans-52\"/>\n    </g>\n   </g>\n   <g id=\"text_101\">\n    <!-- 1 -->\n    <g style=\"fill:#fde725;\" transform=\"translate(244.978239 138.446648)scale(0.1 -0.1)\">\n     <use xlink:href=\"#DejaVuSans-49\"/>\n    </g>\n   </g>\n   <g id=\"text_102\">\n    <!-- 4 -->\n    <g style=\"fill:#fde725;\" transform=\"translate(47.305511 158.21392)scale(0.1 -0.1)\">\n     <use xlink:href=\"#DejaVuSans-52\"/>\n    </g>\n   </g>\n   <g id=\"text_103\">\n    <!-- 4 -->\n    <g style=\"fill:#fde725;\" transform=\"translate(67.072784 158.21392)scale(0.1 -0.1)\">\n     <use xlink:href=\"#DejaVuSans-52\"/>\n    </g>\n   </g>\n   <g id=\"text_104\">\n    <!-- 0 -->\n    <g style=\"fill:#fde725;\" transform=\"translate(86.840057 158.21392)scale(0.1 -0.1)\">\n     <use xlink:href=\"#DejaVuSans-48\"/>\n    </g>\n   </g>\n   <g id=\"text_105\">\n    <!-- 0 -->\n    <g style=\"fill:#fde725;\" transform=\"translate(106.60733 158.21392)scale(0.1 -0.1)\">\n     <use xlink:href=\"#DejaVuSans-48\"/>\n    </g>\n   </g>\n   <g id=\"text_106\">\n    <!-- 5 -->\n    <g style=\"fill:#fde725;\" transform=\"translate(126.374602 158.21392)scale(0.1 -0.1)\">\n     <use xlink:href=\"#DejaVuSans-53\"/>\n    </g>\n   </g>\n   <g id=\"text_107\">\n    <!-- 11 -->\n    <g style=\"fill:#fde725;\" transform=\"translate(142.960625 158.21392)scale(0.1 -0.1)\">\n     <use xlink:href=\"#DejaVuSans-49\"/>\n     <use x=\"63.623047\" xlink:href=\"#DejaVuSans-49\"/>\n    </g>\n   </g>\n   <g id=\"text_108\">\n    <!-- 4 -->\n    <g style=\"fill:#fde725;\" transform=\"translate(165.909148 158.21392)scale(0.1 -0.1)\">\n     <use xlink:href=\"#DejaVuSans-52\"/>\n    </g>\n   </g>\n   <g id=\"text_109\">\n    <!-- 29 -->\n    <g style=\"fill:#440154;\" transform=\"translate(182.49517 158.21392)scale(0.1 -0.1)\">\n     <use xlink:href=\"#DejaVuSans-50\"/>\n     <use x=\"63.623047\" xlink:href=\"#DejaVuSans-57\"/>\n    </g>\n   </g>\n   <g id=\"text_110\">\n    <!-- 1 -->\n    <g style=\"fill:#fde725;\" transform=\"translate(205.443693 158.21392)scale(0.1 -0.1)\">\n     <use xlink:href=\"#DejaVuSans-49\"/>\n    </g>\n   </g>\n   <g id=\"text_111\">\n    <!-- 1 -->\n    <g style=\"fill:#fde725;\" transform=\"translate(225.210966 158.21392)scale(0.1 -0.1)\">\n     <use xlink:href=\"#DejaVuSans-49\"/>\n    </g>\n   </g>\n   <g id=\"text_112\">\n    <!-- 1 -->\n    <g style=\"fill:#fde725;\" transform=\"translate(244.978239 158.21392)scale(0.1 -0.1)\">\n     <use xlink:href=\"#DejaVuSans-49\"/>\n    </g>\n   </g>\n   <g id=\"text_113\">\n    <!-- 2 -->\n    <g style=\"fill:#fde725;\" transform=\"translate(47.305511 177.981193)scale(0.1 -0.1)\">\n     <use xlink:href=\"#DejaVuSans-50\"/>\n    </g>\n   </g>\n   <g id=\"text_114\">\n    <!-- 0 -->\n    <g style=\"fill:#fde725;\" transform=\"translate(67.072784 177.981193)scale(0.1 -0.1)\">\n     <use xlink:href=\"#DejaVuSans-48\"/>\n    </g>\n   </g>\n   <g id=\"text_115\">\n    <!-- 0 -->\n    <g style=\"fill:#fde725;\" transform=\"translate(86.840057 177.981193)scale(0.1 -0.1)\">\n     <use xlink:href=\"#DejaVuSans-48\"/>\n    </g>\n   </g>\n   <g id=\"text_116\">\n    <!-- 0 -->\n    <g style=\"fill:#fde725;\" transform=\"translate(106.60733 177.981193)scale(0.1 -0.1)\">\n     <use xlink:href=\"#DejaVuSans-48\"/>\n    </g>\n   </g>\n   <g id=\"text_117\">\n    <!-- 0 -->\n    <g style=\"fill:#fde725;\" transform=\"translate(126.374602 177.981193)scale(0.1 -0.1)\">\n     <use xlink:href=\"#DejaVuSans-48\"/>\n    </g>\n   </g>\n   <g id=\"text_118\">\n    <!-- 0 -->\n    <g style=\"fill:#fde725;\" transform=\"translate(146.141875 177.981193)scale(0.1 -0.1)\">\n     <use xlink:href=\"#DejaVuSans-48\"/>\n    </g>\n   </g>\n   <g id=\"text_119\">\n    <!-- 1 -->\n    <g style=\"fill:#fde725;\" transform=\"translate(165.909148 177.981193)scale(0.1 -0.1)\">\n     <use xlink:href=\"#DejaVuSans-49\"/>\n    </g>\n   </g>\n   <g id=\"text_120\">\n    <!-- 0 -->\n    <g style=\"fill:#fde725;\" transform=\"translate(185.67642 177.981193)scale(0.1 -0.1)\">\n     <use xlink:href=\"#DejaVuSans-48\"/>\n    </g>\n   </g>\n   <g id=\"text_121\">\n    <!-- 55 -->\n    <g style=\"fill:#440154;\" transform=\"translate(202.262443 177.981193)scale(0.1 -0.1)\">\n     <use xlink:href=\"#DejaVuSans-53\"/>\n     <use x=\"63.623047\" xlink:href=\"#DejaVuSans-53\"/>\n    </g>\n   </g>\n   <g id=\"text_122\">\n    <!-- 2 -->\n    <g style=\"fill:#fde725;\" transform=\"translate(225.210966 177.981193)scale(0.1 -0.1)\">\n     <use xlink:href=\"#DejaVuSans-50\"/>\n    </g>\n   </g>\n   <g id=\"text_123\">\n    <!-- 0 -->\n    <g style=\"fill:#fde725;\" transform=\"translate(244.978239 177.981193)scale(0.1 -0.1)\">\n     <use xlink:href=\"#DejaVuSans-48\"/>\n    </g>\n   </g>\n   <g id=\"text_124\">\n    <!-- 4 -->\n    <g style=\"fill:#fde725;\" transform=\"translate(47.305511 197.748466)scale(0.1 -0.1)\">\n     <use xlink:href=\"#DejaVuSans-52\"/>\n    </g>\n   </g>\n   <g id=\"text_125\">\n    <!-- 5 -->\n    <g style=\"fill:#fde725;\" transform=\"translate(67.072784 197.748466)scale(0.1 -0.1)\">\n     <use xlink:href=\"#DejaVuSans-53\"/>\n    </g>\n   </g>\n   <g id=\"text_126\">\n    <!-- 2 -->\n    <g style=\"fill:#fde725;\" transform=\"translate(86.840057 197.748466)scale(0.1 -0.1)\">\n     <use xlink:href=\"#DejaVuSans-50\"/>\n    </g>\n   </g>\n   <g id=\"text_127\">\n    <!-- 0 -->\n    <g style=\"fill:#fde725;\" transform=\"translate(106.60733 197.748466)scale(0.1 -0.1)\">\n     <use xlink:href=\"#DejaVuSans-48\"/>\n    </g>\n   </g>\n   <g id=\"text_128\">\n    <!-- 4 -->\n    <g style=\"fill:#fde725;\" transform=\"translate(126.374602 197.748466)scale(0.1 -0.1)\">\n     <use xlink:href=\"#DejaVuSans-52\"/>\n    </g>\n   </g>\n   <g id=\"text_129\">\n    <!-- 5 -->\n    <g style=\"fill:#fde725;\" transform=\"translate(146.141875 197.748466)scale(0.1 -0.1)\">\n     <use xlink:href=\"#DejaVuSans-53\"/>\n    </g>\n   </g>\n   <g id=\"text_130\">\n    <!-- 5 -->\n    <g style=\"fill:#fde725;\" transform=\"translate(165.909148 197.748466)scale(0.1 -0.1)\">\n     <use xlink:href=\"#DejaVuSans-53\"/>\n    </g>\n   </g>\n   <g id=\"text_131\">\n    <!-- 5 -->\n    <g style=\"fill:#fde725;\" transform=\"translate(185.67642 197.748466)scale(0.1 -0.1)\">\n     <use xlink:href=\"#DejaVuSans-53\"/>\n    </g>\n   </g>\n   <g id=\"text_132\">\n    <!-- 4 -->\n    <g style=\"fill:#fde725;\" transform=\"translate(205.443693 197.748466)scale(0.1 -0.1)\">\n     <use xlink:href=\"#DejaVuSans-52\"/>\n    </g>\n   </g>\n   <g id=\"text_133\">\n    <!-- 26 -->\n    <g style=\"fill:#fde725;\" transform=\"translate(222.029716 197.748466)scale(0.1 -0.1)\">\n     <use xlink:href=\"#DejaVuSans-50\"/>\n     <use x=\"63.623047\" xlink:href=\"#DejaVuSans-54\"/>\n    </g>\n   </g>\n   <g id=\"text_134\">\n    <!-- 0 -->\n    <g style=\"fill:#fde725;\" transform=\"translate(244.978239 197.748466)scale(0.1 -0.1)\">\n     <use xlink:href=\"#DejaVuSans-48\"/>\n    </g>\n   </g>\n   <g id=\"text_135\">\n    <!-- 1 -->\n    <g style=\"fill:#fde725;\" transform=\"translate(47.305511 217.515739)scale(0.1 -0.1)\">\n     <use xlink:href=\"#DejaVuSans-49\"/>\n    </g>\n   </g>\n   <g id=\"text_136\">\n    <!-- 8 -->\n    <g style=\"fill:#fde725;\" transform=\"translate(67.072784 217.515739)scale(0.1 -0.1)\">\n     <use xlink:href=\"#DejaVuSans-56\"/>\n    </g>\n   </g>\n   <g id=\"text_137\">\n    <!-- 1 -->\n    <g style=\"fill:#fde725;\" transform=\"translate(86.840057 217.515739)scale(0.1 -0.1)\">\n     <use xlink:href=\"#DejaVuSans-49\"/>\n    </g>\n   </g>\n   <g id=\"text_138\">\n    <!-- 0 -->\n    <g style=\"fill:#fde725;\" transform=\"translate(106.60733 217.515739)scale(0.1 -0.1)\">\n     <use xlink:href=\"#DejaVuSans-48\"/>\n    </g>\n   </g>\n   <g id=\"text_139\">\n    <!-- 1 -->\n    <g style=\"fill:#fde725;\" transform=\"translate(126.374602 217.515739)scale(0.1 -0.1)\">\n     <use xlink:href=\"#DejaVuSans-49\"/>\n    </g>\n   </g>\n   <g id=\"text_140\">\n    <!-- 0 -->\n    <g style=\"fill:#fde725;\" transform=\"translate(146.141875 217.515739)scale(0.1 -0.1)\">\n     <use xlink:href=\"#DejaVuSans-48\"/>\n    </g>\n   </g>\n   <g id=\"text_141\">\n    <!-- 2 -->\n    <g style=\"fill:#fde725;\" transform=\"translate(165.909148 217.515739)scale(0.1 -0.1)\">\n     <use xlink:href=\"#DejaVuSans-50\"/>\n    </g>\n   </g>\n   <g id=\"text_142\">\n    <!-- 0 -->\n    <g style=\"fill:#fde725;\" transform=\"translate(185.67642 217.515739)scale(0.1 -0.1)\">\n     <use xlink:href=\"#DejaVuSans-48\"/>\n    </g>\n   </g>\n   <g id=\"text_143\">\n    <!-- 0 -->\n    <g style=\"fill:#fde725;\" transform=\"translate(205.443693 217.515739)scale(0.1 -0.1)\">\n     <use xlink:href=\"#DejaVuSans-48\"/>\n    </g>\n   </g>\n   <g id=\"text_144\">\n    <!-- 1 -->\n    <g style=\"fill:#fde725;\" transform=\"translate(225.210966 217.515739)scale(0.1 -0.1)\">\n     <use xlink:href=\"#DejaVuSans-49\"/>\n    </g>\n   </g>\n   <g id=\"text_145\">\n    <!-- 46 -->\n    <g style=\"fill:#440154;\" transform=\"translate(241.796989 217.515739)scale(0.1 -0.1)\">\n     <use xlink:href=\"#DejaVuSans-52\"/>\n     <use x=\"63.623047\" xlink:href=\"#DejaVuSans-54\"/>\n    </g>\n   </g>\n  </g>\n  <g id=\"axes_2\">\n   <g id=\"patch_7\">\n    <path clip-path=\"url(#pc4aaf3ebfc)\" d=\"M 274.783125 224.64 \nL 274.783125 223.790625 \nL 274.783125 8.049375 \nL 274.783125 7.2 \nL 285.655125 7.2 \nL 285.655125 8.049375 \nL 285.655125 223.790625 \nL 285.655125 224.64 \nz\n\" style=\"fill:#ffffff;stroke:#ffffff;stroke-linejoin:miter;stroke-width:0.01;\"/>\n   </g>\n   <image height=\"217\" id=\"image7bc08c639e\" transform=\"scale(1 -1)translate(0 -217)\" width=\"11\" x=\"275\" xlink:href=\"data:image/png;base64,\niVBORw0KGgoAAAANSUhEUgAAAAsAAADZCAYAAAD2WsoCAAAABHNCSVQICAgIfAhkiAAAAWFJREFUaIHt2kFuwzAQQ1FpJOdkPUPvf5C26bZANnoLAuMiWRPEJ2dkO07mR30+x+Fnz5qn2rHnWufiMQvEgjGmMJdgiPOgNqjnHtVZQHLOid9t/BXH2niuHgGJ2cbdA+P8SpDFEOcgc8p5iDMtv/VMGLE2bIK0G8YM4iZtBDFy1VHALqcbxOSMAVMY6By7yNyyjZjzHds41+Lzxh0n+P/HTc4txg0Q79P9Ij4/33fcjTZtBMcNzMHqKoXRpA14REq2MUYuIDjPWEDrmZhNDBjUhmGcU3DAVBurfjpgVKyNJeIcRhPnNWHc5NxEvO8YUG4T1kZ9d8AoGYodWGGmNpa1kdo6amNPCphjFmfpmZwvacNWNLYbuaE85hc4x4ZSEpCW/5KA1DNekcg5tRu0/LbPwYCpG9Bj0KVAlp9OigU81o592YEF5wVfCLe83dtLfsgowbjgfZZigDMxL/kjkGD8AgQsgWhMNMxTAAAAAElFTkSuQmCC\" y=\"-7\"/>\n   <g id=\"matplotlib.axis_3\"/>\n   <g id=\"matplotlib.axis_4\">\n    <g id=\"ytick_12\">\n     <g id=\"line2d_23\">\n      <defs>\n       <path d=\"M 0 0 \nL 3.5 0 \n\" id=\"m761e8ce45f\" style=\"stroke:#000000;stroke-width:0.8;\"/>\n      </defs>\n      <g>\n       <use style=\"stroke:#000000;stroke-width:0.8;\" x=\"285.655125\" xlink:href=\"#m761e8ce45f\" y=\"224.64\"/>\n      </g>\n     </g>\n     <g id=\"text_146\">\n      <!-- 0 -->\n      <g transform=\"translate(292.655125 228.439219)scale(0.1 -0.1)\">\n       <use xlink:href=\"#DejaVuSans-48\"/>\n      </g>\n     </g>\n    </g>\n    <g id=\"ytick_13\">\n     <g id=\"line2d_24\">\n      <g>\n       <use style=\"stroke:#000000;stroke-width:0.8;\" x=\"285.655125\" xlink:href=\"#m761e8ce45f\" y=\"185.105455\"/>\n      </g>\n     </g>\n     <g id=\"text_147\">\n      <!-- 10 -->\n      <g transform=\"translate(292.655125 188.904673)scale(0.1 -0.1)\">\n       <use xlink:href=\"#DejaVuSans-49\"/>\n       <use x=\"63.623047\" xlink:href=\"#DejaVuSans-48\"/>\n      </g>\n     </g>\n    </g>\n    <g id=\"ytick_14\">\n     <g id=\"line2d_25\">\n      <g>\n       <use style=\"stroke:#000000;stroke-width:0.8;\" x=\"285.655125\" xlink:href=\"#m761e8ce45f\" y=\"145.570909\"/>\n      </g>\n     </g>\n     <g id=\"text_148\">\n      <!-- 20 -->\n      <g transform=\"translate(292.655125 149.370128)scale(0.1 -0.1)\">\n       <use xlink:href=\"#DejaVuSans-50\"/>\n       <use x=\"63.623047\" xlink:href=\"#DejaVuSans-48\"/>\n      </g>\n     </g>\n    </g>\n    <g id=\"ytick_15\">\n     <g id=\"line2d_26\">\n      <g>\n       <use style=\"stroke:#000000;stroke-width:0.8;\" x=\"285.655125\" xlink:href=\"#m761e8ce45f\" y=\"106.036364\"/>\n      </g>\n     </g>\n     <g id=\"text_149\">\n      <!-- 30 -->\n      <g transform=\"translate(292.655125 109.835582)scale(0.1 -0.1)\">\n       <use xlink:href=\"#DejaVuSans-51\"/>\n       <use x=\"63.623047\" xlink:href=\"#DejaVuSans-48\"/>\n      </g>\n     </g>\n    </g>\n    <g id=\"ytick_16\">\n     <g id=\"line2d_27\">\n      <g>\n       <use style=\"stroke:#000000;stroke-width:0.8;\" x=\"285.655125\" xlink:href=\"#m761e8ce45f\" y=\"66.501818\"/>\n      </g>\n     </g>\n     <g id=\"text_150\">\n      <!-- 40 -->\n      <g transform=\"translate(292.655125 70.301037)scale(0.1 -0.1)\">\n       <use xlink:href=\"#DejaVuSans-52\"/>\n       <use x=\"63.623047\" xlink:href=\"#DejaVuSans-48\"/>\n      </g>\n     </g>\n    </g>\n    <g id=\"ytick_17\">\n     <g id=\"line2d_28\">\n      <g>\n       <use style=\"stroke:#000000;stroke-width:0.8;\" x=\"285.655125\" xlink:href=\"#m761e8ce45f\" y=\"26.967273\"/>\n      </g>\n     </g>\n     <g id=\"text_151\">\n      <!-- 50 -->\n      <g transform=\"translate(292.655125 30.766491)scale(0.1 -0.1)\">\n       <use xlink:href=\"#DejaVuSans-53\"/>\n       <use x=\"63.623047\" xlink:href=\"#DejaVuSans-48\"/>\n      </g>\n     </g>\n    </g>\n   </g>\n   <g id=\"patch_8\">\n    <path d=\"M 274.783125 224.64 \nL 274.783125 223.790625 \nL 274.783125 8.049375 \nL 274.783125 7.2 \nL 285.655125 7.2 \nL 285.655125 8.049375 \nL 285.655125 223.790625 \nL 285.655125 224.64 \nz\n\" style=\"fill:none;stroke:#000000;stroke-linejoin:miter;stroke-width:0.8;\"/>\n   </g>\n  </g>\n </g>\n <defs>\n  <clipPath id=\"p81616bfa01\">\n   <rect height=\"217.44\" width=\"217.44\" x=\"40.603125\" y=\"7.2\"/>\n  </clipPath>\n  <clipPath id=\"pc4aaf3ebfc\">\n   <rect height=\"217.44\" width=\"10.872\" x=\"274.783125\" y=\"7.2\"/>\n  </clipPath>\n </defs>\n</svg>\n",
      "image/png": "[encoded data removed]"
     },
     "metadata": {
      "needs_background": "light"
     }
    }
   ],
   "source": [
    "plot_confusion_matrix(clfLogTf, x_test, testRaw_labels)\n",
    "plt.show()"
   ]
  },
  {
   "cell_type": "code",
   "execution_count": 30,
   "metadata": {},
   "outputs": [],
   "source": [
    "svd = TruncatedSVD(n_components = 5, random_state = 1)\n",
    "svc_x = svd.fit_transform(x)\n",
    "svc_x_test = svd.transform(x_test)"
   ]
  },
  {
   "cell_type": "code",
   "execution_count": 27,
   "metadata": {},
   "outputs": [
    {
     "output_type": "execute_result",
     "data": {
      "text/plain": "SVC(C=1.0, cache_size=200, class_weight=None, coef0=0.0,\n    decision_function_shape='ovr', degree=3, gamma='auto_deprecated',\n    kernel='rbf', max_iter=-1, probability=False, random_state=None,\n    shrinking=True, tol=0.001, verbose=False)"
     },
     "metadata": {},
     "execution_count": 27
    }
   ],
   "source": [
    "#Try tf-idf svm:\n",
    "from sklearn import svm\n",
    "from sklearn.decomposition import TruncatedSVD\n",
    "svcTf = svm.SVC() \n",
    "svcTf.fit(svc_x,trainRaw_labels)"
   ]
  },
  {
   "cell_type": "code",
   "execution_count": 31,
   "metadata": {},
   "outputs": [
    {
     "output_type": "execute_result",
     "data": {
      "text/plain": "0.3166713734349995"
     },
     "metadata": {},
     "execution_count": 31
    }
   ],
   "source": [
    "svcTf.score(svc_x_test, testRaw_labels)"
   ]
  },
  {
   "cell_type": "code",
   "execution_count": 32,
   "metadata": {},
   "outputs": [
    {
     "output_type": "execute_result",
     "data": {
      "text/plain": "MultinomialNB(alpha=1.0, class_prior=None, fit_prior=True)"
     },
     "metadata": {},
     "execution_count": 32
    }
   ],
   "source": [
    "#try tf-idf multinomial NB:\n",
    "from sklearn.naive_bayes import MultinomialNB\n",
    "clfNB = MultinomialNB()\n",
    "clfNB.fit(x, trainRaw_labels)"
   ]
  },
  {
   "cell_type": "code",
   "execution_count": 33,
   "metadata": {},
   "outputs": [
    {
     "output_type": "execute_result",
     "data": {
      "text/plain": "0.5653770121434623"
     },
     "metadata": {},
     "execution_count": 33
    }
   ],
   "source": [
    "clfNB.score(x_test, testRaw_labels)"
   ]
  },
  {
   "cell_type": "code",
   "execution_count": 186,
   "metadata": {},
   "outputs": [
    {
     "output_type": "stream",
     "name": "stdout",
     "text": "Epoch 1/8\n1328/1328 [==============================] - 5s 4ms/step - loss: 1.1192 - accuracy: 0.6315\nEpoch 2/8\n1328/1328 [==============================] - 4s 3ms/step - loss: 0.8558 - accuracy: 0.7179\nEpoch 3/8\n1328/1328 [==============================] - 5s 3ms/step - loss: 0.7696 - accuracy: 0.7461\nEpoch 4/8\n1328/1328 [==============================] - 5s 4ms/step - loss: 0.7024 - accuracy: 0.7659\nEpoch 5/8\n1328/1328 [==============================] - 5s 4ms/step - loss: 0.6488 - accuracy: 0.7817\nEpoch 6/8\n1328/1328 [==============================] - 5s 4ms/step - loss: 0.6017 - accuracy: 0.7987\nEpoch 7/8\n1328/1328 [==============================] - 5s 4ms/step - loss: 0.5613 - accuracy: 0.8127\nEpoch 8/8\n1328/1328 [==============================] - 5s 4ms/step - loss: 0.5190 - accuracy: 0.8243\n"
    },
    {
     "output_type": "execute_result",
     "data": {
      "text/plain": "<tensorflow.python.keras.callbacks.History at 0x229737350>"
     },
     "metadata": {},
     "execution_count": 186
    }
   ],
   "source": [
    "import tensorflow as tf\n",
    "\n",
    "### Create Model size ###\n",
    "\n",
    "# laver modellen\n",
    "model = tf.keras.models.Sequential()\n",
    "# tilføjer et input på modellen\n",
    "model.add(tf.keras.layers.Flatten())\n",
    "# relu er default aktiverings funktion. Lav den om hvis resultatet ikke er godt nok\n",
    "model.add(tf.keras.layers.Dense(100, activation=tf.nn.relu))\n",
    "# jeg tilføjer 2 lag til netwærket. Dette er fordi det er en simpel opgave\n",
    "model.add(tf.keras.layers.Dense(100, activation=tf.nn.relu))\n",
    "#antallet (10) er antal output. Det er 10 tal i datasettet derfor skal der være et 10 tal\n",
    "model.add(tf.keras.layers.Dense(100, activation=tf.nn.relu))\n",
    "#antallet (10) er antal output. Det er 10 tal i datasettet derfor skal der være et 10 tal\n",
    "model.add(tf.keras.layers.Dense(11, activation=tf.nn.softmax))\n",
    "\n",
    "# Dette er den mest komplexe del. adam er goto. Hvis der kun er 2 løsninger så brug binary_categorical_crossentropy eller binary_crossentropy i stedet for sparse_categorical_crossentropy\n",
    "model.compile(optimizer='adam',\n",
    "    loss='sparse_categorical_crossentropy',\n",
    "    metrics=['accuracy'])\n",
    "\n",
    "model.fit(X_train, train_labels2, epochs = 8)\n",
    "# model.fit(X_train, train_labels2, batch_size=64, epochs = 15)"
   ]
  },
  {
   "cell_type": "code",
   "execution_count": 187,
   "metadata": {},
   "outputs": [
    {
     "output_type": "stream",
     "name": "stdout",
     "text": "332/332 [==============================] - 1s 3ms/step - loss: 1.0712 - accuracy: 0.6988\n1.0712201595306396 0.698766827583313\n"
    }
   ],
   "source": [
    "val_loss, val_acc = model.evaluate(X_test,test_labels)\n",
    "print(val_loss, val_acc)\n"
   ]
  }
 ],
 "metadata": {
  "language_info": {
   "codemirror_mode": {
    "name": "ipython",
    "version": 3
   },
   "file_extension": ".py",
   "mimetype": "text/x-python",
   "name": "python",
   "nbconvert_exporter": "python",
   "pygments_lexer": "ipython3",
   "version": "3.7.7-final"
  },
  "orig_nbformat": 2,
  "kernelspec": {
   "name": "python3",
   "display_name": "Python 3"
  }
 },
 "nbformat": 4,
 "nbformat_minor": 2
}