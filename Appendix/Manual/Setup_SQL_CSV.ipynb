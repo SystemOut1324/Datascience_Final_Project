{
 "cells": [
  {
   "cell_type": "code",
   "execution_count": 11,
   "metadata": {},
   "outputs": [],
   "source": [
    "# libraries needed \n",
    "import pandas as pd\n",
    "import numpy as np\n",
    "import random\n",
    "import re\n",
    "# %matplotlib inline\n",
    "\n",
    "# libraries we might not need\n",
    "import csv"
   ]
  },
  {
   "cell_type": "markdown",
   "metadata": {},
   "source": [
    "### Using the following code\n",
    "to use the whole document you only need one file specified by filepath for the time being"
   ]
  },
  {
   "cell_type": "code",
   "execution_count": 6,
   "metadata": {},
   "outputs": [],
   "source": [
    "%%time\n",
    "# imports a random sample of size s from csv-file as a pandas dataframe\n",
    "# pandas using python 3.X uses utf-8 encoding\n",
    "\n",
    "# usage: specify file location, sample size and seed(used by random)\n",
    "filepath = '../Data_git_ignore/clean_corpus_25k.csv'\n",
    "\n",
    "# init dataframe with specified values\n",
    "df = pd.read_csv(filepath, index_col = [0])\n",
    "\n",
    "# visual output\n",
    "#print(df.shape, '<- size of dataframe \\n')\n",
    "df"
   ]
  },
  {
   "cell_type": "code",
   "execution_count": 28,
   "metadata": {},
   "outputs": [],
   "source": [
    "df['id'] = pd.to_numeric(df['id'], errors = 'coerce', downcast = 'integer')\n",
    "df.drop_duplicates(subset = 'id', inplace = True)"
   ]
  },
  {
   "cell_type": "code",
   "execution_count": 29,
   "metadata": {},
   "outputs": [
    {
     "output_type": "execute_result",
     "data": {
      "text/plain": "(171649, 17)"
     },
     "metadata": {},
     "execution_count": 29
    }
   ],
   "source": [
    "df = df.dropna(subset=['id']).set_index('id')\n",
    "df.shape"
   ]
  },
  {
   "cell_type": "markdown",
   "metadata": {},
   "source": [
    "### data-tables: [name]-uniq / relational-tables: [name]_in\n",
    "creating csv-files for database"
   ]
  },
  {
   "cell_type": "code",
   "execution_count": 30,
   "metadata": {},
   "outputs": [],
   "source": [
    "# specify where to save all csv-files\n",
    "path = '../Data_git_ignore/clean_csv/'\n",
    "\n",
    "# create temporary dataframe and use article id as index \n",
    "out_df = pd.DataFrame({'id':df.index})\n",
    "out_df.set_index('id', inplace=True)"
   ]
  },
  {
   "cell_type": "code",
   "execution_count": 31,
   "metadata": {},
   "outputs": [],
   "source": [
    "def generateUniqe (category):\n",
    "    type_array = df[category].unique() # get array of unique types\n",
    "    type_df = pd.DataFrame({'id': np.arange(type_array.size), 'name':type_array})\n",
    "\n",
    "    # write file and free memory\n",
    "    type_df.to_csv(path + category + '.csv', index=False, header=True)\n",
    "    #del type_array\n",
    "    #del type_df # tmp delete later\n",
    "\n",
    "    # create dict with type_name as key - [swap type with type_id]\n",
    "    type_name_as_key_df = type_df.set_index('name')\n",
    "    type_dict = type_name_as_key_df['id'].to_dict()\n",
    "\n",
    "    # replace type with tag id and create new column\n",
    "    type_id = np.array([type_dict[key] for key in df[category].to_numpy()])\n",
    "    #df['type_id'] =type_id\n",
    "    \n",
    "    return type_id\n",
    "\n",
    "# Fakenews\n",
    "def generateUniqeArray (category, sep=', '):\n",
    "    # creates list of list but formaly it is a pd.series of lists\n",
    "    tags_series_of_lists = df[category].dropna().str.split(sep) # -> ', ' not ','\n",
    "\n",
    "    if not category in out_df: ### tmp need another method ###\n",
    "        out_df.insert(0,column = category, value = tags_series_of_lists)\n",
    "\n",
    "    # flattern tags_series_of_lists to a set(ie. unique values only)\n",
    "    tags_list = list(set([item for sublist in tags_series_of_lists for item in sublist]))\n",
    "\n",
    "    # create dataframe\n",
    "    tags_df = pd.DataFrame({'id': np.arange(len(tags_list)), 'name':tags_list})\n",
    "\n",
    "    # write file and free memory\n",
    "    tags_df.to_csv(path + category + '.csv', index=False, header=True)\n",
    "    del tags_series_of_lists\n",
    "    del tags_list\n",
    "    \n",
    "    # generate the relation\n",
    "    # get all pairs of article_id and tags in a article (for all articles)\n",
    "    articles_id_tags_name_pairs_df = out_df[category].dropna().explode().drop_duplicates(keep = 'first')\n",
    "\n",
    "    # split tags_name and articles_id\n",
    "    articles_id_array = articles_id_tags_name_pairs_df.index.to_numpy()\n",
    "    tags_name_array = articles_id_tags_name_pairs_df.to_numpy()\n",
    "\n",
    "    # create dict with tag_name as key - [swap tags with tags_id]\n",
    "    tags_name_as_key_df = tags_df.set_index('name')\n",
    "    tags_dict = tags_name_as_key_df['id'].to_dict()\n",
    "\n",
    "    # replace tags with tag id\n",
    "    tags_id = np.array([tags_dict[key] for key in tags_name_array])\n",
    "\n",
    "    # create dataframe\n",
    "    tags_in_df = pd.DataFrame(data=articles_id_array, index=tags_id, columns=['article_id'])\n",
    "    tags_in_df.index.name=category + '_id'\n",
    "\n",
    "    # write file and free memory\n",
    "    tags_in_df.to_csv(path + category + '_in.csv', index=True, header=True)"
   ]
  },
  {
   "cell_type": "code",
   "execution_count": 32,
   "metadata": {},
   "outputs": [],
   "source": [
    "### type_clean - data-table ###\n",
    "df[\"type\"] = generateUniqe(\"type\")"
   ]
  },
  {
   "cell_type": "code",
   "execution_count": 33,
   "metadata": {},
   "outputs": [],
   "source": [
    "### tags_clean & tags_in - data-table ###\n",
    "generateUniqeArray(\"tags\")"
   ]
  },
  {
   "cell_type": "code",
   "execution_count": 34,
   "metadata": {},
   "outputs": [],
   "source": [
    "### authors_clean & authors_in - data-table ###\n",
    "generateUniqeArray(\"authors\")"
   ]
  },
  {
   "cell_type": "code",
   "execution_count": 35,
   "metadata": {},
   "outputs": [],
   "source": [
    "### domain_clean - data-table ###\n",
    "df[\"domain\"] = generateUniqe(\"domain\")"
   ]
  },
  {
   "cell_type": "code",
   "execution_count": 36,
   "metadata": {},
   "outputs": [],
   "source": [
    "### meta_keywords_clean & meta_keywords_in - data-table ###\n",
    "generateUniqeArray(\"meta_keywords\")"
   ]
  },
  {
   "cell_type": "code",
   "execution_count": 37,
   "metadata": {},
   "outputs": [
    {
     "output_type": "execute_result",
     "data": {
      "text/plain": "id\n338715    {'we', 'are', 'witnessing', 'a', 'great', 'tur...\n30948     {'more', 'than', 'a', 'parade', 'and', 'my', '...\n819308    {'dallas', 'gun', 'buyback', 'program', 'count...\n339605    {'by', 'paul', 'j', 'balles', 'many', 'industr...\n24651     {'enterprise', 'vsat', 'market', 'global', 're...\n                                ...                        \n411807    {'photo', 'reutersgretchen', 'ertl', 'us', 're...\n989356    {'the', 'views', 'expressed', 'by', 'the', 'au...\n931042    {'over', 'the', 'five', 'decades', 'i', 'have'...\n36044     {'exclusive', 'ukraines', 'postcoup', 'regime'...\n989070    {'photo', 'reutersasmaa', 'waguih', 'egypt', '...\nName: content_tokenize, Length: 171649, dtype: object"
     },
     "metadata": {},
     "execution_count": 37
    }
   ],
   "source": [
    "# Clean meta keywords representation\n",
    "regexStrList = r\"\\[\"\n",
    "df['meta_keywords'] = df['meta_keywords'].replace(to_replace=regexStrList, value='{', regex=True)\n",
    "regexStrList = r\"\\]\"\n",
    "df['meta_keywords'] = df['meta_keywords'].replace(to_replace=regexStrList, value='}', regex=True)\n",
    "\n",
    "regexStrList = r\"\\[\"\n",
    "df['content_tokenize'] = df['content_tokenize'].replace(to_replace=regexStrList, value='{', regex=True)\n",
    "regexStrList = r\"\\]\"\n",
    "df['content_tokenize'] = df['content_tokenize'].replace(to_replace=regexStrList, value='}', regex=True)\n",
    "\n",
    "df['content_tokenize']"
   ]
  },
  {
   "cell_type": "code",
   "execution_count": 38,
   "metadata": {},
   "outputs": [
    {
     "output_type": "execute_result",
     "data": {
      "text/plain": "        domain  type                                                url  \\\nid                                                                        \n338715       0     0        https://theinternetpost.net/tag/global-war/   \n30948        1     0  http://beforeitsnews.com/spirit/2013/06/more-t...   \n819308       1     0  http://beforeitsnews.com/international/2013/01...   \n339605       0     0   https://theinternetpost.net/tag/free-trade-area/   \n24651        1     0  http://beforeitsnews.com/business/2015/11/ente...   \n\n                                                  content  \\\nid                                                          \n338715  we are witnessing a great turning inward in th...   \n30948   more than a parade and my new manifesto of rea...   \n819308  dallas gun buyback program countered with succ...   \n339605  by paul j balles many industries that started ...   \n24651   enterprise vsat market global research and ana...   \n\n                        scraped_at                 inserted_at  \\\nid                                                               \n338715  2018-01-25 20:13:50.426130  2018-02-02 01:19:41.756632   \n30948   2018-01-25 16:17:44.789555  2018-02-02 01:19:41.756632   \n819308  2018-01-25 20:13:50.426130  2018-02-02 01:19:41.756632   \n339605  2018-01-25 20:13:50.426130  2018-02-02 01:19:41.756632   \n24651   2018-01-25 16:17:44.789555  2018-02-02 01:19:41.756632   \n\n                        updated_at  \\\nid                                   \n338715  2018-02-02 01:19:41.756664   \n30948   2018-02-02 01:19:41.756664   \n819308  2018-02-02 01:19:41.756664   \n339605  2018-02-02 01:19:41.756664   \n24651   2018-02-02 01:19:41.756664   \n\n                                                    title           authors  \\\nid                                                                            \n338715                                  THE INTERNET POST               NaN   \n30948            More than a parade, and my new manifesto  Lisa Beck Living   \n819308  Dallas Gun Buyback Program Countered With Succ...               NaN   \n339605                                  THE INTERNET POST               NaN   \n24651   Enterprise VSAT Market Global Research and Ana...               NaN   \n\n        keywords meta_keywords  \\\nid                               \n338715       NaN           NaN   \n30948        NaN           NaN   \n819308       NaN           NaN   \n339605       NaN           NaN   \n24651        NaN           NaN   \n\n                                         meta_description  \\\nid                                                          \n338715  Posts about Global War written by ajfloyd and ...   \n30948                                                 NaN   \n819308                                                NaN   \n339605     Posts about Free trade area written by ajfloyd   \n24651                                                 NaN   \n\n                                                     tags  summary  source  \\\nid                                                                           \n338715  global conflict, war on terror, United States,...      NaN     NaN   \n30948                                                 NaN      NaN     NaN   \n819308                                                NaN      NaN     NaN   \n339605  employment, Free trade agreement, United State...      NaN     NaN   \n24651                                                 NaN      NaN     NaN   \n\n        type_id                                   content_tokenize  \nid                                                                  \n338715        3  {'we', 'are', 'witnessing', 'a', 'great', 'tur...  \n30948         3  {'more', 'than', 'a', 'parade', 'and', 'my', '...  \n819308        3  {'dallas', 'gun', 'buyback', 'program', 'count...  \n339605        3  {'by', 'paul', 'j', 'balles', 'many', 'industr...  \n24651         3  {'enterprise', 'vsat', 'market', 'global', 're...  ",
      "text/html": "<div>\n<style scoped>\n    .dataframe tbody tr th:only-of-type {\n        vertical-align: middle;\n    }\n\n    .dataframe tbody tr th {\n        vertical-align: top;\n    }\n\n    .dataframe thead th {\n        text-align: right;\n    }\n</style>\n<table border=\"1\" class=\"dataframe\">\n  <thead>\n    <tr style=\"text-align: right;\">\n      <th></th>\n      <th>domain</th>\n      <th>type</th>\n      <th>url</th>\n      <th>content</th>\n      <th>scraped_at</th>\n      <th>inserted_at</th>\n      <th>updated_at</th>\n      <th>title</th>\n      <th>authors</th>\n      <th>keywords</th>\n      <th>meta_keywords</th>\n      <th>meta_description</th>\n      <th>tags</th>\n      <th>summary</th>\n      <th>source</th>\n      <th>type_id</th>\n      <th>content_tokenize</th>\n    </tr>\n    <tr>\n      <th>id</th>\n      <th></th>\n      <th></th>\n      <th></th>\n      <th></th>\n      <th></th>\n      <th></th>\n      <th></th>\n      <th></th>\n      <th></th>\n      <th></th>\n      <th></th>\n      <th></th>\n      <th></th>\n      <th></th>\n      <th></th>\n      <th></th>\n      <th></th>\n    </tr>\n  </thead>\n  <tbody>\n    <tr>\n      <th>338715</th>\n      <td>0</td>\n      <td>0</td>\n      <td>https://theinternetpost.net/tag/global-war/</td>\n      <td>we are witnessing a great turning inward in th...</td>\n      <td>2018-01-25 20:13:50.426130</td>\n      <td>2018-02-02 01:19:41.756632</td>\n      <td>2018-02-02 01:19:41.756664</td>\n      <td>THE INTERNET POST</td>\n      <td>NaN</td>\n      <td>NaN</td>\n      <td>NaN</td>\n      <td>Posts about Global War written by ajfloyd and ...</td>\n      <td>global conflict, war on terror, United States,...</td>\n      <td>NaN</td>\n      <td>NaN</td>\n      <td>3</td>\n      <td>{'we', 'are', 'witnessing', 'a', 'great', 'tur...</td>\n    </tr>\n    <tr>\n      <th>30948</th>\n      <td>1</td>\n      <td>0</td>\n      <td>http://beforeitsnews.com/spirit/2013/06/more-t...</td>\n      <td>more than a parade and my new manifesto of rea...</td>\n      <td>2018-01-25 16:17:44.789555</td>\n      <td>2018-02-02 01:19:41.756632</td>\n      <td>2018-02-02 01:19:41.756664</td>\n      <td>More than a parade, and my new manifesto</td>\n      <td>Lisa Beck Living</td>\n      <td>NaN</td>\n      <td>NaN</td>\n      <td>NaN</td>\n      <td>NaN</td>\n      <td>NaN</td>\n      <td>NaN</td>\n      <td>3</td>\n      <td>{'more', 'than', 'a', 'parade', 'and', 'my', '...</td>\n    </tr>\n    <tr>\n      <th>819308</th>\n      <td>1</td>\n      <td>0</td>\n      <td>http://beforeitsnews.com/international/2013/01...</td>\n      <td>dallas gun buyback program countered with succ...</td>\n      <td>2018-01-25 20:13:50.426130</td>\n      <td>2018-02-02 01:19:41.756632</td>\n      <td>2018-02-02 01:19:41.756664</td>\n      <td>Dallas Gun Buyback Program Countered With Succ...</td>\n      <td>NaN</td>\n      <td>NaN</td>\n      <td>NaN</td>\n      <td>NaN</td>\n      <td>NaN</td>\n      <td>NaN</td>\n      <td>NaN</td>\n      <td>3</td>\n      <td>{'dallas', 'gun', 'buyback', 'program', 'count...</td>\n    </tr>\n    <tr>\n      <th>339605</th>\n      <td>0</td>\n      <td>0</td>\n      <td>https://theinternetpost.net/tag/free-trade-area/</td>\n      <td>by paul j balles many industries that started ...</td>\n      <td>2018-01-25 20:13:50.426130</td>\n      <td>2018-02-02 01:19:41.756632</td>\n      <td>2018-02-02 01:19:41.756664</td>\n      <td>THE INTERNET POST</td>\n      <td>NaN</td>\n      <td>NaN</td>\n      <td>NaN</td>\n      <td>Posts about Free trade area written by ajfloyd</td>\n      <td>employment, Free trade agreement, United State...</td>\n      <td>NaN</td>\n      <td>NaN</td>\n      <td>3</td>\n      <td>{'by', 'paul', 'j', 'balles', 'many', 'industr...</td>\n    </tr>\n    <tr>\n      <th>24651</th>\n      <td>1</td>\n      <td>0</td>\n      <td>http://beforeitsnews.com/business/2015/11/ente...</td>\n      <td>enterprise vsat market global research and ana...</td>\n      <td>2018-01-25 16:17:44.789555</td>\n      <td>2018-02-02 01:19:41.756632</td>\n      <td>2018-02-02 01:19:41.756664</td>\n      <td>Enterprise VSAT Market Global Research and Ana...</td>\n      <td>NaN</td>\n      <td>NaN</td>\n      <td>NaN</td>\n      <td>NaN</td>\n      <td>NaN</td>\n      <td>NaN</td>\n      <td>NaN</td>\n      <td>3</td>\n      <td>{'enterprise', 'vsat', 'market', 'global', 're...</td>\n    </tr>\n  </tbody>\n</table>\n</div>"
     },
     "metadata": {},
     "execution_count": 38
    }
   ],
   "source": [
    "df.head()"
   ]
  },
  {
   "cell_type": "code",
   "execution_count": 39,
   "metadata": {},
   "outputs": [],
   "source": [
    "### article clean ###\n",
    "\n",
    "df[['domain', 'type', \"url\", \"content_tokenize\", \"content\", \"title\", \"meta_keywords\", \"scraped_at\",  \"updated_at\", \"inserted_at\"]].to_csv(path + 'article.csv', header=True)"
   ]
  },
  {
   "cell_type": "markdown",
   "metadata": {},
   "source": [
    "# Setting up wikinews"
   ]
  },
  {
   "cell_type": "code",
   "execution_count": 12,
   "metadata": {},
   "outputs": [
    {
     "output_type": "execute_result",
     "data": {
      "text/plain": "                                                                                           categories  \\\narticle_url                                                                                             \nhttps://en.wikinews.org/wiki/Namibia_votes_in_p...  November 28, 2009,Namibia,Published,Elections,...   \nhttps://en.wikinews.org/wiki/Scientology_defect...  October 9, 2010,Religion,Scientology,Published...   \nhttps://en.wikinews.org/wiki/Nobel_laureate_Dor...  October 22, 2007,Published,Archived,United Kin...   \nhttps://en.wikinews.org/wiki/No-fly_zone_demand...  October 29, 2011,Published,Archived,Syria,Midd...   \nhttps://en.wikinews.org/wiki/Romanian_oil_compa...  August 22, 2006,Published,AutoArchived,World,P...   \n...                                                                                               ...   \nhttps://en.wikinews.org/wiki/Reporter_abducted_...  January 10, 2006,Published,Archived,Iraq,Polit...   \nhttps://en.wikinews.org/wiki/Tens_of_thousands_...  November 26, 2005,Published,Archived,Slovenia,...   \nhttps://en.wikinews.org/wiki/Silent_protest_in_...  August 30, 2007,Published,Archived,Politics an...   \nhttps://en.wikinews.org/wiki/Spanish_authoritie...  March 5, 2015,Published,Archived,Ukraine,Spain...   \nhttps://en.wikinews.org/wiki/US_Secretary_of_St...  May 12, 2010,Published,Archived,Afghanistan,Un...   \n\n                                                                                              content  \\\narticle_url                                                                                             \nhttps://en.wikinews.org/wiki/Namibia_votes_in_p...  voters are heading to the polls today in namib...   \nhttps://en.wikinews.org/wiki/Scientology_defect...  recent reports have revealed that a defector f...   \nhttps://en.wikinews.org/wiki/Nobel_laureate_Dor...  british writer doris lessing recipient of the ...   \nhttps://en.wikinews.org/wiki/No-fly_zone_demand...  friday saw protests across syria calling for a...   \nhttps://en.wikinews.org/wiki/Romanian_oil_compa...  an orizont oil platform in the persian gulf ow...   \n...                                                                                               ...   \nhttps://en.wikinews.org/wiki/Reporter_abducted_...  freelance writer jill carroll currently workin...   \nhttps://en.wikinews.org/wiki/Tens_of_thousands_...  despite heavy snowing tens of thousands of wor...   \nhttps://en.wikinews.org/wiki/Silent_protest_in_...  thousands of greeks gathered last night in syn...   \nhttps://en.wikinews.org/wiki/Spanish_authoritie...  the former of ukraine has been arrested in spa...   \nhttps://en.wikinews.org/wiki/US_Secretary_of_St...  united states secretary of state hillary clint...   \n\n                                                         publish_date  \\\narticle_url                                                             \nhttps://en.wikinews.org/wiki/Namibia_votes_in_p...  November 28, 2009   \nhttps://en.wikinews.org/wiki/Scientology_defect...    October 9, 2010   \nhttps://en.wikinews.org/wiki/Nobel_laureate_Dor...   October 22, 2007   \nhttps://en.wikinews.org/wiki/No-fly_zone_demand...   October 29, 2011   \nhttps://en.wikinews.org/wiki/Romanian_oil_compa...    August 22, 2006   \n...                                                               ...   \nhttps://en.wikinews.org/wiki/Reporter_abducted_...   January 10, 2006   \nhttps://en.wikinews.org/wiki/Tens_of_thousands_...  November 26, 2005   \nhttps://en.wikinews.org/wiki/Silent_protest_in_...    August 30, 2007   \nhttps://en.wikinews.org/wiki/Spanish_authoritie...      March 5, 2015   \nhttps://en.wikinews.org/wiki/US_Secretary_of_St...       May 12, 2010   \n\n                                                    scraped_at  \\\narticle_url                                                      \nhttps://en.wikinews.org/wiki/Namibia_votes_in_p...  2020-04-23   \nhttps://en.wikinews.org/wiki/Scientology_defect...  2020-04-22   \nhttps://en.wikinews.org/wiki/Nobel_laureate_Dor...  2020-04-22   \nhttps://en.wikinews.org/wiki/No-fly_zone_demand...  2020-04-22   \nhttps://en.wikinews.org/wiki/Romanian_oil_compa...  2020-04-22   \n...                                                        ...   \nhttps://en.wikinews.org/wiki/Reporter_abducted_...  2020-04-22   \nhttps://en.wikinews.org/wiki/Tens_of_thousands_...  2020-04-22   \nhttps://en.wikinews.org/wiki/Silent_protest_in_...  2020-04-22   \nhttps://en.wikinews.org/wiki/Spanish_authoritie...  2020-04-22   \nhttps://en.wikinews.org/wiki/US_Secretary_of_St...  2020-04-22   \n\n                                                                                          source_urls  \\\narticle_url                                                                                             \nhttps://en.wikinews.org/wiki/Namibia_votes_in_p...  http://www1.voanews.com/english/news/africa/27...   \nhttps://en.wikinews.org/wiki/Scientology_defect...  http://newsfeed.time.com/2010/10/09/scientolog...   \nhttps://en.wikinews.org/wiki/Nobel_laureate_Dor...  http://www.ctv.ca/servlet/ArticleNews/story/CT...   \nhttps://en.wikinews.org/wiki/No-fly_zone_demand...  http://www.bbc.co.uk/news/world-middle-east-15...   \nhttps://en.wikinews.org/wiki/Romanian_oil_compa...  http://www.bloomberg.com/apps/news?pid=2060108...   \n...                                                                                               ...   \nhttps://en.wikinews.org/wiki/Reporter_abducted_...  http://csmonitor.com/2006/0110/p01s04-woiq.htm...   \nhttps://en.wikinews.org/wiki/Tens_of_thousands_...  http://www.delo.si/index.php?sv_path=41,35,102...   \nhttps://en.wikinews.org/wiki/Silent_protest_in_...  http://www.news24.com/News24/World/News/0,,2-1...   \nhttps://en.wikinews.org/wiki/Spanish_authoritie...  http://economictimes.indiatimes.com/news/inter...   \nhttps://en.wikinews.org/wiki/US_Secretary_of_St...  http://www.google.com/hostednews/ap/article/AL...   \n\n                                                                                  sources_domain_urls  \\\narticle_url                                                                                             \nhttps://en.wikinews.org/wiki/Namibia_votes_in_p...              /wiki/VOA_News,/wiki/Associated_Press   \nhttps://en.wikinews.org/wiki/Scientology_defect...  /wiki/TIME,https://en.wikipedia.org/wiki/LA_We...   \nhttps://en.wikinews.org/wiki/Nobel_laureate_Dor...  https://en.wikipedia.org/wiki/CTV.ca,https://e...   \nhttps://en.wikinews.org/wiki/No-fly_zone_demand...  /wiki/BBC_News_Online,/wiki/Agence_France-Pres...   \nhttps://en.wikinews.org/wiki/Romanian_oil_compa...  https://en.wikipedia.org/wiki/Bloomberg,/wiki/...   \n...                                                                                               ...   \nhttps://en.wikinews.org/wiki/Reporter_abducted_...  https://en.wikipedia.org/wiki/Christian_Scienc...   \nhttps://en.wikinews.org/wiki/Tens_of_thousands_...  https://en.wikipedia.org/wiki/Delo,https://en....   \nhttps://en.wikinews.org/wiki/Silent_protest_in_...  https://en.wikipedia.org/wiki/News24,/wiki/BBC...   \nhttps://en.wikinews.org/wiki/Spanish_authoritie...  https://en.wikipedia.org/wiki/The_Economic_Tim...   \nhttps://en.wikinews.org/wiki/US_Secretary_of_St...         /wiki/The_Associated_Press,/wiki/The_Times   \n\n                                                                                                title  \\\narticle_url                                                                                             \nhttps://en.wikinews.org/wiki/Namibia_votes_in_p...             Namibia votes in presidential election   \nhttps://en.wikinews.org/wiki/Scientology_defect...  Scientology defector arrested after attempting...   \nhttps://en.wikinews.org/wiki/Nobel_laureate_Dor...  Nobel laureate Doris Lessing: 9/11 'wasn't tha...   \nhttps://en.wikinews.org/wiki/No-fly_zone_demand...          No-fly zone demanded by Syrian protesters   \nhttps://en.wikinews.org/wiki/Romanian_oil_compa...  Romanian oil company claims Iran has seized on...   \n...                                                                                               ...   \nhttps://en.wikinews.org/wiki/Reporter_abducted_...      Reporter abducted in Baghdad Saturday morning   \nhttps://en.wikinews.org/wiki/Tens_of_thousands_...  Tens of thousands of workers demonstrate in Lj...   \nhttps://en.wikinews.org/wiki/Silent_protest_in_...         Silent protest in Athens over recent fires   \nhttps://en.wikinews.org/wiki/Spanish_authoritie...  Spanish authorities arrest Yuriy Kolobov, form...   \nhttps://en.wikinews.org/wiki/US_Secretary_of_St...  US Secretary of State Hillary Clinton pledges ...   \n\n                                                                                     content_tokanize  \narticle_url                                                                                            \nhttps://en.wikinews.org/wiki/Namibia_votes_in_p...  {'voter', 'be', 'head', 'to', 'the', 'poll', '...  \nhttps://en.wikinews.org/wiki/Scientology_defect...  {'recent', 'report', 'have', 'reveal', 'that',...  \nhttps://en.wikinews.org/wiki/Nobel_laureate_Dor...  {'british', 'writer', 'doris', 'lessing', 'rec...  \nhttps://en.wikinews.org/wiki/No-fly_zone_demand...  {'friday', 'see', 'protest', 'across', 'syria'...  \nhttps://en.wikinews.org/wiki/Romanian_oil_compa...  {'an', 'orizont', 'oil', 'platform', 'in', 'th...  \n...                                                                                               ...  \nhttps://en.wikinews.org/wiki/Reporter_abducted_...  {'freelance', 'writer', 'jill', 'carroll', 'cu...  \nhttps://en.wikinews.org/wiki/Tens_of_thousands_...  {'despite', 'heavy', 'snow', 'ten', 'of', 'tho...  \nhttps://en.wikinews.org/wiki/Silent_protest_in_...  {'thousand', 'of', 'greeks', 'gather', 'last',...  \nhttps://en.wikinews.org/wiki/Spanish_authoritie...  {'the', 'former', 'of', 'ukraine', 'have', 'be...  \nhttps://en.wikinews.org/wiki/US_Secretary_of_St...  {'united', 'states', 'secretary', 'of', 'state...  \n\n[3679 rows x 8 columns]",
      "text/html": "<div>\n<style scoped>\n    .dataframe tbody tr th:only-of-type {\n        vertical-align: middle;\n    }\n\n    .dataframe tbody tr th {\n        vertical-align: top;\n    }\n\n    .dataframe thead th {\n        text-align: right;\n    }\n</style>\n<table border=\"1\" class=\"dataframe\">\n  <thead>\n    <tr style=\"text-align: right;\">\n      <th></th>\n      <th>categories</th>\n      <th>content</th>\n      <th>publish_date</th>\n      <th>scraped_at</th>\n      <th>source_urls</th>\n      <th>sources_domain_urls</th>\n      <th>title</th>\n      <th>content_tokanize</th>\n    </tr>\n    <tr>\n      <th>article_url</th>\n      <th></th>\n      <th></th>\n      <th></th>\n      <th></th>\n      <th></th>\n      <th></th>\n      <th></th>\n      <th></th>\n    </tr>\n  </thead>\n  <tbody>\n    <tr>\n      <th>https://en.wikinews.org/wiki/Namibia_votes_in_presidential_election</th>\n      <td>November 28, 2009,Namibia,Published,Elections,...</td>\n      <td>voters are heading to the polls today in namib...</td>\n      <td>November 28, 2009</td>\n      <td>2020-04-23</td>\n      <td>http://www1.voanews.com/english/news/africa/27...</td>\n      <td>/wiki/VOA_News,/wiki/Associated_Press</td>\n      <td>Namibia votes in presidential election</td>\n      <td>{'voter', 'be', 'head', 'to', 'the', 'poll', '...</td>\n    </tr>\n    <tr>\n      <th>https://en.wikinews.org/wiki/Scientology_defector_arrested_after_attempting_to_leave_organization</th>\n      <td>October 9, 2010,Religion,Scientology,Published...</td>\n      <td>recent reports have revealed that a defector f...</td>\n      <td>October 9, 2010</td>\n      <td>2020-04-22</td>\n      <td>http://newsfeed.time.com/2010/10/09/scientolog...</td>\n      <td>/wiki/TIME,https://en.wikipedia.org/wiki/LA_We...</td>\n      <td>Scientology defector arrested after attempting...</td>\n      <td>{'recent', 'report', 'have', 'reveal', 'that',...</td>\n    </tr>\n    <tr>\n      <th>https://en.wikinews.org/wiki/Nobel_laureate_Doris_Lessing:_9/11_%27wasn%27t_that_terrible%27_compared_to_IRA_attacks</th>\n      <td>October 22, 2007,Published,Archived,United Kin...</td>\n      <td>british writer doris lessing recipient of the ...</td>\n      <td>October 22, 2007</td>\n      <td>2020-04-22</td>\n      <td>http://www.ctv.ca/servlet/ArticleNews/story/CT...</td>\n      <td>https://en.wikipedia.org/wiki/CTV.ca,https://e...</td>\n      <td>Nobel laureate Doris Lessing: 9/11 'wasn't tha...</td>\n      <td>{'british', 'writer', 'doris', 'lessing', 'rec...</td>\n    </tr>\n    <tr>\n      <th>https://en.wikinews.org/wiki/No-fly_zone_demanded_by_Syrian_protesters</th>\n      <td>October 29, 2011,Published,Archived,Syria,Midd...</td>\n      <td>friday saw protests across syria calling for a...</td>\n      <td>October 29, 2011</td>\n      <td>2020-04-22</td>\n      <td>http://www.bbc.co.uk/news/world-middle-east-15...</td>\n      <td>/wiki/BBC_News_Online,/wiki/Agence_France-Pres...</td>\n      <td>No-fly zone demanded by Syrian protesters</td>\n      <td>{'friday', 'see', 'protest', 'across', 'syria'...</td>\n    </tr>\n    <tr>\n      <th>https://en.wikinews.org/wiki/Romanian_oil_company_claims_Iran_has_seized_one_of_its_rigs</th>\n      <td>August 22, 2006,Published,AutoArchived,World,P...</td>\n      <td>an orizont oil platform in the persian gulf ow...</td>\n      <td>August 22, 2006</td>\n      <td>2020-04-22</td>\n      <td>http://www.bloomberg.com/apps/news?pid=2060108...</td>\n      <td>https://en.wikipedia.org/wiki/Bloomberg,/wiki/...</td>\n      <td>Romanian oil company claims Iran has seized on...</td>\n      <td>{'an', 'orizont', 'oil', 'platform', 'in', 'th...</td>\n    </tr>\n    <tr>\n      <th>...</th>\n      <td>...</td>\n      <td>...</td>\n      <td>...</td>\n      <td>...</td>\n      <td>...</td>\n      <td>...</td>\n      <td>...</td>\n      <td>...</td>\n    </tr>\n    <tr>\n      <th>https://en.wikinews.org/wiki/Reporter_abducted_in_Baghdad_Saturday_morning</th>\n      <td>January 10, 2006,Published,Archived,Iraq,Polit...</td>\n      <td>freelance writer jill carroll currently workin...</td>\n      <td>January 10, 2006</td>\n      <td>2020-04-22</td>\n      <td>http://csmonitor.com/2006/0110/p01s04-woiq.htm...</td>\n      <td>https://en.wikipedia.org/wiki/Christian_Scienc...</td>\n      <td>Reporter abducted in Baghdad Saturday morning</td>\n      <td>{'freelance', 'writer', 'jill', 'carroll', 'cu...</td>\n    </tr>\n    <tr>\n      <th>https://en.wikinews.org/wiki/Tens_of_thousands_of_workers_demonstrate_in_Ljubljana,_Slovenia</th>\n      <td>November 26, 2005,Published,Archived,Slovenia,...</td>\n      <td>despite heavy snowing tens of thousands of wor...</td>\n      <td>November 26, 2005</td>\n      <td>2020-04-22</td>\n      <td>http://www.delo.si/index.php?sv_path=41,35,102...</td>\n      <td>https://en.wikipedia.org/wiki/Delo,https://en....</td>\n      <td>Tens of thousands of workers demonstrate in Lj...</td>\n      <td>{'despite', 'heavy', 'snow', 'ten', 'of', 'tho...</td>\n    </tr>\n    <tr>\n      <th>https://en.wikinews.org/wiki/Silent_protest_in_Athens_over_recent_fires</th>\n      <td>August 30, 2007,Published,Archived,Politics an...</td>\n      <td>thousands of greeks gathered last night in syn...</td>\n      <td>August 30, 2007</td>\n      <td>2020-04-22</td>\n      <td>http://www.news24.com/News24/World/News/0,,2-1...</td>\n      <td>https://en.wikipedia.org/wiki/News24,/wiki/BBC...</td>\n      <td>Silent protest in Athens over recent fires</td>\n      <td>{'thousand', 'of', 'greeks', 'gather', 'last',...</td>\n    </tr>\n    <tr>\n      <th>https://en.wikinews.org/wiki/Spanish_authorities_arrest_Yuriy_Kolobov,_former_Ukrainian_finance_minister</th>\n      <td>March 5, 2015,Published,Archived,Ukraine,Spain...</td>\n      <td>the former of ukraine has been arrested in spa...</td>\n      <td>March 5, 2015</td>\n      <td>2020-04-22</td>\n      <td>http://economictimes.indiatimes.com/news/inter...</td>\n      <td>https://en.wikipedia.org/wiki/The_Economic_Tim...</td>\n      <td>Spanish authorities arrest Yuriy Kolobov, form...</td>\n      <td>{'the', 'former', 'of', 'ukraine', 'have', 'be...</td>\n    </tr>\n    <tr>\n      <th>https://en.wikinews.org/wiki/US_Secretary_of_State_Hillary_Clinton_pledges_support_for_Afghanistan</th>\n      <td>May 12, 2010,Published,Archived,Afghanistan,Un...</td>\n      <td>united states secretary of state hillary clint...</td>\n      <td>May 12, 2010</td>\n      <td>2020-04-22</td>\n      <td>http://www.google.com/hostednews/ap/article/AL...</td>\n      <td>/wiki/The_Associated_Press,/wiki/The_Times</td>\n      <td>US Secretary of State Hillary Clinton pledges ...</td>\n      <td>{'united', 'states', 'secretary', 'of', 'state...</td>\n    </tr>\n  </tbody>\n</table>\n<p>3679 rows × 8 columns</p>\n</div>"
     },
     "metadata": {},
     "execution_count": 12
    }
   ],
   "source": [
    "# imports a random sample of size s from csv-file as a pandas dataframe\n",
    "# pandas using python 3.X uses utf-8 encoding\n",
    "\n",
    "# usage: specify file location, sample size and seed(used by random)\n",
    "filepath = '../Data_git_ignore/wiki_news_backup_clean.csv'\n",
    "#filepath = 'news_sample.csv' # <- overwrite for setup\n",
    "s = 3679                    # desired sample size(seems to have slack ie. not exact)\n",
    "seed = 1                     # seed used by Pseudorandom number generator\n",
    "\n",
    "# init dataframe with specified values\n",
    "df = pd.read_csv(filepath, index_col = [0]).sample(n=s, random_state=seed)\n",
    "\n",
    "# visual output\n",
    "#print(df.shape, '<- size of dataframe \\n')\n",
    "df"
   ]
  },
  {
   "cell_type": "code",
   "execution_count": 13,
   "metadata": {},
   "outputs": [
    {
     "output_type": "execute_result",
     "data": {
      "text/plain": "                                                 categories  \\\nid                                                            \n10000000  November 28, 2009,Namibia,Published,Elections,...   \n10000001  October 9, 2010,Religion,Scientology,Published...   \n10000002  October 22, 2007,Published,Archived,United Kin...   \n10000003  October 29, 2011,Published,Archived,Syria,Midd...   \n10000004  August 22, 2006,Published,AutoArchived,World,P...   \n\n                                                    content  \\\nid                                                            \n10000000  voters are heading to the polls today in namib...   \n10000001  recent reports have revealed that a defector f...   \n10000002  british writer doris lessing recipient of the ...   \n10000003  friday saw protests across syria calling for a...   \n10000004  an orizont oil platform in the persian gulf ow...   \n\n               publish_date  scraped_at  \\\nid                                        \n10000000  November 28, 2009  2020-04-23   \n10000001    October 9, 2010  2020-04-22   \n10000002   October 22, 2007  2020-04-22   \n10000003   October 29, 2011  2020-04-22   \n10000004    August 22, 2006  2020-04-22   \n\n                                                source_urls  \\\nid                                                            \n10000000  http://www1.voanews.com/english/news/africa/27...   \n10000001  http://newsfeed.time.com/2010/10/09/scientolog...   \n10000002  http://www.ctv.ca/servlet/ArticleNews/story/CT...   \n10000003  http://www.bbc.co.uk/news/world-middle-east-15...   \n10000004  http://www.bloomberg.com/apps/news?pid=2060108...   \n\n                                        sources_domain_urls  \\\nid                                                            \n10000000              /wiki/VOA_News,/wiki/Associated_Press   \n10000001  /wiki/TIME,https://en.wikipedia.org/wiki/LA_We...   \n10000002  https://en.wikipedia.org/wiki/CTV.ca,https://e...   \n10000003  /wiki/BBC_News_Online,/wiki/Agence_France-Pres...   \n10000004  https://en.wikipedia.org/wiki/Bloomberg,/wiki/...   \n\n                                                      title  \\\nid                                                            \n10000000             Namibia votes in presidential election   \n10000001  Scientology defector arrested after attempting...   \n10000002  Nobel laureate Doris Lessing: 9/11 'wasn't tha...   \n10000003          No-fly zone demanded by Syrian protesters   \n10000004  Romanian oil company claims Iran has seized on...   \n\n                                           content_tokanize  category  \nid                                                                     \n10000000  {'voter', 'be', 'head', 'to', 'the', 'poll', '...         1  \n10000001  {'recent', 'report', 'have', 'reveal', 'that',...         1  \n10000002  {'british', 'writer', 'doris', 'lessing', 'rec...         1  \n10000003  {'friday', 'see', 'protest', 'across', 'syria'...         1  \n10000004  {'an', 'orizont', 'oil', 'platform', 'in', 'th...         1  ",
      "text/html": "<div>\n<style scoped>\n    .dataframe tbody tr th:only-of-type {\n        vertical-align: middle;\n    }\n\n    .dataframe tbody tr th {\n        vertical-align: top;\n    }\n\n    .dataframe thead th {\n        text-align: right;\n    }\n</style>\n<table border=\"1\" class=\"dataframe\">\n  <thead>\n    <tr style=\"text-align: right;\">\n      <th></th>\n      <th>categories</th>\n      <th>content</th>\n      <th>publish_date</th>\n      <th>scraped_at</th>\n      <th>source_urls</th>\n      <th>sources_domain_urls</th>\n      <th>title</th>\n      <th>content_tokanize</th>\n      <th>category</th>\n    </tr>\n    <tr>\n      <th>id</th>\n      <th></th>\n      <th></th>\n      <th></th>\n      <th></th>\n      <th></th>\n      <th></th>\n      <th></th>\n      <th></th>\n      <th></th>\n    </tr>\n  </thead>\n  <tbody>\n    <tr>\n      <th>10000000</th>\n      <td>November 28, 2009,Namibia,Published,Elections,...</td>\n      <td>voters are heading to the polls today in namib...</td>\n      <td>November 28, 2009</td>\n      <td>2020-04-23</td>\n      <td>http://www1.voanews.com/english/news/africa/27...</td>\n      <td>/wiki/VOA_News,/wiki/Associated_Press</td>\n      <td>Namibia votes in presidential election</td>\n      <td>{'voter', 'be', 'head', 'to', 'the', 'poll', '...</td>\n      <td>1</td>\n    </tr>\n    <tr>\n      <th>10000001</th>\n      <td>October 9, 2010,Religion,Scientology,Published...</td>\n      <td>recent reports have revealed that a defector f...</td>\n      <td>October 9, 2010</td>\n      <td>2020-04-22</td>\n      <td>http://newsfeed.time.com/2010/10/09/scientolog...</td>\n      <td>/wiki/TIME,https://en.wikipedia.org/wiki/LA_We...</td>\n      <td>Scientology defector arrested after attempting...</td>\n      <td>{'recent', 'report', 'have', 'reveal', 'that',...</td>\n      <td>1</td>\n    </tr>\n    <tr>\n      <th>10000002</th>\n      <td>October 22, 2007,Published,Archived,United Kin...</td>\n      <td>british writer doris lessing recipient of the ...</td>\n      <td>October 22, 2007</td>\n      <td>2020-04-22</td>\n      <td>http://www.ctv.ca/servlet/ArticleNews/story/CT...</td>\n      <td>https://en.wikipedia.org/wiki/CTV.ca,https://e...</td>\n      <td>Nobel laureate Doris Lessing: 9/11 'wasn't tha...</td>\n      <td>{'british', 'writer', 'doris', 'lessing', 'rec...</td>\n      <td>1</td>\n    </tr>\n    <tr>\n      <th>10000003</th>\n      <td>October 29, 2011,Published,Archived,Syria,Midd...</td>\n      <td>friday saw protests across syria calling for a...</td>\n      <td>October 29, 2011</td>\n      <td>2020-04-22</td>\n      <td>http://www.bbc.co.uk/news/world-middle-east-15...</td>\n      <td>/wiki/BBC_News_Online,/wiki/Agence_France-Pres...</td>\n      <td>No-fly zone demanded by Syrian protesters</td>\n      <td>{'friday', 'see', 'protest', 'across', 'syria'...</td>\n      <td>1</td>\n    </tr>\n    <tr>\n      <th>10000004</th>\n      <td>August 22, 2006,Published,AutoArchived,World,P...</td>\n      <td>an orizont oil platform in the persian gulf ow...</td>\n      <td>August 22, 2006</td>\n      <td>2020-04-22</td>\n      <td>http://www.bloomberg.com/apps/news?pid=2060108...</td>\n      <td>https://en.wikipedia.org/wiki/Bloomberg,/wiki/...</td>\n      <td>Romanian oil company claims Iran has seized on...</td>\n      <td>{'an', 'orizont', 'oil', 'platform', 'in', 'th...</td>\n      <td>1</td>\n    </tr>\n  </tbody>\n</table>\n</div>"
     },
     "metadata": {},
     "execution_count": 13
    }
   ],
   "source": [
    "df['id'] = pd.to_numeric(range(10000000, 10000000+df.shape[0]), errors = 'coerce', downcast = 'integer')\n",
    "df.drop_duplicates(subset = 'id', inplace = True)\n",
    "\n",
    "df[\"category\"] = 1\n",
    "\n",
    "df = df.dropna(subset=['id']).set_index('id')\n",
    "df.head()"
   ]
  },
  {
   "cell_type": "code",
   "execution_count": 14,
   "metadata": {},
   "outputs": [
    {
     "output_type": "execute_result",
     "data": {
      "text/plain": "Int64Index([10000000, 10000001, 10000002, 10000003, 10000004, 10000005,\n            10000006, 10000007, 10000008, 10000009,\n            ...\n            10003669, 10003670, 10003671, 10003672, 10003673, 10003674,\n            10003675, 10003676, 10003677, 10003678],\n           dtype='int64', name='id', length=3679)"
     },
     "metadata": {},
     "execution_count": 14
    }
   ],
   "source": [
    "df.index"
   ]
  },
  {
   "cell_type": "code",
   "execution_count": 15,
   "metadata": {},
   "outputs": [],
   "source": [
    "path = '../Data_git_ignore/clean_csv/'\n",
    "\n",
    "# create temporary dataframe and use article id as index \n",
    "out_df = pd.DataFrame({'id':df.index})\n",
    "out_df.set_index('id', inplace=True)"
   ]
  },
  {
   "cell_type": "code",
   "execution_count": 16,
   "metadata": {},
   "outputs": [],
   "source": [
    "def generateUniqe (category):\n",
    "    type_array = df[category].unique() # get array of unique types\n",
    "    type_df = pd.DataFrame({'id': np.arange(type_array.size), 'name':type_array})\n",
    "\n",
    "    # write file and free memory\n",
    "    type_df.to_csv(path + category + '.csv', index=False, header=True)\n",
    "    #del type_array\n",
    "    #del type_df # tmp delete later\n",
    "\n",
    "    # create dict with type_name as key - [swap type with type_id]\n",
    "    type_name_as_key_df = type_df.set_index('name')\n",
    "    type_dict = type_name_as_key_df['id'].to_dict()\n",
    "\n",
    "    # replace type with tag id and create new column\n",
    "    type_id = np.array([type_dict[key] for key in df[category].to_numpy()])\n",
    "    #df['type_id'] =type_id\n",
    "    \n",
    "    return type_id\n",
    "\n",
    "# Wikinews\n",
    "def generateUniqeArray (category, sep=', '):\n",
    "    # creates list of list but formaly it is a pd.series of lists\n",
    "    tags_series_of_lists = df[category].dropna().str.split(sep) # -> ', ' not ','\n",
    "\n",
    "    if not category in out_df: ### tmp need another method ###\n",
    "        out_df.insert(0,column = category, value = tags_series_of_lists)\n",
    "\n",
    "    # flattern tags_series_of_lists to a set(ie. unique values only)\n",
    "    tags_list = list(set([item for sublist in tags_series_of_lists for item in sublist]))\n",
    "\n",
    "    # create dataframe\n",
    "    tags_df = pd.DataFrame({'id': np.arange(len(tags_list)), 'name':tags_list})\n",
    "\n",
    "    # write file and free memory\n",
    "    tags_df.to_csv(path + category + '.csv', index=False, header=True)\n",
    "    del tags_series_of_lists\n",
    "    del tags_list\n",
    "    \n",
    "    # generate the relation\n",
    "    # get all pairs of article_id and tags in a article (for all articles)\n",
    "    articles_id_tags_name_pairs_df = out_df[category].dropna().explode().drop_duplicates(keep = 'first')\n",
    "\n",
    "    # split tags_name and articles_id\n",
    "    articles_id_array = articles_id_tags_name_pairs_df.index.to_numpy()\n",
    "    tags_name_array = articles_id_tags_name_pairs_df.to_numpy()\n",
    "    \n",
    "    # create dict with tag_name as key - [swap tags with tags_id]\n",
    "    tags_name_as_key_df = tags_df.set_index('name')\n",
    "    tags_dict = tags_name_as_key_df['id'].to_dict()\n",
    "\n",
    "    # replace tags with tag id\n",
    "    tags_id = np.array([tags_dict[key] for key in tags_name_array])\n",
    "    \n",
    "    # create dataframe\n",
    "    tags_in_df = pd.DataFrame(data=articles_id_array, index=tags_id, columns=['id'])\n",
    "    tags_in_df.index.name=category + '_id'\n",
    "\n",
    "    # write file and free memory\n",
    "    tags_in_df.to_csv(path + category + '_in.csv', index=True, header=True)"
   ]
  },
  {
   "cell_type": "code",
   "execution_count": 17,
   "metadata": {},
   "outputs": [],
   "source": [
    "### categoires_clean & categories_in ###\n",
    "generateUniqeArray(\"categories\")"
   ]
  },
  {
   "cell_type": "code",
   "execution_count": 18,
   "metadata": {},
   "outputs": [],
   "source": [
    "### sources_domain_urls & sources_domain_urls_in\n",
    "generateUniqeArray(\"sources_domain_urls\", sep=',')"
   ]
  },
  {
   "cell_type": "code",
   "execution_count": 19,
   "metadata": {},
   "outputs": [],
   "source": [
    "# Clean meta keywords representation\n",
    "regexStrList = r\"\\[\"\n",
    "df['content'] = df['content'].replace(to_replace=regexStrList, value='{', regex=True)\n",
    "regexStrList = r\"\\]\"\n",
    "df['content'] = df['content'].replace(to_replace=regexStrList, value='}', regex=True)"
   ]
  },
  {
   "cell_type": "code",
   "execution_count": 20,
   "metadata": {},
   "outputs": [],
   "source": [
    "### article clean ###\n",
    "df[['content_tokanize', 'content', 'category', \"title\", \"scraped_at\", \"publish_date\"]].to_csv(path + 'wiki_article.csv', header=True)"
   ]
  },
  {
   "cell_type": "code",
   "execution_count": 21,
   "metadata": {},
   "outputs": [
    {
     "output_type": "execute_result",
     "data": {
      "text/plain": "                                                    content  category  \\\nid                                                                      \n10000000  voters are heading to the polls today in namib...         1   \n10000001  recent reports have revealed that a defector f...         1   \n10000002  british writer doris lessing recipient of the ...         1   \n10000003  friday saw protests across syria calling for a...         1   \n10000004  an orizont oil platform in the persian gulf ow...         1   \n...                                                     ...       ...   \n10003674  freelance writer jill carroll currently workin...         1   \n10003675  despite heavy snowing tens of thousands of wor...         1   \n10003676  thousands of greeks gathered last night in syn...         1   \n10003677  the former of ukraine has been arrested in spa...         1   \n10003678  united states secretary of state hillary clint...         1   \n\n                                                      title  scraped_at  \\\nid                                                                        \n10000000             Namibia votes in presidential election  2020-04-23   \n10000001  Scientology defector arrested after attempting...  2020-04-22   \n10000002  Nobel laureate Doris Lessing: 9/11 'wasn't tha...  2020-04-22   \n10000003          No-fly zone demanded by Syrian protesters  2020-04-22   \n10000004  Romanian oil company claims Iran has seized on...  2020-04-22   \n...                                                     ...         ...   \n10003674      Reporter abducted in Baghdad Saturday morning  2020-04-22   \n10003675  Tens of thousands of workers demonstrate in Lj...  2020-04-22   \n10003676         Silent protest in Athens over recent fires  2020-04-22   \n10003677  Spanish authorities arrest Yuriy Kolobov, form...  2020-04-22   \n10003678  US Secretary of State Hillary Clinton pledges ...  2020-04-22   \n\n               publish_date  \nid                           \n10000000  November 28, 2009  \n10000001    October 9, 2010  \n10000002   October 22, 2007  \n10000003   October 29, 2011  \n10000004    August 22, 2006  \n...                     ...  \n10003674   January 10, 2006  \n10003675  November 26, 2005  \n10003676    August 30, 2007  \n10003677      March 5, 2015  \n10003678       May 12, 2010  \n\n[3679 rows x 5 columns]",
      "text/html": "<div>\n<style scoped>\n    .dataframe tbody tr th:only-of-type {\n        vertical-align: middle;\n    }\n\n    .dataframe tbody tr th {\n        vertical-align: top;\n    }\n\n    .dataframe thead th {\n        text-align: right;\n    }\n</style>\n<table border=\"1\" class=\"dataframe\">\n  <thead>\n    <tr style=\"text-align: right;\">\n      <th></th>\n      <th>content</th>\n      <th>category</th>\n      <th>title</th>\n      <th>scraped_at</th>\n      <th>publish_date</th>\n    </tr>\n    <tr>\n      <th>id</th>\n      <th></th>\n      <th></th>\n      <th></th>\n      <th></th>\n      <th></th>\n    </tr>\n  </thead>\n  <tbody>\n    <tr>\n      <th>10000000</th>\n      <td>voters are heading to the polls today in namib...</td>\n      <td>1</td>\n      <td>Namibia votes in presidential election</td>\n      <td>2020-04-23</td>\n      <td>November 28, 2009</td>\n    </tr>\n    <tr>\n      <th>10000001</th>\n      <td>recent reports have revealed that a defector f...</td>\n      <td>1</td>\n      <td>Scientology defector arrested after attempting...</td>\n      <td>2020-04-22</td>\n      <td>October 9, 2010</td>\n    </tr>\n    <tr>\n      <th>10000002</th>\n      <td>british writer doris lessing recipient of the ...</td>\n      <td>1</td>\n      <td>Nobel laureate Doris Lessing: 9/11 'wasn't tha...</td>\n      <td>2020-04-22</td>\n      <td>October 22, 2007</td>\n    </tr>\n    <tr>\n      <th>10000003</th>\n      <td>friday saw protests across syria calling for a...</td>\n      <td>1</td>\n      <td>No-fly zone demanded by Syrian protesters</td>\n      <td>2020-04-22</td>\n      <td>October 29, 2011</td>\n    </tr>\n    <tr>\n      <th>10000004</th>\n      <td>an orizont oil platform in the persian gulf ow...</td>\n      <td>1</td>\n      <td>Romanian oil company claims Iran has seized on...</td>\n      <td>2020-04-22</td>\n      <td>August 22, 2006</td>\n    </tr>\n    <tr>\n      <th>...</th>\n      <td>...</td>\n      <td>...</td>\n      <td>...</td>\n      <td>...</td>\n      <td>...</td>\n    </tr>\n    <tr>\n      <th>10003674</th>\n      <td>freelance writer jill carroll currently workin...</td>\n      <td>1</td>\n      <td>Reporter abducted in Baghdad Saturday morning</td>\n      <td>2020-04-22</td>\n      <td>January 10, 2006</td>\n    </tr>\n    <tr>\n      <th>10003675</th>\n      <td>despite heavy snowing tens of thousands of wor...</td>\n      <td>1</td>\n      <td>Tens of thousands of workers demonstrate in Lj...</td>\n      <td>2020-04-22</td>\n      <td>November 26, 2005</td>\n    </tr>\n    <tr>\n      <th>10003676</th>\n      <td>thousands of greeks gathered last night in syn...</td>\n      <td>1</td>\n      <td>Silent protest in Athens over recent fires</td>\n      <td>2020-04-22</td>\n      <td>August 30, 2007</td>\n    </tr>\n    <tr>\n      <th>10003677</th>\n      <td>the former of ukraine has been arrested in spa...</td>\n      <td>1</td>\n      <td>Spanish authorities arrest Yuriy Kolobov, form...</td>\n      <td>2020-04-22</td>\n      <td>March 5, 2015</td>\n    </tr>\n    <tr>\n      <th>10003678</th>\n      <td>united states secretary of state hillary clint...</td>\n      <td>1</td>\n      <td>US Secretary of State Hillary Clinton pledges ...</td>\n      <td>2020-04-22</td>\n      <td>May 12, 2010</td>\n    </tr>\n  </tbody>\n</table>\n<p>3679 rows × 5 columns</p>\n</div>"
     },
     "metadata": {},
     "execution_count": 21
    }
   ],
   "source": [
    "df[['content', 'category', \"title\", \"scraped_at\", \"publish_date\"]]"
   ]
  }
 ],
 "metadata": {
  "kernelspec": {
   "display_name": "Python 3.7.7 64-bit ('new': conda)",
   "language": "python",
   "name": "python37764bitnewcondae2b41800e1a24f049ef50ffcb90345e7"
  },
  "language_info": {
   "codemirror_mode": {
    "name": "ipython",
    "version": 3
   },
   "file_extension": ".py",
   "mimetype": "text/x-python",
   "name": "python",
   "nbconvert_exporter": "python",
   "pygments_lexer": "ipython3",
   "version": "3.7.7-final"
  }
 },
 "nbformat": 4,
 "nbformat_minor": 4
}