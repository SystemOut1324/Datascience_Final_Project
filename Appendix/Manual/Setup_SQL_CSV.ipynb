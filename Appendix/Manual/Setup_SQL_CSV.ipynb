{
 "cells": [
  {
   "cell_type": "code",
   "execution_count": 32,
   "metadata": {},
   "outputs": [],
   "source": [
    "# libraries needed \n",
    "import pandas as pd\n",
    "import numpy as np\n",
    "import random\n",
    "import re\n",
    "# %matplotlib inline\n",
    "\n",
    "# libraries we might not need\n",
    "import csv"
   ]
  },
  {
   "cell_type": "markdown",
   "metadata": {},
   "source": [
    "### Using the following code\n",
    "to use the whole document you only need one file specified by filepath for the time being"
   ]
  },
  {
   "cell_type": "code",
   "execution_count": 33,
   "metadata": {},
   "outputs": [
    {
     "output_type": "stream",
     "name": "stdout",
     "text": "Wall time: 47 ms\n"
    },
    {
     "output_type": "execute_result",
     "data": {
      "text/plain": "            id               domain      type  \\\n1496  338715.0  theinternetpost.net      fake   \n8192   30948.0    beforeitsnews.com      fake   \n5154  819308.0    beforeitsnews.com      fake   \n2272  339605.0  theinternetpost.net      fake   \n2198   24651.0    beforeitsnews.com      fake   \n...        ...                  ...       ...   \n5633  931442.0    christianpost.com  reliable   \n5055  930715.0    christianpost.com  reliable   \n5851  157078.0    christianpost.com  reliable   \n344   477073.0   nutritionfacts.org  reliable   \n8572  475195.0   nutritionfacts.org  reliable   \n\n                                                    url  \\\n1496        https://theinternetpost.net/tag/global-war/   \n8192  http://beforeitsnews.com/spirit/2013/06/more-t...   \n5154  http://beforeitsnews.com/international/2013/01...   \n2272   https://theinternetpost.net/tag/free-trade-area/   \n2198  http://beforeitsnews.com/business/2015/11/ente...   \n...                                                 ...   \n5633  https://www.christianpost.com/news/democrats-b...   \n5055  https://www.christianpost.com/news/hillary-cli...   \n5851  https://www.christianpost.com/news/338-million...   \n344   https://nutritionfacts.org/es/video/ninos-con-...   \n8572        https://nutritionfacts.org/es/audio/page/2/   \n\n                                                content  \\\n1496  we are witnessing a great turning inward in th...   \n8192  more than a parade and my new manifesto of rea...   \n5154  dallas gun buyback program countered with succ...   \n2272  by paul j balles many industries that started ...   \n2198  enterprise vsat market global research and ana...   \n...                                                 ...   \n5633  photo reutersjonathan ernst lr republican us s...   \n5055  photo reutersbrian snyder democratic president...   \n5851  it is becoming known as the NUM million dollar...   \n344   a continuación una aproximación al contenido d...   \n8572  información nutricional con el dr greger ¿te h...   \n\n                      scraped_at                 inserted_at  \\\n1496  2018-01-25 20:13:50.426130  2018-02-02 01:19:41.756632   \n8192  2018-01-25 16:17:44.789555  2018-02-02 01:19:41.756632   \n5154  2018-01-25 20:13:50.426130  2018-02-02 01:19:41.756632   \n2272  2018-01-25 20:13:50.426130  2018-02-02 01:19:41.756632   \n2198  2018-01-25 16:17:44.789555  2018-02-02 01:19:41.756632   \n...                          ...                         ...   \n5633  2018-01-25 20:13:50.426130  2018-02-02 01:19:41.756632   \n5055  2018-01-25 20:13:50.426130  2018-02-02 01:19:41.756632   \n5851  2018-01-25 20:13:50.426130  2018-02-02 01:19:41.756632   \n344   2018-01-25 20:13:50.426130  2018-02-02 01:19:41.756632   \n8572  2018-01-25 20:13:50.426130  2018-02-02 01:19:41.756632   \n\n                      updated_at  \\\n1496  2018-02-02 01:19:41.756664   \n8192  2018-02-02 01:19:41.756664   \n5154  2018-02-02 01:19:41.756664   \n2272  2018-02-02 01:19:41.756664   \n2198  2018-02-02 01:19:41.756664   \n...                          ...   \n5633  2018-02-02 01:19:41.756664   \n5055  2018-02-02 01:19:41.756664   \n5851  2018-02-02 01:19:41.756664   \n344   2018-02-02 01:19:41.756664   \n8572  2018-02-02 01:19:41.756664   \n\n                                                  title  \\\n1496                                  THE INTERNET POST   \n8192           More than a parade, and my new manifesto   \n5154  Dallas Gun Buyback Program Countered With Succ...   \n2272                                  THE INTERNET POST   \n2198  Enterprise VSAT Market Global Research and Ana...   \n...                                                 ...   \n5633  Democrats Block Anti-Human Trafficking Bill Ov...   \n5055  Hillary Clinton Says What Obama Won't: ISIS Co...   \n5851        $338 Million Beer Run Makes Lottery History   \n344                     Niños con el Estómago Engrapado   \n8572                             Audio Podcasts Archive   \n\n                        authors  keywords meta_keywords  \\\n1496                        NaN       NaN           NaN   \n8192           Lisa Beck Living       NaN           NaN   \n5154                        NaN       NaN           NaN   \n2272                        NaN       NaN           NaN   \n2198                        NaN       NaN           NaN   \n...                         ...       ...           ...   \n5633                        NaN       NaN           NaN   \n5055                        NaN       NaN           NaN   \n5851                        NaN       NaN           NaN   \n344   Michael Greger M.D. Faclm       NaN           NaN   \n8572                        NaN       NaN           NaN   \n\n                                       meta_description  \\\n1496  Posts about Global War written by ajfloyd and ...   \n8192                                                NaN   \n5154                                                NaN   \n2272     Posts about Free trade area written by ajfloyd   \n2198                                                NaN   \n...                                                 ...   \n5633  A previously bipartisan U.S. Senate bill meant...   \n5055  Democratic presidential front runner and forme...   \n5851  It is becoming known as the $338 million dolla...   \n344   La cirugía bariátrica para la pérdida de peso ...   \n8572                                                NaN   \n\n                                                   tags  summary  source  \\\n1496  global conflict, war on terror, United States,...      NaN     NaN   \n8192                                                NaN      NaN     NaN   \n5154                                                NaN      NaN     NaN   \n2272  employment, Free trade agreement, United State...      NaN     NaN   \n2198                                                NaN      NaN     NaN   \n...                                                 ...      ...     ...   \n5633                                                NaN      NaN     NaN   \n5055                                                NaN      NaN     NaN   \n5851                                                NaN      NaN     NaN   \n344   mortalidad, ansiedad, embolia pulmonar, niños,...      NaN     NaN   \n8572                                                NaN      NaN     NaN   \n\n      type_id                                   content_tokenize  \n1496        3  {'-PRON-', 'be', 'witness', 'a', 'great', 'tur...  \n8192        3  {'more', 'than', 'a', 'parade', 'and', '-PRON-...  \n5154        3  {'dallas', 'gun', 'buyback', 'program', 'count...  \n2272        3  {'by', 'paul', 'j', 'balles', 'many', 'industr...  \n2198        3  {'enterprise', 'vsat', 'market', 'global', 're...  \n...       ...                                                ...  \n5633        7  {'photo', 'reutersjonathan', 'ernst', 'lr', 'r...  \n5055        7  {'photo', 'reutersbrian', 'snyder', 'democrati...  \n5851        7  {'-PRON-', 'be', 'become', 'know', 'as', 'the'...  \n344         7  {'a', 'continuación', 'una', 'aproximación', '...  \n8572        7  {'información', 'nutricional', 'con', 'el', 'd...  \n\n[500 rows x 18 columns]",
      "text/html": "<div>\n<style scoped>\n    .dataframe tbody tr th:only-of-type {\n        vertical-align: middle;\n    }\n\n    .dataframe tbody tr th {\n        vertical-align: top;\n    }\n\n    .dataframe thead th {\n        text-align: right;\n    }\n</style>\n<table border=\"1\" class=\"dataframe\">\n  <thead>\n    <tr style=\"text-align: right;\">\n      <th></th>\n      <th>id</th>\n      <th>domain</th>\n      <th>type</th>\n      <th>url</th>\n      <th>content</th>\n      <th>scraped_at</th>\n      <th>inserted_at</th>\n      <th>updated_at</th>\n      <th>title</th>\n      <th>authors</th>\n      <th>keywords</th>\n      <th>meta_keywords</th>\n      <th>meta_description</th>\n      <th>tags</th>\n      <th>summary</th>\n      <th>source</th>\n      <th>type_id</th>\n      <th>content_tokenize</th>\n    </tr>\n  </thead>\n  <tbody>\n    <tr>\n      <th>1496</th>\n      <td>338715.0</td>\n      <td>theinternetpost.net</td>\n      <td>fake</td>\n      <td>https://theinternetpost.net/tag/global-war/</td>\n      <td>we are witnessing a great turning inward in th...</td>\n      <td>2018-01-25 20:13:50.426130</td>\n      <td>2018-02-02 01:19:41.756632</td>\n      <td>2018-02-02 01:19:41.756664</td>\n      <td>THE INTERNET POST</td>\n      <td>NaN</td>\n      <td>NaN</td>\n      <td>NaN</td>\n      <td>Posts about Global War written by ajfloyd and ...</td>\n      <td>global conflict, war on terror, United States,...</td>\n      <td>NaN</td>\n      <td>NaN</td>\n      <td>3</td>\n      <td>{'-PRON-', 'be', 'witness', 'a', 'great', 'tur...</td>\n    </tr>\n    <tr>\n      <th>8192</th>\n      <td>30948.0</td>\n      <td>beforeitsnews.com</td>\n      <td>fake</td>\n      <td>http://beforeitsnews.com/spirit/2013/06/more-t...</td>\n      <td>more than a parade and my new manifesto of rea...</td>\n      <td>2018-01-25 16:17:44.789555</td>\n      <td>2018-02-02 01:19:41.756632</td>\n      <td>2018-02-02 01:19:41.756664</td>\n      <td>More than a parade, and my new manifesto</td>\n      <td>Lisa Beck Living</td>\n      <td>NaN</td>\n      <td>NaN</td>\n      <td>NaN</td>\n      <td>NaN</td>\n      <td>NaN</td>\n      <td>NaN</td>\n      <td>3</td>\n      <td>{'more', 'than', 'a', 'parade', 'and', '-PRON-...</td>\n    </tr>\n    <tr>\n      <th>5154</th>\n      <td>819308.0</td>\n      <td>beforeitsnews.com</td>\n      <td>fake</td>\n      <td>http://beforeitsnews.com/international/2013/01...</td>\n      <td>dallas gun buyback program countered with succ...</td>\n      <td>2018-01-25 20:13:50.426130</td>\n      <td>2018-02-02 01:19:41.756632</td>\n      <td>2018-02-02 01:19:41.756664</td>\n      <td>Dallas Gun Buyback Program Countered With Succ...</td>\n      <td>NaN</td>\n      <td>NaN</td>\n      <td>NaN</td>\n      <td>NaN</td>\n      <td>NaN</td>\n      <td>NaN</td>\n      <td>NaN</td>\n      <td>3</td>\n      <td>{'dallas', 'gun', 'buyback', 'program', 'count...</td>\n    </tr>\n    <tr>\n      <th>2272</th>\n      <td>339605.0</td>\n      <td>theinternetpost.net</td>\n      <td>fake</td>\n      <td>https://theinternetpost.net/tag/free-trade-area/</td>\n      <td>by paul j balles many industries that started ...</td>\n      <td>2018-01-25 20:13:50.426130</td>\n      <td>2018-02-02 01:19:41.756632</td>\n      <td>2018-02-02 01:19:41.756664</td>\n      <td>THE INTERNET POST</td>\n      <td>NaN</td>\n      <td>NaN</td>\n      <td>NaN</td>\n      <td>Posts about Free trade area written by ajfloyd</td>\n      <td>employment, Free trade agreement, United State...</td>\n      <td>NaN</td>\n      <td>NaN</td>\n      <td>3</td>\n      <td>{'by', 'paul', 'j', 'balles', 'many', 'industr...</td>\n    </tr>\n    <tr>\n      <th>2198</th>\n      <td>24651.0</td>\n      <td>beforeitsnews.com</td>\n      <td>fake</td>\n      <td>http://beforeitsnews.com/business/2015/11/ente...</td>\n      <td>enterprise vsat market global research and ana...</td>\n      <td>2018-01-25 16:17:44.789555</td>\n      <td>2018-02-02 01:19:41.756632</td>\n      <td>2018-02-02 01:19:41.756664</td>\n      <td>Enterprise VSAT Market Global Research and Ana...</td>\n      <td>NaN</td>\n      <td>NaN</td>\n      <td>NaN</td>\n      <td>NaN</td>\n      <td>NaN</td>\n      <td>NaN</td>\n      <td>NaN</td>\n      <td>3</td>\n      <td>{'enterprise', 'vsat', 'market', 'global', 're...</td>\n    </tr>\n    <tr>\n      <th>...</th>\n      <td>...</td>\n      <td>...</td>\n      <td>...</td>\n      <td>...</td>\n      <td>...</td>\n      <td>...</td>\n      <td>...</td>\n      <td>...</td>\n      <td>...</td>\n      <td>...</td>\n      <td>...</td>\n      <td>...</td>\n      <td>...</td>\n      <td>...</td>\n      <td>...</td>\n      <td>...</td>\n      <td>...</td>\n      <td>...</td>\n    </tr>\n    <tr>\n      <th>5633</th>\n      <td>931442.0</td>\n      <td>christianpost.com</td>\n      <td>reliable</td>\n      <td>https://www.christianpost.com/news/democrats-b...</td>\n      <td>photo reutersjonathan ernst lr republican us s...</td>\n      <td>2018-01-25 20:13:50.426130</td>\n      <td>2018-02-02 01:19:41.756632</td>\n      <td>2018-02-02 01:19:41.756664</td>\n      <td>Democrats Block Anti-Human Trafficking Bill Ov...</td>\n      <td>NaN</td>\n      <td>NaN</td>\n      <td>NaN</td>\n      <td>A previously bipartisan U.S. Senate bill meant...</td>\n      <td>NaN</td>\n      <td>NaN</td>\n      <td>NaN</td>\n      <td>7</td>\n      <td>{'photo', 'reutersjonathan', 'ernst', 'lr', 'r...</td>\n    </tr>\n    <tr>\n      <th>5055</th>\n      <td>930715.0</td>\n      <td>christianpost.com</td>\n      <td>reliable</td>\n      <td>https://www.christianpost.com/news/hillary-cli...</td>\n      <td>photo reutersbrian snyder democratic president...</td>\n      <td>2018-01-25 20:13:50.426130</td>\n      <td>2018-02-02 01:19:41.756632</td>\n      <td>2018-02-02 01:19:41.756664</td>\n      <td>Hillary Clinton Says What Obama Won't: ISIS Co...</td>\n      <td>NaN</td>\n      <td>NaN</td>\n      <td>NaN</td>\n      <td>Democratic presidential front runner and forme...</td>\n      <td>NaN</td>\n      <td>NaN</td>\n      <td>NaN</td>\n      <td>7</td>\n      <td>{'photo', 'reutersbrian', 'snyder', 'democrati...</td>\n    </tr>\n    <tr>\n      <th>5851</th>\n      <td>157078.0</td>\n      <td>christianpost.com</td>\n      <td>reliable</td>\n      <td>https://www.christianpost.com/news/338-million...</td>\n      <td>it is becoming known as the NUM million dollar...</td>\n      <td>2018-01-25 20:13:50.426130</td>\n      <td>2018-02-02 01:19:41.756632</td>\n      <td>2018-02-02 01:19:41.756664</td>\n      <td>$338 Million Beer Run Makes Lottery History</td>\n      <td>NaN</td>\n      <td>NaN</td>\n      <td>NaN</td>\n      <td>It is becoming known as the $338 million dolla...</td>\n      <td>NaN</td>\n      <td>NaN</td>\n      <td>NaN</td>\n      <td>7</td>\n      <td>{'-PRON-', 'be', 'become', 'know', 'as', 'the'...</td>\n    </tr>\n    <tr>\n      <th>344</th>\n      <td>477073.0</td>\n      <td>nutritionfacts.org</td>\n      <td>reliable</td>\n      <td>https://nutritionfacts.org/es/video/ninos-con-...</td>\n      <td>a continuación una aproximación al contenido d...</td>\n      <td>2018-01-25 20:13:50.426130</td>\n      <td>2018-02-02 01:19:41.756632</td>\n      <td>2018-02-02 01:19:41.756664</td>\n      <td>Niños con el Estómago Engrapado</td>\n      <td>Michael Greger M.D. Faclm</td>\n      <td>NaN</td>\n      <td>NaN</td>\n      <td>La cirugía bariátrica para la pérdida de peso ...</td>\n      <td>mortalidad, ansiedad, embolia pulmonar, niños,...</td>\n      <td>NaN</td>\n      <td>NaN</td>\n      <td>7</td>\n      <td>{'a', 'continuación', 'una', 'aproximación', '...</td>\n    </tr>\n    <tr>\n      <th>8572</th>\n      <td>475195.0</td>\n      <td>nutritionfacts.org</td>\n      <td>reliable</td>\n      <td>https://nutritionfacts.org/es/audio/page/2/</td>\n      <td>información nutricional con el dr greger ¿te h...</td>\n      <td>2018-01-25 20:13:50.426130</td>\n      <td>2018-02-02 01:19:41.756632</td>\n      <td>2018-02-02 01:19:41.756664</td>\n      <td>Audio Podcasts Archive</td>\n      <td>NaN</td>\n      <td>NaN</td>\n      <td>NaN</td>\n      <td>NaN</td>\n      <td>NaN</td>\n      <td>NaN</td>\n      <td>NaN</td>\n      <td>7</td>\n      <td>{'información', 'nutricional', 'con', 'el', 'd...</td>\n    </tr>\n  </tbody>\n</table>\n<p>500 rows × 18 columns</p>\n</div>"
     },
     "metadata": {},
     "execution_count": 33
    }
   ],
   "source": [
    "%%time\n",
    "# imports a random sample of size s from csv-file as a pandas dataframe\n",
    "# pandas using python 3.X uses utf-8 encoding\n",
    "\n",
    "# usage: specify file location, sample size and seed(used by random)\n",
    "filepath = '../Data_git_ignore/clean_corpus_small.csv'\n",
    "#filepath = 'news_sample.csv' # <- overwrite for setup\n",
    "s = 12000                    # desired sample size(seems to have slack ie. not exact)\n",
    "seed = 1                     # seed used by Pseudorandom number generator\n",
    "\n",
    "# init dataframe with specified values\n",
    "df = pd.read_csv(filepath, index_col = [0])\n",
    "\n",
    "# visual output\n",
    "#print(df.shape, '<- size of dataframe \\n')\n",
    "df"
   ]
  },
  {
   "cell_type": "code",
   "execution_count": 34,
   "metadata": {},
   "outputs": [],
   "source": [
    "df['id'] = pd.to_numeric(df['id'], errors = 'coerce', downcast = 'integer')\n",
    "df.drop_duplicates(subset = 'id', inplace = True)"
   ]
  },
  {
   "cell_type": "code",
   "execution_count": 35,
   "metadata": {},
   "outputs": [
    {
     "output_type": "execute_result",
     "data": {
      "text/plain": "(500, 17)"
     },
     "metadata": {},
     "execution_count": 35
    }
   ],
   "source": [
    "df = df.dropna(subset=['id']).set_index('id')\n",
    "df.shape"
   ]
  },
  {
   "cell_type": "markdown",
   "metadata": {},
   "source": [
    "### data-tables: [name]-uniq / relational-tables: [name]_in\n",
    "creating csv-files for database"
   ]
  },
  {
   "cell_type": "code",
   "execution_count": 36,
   "metadata": {},
   "outputs": [],
   "source": [
    "# specify where to save all csv-files\n",
    "path = '../Data_git_ignore/clean_csv/'\n",
    "\n",
    "# create temporary dataframe and use article id as index \n",
    "out_df = pd.DataFrame({'id':df.index})\n",
    "out_df.set_index('id', inplace=True)"
   ]
  },
  {
   "cell_type": "code",
   "execution_count": 37,
   "metadata": {},
   "outputs": [],
   "source": [
    "def generateUniqe (category):\n",
    "    type_array = df[category].unique() # get array of unique types\n",
    "    type_df = pd.DataFrame({'id': np.arange(type_array.size), 'name':type_array})\n",
    "\n",
    "    # write file and free memory\n",
    "    type_df.to_csv(path + category + '.csv', index=False, header=True)\n",
    "    #del type_array\n",
    "    #del type_df # tmp delete later\n",
    "\n",
    "    # create dict with type_name as key - [swap type with type_id]\n",
    "    type_name_as_key_df = type_df.set_index('name')\n",
    "    type_dict = type_name_as_key_df['id'].to_dict()\n",
    "\n",
    "    # replace type with tag id and create new column\n",
    "    type_id = np.array([type_dict[key] for key in df[category].to_numpy()])\n",
    "    #df['type_id'] =type_id\n",
    "    \n",
    "    return type_id\n",
    "\n",
    "def generateUniqeArray (category):\n",
    "    # creates list of list but formaly it is a pd.series of lists\n",
    "    tags_series_of_lists = df[category].dropna().str.split(', ') # -> ', ' not ','\n",
    "\n",
    "    if not category in out_df: ### tmp need another method ###\n",
    "        out_df.insert(0,column = category, value = tags_series_of_lists)\n",
    "\n",
    "    # flattern tags_series_of_lists to a set(ie. unique values only)\n",
    "    tags_list = list(set([item for sublist in tags_series_of_lists for item in sublist]))\n",
    "\n",
    "    # create dataframe\n",
    "    tags_df = pd.DataFrame({'id': np.arange(len(tags_list)), 'name':tags_list})\n",
    "\n",
    "    # write file and free memory\n",
    "    tags_df.to_csv(path + category + '.csv', index=False, header=True)\n",
    "    del tags_series_of_lists\n",
    "    del tags_list\n",
    "    \n",
    "    # generate the relation\n",
    "    # get all pairs of article_id and tags in a article (for all articles)\n",
    "    articles_id_tags_name_pairs_df = out_df[category].dropna().explode().drop_duplicates(keep = 'first')\n",
    "\n",
    "    # split tags_name and articles_id\n",
    "    articles_id_array = articles_id_tags_name_pairs_df.index.to_numpy()\n",
    "    tags_name_array = articles_id_tags_name_pairs_df.to_numpy()\n",
    "\n",
    "    # create dict with tag_name as key - [swap tags with tags_id]\n",
    "    tags_name_as_key_df = tags_df.set_index('name')\n",
    "    tags_dict = tags_name_as_key_df['id'].to_dict()\n",
    "\n",
    "    # replace tags with tag id\n",
    "    tags_id = np.array([tags_dict[key] for key in tags_name_array])\n",
    "\n",
    "    # create dataframe\n",
    "    tags_in_df = pd.DataFrame(data=articles_id_array, index=tags_id, columns=['article_id'])\n",
    "    tags_in_df.index.name=category + '_id'\n",
    "\n",
    "    # write file and free memory\n",
    "    tags_in_df.to_csv(path + category + '_in.csv', index=True, header=True)"
   ]
  },
  {
   "cell_type": "code",
   "execution_count": 38,
   "metadata": {},
   "outputs": [],
   "source": [
    "### type_clean - data-table ###\n",
    "df[\"type\"] = generateUniqe(\"type\")"
   ]
  },
  {
   "cell_type": "code",
   "execution_count": 39,
   "metadata": {},
   "outputs": [],
   "source": [
    "### tags_clean & tags_in - data-table ###\n",
    "generateUniqeArray(\"tags\")"
   ]
  },
  {
   "cell_type": "code",
   "execution_count": 40,
   "metadata": {},
   "outputs": [],
   "source": [
    "### authors_clean & authors_in - data-table ###\n",
    "generateUniqeArray(\"authors\")"
   ]
  },
  {
   "cell_type": "code",
   "execution_count": 41,
   "metadata": {},
   "outputs": [],
   "source": [
    "### domain_clean - data-table ###\n",
    "df[\"domain\"] = generateUniqe(\"domain\")"
   ]
  },
  {
   "cell_type": "code",
   "execution_count": 42,
   "metadata": {},
   "outputs": [],
   "source": [
    "### meta_keywords_clean & meta_keywords_in - data-table ###\n",
    "generateUniqeArray(\"meta_keywords\")"
   ]
  },
  {
   "cell_type": "code",
   "execution_count": 43,
   "metadata": {},
   "outputs": [
    {
     "output_type": "execute_result",
     "data": {
      "text/plain": "id\n338715    {'-PRON-', 'be', 'witness', 'a', 'great', 'tur...\n30948     {'more', 'than', 'a', 'parade', 'and', '-PRON-...\n819308    {'dallas', 'gun', 'buyback', 'program', 'count...\n339605    {'by', 'paul', 'j', 'balles', 'many', 'industr...\n24651     {'enterprise', 'vsat', 'market', 'global', 're...\n                                ...                        \n931442    {'photo', 'reutersjonathan', 'ernst', 'lr', 'r...\n930715    {'photo', 'reutersbrian', 'snyder', 'democrati...\n157078    {'-PRON-', 'be', 'become', 'know', 'as', 'the'...\n477073    {'a', 'continuación', 'una', 'aproximación', '...\n475195    {'información', 'nutricional', 'con', 'el', 'd...\nName: content_tokenize, Length: 500, dtype: object"
     },
     "metadata": {},
     "execution_count": 43
    }
   ],
   "source": [
    "# Clean meta keywords representation\n",
    "regexStrList = r\"\\[\"\n",
    "df['meta_keywords'] = df['meta_keywords'].replace(to_replace=regexStrList, value='{', regex=True)\n",
    "regexStrList = r\"\\]\"\n",
    "df['meta_keywords'] = df['meta_keywords'].replace(to_replace=regexStrList, value='}', regex=True)\n",
    "\n",
    "regexStrList = r\"\\[\"\n",
    "df['content_tokenize'] = df['content_tokenize'].replace(to_replace=regexStrList, value='{', regex=True)\n",
    "regexStrList = r\"\\]\"\n",
    "df['content_tokenize'] = df['content_tokenize'].replace(to_replace=regexStrList, value='}', regex=True)\n",
    "\n",
    "df['content_tokenize']"
   ]
  },
  {
   "cell_type": "code",
   "execution_count": 44,
   "metadata": {},
   "outputs": [
    {
     "output_type": "execute_result",
     "data": {
      "text/plain": "        domain  type                                                url  \\\nid                                                                        \n338715       0     0        https://theinternetpost.net/tag/global-war/   \n30948        1     0  http://beforeitsnews.com/spirit/2013/06/more-t...   \n819308       1     0  http://beforeitsnews.com/international/2013/01...   \n339605       0     0   https://theinternetpost.net/tag/free-trade-area/   \n24651        1     0  http://beforeitsnews.com/business/2015/11/ente...   \n\n                                                  content  \\\nid                                                          \n338715  we are witnessing a great turning inward in th...   \n30948   more than a parade and my new manifesto of rea...   \n819308  dallas gun buyback program countered with succ...   \n339605  by paul j balles many industries that started ...   \n24651   enterprise vsat market global research and ana...   \n\n                        scraped_at                 inserted_at  \\\nid                                                               \n338715  2018-01-25 20:13:50.426130  2018-02-02 01:19:41.756632   \n30948   2018-01-25 16:17:44.789555  2018-02-02 01:19:41.756632   \n819308  2018-01-25 20:13:50.426130  2018-02-02 01:19:41.756632   \n339605  2018-01-25 20:13:50.426130  2018-02-02 01:19:41.756632   \n24651   2018-01-25 16:17:44.789555  2018-02-02 01:19:41.756632   \n\n                        updated_at  \\\nid                                   \n338715  2018-02-02 01:19:41.756664   \n30948   2018-02-02 01:19:41.756664   \n819308  2018-02-02 01:19:41.756664   \n339605  2018-02-02 01:19:41.756664   \n24651   2018-02-02 01:19:41.756664   \n\n                                                    title           authors  \\\nid                                                                            \n338715                                  THE INTERNET POST               NaN   \n30948            More than a parade, and my new manifesto  Lisa Beck Living   \n819308  Dallas Gun Buyback Program Countered With Succ...               NaN   \n339605                                  THE INTERNET POST               NaN   \n24651   Enterprise VSAT Market Global Research and Ana...               NaN   \n\n        keywords meta_keywords  \\\nid                               \n338715       NaN           NaN   \n30948        NaN           NaN   \n819308       NaN           NaN   \n339605       NaN           NaN   \n24651        NaN           NaN   \n\n                                         meta_description  \\\nid                                                          \n338715  Posts about Global War written by ajfloyd and ...   \n30948                                                 NaN   \n819308                                                NaN   \n339605     Posts about Free trade area written by ajfloyd   \n24651                                                 NaN   \n\n                                                     tags  summary  source  \\\nid                                                                           \n338715  global conflict, war on terror, United States,...      NaN     NaN   \n30948                                                 NaN      NaN     NaN   \n819308                                                NaN      NaN     NaN   \n339605  employment, Free trade agreement, United State...      NaN     NaN   \n24651                                                 NaN      NaN     NaN   \n\n        type_id                                   content_tokenize  \nid                                                                  \n338715        3  {'-PRON-', 'be', 'witness', 'a', 'great', 'tur...  \n30948         3  {'more', 'than', 'a', 'parade', 'and', '-PRON-...  \n819308        3  {'dallas', 'gun', 'buyback', 'program', 'count...  \n339605        3  {'by', 'paul', 'j', 'balles', 'many', 'industr...  \n24651         3  {'enterprise', 'vsat', 'market', 'global', 're...  ",
      "text/html": "<div>\n<style scoped>\n    .dataframe tbody tr th:only-of-type {\n        vertical-align: middle;\n    }\n\n    .dataframe tbody tr th {\n        vertical-align: top;\n    }\n\n    .dataframe thead th {\n        text-align: right;\n    }\n</style>\n<table border=\"1\" class=\"dataframe\">\n  <thead>\n    <tr style=\"text-align: right;\">\n      <th></th>\n      <th>domain</th>\n      <th>type</th>\n      <th>url</th>\n      <th>content</th>\n      <th>scraped_at</th>\n      <th>inserted_at</th>\n      <th>updated_at</th>\n      <th>title</th>\n      <th>authors</th>\n      <th>keywords</th>\n      <th>meta_keywords</th>\n      <th>meta_description</th>\n      <th>tags</th>\n      <th>summary</th>\n      <th>source</th>\n      <th>type_id</th>\n      <th>content_tokenize</th>\n    </tr>\n    <tr>\n      <th>id</th>\n      <th></th>\n      <th></th>\n      <th></th>\n      <th></th>\n      <th></th>\n      <th></th>\n      <th></th>\n      <th></th>\n      <th></th>\n      <th></th>\n      <th></th>\n      <th></th>\n      <th></th>\n      <th></th>\n      <th></th>\n      <th></th>\n      <th></th>\n    </tr>\n  </thead>\n  <tbody>\n    <tr>\n      <th>338715</th>\n      <td>0</td>\n      <td>0</td>\n      <td>https://theinternetpost.net/tag/global-war/</td>\n      <td>we are witnessing a great turning inward in th...</td>\n      <td>2018-01-25 20:13:50.426130</td>\n      <td>2018-02-02 01:19:41.756632</td>\n      <td>2018-02-02 01:19:41.756664</td>\n      <td>THE INTERNET POST</td>\n      <td>NaN</td>\n      <td>NaN</td>\n      <td>NaN</td>\n      <td>Posts about Global War written by ajfloyd and ...</td>\n      <td>global conflict, war on terror, United States,...</td>\n      <td>NaN</td>\n      <td>NaN</td>\n      <td>3</td>\n      <td>{'-PRON-', 'be', 'witness', 'a', 'great', 'tur...</td>\n    </tr>\n    <tr>\n      <th>30948</th>\n      <td>1</td>\n      <td>0</td>\n      <td>http://beforeitsnews.com/spirit/2013/06/more-t...</td>\n      <td>more than a parade and my new manifesto of rea...</td>\n      <td>2018-01-25 16:17:44.789555</td>\n      <td>2018-02-02 01:19:41.756632</td>\n      <td>2018-02-02 01:19:41.756664</td>\n      <td>More than a parade, and my new manifesto</td>\n      <td>Lisa Beck Living</td>\n      <td>NaN</td>\n      <td>NaN</td>\n      <td>NaN</td>\n      <td>NaN</td>\n      <td>NaN</td>\n      <td>NaN</td>\n      <td>3</td>\n      <td>{'more', 'than', 'a', 'parade', 'and', '-PRON-...</td>\n    </tr>\n    <tr>\n      <th>819308</th>\n      <td>1</td>\n      <td>0</td>\n      <td>http://beforeitsnews.com/international/2013/01...</td>\n      <td>dallas gun buyback program countered with succ...</td>\n      <td>2018-01-25 20:13:50.426130</td>\n      <td>2018-02-02 01:19:41.756632</td>\n      <td>2018-02-02 01:19:41.756664</td>\n      <td>Dallas Gun Buyback Program Countered With Succ...</td>\n      <td>NaN</td>\n      <td>NaN</td>\n      <td>NaN</td>\n      <td>NaN</td>\n      <td>NaN</td>\n      <td>NaN</td>\n      <td>NaN</td>\n      <td>3</td>\n      <td>{'dallas', 'gun', 'buyback', 'program', 'count...</td>\n    </tr>\n    <tr>\n      <th>339605</th>\n      <td>0</td>\n      <td>0</td>\n      <td>https://theinternetpost.net/tag/free-trade-area/</td>\n      <td>by paul j balles many industries that started ...</td>\n      <td>2018-01-25 20:13:50.426130</td>\n      <td>2018-02-02 01:19:41.756632</td>\n      <td>2018-02-02 01:19:41.756664</td>\n      <td>THE INTERNET POST</td>\n      <td>NaN</td>\n      <td>NaN</td>\n      <td>NaN</td>\n      <td>Posts about Free trade area written by ajfloyd</td>\n      <td>employment, Free trade agreement, United State...</td>\n      <td>NaN</td>\n      <td>NaN</td>\n      <td>3</td>\n      <td>{'by', 'paul', 'j', 'balles', 'many', 'industr...</td>\n    </tr>\n    <tr>\n      <th>24651</th>\n      <td>1</td>\n      <td>0</td>\n      <td>http://beforeitsnews.com/business/2015/11/ente...</td>\n      <td>enterprise vsat market global research and ana...</td>\n      <td>2018-01-25 16:17:44.789555</td>\n      <td>2018-02-02 01:19:41.756632</td>\n      <td>2018-02-02 01:19:41.756664</td>\n      <td>Enterprise VSAT Market Global Research and Ana...</td>\n      <td>NaN</td>\n      <td>NaN</td>\n      <td>NaN</td>\n      <td>NaN</td>\n      <td>NaN</td>\n      <td>NaN</td>\n      <td>NaN</td>\n      <td>3</td>\n      <td>{'enterprise', 'vsat', 'market', 'global', 're...</td>\n    </tr>\n  </tbody>\n</table>\n</div>"
     },
     "metadata": {},
     "execution_count": 44
    }
   ],
   "source": [
    "df.head()"
   ]
  },
  {
   "cell_type": "code",
   "execution_count": 45,
   "metadata": {},
   "outputs": [],
   "source": [
    "### article clean ###\n",
    "\n",
    "df[['domain', 'type', \"url\", \"content_tokenize\", \"content\", \"title\", \"meta_keywords\", \"scraped_at\",  \"updated_at\", \"inserted_at\"]].to_csv(path + 'article.csv', header=True)"
   ]
  },
  {
   "cell_type": "code",
   "execution_count": 46,
   "metadata": {},
   "outputs": [],
   "source": [
    "### Setting up wikinews"
   ]
  },
  {
   "cell_type": "code",
   "execution_count": 47,
   "metadata": {},
   "outputs": [
    {
     "output_type": "execute_result",
     "data": {
      "text/plain": "                                                                                           categories  \\\narticle_url                                                                                             \nhttps://en.wikinews.org/wiki/Namibia_votes_in_p...  November 28, 2009,Namibia,Published,Elections,...   \nhttps://en.wikinews.org/wiki/Scientology_defect...  October 9, 2010,Religion,Scientology,Published...   \nhttps://en.wikinews.org/wiki/Nobel_laureate_Dor...  October 22, 2007,Published,Archived,United Kin...   \nhttps://en.wikinews.org/wiki/No-fly_zone_demand...  October 29, 2011,Published,Archived,Syria,Midd...   \nhttps://en.wikinews.org/wiki/Romanian_oil_compa...  August 22, 2006,Published,AutoArchived,World,P...   \n\n                                                                                              content  \\\narticle_url                                                                                             \nhttps://en.wikinews.org/wiki/Namibia_votes_in_p...  voters are heading to the polls today in namib...   \nhttps://en.wikinews.org/wiki/Scientology_defect...  recent reports have revealed that a defector f...   \nhttps://en.wikinews.org/wiki/Nobel_laureate_Dor...  british writer doris lessing recipient of the ...   \nhttps://en.wikinews.org/wiki/No-fly_zone_demand...  friday saw protests across syria calling for a...   \nhttps://en.wikinews.org/wiki/Romanian_oil_compa...  an orizont oil platform in the persian gulf ow...   \n\n                                                         publish_date  \\\narticle_url                                                             \nhttps://en.wikinews.org/wiki/Namibia_votes_in_p...  November 28, 2009   \nhttps://en.wikinews.org/wiki/Scientology_defect...    October 9, 2010   \nhttps://en.wikinews.org/wiki/Nobel_laureate_Dor...   October 22, 2007   \nhttps://en.wikinews.org/wiki/No-fly_zone_demand...   October 29, 2011   \nhttps://en.wikinews.org/wiki/Romanian_oil_compa...    August 22, 2006   \n\n                                                    scraped_at  \\\narticle_url                                                      \nhttps://en.wikinews.org/wiki/Namibia_votes_in_p...  2020-04-23   \nhttps://en.wikinews.org/wiki/Scientology_defect...  2020-04-22   \nhttps://en.wikinews.org/wiki/Nobel_laureate_Dor...  2020-04-22   \nhttps://en.wikinews.org/wiki/No-fly_zone_demand...  2020-04-22   \nhttps://en.wikinews.org/wiki/Romanian_oil_compa...  2020-04-22   \n\n                                                                                          source_urls  \\\narticle_url                                                                                             \nhttps://en.wikinews.org/wiki/Namibia_votes_in_p...  http://www1.voanews.com/english/news/africa/27...   \nhttps://en.wikinews.org/wiki/Scientology_defect...  http://newsfeed.time.com/2010/10/09/scientolog...   \nhttps://en.wikinews.org/wiki/Nobel_laureate_Dor...  http://www.ctv.ca/servlet/ArticleNews/story/CT...   \nhttps://en.wikinews.org/wiki/No-fly_zone_demand...  http://www.bbc.co.uk/news/world-middle-east-15...   \nhttps://en.wikinews.org/wiki/Romanian_oil_compa...  http://www.bloomberg.com/apps/news?pid=2060108...   \n\n                                                                                  sources_domain_urls  \\\narticle_url                                                                                             \nhttps://en.wikinews.org/wiki/Namibia_votes_in_p...              /wiki/VOA_News,/wiki/Associated_Press   \nhttps://en.wikinews.org/wiki/Scientology_defect...  /wiki/TIME,https://en.wikipedia.org/wiki/LA_We...   \nhttps://en.wikinews.org/wiki/Nobel_laureate_Dor...  https://en.wikipedia.org/wiki/CTV.ca,https://e...   \nhttps://en.wikinews.org/wiki/No-fly_zone_demand...  /wiki/BBC_News_Online,/wiki/Agence_France-Pres...   \nhttps://en.wikinews.org/wiki/Romanian_oil_compa...  https://en.wikipedia.org/wiki/Bloomberg,/wiki/...   \n\n                                                                                                title  \\\narticle_url                                                                                             \nhttps://en.wikinews.org/wiki/Namibia_votes_in_p...             Namibia votes in presidential election   \nhttps://en.wikinews.org/wiki/Scientology_defect...  Scientology defector arrested after attempting...   \nhttps://en.wikinews.org/wiki/Nobel_laureate_Dor...  Nobel laureate Doris Lessing: 9/11 'wasn't tha...   \nhttps://en.wikinews.org/wiki/No-fly_zone_demand...          No-fly zone demanded by Syrian protesters   \nhttps://en.wikinews.org/wiki/Romanian_oil_compa...  Romanian oil company claims Iran has seized on...   \n\n                                                                                     content_tokanize  \narticle_url                                                                                            \nhttps://en.wikinews.org/wiki/Namibia_votes_in_p...  {'voter', 'be', 'head', 'to', 'the', 'poll', '...  \nhttps://en.wikinews.org/wiki/Scientology_defect...  {'recent', 'report', 'have', 'reveal', 'that',...  \nhttps://en.wikinews.org/wiki/Nobel_laureate_Dor...  {'british', 'writer', 'doris', 'lessing', 'rec...  \nhttps://en.wikinews.org/wiki/No-fly_zone_demand...  {'friday', 'see', 'protest', 'across', 'syria'...  \nhttps://en.wikinews.org/wiki/Romanian_oil_compa...  {'an', 'orizont', 'oil', 'platform', 'in', 'th...  ",
      "text/html": "<div>\n<style scoped>\n    .dataframe tbody tr th:only-of-type {\n        vertical-align: middle;\n    }\n\n    .dataframe tbody tr th {\n        vertical-align: top;\n    }\n\n    .dataframe thead th {\n        text-align: right;\n    }\n</style>\n<table border=\"1\" class=\"dataframe\">\n  <thead>\n    <tr style=\"text-align: right;\">\n      <th></th>\n      <th>categories</th>\n      <th>content</th>\n      <th>publish_date</th>\n      <th>scraped_at</th>\n      <th>source_urls</th>\n      <th>sources_domain_urls</th>\n      <th>title</th>\n      <th>content_tokanize</th>\n    </tr>\n    <tr>\n      <th>article_url</th>\n      <th></th>\n      <th></th>\n      <th></th>\n      <th></th>\n      <th></th>\n      <th></th>\n      <th></th>\n      <th></th>\n    </tr>\n  </thead>\n  <tbody>\n    <tr>\n      <th>https://en.wikinews.org/wiki/Namibia_votes_in_presidential_election</th>\n      <td>November 28, 2009,Namibia,Published,Elections,...</td>\n      <td>voters are heading to the polls today in namib...</td>\n      <td>November 28, 2009</td>\n      <td>2020-04-23</td>\n      <td>http://www1.voanews.com/english/news/africa/27...</td>\n      <td>/wiki/VOA_News,/wiki/Associated_Press</td>\n      <td>Namibia votes in presidential election</td>\n      <td>{'voter', 'be', 'head', 'to', 'the', 'poll', '...</td>\n    </tr>\n    <tr>\n      <th>https://en.wikinews.org/wiki/Scientology_defector_arrested_after_attempting_to_leave_organization</th>\n      <td>October 9, 2010,Religion,Scientology,Published...</td>\n      <td>recent reports have revealed that a defector f...</td>\n      <td>October 9, 2010</td>\n      <td>2020-04-22</td>\n      <td>http://newsfeed.time.com/2010/10/09/scientolog...</td>\n      <td>/wiki/TIME,https://en.wikipedia.org/wiki/LA_We...</td>\n      <td>Scientology defector arrested after attempting...</td>\n      <td>{'recent', 'report', 'have', 'reveal', 'that',...</td>\n    </tr>\n    <tr>\n      <th>https://en.wikinews.org/wiki/Nobel_laureate_Doris_Lessing:_9/11_%27wasn%27t_that_terrible%27_compared_to_IRA_attacks</th>\n      <td>October 22, 2007,Published,Archived,United Kin...</td>\n      <td>british writer doris lessing recipient of the ...</td>\n      <td>October 22, 2007</td>\n      <td>2020-04-22</td>\n      <td>http://www.ctv.ca/servlet/ArticleNews/story/CT...</td>\n      <td>https://en.wikipedia.org/wiki/CTV.ca,https://e...</td>\n      <td>Nobel laureate Doris Lessing: 9/11 'wasn't tha...</td>\n      <td>{'british', 'writer', 'doris', 'lessing', 'rec...</td>\n    </tr>\n    <tr>\n      <th>https://en.wikinews.org/wiki/No-fly_zone_demanded_by_Syrian_protesters</th>\n      <td>October 29, 2011,Published,Archived,Syria,Midd...</td>\n      <td>friday saw protests across syria calling for a...</td>\n      <td>October 29, 2011</td>\n      <td>2020-04-22</td>\n      <td>http://www.bbc.co.uk/news/world-middle-east-15...</td>\n      <td>/wiki/BBC_News_Online,/wiki/Agence_France-Pres...</td>\n      <td>No-fly zone demanded by Syrian protesters</td>\n      <td>{'friday', 'see', 'protest', 'across', 'syria'...</td>\n    </tr>\n    <tr>\n      <th>https://en.wikinews.org/wiki/Romanian_oil_company_claims_Iran_has_seized_one_of_its_rigs</th>\n      <td>August 22, 2006,Published,AutoArchived,World,P...</td>\n      <td>an orizont oil platform in the persian gulf ow...</td>\n      <td>August 22, 2006</td>\n      <td>2020-04-22</td>\n      <td>http://www.bloomberg.com/apps/news?pid=2060108...</td>\n      <td>https://en.wikipedia.org/wiki/Bloomberg,/wiki/...</td>\n      <td>Romanian oil company claims Iran has seized on...</td>\n      <td>{'an', 'orizont', 'oil', 'platform', 'in', 'th...</td>\n    </tr>\n  </tbody>\n</table>\n</div>"
     },
     "metadata": {},
     "execution_count": 47
    }
   ],
   "source": [
    "# imports a random sample of size s from csv-file as a pandas dataframe\n",
    "# pandas using python 3.X uses utf-8 encoding\n",
    "\n",
    "# usage: specify file location, sample size and seed(used by random)\n",
    "filepath = '../Data_git_ignore/wiki_news_backup_clean.csv'\n",
    "#filepath = 'news_sample.csv' # <- overwrite for setup\n",
    "s = 3679                    # desired sample size(seems to have slack ie. not exact)\n",
    "seed = 1                     # seed used by Pseudorandom number generator\n",
    "\n",
    "# init dataframe with specified values\n",
    "df = pd.read_csv(filepath, index_col = [0]).sample(n=s, random_state=seed)\n",
    "\n",
    "# visual output\n",
    "#print(df.shape, '<- size of dataframe \\n')\n",
    "df.head()"
   ]
  },
  {
   "cell_type": "code",
   "execution_count": 48,
   "metadata": {},
   "outputs": [
    {
     "output_type": "execute_result",
     "data": {
      "text/plain": "                                                 categories  \\\nid                                                            \n10000000  November 28, 2009,Namibia,Published,Elections,...   \n10000001  October 9, 2010,Religion,Scientology,Published...   \n10000002  October 22, 2007,Published,Archived,United Kin...   \n10000003  October 29, 2011,Published,Archived,Syria,Midd...   \n10000004  August 22, 2006,Published,AutoArchived,World,P...   \n\n                                                    content  \\\nid                                                            \n10000000  voters are heading to the polls today in namib...   \n10000001  recent reports have revealed that a defector f...   \n10000002  british writer doris lessing recipient of the ...   \n10000003  friday saw protests across syria calling for a...   \n10000004  an orizont oil platform in the persian gulf ow...   \n\n               publish_date  scraped_at  \\\nid                                        \n10000000  November 28, 2009  2020-04-23   \n10000001    October 9, 2010  2020-04-22   \n10000002   October 22, 2007  2020-04-22   \n10000003   October 29, 2011  2020-04-22   \n10000004    August 22, 2006  2020-04-22   \n\n                                                source_urls  \\\nid                                                            \n10000000  http://www1.voanews.com/english/news/africa/27...   \n10000001  http://newsfeed.time.com/2010/10/09/scientolog...   \n10000002  http://www.ctv.ca/servlet/ArticleNews/story/CT...   \n10000003  http://www.bbc.co.uk/news/world-middle-east-15...   \n10000004  http://www.bloomberg.com/apps/news?pid=2060108...   \n\n                                        sources_domain_urls  \\\nid                                                            \n10000000              /wiki/VOA_News,/wiki/Associated_Press   \n10000001  /wiki/TIME,https://en.wikipedia.org/wiki/LA_We...   \n10000002  https://en.wikipedia.org/wiki/CTV.ca,https://e...   \n10000003  /wiki/BBC_News_Online,/wiki/Agence_France-Pres...   \n10000004  https://en.wikipedia.org/wiki/Bloomberg,/wiki/...   \n\n                                                      title  \\\nid                                                            \n10000000             Namibia votes in presidential election   \n10000001  Scientology defector arrested after attempting...   \n10000002  Nobel laureate Doris Lessing: 9/11 'wasn't tha...   \n10000003          No-fly zone demanded by Syrian protesters   \n10000004  Romanian oil company claims Iran has seized on...   \n\n                                           content_tokanize  category  \nid                                                                     \n10000000  {'voter', 'be', 'head', 'to', 'the', 'poll', '...         1  \n10000001  {'recent', 'report', 'have', 'reveal', 'that',...         1  \n10000002  {'british', 'writer', 'doris', 'lessing', 'rec...         1  \n10000003  {'friday', 'see', 'protest', 'across', 'syria'...         1  \n10000004  {'an', 'orizont', 'oil', 'platform', 'in', 'th...         1  ",
      "text/html": "<div>\n<style scoped>\n    .dataframe tbody tr th:only-of-type {\n        vertical-align: middle;\n    }\n\n    .dataframe tbody tr th {\n        vertical-align: top;\n    }\n\n    .dataframe thead th {\n        text-align: right;\n    }\n</style>\n<table border=\"1\" class=\"dataframe\">\n  <thead>\n    <tr style=\"text-align: right;\">\n      <th></th>\n      <th>categories</th>\n      <th>content</th>\n      <th>publish_date</th>\n      <th>scraped_at</th>\n      <th>source_urls</th>\n      <th>sources_domain_urls</th>\n      <th>title</th>\n      <th>content_tokanize</th>\n      <th>category</th>\n    </tr>\n    <tr>\n      <th>id</th>\n      <th></th>\n      <th></th>\n      <th></th>\n      <th></th>\n      <th></th>\n      <th></th>\n      <th></th>\n      <th></th>\n      <th></th>\n    </tr>\n  </thead>\n  <tbody>\n    <tr>\n      <th>10000000</th>\n      <td>November 28, 2009,Namibia,Published,Elections,...</td>\n      <td>voters are heading to the polls today in namib...</td>\n      <td>November 28, 2009</td>\n      <td>2020-04-23</td>\n      <td>http://www1.voanews.com/english/news/africa/27...</td>\n      <td>/wiki/VOA_News,/wiki/Associated_Press</td>\n      <td>Namibia votes in presidential election</td>\n      <td>{'voter', 'be', 'head', 'to', 'the', 'poll', '...</td>\n      <td>1</td>\n    </tr>\n    <tr>\n      <th>10000001</th>\n      <td>October 9, 2010,Religion,Scientology,Published...</td>\n      <td>recent reports have revealed that a defector f...</td>\n      <td>October 9, 2010</td>\n      <td>2020-04-22</td>\n      <td>http://newsfeed.time.com/2010/10/09/scientolog...</td>\n      <td>/wiki/TIME,https://en.wikipedia.org/wiki/LA_We...</td>\n      <td>Scientology defector arrested after attempting...</td>\n      <td>{'recent', 'report', 'have', 'reveal', 'that',...</td>\n      <td>1</td>\n    </tr>\n    <tr>\n      <th>10000002</th>\n      <td>October 22, 2007,Published,Archived,United Kin...</td>\n      <td>british writer doris lessing recipient of the ...</td>\n      <td>October 22, 2007</td>\n      <td>2020-04-22</td>\n      <td>http://www.ctv.ca/servlet/ArticleNews/story/CT...</td>\n      <td>https://en.wikipedia.org/wiki/CTV.ca,https://e...</td>\n      <td>Nobel laureate Doris Lessing: 9/11 'wasn't tha...</td>\n      <td>{'british', 'writer', 'doris', 'lessing', 'rec...</td>\n      <td>1</td>\n    </tr>\n    <tr>\n      <th>10000003</th>\n      <td>October 29, 2011,Published,Archived,Syria,Midd...</td>\n      <td>friday saw protests across syria calling for a...</td>\n      <td>October 29, 2011</td>\n      <td>2020-04-22</td>\n      <td>http://www.bbc.co.uk/news/world-middle-east-15...</td>\n      <td>/wiki/BBC_News_Online,/wiki/Agence_France-Pres...</td>\n      <td>No-fly zone demanded by Syrian protesters</td>\n      <td>{'friday', 'see', 'protest', 'across', 'syria'...</td>\n      <td>1</td>\n    </tr>\n    <tr>\n      <th>10000004</th>\n      <td>August 22, 2006,Published,AutoArchived,World,P...</td>\n      <td>an orizont oil platform in the persian gulf ow...</td>\n      <td>August 22, 2006</td>\n      <td>2020-04-22</td>\n      <td>http://www.bloomberg.com/apps/news?pid=2060108...</td>\n      <td>https://en.wikipedia.org/wiki/Bloomberg,/wiki/...</td>\n      <td>Romanian oil company claims Iran has seized on...</td>\n      <td>{'an', 'orizont', 'oil', 'platform', 'in', 'th...</td>\n      <td>1</td>\n    </tr>\n  </tbody>\n</table>\n</div>"
     },
     "metadata": {},
     "execution_count": 48
    }
   ],
   "source": [
    "df['id'] = pd.to_numeric(range(10000000, 10000000+df.shape[0]), errors = 'coerce', downcast = 'integer')\n",
    "df.drop_duplicates(subset = 'id', inplace = True)\n",
    "\n",
    "df[\"category\"] = 1\n",
    "\n",
    "df = df.dropna(subset=['id']).set_index('id')\n",
    "df.head()"
   ]
  },
  {
   "cell_type": "code",
   "execution_count": 49,
   "metadata": {},
   "outputs": [
    {
     "output_type": "execute_result",
     "data": {
      "text/plain": "Int64Index([10000000, 10000001, 10000002, 10000003, 10000004, 10000005,\n            10000006, 10000007, 10000008, 10000009,\n            ...\n            10003669, 10003670, 10003671, 10003672, 10003673, 10003674,\n            10003675, 10003676, 10003677, 10003678],\n           dtype='int64', name='id', length=3679)"
     },
     "metadata": {},
     "execution_count": 49
    }
   ],
   "source": [
    "df.index"
   ]
  },
  {
   "cell_type": "code",
   "execution_count": 50,
   "metadata": {},
   "outputs": [],
   "source": [
    "path = '../Data_git_ignore/clean_csv/'\n",
    "\n",
    "# create temporary dataframe and use article id as index \n",
    "out_df = pd.DataFrame({'id':df.index})\n",
    "out_df.set_index('id', inplace=True)"
   ]
  },
  {
   "cell_type": "code",
   "execution_count": 51,
   "metadata": {},
   "outputs": [],
   "source": [
    "def generateUniqe (category):\n",
    "    type_array = df[category].unique() # get array of unique types\n",
    "    type_df = pd.DataFrame({'id': np.arange(type_array.size), 'name':type_array})\n",
    "\n",
    "    # write file and free memory\n",
    "    type_df.to_csv(path + category + '.csv', index=False, header=True)\n",
    "    #del type_array\n",
    "    #del type_df # tmp delete later\n",
    "\n",
    "    # create dict with type_name as key - [swap type with type_id]\n",
    "    type_name_as_key_df = type_df.set_index('name')\n",
    "    type_dict = type_name_as_key_df['id'].to_dict()\n",
    "\n",
    "    # replace type with tag id and create new column\n",
    "    type_id = np.array([type_dict[key] for key in df[category].to_numpy()])\n",
    "    #df['type_id'] =type_id\n",
    "    \n",
    "    return type_id\n",
    "\n",
    "def generateUniqeArray (category):\n",
    "    # creates list of list but formaly it is a pd.series of lists\n",
    "    tags_series_of_lists = df[category].dropna().str.split(', ') # -> ', ' not ','\n",
    "\n",
    "    if not category in out_df: ### tmp need another method ###\n",
    "        out_df.insert(0,column = category, value = tags_series_of_lists)\n",
    "\n",
    "    # flattern tags_series_of_lists to a set(ie. unique values only)\n",
    "    tags_list = list(set([item for sublist in tags_series_of_lists for item in sublist]))\n",
    "\n",
    "    # create dataframe\n",
    "    tags_df = pd.DataFrame({'id': np.arange(len(tags_list)), 'name':tags_list})\n",
    "\n",
    "    # write file and free memory\n",
    "    tags_df.to_csv(path + category + '.csv', index=False, header=True)\n",
    "    del tags_series_of_lists\n",
    "    del tags_list\n",
    "    \n",
    "    # generate the relation\n",
    "    # get all pairs of article_id and tags in a article (for all articles)\n",
    "    articles_id_tags_name_pairs_df = out_df[category].dropna().explode().drop_duplicates(keep = 'first')\n",
    "\n",
    "    # split tags_name and articles_id\n",
    "    articles_id_array = articles_id_tags_name_pairs_df.index.to_numpy()\n",
    "    tags_name_array = articles_id_tags_name_pairs_df.to_numpy()\n",
    "    \n",
    "    # create dict with tag_name as key - [swap tags with tags_id]\n",
    "    tags_name_as_key_df = tags_df.set_index('name')\n",
    "    tags_dict = tags_name_as_key_df['id'].to_dict()\n",
    "\n",
    "    # replace tags with tag id\n",
    "    tags_id = np.array([tags_dict[key] for key in tags_name_array])\n",
    "    \n",
    "    # create dataframe\n",
    "    tags_in_df = pd.DataFrame(data=articles_id_array, index=tags_id, columns=['id'])\n",
    "    tags_in_df.index.name=category + '_id'\n",
    "\n",
    "    # write file and free memory\n",
    "    tags_in_df.to_csv(path + category + '_in.csv', index=True, header=True)"
   ]
  },
  {
   "cell_type": "code",
   "execution_count": 52,
   "metadata": {},
   "outputs": [],
   "source": [
    "### categoires_clean & categories_in ###\n",
    "generateUniqeArray(\"categories\")"
   ]
  },
  {
   "cell_type": "code",
   "execution_count": 53,
   "metadata": {},
   "outputs": [],
   "source": [
    "### sources_domain_urls_clean & sources_domain_urls_in\n",
    "generateUniqeArray(\"sources_domain_urls\")"
   ]
  },
  {
   "cell_type": "code",
   "execution_count": 54,
   "metadata": {},
   "outputs": [],
   "source": [
    "# Clean meta keywords representation\n",
    "regexStrList = r\"\\[\"\n",
    "df['content'] = df['content'].replace(to_replace=regexStrList, value='{', regex=True)\n",
    "regexStrList = r\"\\]\"\n",
    "df['content'] = df['content'].replace(to_replace=regexStrList, value='}', regex=True)"
   ]
  },
  {
   "cell_type": "code",
   "execution_count": 55,
   "metadata": {},
   "outputs": [],
   "source": [
    "### article clean ###\n",
    "df[['content', 'category', \"title\", \"scraped_at\", \"publish_date\"]].to_csv(path + 'wiki_article.csv', header=True)"
   ]
  },
  {
   "cell_type": "code",
   "execution_count": 56,
   "metadata": {},
   "outputs": [
    {
     "output_type": "execute_result",
     "data": {
      "text/plain": "                                                    content  category  \\\nid                                                                      \n10000000  voters are heading to the polls today in namib...         1   \n10000001  recent reports have revealed that a defector f...         1   \n10000002  british writer doris lessing recipient of the ...         1   \n10000003  friday saw protests across syria calling for a...         1   \n10000004  an orizont oil platform in the persian gulf ow...         1   \n...                                                     ...       ...   \n10003674  freelance writer jill carroll currently workin...         1   \n10003675  despite heavy snowing tens of thousands of wor...         1   \n10003676  thousands of greeks gathered last night in syn...         1   \n10003677  the former of ukraine has been arrested in spa...         1   \n10003678  united states secretary of state hillary clint...         1   \n\n                                                      title  scraped_at  \\\nid                                                                        \n10000000             Namibia votes in presidential election  2020-04-23   \n10000001  Scientology defector arrested after attempting...  2020-04-22   \n10000002  Nobel laureate Doris Lessing: 9/11 'wasn't tha...  2020-04-22   \n10000003          No-fly zone demanded by Syrian protesters  2020-04-22   \n10000004  Romanian oil company claims Iran has seized on...  2020-04-22   \n...                                                     ...         ...   \n10003674      Reporter abducted in Baghdad Saturday morning  2020-04-22   \n10003675  Tens of thousands of workers demonstrate in Lj...  2020-04-22   \n10003676         Silent protest in Athens over recent fires  2020-04-22   \n10003677  Spanish authorities arrest Yuriy Kolobov, form...  2020-04-22   \n10003678  US Secretary of State Hillary Clinton pledges ...  2020-04-22   \n\n               publish_date  \nid                           \n10000000  November 28, 2009  \n10000001    October 9, 2010  \n10000002   October 22, 2007  \n10000003   October 29, 2011  \n10000004    August 22, 2006  \n...                     ...  \n10003674   January 10, 2006  \n10003675  November 26, 2005  \n10003676    August 30, 2007  \n10003677      March 5, 2015  \n10003678       May 12, 2010  \n\n[3679 rows x 5 columns]",
      "text/html": "<div>\n<style scoped>\n    .dataframe tbody tr th:only-of-type {\n        vertical-align: middle;\n    }\n\n    .dataframe tbody tr th {\n        vertical-align: top;\n    }\n\n    .dataframe thead th {\n        text-align: right;\n    }\n</style>\n<table border=\"1\" class=\"dataframe\">\n  <thead>\n    <tr style=\"text-align: right;\">\n      <th></th>\n      <th>content</th>\n      <th>category</th>\n      <th>title</th>\n      <th>scraped_at</th>\n      <th>publish_date</th>\n    </tr>\n    <tr>\n      <th>id</th>\n      <th></th>\n      <th></th>\n      <th></th>\n      <th></th>\n      <th></th>\n    </tr>\n  </thead>\n  <tbody>\n    <tr>\n      <th>10000000</th>\n      <td>voters are heading to the polls today in namib...</td>\n      <td>1</td>\n      <td>Namibia votes in presidential election</td>\n      <td>2020-04-23</td>\n      <td>November 28, 2009</td>\n    </tr>\n    <tr>\n      <th>10000001</th>\n      <td>recent reports have revealed that a defector f...</td>\n      <td>1</td>\n      <td>Scientology defector arrested after attempting...</td>\n      <td>2020-04-22</td>\n      <td>October 9, 2010</td>\n    </tr>\n    <tr>\n      <th>10000002</th>\n      <td>british writer doris lessing recipient of the ...</td>\n      <td>1</td>\n      <td>Nobel laureate Doris Lessing: 9/11 'wasn't tha...</td>\n      <td>2020-04-22</td>\n      <td>October 22, 2007</td>\n    </tr>\n    <tr>\n      <th>10000003</th>\n      <td>friday saw protests across syria calling for a...</td>\n      <td>1</td>\n      <td>No-fly zone demanded by Syrian protesters</td>\n      <td>2020-04-22</td>\n      <td>October 29, 2011</td>\n    </tr>\n    <tr>\n      <th>10000004</th>\n      <td>an orizont oil platform in the persian gulf ow...</td>\n      <td>1</td>\n      <td>Romanian oil company claims Iran has seized on...</td>\n      <td>2020-04-22</td>\n      <td>August 22, 2006</td>\n    </tr>\n    <tr>\n      <th>...</th>\n      <td>...</td>\n      <td>...</td>\n      <td>...</td>\n      <td>...</td>\n      <td>...</td>\n    </tr>\n    <tr>\n      <th>10003674</th>\n      <td>freelance writer jill carroll currently workin...</td>\n      <td>1</td>\n      <td>Reporter abducted in Baghdad Saturday morning</td>\n      <td>2020-04-22</td>\n      <td>January 10, 2006</td>\n    </tr>\n    <tr>\n      <th>10003675</th>\n      <td>despite heavy snowing tens of thousands of wor...</td>\n      <td>1</td>\n      <td>Tens of thousands of workers demonstrate in Lj...</td>\n      <td>2020-04-22</td>\n      <td>November 26, 2005</td>\n    </tr>\n    <tr>\n      <th>10003676</th>\n      <td>thousands of greeks gathered last night in syn...</td>\n      <td>1</td>\n      <td>Silent protest in Athens over recent fires</td>\n      <td>2020-04-22</td>\n      <td>August 30, 2007</td>\n    </tr>\n    <tr>\n      <th>10003677</th>\n      <td>the former of ukraine has been arrested in spa...</td>\n      <td>1</td>\n      <td>Spanish authorities arrest Yuriy Kolobov, form...</td>\n      <td>2020-04-22</td>\n      <td>March 5, 2015</td>\n    </tr>\n    <tr>\n      <th>10003678</th>\n      <td>united states secretary of state hillary clint...</td>\n      <td>1</td>\n      <td>US Secretary of State Hillary Clinton pledges ...</td>\n      <td>2020-04-22</td>\n      <td>May 12, 2010</td>\n    </tr>\n  </tbody>\n</table>\n<p>3679 rows × 5 columns</p>\n</div>"
     },
     "metadata": {},
     "execution_count": 56
    }
   ],
   "source": [
    "df[['content', 'category', \"title\", \"scraped_at\", \"publish_date\"]]"
   ]
  },
  {
   "cell_type": "code",
   "execution_count": null,
   "metadata": {},
   "outputs": [],
   "source": []
  },
  {
   "cell_type": "code",
   "execution_count": null,
   "metadata": {},
   "outputs": [],
   "source": []
  },
  {
   "cell_type": "code",
   "execution_count": null,
   "metadata": {},
   "outputs": [],
   "source": []
  }
 ],
 "metadata": {
  "kernelspec": {
   "display_name": "Python 3.7.7 64-bit ('DS': conda)",
   "language": "python",
   "name": "python37764bitdscondaad9afdfb2fb647b9ac1633a88f8ccb8c"
  },
  "language_info": {
   "codemirror_mode": {
    "name": "ipython",
    "version": 3
   },
   "file_extension": ".py",
   "mimetype": "text/x-python",
   "name": "python",
   "nbconvert_exporter": "python",
   "pygments_lexer": "ipython3",
   "version": "3.7.7-final"
  }
 },
 "nbformat": 4,
 "nbformat_minor": 4
}