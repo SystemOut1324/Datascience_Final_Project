{
 "cells": [
  {
   "cell_type": "code",
   "execution_count": 2,
   "metadata": {},
   "outputs": [],
   "source": [
    "import tensorflow as tf\n",
    "import numpy as np\n",
    "import psycopg2\n",
    "import pandas as pd"
   ]
  },
  {
   "cell_type": "code",
   "execution_count": 11,
   "metadata": {},
   "outputs": [
    {
     "output_type": "execute_result",
     "data": {
      "text/plain": "                                                 content  type_id\n4300   submitted by nick giambruno via URL obama pull...        3\n9536   raw content limited official use page NUM bogo...        7\n813    russia and china stand in agreement on ukraine...        3\n11248  who ever thought that torture could be so funn...        8\n1436   america is changing the civil war is over and ...        1\n...                                                  ...      ...\n10955  national review at NUM onward by the editors —...        8\n905    create your own logo with logo marker online t...        0\n5192   most people understand that we live in a pollu...        4\n12172  he was asking me to take the baby with me out ...        9\n235    the judge handling lawsuits by the national ab...        2\n\n[12500 rows x 2 columns]",
      "text/html": "<div>\n<style scoped>\n    .dataframe tbody tr th:only-of-type {\n        vertical-align: middle;\n    }\n\n    .dataframe tbody tr th {\n        vertical-align: top;\n    }\n\n    .dataframe thead th {\n        text-align: right;\n    }\n</style>\n<table border=\"1\" class=\"dataframe\">\n  <thead>\n    <tr style=\"text-align: right;\">\n      <th></th>\n      <th>content</th>\n      <th>type_id</th>\n    </tr>\n  </thead>\n  <tbody>\n    <tr>\n      <td>4300</td>\n      <td>submitted by nick giambruno via URL obama pull...</td>\n      <td>3</td>\n    </tr>\n    <tr>\n      <td>9536</td>\n      <td>raw content limited official use page NUM bogo...</td>\n      <td>7</td>\n    </tr>\n    <tr>\n      <td>813</td>\n      <td>russia and china stand in agreement on ukraine...</td>\n      <td>3</td>\n    </tr>\n    <tr>\n      <td>11248</td>\n      <td>who ever thought that torture could be so funn...</td>\n      <td>8</td>\n    </tr>\n    <tr>\n      <td>1436</td>\n      <td>america is changing the civil war is over and ...</td>\n      <td>1</td>\n    </tr>\n    <tr>\n      <td>...</td>\n      <td>...</td>\n      <td>...</td>\n    </tr>\n    <tr>\n      <td>10955</td>\n      <td>national review at NUM onward by the editors —...</td>\n      <td>8</td>\n    </tr>\n    <tr>\n      <td>905</td>\n      <td>create your own logo with logo marker online t...</td>\n      <td>0</td>\n    </tr>\n    <tr>\n      <td>5192</td>\n      <td>most people understand that we live in a pollu...</td>\n      <td>4</td>\n    </tr>\n    <tr>\n      <td>12172</td>\n      <td>he was asking me to take the baby with me out ...</td>\n      <td>9</td>\n    </tr>\n    <tr>\n      <td>235</td>\n      <td>the judge handling lawsuits by the national ab...</td>\n      <td>2</td>\n    </tr>\n  </tbody>\n</table>\n<p>12500 rows × 2 columns</p>\n</div>"
     },
     "metadata": {},
     "execution_count": 11
    }
   ],
   "source": [
    "### load dataset\n",
    "connection = psycopg2.connect(user = \"postgres\",\n",
    "                                      password = \"root\",\n",
    "                                      host = \"localhost\",\n",
    "                                      port = \"5432\")\n",
    "\n",
    "# usage: specify file location, sample size and seed(used by random) \n",
    "filepath = '../Data_git_ignore/clean_csv/article_clean.csv' # 250 rows of FakeNewsCorpus\n",
    "f = 1.0                                            # desired frac\n",
    "seed = 1                                           # seed used by Pseudorandom number generator\n",
    "\n",
    "df = pd.read_sql_query(\"SELECT content, type_id FROM fakenews.article\", connection).sample(frac=f, random_state=seed)\n",
    "#df[\"content\"] = df[\"content\"].astype(str)\n",
    "# c*reate type_id\n",
    "#df['type_id'] = df.groupby(['type']).ngroup()\n",
    "\n",
    "df"
   ]
  },
  {
   "cell_type": "code",
   "execution_count": 12,
   "metadata": {},
   "outputs": [
    {
     "output_type": "execute_result",
     "data": {
      "text/plain": "   type_id        type\n2        2        bias\n9        9    reliable\n6        6   clickbait\n4        4     junksci\n0        0        fake\n3        3  conspiracy\n1        1      satire\n7        7  unreliable\n8        8   political\n5        5        hate",
      "text/html": "<div>\n<style scoped>\n    .dataframe tbody tr th:only-of-type {\n        vertical-align: middle;\n    }\n\n    .dataframe tbody tr th {\n        vertical-align: top;\n    }\n\n    .dataframe thead th {\n        text-align: right;\n    }\n</style>\n<table border=\"1\" class=\"dataframe\">\n  <thead>\n    <tr style=\"text-align: right;\">\n      <th></th>\n      <th>type_id</th>\n      <th>type</th>\n    </tr>\n  </thead>\n  <tbody>\n    <tr>\n      <td>2</td>\n      <td>2</td>\n      <td>bias</td>\n    </tr>\n    <tr>\n      <td>9</td>\n      <td>9</td>\n      <td>reliable</td>\n    </tr>\n    <tr>\n      <td>6</td>\n      <td>6</td>\n      <td>clickbait</td>\n    </tr>\n    <tr>\n      <td>4</td>\n      <td>4</td>\n      <td>junksci</td>\n    </tr>\n    <tr>\n      <td>0</td>\n      <td>0</td>\n      <td>fake</td>\n    </tr>\n    <tr>\n      <td>3</td>\n      <td>3</td>\n      <td>conspiracy</td>\n    </tr>\n    <tr>\n      <td>1</td>\n      <td>1</td>\n      <td>satire</td>\n    </tr>\n    <tr>\n      <td>7</td>\n      <td>7</td>\n      <td>unreliable</td>\n    </tr>\n    <tr>\n      <td>8</td>\n      <td>8</td>\n      <td>political</td>\n    </tr>\n    <tr>\n      <td>5</td>\n      <td>5</td>\n      <td>hate</td>\n    </tr>\n  </tbody>\n</table>\n</div>"
     },
     "metadata": {},
     "execution_count": 12
    }
   ],
   "source": [
    "pd.read_sql_query(\"SELECT * FROM fakenews.type\", connection).sample(frac=f, random_state=seed)"
   ]
  },
  {
   "cell_type": "code",
   "execution_count": 13,
   "metadata": {},
   "outputs": [
    {
     "output_type": "execute_result",
     "data": {
      "text/plain": "                                                 content  type_id\n4300   submitted by nick giambruno via URL obama pull...        0\n9536   raw content limited official use page NUM bogo...        0\n813    russia and china stand in agreement on ukraine...        0\n11248  who ever thought that torture could be so funn...        9\n1436   america is changing the civil war is over and ...        0",
      "text/html": "<div>\n<style scoped>\n    .dataframe tbody tr th:only-of-type {\n        vertical-align: middle;\n    }\n\n    .dataframe tbody tr th {\n        vertical-align: top;\n    }\n\n    .dataframe thead th {\n        text-align: right;\n    }\n</style>\n<table border=\"1\" class=\"dataframe\">\n  <thead>\n    <tr style=\"text-align: right;\">\n      <th></th>\n      <th>content</th>\n      <th>type_id</th>\n    </tr>\n  </thead>\n  <tbody>\n    <tr>\n      <td>4300</td>\n      <td>submitted by nick giambruno via URL obama pull...</td>\n      <td>0</td>\n    </tr>\n    <tr>\n      <td>9536</td>\n      <td>raw content limited official use page NUM bogo...</td>\n      <td>0</td>\n    </tr>\n    <tr>\n      <td>813</td>\n      <td>russia and china stand in agreement on ukraine...</td>\n      <td>0</td>\n    </tr>\n    <tr>\n      <td>11248</td>\n      <td>who ever thought that torture could be so funn...</td>\n      <td>9</td>\n    </tr>\n    <tr>\n      <td>1436</td>\n      <td>america is changing the civil war is over and ...</td>\n      <td>0</td>\n    </tr>\n  </tbody>\n</table>\n</div>"
     },
     "metadata": {},
     "execution_count": 13
    }
   ],
   "source": [
    "# to reliable\n",
    "df.type_id = df.type_id.replace (2, 9).values\n",
    "df.type_id = df.type_id.replace (6, 9)\n",
    "df.type_id = df.type_id.replace (8, 9)\n",
    "\n",
    "# to fake\n",
    "df.type_id = df.type_id.replace (1, 0)\n",
    "df.type_id = df.type_id.replace (3, 0)\n",
    "df.type_id = df.type_id.replace (4, 0)\n",
    "df.type_id = df.type_id.replace (5, 0)\n",
    "df.type_id = df.type_id.replace (7, 0)\n",
    "\n",
    "df.head()"
   ]
  },
  {
   "cell_type": "code",
   "execution_count": 15,
   "metadata": {},
   "outputs": [],
   "source": [
    "from sklearn.feature_extraction.text import TfidfVectorizer\n",
    "v = TfidfVectorizer()\n",
    "\n",
    "x = v.fit_transform(df['content'])"
   ]
  },
  {
   "cell_type": "code",
   "execution_count": 16,
   "metadata": {},
   "outputs": [],
   "source": [
    "from sklearn.model_selection import train_test_split\n",
    "\n",
    "X_train, X_test, y_train, y_test = train_test_split(x, df[\"type_id\"], test_size=0.2, random_state=0)"
   ]
  },
  {
   "cell_type": "code",
   "execution_count": 17,
   "metadata": {},
   "outputs": [],
   "source": [
    "# laver modellen\n",
    "model = tf.keras.models.Sequential()\n",
    "# tilføjer et input på modellen\n",
    "model.add(tf.keras.layers.Flatten())\n",
    "\n",
    "# relu er default aktiverings funktion. Lav den om hvis resultatet ikke er godt nok\n",
    "model.add(tf.keras.layers.Dense(20, activation=tf.nn.relu))\n",
    "# jeg tilføjer 2 lag til netwærket. Dette er fordi det er en simpel opgave\n",
    "model.add(tf.keras.layers.Dense(20, activation=tf.nn.relu))\n",
    "\n",
    "#antallet (10) er antal output. Det er 10 tal i datasettet derfor skal der være et 10 tal\n",
    "model.add(tf.keras.layers.Dense(11, activation=tf.nn.softmax))\n",
    "\n",
    "# Dette er den mest komplexe del. adam er goto. Hvis der kun er 2 løsninger så brug binary_categorical_crossentropy eller binary_crossentropy i stedet for sparse_categorical_crossentropy\n",
    "model.compile(optimizer='adam',\n",
    "    loss='sparse_categorical_crossentropy',\n",
    "    metrics=['accuracy'])"
   ]
  },
  {
   "cell_type": "code",
   "execution_count": 18,
   "metadata": {},
   "outputs": [
    {
     "output_type": "stream",
     "name": "stdout",
     "text": "Train on 10000 samples\nEpoch 1/3\n10000/10000 [==============================] - 14s 1ms/sample - loss: 0.8505 - accuracy: 0.6600\nEpoch 2/3\n10000/10000 [==============================] - 16s 2ms/sample - loss: 0.2914 - accuracy: 0.8941\nEpoch 3/3\n10000/10000 [==============================] - 16s 2ms/sample - loss: 0.0929 - accuracy: 0.9819\n"
    },
    {
     "output_type": "execute_result",
     "data": {
      "text/plain": "<tensorflow.python.keras.callbacks.History at 0x22b448e8208>"
     },
     "metadata": {},
     "execution_count": 18
    }
   ],
   "source": [
    "model.fit(X_train.toarray(), y_train.values, epochs=3)"
   ]
  },
  {
   "cell_type": "code",
   "execution_count": 19,
   "metadata": {},
   "outputs": [
    {
     "output_type": "stream",
     "name": "stdout",
     "text": "2500/2500 [==============================] - 4s 2ms/sample - loss: 0.3894 - accuracy: 0.8152\n0.3894043992578983 0.8152\n"
    }
   ],
   "source": [
    "# dette for for at trække om modellen er overfittet. val_loss og val_acc skal minde meget om det man får i fittet. \n",
    "#Det er ok at loss og acc er lidt højre på testen. De må ikke være fortæt eller for længt væk fra hinaden\n",
    "val_loss, val_acc = model.evaluate(X_test.toarray(),y_test.values)\n",
    "print(val_loss, val_acc)"
   ]
  },
  {
   "cell_type": "code",
   "execution_count": null,
   "metadata": {},
   "outputs": [],
   "source": []
  },
  {
   "cell_type": "code",
   "execution_count": null,
   "metadata": {},
   "outputs": [],
   "source": []
  }
 ],
 "metadata": {
  "kernelspec": {
   "display_name": "Python 3",
   "language": "python",
   "name": "python3"
  },
  "language_info": {
   "codemirror_mode": {
    "name": "ipython",
    "version": 3
   },
   "file_extension": ".py",
   "mimetype": "text/x-python",
   "name": "python",
   "nbconvert_exporter": "python",
   "pygments_lexer": "ipython3",
   "version": "3.7.4-final"
  }
 },
 "nbformat": 4,
 "nbformat_minor": 4
}