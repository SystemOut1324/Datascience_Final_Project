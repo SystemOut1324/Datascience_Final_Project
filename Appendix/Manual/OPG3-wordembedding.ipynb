{
 "cells": [
  {
   "cell_type": "code",
   "execution_count": 4,
   "metadata": {},
   "outputs": [],
   "source": [
    "import tensorflow as tf\n",
    "import numpy as np\n",
    "import psycopg2\n",
    "import pandas as pd\n",
    "import psycopg2\n",
    "import nltk\n",
    "import re\n",
    "import string\n",
    "import sklearn\n",
    "from sklearn.svm import LinearSVC\n",
    "from sklearn.model_selection import train_test_split"
   ]
  },
  {
   "cell_type": "code",
   "execution_count": 5,
   "metadata": {},
   "outputs": [
    {
     "data": {
      "text/html": [
       "<div>\n",
       "<style scoped>\n",
       "    .dataframe tbody tr th:only-of-type {\n",
       "        vertical-align: middle;\n",
       "    }\n",
       "\n",
       "    .dataframe tbody tr th {\n",
       "        vertical-align: top;\n",
       "    }\n",
       "\n",
       "    .dataframe thead th {\n",
       "        text-align: right;\n",
       "    }\n",
       "</style>\n",
       "<table border=\"1\" class=\"dataframe\">\n",
       "  <thead>\n",
       "    <tr style=\"text-align: right;\">\n",
       "      <th></th>\n",
       "      <th>meta_description</th>\n",
       "      <th>updated_at</th>\n",
       "      <th>content</th>\n",
       "      <th>authors</th>\n",
       "      <th>scraped_at</th>\n",
       "      <th>id</th>\n",
       "      <th>url</th>\n",
       "      <th>meta_keywords</th>\n",
       "      <th>summary</th>\n",
       "      <th>domain</th>\n",
       "      <th>title</th>\n",
       "      <th>keywords</th>\n",
       "      <th>tags</th>\n",
       "      <th>type</th>\n",
       "      <th>inserted_at</th>\n",
       "      <th>source</th>\n",
       "      <th>type_id</th>\n",
       "    </tr>\n",
       "  </thead>\n",
       "  <tbody>\n",
       "    <tr>\n",
       "      <td>0</td>\n",
       "      <td>THE UNIVERSE ceases to exist when we are not l...</td>\n",
       "      <td>2018-02-02 01:19:41.756664</td>\n",
       "      <td>life is an illusion , at least on a quantum le...</td>\n",
       "      <td>Sean Martin</td>\n",
       "      <td>2018-01-25 16:17:44.789555</td>\n",
       "      <td>2</td>\n",
       "      <td>https://www.express.co.uk/news/science/738402/...</td>\n",
       "      <td>['']</td>\n",
       "      <td>NaN</td>\n",
       "      <td>express.co.uk</td>\n",
       "      <td>Is life an ILLUSION? Researchers prove 'realit...</td>\n",
       "      <td>NaN</td>\n",
       "      <td>NaN</td>\n",
       "      <td>rumor</td>\n",
       "      <td>2018-02-02 01:19:41.756632</td>\n",
       "      <td>NaN</td>\n",
       "      <td>8</td>\n",
       "    </tr>\n",
       "    <tr>\n",
       "      <td>1</td>\n",
       "      <td>NaN</td>\n",
       "      <td>2018-02-02 01:19:41.756664</td>\n",
       "      <td>unfortunately , he hasn t yet attacked her for...</td>\n",
       "      <td>Linda Rivera, Conrad Calvano, Az Gal, Lincoln ...</td>\n",
       "      <td>2018-01-25 16:17:44.789555</td>\n",
       "      <td>6</td>\n",
       "      <td>http://barenakedislam.com/category/donald-trum...</td>\n",
       "      <td>['']</td>\n",
       "      <td>NaN</td>\n",
       "      <td>barenakedislam.com</td>\n",
       "      <td>Donald Trump</td>\n",
       "      <td>NaN</td>\n",
       "      <td>NaN</td>\n",
       "      <td>hate</td>\n",
       "      <td>2018-02-02 01:19:41.756632</td>\n",
       "      <td>NaN</td>\n",
       "      <td>4</td>\n",
       "    </tr>\n",
       "    <tr>\n",
       "      <td>2</td>\n",
       "      <td>NaN</td>\n",
       "      <td>2018-02-02 01:19:41.756664</td>\n",
       "      <td>the los angeles police department has been den...</td>\n",
       "      <td>Linda Rivera, Conrad Calvano, Az Gal, Lincoln ...</td>\n",
       "      <td>2018-01-25 16:17:44.789555</td>\n",
       "      <td>7</td>\n",
       "      <td>http://barenakedislam.com/category/donald-trum...</td>\n",
       "      <td>['']</td>\n",
       "      <td>NaN</td>\n",
       "      <td>barenakedislam.com</td>\n",
       "      <td>Donald Trump</td>\n",
       "      <td>NaN</td>\n",
       "      <td>NaN</td>\n",
       "      <td>hate</td>\n",
       "      <td>2018-02-02 01:19:41.756632</td>\n",
       "      <td>NaN</td>\n",
       "      <td>4</td>\n",
       "    </tr>\n",
       "    <tr>\n",
       "      <td>3</td>\n",
       "      <td>NaN</td>\n",
       "      <td>2018-02-02 01:19:41.756664</td>\n",
       "      <td>the white house has decided to quietly withdra...</td>\n",
       "      <td>Cleavis Nowell, Cleavisnowell, Clarence J. Fei...</td>\n",
       "      <td>2018-01-25 16:17:44.789555</td>\n",
       "      <td>8</td>\n",
       "      <td>http://barenakedislam.com/2017/12/24/more-winn...</td>\n",
       "      <td>['']</td>\n",
       "      <td>NaN</td>\n",
       "      <td>barenakedislam.com</td>\n",
       "      <td>MORE WINNING! Israeli intelligence source, DEB...</td>\n",
       "      <td>NaN</td>\n",
       "      <td>NaN</td>\n",
       "      <td>hate</td>\n",
       "      <td>2018-02-02 01:19:41.756632</td>\n",
       "      <td>NaN</td>\n",
       "      <td>4</td>\n",
       "    </tr>\n",
       "    <tr>\n",
       "      <td>4</td>\n",
       "      <td>NaN</td>\n",
       "      <td>2018-02-02 01:19:41.756664</td>\n",
       "      <td>the time has come to cut off the tongues of th...</td>\n",
       "      <td>F.N. Lehner, Don Spilman, Clarence J. Feinour,...</td>\n",
       "      <td>2018-01-25 16:17:44.789555</td>\n",
       "      <td>9</td>\n",
       "      <td>http://barenakedislam.com/2017/12/25/oh-trump-...</td>\n",
       "      <td>['']</td>\n",
       "      <td>NaN</td>\n",
       "      <td>barenakedislam.com</td>\n",
       "      <td>“Oh, Trump, you coward, you just wait, we will...</td>\n",
       "      <td>NaN</td>\n",
       "      <td>NaN</td>\n",
       "      <td>hate</td>\n",
       "      <td>2018-02-02 01:19:41.756632</td>\n",
       "      <td>NaN</td>\n",
       "      <td>4</td>\n",
       "    </tr>\n",
       "  </tbody>\n",
       "</table>\n",
       "</div>"
      ],
      "text/plain": [
       "                                    meta_description  \\\n",
       "0  THE UNIVERSE ceases to exist when we are not l...   \n",
       "1                                                NaN   \n",
       "2                                                NaN   \n",
       "3                                                NaN   \n",
       "4                                                NaN   \n",
       "\n",
       "                   updated_at  \\\n",
       "0  2018-02-02 01:19:41.756664   \n",
       "1  2018-02-02 01:19:41.756664   \n",
       "2  2018-02-02 01:19:41.756664   \n",
       "3  2018-02-02 01:19:41.756664   \n",
       "4  2018-02-02 01:19:41.756664   \n",
       "\n",
       "                                             content  \\\n",
       "0  life is an illusion , at least on a quantum le...   \n",
       "1  unfortunately , he hasn t yet attacked her for...   \n",
       "2  the los angeles police department has been den...   \n",
       "3  the white house has decided to quietly withdra...   \n",
       "4  the time has come to cut off the tongues of th...   \n",
       "\n",
       "                                             authors  \\\n",
       "0                                        Sean Martin   \n",
       "1  Linda Rivera, Conrad Calvano, Az Gal, Lincoln ...   \n",
       "2  Linda Rivera, Conrad Calvano, Az Gal, Lincoln ...   \n",
       "3  Cleavis Nowell, Cleavisnowell, Clarence J. Fei...   \n",
       "4  F.N. Lehner, Don Spilman, Clarence J. Feinour,...   \n",
       "\n",
       "                   scraped_at  id  \\\n",
       "0  2018-01-25 16:17:44.789555   2   \n",
       "1  2018-01-25 16:17:44.789555   6   \n",
       "2  2018-01-25 16:17:44.789555   7   \n",
       "3  2018-01-25 16:17:44.789555   8   \n",
       "4  2018-01-25 16:17:44.789555   9   \n",
       "\n",
       "                                                 url meta_keywords  summary  \\\n",
       "0  https://www.express.co.uk/news/science/738402/...          ['']      NaN   \n",
       "1  http://barenakedislam.com/category/donald-trum...          ['']      NaN   \n",
       "2  http://barenakedislam.com/category/donald-trum...          ['']      NaN   \n",
       "3  http://barenakedislam.com/2017/12/24/more-winn...          ['']      NaN   \n",
       "4  http://barenakedislam.com/2017/12/25/oh-trump-...          ['']      NaN   \n",
       "\n",
       "               domain                                              title  \\\n",
       "0       express.co.uk  Is life an ILLUSION? Researchers prove 'realit...   \n",
       "1  barenakedislam.com                                       Donald Trump   \n",
       "2  barenakedislam.com                                       Donald Trump   \n",
       "3  barenakedislam.com  MORE WINNING! Israeli intelligence source, DEB...   \n",
       "4  barenakedislam.com  “Oh, Trump, you coward, you just wait, we will...   \n",
       "\n",
       "   keywords tags   type                 inserted_at  source  type_id  \n",
       "0       NaN  NaN  rumor  2018-02-02 01:19:41.756632     NaN        8  \n",
       "1       NaN  NaN   hate  2018-02-02 01:19:41.756632     NaN        4  \n",
       "2       NaN  NaN   hate  2018-02-02 01:19:41.756632     NaN        4  \n",
       "3       NaN  NaN   hate  2018-02-02 01:19:41.756632     NaN        4  \n",
       "4       NaN  NaN   hate  2018-02-02 01:19:41.756632     NaN        4  "
      ]
     },
     "execution_count": 5,
     "metadata": {},
     "output_type": "execute_result"
    }
   ],
   "source": [
    "# importing and creating df (has to have type_id)\n",
    "\n",
    "# usage: specify file location, sample size and seed(used by random)\n",
    "#filepath = '../Data_sample/FakeNewsCorpus_250.csv' # 250 rows of FakeNewsCorpus\n",
    "filepath = '../Data_git_ignore/clean-100k.csv'       # 1 mil rows raw\n",
    "#s = 1000000                                            # desired sample size\n",
    "#seed = 1                                           # seed used by Pseudorandom number generator\n",
    "\n",
    "df = pd.read_csv(filepath, index_col = [0])\n",
    "df[\"content\"] = df[\"content\"].astype(str)\n",
    "# create type_id\n",
    "df['type_id'] = df.groupby(['type']).ngroup()\n",
    "\n",
    "df.head()"
   ]
  },
  {
   "cell_type": "code",
   "execution_count": 6,
   "metadata": {},
   "outputs": [
    {
     "data": {
      "text/plain": [
       "['bag', 'is', 'up']"
      ]
     },
     "execution_count": 6,
     "metadata": {},
     "output_type": "execute_result"
    }
   ],
   "source": [
    "import gensim \n",
    "from nltk.tokenize import sent_tokenize, word_tokenize\n",
    "from gensim.models.doc2vec import TaggedDocument, Doc2Vec \n",
    "from gensim.utils import tokenize\n",
    "q = word_tokenize('bag is up')\n",
    "q"
   ]
  },
  {
   "cell_type": "code",
   "execution_count": 9,
   "metadata": {},
   "outputs": [
    {
     "name": "stdout",
     "output_type": "stream",
     "text": [
      "=> fake (5000, 17) (4000, 17) (1000, 17)\n",
      "=> satire (344, 17) (275, 17) (69, 17)\n",
      "=> bias (5000, 17) (4000, 17) (1000, 17)\n",
      "=> conspiracy (5000, 17) (4000, 17) (1000, 17)\n",
      "=> junksci (2204, 17) (1763, 17) (441, 17)\n",
      "=> hate (298, 17) (238, 17) (60, 17)\n",
      "=> clickbait (1979, 17) (1583, 17) (396, 17)\n",
      "=> unreliable (1045, 17) (836, 17) (209, 17)\n",
      "=> political (5000, 17) (4000, 17) (1000, 17)\n",
      "=> reliable (289, 17) (231, 17) (58, 17)\n",
      "\n",
      "[Final split]\n",
      "train, test==> (20926, 17) (5233, 17)\n"
     ]
    }
   ],
   "source": [
    "#USE THIS\n",
    "# This can generate a dataset with random purmutation and a max size for each type(can be smaller if desired max is not possible)\n",
    "\n",
    "# max size for type\n",
    "max_size = 5000\n",
    "# traning_set ratio - splits data into traning=ratio,  test and validate=(1-ratio)/2 ex. train=80%, test=10%, validate=10%\n",
    "ratio=0.8\n",
    "# Labels to include - ['fake', 'satire', 'bias', 'conspiracy', 'state', 'junksci', 'hate', 'clickbait', 'unreliable', 'political', 'reliable'] - all labels\n",
    "use_types = ['fake', 'satire', 'bias', 'conspiracy', 'junksci', 'hate', 'clickbait', 'unreliable', 'political', 'reliable']\n",
    "# Random seed\n",
    "rnd = 1\n",
    "\n",
    "# initialize dataframes\n",
    "train    = pd.DataFrame(columns = df.columns)\n",
    "test     = pd.DataFrame(columns = df.columns)\n",
    "\n",
    "# add type to test splits\n",
    "for t in use_types:\n",
    "\n",
    "    # type size\n",
    "    type_size = df['type'].loc[df['type'] == t].value_counts().min()\n",
    "\n",
    "    # set size of type slice\n",
    "    if type_size < max_size:\n",
    "        tmp = df.loc[df['type'] == t].sample(n = type_size, random_state=rnd)\n",
    "    else:\n",
    "        tmp = df.loc[df['type'] == t].sample(n = max_size, random_state=rnd)\n",
    "\n",
    "    # split current type\n",
    "    train_tmp, test_tmp = np.split(tmp, [int(ratio * len(tmp))])\n",
    "\n",
    "    # add tmp to dataframes\n",
    "    train    = pd.concat([train, train_tmp])\n",
    "    test     = pd.concat([test, test_tmp])\n",
    "    \n",
    "    # print split shape\n",
    "    print(\"=>\", t, tmp.shape, train_tmp.shape, test_tmp.shape)\n",
    "\n",
    "print(\"\\n[Final split]\\ntrain, test==>\", train.shape, test.shape)"
   ]
  },
  {
   "cell_type": "code",
   "execution_count": 10,
   "metadata": {},
   "outputs": [],
   "source": [
    "train.reset_index(inplace = True, drop = True)\n",
    "test.reset_index(inplace = True, drop = True)"
   ]
  },
  {
   "cell_type": "code",
   "execution_count": 11,
   "metadata": {},
   "outputs": [
    {
     "name": "stdout",
     "output_type": "stream",
     "text": [
      "Wall time: 1 ms\n"
     ]
    }
   ],
   "source": [
    "%%time\n",
    "from gensim.models.doc2vec import Doc2Vec, TaggedDocument\n",
    "series_content = train.content\n",
    "#contTok = series_content.apply(nltk.word_tokenize)\n",
    "typeLst = train.type_id.tolist()\n",
    "#np.unique(typeLst, return_counts = True)"
   ]
  },
  {
   "cell_type": "code",
   "execution_count": 12,
   "metadata": {},
   "outputs": [],
   "source": [
    "test_content = test.content\n",
    "test_typeLst = test.type_id.tolist()"
   ]
  },
  {
   "cell_type": "code",
   "execution_count": 13,
   "metadata": {},
   "outputs": [],
   "source": [
    "#Try gensim tokenizer\n",
    "testTok = test_content.apply(tokenize,lowercase =True)\n",
    "for i in testTok.index:\n",
    "    testTok[i] = list(testTok[i])"
   ]
  },
  {
   "cell_type": "code",
   "execution_count": 14,
   "metadata": {},
   "outputs": [],
   "source": [
    "#Try gensim tokenizer\n",
    "contTok = series_content.apply(tokenize,lowercase =True)\n",
    "for i in contTok.index:\n",
    "    contTok[i] = list(contTok[i])"
   ]
  },
  {
   "cell_type": "code",
   "execution_count": 15,
   "metadata": {},
   "outputs": [],
   "source": [
    "documents = [TaggedDocument(contTok, [i]) for i, contTok in enumerate(contTok)]\n",
    "#contTok[291496]"
   ]
  },
  {
   "cell_type": "code",
   "execution_count": 16,
   "metadata": {},
   "outputs": [
    {
     "name": "stdout",
     "output_type": "stream",
     "text": [
      "Wall time: 1min 11s\n"
     ]
    }
   ],
   "source": [
    "%%time\n",
    "model1 = Doc2Vec(documents, vector_size = 150, min_count = 3, window = 10, epochs=10, workers = 4)"
   ]
  },
  {
   "cell_type": "code",
   "execution_count": 17,
   "metadata": {},
   "outputs": [
    {
     "name": "stderr",
     "output_type": "stream",
     "text": [
      "C:\\Users\\jola1\\Anaconda3\\lib\\site-packages\\ipykernel_launcher.py:1: DeprecationWarning: Call to deprecated `most_similar` (Method will be removed in 4.0.0, use self.wv.most_similar() instead).\n",
      "  \"\"\"Entry point for launching an IPython kernel.\n"
     ]
    },
    {
     "data": {
      "text/plain": [
       "[('iphone', 0.6111857891082764),\n",
       " ('microsoft', 0.6019127368927002),\n",
       " ('android', 0.5729804039001465),\n",
       " ('ios', 0.5571538209915161),\n",
       " ('samsung', 0.5555466413497925),\n",
       " ('ipad', 0.5420922040939331),\n",
       " ('cider', 0.5340316295623779),\n",
       " ('qualcomm', 0.5238921642303467),\n",
       " ('handset', 0.5228796601295471),\n",
       " ('sony', 0.5202236175537109)]"
      ]
     },
     "execution_count": 17,
     "metadata": {},
     "output_type": "execute_result"
    }
   ],
   "source": [
    "model1.most_similar('apple')"
   ]
  },
  {
   "cell_type": "code",
   "execution_count": 18,
   "metadata": {},
   "outputs": [
    {
     "data": {
      "text/plain": [
       "20926"
      ]
     },
     "execution_count": 18,
     "metadata": {},
     "output_type": "execute_result"
    }
   ],
   "source": [
    "model1.docvecs.count"
   ]
  },
  {
   "cell_type": "code",
   "execution_count": 19,
   "metadata": {},
   "outputs": [
    {
     "data": {
      "text/plain": [
       "[(3641, 0.6869447231292725),\n",
       " (6978, 0.668586015701294),\n",
       " (15854, 0.6644639372825623),\n",
       " (476, 0.6631125211715698),\n",
       " (10157, 0.6540347337722778),\n",
       " (7576, 0.6530439853668213),\n",
       " (18783, 0.652694582939148),\n",
       " (4662, 0.6523772478103638),\n",
       " (2577, 0.6495127081871033),\n",
       " (8863, 0.6491802930831909)]"
      ]
     },
     "execution_count": 19,
     "metadata": {},
     "output_type": "execute_result"
    }
   ],
   "source": [
    "model1.docvecs.most_similar(12000)"
   ]
  },
  {
   "cell_type": "code",
   "execution_count": 20,
   "metadata": {},
   "outputs": [],
   "source": [
    "#Put all docvecs and labels into arrays for classifier:\n",
    "train_arrays = np.zeros((model1.docvecs.count,150),dtype=\"float32\")\n",
    "train_labels = np.zeros(model1.docvecs.count,dtype=\"float32\")\n",
    "for i in range(model1.docvecs.count):\n",
    "    train_arrays[i] = model1.docvecs[i]\n",
    "    train_labels[i] = train.type_id[i]"
   ]
  },
  {
   "cell_type": "code",
   "execution_count": 21,
   "metadata": {},
   "outputs": [],
   "source": [
    "from sklearn.utils import shuffle\n",
    "train_arrays, train_labels = shuffle(train_arrays, train_labels)"
   ]
  },
  {
   "cell_type": "code",
   "execution_count": 2,
   "metadata": {},
   "outputs": [],
   "source": [
    "def execQuery(query):\n",
    "    try:\n",
    "        connection = psycopg2.connect(user = \"postgres\",\n",
    "                                      password = \"root\",\n",
    "                                      host = \"localhost\",\n",
    "                                      port = \"5432\",\n",
    "                                      database = \"postgress\")\n",
    "        cursor = connection.cursor()\n",
    "        cursor.execute(query)\n",
    "        record = cursor.fetchall()\n",
    "        return record\n",
    "    except (Exception, psycopg2.Error) as error :\n",
    "        connection = False\n",
    "        print (\"Error while connecting to PostgreSQL\", error)\n",
    "    finally:\n",
    "        if(connection):\n",
    "            cursor.close()\n",
    "            connection.close()\n",
    "            print(\"Executed query and closed connection.\")"
   ]
  },
  {
   "cell_type": "code",
   "execution_count": 22,
   "metadata": {},
   "outputs": [],
   "source": [
    "#How infer_vector works:\n",
    "token = \"this is new sentence\".split()\n",
    "new_vector = model1.infer_vector(token)\n",
    "sims = model1.docvecs.most_similar([new_vector])"
   ]
  },
  {
   "cell_type": "code",
   "execution_count": 23,
   "metadata": {},
   "outputs": [],
   "source": [
    "#testTok\n",
    "test_arrays = np.zeros((len(test),150),dtype = \"float32\")\n",
    "for i in range(len(test)):\n",
    "    test_arrays[i] = model1.infer_vector(testTok[i],steps = 15)   \n",
    "test_labels = np.array(test_typeLst,dtype=\"float32\")"
   ]
  },
  {
   "cell_type": "code",
   "execution_count": 24,
   "metadata": {},
   "outputs": [
    {
     "data": {
      "text/plain": [
       "[(2990, 0.7172302007675171),\n",
       " (2406, 0.631436824798584),\n",
       " (2033, 0.6294246315956116),\n",
       " (12019, 0.6242984533309937),\n",
       " (11307, 0.6152855157852173),\n",
       " (150, 0.5990238189697266),\n",
       " (1710, 0.5703397989273071),\n",
       " (942, 0.5529394149780273),\n",
       " (2229, 0.5519653558731079),\n",
       " (19678, 0.5503799915313721)]"
      ]
     },
     "execution_count": 24,
     "metadata": {},
     "output_type": "execute_result"
    }
   ],
   "source": [
    "model1.docvecs.most_similar([test_arrays[100]])"
   ]
  },
  {
   "cell_type": "code",
   "execution_count": 5,
   "metadata": {},
   "outputs": [
    {
     "data": {
      "text/html": [
       "<div>\n",
       "<style scoped>\n",
       "    .dataframe tbody tr th:only-of-type {\n",
       "        vertical-align: middle;\n",
       "    }\n",
       "\n",
       "    .dataframe tbody tr th {\n",
       "        vertical-align: top;\n",
       "    }\n",
       "\n",
       "    .dataframe thead th {\n",
       "        text-align: right;\n",
       "    }\n",
       "</style>\n",
       "<table border=\"1\" class=\"dataframe\">\n",
       "  <thead>\n",
       "    <tr style=\"text-align: right;\">\n",
       "      <th></th>\n",
       "      <th>id</th>\n",
       "      <th>domain_id</th>\n",
       "      <th>type_id</th>\n",
       "      <th>url</th>\n",
       "      <th>content</th>\n",
       "      <th>title</th>\n",
       "      <th>meta_description</th>\n",
       "      <th>scraped_at</th>\n",
       "      <th>updated_at</th>\n",
       "      <th>inserted_at</th>\n",
       "    </tr>\n",
       "  </thead>\n",
       "  <tbody>\n",
       "    <tr>\n",
       "      <td>0</td>\n",
       "      <td>437287</td>\n",
       "      <td>1</td>\n",
       "      <td>1</td>\n",
       "      <td>http://beforeitsnews.com/financial-markets/201...</td>\n",
       "      <td>['got', 'plans', 'saturday', 'of', 'readers', ...</td>\n",
       "      <td>Got Plans Saturday?</td>\n",
       "      <td>None</td>\n",
       "      <td>2018-01-25</td>\n",
       "      <td>2018-02-02</td>\n",
       "      <td>2018-02-02</td>\n",
       "    </tr>\n",
       "    <tr>\n",
       "      <td>1</td>\n",
       "      <td>929199</td>\n",
       "      <td>0</td>\n",
       "      <td>0</td>\n",
       "      <td>https://www.christianpost.com/news/birth-of-a-...</td>\n",
       "      <td>['the', 'views', 'expressed', 'by', 'the', 'au...</td>\n",
       "      <td>Birth of a Muslim Zionist</td>\n",
       "      <td>None</td>\n",
       "      <td>2018-01-25</td>\n",
       "      <td>2018-02-02</td>\n",
       "      <td>2018-02-02</td>\n",
       "    </tr>\n",
       "    <tr>\n",
       "      <td>2</td>\n",
       "      <td>433367</td>\n",
       "      <td>1</td>\n",
       "      <td>1</td>\n",
       "      <td>http://beforeitsnews.com/financial-markets/201...</td>\n",
       "      <td>['headline', 'bitcoin', 'blockchain', 'searche...</td>\n",
       "      <td>Fed to manipulate interest rates (and gold?) t...</td>\n",
       "      <td>None</td>\n",
       "      <td>2018-01-25</td>\n",
       "      <td>2018-02-02</td>\n",
       "      <td>2018-02-02</td>\n",
       "    </tr>\n",
       "    <tr>\n",
       "      <td>3</td>\n",
       "      <td>474095</td>\n",
       "      <td>2</td>\n",
       "      <td>0</td>\n",
       "      <td>https://nutritionfacts.org/topics/inflammatory...</td>\n",
       "      <td>['preventing', 'crohns', 'disease', 'with', 'd...</td>\n",
       "      <td>inflammatory bowel disease</td>\n",
       "      <td>None</td>\n",
       "      <td>2018-01-25</td>\n",
       "      <td>2018-02-02</td>\n",
       "      <td>2018-02-02</td>\n",
       "    </tr>\n",
       "    <tr>\n",
       "      <td>4</td>\n",
       "      <td>929765</td>\n",
       "      <td>0</td>\n",
       "      <td>0</td>\n",
       "      <td>https://www.christianpost.com/news/if-free-tra...</td>\n",
       "      <td>['expand', 'collapse', 'dr', 'gordon', 'borono...</td>\n",
       "      <td>If Free Trade Is So Great, Why Are American Wo...</td>\n",
       "      <td>None</td>\n",
       "      <td>2018-01-25</td>\n",
       "      <td>2018-02-02</td>\n",
       "      <td>2018-02-02</td>\n",
       "    </tr>\n",
       "  </tbody>\n",
       "</table>\n",
       "</div>"
      ],
      "text/plain": [
       "       id  domain_id  type_id  \\\n",
       "0  437287          1        1   \n",
       "1  929199          0        0   \n",
       "2  433367          1        1   \n",
       "3  474095          2        0   \n",
       "4  929765          0        0   \n",
       "\n",
       "                                                 url  \\\n",
       "0  http://beforeitsnews.com/financial-markets/201...   \n",
       "1  https://www.christianpost.com/news/birth-of-a-...   \n",
       "2  http://beforeitsnews.com/financial-markets/201...   \n",
       "3  https://nutritionfacts.org/topics/inflammatory...   \n",
       "4  https://www.christianpost.com/news/if-free-tra...   \n",
       "\n",
       "                                             content  \\\n",
       "0  ['got', 'plans', 'saturday', 'of', 'readers', ...   \n",
       "1  ['the', 'views', 'expressed', 'by', 'the', 'au...   \n",
       "2  ['headline', 'bitcoin', 'blockchain', 'searche...   \n",
       "3  ['preventing', 'crohns', 'disease', 'with', 'd...   \n",
       "4  ['expand', 'collapse', 'dr', 'gordon', 'borono...   \n",
       "\n",
       "                                               title meta_description  \\\n",
       "0                                Got Plans Saturday?             None   \n",
       "1                          Birth of a Muslim Zionist             None   \n",
       "2  Fed to manipulate interest rates (and gold?) t...             None   \n",
       "3                         inflammatory bowel disease             None   \n",
       "4  If Free Trade Is So Great, Why Are American Wo...             None   \n",
       "\n",
       "   scraped_at  updated_at inserted_at  \n",
       "0  2018-01-25  2018-02-02  2018-02-02  \n",
       "1  2018-01-25  2018-02-02  2018-02-02  \n",
       "2  2018-01-25  2018-02-02  2018-02-02  \n",
       "3  2018-01-25  2018-02-02  2018-02-02  \n",
       "4  2018-01-25  2018-02-02  2018-02-02  "
      ]
     },
     "execution_count": 5,
     "metadata": {},
     "output_type": "execute_result"
    }
   ],
   "source": [
    "### load dataset\n",
    "connection = psycopg2.connect(user = \"postgres\",\n",
    "                                      password = \"root\",\n",
    "                                      host = \"localhost\",\n",
    "                                      port = \"5432\")\n",
    "\n",
    "# usage: specify file location, sample size and seed(used by random) \n",
    "filepath = '../Data_git_ignore/clean_csv/article_clean.csv' # 250 rows of FakeNewsCorpus\n",
    "s = 250                                            # desired sample size\n",
    "seed = 1                                           # seed used by Pseudorandom number generator\n",
    "\n",
    "df = pd.read_sql_query(\"SELECT * FROM fakenews.article\", connection)\n",
    "#df[\"content\"] = df[\"content\"].astype(str)\n",
    "# c*reate type_id\n",
    "#df['type_id'] = df.groupby(['type']).ngroup()\n",
    "\n",
    "df.head()"
   ]
  },
  {
   "cell_type": "code",
   "execution_count": 6,
   "metadata": {},
   "outputs": [],
   "source": [
    "from sklearn.feature_extraction.text import TfidfVectorizer\n",
    "v = TfidfVectorizer()\n",
    "\n",
    "df['content'] = df['content'].apply(' '.join)\n",
    "\n",
    "x = v.fit_transform(df[\"content\"])"
   ]
  },
  {
   "cell_type": "code",
   "execution_count": 11,
   "metadata": {},
   "outputs": [],
   "source": [
    "from sklearn.model_selection import train_test_split\n",
    "\n",
    "X_train, X_test, y_train, y_test = train_test_split(x.toarray(), df[\"type_id\"], test_size=0.2, random_state=0)"
   ]
  },
  {
   "cell_type": "code",
   "execution_count": 29,
   "metadata": {},
   "outputs": [],
   "source": [
    "# laver modellen\n",
    "model = tf.keras.models.Sequential()\n",
    "# tilføjer et input på modellen\n",
    "model.add(tf.keras.layers.Flatten())\n",
    "\n",
    "# relu er default aktiverings funktion. Lav den om hvis resultatet ikke er godt nok\n",
    "model.add(tf.keras.layers.Dense(6, activation=tf.nn.relu))\n",
    "# jeg tilføjer 2 lag til netwærket. Dette er fordi det er en simpel opgave\n",
    "model.add(tf.keras.layers.Dense(6, activation=tf.nn.relu))\n",
    "\n",
    "#antallet (10) er antal output. Det er 10 tal i datasettet derfor skal der være et 10 tal\n",
    "model.add(tf.keras.layers.Dense(12, activation=tf.nn.softmax))\n",
    "\n",
    "# Dette er den mest komplexe del. adam er goto. Hvis der kun er 2 løsninger så brug binary_categorical_crossentropy eller binary_crossentropy i stedet for sparse_categorical_crossentropy\n",
    "model.compile(optimizer='adam',\n",
    "    loss='sparse_categorical_crossentropy',\n",
    "    metrics=['accuracy'])"
   ]
  },
  {
   "cell_type": "code",
   "execution_count": 30,
   "metadata": {},
   "outputs": [
    {
     "name": "stdout",
     "output_type": "stream",
     "text": [
      "Train on 20926 samples\n",
      "Epoch 1/3\n",
      "20926/20926 [==============================] - 1s 27us/sample - loss: 2.1305 - accuracy: 0.1974\n",
      "Epoch 2/3\n",
      "20926/20926 [==============================] - 0s 19us/sample - loss: 1.9483 - accuracy: 0.2405\n",
      "Epoch 3/3\n",
      "20926/20926 [==============================] - 0s 20us/sample - loss: 1.9030 - accuracy: 0.2781\n"
     ]
    },
    {
     "data": {
      "text/plain": [
       "<tensorflow.python.keras.callbacks.History at 0x271846ef248>"
      ]
     },
     "execution_count": 30,
     "metadata": {},
     "output_type": "execute_result"
    }
   ],
   "source": [
    "model.fit(train_arrays, train_labels, epochs=3)"
   ]
  },
  {
   "cell_type": "code",
   "execution_count": 33,
   "metadata": {},
   "outputs": [
    {
     "name": "stdout",
     "output_type": "stream",
     "text": [
      "5233/5233 [==============================] - 0s 24us/sample - loss: 1.8900 - accuracy: 0.2628\n",
      "1.8900384168517355 0.2627556\n"
     ]
    }
   ],
   "source": [
    "# dette for for at trække om modellen er overfittet. val_loss og val_acc skal minde meget om det man får i fittet. \n",
    "#Det er ok at loss og acc er lidt højre på testen. De må ikke være fortæt eller for længt væk fra hinaden\n",
    "test_arrays_shuffled, test_labels_shuffled = shuffle(test_arrays, test_labels)\n",
    "\n",
    "val_loss, val_acc = model.evaluate(test_arrays_shuffled,test_labels_shuffled)\n",
    "print(val_loss, val_acc)"
   ]
  },
  {
   "cell_type": "code",
   "execution_count": null,
   "metadata": {},
   "outputs": [],
   "source": []
  },
  {
   "cell_type": "code",
   "execution_count": null,
   "metadata": {},
   "outputs": [],
   "source": []
  }
 ],
 "metadata": {
  "kernelspec": {
   "display_name": "Python 3",
   "language": "python",
   "name": "python3"
  },
  "language_info": {
   "codemirror_mode": {
    "name": "ipython",
    "version": 3
   },
   "file_extension": ".py",
   "mimetype": "text/x-python",
   "name": "python",
   "nbconvert_exporter": "python",
   "pygments_lexer": "ipython3",
   "version": "3.7.4"
  }
 },
 "nbformat": 4,
 "nbformat_minor": 4
}
