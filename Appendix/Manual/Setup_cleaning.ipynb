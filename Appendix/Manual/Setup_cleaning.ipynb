{
 "cells": [
  {
   "cell_type": "markdown",
   "metadata": {},
   "source": [
    "### This file decribes how to get scrape a working csv-file from wikinews.org\n",
    "\n",
    "# IT NEED A LOT OF STUFF NOT IMPLEMENTED COMPLITELY\n",
    "\n",
    "Table taken from: https://github.com/several27/FakeNewsCorpus - go there for better table formating\n",
    "\n",
    "| Type | Tag | Count (so far) | Description|\n",
    "| ------------- |-------------|:-------------:|:-------------:|\n",
    "| **Fake News** | fake | 928,083 | Sources that entirely fabricate information, disseminate deceptive content, or grossly distort actual news reports |\n",
    "| **Satire** | satire | 146,080 | Sources that use humor, irony, exaggeration, ridicule, and false information to comment on current events. |\n",
    "| **Extreme Bias** | bias | 1,300,444 | Sources that come from a particular point of view and may rely on propaganda, decontextualized information, and opinions distorted as facts. |\n",
    "| **Conspiracy Theory** | conspiracy | 905,981 | Sources that are well-known promoters of kooky conspiracy theories. |\n",
    "| **State News** | state | 0 | Sources in repressive states operating under government sanction. |\n",
    "| **Junk Science** | junksci | 144,939 | Sources that promote pseudoscience, metaphysics, naturalistic fallacies, and other scientifically dubious claims. |\n",
    "| **Hate News** | hate | 117,374 | Sources that actively promote racism, misogyny, homophobia, and other forms of discrimination. |\n",
    "| **Clickbait** | clickbait | 292,201 | Sources that provide generally credible content, but use exaggerated, misleading, or questionable headlines, social media descriptions, and/or images. |\n",
    "| **Proceed With Caution** | unreliable | 319,830 | Sources that may be reliable but whose contents require further verification. |\n",
    "| **Political** | political | 2,435,471 | Sources that provide generally verifiable information in support of certain points of view or political orientations. |\n",
    "| **Credible** | reliable | 1,920,139 | Sources that circulate news and information in a manner consistent with traditional and ethical practices in journalism (Remember: even credible sources sometimes rely on clickbait-style headlines or occasionally make mistakes. No news organization is perfect, which is why a healthy news diet consists of multiple sources of information). |"
   ]
  },
  {
   "cell_type": "code",
   "execution_count": 4,
   "metadata": {},
   "outputs": [],
   "source": [
    "# Follow the link below:\n",
    "# https://www.kaggle.com/sudalairajkumar/getting-started-with-text-preprocessing\n",
    "# https://www.analyticsvidhya.com/blog/2018/04/a-comprehensive-guide-to-understand-and-implement-text-classification-in-python/\n",
    "\n",
    "\n",
    "\n",
    "import psycopg2\n",
    "# import nltk\n",
    "import pandas as pd\n",
    "import numpy as np\n",
    "import seaborn as sns\n",
    "import re\n",
    "import string"
   ]
  },
  {
   "cell_type": "markdown",
   "metadata": {},
   "source": [
    "### Import and get basic information about the data\n",
    "\n",
    "First we import the data and get an idea about how it it structured and so on such that we can better understand what has to be done.\n",
    "\n",
    "- Below we import and create a type_id colum (might remove later)\n"
   ]
  },
  {
   "cell_type": "code",
   "execution_count": 43,
   "metadata": {},
   "outputs": [
    {
     "output_type": "execute_result",
     "data": {
      "text/plain": "           id              domain        type  \\\n0           2       express.co.uk       rumor   \n1           6  barenakedislam.com        hate   \n2           7  barenakedislam.com        hate   \n3           8  barenakedislam.com        hate   \n4           9  barenakedislam.com        hate   \n...       ...                 ...         ...   \n9895  1170082       wikileaks.org  unreliable   \n9906  1170093       wikileaks.org  unreliable   \n9913  1170100       wikileaks.org  unreliable   \n9923  1170110       wikileaks.org  unreliable   \n9927  1170114       express.co.uk       rumor   \n\n                                                    url  \\\n0     https://www.express.co.uk/news/science/738402/...   \n1     http://barenakedislam.com/category/donald-trum...   \n2     http://barenakedislam.com/category/donald-trum...   \n3     http://barenakedislam.com/2017/12/24/more-winn...   \n4     http://barenakedislam.com/2017/12/25/oh-trump-...   \n...                                                 ...   \n9895  https://www.wikileaks.org/plusd/cables/1974ATO...   \n9906  https://www.wikileaks.org/plusd/cables/1976ABU...   \n9913  https://www.wikileaks.org/plusd/cables/1976ANK...   \n9923  https://www.wikileaks.org/plusd/cables/1976ROM...   \n9927  https://www.express.co.uk/celebrity-news/56649...   \n\n                                                content  \\\n0     Life is an illusion, at least on a quantum lev...   \n1     Unfortunately, he hasn’t yet attacked her for ...   \n2     The Los Angeles Police Department has been den...   \n3     The White House has decided to quietly withdra...   \n4     “The time has come to cut off the tongues of t...   \n...                                                 ...   \n9895  Raw content\\n\\nPAGE 01 NATO 05116 01 OF 02 201...   \n9906  Raw content\\n\\nCONFIDENTIAL PAGE 01 ABU DH 000...   \n9913  Raw content\\n\\nCONFIDENTIAL PAGE 01 ANKARA 019...   \n9923  Raw content\\n\\nLIMITED OFFICIAL USE PAGE 01 RO...   \n9927  FLYNET Eddie looked unrecognisable as Einar We...   \n\n                      scraped_at                 inserted_at  \\\n0     2018-01-25 16:17:44.789555  2018-02-02 01:19:41.756632   \n1     2018-01-25 16:17:44.789555  2018-02-02 01:19:41.756632   \n2     2018-01-25 16:17:44.789555  2018-02-02 01:19:41.756632   \n3     2018-01-25 16:17:44.789555  2018-02-02 01:19:41.756632   \n4     2018-01-25 16:17:44.789555  2018-02-02 01:19:41.756632   \n...                          ...                         ...   \n9895  2018-01-25 20:13:50.426130  2018-02-02 01:19:41.756632   \n9906  2018-01-25 20:13:50.426130  2018-02-02 01:19:41.756632   \n9913  2018-01-25 20:13:50.426130  2018-02-02 01:19:41.756632   \n9923  2018-01-25 20:13:50.426130  2018-02-02 01:19:41.756632   \n9927  2018-01-25 20:13:50.426130  2018-02-02 01:19:41.756632   \n\n                      updated_at  \\\n0     2018-02-02 01:19:41.756664   \n1     2018-02-02 01:19:41.756664   \n2     2018-02-02 01:19:41.756664   \n3     2018-02-02 01:19:41.756664   \n4     2018-02-02 01:19:41.756664   \n...                          ...   \n9895  2018-02-02 01:19:41.756664   \n9906  2018-02-02 01:19:41.756664   \n9913  2018-02-02 01:19:41.756664   \n9923  2018-02-02 01:19:41.756664   \n9927  2018-02-02 01:19:41.756664   \n\n                                                  title  \\\n0     Is life an ILLUSION? Researchers prove 'realit...   \n1                                          Donald Trump   \n2                                          Donald Trump   \n3     MORE WINNING! Israeli intelligence source, DEB...   \n4     “Oh, Trump, you coward, you just wait, we will...   \n...                                                 ...   \n9895                                Cable: 1974ATO05116   \n9906                              Cable: 1976ABUDH00021   \n9913                             Cable: 1976ANKARA01989   \n9923                               Cable: 1976ROME16372   \n9927  Eddie Redmayne looks ultra feminine as transge...   \n\n                                                authors  keywords  \\\n0                                           Sean Martin       NaN   \n1     Linda Rivera, Conrad Calvano, Az Gal, Lincoln ...       NaN   \n2     Linda Rivera, Conrad Calvano, Az Gal, Lincoln ...       NaN   \n3     Cleavis Nowell, Cleavisnowell, Clarence J. Fei...       NaN   \n4     F.N. Lehner, Don Spilman, Clarence J. Feinour,...       NaN   \n...                                                 ...       ...   \n9895                                                NaN       NaN   \n9906                                                NaN       NaN   \n9913                                                NaN       NaN   \n9923                                                NaN       NaN   \n9927                                        Annie Price       NaN   \n\n     meta_keywords                                   meta_description  \\\n0             ['']  THE UNIVERSE ceases to exist when we are not l...   \n1             ['']                                                NaN   \n2             ['']                                                NaN   \n3             ['']                                                NaN   \n4             ['']                                                NaN   \n...            ...                                                ...   \n9895          ['']                                                NaN   \n9906          ['']                                                NaN   \n9913          ['']                                                NaN   \n9923          ['']                                                NaN   \n9927          ['']  FOR his last role Eddie Redmayne transformed h...   \n\n           tags  summary  source  type_id  \n0           NaN      NaN     NaN        8  \n1           NaN      NaN     NaN        4  \n2           NaN      NaN     NaN        4  \n3           NaN      NaN     NaN        4  \n4           NaN      NaN     NaN        4  \n...         ...      ...     ...      ...  \n9895  View Tags      NaN     NaN       11  \n9906  View Tags      NaN     NaN       11  \n9913  View Tags      NaN     NaN       11  \n9923  View Tags      NaN     NaN       11  \n9927        NaN      NaN     NaN        8  \n\n[660915 rows x 17 columns]",
      "text/html": "<div>\n<style scoped>\n    .dataframe tbody tr th:only-of-type {\n        vertical-align: middle;\n    }\n\n    .dataframe tbody tr th {\n        vertical-align: top;\n    }\n\n    .dataframe thead th {\n        text-align: right;\n    }\n</style>\n<table border=\"1\" class=\"dataframe\">\n  <thead>\n    <tr style=\"text-align: right;\">\n      <th></th>\n      <th>id</th>\n      <th>domain</th>\n      <th>type</th>\n      <th>url</th>\n      <th>content</th>\n      <th>scraped_at</th>\n      <th>inserted_at</th>\n      <th>updated_at</th>\n      <th>title</th>\n      <th>authors</th>\n      <th>keywords</th>\n      <th>meta_keywords</th>\n      <th>meta_description</th>\n      <th>tags</th>\n      <th>summary</th>\n      <th>source</th>\n      <th>type_id</th>\n    </tr>\n  </thead>\n  <tbody>\n    <tr>\n      <th>0</th>\n      <td>2</td>\n      <td>express.co.uk</td>\n      <td>rumor</td>\n      <td>https://www.express.co.uk/news/science/738402/...</td>\n      <td>Life is an illusion, at least on a quantum lev...</td>\n      <td>2018-01-25 16:17:44.789555</td>\n      <td>2018-02-02 01:19:41.756632</td>\n      <td>2018-02-02 01:19:41.756664</td>\n      <td>Is life an ILLUSION? Researchers prove 'realit...</td>\n      <td>Sean Martin</td>\n      <td>NaN</td>\n      <td>['']</td>\n      <td>THE UNIVERSE ceases to exist when we are not l...</td>\n      <td>NaN</td>\n      <td>NaN</td>\n      <td>NaN</td>\n      <td>8</td>\n    </tr>\n    <tr>\n      <th>1</th>\n      <td>6</td>\n      <td>barenakedislam.com</td>\n      <td>hate</td>\n      <td>http://barenakedislam.com/category/donald-trum...</td>\n      <td>Unfortunately, he hasn’t yet attacked her for ...</td>\n      <td>2018-01-25 16:17:44.789555</td>\n      <td>2018-02-02 01:19:41.756632</td>\n      <td>2018-02-02 01:19:41.756664</td>\n      <td>Donald Trump</td>\n      <td>Linda Rivera, Conrad Calvano, Az Gal, Lincoln ...</td>\n      <td>NaN</td>\n      <td>['']</td>\n      <td>NaN</td>\n      <td>NaN</td>\n      <td>NaN</td>\n      <td>NaN</td>\n      <td>4</td>\n    </tr>\n    <tr>\n      <th>2</th>\n      <td>7</td>\n      <td>barenakedislam.com</td>\n      <td>hate</td>\n      <td>http://barenakedislam.com/category/donald-trum...</td>\n      <td>The Los Angeles Police Department has been den...</td>\n      <td>2018-01-25 16:17:44.789555</td>\n      <td>2018-02-02 01:19:41.756632</td>\n      <td>2018-02-02 01:19:41.756664</td>\n      <td>Donald Trump</td>\n      <td>Linda Rivera, Conrad Calvano, Az Gal, Lincoln ...</td>\n      <td>NaN</td>\n      <td>['']</td>\n      <td>NaN</td>\n      <td>NaN</td>\n      <td>NaN</td>\n      <td>NaN</td>\n      <td>4</td>\n    </tr>\n    <tr>\n      <th>3</th>\n      <td>8</td>\n      <td>barenakedislam.com</td>\n      <td>hate</td>\n      <td>http://barenakedislam.com/2017/12/24/more-winn...</td>\n      <td>The White House has decided to quietly withdra...</td>\n      <td>2018-01-25 16:17:44.789555</td>\n      <td>2018-02-02 01:19:41.756632</td>\n      <td>2018-02-02 01:19:41.756664</td>\n      <td>MORE WINNING! Israeli intelligence source, DEB...</td>\n      <td>Cleavis Nowell, Cleavisnowell, Clarence J. Fei...</td>\n      <td>NaN</td>\n      <td>['']</td>\n      <td>NaN</td>\n      <td>NaN</td>\n      <td>NaN</td>\n      <td>NaN</td>\n      <td>4</td>\n    </tr>\n    <tr>\n      <th>4</th>\n      <td>9</td>\n      <td>barenakedislam.com</td>\n      <td>hate</td>\n      <td>http://barenakedislam.com/2017/12/25/oh-trump-...</td>\n      <td>“The time has come to cut off the tongues of t...</td>\n      <td>2018-01-25 16:17:44.789555</td>\n      <td>2018-02-02 01:19:41.756632</td>\n      <td>2018-02-02 01:19:41.756664</td>\n      <td>“Oh, Trump, you coward, you just wait, we will...</td>\n      <td>F.N. Lehner, Don Spilman, Clarence J. Feinour,...</td>\n      <td>NaN</td>\n      <td>['']</td>\n      <td>NaN</td>\n      <td>NaN</td>\n      <td>NaN</td>\n      <td>NaN</td>\n      <td>4</td>\n    </tr>\n    <tr>\n      <th>...</th>\n      <td>...</td>\n      <td>...</td>\n      <td>...</td>\n      <td>...</td>\n      <td>...</td>\n      <td>...</td>\n      <td>...</td>\n      <td>...</td>\n      <td>...</td>\n      <td>...</td>\n      <td>...</td>\n      <td>...</td>\n      <td>...</td>\n      <td>...</td>\n      <td>...</td>\n      <td>...</td>\n      <td>...</td>\n    </tr>\n    <tr>\n      <th>9895</th>\n      <td>1170082</td>\n      <td>wikileaks.org</td>\n      <td>unreliable</td>\n      <td>https://www.wikileaks.org/plusd/cables/1974ATO...</td>\n      <td>Raw content\\n\\nPAGE 01 NATO 05116 01 OF 02 201...</td>\n      <td>2018-01-25 20:13:50.426130</td>\n      <td>2018-02-02 01:19:41.756632</td>\n      <td>2018-02-02 01:19:41.756664</td>\n      <td>Cable: 1974ATO05116</td>\n      <td>NaN</td>\n      <td>NaN</td>\n      <td>['']</td>\n      <td>NaN</td>\n      <td>View Tags</td>\n      <td>NaN</td>\n      <td>NaN</td>\n      <td>11</td>\n    </tr>\n    <tr>\n      <th>9906</th>\n      <td>1170093</td>\n      <td>wikileaks.org</td>\n      <td>unreliable</td>\n      <td>https://www.wikileaks.org/plusd/cables/1976ABU...</td>\n      <td>Raw content\\n\\nCONFIDENTIAL PAGE 01 ABU DH 000...</td>\n      <td>2018-01-25 20:13:50.426130</td>\n      <td>2018-02-02 01:19:41.756632</td>\n      <td>2018-02-02 01:19:41.756664</td>\n      <td>Cable: 1976ABUDH00021</td>\n      <td>NaN</td>\n      <td>NaN</td>\n      <td>['']</td>\n      <td>NaN</td>\n      <td>View Tags</td>\n      <td>NaN</td>\n      <td>NaN</td>\n      <td>11</td>\n    </tr>\n    <tr>\n      <th>9913</th>\n      <td>1170100</td>\n      <td>wikileaks.org</td>\n      <td>unreliable</td>\n      <td>https://www.wikileaks.org/plusd/cables/1976ANK...</td>\n      <td>Raw content\\n\\nCONFIDENTIAL PAGE 01 ANKARA 019...</td>\n      <td>2018-01-25 20:13:50.426130</td>\n      <td>2018-02-02 01:19:41.756632</td>\n      <td>2018-02-02 01:19:41.756664</td>\n      <td>Cable: 1976ANKARA01989</td>\n      <td>NaN</td>\n      <td>NaN</td>\n      <td>['']</td>\n      <td>NaN</td>\n      <td>View Tags</td>\n      <td>NaN</td>\n      <td>NaN</td>\n      <td>11</td>\n    </tr>\n    <tr>\n      <th>9923</th>\n      <td>1170110</td>\n      <td>wikileaks.org</td>\n      <td>unreliable</td>\n      <td>https://www.wikileaks.org/plusd/cables/1976ROM...</td>\n      <td>Raw content\\n\\nLIMITED OFFICIAL USE PAGE 01 RO...</td>\n      <td>2018-01-25 20:13:50.426130</td>\n      <td>2018-02-02 01:19:41.756632</td>\n      <td>2018-02-02 01:19:41.756664</td>\n      <td>Cable: 1976ROME16372</td>\n      <td>NaN</td>\n      <td>NaN</td>\n      <td>['']</td>\n      <td>NaN</td>\n      <td>View Tags</td>\n      <td>NaN</td>\n      <td>NaN</td>\n      <td>11</td>\n    </tr>\n    <tr>\n      <th>9927</th>\n      <td>1170114</td>\n      <td>express.co.uk</td>\n      <td>rumor</td>\n      <td>https://www.express.co.uk/celebrity-news/56649...</td>\n      <td>FLYNET Eddie looked unrecognisable as Einar We...</td>\n      <td>2018-01-25 20:13:50.426130</td>\n      <td>2018-02-02 01:19:41.756632</td>\n      <td>2018-02-02 01:19:41.756664</td>\n      <td>Eddie Redmayne looks ultra feminine as transge...</td>\n      <td>Annie Price</td>\n      <td>NaN</td>\n      <td>['']</td>\n      <td>FOR his last role Eddie Redmayne transformed h...</td>\n      <td>NaN</td>\n      <td>NaN</td>\n      <td>NaN</td>\n      <td>8</td>\n    </tr>\n  </tbody>\n</table>\n<p>660915 rows × 17 columns</p>\n</div>"
     },
     "metadata": {},
     "execution_count": 43
    }
   ],
   "source": [
    "### Import data and setup dataframe ###\n",
    "\n",
    "# usage: specify file location\n",
    "filepath = '../Data_git_ignore/1mio-raw.csv'\n",
    "# filepath = '../Data_git_ignore/clean-100k.csv'\n",
    "\n",
    "# Create df for the entire file\n",
    "entire_df = pd.read_csv(filepath, index_col = [0])\n",
    "\n",
    "# ### Select columns to use ###\n",
    "# entire_df = entire_df[['id', 'domian', 'type_id', 'content', 'title', 'meta_description', 'scraped_at', 'updated_at', 'inserted_at']]\n",
    "\n",
    "### Below are overall integrity cleaning ###\n",
    "\n",
    "# content has to be unique\n",
    "entire_df = entire_df.drop_duplicates(['content'])\n",
    "\n",
    "# id has to be unique\n",
    "entire_df = entire_df.drop_duplicates(['id'])\n",
    "\n",
    "# Create type_id column\n",
    "entire_df['type_id'] = entire_df.groupby(['type']).ngroup()\n",
    "\n",
    "# Show info about enire dataset\n",
    "entire_df"
   ]
  },
  {
   "cell_type": "code",
   "execution_count": 154,
   "metadata": {},
   "outputs": [
    {
     "output_type": "execute_result",
     "data": {
      "text/plain": "<matplotlib.axes._subplots.AxesSubplot at 0x16e8d157488>"
     },
     "metadata": {},
     "execution_count": 154
    },
    {
     "output_type": "display_data",
     "data": {
      "text/plain": "<Figure size 432x288 with 1 Axes>",
      "image/svg+xml": "<?xml version=\"1.0\" encoding=\"utf-8\" standalone=\"no\"?>\r\n<!DOCTYPE svg PUBLIC \"-//W3C//DTD SVG 1.1//EN\"\r\n  \"http://www.w3.org/Graphics/SVG/1.1/DTD/svg11.dtd\">\r\n<!-- Created with matplotlib (https://matplotlib.org/) -->\r\n<svg height=\"248.518125pt\" version=\"1.1\" viewBox=\"0 0 423.825 248.518125\" width=\"423.825pt\" xmlns=\"http://www.w3.org/2000/svg\" xmlns:xlink=\"http://www.w3.org/1999/xlink\">\r\n <defs>\r\n  <style type=\"text/css\">\r\n*{stroke-linecap:butt;stroke-linejoin:round;}\r\n  </style>\r\n </defs>\r\n <g id=\"figure_1\">\r\n  <g id=\"patch_1\">\r\n   <path d=\"M 0 248.518125 \r\nL 423.825 248.518125 \r\nL 423.825 0 \r\nL 0 0 \r\nz\r\n\" style=\"fill:none;\"/>\r\n  </g>\r\n  <g id=\"axes_1\">\r\n   <g id=\"patch_2\">\r\n    <path d=\"M 81.825 224.64 \r\nL 416.625 224.64 \r\nL 416.625 7.2 \r\nL 81.825 7.2 \r\nz\r\n\" style=\"fill:#ffffff;\"/>\r\n   </g>\r\n   <g id=\"patch_3\">\r\n    <path clip-path=\"url(#p5b80375d6d)\" d=\"M 81.825 9.012 \r\nL 226.083975 9.012 \r\nL 226.083975 23.508 \r\nL 81.825 23.508 \r\nz\r\n\" style=\"fill:#ea96a3;\"/>\r\n   </g>\r\n   <g id=\"patch_4\">\r\n    <path clip-path=\"url(#p5b80375d6d)\" d=\"M 81.825 27.132 \r\nL 111.749393 27.132 \r\nL 111.749393 41.628 \r\nL 81.825 41.628 \r\nz\r\n\" style=\"fill:#e19153;\"/>\r\n   </g>\r\n   <g id=\"patch_5\">\r\n    <path clip-path=\"url(#p5b80375d6d)\" d=\"M 81.825 45.252 \r\nL 176.86211 45.252 \r\nL 176.86211 59.748 \r\nL 81.825 59.748 \r\nz\r\n\" style=\"fill:#b89c49;\"/>\r\n   </g>\r\n   <g id=\"patch_6\">\r\n    <path clip-path=\"url(#p5b80375d6d)\" d=\"M 81.825 63.372 \r\nL 253.02893 63.372 \r\nL 253.02893 77.868 \r\nL 81.825 77.868 \r\nz\r\n\" style=\"fill:#98a246;\"/>\r\n   </g>\r\n   <g id=\"patch_7\">\r\n    <path clip-path=\"url(#p5b80375d6d)\" d=\"M 81.825 81.492 \r\nL 86.641629 81.492 \r\nL 86.641629 95.988 \r\nL 81.825 95.988 \r\nz\r\n\" style=\"fill:#60ae47;\"/>\r\n   </g>\r\n   <g id=\"patch_8\">\r\n    <path clip-path=\"url(#p5b80375d6d)\" d=\"M 81.825 99.612 \r\nL 99.574712 99.612 \r\nL 99.574712 114.108 \r\nL 81.825 114.108 \r\nz\r\n\" style=\"fill:#4aae8a;\"/>\r\n   </g>\r\n   <g id=\"patch_9\">\r\n    <path clip-path=\"url(#p5b80375d6d)\" d=\"M 81.825 117.732 \r\nL 400.682143 117.732 \r\nL 400.682143 132.228 \r\nL 81.825 132.228 \r\nz\r\n\" style=\"fill:#4baba4;\"/>\r\n   </g>\r\n   <g id=\"patch_10\">\r\n    <path clip-path=\"url(#p5b80375d6d)\" d=\"M 81.825 135.852 \r\nL 89.907403 135.852 \r\nL 89.907403 150.348 \r\nL 81.825 150.348 \r\nz\r\n\" style=\"fill:#4fabbc;\"/>\r\n   </g>\r\n   <g id=\"patch_11\">\r\n    <path clip-path=\"url(#p5b80375d6d)\" d=\"M 81.825 153.972 \r\nL 150.075027 153.972 \r\nL 150.075027 168.468 \r\nL 81.825 168.468 \r\nz\r\n\" style=\"fill:#6daee2;\"/>\r\n   </g>\r\n   <g id=\"patch_12\">\r\n    <path clip-path=\"url(#p5b80375d6d)\" d=\"M 81.825 172.092 \r\nL 93.453321 172.092 \r\nL 93.453321 186.588 \r\nL 81.825 186.588 \r\nz\r\n\" style=\"fill:#b6a8eb;\"/>\r\n   </g>\r\n   <g id=\"patch_13\">\r\n    <path clip-path=\"url(#p5b80375d6d)\" d=\"M 81.825 190.212 \r\nL 133.962845 190.212 \r\nL 133.962845 204.708 \r\nL 81.825 204.708 \r\nz\r\n\" style=\"fill:#df8fe7;\"/>\r\n   </g>\r\n   <g id=\"patch_14\">\r\n    <path clip-path=\"url(#p5b80375d6d)\" d=\"M 81.825 208.332 \r\nL 132.184469 208.332 \r\nL 132.184469 222.828 \r\nL 81.825 222.828 \r\nz\r\n\" style=\"fill:#e890c6;\"/>\r\n   </g>\r\n   <g id=\"matplotlib.axis_1\">\r\n    <g id=\"xtick_1\">\r\n     <g id=\"line2d_1\">\r\n      <defs>\r\n       <path d=\"M 0 0 \r\nL 0 3.5 \r\n\" id=\"ma5d7e768fa\" style=\"stroke:#000000;stroke-width:0.8;\"/>\r\n      </defs>\r\n      <g>\r\n       <use style=\"stroke:#000000;stroke-width:0.8;\" x=\"81.825\" xlink:href=\"#ma5d7e768fa\" y=\"224.64\"/>\r\n      </g>\r\n     </g>\r\n     <g id=\"text_1\">\r\n      <!-- 0 -->\r\n      <defs>\r\n       <path d=\"M 31.78125 66.40625 \r\nQ 24.171875 66.40625 20.328125 58.90625 \r\nQ 16.5 51.421875 16.5 36.375 \r\nQ 16.5 21.390625 20.328125 13.890625 \r\nQ 24.171875 6.390625 31.78125 6.390625 \r\nQ 39.453125 6.390625 43.28125 13.890625 \r\nQ 47.125 21.390625 47.125 36.375 \r\nQ 47.125 51.421875 43.28125 58.90625 \r\nQ 39.453125 66.40625 31.78125 66.40625 \r\nz\r\nM 31.78125 74.21875 \r\nQ 44.046875 74.21875 50.515625 64.515625 \r\nQ 56.984375 54.828125 56.984375 36.375 \r\nQ 56.984375 17.96875 50.515625 8.265625 \r\nQ 44.046875 -1.421875 31.78125 -1.421875 \r\nQ 19.53125 -1.421875 13.0625 8.265625 \r\nQ 6.59375 17.96875 6.59375 36.375 \r\nQ 6.59375 54.828125 13.0625 64.515625 \r\nQ 19.53125 74.21875 31.78125 74.21875 \r\nz\r\n\" id=\"DejaVuSans-48\"/>\r\n      </defs>\r\n      <g transform=\"translate(78.64375 239.238437)scale(0.1 -0.1)\">\r\n       <use xlink:href=\"#DejaVuSans-48\"/>\r\n      </g>\r\n     </g>\r\n    </g>\r\n    <g id=\"xtick_2\">\r\n     <g id=\"line2d_2\">\r\n      <g>\r\n       <use style=\"stroke:#000000;stroke-width:0.8;\" x=\"120.519001\" xlink:href=\"#ma5d7e768fa\" y=\"224.64\"/>\r\n      </g>\r\n     </g>\r\n     <g id=\"text_2\">\r\n      <!-- 25000 -->\r\n      <defs>\r\n       <path d=\"M 19.1875 8.296875 \r\nL 53.609375 8.296875 \r\nL 53.609375 0 \r\nL 7.328125 0 \r\nL 7.328125 8.296875 \r\nQ 12.9375 14.109375 22.625 23.890625 \r\nQ 32.328125 33.6875 34.8125 36.53125 \r\nQ 39.546875 41.84375 41.421875 45.53125 \r\nQ 43.3125 49.21875 43.3125 52.78125 \r\nQ 43.3125 58.59375 39.234375 62.25 \r\nQ 35.15625 65.921875 28.609375 65.921875 \r\nQ 23.96875 65.921875 18.8125 64.3125 \r\nQ 13.671875 62.703125 7.8125 59.421875 \r\nL 7.8125 69.390625 \r\nQ 13.765625 71.78125 18.9375 73 \r\nQ 24.125 74.21875 28.421875 74.21875 \r\nQ 39.75 74.21875 46.484375 68.546875 \r\nQ 53.21875 62.890625 53.21875 53.421875 \r\nQ 53.21875 48.921875 51.53125 44.890625 \r\nQ 49.859375 40.875 45.40625 35.40625 \r\nQ 44.1875 33.984375 37.640625 27.21875 \r\nQ 31.109375 20.453125 19.1875 8.296875 \r\nz\r\n\" id=\"DejaVuSans-50\"/>\r\n       <path d=\"M 10.796875 72.90625 \r\nL 49.515625 72.90625 \r\nL 49.515625 64.59375 \r\nL 19.828125 64.59375 \r\nL 19.828125 46.734375 \r\nQ 21.96875 47.46875 24.109375 47.828125 \r\nQ 26.265625 48.1875 28.421875 48.1875 \r\nQ 40.625 48.1875 47.75 41.5 \r\nQ 54.890625 34.8125 54.890625 23.390625 \r\nQ 54.890625 11.625 47.5625 5.09375 \r\nQ 40.234375 -1.421875 26.90625 -1.421875 \r\nQ 22.3125 -1.421875 17.546875 -0.640625 \r\nQ 12.796875 0.140625 7.71875 1.703125 \r\nL 7.71875 11.625 \r\nQ 12.109375 9.234375 16.796875 8.0625 \r\nQ 21.484375 6.890625 26.703125 6.890625 \r\nQ 35.15625 6.890625 40.078125 11.328125 \r\nQ 45.015625 15.765625 45.015625 23.390625 \r\nQ 45.015625 31 40.078125 35.4375 \r\nQ 35.15625 39.890625 26.703125 39.890625 \r\nQ 22.75 39.890625 18.8125 39.015625 \r\nQ 14.890625 38.140625 10.796875 36.28125 \r\nz\r\n\" id=\"DejaVuSans-53\"/>\r\n      </defs>\r\n      <g transform=\"translate(104.612751 239.238437)scale(0.1 -0.1)\">\r\n       <use xlink:href=\"#DejaVuSans-50\"/>\r\n       <use x=\"63.623047\" xlink:href=\"#DejaVuSans-53\"/>\r\n       <use x=\"127.246094\" xlink:href=\"#DejaVuSans-48\"/>\r\n       <use x=\"190.869141\" xlink:href=\"#DejaVuSans-48\"/>\r\n       <use x=\"254.492188\" xlink:href=\"#DejaVuSans-48\"/>\r\n      </g>\r\n     </g>\r\n    </g>\r\n    <g id=\"xtick_3\">\r\n     <g id=\"line2d_3\">\r\n      <g>\r\n       <use style=\"stroke:#000000;stroke-width:0.8;\" x=\"159.213002\" xlink:href=\"#ma5d7e768fa\" y=\"224.64\"/>\r\n      </g>\r\n     </g>\r\n     <g id=\"text_3\">\r\n      <!-- 50000 -->\r\n      <g transform=\"translate(143.306752 239.238437)scale(0.1 -0.1)\">\r\n       <use xlink:href=\"#DejaVuSans-53\"/>\r\n       <use x=\"63.623047\" xlink:href=\"#DejaVuSans-48\"/>\r\n       <use x=\"127.246094\" xlink:href=\"#DejaVuSans-48\"/>\r\n       <use x=\"190.869141\" xlink:href=\"#DejaVuSans-48\"/>\r\n       <use x=\"254.492188\" xlink:href=\"#DejaVuSans-48\"/>\r\n      </g>\r\n     </g>\r\n    </g>\r\n    <g id=\"xtick_4\">\r\n     <g id=\"line2d_4\">\r\n      <g>\r\n       <use style=\"stroke:#000000;stroke-width:0.8;\" x=\"197.907004\" xlink:href=\"#ma5d7e768fa\" y=\"224.64\"/>\r\n      </g>\r\n     </g>\r\n     <g id=\"text_4\">\r\n      <!-- 75000 -->\r\n      <defs>\r\n       <path d=\"M 8.203125 72.90625 \r\nL 55.078125 72.90625 \r\nL 55.078125 68.703125 \r\nL 28.609375 0 \r\nL 18.3125 0 \r\nL 43.21875 64.59375 \r\nL 8.203125 64.59375 \r\nz\r\n\" id=\"DejaVuSans-55\"/>\r\n      </defs>\r\n      <g transform=\"translate(182.000754 239.238437)scale(0.1 -0.1)\">\r\n       <use xlink:href=\"#DejaVuSans-55\"/>\r\n       <use x=\"63.623047\" xlink:href=\"#DejaVuSans-53\"/>\r\n       <use x=\"127.246094\" xlink:href=\"#DejaVuSans-48\"/>\r\n       <use x=\"190.869141\" xlink:href=\"#DejaVuSans-48\"/>\r\n       <use x=\"254.492188\" xlink:href=\"#DejaVuSans-48\"/>\r\n      </g>\r\n     </g>\r\n    </g>\r\n    <g id=\"xtick_5\">\r\n     <g id=\"line2d_5\">\r\n      <g>\r\n       <use style=\"stroke:#000000;stroke-width:0.8;\" x=\"236.601005\" xlink:href=\"#ma5d7e768fa\" y=\"224.64\"/>\r\n      </g>\r\n     </g>\r\n     <g id=\"text_5\">\r\n      <!-- 100000 -->\r\n      <defs>\r\n       <path d=\"M 12.40625 8.296875 \r\nL 28.515625 8.296875 \r\nL 28.515625 63.921875 \r\nL 10.984375 60.40625 \r\nL 10.984375 69.390625 \r\nL 28.421875 72.90625 \r\nL 38.28125 72.90625 \r\nL 38.28125 8.296875 \r\nL 54.390625 8.296875 \r\nL 54.390625 0 \r\nL 12.40625 0 \r\nz\r\n\" id=\"DejaVuSans-49\"/>\r\n      </defs>\r\n      <g transform=\"translate(217.513505 239.238437)scale(0.1 -0.1)\">\r\n       <use xlink:href=\"#DejaVuSans-49\"/>\r\n       <use x=\"63.623047\" xlink:href=\"#DejaVuSans-48\"/>\r\n       <use x=\"127.246094\" xlink:href=\"#DejaVuSans-48\"/>\r\n       <use x=\"190.869141\" xlink:href=\"#DejaVuSans-48\"/>\r\n       <use x=\"254.492188\" xlink:href=\"#DejaVuSans-48\"/>\r\n       <use x=\"318.115234\" xlink:href=\"#DejaVuSans-48\"/>\r\n      </g>\r\n     </g>\r\n    </g>\r\n    <g id=\"xtick_6\">\r\n     <g id=\"line2d_6\">\r\n      <g>\r\n       <use style=\"stroke:#000000;stroke-width:0.8;\" x=\"275.295006\" xlink:href=\"#ma5d7e768fa\" y=\"224.64\"/>\r\n      </g>\r\n     </g>\r\n     <g id=\"text_6\">\r\n      <!-- 125000 -->\r\n      <g transform=\"translate(256.207506 239.238437)scale(0.1 -0.1)\">\r\n       <use xlink:href=\"#DejaVuSans-49\"/>\r\n       <use x=\"63.623047\" xlink:href=\"#DejaVuSans-50\"/>\r\n       <use x=\"127.246094\" xlink:href=\"#DejaVuSans-53\"/>\r\n       <use x=\"190.869141\" xlink:href=\"#DejaVuSans-48\"/>\r\n       <use x=\"254.492188\" xlink:href=\"#DejaVuSans-48\"/>\r\n       <use x=\"318.115234\" xlink:href=\"#DejaVuSans-48\"/>\r\n      </g>\r\n     </g>\r\n    </g>\r\n    <g id=\"xtick_7\">\r\n     <g id=\"line2d_7\">\r\n      <g>\r\n       <use style=\"stroke:#000000;stroke-width:0.8;\" x=\"313.989007\" xlink:href=\"#ma5d7e768fa\" y=\"224.64\"/>\r\n      </g>\r\n     </g>\r\n     <g id=\"text_7\">\r\n      <!-- 150000 -->\r\n      <g transform=\"translate(294.901507 239.238437)scale(0.1 -0.1)\">\r\n       <use xlink:href=\"#DejaVuSans-49\"/>\r\n       <use x=\"63.623047\" xlink:href=\"#DejaVuSans-53\"/>\r\n       <use x=\"127.246094\" xlink:href=\"#DejaVuSans-48\"/>\r\n       <use x=\"190.869141\" xlink:href=\"#DejaVuSans-48\"/>\r\n       <use x=\"254.492188\" xlink:href=\"#DejaVuSans-48\"/>\r\n       <use x=\"318.115234\" xlink:href=\"#DejaVuSans-48\"/>\r\n      </g>\r\n     </g>\r\n    </g>\r\n    <g id=\"xtick_8\">\r\n     <g id=\"line2d_8\">\r\n      <g>\r\n       <use style=\"stroke:#000000;stroke-width:0.8;\" x=\"352.683008\" xlink:href=\"#ma5d7e768fa\" y=\"224.64\"/>\r\n      </g>\r\n     </g>\r\n     <g id=\"text_8\">\r\n      <!-- 175000 -->\r\n      <g transform=\"translate(333.595508 239.238437)scale(0.1 -0.1)\">\r\n       <use xlink:href=\"#DejaVuSans-49\"/>\r\n       <use x=\"63.623047\" xlink:href=\"#DejaVuSans-55\"/>\r\n       <use x=\"127.246094\" xlink:href=\"#DejaVuSans-53\"/>\r\n       <use x=\"190.869141\" xlink:href=\"#DejaVuSans-48\"/>\r\n       <use x=\"254.492188\" xlink:href=\"#DejaVuSans-48\"/>\r\n       <use x=\"318.115234\" xlink:href=\"#DejaVuSans-48\"/>\r\n      </g>\r\n     </g>\r\n    </g>\r\n    <g id=\"xtick_9\">\r\n     <g id=\"line2d_9\">\r\n      <g>\r\n       <use style=\"stroke:#000000;stroke-width:0.8;\" x=\"391.377009\" xlink:href=\"#ma5d7e768fa\" y=\"224.64\"/>\r\n      </g>\r\n     </g>\r\n     <g id=\"text_9\">\r\n      <!-- 200000 -->\r\n      <g transform=\"translate(372.289509 239.238437)scale(0.1 -0.1)\">\r\n       <use xlink:href=\"#DejaVuSans-50\"/>\r\n       <use x=\"63.623047\" xlink:href=\"#DejaVuSans-48\"/>\r\n       <use x=\"127.246094\" xlink:href=\"#DejaVuSans-48\"/>\r\n       <use x=\"190.869141\" xlink:href=\"#DejaVuSans-48\"/>\r\n       <use x=\"254.492188\" xlink:href=\"#DejaVuSans-48\"/>\r\n       <use x=\"318.115234\" xlink:href=\"#DejaVuSans-48\"/>\r\n      </g>\r\n     </g>\r\n    </g>\r\n   </g>\r\n   <g id=\"matplotlib.axis_2\">\r\n    <g id=\"ytick_1\">\r\n     <g id=\"line2d_10\">\r\n      <defs>\r\n       <path d=\"M 0 0 \r\nL -3.5 0 \r\n\" id=\"m9c2b2be5a4\" style=\"stroke:#000000;stroke-width:0.8;\"/>\r\n      </defs>\r\n      <g>\r\n       <use style=\"stroke:#000000;stroke-width:0.8;\" x=\"81.825\" xlink:href=\"#m9c2b2be5a4\" y=\"16.26\"/>\r\n      </g>\r\n     </g>\r\n     <g id=\"text_10\">\r\n      <!-- bias -->\r\n      <defs>\r\n       <path d=\"M 48.6875 27.296875 \r\nQ 48.6875 37.203125 44.609375 42.84375 \r\nQ 40.53125 48.484375 33.40625 48.484375 \r\nQ 26.265625 48.484375 22.1875 42.84375 \r\nQ 18.109375 37.203125 18.109375 27.296875 \r\nQ 18.109375 17.390625 22.1875 11.75 \r\nQ 26.265625 6.109375 33.40625 6.109375 \r\nQ 40.53125 6.109375 44.609375 11.75 \r\nQ 48.6875 17.390625 48.6875 27.296875 \r\nz\r\nM 18.109375 46.390625 \r\nQ 20.953125 51.265625 25.265625 53.625 \r\nQ 29.59375 56 35.59375 56 \r\nQ 45.5625 56 51.78125 48.09375 \r\nQ 58.015625 40.1875 58.015625 27.296875 \r\nQ 58.015625 14.40625 51.78125 6.484375 \r\nQ 45.5625 -1.421875 35.59375 -1.421875 \r\nQ 29.59375 -1.421875 25.265625 0.953125 \r\nQ 20.953125 3.328125 18.109375 8.203125 \r\nL 18.109375 0 \r\nL 9.078125 0 \r\nL 9.078125 75.984375 \r\nL 18.109375 75.984375 \r\nz\r\n\" id=\"DejaVuSans-98\"/>\r\n       <path d=\"M 9.421875 54.6875 \r\nL 18.40625 54.6875 \r\nL 18.40625 0 \r\nL 9.421875 0 \r\nz\r\nM 9.421875 75.984375 \r\nL 18.40625 75.984375 \r\nL 18.40625 64.59375 \r\nL 9.421875 64.59375 \r\nz\r\n\" id=\"DejaVuSans-105\"/>\r\n       <path d=\"M 34.28125 27.484375 \r\nQ 23.390625 27.484375 19.1875 25 \r\nQ 14.984375 22.515625 14.984375 16.5 \r\nQ 14.984375 11.71875 18.140625 8.90625 \r\nQ 21.296875 6.109375 26.703125 6.109375 \r\nQ 34.1875 6.109375 38.703125 11.40625 \r\nQ 43.21875 16.703125 43.21875 25.484375 \r\nL 43.21875 27.484375 \r\nz\r\nM 52.203125 31.203125 \r\nL 52.203125 0 \r\nL 43.21875 0 \r\nL 43.21875 8.296875 \r\nQ 40.140625 3.328125 35.546875 0.953125 \r\nQ 30.953125 -1.421875 24.3125 -1.421875 \r\nQ 15.921875 -1.421875 10.953125 3.296875 \r\nQ 6 8.015625 6 15.921875 \r\nQ 6 25.140625 12.171875 29.828125 \r\nQ 18.359375 34.515625 30.609375 34.515625 \r\nL 43.21875 34.515625 \r\nL 43.21875 35.40625 \r\nQ 43.21875 41.609375 39.140625 45 \r\nQ 35.0625 48.390625 27.6875 48.390625 \r\nQ 23 48.390625 18.546875 47.265625 \r\nQ 14.109375 46.140625 10.015625 43.890625 \r\nL 10.015625 52.203125 \r\nQ 14.9375 54.109375 19.578125 55.046875 \r\nQ 24.21875 56 28.609375 56 \r\nQ 40.484375 56 46.34375 49.84375 \r\nQ 52.203125 43.703125 52.203125 31.203125 \r\nz\r\n\" id=\"DejaVuSans-97\"/>\r\n       <path d=\"M 44.28125 53.078125 \r\nL 44.28125 44.578125 \r\nQ 40.484375 46.53125 36.375 47.5 \r\nQ 32.28125 48.484375 27.875 48.484375 \r\nQ 21.1875 48.484375 17.84375 46.4375 \r\nQ 14.5 44.390625 14.5 40.28125 \r\nQ 14.5 37.15625 16.890625 35.375 \r\nQ 19.28125 33.59375 26.515625 31.984375 \r\nL 29.59375 31.296875 \r\nQ 39.15625 29.25 43.1875 25.515625 \r\nQ 47.21875 21.78125 47.21875 15.09375 \r\nQ 47.21875 7.46875 41.1875 3.015625 \r\nQ 35.15625 -1.421875 24.609375 -1.421875 \r\nQ 20.21875 -1.421875 15.453125 -0.5625 \r\nQ 10.6875 0.296875 5.421875 2 \r\nL 5.421875 11.28125 \r\nQ 10.40625 8.6875 15.234375 7.390625 \r\nQ 20.0625 6.109375 24.8125 6.109375 \r\nQ 31.15625 6.109375 34.5625 8.28125 \r\nQ 37.984375 10.453125 37.984375 14.40625 \r\nQ 37.984375 18.0625 35.515625 20.015625 \r\nQ 33.0625 21.96875 24.703125 23.78125 \r\nL 21.578125 24.515625 \r\nQ 13.234375 26.265625 9.515625 29.90625 \r\nQ 5.8125 33.546875 5.8125 39.890625 \r\nQ 5.8125 47.609375 11.28125 51.796875 \r\nQ 16.75 56 26.8125 56 \r\nQ 31.78125 56 36.171875 55.265625 \r\nQ 40.578125 54.546875 44.28125 53.078125 \r\nz\r\n\" id=\"DejaVuSans-115\"/>\r\n      </defs>\r\n      <g transform=\"translate(54.360938 20.059219)scale(0.1 -0.1)\">\r\n       <use xlink:href=\"#DejaVuSans-98\"/>\r\n       <use x=\"63.476562\" xlink:href=\"#DejaVuSans-105\"/>\r\n       <use x=\"91.259766\" xlink:href=\"#DejaVuSans-97\"/>\r\n       <use x=\"152.539062\" xlink:href=\"#DejaVuSans-115\"/>\r\n      </g>\r\n     </g>\r\n    </g>\r\n    <g id=\"ytick_2\">\r\n     <g id=\"line2d_11\">\r\n      <g>\r\n       <use style=\"stroke:#000000;stroke-width:0.8;\" x=\"81.825\" xlink:href=\"#m9c2b2be5a4\" y=\"34.38\"/>\r\n      </g>\r\n     </g>\r\n     <g id=\"text_11\">\r\n      <!-- clickbait -->\r\n      <defs>\r\n       <path d=\"M 48.78125 52.59375 \r\nL 48.78125 44.1875 \r\nQ 44.96875 46.296875 41.140625 47.34375 \r\nQ 37.3125 48.390625 33.40625 48.390625 \r\nQ 24.65625 48.390625 19.8125 42.84375 \r\nQ 14.984375 37.3125 14.984375 27.296875 \r\nQ 14.984375 17.28125 19.8125 11.734375 \r\nQ 24.65625 6.203125 33.40625 6.203125 \r\nQ 37.3125 6.203125 41.140625 7.25 \r\nQ 44.96875 8.296875 48.78125 10.40625 \r\nL 48.78125 2.09375 \r\nQ 45.015625 0.34375 40.984375 -0.53125 \r\nQ 36.96875 -1.421875 32.421875 -1.421875 \r\nQ 20.0625 -1.421875 12.78125 6.34375 \r\nQ 5.515625 14.109375 5.515625 27.296875 \r\nQ 5.515625 40.671875 12.859375 48.328125 \r\nQ 20.21875 56 33.015625 56 \r\nQ 37.15625 56 41.109375 55.140625 \r\nQ 45.0625 54.296875 48.78125 52.59375 \r\nz\r\n\" id=\"DejaVuSans-99\"/>\r\n       <path d=\"M 9.421875 75.984375 \r\nL 18.40625 75.984375 \r\nL 18.40625 0 \r\nL 9.421875 0 \r\nz\r\n\" id=\"DejaVuSans-108\"/>\r\n       <path d=\"M 9.078125 75.984375 \r\nL 18.109375 75.984375 \r\nL 18.109375 31.109375 \r\nL 44.921875 54.6875 \r\nL 56.390625 54.6875 \r\nL 27.390625 29.109375 \r\nL 57.625 0 \r\nL 45.90625 0 \r\nL 18.109375 26.703125 \r\nL 18.109375 0 \r\nL 9.078125 0 \r\nz\r\n\" id=\"DejaVuSans-107\"/>\r\n       <path d=\"M 18.3125 70.21875 \r\nL 18.3125 54.6875 \r\nL 36.8125 54.6875 \r\nL 36.8125 47.703125 \r\nL 18.3125 47.703125 \r\nL 18.3125 18.015625 \r\nQ 18.3125 11.328125 20.140625 9.421875 \r\nQ 21.96875 7.515625 27.59375 7.515625 \r\nL 36.8125 7.515625 \r\nL 36.8125 0 \r\nL 27.59375 0 \r\nQ 17.1875 0 13.234375 3.875 \r\nQ 9.28125 7.765625 9.28125 18.015625 \r\nL 9.28125 47.703125 \r\nL 2.6875 47.703125 \r\nL 2.6875 54.6875 \r\nL 9.28125 54.6875 \r\nL 9.28125 70.21875 \r\nz\r\n\" id=\"DejaVuSans-116\"/>\r\n      </defs>\r\n      <g transform=\"translate(33.30625 38.179219)scale(0.1 -0.1)\">\r\n       <use xlink:href=\"#DejaVuSans-99\"/>\r\n       <use x=\"54.980469\" xlink:href=\"#DejaVuSans-108\"/>\r\n       <use x=\"82.763672\" xlink:href=\"#DejaVuSans-105\"/>\r\n       <use x=\"110.546875\" xlink:href=\"#DejaVuSans-99\"/>\r\n       <use x=\"165.527344\" xlink:href=\"#DejaVuSans-107\"/>\r\n       <use x=\"223.4375\" xlink:href=\"#DejaVuSans-98\"/>\r\n       <use x=\"286.914062\" xlink:href=\"#DejaVuSans-97\"/>\r\n       <use x=\"348.193359\" xlink:href=\"#DejaVuSans-105\"/>\r\n       <use x=\"375.976562\" xlink:href=\"#DejaVuSans-116\"/>\r\n      </g>\r\n     </g>\r\n    </g>\r\n    <g id=\"ytick_3\">\r\n     <g id=\"line2d_12\">\r\n      <g>\r\n       <use style=\"stroke:#000000;stroke-width:0.8;\" x=\"81.825\" xlink:href=\"#m9c2b2be5a4\" y=\"52.5\"/>\r\n      </g>\r\n     </g>\r\n     <g id=\"text_12\">\r\n      <!-- conspiracy -->\r\n      <defs>\r\n       <path d=\"M 30.609375 48.390625 \r\nQ 23.390625 48.390625 19.1875 42.75 \r\nQ 14.984375 37.109375 14.984375 27.296875 \r\nQ 14.984375 17.484375 19.15625 11.84375 \r\nQ 23.34375 6.203125 30.609375 6.203125 \r\nQ 37.796875 6.203125 41.984375 11.859375 \r\nQ 46.1875 17.53125 46.1875 27.296875 \r\nQ 46.1875 37.015625 41.984375 42.703125 \r\nQ 37.796875 48.390625 30.609375 48.390625 \r\nz\r\nM 30.609375 56 \r\nQ 42.328125 56 49.015625 48.375 \r\nQ 55.71875 40.765625 55.71875 27.296875 \r\nQ 55.71875 13.875 49.015625 6.21875 \r\nQ 42.328125 -1.421875 30.609375 -1.421875 \r\nQ 18.84375 -1.421875 12.171875 6.21875 \r\nQ 5.515625 13.875 5.515625 27.296875 \r\nQ 5.515625 40.765625 12.171875 48.375 \r\nQ 18.84375 56 30.609375 56 \r\nz\r\n\" id=\"DejaVuSans-111\"/>\r\n       <path d=\"M 54.890625 33.015625 \r\nL 54.890625 0 \r\nL 45.90625 0 \r\nL 45.90625 32.71875 \r\nQ 45.90625 40.484375 42.875 44.328125 \r\nQ 39.84375 48.1875 33.796875 48.1875 \r\nQ 26.515625 48.1875 22.3125 43.546875 \r\nQ 18.109375 38.921875 18.109375 30.90625 \r\nL 18.109375 0 \r\nL 9.078125 0 \r\nL 9.078125 54.6875 \r\nL 18.109375 54.6875 \r\nL 18.109375 46.1875 \r\nQ 21.34375 51.125 25.703125 53.5625 \r\nQ 30.078125 56 35.796875 56 \r\nQ 45.21875 56 50.046875 50.171875 \r\nQ 54.890625 44.34375 54.890625 33.015625 \r\nz\r\n\" id=\"DejaVuSans-110\"/>\r\n       <path d=\"M 18.109375 8.203125 \r\nL 18.109375 -20.796875 \r\nL 9.078125 -20.796875 \r\nL 9.078125 54.6875 \r\nL 18.109375 54.6875 \r\nL 18.109375 46.390625 \r\nQ 20.953125 51.265625 25.265625 53.625 \r\nQ 29.59375 56 35.59375 56 \r\nQ 45.5625 56 51.78125 48.09375 \r\nQ 58.015625 40.1875 58.015625 27.296875 \r\nQ 58.015625 14.40625 51.78125 6.484375 \r\nQ 45.5625 -1.421875 35.59375 -1.421875 \r\nQ 29.59375 -1.421875 25.265625 0.953125 \r\nQ 20.953125 3.328125 18.109375 8.203125 \r\nz\r\nM 48.6875 27.296875 \r\nQ 48.6875 37.203125 44.609375 42.84375 \r\nQ 40.53125 48.484375 33.40625 48.484375 \r\nQ 26.265625 48.484375 22.1875 42.84375 \r\nQ 18.109375 37.203125 18.109375 27.296875 \r\nQ 18.109375 17.390625 22.1875 11.75 \r\nQ 26.265625 6.109375 33.40625 6.109375 \r\nQ 40.53125 6.109375 44.609375 11.75 \r\nQ 48.6875 17.390625 48.6875 27.296875 \r\nz\r\n\" id=\"DejaVuSans-112\"/>\r\n       <path d=\"M 41.109375 46.296875 \r\nQ 39.59375 47.171875 37.8125 47.578125 \r\nQ 36.03125 48 33.890625 48 \r\nQ 26.265625 48 22.1875 43.046875 \r\nQ 18.109375 38.09375 18.109375 28.8125 \r\nL 18.109375 0 \r\nL 9.078125 0 \r\nL 9.078125 54.6875 \r\nL 18.109375 54.6875 \r\nL 18.109375 46.1875 \r\nQ 20.953125 51.171875 25.484375 53.578125 \r\nQ 30.03125 56 36.53125 56 \r\nQ 37.453125 56 38.578125 55.875 \r\nQ 39.703125 55.765625 41.0625 55.515625 \r\nz\r\n\" id=\"DejaVuSans-114\"/>\r\n       <path d=\"M 32.171875 -5.078125 \r\nQ 28.375 -14.84375 24.75 -17.8125 \r\nQ 21.140625 -20.796875 15.09375 -20.796875 \r\nL 7.90625 -20.796875 \r\nL 7.90625 -13.28125 \r\nL 13.1875 -13.28125 \r\nQ 16.890625 -13.28125 18.9375 -11.515625 \r\nQ 21 -9.765625 23.484375 -3.21875 \r\nL 25.09375 0.875 \r\nL 2.984375 54.6875 \r\nL 12.5 54.6875 \r\nL 29.59375 11.921875 \r\nL 46.6875 54.6875 \r\nL 56.203125 54.6875 \r\nz\r\n\" id=\"DejaVuSans-121\"/>\r\n      </defs>\r\n      <g transform=\"translate(20.878125 56.299219)scale(0.1 -0.1)\">\r\n       <use xlink:href=\"#DejaVuSans-99\"/>\r\n       <use x=\"54.980469\" xlink:href=\"#DejaVuSans-111\"/>\r\n       <use x=\"116.162109\" xlink:href=\"#DejaVuSans-110\"/>\r\n       <use x=\"179.541016\" xlink:href=\"#DejaVuSans-115\"/>\r\n       <use x=\"231.640625\" xlink:href=\"#DejaVuSans-112\"/>\r\n       <use x=\"295.117188\" xlink:href=\"#DejaVuSans-105\"/>\r\n       <use x=\"322.900391\" xlink:href=\"#DejaVuSans-114\"/>\r\n       <use x=\"364.013672\" xlink:href=\"#DejaVuSans-97\"/>\r\n       <use x=\"425.292969\" xlink:href=\"#DejaVuSans-99\"/>\r\n       <use x=\"480.273438\" xlink:href=\"#DejaVuSans-121\"/>\r\n      </g>\r\n     </g>\r\n    </g>\r\n    <g id=\"ytick_4\">\r\n     <g id=\"line2d_13\">\r\n      <g>\r\n       <use style=\"stroke:#000000;stroke-width:0.8;\" x=\"81.825\" xlink:href=\"#m9c2b2be5a4\" y=\"70.62\"/>\r\n      </g>\r\n     </g>\r\n     <g id=\"text_13\">\r\n      <!-- fake -->\r\n      <defs>\r\n       <path d=\"M 37.109375 75.984375 \r\nL 37.109375 68.5 \r\nL 28.515625 68.5 \r\nQ 23.6875 68.5 21.796875 66.546875 \r\nQ 19.921875 64.59375 19.921875 59.515625 \r\nL 19.921875 54.6875 \r\nL 34.71875 54.6875 \r\nL 34.71875 47.703125 \r\nL 19.921875 47.703125 \r\nL 19.921875 0 \r\nL 10.890625 0 \r\nL 10.890625 47.703125 \r\nL 2.296875 47.703125 \r\nL 2.296875 54.6875 \r\nL 10.890625 54.6875 \r\nL 10.890625 58.5 \r\nQ 10.890625 67.625 15.140625 71.796875 \r\nQ 19.390625 75.984375 28.609375 75.984375 \r\nz\r\n\" id=\"DejaVuSans-102\"/>\r\n       <path d=\"M 56.203125 29.59375 \r\nL 56.203125 25.203125 \r\nL 14.890625 25.203125 \r\nQ 15.484375 15.921875 20.484375 11.0625 \r\nQ 25.484375 6.203125 34.421875 6.203125 \r\nQ 39.59375 6.203125 44.453125 7.46875 \r\nQ 49.3125 8.734375 54.109375 11.28125 \r\nL 54.109375 2.78125 \r\nQ 49.265625 0.734375 44.1875 -0.34375 \r\nQ 39.109375 -1.421875 33.890625 -1.421875 \r\nQ 20.796875 -1.421875 13.15625 6.1875 \r\nQ 5.515625 13.8125 5.515625 26.8125 \r\nQ 5.515625 40.234375 12.765625 48.109375 \r\nQ 20.015625 56 32.328125 56 \r\nQ 43.359375 56 49.78125 48.890625 \r\nQ 56.203125 41.796875 56.203125 29.59375 \r\nz\r\nM 47.21875 32.234375 \r\nQ 47.125 39.59375 43.09375 43.984375 \r\nQ 39.0625 48.390625 32.421875 48.390625 \r\nQ 24.90625 48.390625 20.390625 44.140625 \r\nQ 15.875 39.890625 15.1875 32.171875 \r\nz\r\n\" id=\"DejaVuSans-101\"/>\r\n      </defs>\r\n      <g transform=\"translate(53.595313 74.419219)scale(0.1 -0.1)\">\r\n       <use xlink:href=\"#DejaVuSans-102\"/>\r\n       <use x=\"35.205078\" xlink:href=\"#DejaVuSans-97\"/>\r\n       <use x=\"96.484375\" xlink:href=\"#DejaVuSans-107\"/>\r\n       <use x=\"150.769531\" xlink:href=\"#DejaVuSans-101\"/>\r\n      </g>\r\n     </g>\r\n    </g>\r\n    <g id=\"ytick_5\">\r\n     <g id=\"line2d_14\">\r\n      <g>\r\n       <use style=\"stroke:#000000;stroke-width:0.8;\" x=\"81.825\" xlink:href=\"#m9c2b2be5a4\" y=\"88.74\"/>\r\n      </g>\r\n     </g>\r\n     <g id=\"text_14\">\r\n      <!-- hate -->\r\n      <defs>\r\n       <path d=\"M 54.890625 33.015625 \r\nL 54.890625 0 \r\nL 45.90625 0 \r\nL 45.90625 32.71875 \r\nQ 45.90625 40.484375 42.875 44.328125 \r\nQ 39.84375 48.1875 33.796875 48.1875 \r\nQ 26.515625 48.1875 22.3125 43.546875 \r\nQ 18.109375 38.921875 18.109375 30.90625 \r\nL 18.109375 0 \r\nL 9.078125 0 \r\nL 9.078125 75.984375 \r\nL 18.109375 75.984375 \r\nL 18.109375 46.1875 \r\nQ 21.34375 51.125 25.703125 53.5625 \r\nQ 30.078125 56 35.796875 56 \r\nQ 45.21875 56 50.046875 50.171875 \r\nQ 54.890625 44.34375 54.890625 33.015625 \r\nz\r\n\" id=\"DejaVuSans-104\"/>\r\n      </defs>\r\n      <g transform=\"translate(52.285938 92.539219)scale(0.1 -0.1)\">\r\n       <use xlink:href=\"#DejaVuSans-104\"/>\r\n       <use x=\"63.378906\" xlink:href=\"#DejaVuSans-97\"/>\r\n       <use x=\"124.658203\" xlink:href=\"#DejaVuSans-116\"/>\r\n       <use x=\"163.867188\" xlink:href=\"#DejaVuSans-101\"/>\r\n      </g>\r\n     </g>\r\n    </g>\r\n    <g id=\"ytick_6\">\r\n     <g id=\"line2d_15\">\r\n      <g>\r\n       <use style=\"stroke:#000000;stroke-width:0.8;\" x=\"81.825\" xlink:href=\"#m9c2b2be5a4\" y=\"106.86\"/>\r\n      </g>\r\n     </g>\r\n     <g id=\"text_15\">\r\n      <!-- junksci -->\r\n      <defs>\r\n       <path d=\"M 9.421875 54.6875 \r\nL 18.40625 54.6875 \r\nL 18.40625 -0.984375 \r\nQ 18.40625 -11.421875 14.421875 -16.109375 \r\nQ 10.453125 -20.796875 1.609375 -20.796875 \r\nL -1.8125 -20.796875 \r\nL -1.8125 -13.1875 \r\nL 0.59375 -13.1875 \r\nQ 5.71875 -13.1875 7.5625 -10.8125 \r\nQ 9.421875 -8.453125 9.421875 -0.984375 \r\nz\r\nM 9.421875 75.984375 \r\nL 18.40625 75.984375 \r\nL 18.40625 64.59375 \r\nL 9.421875 64.59375 \r\nz\r\n\" id=\"DejaVuSans-106\"/>\r\n       <path d=\"M 8.5 21.578125 \r\nL 8.5 54.6875 \r\nL 17.484375 54.6875 \r\nL 17.484375 21.921875 \r\nQ 17.484375 14.15625 20.5 10.265625 \r\nQ 23.53125 6.390625 29.59375 6.390625 \r\nQ 36.859375 6.390625 41.078125 11.03125 \r\nQ 45.3125 15.671875 45.3125 23.6875 \r\nL 45.3125 54.6875 \r\nL 54.296875 54.6875 \r\nL 54.296875 0 \r\nL 45.3125 0 \r\nL 45.3125 8.40625 \r\nQ 42.046875 3.421875 37.71875 1 \r\nQ 33.40625 -1.421875 27.6875 -1.421875 \r\nQ 18.265625 -1.421875 13.375 4.4375 \r\nQ 8.5 10.296875 8.5 21.578125 \r\nz\r\nM 31.109375 56 \r\nz\r\n\" id=\"DejaVuSans-117\"/>\r\n      </defs>\r\n      <g transform=\"translate(40.095313 110.659219)scale(0.1 -0.1)\">\r\n       <use xlink:href=\"#DejaVuSans-106\"/>\r\n       <use x=\"27.783203\" xlink:href=\"#DejaVuSans-117\"/>\r\n       <use x=\"91.162109\" xlink:href=\"#DejaVuSans-110\"/>\r\n       <use x=\"154.541016\" xlink:href=\"#DejaVuSans-107\"/>\r\n       <use x=\"212.451172\" xlink:href=\"#DejaVuSans-115\"/>\r\n       <use x=\"264.550781\" xlink:href=\"#DejaVuSans-99\"/>\r\n       <use x=\"319.53125\" xlink:href=\"#DejaVuSans-105\"/>\r\n      </g>\r\n     </g>\r\n    </g>\r\n    <g id=\"ytick_7\">\r\n     <g id=\"line2d_16\">\r\n      <g>\r\n       <use style=\"stroke:#000000;stroke-width:0.8;\" x=\"81.825\" xlink:href=\"#m9c2b2be5a4\" y=\"124.98\"/>\r\n      </g>\r\n     </g>\r\n     <g id=\"text_16\">\r\n      <!-- political -->\r\n      <g transform=\"translate(35.698438 128.779219)scale(0.1 -0.1)\">\r\n       <use xlink:href=\"#DejaVuSans-112\"/>\r\n       <use x=\"63.476562\" xlink:href=\"#DejaVuSans-111\"/>\r\n       <use x=\"124.658203\" xlink:href=\"#DejaVuSans-108\"/>\r\n       <use x=\"152.441406\" xlink:href=\"#DejaVuSans-105\"/>\r\n       <use x=\"180.224609\" xlink:href=\"#DejaVuSans-116\"/>\r\n       <use x=\"219.433594\" xlink:href=\"#DejaVuSans-105\"/>\r\n       <use x=\"247.216797\" xlink:href=\"#DejaVuSans-99\"/>\r\n       <use x=\"302.197266\" xlink:href=\"#DejaVuSans-97\"/>\r\n       <use x=\"363.476562\" xlink:href=\"#DejaVuSans-108\"/>\r\n      </g>\r\n     </g>\r\n    </g>\r\n    <g id=\"ytick_8\">\r\n     <g id=\"line2d_17\">\r\n      <g>\r\n       <use style=\"stroke:#000000;stroke-width:0.8;\" x=\"81.825\" xlink:href=\"#m9c2b2be5a4\" y=\"143.1\"/>\r\n      </g>\r\n     </g>\r\n     <g id=\"text_17\">\r\n      <!-- reliable -->\r\n      <g transform=\"translate(37.821875 146.899219)scale(0.1 -0.1)\">\r\n       <use xlink:href=\"#DejaVuSans-114\"/>\r\n       <use x=\"38.863281\" xlink:href=\"#DejaVuSans-101\"/>\r\n       <use x=\"100.386719\" xlink:href=\"#DejaVuSans-108\"/>\r\n       <use x=\"128.169922\" xlink:href=\"#DejaVuSans-105\"/>\r\n       <use x=\"155.953125\" xlink:href=\"#DejaVuSans-97\"/>\r\n       <use x=\"217.232422\" xlink:href=\"#DejaVuSans-98\"/>\r\n       <use x=\"280.708984\" xlink:href=\"#DejaVuSans-108\"/>\r\n       <use x=\"308.492188\" xlink:href=\"#DejaVuSans-101\"/>\r\n      </g>\r\n     </g>\r\n    </g>\r\n    <g id=\"ytick_9\">\r\n     <g id=\"line2d_18\">\r\n      <g>\r\n       <use style=\"stroke:#000000;stroke-width:0.8;\" x=\"81.825\" xlink:href=\"#m9c2b2be5a4\" y=\"161.22\"/>\r\n      </g>\r\n     </g>\r\n     <g id=\"text_18\">\r\n      <!-- rumor -->\r\n      <defs>\r\n       <path d=\"M 52 44.1875 \r\nQ 55.375 50.25 60.0625 53.125 \r\nQ 64.75 56 71.09375 56 \r\nQ 79.640625 56 84.28125 50.015625 \r\nQ 88.921875 44.046875 88.921875 33.015625 \r\nL 88.921875 0 \r\nL 79.890625 0 \r\nL 79.890625 32.71875 \r\nQ 79.890625 40.578125 77.09375 44.375 \r\nQ 74.3125 48.1875 68.609375 48.1875 \r\nQ 61.625 48.1875 57.5625 43.546875 \r\nQ 53.515625 38.921875 53.515625 30.90625 \r\nL 53.515625 0 \r\nL 44.484375 0 \r\nL 44.484375 32.71875 \r\nQ 44.484375 40.625 41.703125 44.40625 \r\nQ 38.921875 48.1875 33.109375 48.1875 \r\nQ 26.21875 48.1875 22.15625 43.53125 \r\nQ 18.109375 38.875 18.109375 30.90625 \r\nL 18.109375 0 \r\nL 9.078125 0 \r\nL 9.078125 54.6875 \r\nL 18.109375 54.6875 \r\nL 18.109375 46.1875 \r\nQ 21.1875 51.21875 25.484375 53.609375 \r\nQ 29.78125 56 35.6875 56 \r\nQ 41.65625 56 45.828125 52.96875 \r\nQ 50 49.953125 52 44.1875 \r\nz\r\n\" id=\"DejaVuSans-109\"/>\r\n      </defs>\r\n      <g transform=\"translate(44.40625 165.019219)scale(0.1 -0.1)\">\r\n       <use xlink:href=\"#DejaVuSans-114\"/>\r\n       <use x=\"41.113281\" xlink:href=\"#DejaVuSans-117\"/>\r\n       <use x=\"104.492188\" xlink:href=\"#DejaVuSans-109\"/>\r\n       <use x=\"201.904297\" xlink:href=\"#DejaVuSans-111\"/>\r\n       <use x=\"263.085938\" xlink:href=\"#DejaVuSans-114\"/>\r\n      </g>\r\n     </g>\r\n    </g>\r\n    <g id=\"ytick_10\">\r\n     <g id=\"line2d_19\">\r\n      <g>\r\n       <use style=\"stroke:#000000;stroke-width:0.8;\" x=\"81.825\" xlink:href=\"#m9c2b2be5a4\" y=\"179.34\"/>\r\n      </g>\r\n     </g>\r\n     <g id=\"text_19\">\r\n      <!-- satire -->\r\n      <g transform=\"translate(46.75 183.139219)scale(0.1 -0.1)\">\r\n       <use xlink:href=\"#DejaVuSans-115\"/>\r\n       <use x=\"52.099609\" xlink:href=\"#DejaVuSans-97\"/>\r\n       <use x=\"113.378906\" xlink:href=\"#DejaVuSans-116\"/>\r\n       <use x=\"152.587891\" xlink:href=\"#DejaVuSans-105\"/>\r\n       <use x=\"180.371094\" xlink:href=\"#DejaVuSans-114\"/>\r\n       <use x=\"219.234375\" xlink:href=\"#DejaVuSans-101\"/>\r\n      </g>\r\n     </g>\r\n    </g>\r\n    <g id=\"ytick_11\">\r\n     <g id=\"line2d_20\">\r\n      <g>\r\n       <use style=\"stroke:#000000;stroke-width:0.8;\" x=\"81.825\" xlink:href=\"#m9c2b2be5a4\" y=\"197.46\"/>\r\n      </g>\r\n     </g>\r\n     <g id=\"text_20\">\r\n      <!-- unknown -->\r\n      <defs>\r\n       <path d=\"M 4.203125 54.6875 \r\nL 13.1875 54.6875 \r\nL 24.421875 12.015625 \r\nL 35.59375 54.6875 \r\nL 46.1875 54.6875 \r\nL 57.421875 12.015625 \r\nL 68.609375 54.6875 \r\nL 77.59375 54.6875 \r\nL 63.28125 0 \r\nL 52.6875 0 \r\nL 40.921875 44.828125 \r\nL 29.109375 0 \r\nL 18.5 0 \r\nz\r\n\" id=\"DejaVuSans-119\"/>\r\n      </defs>\r\n      <g transform=\"translate(29.3875 201.259219)scale(0.1 -0.1)\">\r\n       <use xlink:href=\"#DejaVuSans-117\"/>\r\n       <use x=\"63.378906\" xlink:href=\"#DejaVuSans-110\"/>\r\n       <use x=\"126.757812\" xlink:href=\"#DejaVuSans-107\"/>\r\n       <use x=\"184.667969\" xlink:href=\"#DejaVuSans-110\"/>\r\n       <use x=\"248.046875\" xlink:href=\"#DejaVuSans-111\"/>\r\n       <use x=\"309.228516\" xlink:href=\"#DejaVuSans-119\"/>\r\n       <use x=\"391.015625\" xlink:href=\"#DejaVuSans-110\"/>\r\n      </g>\r\n     </g>\r\n    </g>\r\n    <g id=\"ytick_12\">\r\n     <g id=\"line2d_21\">\r\n      <g>\r\n       <use style=\"stroke:#000000;stroke-width:0.8;\" x=\"81.825\" xlink:href=\"#m9c2b2be5a4\" y=\"215.58\"/>\r\n      </g>\r\n     </g>\r\n     <g id=\"text_21\">\r\n      <!-- unreliable -->\r\n      <g transform=\"translate(25.146875 219.379219)scale(0.1 -0.1)\">\r\n       <use xlink:href=\"#DejaVuSans-117\"/>\r\n       <use x=\"63.378906\" xlink:href=\"#DejaVuSans-110\"/>\r\n       <use x=\"126.757812\" xlink:href=\"#DejaVuSans-114\"/>\r\n       <use x=\"165.621094\" xlink:href=\"#DejaVuSans-101\"/>\r\n       <use x=\"227.144531\" xlink:href=\"#DejaVuSans-108\"/>\r\n       <use x=\"254.927734\" xlink:href=\"#DejaVuSans-105\"/>\r\n       <use x=\"282.710938\" xlink:href=\"#DejaVuSans-97\"/>\r\n       <use x=\"343.990234\" xlink:href=\"#DejaVuSans-98\"/>\r\n       <use x=\"407.466797\" xlink:href=\"#DejaVuSans-108\"/>\r\n       <use x=\"435.25\" xlink:href=\"#DejaVuSans-101\"/>\r\n      </g>\r\n     </g>\r\n    </g>\r\n    <g id=\"text_22\">\r\n     <!-- type -->\r\n     <g transform=\"translate(14.798438 127.090312)rotate(-90)scale(0.1 -0.1)\">\r\n      <use xlink:href=\"#DejaVuSans-116\"/>\r\n      <use x=\"39.208984\" xlink:href=\"#DejaVuSans-121\"/>\r\n      <use x=\"98.388672\" xlink:href=\"#DejaVuSans-112\"/>\r\n      <use x=\"161.865234\" xlink:href=\"#DejaVuSans-101\"/>\r\n     </g>\r\n    </g>\r\n   </g>\r\n   <g id=\"line2d_22\">\r\n    <path clip-path=\"url(#p5b80375d6d)\" d=\"M 0 0 \r\n\" style=\"fill:none;stroke:#424242;stroke-linecap:square;stroke-width:2.7;\"/>\r\n   </g>\r\n   <g id=\"line2d_23\">\r\n    <path clip-path=\"url(#p5b80375d6d)\" d=\"M 0 0 \r\n\" style=\"fill:none;stroke:#424242;stroke-linecap:square;stroke-width:2.7;\"/>\r\n   </g>\r\n   <g id=\"line2d_24\">\r\n    <path clip-path=\"url(#p5b80375d6d)\" d=\"M 0 0 \r\n\" style=\"fill:none;stroke:#424242;stroke-linecap:square;stroke-width:2.7;\"/>\r\n   </g>\r\n   <g id=\"line2d_25\">\r\n    <path clip-path=\"url(#p5b80375d6d)\" d=\"M 0 0 \r\n\" style=\"fill:none;stroke:#424242;stroke-linecap:square;stroke-width:2.7;\"/>\r\n   </g>\r\n   <g id=\"line2d_26\">\r\n    <path clip-path=\"url(#p5b80375d6d)\" d=\"M 0 0 \r\n\" style=\"fill:none;stroke:#424242;stroke-linecap:square;stroke-width:2.7;\"/>\r\n   </g>\r\n   <g id=\"line2d_27\">\r\n    <path clip-path=\"url(#p5b80375d6d)\" d=\"M 0 0 \r\n\" style=\"fill:none;stroke:#424242;stroke-linecap:square;stroke-width:2.7;\"/>\r\n   </g>\r\n   <g id=\"line2d_28\">\r\n    <path clip-path=\"url(#p5b80375d6d)\" d=\"M 0 0 \r\n\" style=\"fill:none;stroke:#424242;stroke-linecap:square;stroke-width:2.7;\"/>\r\n   </g>\r\n   <g id=\"line2d_29\">\r\n    <path clip-path=\"url(#p5b80375d6d)\" d=\"M 0 0 \r\n\" style=\"fill:none;stroke:#424242;stroke-linecap:square;stroke-width:2.7;\"/>\r\n   </g>\r\n   <g id=\"line2d_30\">\r\n    <path clip-path=\"url(#p5b80375d6d)\" d=\"M 0 0 \r\n\" style=\"fill:none;stroke:#424242;stroke-linecap:square;stroke-width:2.7;\"/>\r\n   </g>\r\n   <g id=\"line2d_31\">\r\n    <path clip-path=\"url(#p5b80375d6d)\" d=\"M 0 0 \r\n\" style=\"fill:none;stroke:#424242;stroke-linecap:square;stroke-width:2.7;\"/>\r\n   </g>\r\n   <g id=\"line2d_32\">\r\n    <path clip-path=\"url(#p5b80375d6d)\" d=\"M 0 0 \r\n\" style=\"fill:none;stroke:#424242;stroke-linecap:square;stroke-width:2.7;\"/>\r\n   </g>\r\n   <g id=\"line2d_33\">\r\n    <path clip-path=\"url(#p5b80375d6d)\" d=\"M 0 0 \r\n\" style=\"fill:none;stroke:#424242;stroke-linecap:square;stroke-width:2.7;\"/>\r\n   </g>\r\n   <g id=\"patch_15\">\r\n    <path d=\"M 81.825 224.64 \r\nL 81.825 7.2 \r\n\" style=\"fill:none;stroke:#000000;stroke-linecap:square;stroke-linejoin:miter;stroke-width:0.8;\"/>\r\n   </g>\r\n   <g id=\"patch_16\">\r\n    <path d=\"M 416.625 224.64 \r\nL 416.625 7.2 \r\n\" style=\"fill:none;stroke:#000000;stroke-linecap:square;stroke-linejoin:miter;stroke-width:0.8;\"/>\r\n   </g>\r\n   <g id=\"patch_17\">\r\n    <path d=\"M 81.825 224.64 \r\nL 416.625 224.64 \r\n\" style=\"fill:none;stroke:#000000;stroke-linecap:square;stroke-linejoin:miter;stroke-width:0.8;\"/>\r\n   </g>\r\n   <g id=\"patch_18\">\r\n    <path d=\"M 81.825 7.2 \r\nL 416.625 7.2 \r\n\" style=\"fill:none;stroke:#000000;stroke-linecap:square;stroke-linejoin:miter;stroke-width:0.8;\"/>\r\n   </g>\r\n  </g>\r\n </g>\r\n <defs>\r\n  <clipPath id=\"p5b80375d6d\">\r\n   <rect height=\"217.44\" width=\"334.8\" x=\"81.825\" y=\"7.2\"/>\r\n  </clipPath>\r\n </defs>\r\n</svg>\r\n",
      "image/png": "[encoded data removed]"
     },
     "metadata": {
      "needs_background": "light"
     }
    }
   ],
   "source": [
    "### Show info about \"entire\"-dataset ###\n",
    "\n",
    "# Show rows for each type\n",
    "types = entire_df.groupby('type').content.count()\n",
    "sns.barplot(types.values, types.index)"
   ]
  },
  {
   "cell_type": "code",
   "execution_count": 172,
   "metadata": {},
   "outputs": [
    {
     "output_type": "stream",
     "name": "stdout",
     "text": "=> fake (500, 17)\n=> satire (500, 17)\n=> bias (500, 17)\n=> conspiracy (500, 17)\n=> junksci (500, 17)\n=> hate (500, 17)\n=> clickbait (500, 17)\n=> unreliable (500, 17)\n=> political (500, 17)\n=> reliable (500, 17)\n\n[Final sub-dataset]\nwhole ==> (5000, 17)\n"
    }
   ],
   "source": [
    "### SELECT SIZE OF -> sub-dataset ###\n",
    "\n",
    "# This can generate a dataset with random purmutation and a max size for each type(can be smaller if desired max is not possible)\n",
    "\n",
    "# max size for type\n",
    "max_size = 500\n",
    "# Labels to include - ['fake', 'satire', 'bias', 'conspiracy', 'state', 'junksci', 'hate', 'clickbait', 'unreliable', 'political', 'reliable'] - all labels\n",
    "use_types = ['fake', 'satire', 'bias', 'conspiracy', 'junksci', 'hate', 'clickbait', 'unreliable', 'political', 'reliable']\n",
    "# Random seed\n",
    "rnd = 1\n",
    "\n",
    "# initialize dataframes\n",
    "df = pd.DataFrame(columns = entire_df.columns)\n",
    "\n",
    "# add type to test splits\n",
    "for t in use_types:\n",
    "\n",
    "    # type size\n",
    "    type_size = entire_df['type'].loc[entire_df['type'] == t].value_counts().min()\n",
    "\n",
    "    # set size of type slice\n",
    "    if type_size < max_size:\n",
    "        tmp = entire_df.loc[entire_df['type'] == t].sample(n = type_size, random_state=rnd)\n",
    "    else:\n",
    "        tmp = entire_df.loc[entire_df['type'] == t].sample(n = max_size, random_state=rnd)\n",
    "    \n",
    "    # add tmp to dataframes\n",
    "    df = pd.concat([df, tmp])\n",
    "    \n",
    "    # print split shape\n",
    "    print(\"=>\", t, tmp.shape)\n",
    "\n",
    "print(\"\\n[Final sub-dataset]\\nwhole ==>\", df.shape)"
   ]
  },
  {
   "cell_type": "code",
   "execution_count": 173,
   "metadata": {},
   "outputs": [
    {
     "output_type": "execute_result",
     "data": {
      "text/plain": "           id domain  type   url content scraped_at inserted_at updated_at  \\\ncount    5000   5000  5000  5000    5000       5000        5000       5000   \nunique   5000    196    10  5000    5000          2           1          1   \nmissing     0      0     0     0       0          0           0          0   \n\n        title authors keywords meta_keywords meta_description  tags summary  \\\ncount    4993    2669        0          5000             2012  2200       0   \nunique   4677    1313        0           594             1760  1580       0   \nmissing     7    2331     5000             0             2988  2800    5000   \n\n        source  type_id  \ncount        0     5000  \nunique       0       10  \nmissing   5000        0  ",
      "text/html": "<div>\n<style scoped>\n    .dataframe tbody tr th:only-of-type {\n        vertical-align: middle;\n    }\n\n    .dataframe tbody tr th {\n        vertical-align: top;\n    }\n\n    .dataframe thead th {\n        text-align: right;\n    }\n</style>\n<table border=\"1\" class=\"dataframe\">\n  <thead>\n    <tr style=\"text-align: right;\">\n      <th></th>\n      <th>id</th>\n      <th>domain</th>\n      <th>type</th>\n      <th>url</th>\n      <th>content</th>\n      <th>scraped_at</th>\n      <th>inserted_at</th>\n      <th>updated_at</th>\n      <th>title</th>\n      <th>authors</th>\n      <th>keywords</th>\n      <th>meta_keywords</th>\n      <th>meta_description</th>\n      <th>tags</th>\n      <th>summary</th>\n      <th>source</th>\n      <th>type_id</th>\n    </tr>\n  </thead>\n  <tbody>\n    <tr>\n      <th>count</th>\n      <td>5000</td>\n      <td>5000</td>\n      <td>5000</td>\n      <td>5000</td>\n      <td>5000</td>\n      <td>5000</td>\n      <td>5000</td>\n      <td>5000</td>\n      <td>4993</td>\n      <td>2669</td>\n      <td>0</td>\n      <td>5000</td>\n      <td>2012</td>\n      <td>2200</td>\n      <td>0</td>\n      <td>0</td>\n      <td>5000</td>\n    </tr>\n    <tr>\n      <th>unique</th>\n      <td>5000</td>\n      <td>196</td>\n      <td>10</td>\n      <td>5000</td>\n      <td>5000</td>\n      <td>2</td>\n      <td>1</td>\n      <td>1</td>\n      <td>4677</td>\n      <td>1313</td>\n      <td>0</td>\n      <td>594</td>\n      <td>1760</td>\n      <td>1580</td>\n      <td>0</td>\n      <td>0</td>\n      <td>10</td>\n    </tr>\n    <tr>\n      <th>missing</th>\n      <td>0</td>\n      <td>0</td>\n      <td>0</td>\n      <td>0</td>\n      <td>0</td>\n      <td>0</td>\n      <td>0</td>\n      <td>0</td>\n      <td>7</td>\n      <td>2331</td>\n      <td>5000</td>\n      <td>0</td>\n      <td>2988</td>\n      <td>2800</td>\n      <td>5000</td>\n      <td>5000</td>\n      <td>0</td>\n    </tr>\n  </tbody>\n</table>\n</div>"
     },
     "metadata": {},
     "execution_count": 173
    },
    {
     "output_type": "display_data",
     "data": {
      "text/plain": "<Figure size 432x288 with 1 Axes>",
      "image/svg+xml": "<?xml version=\"1.0\" encoding=\"utf-8\" standalone=\"no\"?>\r\n<!DOCTYPE svg PUBLIC \"-//W3C//DTD SVG 1.1//EN\"\r\n  \"http://www.w3.org/Graphics/SVG/1.1/DTD/svg11.dtd\">\r\n<!-- Created with matplotlib (https://matplotlib.org/) -->\r\n<svg height=\"248.518125pt\" version=\"1.1\" viewBox=\"0 0 423.825 248.518125\" width=\"423.825pt\" xmlns=\"http://www.w3.org/2000/svg\" xmlns:xlink=\"http://www.w3.org/1999/xlink\">\r\n <defs>\r\n  <style type=\"text/css\">\r\n*{stroke-linecap:butt;stroke-linejoin:round;}\r\n  </style>\r\n </defs>\r\n <g id=\"figure_1\">\r\n  <g id=\"patch_1\">\r\n   <path d=\"M 0 248.518125 \r\nL 423.825 248.518125 \r\nL 423.825 0 \r\nL 0 0 \r\nz\r\n\" style=\"fill:none;\"/>\r\n  </g>\r\n  <g id=\"axes_1\">\r\n   <g id=\"patch_2\">\r\n    <path d=\"M 81.825 224.64 \r\nL 416.625 224.64 \r\nL 416.625 7.2 \r\nL 81.825 7.2 \r\nz\r\n\" style=\"fill:#ffffff;\"/>\r\n   </g>\r\n   <g id=\"patch_3\">\r\n    <path clip-path=\"url(#p4f4a2146fe)\" d=\"M 81.825 9.3744 \r\nL 400.682143 9.3744 \r\nL 400.682143 26.7696 \r\nL 81.825 26.7696 \r\nz\r\n\" style=\"fill:#3274a1;\"/>\r\n   </g>\r\n   <g id=\"patch_4\">\r\n    <path clip-path=\"url(#p4f4a2146fe)\" d=\"M 81.825 31.1184 \r\nL 400.682143 31.1184 \r\nL 400.682143 48.5136 \r\nL 81.825 48.5136 \r\nz\r\n\" style=\"fill:#e1812c;\"/>\r\n   </g>\r\n   <g id=\"patch_5\">\r\n    <path clip-path=\"url(#p4f4a2146fe)\" d=\"M 81.825 52.8624 \r\nL 400.682143 52.8624 \r\nL 400.682143 70.2576 \r\nL 81.825 70.2576 \r\nz\r\n\" style=\"fill:#3a923a;\"/>\r\n   </g>\r\n   <g id=\"patch_6\">\r\n    <path clip-path=\"url(#p4f4a2146fe)\" d=\"M 81.825 74.6064 \r\nL 400.682143 74.6064 \r\nL 400.682143 92.0016 \r\nL 81.825 92.0016 \r\nz\r\n\" style=\"fill:#c03d3e;\"/>\r\n   </g>\r\n   <g id=\"patch_7\">\r\n    <path clip-path=\"url(#p4f4a2146fe)\" d=\"M 81.825 96.3504 \r\nL 400.682143 96.3504 \r\nL 400.682143 113.7456 \r\nL 81.825 113.7456 \r\nz\r\n\" style=\"fill:#9372b2;\"/>\r\n   </g>\r\n   <g id=\"patch_8\">\r\n    <path clip-path=\"url(#p4f4a2146fe)\" d=\"M 81.825 118.0944 \r\nL 400.682143 118.0944 \r\nL 400.682143 135.4896 \r\nL 81.825 135.4896 \r\nz\r\n\" style=\"fill:#845b53;\"/>\r\n   </g>\r\n   <g id=\"patch_9\">\r\n    <path clip-path=\"url(#p4f4a2146fe)\" d=\"M 81.825 139.8384 \r\nL 400.682143 139.8384 \r\nL 400.682143 157.2336 \r\nL 81.825 157.2336 \r\nz\r\n\" style=\"fill:#d684bd;\"/>\r\n   </g>\r\n   <g id=\"patch_10\">\r\n    <path clip-path=\"url(#p4f4a2146fe)\" d=\"M 81.825 161.5824 \r\nL 400.682143 161.5824 \r\nL 400.682143 178.9776 \r\nL 81.825 178.9776 \r\nz\r\n\" style=\"fill:#7f7f7f;\"/>\r\n   </g>\r\n   <g id=\"patch_11\">\r\n    <path clip-path=\"url(#p4f4a2146fe)\" d=\"M 81.825 183.3264 \r\nL 400.682143 183.3264 \r\nL 400.682143 200.7216 \r\nL 81.825 200.7216 \r\nz\r\n\" style=\"fill:#a9aa35;\"/>\r\n   </g>\r\n   <g id=\"patch_12\">\r\n    <path clip-path=\"url(#p4f4a2146fe)\" d=\"M 81.825 205.0704 \r\nL 400.682143 205.0704 \r\nL 400.682143 222.4656 \r\nL 81.825 222.4656 \r\nz\r\n\" style=\"fill:#2eabb8;\"/>\r\n   </g>\r\n   <g id=\"matplotlib.axis_1\">\r\n    <g id=\"xtick_1\">\r\n     <g id=\"line2d_1\">\r\n      <defs>\r\n       <path d=\"M 0 0 \r\nL 0 3.5 \r\n\" id=\"md71a36c579\" style=\"stroke:#000000;stroke-width:0.8;\"/>\r\n      </defs>\r\n      <g>\r\n       <use style=\"stroke:#000000;stroke-width:0.8;\" x=\"81.825\" xlink:href=\"#md71a36c579\" y=\"224.64\"/>\r\n      </g>\r\n     </g>\r\n     <g id=\"text_1\">\r\n      <!-- 0 -->\r\n      <defs>\r\n       <path d=\"M 31.78125 66.40625 \r\nQ 24.171875 66.40625 20.328125 58.90625 \r\nQ 16.5 51.421875 16.5 36.375 \r\nQ 16.5 21.390625 20.328125 13.890625 \r\nQ 24.171875 6.390625 31.78125 6.390625 \r\nQ 39.453125 6.390625 43.28125 13.890625 \r\nQ 47.125 21.390625 47.125 36.375 \r\nQ 47.125 51.421875 43.28125 58.90625 \r\nQ 39.453125 66.40625 31.78125 66.40625 \r\nz\r\nM 31.78125 74.21875 \r\nQ 44.046875 74.21875 50.515625 64.515625 \r\nQ 56.984375 54.828125 56.984375 36.375 \r\nQ 56.984375 17.96875 50.515625 8.265625 \r\nQ 44.046875 -1.421875 31.78125 -1.421875 \r\nQ 19.53125 -1.421875 13.0625 8.265625 \r\nQ 6.59375 17.96875 6.59375 36.375 \r\nQ 6.59375 54.828125 13.0625 64.515625 \r\nQ 19.53125 74.21875 31.78125 74.21875 \r\nz\r\n\" id=\"DejaVuSans-48\"/>\r\n      </defs>\r\n      <g transform=\"translate(78.64375 239.238437)scale(0.1 -0.1)\">\r\n       <use xlink:href=\"#DejaVuSans-48\"/>\r\n      </g>\r\n     </g>\r\n    </g>\r\n    <g id=\"xtick_2\">\r\n     <g id=\"line2d_2\">\r\n      <g>\r\n       <use style=\"stroke:#000000;stroke-width:0.8;\" x=\"145.596429\" xlink:href=\"#md71a36c579\" y=\"224.64\"/>\r\n      </g>\r\n     </g>\r\n     <g id=\"text_2\">\r\n      <!-- 100 -->\r\n      <defs>\r\n       <path d=\"M 12.40625 8.296875 \r\nL 28.515625 8.296875 \r\nL 28.515625 63.921875 \r\nL 10.984375 60.40625 \r\nL 10.984375 69.390625 \r\nL 28.421875 72.90625 \r\nL 38.28125 72.90625 \r\nL 38.28125 8.296875 \r\nL 54.390625 8.296875 \r\nL 54.390625 0 \r\nL 12.40625 0 \r\nz\r\n\" id=\"DejaVuSans-49\"/>\r\n      </defs>\r\n      <g transform=\"translate(136.052679 239.238437)scale(0.1 -0.1)\">\r\n       <use xlink:href=\"#DejaVuSans-49\"/>\r\n       <use x=\"63.623047\" xlink:href=\"#DejaVuSans-48\"/>\r\n       <use x=\"127.246094\" xlink:href=\"#DejaVuSans-48\"/>\r\n      </g>\r\n     </g>\r\n    </g>\r\n    <g id=\"xtick_3\">\r\n     <g id=\"line2d_3\">\r\n      <g>\r\n       <use style=\"stroke:#000000;stroke-width:0.8;\" x=\"209.367857\" xlink:href=\"#md71a36c579\" y=\"224.64\"/>\r\n      </g>\r\n     </g>\r\n     <g id=\"text_3\">\r\n      <!-- 200 -->\r\n      <defs>\r\n       <path d=\"M 19.1875 8.296875 \r\nL 53.609375 8.296875 \r\nL 53.609375 0 \r\nL 7.328125 0 \r\nL 7.328125 8.296875 \r\nQ 12.9375 14.109375 22.625 23.890625 \r\nQ 32.328125 33.6875 34.8125 36.53125 \r\nQ 39.546875 41.84375 41.421875 45.53125 \r\nQ 43.3125 49.21875 43.3125 52.78125 \r\nQ 43.3125 58.59375 39.234375 62.25 \r\nQ 35.15625 65.921875 28.609375 65.921875 \r\nQ 23.96875 65.921875 18.8125 64.3125 \r\nQ 13.671875 62.703125 7.8125 59.421875 \r\nL 7.8125 69.390625 \r\nQ 13.765625 71.78125 18.9375 73 \r\nQ 24.125 74.21875 28.421875 74.21875 \r\nQ 39.75 74.21875 46.484375 68.546875 \r\nQ 53.21875 62.890625 53.21875 53.421875 \r\nQ 53.21875 48.921875 51.53125 44.890625 \r\nQ 49.859375 40.875 45.40625 35.40625 \r\nQ 44.1875 33.984375 37.640625 27.21875 \r\nQ 31.109375 20.453125 19.1875 8.296875 \r\nz\r\n\" id=\"DejaVuSans-50\"/>\r\n      </defs>\r\n      <g transform=\"translate(199.824107 239.238437)scale(0.1 -0.1)\">\r\n       <use xlink:href=\"#DejaVuSans-50\"/>\r\n       <use x=\"63.623047\" xlink:href=\"#DejaVuSans-48\"/>\r\n       <use x=\"127.246094\" xlink:href=\"#DejaVuSans-48\"/>\r\n      </g>\r\n     </g>\r\n    </g>\r\n    <g id=\"xtick_4\">\r\n     <g id=\"line2d_4\">\r\n      <g>\r\n       <use style=\"stroke:#000000;stroke-width:0.8;\" x=\"273.139286\" xlink:href=\"#md71a36c579\" y=\"224.64\"/>\r\n      </g>\r\n     </g>\r\n     <g id=\"text_4\">\r\n      <!-- 300 -->\r\n      <defs>\r\n       <path d=\"M 40.578125 39.3125 \r\nQ 47.65625 37.796875 51.625 33 \r\nQ 55.609375 28.21875 55.609375 21.1875 \r\nQ 55.609375 10.40625 48.1875 4.484375 \r\nQ 40.765625 -1.421875 27.09375 -1.421875 \r\nQ 22.515625 -1.421875 17.65625 -0.515625 \r\nQ 12.796875 0.390625 7.625 2.203125 \r\nL 7.625 11.71875 \r\nQ 11.71875 9.328125 16.59375 8.109375 \r\nQ 21.484375 6.890625 26.8125 6.890625 \r\nQ 36.078125 6.890625 40.9375 10.546875 \r\nQ 45.796875 14.203125 45.796875 21.1875 \r\nQ 45.796875 27.640625 41.28125 31.265625 \r\nQ 36.765625 34.90625 28.71875 34.90625 \r\nL 20.21875 34.90625 \r\nL 20.21875 43.015625 \r\nL 29.109375 43.015625 \r\nQ 36.375 43.015625 40.234375 45.921875 \r\nQ 44.09375 48.828125 44.09375 54.296875 \r\nQ 44.09375 59.90625 40.109375 62.90625 \r\nQ 36.140625 65.921875 28.71875 65.921875 \r\nQ 24.65625 65.921875 20.015625 65.03125 \r\nQ 15.375 64.15625 9.8125 62.3125 \r\nL 9.8125 71.09375 \r\nQ 15.4375 72.65625 20.34375 73.4375 \r\nQ 25.25 74.21875 29.59375 74.21875 \r\nQ 40.828125 74.21875 47.359375 69.109375 \r\nQ 53.90625 64.015625 53.90625 55.328125 \r\nQ 53.90625 49.265625 50.4375 45.09375 \r\nQ 46.96875 40.921875 40.578125 39.3125 \r\nz\r\n\" id=\"DejaVuSans-51\"/>\r\n      </defs>\r\n      <g transform=\"translate(263.595536 239.238437)scale(0.1 -0.1)\">\r\n       <use xlink:href=\"#DejaVuSans-51\"/>\r\n       <use x=\"63.623047\" xlink:href=\"#DejaVuSans-48\"/>\r\n       <use x=\"127.246094\" xlink:href=\"#DejaVuSans-48\"/>\r\n      </g>\r\n     </g>\r\n    </g>\r\n    <g id=\"xtick_5\">\r\n     <g id=\"line2d_5\">\r\n      <g>\r\n       <use style=\"stroke:#000000;stroke-width:0.8;\" x=\"336.910714\" xlink:href=\"#md71a36c579\" y=\"224.64\"/>\r\n      </g>\r\n     </g>\r\n     <g id=\"text_5\">\r\n      <!-- 400 -->\r\n      <defs>\r\n       <path d=\"M 37.796875 64.3125 \r\nL 12.890625 25.390625 \r\nL 37.796875 25.390625 \r\nz\r\nM 35.203125 72.90625 \r\nL 47.609375 72.90625 \r\nL 47.609375 25.390625 \r\nL 58.015625 25.390625 \r\nL 58.015625 17.1875 \r\nL 47.609375 17.1875 \r\nL 47.609375 0 \r\nL 37.796875 0 \r\nL 37.796875 17.1875 \r\nL 4.890625 17.1875 \r\nL 4.890625 26.703125 \r\nz\r\n\" id=\"DejaVuSans-52\"/>\r\n      </defs>\r\n      <g transform=\"translate(327.366964 239.238437)scale(0.1 -0.1)\">\r\n       <use xlink:href=\"#DejaVuSans-52\"/>\r\n       <use x=\"63.623047\" xlink:href=\"#DejaVuSans-48\"/>\r\n       <use x=\"127.246094\" xlink:href=\"#DejaVuSans-48\"/>\r\n      </g>\r\n     </g>\r\n    </g>\r\n    <g id=\"xtick_6\">\r\n     <g id=\"line2d_6\">\r\n      <g>\r\n       <use style=\"stroke:#000000;stroke-width:0.8;\" x=\"400.682143\" xlink:href=\"#md71a36c579\" y=\"224.64\"/>\r\n      </g>\r\n     </g>\r\n     <g id=\"text_6\">\r\n      <!-- 500 -->\r\n      <defs>\r\n       <path d=\"M 10.796875 72.90625 \r\nL 49.515625 72.90625 \r\nL 49.515625 64.59375 \r\nL 19.828125 64.59375 \r\nL 19.828125 46.734375 \r\nQ 21.96875 47.46875 24.109375 47.828125 \r\nQ 26.265625 48.1875 28.421875 48.1875 \r\nQ 40.625 48.1875 47.75 41.5 \r\nQ 54.890625 34.8125 54.890625 23.390625 \r\nQ 54.890625 11.625 47.5625 5.09375 \r\nQ 40.234375 -1.421875 26.90625 -1.421875 \r\nQ 22.3125 -1.421875 17.546875 -0.640625 \r\nQ 12.796875 0.140625 7.71875 1.703125 \r\nL 7.71875 11.625 \r\nQ 12.109375 9.234375 16.796875 8.0625 \r\nQ 21.484375 6.890625 26.703125 6.890625 \r\nQ 35.15625 6.890625 40.078125 11.328125 \r\nQ 45.015625 15.765625 45.015625 23.390625 \r\nQ 45.015625 31 40.078125 35.4375 \r\nQ 35.15625 39.890625 26.703125 39.890625 \r\nQ 22.75 39.890625 18.8125 39.015625 \r\nQ 14.890625 38.140625 10.796875 36.28125 \r\nz\r\n\" id=\"DejaVuSans-53\"/>\r\n      </defs>\r\n      <g transform=\"translate(391.138393 239.238437)scale(0.1 -0.1)\">\r\n       <use xlink:href=\"#DejaVuSans-53\"/>\r\n       <use x=\"63.623047\" xlink:href=\"#DejaVuSans-48\"/>\r\n       <use x=\"127.246094\" xlink:href=\"#DejaVuSans-48\"/>\r\n      </g>\r\n     </g>\r\n    </g>\r\n   </g>\r\n   <g id=\"matplotlib.axis_2\">\r\n    <g id=\"ytick_1\">\r\n     <g id=\"line2d_7\">\r\n      <defs>\r\n       <path d=\"M 0 0 \r\nL -3.5 0 \r\n\" id=\"m5b6e9bb2b0\" style=\"stroke:#000000;stroke-width:0.8;\"/>\r\n      </defs>\r\n      <g>\r\n       <use style=\"stroke:#000000;stroke-width:0.8;\" x=\"81.825\" xlink:href=\"#m5b6e9bb2b0\" y=\"18.072\"/>\r\n      </g>\r\n     </g>\r\n     <g id=\"text_7\">\r\n      <!-- bias -->\r\n      <defs>\r\n       <path d=\"M 48.6875 27.296875 \r\nQ 48.6875 37.203125 44.609375 42.84375 \r\nQ 40.53125 48.484375 33.40625 48.484375 \r\nQ 26.265625 48.484375 22.1875 42.84375 \r\nQ 18.109375 37.203125 18.109375 27.296875 \r\nQ 18.109375 17.390625 22.1875 11.75 \r\nQ 26.265625 6.109375 33.40625 6.109375 \r\nQ 40.53125 6.109375 44.609375 11.75 \r\nQ 48.6875 17.390625 48.6875 27.296875 \r\nz\r\nM 18.109375 46.390625 \r\nQ 20.953125 51.265625 25.265625 53.625 \r\nQ 29.59375 56 35.59375 56 \r\nQ 45.5625 56 51.78125 48.09375 \r\nQ 58.015625 40.1875 58.015625 27.296875 \r\nQ 58.015625 14.40625 51.78125 6.484375 \r\nQ 45.5625 -1.421875 35.59375 -1.421875 \r\nQ 29.59375 -1.421875 25.265625 0.953125 \r\nQ 20.953125 3.328125 18.109375 8.203125 \r\nL 18.109375 0 \r\nL 9.078125 0 \r\nL 9.078125 75.984375 \r\nL 18.109375 75.984375 \r\nz\r\n\" id=\"DejaVuSans-98\"/>\r\n       <path d=\"M 9.421875 54.6875 \r\nL 18.40625 54.6875 \r\nL 18.40625 0 \r\nL 9.421875 0 \r\nz\r\nM 9.421875 75.984375 \r\nL 18.40625 75.984375 \r\nL 18.40625 64.59375 \r\nL 9.421875 64.59375 \r\nz\r\n\" id=\"DejaVuSans-105\"/>\r\n       <path d=\"M 34.28125 27.484375 \r\nQ 23.390625 27.484375 19.1875 25 \r\nQ 14.984375 22.515625 14.984375 16.5 \r\nQ 14.984375 11.71875 18.140625 8.90625 \r\nQ 21.296875 6.109375 26.703125 6.109375 \r\nQ 34.1875 6.109375 38.703125 11.40625 \r\nQ 43.21875 16.703125 43.21875 25.484375 \r\nL 43.21875 27.484375 \r\nz\r\nM 52.203125 31.203125 \r\nL 52.203125 0 \r\nL 43.21875 0 \r\nL 43.21875 8.296875 \r\nQ 40.140625 3.328125 35.546875 0.953125 \r\nQ 30.953125 -1.421875 24.3125 -1.421875 \r\nQ 15.921875 -1.421875 10.953125 3.296875 \r\nQ 6 8.015625 6 15.921875 \r\nQ 6 25.140625 12.171875 29.828125 \r\nQ 18.359375 34.515625 30.609375 34.515625 \r\nL 43.21875 34.515625 \r\nL 43.21875 35.40625 \r\nQ 43.21875 41.609375 39.140625 45 \r\nQ 35.0625 48.390625 27.6875 48.390625 \r\nQ 23 48.390625 18.546875 47.265625 \r\nQ 14.109375 46.140625 10.015625 43.890625 \r\nL 10.015625 52.203125 \r\nQ 14.9375 54.109375 19.578125 55.046875 \r\nQ 24.21875 56 28.609375 56 \r\nQ 40.484375 56 46.34375 49.84375 \r\nQ 52.203125 43.703125 52.203125 31.203125 \r\nz\r\n\" id=\"DejaVuSans-97\"/>\r\n       <path d=\"M 44.28125 53.078125 \r\nL 44.28125 44.578125 \r\nQ 40.484375 46.53125 36.375 47.5 \r\nQ 32.28125 48.484375 27.875 48.484375 \r\nQ 21.1875 48.484375 17.84375 46.4375 \r\nQ 14.5 44.390625 14.5 40.28125 \r\nQ 14.5 37.15625 16.890625 35.375 \r\nQ 19.28125 33.59375 26.515625 31.984375 \r\nL 29.59375 31.296875 \r\nQ 39.15625 29.25 43.1875 25.515625 \r\nQ 47.21875 21.78125 47.21875 15.09375 \r\nQ 47.21875 7.46875 41.1875 3.015625 \r\nQ 35.15625 -1.421875 24.609375 -1.421875 \r\nQ 20.21875 -1.421875 15.453125 -0.5625 \r\nQ 10.6875 0.296875 5.421875 2 \r\nL 5.421875 11.28125 \r\nQ 10.40625 8.6875 15.234375 7.390625 \r\nQ 20.0625 6.109375 24.8125 6.109375 \r\nQ 31.15625 6.109375 34.5625 8.28125 \r\nQ 37.984375 10.453125 37.984375 14.40625 \r\nQ 37.984375 18.0625 35.515625 20.015625 \r\nQ 33.0625 21.96875 24.703125 23.78125 \r\nL 21.578125 24.515625 \r\nQ 13.234375 26.265625 9.515625 29.90625 \r\nQ 5.8125 33.546875 5.8125 39.890625 \r\nQ 5.8125 47.609375 11.28125 51.796875 \r\nQ 16.75 56 26.8125 56 \r\nQ 31.78125 56 36.171875 55.265625 \r\nQ 40.578125 54.546875 44.28125 53.078125 \r\nz\r\n\" id=\"DejaVuSans-115\"/>\r\n      </defs>\r\n      <g transform=\"translate(54.360938 21.871219)scale(0.1 -0.1)\">\r\n       <use xlink:href=\"#DejaVuSans-98\"/>\r\n       <use x=\"63.476562\" xlink:href=\"#DejaVuSans-105\"/>\r\n       <use x=\"91.259766\" xlink:href=\"#DejaVuSans-97\"/>\r\n       <use x=\"152.539062\" xlink:href=\"#DejaVuSans-115\"/>\r\n      </g>\r\n     </g>\r\n    </g>\r\n    <g id=\"ytick_2\">\r\n     <g id=\"line2d_8\">\r\n      <g>\r\n       <use style=\"stroke:#000000;stroke-width:0.8;\" x=\"81.825\" xlink:href=\"#m5b6e9bb2b0\" y=\"39.816\"/>\r\n      </g>\r\n     </g>\r\n     <g id=\"text_8\">\r\n      <!-- clickbait -->\r\n      <defs>\r\n       <path d=\"M 48.78125 52.59375 \r\nL 48.78125 44.1875 \r\nQ 44.96875 46.296875 41.140625 47.34375 \r\nQ 37.3125 48.390625 33.40625 48.390625 \r\nQ 24.65625 48.390625 19.8125 42.84375 \r\nQ 14.984375 37.3125 14.984375 27.296875 \r\nQ 14.984375 17.28125 19.8125 11.734375 \r\nQ 24.65625 6.203125 33.40625 6.203125 \r\nQ 37.3125 6.203125 41.140625 7.25 \r\nQ 44.96875 8.296875 48.78125 10.40625 \r\nL 48.78125 2.09375 \r\nQ 45.015625 0.34375 40.984375 -0.53125 \r\nQ 36.96875 -1.421875 32.421875 -1.421875 \r\nQ 20.0625 -1.421875 12.78125 6.34375 \r\nQ 5.515625 14.109375 5.515625 27.296875 \r\nQ 5.515625 40.671875 12.859375 48.328125 \r\nQ 20.21875 56 33.015625 56 \r\nQ 37.15625 56 41.109375 55.140625 \r\nQ 45.0625 54.296875 48.78125 52.59375 \r\nz\r\n\" id=\"DejaVuSans-99\"/>\r\n       <path d=\"M 9.421875 75.984375 \r\nL 18.40625 75.984375 \r\nL 18.40625 0 \r\nL 9.421875 0 \r\nz\r\n\" id=\"DejaVuSans-108\"/>\r\n       <path d=\"M 9.078125 75.984375 \r\nL 18.109375 75.984375 \r\nL 18.109375 31.109375 \r\nL 44.921875 54.6875 \r\nL 56.390625 54.6875 \r\nL 27.390625 29.109375 \r\nL 57.625 0 \r\nL 45.90625 0 \r\nL 18.109375 26.703125 \r\nL 18.109375 0 \r\nL 9.078125 0 \r\nz\r\n\" id=\"DejaVuSans-107\"/>\r\n       <path d=\"M 18.3125 70.21875 \r\nL 18.3125 54.6875 \r\nL 36.8125 54.6875 \r\nL 36.8125 47.703125 \r\nL 18.3125 47.703125 \r\nL 18.3125 18.015625 \r\nQ 18.3125 11.328125 20.140625 9.421875 \r\nQ 21.96875 7.515625 27.59375 7.515625 \r\nL 36.8125 7.515625 \r\nL 36.8125 0 \r\nL 27.59375 0 \r\nQ 17.1875 0 13.234375 3.875 \r\nQ 9.28125 7.765625 9.28125 18.015625 \r\nL 9.28125 47.703125 \r\nL 2.6875 47.703125 \r\nL 2.6875 54.6875 \r\nL 9.28125 54.6875 \r\nL 9.28125 70.21875 \r\nz\r\n\" id=\"DejaVuSans-116\"/>\r\n      </defs>\r\n      <g transform=\"translate(33.30625 43.615219)scale(0.1 -0.1)\">\r\n       <use xlink:href=\"#DejaVuSans-99\"/>\r\n       <use x=\"54.980469\" xlink:href=\"#DejaVuSans-108\"/>\r\n       <use x=\"82.763672\" xlink:href=\"#DejaVuSans-105\"/>\r\n       <use x=\"110.546875\" xlink:href=\"#DejaVuSans-99\"/>\r\n       <use x=\"165.527344\" xlink:href=\"#DejaVuSans-107\"/>\r\n       <use x=\"223.4375\" xlink:href=\"#DejaVuSans-98\"/>\r\n       <use x=\"286.914062\" xlink:href=\"#DejaVuSans-97\"/>\r\n       <use x=\"348.193359\" xlink:href=\"#DejaVuSans-105\"/>\r\n       <use x=\"375.976562\" xlink:href=\"#DejaVuSans-116\"/>\r\n      </g>\r\n     </g>\r\n    </g>\r\n    <g id=\"ytick_3\">\r\n     <g id=\"line2d_9\">\r\n      <g>\r\n       <use style=\"stroke:#000000;stroke-width:0.8;\" x=\"81.825\" xlink:href=\"#m5b6e9bb2b0\" y=\"61.56\"/>\r\n      </g>\r\n     </g>\r\n     <g id=\"text_9\">\r\n      <!-- conspiracy -->\r\n      <defs>\r\n       <path d=\"M 30.609375 48.390625 \r\nQ 23.390625 48.390625 19.1875 42.75 \r\nQ 14.984375 37.109375 14.984375 27.296875 \r\nQ 14.984375 17.484375 19.15625 11.84375 \r\nQ 23.34375 6.203125 30.609375 6.203125 \r\nQ 37.796875 6.203125 41.984375 11.859375 \r\nQ 46.1875 17.53125 46.1875 27.296875 \r\nQ 46.1875 37.015625 41.984375 42.703125 \r\nQ 37.796875 48.390625 30.609375 48.390625 \r\nz\r\nM 30.609375 56 \r\nQ 42.328125 56 49.015625 48.375 \r\nQ 55.71875 40.765625 55.71875 27.296875 \r\nQ 55.71875 13.875 49.015625 6.21875 \r\nQ 42.328125 -1.421875 30.609375 -1.421875 \r\nQ 18.84375 -1.421875 12.171875 6.21875 \r\nQ 5.515625 13.875 5.515625 27.296875 \r\nQ 5.515625 40.765625 12.171875 48.375 \r\nQ 18.84375 56 30.609375 56 \r\nz\r\n\" id=\"DejaVuSans-111\"/>\r\n       <path d=\"M 54.890625 33.015625 \r\nL 54.890625 0 \r\nL 45.90625 0 \r\nL 45.90625 32.71875 \r\nQ 45.90625 40.484375 42.875 44.328125 \r\nQ 39.84375 48.1875 33.796875 48.1875 \r\nQ 26.515625 48.1875 22.3125 43.546875 \r\nQ 18.109375 38.921875 18.109375 30.90625 \r\nL 18.109375 0 \r\nL 9.078125 0 \r\nL 9.078125 54.6875 \r\nL 18.109375 54.6875 \r\nL 18.109375 46.1875 \r\nQ 21.34375 51.125 25.703125 53.5625 \r\nQ 30.078125 56 35.796875 56 \r\nQ 45.21875 56 50.046875 50.171875 \r\nQ 54.890625 44.34375 54.890625 33.015625 \r\nz\r\n\" id=\"DejaVuSans-110\"/>\r\n       <path d=\"M 18.109375 8.203125 \r\nL 18.109375 -20.796875 \r\nL 9.078125 -20.796875 \r\nL 9.078125 54.6875 \r\nL 18.109375 54.6875 \r\nL 18.109375 46.390625 \r\nQ 20.953125 51.265625 25.265625 53.625 \r\nQ 29.59375 56 35.59375 56 \r\nQ 45.5625 56 51.78125 48.09375 \r\nQ 58.015625 40.1875 58.015625 27.296875 \r\nQ 58.015625 14.40625 51.78125 6.484375 \r\nQ 45.5625 -1.421875 35.59375 -1.421875 \r\nQ 29.59375 -1.421875 25.265625 0.953125 \r\nQ 20.953125 3.328125 18.109375 8.203125 \r\nz\r\nM 48.6875 27.296875 \r\nQ 48.6875 37.203125 44.609375 42.84375 \r\nQ 40.53125 48.484375 33.40625 48.484375 \r\nQ 26.265625 48.484375 22.1875 42.84375 \r\nQ 18.109375 37.203125 18.109375 27.296875 \r\nQ 18.109375 17.390625 22.1875 11.75 \r\nQ 26.265625 6.109375 33.40625 6.109375 \r\nQ 40.53125 6.109375 44.609375 11.75 \r\nQ 48.6875 17.390625 48.6875 27.296875 \r\nz\r\n\" id=\"DejaVuSans-112\"/>\r\n       <path d=\"M 41.109375 46.296875 \r\nQ 39.59375 47.171875 37.8125 47.578125 \r\nQ 36.03125 48 33.890625 48 \r\nQ 26.265625 48 22.1875 43.046875 \r\nQ 18.109375 38.09375 18.109375 28.8125 \r\nL 18.109375 0 \r\nL 9.078125 0 \r\nL 9.078125 54.6875 \r\nL 18.109375 54.6875 \r\nL 18.109375 46.1875 \r\nQ 20.953125 51.171875 25.484375 53.578125 \r\nQ 30.03125 56 36.53125 56 \r\nQ 37.453125 56 38.578125 55.875 \r\nQ 39.703125 55.765625 41.0625 55.515625 \r\nz\r\n\" id=\"DejaVuSans-114\"/>\r\n       <path d=\"M 32.171875 -5.078125 \r\nQ 28.375 -14.84375 24.75 -17.8125 \r\nQ 21.140625 -20.796875 15.09375 -20.796875 \r\nL 7.90625 -20.796875 \r\nL 7.90625 -13.28125 \r\nL 13.1875 -13.28125 \r\nQ 16.890625 -13.28125 18.9375 -11.515625 \r\nQ 21 -9.765625 23.484375 -3.21875 \r\nL 25.09375 0.875 \r\nL 2.984375 54.6875 \r\nL 12.5 54.6875 \r\nL 29.59375 11.921875 \r\nL 46.6875 54.6875 \r\nL 56.203125 54.6875 \r\nz\r\n\" id=\"DejaVuSans-121\"/>\r\n      </defs>\r\n      <g transform=\"translate(20.878125 65.359219)scale(0.1 -0.1)\">\r\n       <use xlink:href=\"#DejaVuSans-99\"/>\r\n       <use x=\"54.980469\" xlink:href=\"#DejaVuSans-111\"/>\r\n       <use x=\"116.162109\" xlink:href=\"#DejaVuSans-110\"/>\r\n       <use x=\"179.541016\" xlink:href=\"#DejaVuSans-115\"/>\r\n       <use x=\"231.640625\" xlink:href=\"#DejaVuSans-112\"/>\r\n       <use x=\"295.117188\" xlink:href=\"#DejaVuSans-105\"/>\r\n       <use x=\"322.900391\" xlink:href=\"#DejaVuSans-114\"/>\r\n       <use x=\"364.013672\" xlink:href=\"#DejaVuSans-97\"/>\r\n       <use x=\"425.292969\" xlink:href=\"#DejaVuSans-99\"/>\r\n       <use x=\"480.273438\" xlink:href=\"#DejaVuSans-121\"/>\r\n      </g>\r\n     </g>\r\n    </g>\r\n    <g id=\"ytick_4\">\r\n     <g id=\"line2d_10\">\r\n      <g>\r\n       <use style=\"stroke:#000000;stroke-width:0.8;\" x=\"81.825\" xlink:href=\"#m5b6e9bb2b0\" y=\"83.304\"/>\r\n      </g>\r\n     </g>\r\n     <g id=\"text_10\">\r\n      <!-- fake -->\r\n      <defs>\r\n       <path d=\"M 37.109375 75.984375 \r\nL 37.109375 68.5 \r\nL 28.515625 68.5 \r\nQ 23.6875 68.5 21.796875 66.546875 \r\nQ 19.921875 64.59375 19.921875 59.515625 \r\nL 19.921875 54.6875 \r\nL 34.71875 54.6875 \r\nL 34.71875 47.703125 \r\nL 19.921875 47.703125 \r\nL 19.921875 0 \r\nL 10.890625 0 \r\nL 10.890625 47.703125 \r\nL 2.296875 47.703125 \r\nL 2.296875 54.6875 \r\nL 10.890625 54.6875 \r\nL 10.890625 58.5 \r\nQ 10.890625 67.625 15.140625 71.796875 \r\nQ 19.390625 75.984375 28.609375 75.984375 \r\nz\r\n\" id=\"DejaVuSans-102\"/>\r\n       <path d=\"M 56.203125 29.59375 \r\nL 56.203125 25.203125 \r\nL 14.890625 25.203125 \r\nQ 15.484375 15.921875 20.484375 11.0625 \r\nQ 25.484375 6.203125 34.421875 6.203125 \r\nQ 39.59375 6.203125 44.453125 7.46875 \r\nQ 49.3125 8.734375 54.109375 11.28125 \r\nL 54.109375 2.78125 \r\nQ 49.265625 0.734375 44.1875 -0.34375 \r\nQ 39.109375 -1.421875 33.890625 -1.421875 \r\nQ 20.796875 -1.421875 13.15625 6.1875 \r\nQ 5.515625 13.8125 5.515625 26.8125 \r\nQ 5.515625 40.234375 12.765625 48.109375 \r\nQ 20.015625 56 32.328125 56 \r\nQ 43.359375 56 49.78125 48.890625 \r\nQ 56.203125 41.796875 56.203125 29.59375 \r\nz\r\nM 47.21875 32.234375 \r\nQ 47.125 39.59375 43.09375 43.984375 \r\nQ 39.0625 48.390625 32.421875 48.390625 \r\nQ 24.90625 48.390625 20.390625 44.140625 \r\nQ 15.875 39.890625 15.1875 32.171875 \r\nz\r\n\" id=\"DejaVuSans-101\"/>\r\n      </defs>\r\n      <g transform=\"translate(53.595313 87.103219)scale(0.1 -0.1)\">\r\n       <use xlink:href=\"#DejaVuSans-102\"/>\r\n       <use x=\"35.205078\" xlink:href=\"#DejaVuSans-97\"/>\r\n       <use x=\"96.484375\" xlink:href=\"#DejaVuSans-107\"/>\r\n       <use x=\"150.769531\" xlink:href=\"#DejaVuSans-101\"/>\r\n      </g>\r\n     </g>\r\n    </g>\r\n    <g id=\"ytick_5\">\r\n     <g id=\"line2d_11\">\r\n      <g>\r\n       <use style=\"stroke:#000000;stroke-width:0.8;\" x=\"81.825\" xlink:href=\"#m5b6e9bb2b0\" y=\"105.048\"/>\r\n      </g>\r\n     </g>\r\n     <g id=\"text_11\">\r\n      <!-- hate -->\r\n      <defs>\r\n       <path d=\"M 54.890625 33.015625 \r\nL 54.890625 0 \r\nL 45.90625 0 \r\nL 45.90625 32.71875 \r\nQ 45.90625 40.484375 42.875 44.328125 \r\nQ 39.84375 48.1875 33.796875 48.1875 \r\nQ 26.515625 48.1875 22.3125 43.546875 \r\nQ 18.109375 38.921875 18.109375 30.90625 \r\nL 18.109375 0 \r\nL 9.078125 0 \r\nL 9.078125 75.984375 \r\nL 18.109375 75.984375 \r\nL 18.109375 46.1875 \r\nQ 21.34375 51.125 25.703125 53.5625 \r\nQ 30.078125 56 35.796875 56 \r\nQ 45.21875 56 50.046875 50.171875 \r\nQ 54.890625 44.34375 54.890625 33.015625 \r\nz\r\n\" id=\"DejaVuSans-104\"/>\r\n      </defs>\r\n      <g transform=\"translate(52.285938 108.847219)scale(0.1 -0.1)\">\r\n       <use xlink:href=\"#DejaVuSans-104\"/>\r\n       <use x=\"63.378906\" xlink:href=\"#DejaVuSans-97\"/>\r\n       <use x=\"124.658203\" xlink:href=\"#DejaVuSans-116\"/>\r\n       <use x=\"163.867188\" xlink:href=\"#DejaVuSans-101\"/>\r\n      </g>\r\n     </g>\r\n    </g>\r\n    <g id=\"ytick_6\">\r\n     <g id=\"line2d_12\">\r\n      <g>\r\n       <use style=\"stroke:#000000;stroke-width:0.8;\" x=\"81.825\" xlink:href=\"#m5b6e9bb2b0\" y=\"126.792\"/>\r\n      </g>\r\n     </g>\r\n     <g id=\"text_12\">\r\n      <!-- junksci -->\r\n      <defs>\r\n       <path d=\"M 9.421875 54.6875 \r\nL 18.40625 54.6875 \r\nL 18.40625 -0.984375 \r\nQ 18.40625 -11.421875 14.421875 -16.109375 \r\nQ 10.453125 -20.796875 1.609375 -20.796875 \r\nL -1.8125 -20.796875 \r\nL -1.8125 -13.1875 \r\nL 0.59375 -13.1875 \r\nQ 5.71875 -13.1875 7.5625 -10.8125 \r\nQ 9.421875 -8.453125 9.421875 -0.984375 \r\nz\r\nM 9.421875 75.984375 \r\nL 18.40625 75.984375 \r\nL 18.40625 64.59375 \r\nL 9.421875 64.59375 \r\nz\r\n\" id=\"DejaVuSans-106\"/>\r\n       <path d=\"M 8.5 21.578125 \r\nL 8.5 54.6875 \r\nL 17.484375 54.6875 \r\nL 17.484375 21.921875 \r\nQ 17.484375 14.15625 20.5 10.265625 \r\nQ 23.53125 6.390625 29.59375 6.390625 \r\nQ 36.859375 6.390625 41.078125 11.03125 \r\nQ 45.3125 15.671875 45.3125 23.6875 \r\nL 45.3125 54.6875 \r\nL 54.296875 54.6875 \r\nL 54.296875 0 \r\nL 45.3125 0 \r\nL 45.3125 8.40625 \r\nQ 42.046875 3.421875 37.71875 1 \r\nQ 33.40625 -1.421875 27.6875 -1.421875 \r\nQ 18.265625 -1.421875 13.375 4.4375 \r\nQ 8.5 10.296875 8.5 21.578125 \r\nz\r\nM 31.109375 56 \r\nz\r\n\" id=\"DejaVuSans-117\"/>\r\n      </defs>\r\n      <g transform=\"translate(40.095313 130.591219)scale(0.1 -0.1)\">\r\n       <use xlink:href=\"#DejaVuSans-106\"/>\r\n       <use x=\"27.783203\" xlink:href=\"#DejaVuSans-117\"/>\r\n       <use x=\"91.162109\" xlink:href=\"#DejaVuSans-110\"/>\r\n       <use x=\"154.541016\" xlink:href=\"#DejaVuSans-107\"/>\r\n       <use x=\"212.451172\" xlink:href=\"#DejaVuSans-115\"/>\r\n       <use x=\"264.550781\" xlink:href=\"#DejaVuSans-99\"/>\r\n       <use x=\"319.53125\" xlink:href=\"#DejaVuSans-105\"/>\r\n      </g>\r\n     </g>\r\n    </g>\r\n    <g id=\"ytick_7\">\r\n     <g id=\"line2d_13\">\r\n      <g>\r\n       <use style=\"stroke:#000000;stroke-width:0.8;\" x=\"81.825\" xlink:href=\"#m5b6e9bb2b0\" y=\"148.536\"/>\r\n      </g>\r\n     </g>\r\n     <g id=\"text_13\">\r\n      <!-- political -->\r\n      <g transform=\"translate(35.698438 152.335219)scale(0.1 -0.1)\">\r\n       <use xlink:href=\"#DejaVuSans-112\"/>\r\n       <use x=\"63.476562\" xlink:href=\"#DejaVuSans-111\"/>\r\n       <use x=\"124.658203\" xlink:href=\"#DejaVuSans-108\"/>\r\n       <use x=\"152.441406\" xlink:href=\"#DejaVuSans-105\"/>\r\n       <use x=\"180.224609\" xlink:href=\"#DejaVuSans-116\"/>\r\n       <use x=\"219.433594\" xlink:href=\"#DejaVuSans-105\"/>\r\n       <use x=\"247.216797\" xlink:href=\"#DejaVuSans-99\"/>\r\n       <use x=\"302.197266\" xlink:href=\"#DejaVuSans-97\"/>\r\n       <use x=\"363.476562\" xlink:href=\"#DejaVuSans-108\"/>\r\n      </g>\r\n     </g>\r\n    </g>\r\n    <g id=\"ytick_8\">\r\n     <g id=\"line2d_14\">\r\n      <g>\r\n       <use style=\"stroke:#000000;stroke-width:0.8;\" x=\"81.825\" xlink:href=\"#m5b6e9bb2b0\" y=\"170.28\"/>\r\n      </g>\r\n     </g>\r\n     <g id=\"text_14\">\r\n      <!-- reliable -->\r\n      <g transform=\"translate(37.821875 174.079219)scale(0.1 -0.1)\">\r\n       <use xlink:href=\"#DejaVuSans-114\"/>\r\n       <use x=\"38.863281\" xlink:href=\"#DejaVuSans-101\"/>\r\n       <use x=\"100.386719\" xlink:href=\"#DejaVuSans-108\"/>\r\n       <use x=\"128.169922\" xlink:href=\"#DejaVuSans-105\"/>\r\n       <use x=\"155.953125\" xlink:href=\"#DejaVuSans-97\"/>\r\n       <use x=\"217.232422\" xlink:href=\"#DejaVuSans-98\"/>\r\n       <use x=\"280.708984\" xlink:href=\"#DejaVuSans-108\"/>\r\n       <use x=\"308.492188\" xlink:href=\"#DejaVuSans-101\"/>\r\n      </g>\r\n     </g>\r\n    </g>\r\n    <g id=\"ytick_9\">\r\n     <g id=\"line2d_15\">\r\n      <g>\r\n       <use style=\"stroke:#000000;stroke-width:0.8;\" x=\"81.825\" xlink:href=\"#m5b6e9bb2b0\" y=\"192.024\"/>\r\n      </g>\r\n     </g>\r\n     <g id=\"text_15\">\r\n      <!-- satire -->\r\n      <g transform=\"translate(46.75 195.823219)scale(0.1 -0.1)\">\r\n       <use xlink:href=\"#DejaVuSans-115\"/>\r\n       <use x=\"52.099609\" xlink:href=\"#DejaVuSans-97\"/>\r\n       <use x=\"113.378906\" xlink:href=\"#DejaVuSans-116\"/>\r\n       <use x=\"152.587891\" xlink:href=\"#DejaVuSans-105\"/>\r\n       <use x=\"180.371094\" xlink:href=\"#DejaVuSans-114\"/>\r\n       <use x=\"219.234375\" xlink:href=\"#DejaVuSans-101\"/>\r\n      </g>\r\n     </g>\r\n    </g>\r\n    <g id=\"ytick_10\">\r\n     <g id=\"line2d_16\">\r\n      <g>\r\n       <use style=\"stroke:#000000;stroke-width:0.8;\" x=\"81.825\" xlink:href=\"#m5b6e9bb2b0\" y=\"213.768\"/>\r\n      </g>\r\n     </g>\r\n     <g id=\"text_16\">\r\n      <!-- unreliable -->\r\n      <g transform=\"translate(25.146875 217.567219)scale(0.1 -0.1)\">\r\n       <use xlink:href=\"#DejaVuSans-117\"/>\r\n       <use x=\"63.378906\" xlink:href=\"#DejaVuSans-110\"/>\r\n       <use x=\"126.757812\" xlink:href=\"#DejaVuSans-114\"/>\r\n       <use x=\"165.621094\" xlink:href=\"#DejaVuSans-101\"/>\r\n       <use x=\"227.144531\" xlink:href=\"#DejaVuSans-108\"/>\r\n       <use x=\"254.927734\" xlink:href=\"#DejaVuSans-105\"/>\r\n       <use x=\"282.710938\" xlink:href=\"#DejaVuSans-97\"/>\r\n       <use x=\"343.990234\" xlink:href=\"#DejaVuSans-98\"/>\r\n       <use x=\"407.466797\" xlink:href=\"#DejaVuSans-108\"/>\r\n       <use x=\"435.25\" xlink:href=\"#DejaVuSans-101\"/>\r\n      </g>\r\n     </g>\r\n    </g>\r\n    <g id=\"text_17\">\r\n     <!-- type -->\r\n     <g transform=\"translate(14.798438 127.090312)rotate(-90)scale(0.1 -0.1)\">\r\n      <use xlink:href=\"#DejaVuSans-116\"/>\r\n      <use x=\"39.208984\" xlink:href=\"#DejaVuSans-121\"/>\r\n      <use x=\"98.388672\" xlink:href=\"#DejaVuSans-112\"/>\r\n      <use x=\"161.865234\" xlink:href=\"#DejaVuSans-101\"/>\r\n     </g>\r\n    </g>\r\n   </g>\r\n   <g id=\"line2d_17\">\r\n    <path clip-path=\"url(#p4f4a2146fe)\" d=\"M 0 0 \r\n\" style=\"fill:none;stroke:#424242;stroke-linecap:square;stroke-width:2.7;\"/>\r\n   </g>\r\n   <g id=\"line2d_18\">\r\n    <path clip-path=\"url(#p4f4a2146fe)\" d=\"M 0 0 \r\n\" style=\"fill:none;stroke:#424242;stroke-linecap:square;stroke-width:2.7;\"/>\r\n   </g>\r\n   <g id=\"line2d_19\">\r\n    <path clip-path=\"url(#p4f4a2146fe)\" d=\"M 0 0 \r\n\" style=\"fill:none;stroke:#424242;stroke-linecap:square;stroke-width:2.7;\"/>\r\n   </g>\r\n   <g id=\"line2d_20\">\r\n    <path clip-path=\"url(#p4f4a2146fe)\" d=\"M 0 0 \r\n\" style=\"fill:none;stroke:#424242;stroke-linecap:square;stroke-width:2.7;\"/>\r\n   </g>\r\n   <g id=\"line2d_21\">\r\n    <path clip-path=\"url(#p4f4a2146fe)\" d=\"M 0 0 \r\n\" style=\"fill:none;stroke:#424242;stroke-linecap:square;stroke-width:2.7;\"/>\r\n   </g>\r\n   <g id=\"line2d_22\">\r\n    <path clip-path=\"url(#p4f4a2146fe)\" d=\"M 0 0 \r\n\" style=\"fill:none;stroke:#424242;stroke-linecap:square;stroke-width:2.7;\"/>\r\n   </g>\r\n   <g id=\"line2d_23\">\r\n    <path clip-path=\"url(#p4f4a2146fe)\" d=\"M 0 0 \r\n\" style=\"fill:none;stroke:#424242;stroke-linecap:square;stroke-width:2.7;\"/>\r\n   </g>\r\n   <g id=\"line2d_24\">\r\n    <path clip-path=\"url(#p4f4a2146fe)\" d=\"M 0 0 \r\n\" style=\"fill:none;stroke:#424242;stroke-linecap:square;stroke-width:2.7;\"/>\r\n   </g>\r\n   <g id=\"line2d_25\">\r\n    <path clip-path=\"url(#p4f4a2146fe)\" d=\"M 0 0 \r\n\" style=\"fill:none;stroke:#424242;stroke-linecap:square;stroke-width:2.7;\"/>\r\n   </g>\r\n   <g id=\"line2d_26\">\r\n    <path clip-path=\"url(#p4f4a2146fe)\" d=\"M 0 0 \r\n\" style=\"fill:none;stroke:#424242;stroke-linecap:square;stroke-width:2.7;\"/>\r\n   </g>\r\n   <g id=\"patch_13\">\r\n    <path d=\"M 81.825 224.64 \r\nL 81.825 7.2 \r\n\" style=\"fill:none;stroke:#000000;stroke-linecap:square;stroke-linejoin:miter;stroke-width:0.8;\"/>\r\n   </g>\r\n   <g id=\"patch_14\">\r\n    <path d=\"M 416.625 224.64 \r\nL 416.625 7.2 \r\n\" style=\"fill:none;stroke:#000000;stroke-linecap:square;stroke-linejoin:miter;stroke-width:0.8;\"/>\r\n   </g>\r\n   <g id=\"patch_15\">\r\n    <path d=\"M 81.825 224.64 \r\nL 416.625 224.64 \r\n\" style=\"fill:none;stroke:#000000;stroke-linecap:square;stroke-linejoin:miter;stroke-width:0.8;\"/>\r\n   </g>\r\n   <g id=\"patch_16\">\r\n    <path d=\"M 81.825 7.2 \r\nL 416.625 7.2 \r\n\" style=\"fill:none;stroke:#000000;stroke-linecap:square;stroke-linejoin:miter;stroke-width:0.8;\"/>\r\n   </g>\r\n  </g>\r\n </g>\r\n <defs>\r\n  <clipPath id=\"p4f4a2146fe\">\r\n   <rect height=\"217.44\" width=\"334.8\" x=\"81.825\" y=\"7.2\"/>\r\n  </clipPath>\r\n </defs>\r\n</svg>\r\n",
      "image/png": "[encoded data removed]"
     },
     "metadata": {
      "needs_background": "light"
     }
    }
   ],
   "source": [
    "### Show info about sub-dataset ###\n",
    "\n",
    "# Show rows for each type\n",
    "types = df.groupby('type').content.count()\n",
    "sns.barplot(types.values, types.index)\n",
    "\n",
    "# Show \"descibe\" data\n",
    "describe_df = df.describe(include=[np.object]).head(2)\n",
    "nan_df = df.isna().sum()\n",
    "describe_df.loc['missing'] = nan_df\n",
    "describe_df"
   ]
  },
  {
   "cell_type": "code",
   "execution_count": 174,
   "metadata": {},
   "outputs": [],
   "source": [
    "### REMOVE AND REPLACE -> NaN/Empty elmements ###\n",
    "\n",
    "# Remove rows where columns are NaN\n",
    "df.dropna(subset=['title'])\n",
    "\n",
    "# Replace NaN-elements with 'NULL'\n",
    "df = df.fillna('NULL')\n",
    "\n",
    "# Replace \"['']\" - these are NaN \n",
    "regex = r\"\\[''\\]\"\n",
    "df['meta_keywords'] = df['meta_keywords'].replace(to_replace=regex, value='NULL', regex=True)\n",
    "\n",
    "# Replace '_' or '' (empty str) from \"string-like\" columns - these are NaN\n",
    "regex = r\"^$|^ +\"\n",
    "columns = ['domain', 'type', 'url', 'content', 'title', 'authors', 'keywords', 'meta_description', 'tags', 'summary', 'source']\n",
    "df[columns] = df[columns].replace(to_replace=regex, value='NULL', regex=True)"
   ]
  },
  {
   "cell_type": "markdown",
   "metadata": {},
   "source": [
    "### Dataset Preparation\n",
    "\n",
    "Here we start the cleaning process. There are a lot of steps and the code can be a little complicated. Some steps have to be before others as they overrule the previous \n",
    "\n",
    "- how to implement is still up for debate as it can be smart to use small cells for each step or get all in one big cleaning step but display when they are done\n",
    "- **READ** all excersice 1-7 on KU\n",
    "\n",
    "### Common data cleaning steps\n",
    "- make text all lower case\n",
    "- remove puntuiation\n",
    "- remove numerical values\n",
    "- remove common non-sensial text(/n)\n",
    "- tokanize text\n",
    "\n",
    "### # steps that need to be included\n",
    "- -NUM -DATE -EMAIL -URL\n",
    "- replace nan with 'NULL'\n",
    "\n",
    "### Text blob cleaning\n",
    "The first cleaning-step is wokring on text blobs ie. all text at the same time"
   ]
  },
  {
   "cell_type": "code",
   "execution_count": 239,
   "metadata": {
    "tags": [
     "outputPrepend"
    ]
   },
   "outputs": [
    {
     "output_type": "stream",
     "name": "stdout",
     "text": "9115    by Hadding Scott THIS POST APPEARS on Dinesh D...\n9246    From the Archive: Some loyalists still defend ...\n1529    Raw content\\n\\nCONFIDENTIAL PAGE 01 KUWAIT 014...\n4849    \\n\\nAfter over ten hours of contentious debate...\n2370    Institute for Historical Review\\n\\nThirteenth ...\n8263    Raw content\\n\\nCONFIDENTIAL PAGE 01 BUENOS 047...\n433     Yesterday, the AFP reported deputy State Depar...\n6633    Wall Street Angry that Trump Says Restore Glas...\n6949    #Nicholas Mahut and Pierre-Hugues Herbert qual...\n8613    Since the start of 2017, it was like the music...\nName: content, dtype: object\n'Institute for Historical Review\\n\\nThirteenth IHR Conference, May 27-29, 2000\\n\\n[This event is now over.]\\n\\nIf you are a revisionist, you should have been at the May 2000 International Revisionist Conference, sponsored by the IHR. Here are the details:\\n\\nPre-Conference information\\n\\nPost-Conference coverage\\n\\nA report on the Conference in the IHR Update newsletter\\n\\nnewsletter A report on the Conference from the Journal of Historical Review\\n\\nConference presentations as published in the JHR\\n\\nMark Weber. \"\\'The Conference of the Persecuted\\',\" The Journal of Historical Review, volume 19 no. 3 (May/June 2000), p. 12. A bulwark of truth and sanity against the enemies of free speech (13th IHR Conference keynote address).'\n"
    }
   ],
   "source": [
    "r = 1\n",
    "m = 4\n",
    "mutl_sample = df['content'].sample(10, random_state=r)\n",
    "print(mutl_sample)\n",
    "\n",
    "print(repr(mutl_sample.iloc[m]))"
   ]
  },
  {
   "cell_type": "code",
   "execution_count": 240,
   "metadata": {},
   "outputs": [
    {
     "output_type": "stream",
     "name": "stdout",
     "text": "\n (lower_cast)\nWall time: 1 ms\n\n (Email_replace)\nWall time: 2 ms\n\n (URL_replace)\nWall time: 6 ms\n\n (HTML_replace)\nWall time: 0 ns\n\n (Date_replace)\nWall time: 15 ms\n\n (New_line_remove)\nWall time: 0 ns\n\n (Punctuation_remove)\nWall time: 0 ns\n\n (Non_ASCII_remove)\nWall time: 0 ns\n\n (Done cleaning)\n[before]\n '940 SHARES Facebook Twitter Reddit Stumbleupon Pinterest\\n\\n\\n\\n\\n\\n\\n\\n\\n\\nNo matter how they try, conservatives and other assorted right wingers just cannot accept the fact that President Obama was elected twice by large margins and may well go down in history as one of the most effective Presidents in recent memory. They hate the guy, and more than anything, they hate the color of his skin.\\n\\nSo it should come as no surprise that on a Facebook page called “Resistance: The Last Line of Defense,” this poll was recently posted:\\n\\nBut wait, it gets even worse. When a writer with the website Addicting Info asked why they had such a racist poll on their page and even questioned their poll choices, this is what happened:\\n\\n332 people responded to the poll that was posted, and here are the less-than-scientific results:\\n\\nContinue reading below the advertisement\\n\\n\\n\\n\\n\\n\\n\\nAnd they want us to believe they hate him most for his “shredding of the Constitution?” Please! They hate him for his skin color and didn’t want to get caught saying so where others might see them voting that way. Sad part is, most of these ignorant asshats who think this way are too stupid to even know what President Obama has done to help them and others in the country. All they understand is hate, and they’ve got that one down cold.\\n\\nh/t AddictingInfo\\n\\nFeatured Image Via Wikimedia\\n\\n940 SHARES Facebook Twitter Reddit Stumbleupon Pinterest' \n\n[After]\n 'institute for historical review  thirteenth ihr conference  DATE   NUM   this event is now over  if you are a revisionist you should have been at the  DATE international revisionist conference sponsored by the ihr here are the details  preconference information  postconference coverage  a report on the conference in the ihr update newsletter  newsletter a report on the conference from the journal of historical review  conference presentations as published in the jhr  mark weber the conference of the persecuted the journal of historical review volume  NUM  no 3  DATE  NUM  p  NUM  a bulwark of truth and sanity against the enemies of free speech  NUM th ihr conference keynote address'\n"
    }
   ],
   "source": [
    "# # working with content as a series\n",
    "# series_content = df['content']\n",
    "\n",
    "### DEBUG SETUP - COMPARE CLEAN VS NON_CLEAN ###\n",
    "series_content = mutl_sample\n",
    "### DEBUG SETUP - COMPARE CLEAN VS NON_CLEAN ###\n",
    "\n",
    "### Order matters - (not final order of pipeline)\n",
    "### Overall preprocessing\n",
    "\n",
    "# lower_cast - NEEDED? - DONE by many libs\n",
    "%time print(\"\\n (lower_cast)\"); series_content = series_content.str.lower()\n",
    "\n",
    "### replace [name] with tokens in text ###\n",
    "\n",
    "# Email_replace\n",
    "regexEmail = r\"[a-zA-Z_-]+@[a-zA-Z_-]+(?:\\.[a-zA-Z]{2,4}){1,3}\"\n",
    "%time print(\"\\n (Email_replace)\"); series_content = series_content.replace(to_replace=regexEmail, value=' <EMAIL> ', regex=True)\n",
    "\n",
    "# replace URLs  with token\n",
    "regexURL= r\"(?:https?:\\/\\/)?(?:www\\.)?([^@\\s]+\\.[a-zA-Z]{2,4})[^\\s]*\"\n",
    "%time print(\"\\n (URL_replace)\"); series_content = series_content.replace(to_replace=regexURL, value=' <URL> ', regex=True)\n",
    "\n",
    "# HTML_replace\n",
    "regexHTML = r\"<\\s*a[^>]*>(.*?)<\\s*/\\s*a>\"\n",
    "%time print(\"\\n (HTML_replace)\"); series_content = series_content.replace(to_replace=regexHTML, value=' <HTML> ', regex=True)\n",
    "\n",
    "# Date_replace - NOT DONE\n",
    "# - name         (jan(?:uary)?|Feb(?:ruary)?|Mar(?:ch)?|Apr(?:il)?|May|Jun(?:e)?|Jul(?:y)?|Aug(?:ust)?|Sep(?:tember)?|Oct(?:ober)?|Nov(?:ember)?|Dec(?:ember)?)\n",
    "# - day in month ([12]\\d|3[01]|0?[1-9]) - Day 0-31\n",
    "# - year         ([12][0-9]{3})         - Years from 1000 to 2999\n",
    "regexDate = r\"(((19[7-9]\\d|20\\d{2})|(?:jan(?:uary)?|feb(?:ruary)?|mar(?:ch)?|apr(?:il)?|may|jun(?:e)?|jul(?:y)?|aug(?:ust)?|sep(?:tember)?|oct(?:ober)?|(nov|dec)(?:ember)?)|(([12][0-9])|(3[01])|(0?[1-9])))[\\/. \\-,\\n]){2,3}\"\n",
    "%time print(\"\\n (Date_replace)\"); series_content = series_content.replace(to_replace=regexDate, value=' <DATE> ', regex=True)\n",
    "\n",
    "# Number_replace\n",
    "regexNum = r\"[0-9][0-9,\\.]+\" # nums with [0-9] and [,.]\n",
    "series_content = series_content.replace(to_replace=regexNum, value=' <NUM> ', regex=True)\n",
    "\n",
    "### string removal functions ###\n",
    "# New_line_remove\n",
    "regexNEWLINE = r\"\\n|\\\\n\"\n",
    "%time print(\"\\n (New_line_remove)\"); series_content = series_content.replace(to_replace=regexNEWLINE, value=' ', regex=True)\n",
    "\n",
    "# Punctuation_remove\n",
    "regexPunkt = r\"[!“”\\\"#$%&()*+,\\-–.…\\/:;<=>?@[\\\\\\]^_`{|}~'\\’\\']\" # also removes: \" ' \" which means ie. it's -> its - remove \\' from regwex if not needed\n",
    "%time print(\"\\n (Punctuation_remove)\"); series_content = series_content.replace(to_replace=regexPunkt, value='', regex=True)\n",
    "\n",
    "# Non_ASCII_remove - Maybe a step too much\n",
    "%time print(\"\\n (Non_ASCII_remove)\"); series_content = series_content.str.encode('ascii', 'ignore').str.decode('ascii')\n",
    "\n",
    "# After all steps\n",
    "print(\"\\n (Done cleaning)\")\n",
    "\n",
    "### DEBUG PRINT - COMPARE CLEAN VS NON_CLEAN ###\n",
    "print(\"[before]\\n\", repr(before.iloc[m]), \"\\n\\n[After]\\n\", repr(series_content.iloc[m]) )\n",
    "### DEBUG PRINT - COMPARE CLEAN VS NON_CLEAN ###"
   ]
  },
  {
   "cell_type": "markdown",
   "metadata": {},
   "source": [
    "## Cleaning for other colums"
   ]
  },
  {
   "cell_type": "code",
   "execution_count": 8,
   "metadata": {},
   "outputs": [],
   "source": [
    "# to-do add case for words line Niel's thois is pt transalted into Niels\n",
    "\n",
    "# Clean meta keywords representation\n",
    "regexStrList = r\"\\[\"\n",
    "df['meta_keywords'] = df['meta_keywords'].replace(to_replace=regexStrList, value='{', regex=True)\n",
    "regexStrList = r\"\\]\"\n",
    "df['meta_keywords'] = df['meta_keywords'].replace(to_replace=regexStrList, value='}', regex=True)"
   ]
  },
  {
   "cell_type": "markdown",
   "metadata": {},
   "source": [
    "## insert and write csv"
   ]
  },
  {
   "cell_type": "code",
   "execution_count": 170,
   "metadata": {},
   "outputs": [],
   "source": [
    "# Insert series with changes into dataframe write csv-file\n",
    "\n",
    "token_list_series = series_content.str.split()\n",
    "\n",
    "df['content_tokenize'] = token_list_series\n",
    "\n",
    "\n",
    "df['content'] = series_content\n",
    "\n",
    "# write csv\n",
    "df.to_csv('../Data_git_ignore/clean_corpus.csv', index=True, header=True)"
   ]
  },
  {
   "cell_type": "markdown",
   "metadata": {},
   "source": [
    "# BELOW IS JUNK BUT DON*T DELETE"
   ]
  },
  {
   "cell_type": "code",
   "execution_count": 12,
   "metadata": {},
   "outputs": [],
   "source": [
    "# series_content[series_content['content'].apply(regexDate)]\n",
    "\n",
    "df =series_content.str.extract(r\"(?:https?:\\/\\/)?(?:www\\.)?([^@\\s]+\\.[a-zA-Z]{2,4})[^\\s]*\").isnull()"
   ]
  },
  {
   "cell_type": "code",
   "execution_count": 13,
   "metadata": {},
   "outputs": [
    {
     "output_type": "error",
     "ename": "NameError",
     "evalue": "name 'df1' is not defined",
     "traceback": [
      "\u001b[1;31m---------------------------------------------------------------------------\u001b[0m",
      "\u001b[1;31mNameError\u001b[0m                                 Traceback (most recent call last)",
      "\u001b[1;32m<ipython-input-13-07d54acf74ab>\u001b[0m in \u001b[0;36m<module>\u001b[1;34m\u001b[0m\n\u001b[1;32m----> 1\u001b[1;33m \u001b[0mdf1\u001b[0m\u001b[1;33m[\u001b[0m\u001b[1;34m'mask'\u001b[0m\u001b[1;33m]\u001b[0m \u001b[1;33m=\u001b[0m \u001b[0mseries_content\u001b[0m\u001b[1;33m.\u001b[0m\u001b[0mstr\u001b[0m\u001b[1;33m.\u001b[0m\u001b[0mcontains\u001b[0m\u001b[1;33m(\u001b[0m\u001b[1;34m'(\\d+[A-Z]+\\d+)'\u001b[0m\u001b[1;33m)\u001b[0m\u001b[1;33m\u001b[0m\u001b[1;33m\u001b[0m\u001b[0m\n\u001b[0m",
      "\u001b[1;31mNameError\u001b[0m: name 'df1' is not defined"
     ]
    }
   ],
   "source": [
    "df1['mask'] = series_content.str.contains('(\\d+[A-Z]+\\d+)')\n"
   ]
  },
  {
   "cell_type": "code",
   "execution_count": 14,
   "metadata": {},
   "outputs": [],
   "source": [
    "pat = r\"(?:https?:\\/\\/)?(?:www\\.)?([^@\\s]+\\.[a-zA-Z]{2,4})[^\\s]*\"\n",
    "df_bool = series_content.str.contains(pat)"
   ]
  },
  {
   "cell_type": "code",
   "execution_count": 15,
   "metadata": {},
   "outputs": [],
   "source": [
    "result = pd.DataFrame(series_content.str.extract(r'([\\d]+)',expand=False))\n"
   ]
  },
  {
   "cell_type": "code",
   "execution_count": 16,
   "metadata": {},
   "outputs": [
    {
     "output_type": "stream",
     "name": "stdout",
     "text": "Elapsed time: 7.1143198 7.0204658\n"
    }
   ],
   "source": [
    "from time import perf_counter \n",
    "t1_start = perf_counter()  \n",
    "# replace URLs  with token\n",
    "regexURL= r\"(?:https?:\\/\\/)?(?:www\\.)?([^@\\s]+\\.[a-zA-Z]{2,4})[^\\s]*\"\n",
    "series_content = series_content.replace(to_replace=regexURL, value='<URL>', regex=True)\n",
    "\n",
    "# Stop the stopwatch / counter \n",
    "t1_stop = perf_counter() \n",
    "  \n",
    "print(\"Elapsed time:\", t1_stop, t1_start)  "
   ]
  },
  {
   "cell_type": "code",
   "execution_count": 17,
   "metadata": {},
   "outputs": [],
   "source": [
    "import time\n",
    " \n",
    "class MeasureDuration:\n",
    "    def __init__(self):\n",
    "        self.start = None\n",
    "        self.end = None\n",
    " \n",
    "    def __enter__(self):\n",
    "        self.start = time.time()\n",
    "        return self\n",
    " \n",
    "    def __exit__(self, exc_type, exc_val, exc_tb):\n",
    "        self.end = time.time()\n",
    "        print(\"Total time taken: %s\" % self.duration())\n",
    " \n",
    "    def duration(self):\n",
    "        return str((self.end - self.start) * 1000) + ' milliseconds'"
   ]
  },
  {
   "cell_type": "code",
   "execution_count": 18,
   "metadata": {},
   "outputs": [],
   "source": [
    "from time import time\n",
    "\n",
    "class Timer():\n",
    "    def __init__(self, message):\n",
    "        self.message = message\n",
    "    def __enter__(self):\n",
    "        self.start = time()\n",
    "        return None  # could return anything, to be used like this: with Timer(\"Message\") as value:\n",
    "    def __exit__(self, type, value, traceback):\n",
    "        elapsed_time = (time() - self.start) * 1000\n",
    "        print(self.message.format(elapsed_time))"
   ]
  },
  {
   "cell_type": "code",
   "execution_count": 19,
   "metadata": {},
   "outputs": [
    {
     "output_type": "error",
     "ename": "AttributeError",
     "evalue": "'Series' object has no attribute 'swifter'",
     "traceback": [
      "\u001b[1;31m---------------------------------------------------------------------------\u001b[0m",
      "\u001b[1;31mAttributeError\u001b[0m                            Traceback (most recent call last)",
      "\u001b[1;32m<ipython-input-19-cc013d598407>\u001b[0m in \u001b[0;36m<module>\u001b[1;34m\u001b[0m\n\u001b[0;32m      4\u001b[0m \u001b[0mdf\u001b[0m\u001b[1;33m[\u001b[0m\u001b[1;34m'x2'\u001b[0m\u001b[1;33m]\u001b[0m \u001b[1;33m=\u001b[0m \u001b[0mdf\u001b[0m\u001b[1;33m[\u001b[0m\u001b[1;34m'x'\u001b[0m\u001b[1;33m]\u001b[0m\u001b[1;33m.\u001b[0m\u001b[0mapply\u001b[0m\u001b[1;33m(\u001b[0m\u001b[1;32mlambda\u001b[0m \u001b[0mx\u001b[0m\u001b[1;33m:\u001b[0m \u001b[0mx\u001b[0m\u001b[1;33m**\u001b[0m\u001b[1;36m2\u001b[0m\u001b[1;33m)\u001b[0m\u001b[1;33m\u001b[0m\u001b[1;33m\u001b[0m\u001b[0m\n\u001b[0;32m      5\u001b[0m \u001b[1;31m# runs on multiple cores\u001b[0m\u001b[1;33m\u001b[0m\u001b[1;33m\u001b[0m\u001b[1;33m\u001b[0m\u001b[0m\n\u001b[1;32m----> 6\u001b[1;33m \u001b[0mdf\u001b[0m\u001b[1;33m[\u001b[0m\u001b[1;34m'x2'\u001b[0m\u001b[1;33m]\u001b[0m \u001b[1;33m=\u001b[0m \u001b[0mdf\u001b[0m\u001b[1;33m[\u001b[0m\u001b[1;34m'x'\u001b[0m\u001b[1;33m]\u001b[0m\u001b[1;33m.\u001b[0m\u001b[0mswifter\u001b[0m\u001b[1;33m.\u001b[0m\u001b[0mapply\u001b[0m\u001b[1;33m(\u001b[0m\u001b[1;32mlambda\u001b[0m \u001b[0mx\u001b[0m\u001b[1;33m:\u001b[0m \u001b[0mx\u001b[0m\u001b[1;33m**\u001b[0m\u001b[1;36m2\u001b[0m\u001b[1;33m)\u001b[0m\u001b[1;33m\u001b[0m\u001b[1;33m\u001b[0m\u001b[0m\n\u001b[0m",
      "\u001b[1;32m~\\anaconda3\\envs\\DS\\lib\\site-packages\\pandas\\core\\generic.py\u001b[0m in \u001b[0;36m__getattr__\u001b[1;34m(self, name)\u001b[0m\n\u001b[0;32m   5272\u001b[0m             \u001b[1;32mif\u001b[0m \u001b[0mself\u001b[0m\u001b[1;33m.\u001b[0m\u001b[0m_info_axis\u001b[0m\u001b[1;33m.\u001b[0m\u001b[0m_can_hold_identifiers_and_holds_name\u001b[0m\u001b[1;33m(\u001b[0m\u001b[0mname\u001b[0m\u001b[1;33m)\u001b[0m\u001b[1;33m:\u001b[0m\u001b[1;33m\u001b[0m\u001b[1;33m\u001b[0m\u001b[0m\n\u001b[0;32m   5273\u001b[0m                 \u001b[1;32mreturn\u001b[0m \u001b[0mself\u001b[0m\u001b[1;33m[\u001b[0m\u001b[0mname\u001b[0m\u001b[1;33m]\u001b[0m\u001b[1;33m\u001b[0m\u001b[1;33m\u001b[0m\u001b[0m\n\u001b[1;32m-> 5274\u001b[1;33m             \u001b[1;32mreturn\u001b[0m \u001b[0mobject\u001b[0m\u001b[1;33m.\u001b[0m\u001b[0m__getattribute__\u001b[0m\u001b[1;33m(\u001b[0m\u001b[0mself\u001b[0m\u001b[1;33m,\u001b[0m \u001b[0mname\u001b[0m\u001b[1;33m)\u001b[0m\u001b[1;33m\u001b[0m\u001b[1;33m\u001b[0m\u001b[0m\n\u001b[0m\u001b[0;32m   5275\u001b[0m \u001b[1;33m\u001b[0m\u001b[0m\n\u001b[0;32m   5276\u001b[0m     \u001b[1;32mdef\u001b[0m \u001b[0m__setattr__\u001b[0m\u001b[1;33m(\u001b[0m\u001b[0mself\u001b[0m\u001b[1;33m,\u001b[0m \u001b[0mname\u001b[0m\u001b[1;33m:\u001b[0m \u001b[0mstr\u001b[0m\u001b[1;33m,\u001b[0m \u001b[0mvalue\u001b[0m\u001b[1;33m)\u001b[0m \u001b[1;33m->\u001b[0m \u001b[1;32mNone\u001b[0m\u001b[1;33m:\u001b[0m\u001b[1;33m\u001b[0m\u001b[1;33m\u001b[0m\u001b[0m\n",
      "\u001b[1;31mAttributeError\u001b[0m: 'Series' object has no attribute 'swifter'"
     ]
    }
   ],
   "source": [
    "df = pd.DataFrame({'x': [1, 2, 3, 4], 'y': [5, 6, 7, 8]})\n",
    "\n",
    "# runs on single core\n",
    "df['x2'] = df['x'].apply(lambda x: x**2)\n",
    "# runs on multiple cores\n",
    "df['x2'] = df['x'].swifter.apply(lambda x: x**2)"
   ]
  },
  {
   "cell_type": "code",
   "execution_count": null,
   "metadata": {},
   "outputs": [],
   "source": []
  },
  {
   "cell_type": "code",
   "execution_count": 20,
   "metadata": {},
   "outputs": [
    {
     "output_type": "error",
     "ename": "AttributeError",
     "evalue": "'DataFrame' object has no attribute 'content'",
     "traceback": [
      "\u001b[1;31m---------------------------------------------------------------------------\u001b[0m",
      "\u001b[1;31mAttributeError\u001b[0m                            Traceback (most recent call last)",
      "\u001b[1;32m<ipython-input-20-e090e8bdd1b4>\u001b[0m in \u001b[0;36m<module>\u001b[1;34m\u001b[0m\n\u001b[0;32m      8\u001b[0m \u001b[0mtfidf\u001b[0m \u001b[1;33m=\u001b[0m \u001b[0mTfidfVectorizer\u001b[0m\u001b[1;33m(\u001b[0m\u001b[0msublinear_tf\u001b[0m\u001b[1;33m=\u001b[0m\u001b[1;32mTrue\u001b[0m\u001b[1;33m,\u001b[0m \u001b[0mmin_df\u001b[0m\u001b[1;33m=\u001b[0m\u001b[1;36m5\u001b[0m\u001b[1;33m,\u001b[0m \u001b[0mnorm\u001b[0m\u001b[1;33m=\u001b[0m\u001b[1;34m'l2'\u001b[0m\u001b[1;33m,\u001b[0m \u001b[0mencoding\u001b[0m\u001b[1;33m=\u001b[0m\u001b[1;34m'latin-1'\u001b[0m\u001b[1;33m,\u001b[0m \u001b[0mngram_range\u001b[0m\u001b[1;33m=\u001b[0m\u001b[1;33m(\u001b[0m\u001b[1;36m1\u001b[0m\u001b[1;33m,\u001b[0m \u001b[1;36m2\u001b[0m\u001b[1;33m)\u001b[0m\u001b[1;33m,\u001b[0m \u001b[0mstop_words\u001b[0m\u001b[1;33m=\u001b[0m\u001b[1;34m'english'\u001b[0m\u001b[1;33m)\u001b[0m\u001b[1;33m\u001b[0m\u001b[1;33m\u001b[0m\u001b[0m\n\u001b[0;32m      9\u001b[0m \u001b[1;33m\u001b[0m\u001b[0m\n\u001b[1;32m---> 10\u001b[1;33m \u001b[0mfeatures\u001b[0m \u001b[1;33m=\u001b[0m \u001b[0mtfidf\u001b[0m\u001b[1;33m.\u001b[0m\u001b[0mfit_transform\u001b[0m\u001b[1;33m(\u001b[0m\u001b[0mdf\u001b[0m\u001b[1;33m.\u001b[0m\u001b[0mcontent\u001b[0m\u001b[1;33m)\u001b[0m\u001b[1;33m.\u001b[0m\u001b[0mtoarray\u001b[0m\u001b[1;33m(\u001b[0m\u001b[1;33m)\u001b[0m\u001b[1;33m\u001b[0m\u001b[1;33m\u001b[0m\u001b[0m\n\u001b[0m\u001b[0;32m     11\u001b[0m \u001b[0mlabels\u001b[0m \u001b[1;33m=\u001b[0m \u001b[0mdf\u001b[0m\u001b[1;33m.\u001b[0m\u001b[0mtype_id\u001b[0m\u001b[1;33m\u001b[0m\u001b[1;33m\u001b[0m\u001b[0m\n\u001b[0;32m     12\u001b[0m \u001b[0mfeatures\u001b[0m\u001b[1;33m.\u001b[0m\u001b[0mshape\u001b[0m\u001b[1;33m\u001b[0m\u001b[1;33m\u001b[0m\u001b[0m\n",
      "\u001b[1;32m~\\anaconda3\\envs\\DS\\lib\\site-packages\\pandas\\core\\generic.py\u001b[0m in \u001b[0;36m__getattr__\u001b[1;34m(self, name)\u001b[0m\n\u001b[0;32m   5272\u001b[0m             \u001b[1;32mif\u001b[0m \u001b[0mself\u001b[0m\u001b[1;33m.\u001b[0m\u001b[0m_info_axis\u001b[0m\u001b[1;33m.\u001b[0m\u001b[0m_can_hold_identifiers_and_holds_name\u001b[0m\u001b[1;33m(\u001b[0m\u001b[0mname\u001b[0m\u001b[1;33m)\u001b[0m\u001b[1;33m:\u001b[0m\u001b[1;33m\u001b[0m\u001b[1;33m\u001b[0m\u001b[0m\n\u001b[0;32m   5273\u001b[0m                 \u001b[1;32mreturn\u001b[0m \u001b[0mself\u001b[0m\u001b[1;33m[\u001b[0m\u001b[0mname\u001b[0m\u001b[1;33m]\u001b[0m\u001b[1;33m\u001b[0m\u001b[1;33m\u001b[0m\u001b[0m\n\u001b[1;32m-> 5274\u001b[1;33m             \u001b[1;32mreturn\u001b[0m \u001b[0mobject\u001b[0m\u001b[1;33m.\u001b[0m\u001b[0m__getattribute__\u001b[0m\u001b[1;33m(\u001b[0m\u001b[0mself\u001b[0m\u001b[1;33m,\u001b[0m \u001b[0mname\u001b[0m\u001b[1;33m)\u001b[0m\u001b[1;33m\u001b[0m\u001b[1;33m\u001b[0m\u001b[0m\n\u001b[0m\u001b[0;32m   5275\u001b[0m \u001b[1;33m\u001b[0m\u001b[0m\n\u001b[0;32m   5276\u001b[0m     \u001b[1;32mdef\u001b[0m \u001b[0m__setattr__\u001b[0m\u001b[1;33m(\u001b[0m\u001b[0mself\u001b[0m\u001b[1;33m,\u001b[0m \u001b[0mname\u001b[0m\u001b[1;33m:\u001b[0m \u001b[0mstr\u001b[0m\u001b[1;33m,\u001b[0m \u001b[0mvalue\u001b[0m\u001b[1;33m)\u001b[0m \u001b[1;33m->\u001b[0m \u001b[1;32mNone\u001b[0m\u001b[1;33m:\u001b[0m\u001b[1;33m\u001b[0m\u001b[1;33m\u001b[0m\u001b[0m\n",
      "\u001b[1;31mAttributeError\u001b[0m: 'DataFrame' object has no attribute 'content'"
     ]
    }
   ],
   "source": [
    "from sklearn.feature_extraction.text import TfidfVectorizer\n",
    "\n",
    "# sublinear_df is set to True to use a logarithmic form for frequency\n",
    "# min_df is the minimum numbers of documents a word must be present in to be kept\n",
    "# norm is set to l2, to ensure all our feature vectors have a euclidian norm of 1.\n",
    "# ngram_range is set to (1, 2) to indicate that we want to consider both unigrams and bigrams\n",
    "# stop_words is set to \"english\" to remove all common pronouns (\"a\", \"the\", ...) to reduce the number of noisy features.\n",
    "tfidf = TfidfVectorizer(sublinear_tf=True, min_df=5, norm='l2', encoding='latin-1', ngram_range=(1, 2), stop_words='english')\n",
    "\n",
    "features = tfidf.fit_transform(df.content).toarray()\n",
    "labels = df.type_id\n",
    "features.shape"
   ]
  },
  {
   "cell_type": "code",
   "execution_count": 21,
   "metadata": {},
   "outputs": [
    {
     "output_type": "error",
     "ename": "SyntaxError",
     "evalue": "invalid syntax (<ipython-input-21-8ae1abe34dc4>, line 10)",
     "traceback": [
      "\u001b[1;36m  File \u001b[1;32m\"<ipython-input-21-8ae1abe34dc4>\"\u001b[1;36m, line \u001b[1;32m10\u001b[0m\n\u001b[1;33m    X_train_tfidf = tfidf_transformer.fit_transform(X_train_counts)clf = MultinomialNB().fit(X_train_tfidf, y_train)\u001b[0m\n\u001b[1;37m                                                                   ^\u001b[0m\n\u001b[1;31mSyntaxError\u001b[0m\u001b[1;31m:\u001b[0m invalid syntax\n"
     ]
    }
   ],
   "source": [
    "from sklearn.model_selection import train_test_split\n",
    "from sklearn.feature_extraction.text import CountVectorizer\n",
    "from sklearn.feature_extraction.text import TfidfTransformer\n",
    "from sklearn.naive_bayes import MultinomialNB\n",
    "\n",
    "X_train, X_test, y_train, y_test = train_test_split(df['type_id'], df['content'], random_state = 0)\n",
    "count_vect = CountVectorizer()\n",
    "X_train_counts = count_vect.fit_transform(X_train)\n",
    "tfidf_transformer = TfidfTransformer()\n",
    "X_train_tfidf = tfidf_transformer.fit_transform(X_train_counts)clf = MultinomialNB().fit(X_train_tfidf, y_train)"
   ]
  },
  {
   "cell_type": "code",
   "execution_count": 22,
   "metadata": {},
   "outputs": [],
   "source": [
    "def remove_stopwords(text): # words like 'the', 'a', 'me' - SLOW\n",
    "    \"\"\"custom function to remove the stopwords\"\"\"\n",
    "    STOPWORDS = set(stopwords.words('english'))\n",
    "    return \" \".join([word for word in str(text).split() if word not in STOPWORDS])\n",
    "\n",
    "# def lower_cast(series_in): # Maybe not needed - lower casing is DONE my most of the modern day vecotirzers and tokenizers\n",
    "#     \"\"\"Lower Casing\"\"\"\n",
    "#     return series_in.str.lower()\n",
    "\n",
    "# def Email_replace(series_in):\n",
    "#     \"\"\"Replace emails with token\"\"\"\n",
    "#     regexEmail = r\"[a-zA-Z_-]+@[a-zA-Z_-]+(?:\\.[a-zA-Z]{2,4}){1,3}\"\n",
    "#     return series_in.replace(to_replace=regexEmail, value='<EMAIL>', regex=True)\n",
    "\n",
    "# def HTML_replace(series_in):\n",
    "#     \"\"\"REpalce HTML wiith token\"\"\"\n",
    "#     regexHTML = r\"<\\s*a[^>]*>(.*?)<\\s*/\\s*a>\"\n",
    "#     return series_in.replace(to_replace=regexHTML, value='<HTML>', regex=True)\n",
    "\n",
    "# def Date_replace(series_in): # NOT WORKING PROBABLY - needs to be recreated\n",
    "#     \"\"\"Replace dates with token\"\"\"\n",
    "#     # name         (jan(?:uary)?|Feb(?:ruary)?|Mar(?:ch)?|Apr(?:il)?|May|Jun(?:e)?|Jul(?:y)?|Aug(?:ust)?|Sep(?:tember)?|Oct(?:ober)?|Nov(?:ember)?|Dec(?:ember)?)\n",
    "#     # day in month ([12]\\d|3[01]|0?[1-9]) - Day 0-31\n",
    "#     # year         ([12][0-9]{3})         - Years from 1000 to 2999\n",
    "#     regexDate = r\"(((19[7-9]\\d|20\\d{2})|(?:jan(?:uary)?|feb(?:ruary)?|mar(?:ch)?|apr(?:il)?|may|jun(?:e)?|jul(?:y)?|aug(?:ust)?|sep(?:tember)?|oct(?:ober)?|(nov|dec)(?:ember)?)|(([12][0-9])|(3[01])|(0?[1-9])))[\\/. \\-,\\n]){2,3}\"\n",
    "#     return series_in.replace(to_replace=regexDate, value='<DATE>', regex=True)\n",
    "\n",
    "# def Number_replace(series_in): \n",
    "#     \"\"\"Replace numbers with token\"\"\"\n",
    "#     regexNum = r\"[0-9][0-9,\\.]+\" # type of nums with [0-9] and [,.]\n",
    "#     return series_in.replace(to_replace=regexNum, value='<NUM>', regex=True)\n",
    "\n",
    "# def End_of_line_remove(series_in):\n",
    "#     \"\"\"Remove end_of_line \\n\"\"\"\n",
    "#     regexNL = r\"(\\\\n)\"\n",
    "#     return series_in.replace(to_replace=regexNL, value=' ', regex=True)\n",
    "\n",
    "# def Punctuation_remove(series_in): \n",
    "#     \"\"\"Remove punctuations\"\"\"\n",
    "#     regexPunkt = r\"[!“”\\\"#$%&()*+,\\-–.\\/:;<=>?@[\\\\\\]^_`{|}~'\\’\\']\" # also removes: \" ' \" which means ie. it's -> its - remove \\' from regex if not needed\n",
    "#     series_in.replace(to_replace=regexPunkt, value='', regex=True)\n"
   ]
  },
  {
   "cell_type": "markdown",
   "metadata": {},
   "source": [
    "## clean wiki"
   ]
  },
  {
   "cell_type": "code",
   "execution_count": 24,
   "metadata": {},
   "outputs": [
    {
     "output_type": "execute_result",
     "data": {
      "text/plain": "                                                                                           categories  \\\narticle_url                                                                                             \nhttps://en.wikinews.org/wiki/Namibia_votes_in_p...  November 28, 2009,Namibia,Published,Elections,...   \nhttps://en.wikinews.org/wiki/Scientology_defect...  October 9, 2010,Religion,Scientology,Published...   \nhttps://en.wikinews.org/wiki/Nobel_laureate_Dor...  October 22, 2007,Published,Archived,United Kin...   \nhttps://en.wikinews.org/wiki/No-fly_zone_demand...  October 29, 2011,Published,Archived,Syria,Midd...   \nhttps://en.wikinews.org/wiki/Romanian_oil_compa...  August 22, 2006,Published,AutoArchived,World,P...   \n\n                                                                                              content  \\\narticle_url                                                                                             \nhttps://en.wikinews.org/wiki/Namibia_votes_in_p...  \\r\\n Voters are heading to the polls today in ...   \nhttps://en.wikinews.org/wiki/Scientology_defect...  \\r\\n Recent reports have revealed that a defec...   \nhttps://en.wikinews.org/wiki/Nobel_laureate_Dor...  \\r\\n British  writer  Doris Lessing , recipien...   \nhttps://en.wikinews.org/wiki/No-fly_zone_demand...  \\r\\n Friday saw protests across  Syria  callin...   \nhttps://en.wikinews.org/wiki/Romanian_oil_compa...  \\r\\n An Orizont oil platform in the  Persian G...   \n\n                                                         publish_date  \\\narticle_url                                                             \nhttps://en.wikinews.org/wiki/Namibia_votes_in_p...  November 28, 2009   \nhttps://en.wikinews.org/wiki/Scientology_defect...    October 9, 2010   \nhttps://en.wikinews.org/wiki/Nobel_laureate_Dor...   October 22, 2007   \nhttps://en.wikinews.org/wiki/No-fly_zone_demand...   October 29, 2011   \nhttps://en.wikinews.org/wiki/Romanian_oil_compa...    August 22, 2006   \n\n                                                    scraped_at  \\\narticle_url                                                      \nhttps://en.wikinews.org/wiki/Namibia_votes_in_p...  2020-04-23   \nhttps://en.wikinews.org/wiki/Scientology_defect...  2020-04-22   \nhttps://en.wikinews.org/wiki/Nobel_laureate_Dor...  2020-04-22   \nhttps://en.wikinews.org/wiki/No-fly_zone_demand...  2020-04-22   \nhttps://en.wikinews.org/wiki/Romanian_oil_compa...  2020-04-22   \n\n                                                                                          source_urls  \\\narticle_url                                                                                             \nhttps://en.wikinews.org/wiki/Namibia_votes_in_p...  http://www1.voanews.com/english/news/africa/27...   \nhttps://en.wikinews.org/wiki/Scientology_defect...  http://newsfeed.time.com/2010/10/09/scientolog...   \nhttps://en.wikinews.org/wiki/Nobel_laureate_Dor...  http://www.ctv.ca/servlet/ArticleNews/story/CT...   \nhttps://en.wikinews.org/wiki/No-fly_zone_demand...  http://www.bbc.co.uk/news/world-middle-east-15...   \nhttps://en.wikinews.org/wiki/Romanian_oil_compa...  http://www.bloomberg.com/apps/news?pid=2060108...   \n\n                                                                                  sources_domain_urls  \\\narticle_url                                                                                             \nhttps://en.wikinews.org/wiki/Namibia_votes_in_p...              /wiki/VOA_News,/wiki/Associated_Press   \nhttps://en.wikinews.org/wiki/Scientology_defect...  /wiki/TIME,https://en.wikipedia.org/wiki/LA_We...   \nhttps://en.wikinews.org/wiki/Nobel_laureate_Dor...  https://en.wikipedia.org/wiki/CTV.ca,https://e...   \nhttps://en.wikinews.org/wiki/No-fly_zone_demand...  /wiki/BBC_News_Online,/wiki/Agence_France-Pres...   \nhttps://en.wikinews.org/wiki/Romanian_oil_compa...  https://en.wikipedia.org/wiki/Bloomberg,/wiki/...   \n\n                                                                                                title  \narticle_url                                                                                            \nhttps://en.wikinews.org/wiki/Namibia_votes_in_p...             Namibia votes in presidential election  \nhttps://en.wikinews.org/wiki/Scientology_defect...  Scientology defector arrested after attempting...  \nhttps://en.wikinews.org/wiki/Nobel_laureate_Dor...  Nobel laureate Doris Lessing: 9/11 'wasn't tha...  \nhttps://en.wikinews.org/wiki/No-fly_zone_demand...          No-fly zone demanded by Syrian protesters  \nhttps://en.wikinews.org/wiki/Romanian_oil_compa...  Romanian oil company claims Iran has seized on...  ",
      "text/html": "<div>\n<style scoped>\n    .dataframe tbody tr th:only-of-type {\n        vertical-align: middle;\n    }\n\n    .dataframe tbody tr th {\n        vertical-align: top;\n    }\n\n    .dataframe thead th {\n        text-align: right;\n    }\n</style>\n<table border=\"1\" class=\"dataframe\">\n  <thead>\n    <tr style=\"text-align: right;\">\n      <th></th>\n      <th>categories</th>\n      <th>content</th>\n      <th>publish_date</th>\n      <th>scraped_at</th>\n      <th>source_urls</th>\n      <th>sources_domain_urls</th>\n      <th>title</th>\n    </tr>\n    <tr>\n      <th>article_url</th>\n      <th></th>\n      <th></th>\n      <th></th>\n      <th></th>\n      <th></th>\n      <th></th>\n      <th></th>\n    </tr>\n  </thead>\n  <tbody>\n    <tr>\n      <th>https://en.wikinews.org/wiki/Namibia_votes_in_presidential_election</th>\n      <td>November 28, 2009,Namibia,Published,Elections,...</td>\n      <td>\\r\\n Voters are heading to the polls today in ...</td>\n      <td>November 28, 2009</td>\n      <td>2020-04-23</td>\n      <td>http://www1.voanews.com/english/news/africa/27...</td>\n      <td>/wiki/VOA_News,/wiki/Associated_Press</td>\n      <td>Namibia votes in presidential election</td>\n    </tr>\n    <tr>\n      <th>https://en.wikinews.org/wiki/Scientology_defector_arrested_after_attempting_to_leave_organization</th>\n      <td>October 9, 2010,Religion,Scientology,Published...</td>\n      <td>\\r\\n Recent reports have revealed that a defec...</td>\n      <td>October 9, 2010</td>\n      <td>2020-04-22</td>\n      <td>http://newsfeed.time.com/2010/10/09/scientolog...</td>\n      <td>/wiki/TIME,https://en.wikipedia.org/wiki/LA_We...</td>\n      <td>Scientology defector arrested after attempting...</td>\n    </tr>\n    <tr>\n      <th>https://en.wikinews.org/wiki/Nobel_laureate_Doris_Lessing:_9/11_%27wasn%27t_that_terrible%27_compared_to_IRA_attacks</th>\n      <td>October 22, 2007,Published,Archived,United Kin...</td>\n      <td>\\r\\n British  writer  Doris Lessing , recipien...</td>\n      <td>October 22, 2007</td>\n      <td>2020-04-22</td>\n      <td>http://www.ctv.ca/servlet/ArticleNews/story/CT...</td>\n      <td>https://en.wikipedia.org/wiki/CTV.ca,https://e...</td>\n      <td>Nobel laureate Doris Lessing: 9/11 'wasn't tha...</td>\n    </tr>\n    <tr>\n      <th>https://en.wikinews.org/wiki/No-fly_zone_demanded_by_Syrian_protesters</th>\n      <td>October 29, 2011,Published,Archived,Syria,Midd...</td>\n      <td>\\r\\n Friday saw protests across  Syria  callin...</td>\n      <td>October 29, 2011</td>\n      <td>2020-04-22</td>\n      <td>http://www.bbc.co.uk/news/world-middle-east-15...</td>\n      <td>/wiki/BBC_News_Online,/wiki/Agence_France-Pres...</td>\n      <td>No-fly zone demanded by Syrian protesters</td>\n    </tr>\n    <tr>\n      <th>https://en.wikinews.org/wiki/Romanian_oil_company_claims_Iran_has_seized_one_of_its_rigs</th>\n      <td>August 22, 2006,Published,AutoArchived,World,P...</td>\n      <td>\\r\\n An Orizont oil platform in the  Persian G...</td>\n      <td>August 22, 2006</td>\n      <td>2020-04-22</td>\n      <td>http://www.bloomberg.com/apps/news?pid=2060108...</td>\n      <td>https://en.wikipedia.org/wiki/Bloomberg,/wiki/...</td>\n      <td>Romanian oil company claims Iran has seized on...</td>\n    </tr>\n  </tbody>\n</table>\n</div>"
     },
     "metadata": {},
     "execution_count": 24
    }
   ],
   "source": [
    "# importing and creating df (has to have type_id)\n",
    "\n",
    "# usage: specify file location, sample size and seed(used by random) \n",
    "filepath = '../Data_sample/wiki_news_raw_backup.csv' # 250 rows of FakeNewsCorpus\n",
    "s = 3679                                            # desired sample size\n",
    "seed = 1                                           # seed used by Pseudorandom number generator\n",
    "\n",
    "df = pd.read_csv(filepath, index_col = [0]).sample(n=s, random_state=seed)\n",
    "df[\"content\"] = df[\"content\"].astype(str)\n",
    "\n",
    "df.head()"
   ]
  },
  {
   "cell_type": "code",
   "execution_count": 25,
   "metadata": {},
   "outputs": [
    {
     "output_type": "stream",
     "name": "stdout",
     "text": "\n (lower_cast)\nWall time: 30.7 ms\n\n (Email_replace)\nWall time: 174 ms\n\n (URL_replace)\nWall time: 746 ms\n\n (HTML_replace)\nWall time: 7 ms\n\n (Date_replace)\nWall time: 2.57 s\n\n (New_line_remove)\nWall time: 57 ms\n\n (Punctuation_remove)\nWall time: 81 ms\n\n (Non_ASCII_remove)\nWall time: 13 ms\n\n (Done cleaning)\n[before]\n \"\\r\\n Friday saw protests across  Syria  calling for a   to be imposed over the nation.  The protests are thought to have resulted in around 37 deaths.\\r\\n At least 170 different protests took place yesterday despite threatened violence as part of the growing unrest in the country. Demonstrators want the country's people to receive international protection against the autocratic rule of President  .\\r\\n Around 37 people are thought to have been killed in a police crackdown against the demonstrations, mostly in the cities of   and  . According to the  UN , more than 3,000 people have been killed since protests began in March.\\r\\n This wave of protests comes after the deposition of  Muammar Gaddafi  in nearby  Libya , which  NATO  warplanes played a major part in; Syrian demonstrators want that level of protection to help them.\\r\\n The level of violence is the highest seen on a Friday - a day of prayers - in six months, according to  , surpassing the previous high of 36 deaths in May. The worst day in terms of death toll was April 22, when 72 were killed.\\r\\n \\r\\n \\r\\n\" \n\n[After]\n '\\r  friday saw protests across  syria  calling for a   to be imposed over the nation  the protests are thought to have resulted in around  NUM  deaths\\r  at least  NUM  different protests took place yesterday despite threatened violence as part of the growing unrest in the country demonstrators want the countrys people to receive international protection against the autocratic rule of president  \\r  around  NUM  people are thought to have been killed in a police crackdown against the demonstrations mostly in the cities of   and   according to the  un  more than  NUM  people have been killed since protests began in march\\r  this wave of protests comes after the deposition of  muammar gaddafi  in nearby  libya  which  nato  warplanes played a major part in syrian demonstrators want that level of protection to help them\\r  the level of violence is the highest seen on a friday  a day of prayers  in six months according to   surpassing the previous high of  NUM  deaths in may the worst day in terms of death toll was  DATE  when  NUM  were killed\\r  \\r  \\r '\n"
    }
   ],
   "source": [
    "# working with content as a series\n",
    "series_content = df['content']\n",
    "\n",
    "### DEBUG SETUP - COMPARE CLEAN VS NON_CLEAN ###\n",
    "sample_num = 3\n",
    "before = series_content.iloc[sample_num]\n",
    "### DEBUG SETUP - COMPARE CLEAN VS NON_CLEAN ###\n",
    "\n",
    "### Order matters - (not final order of pipeline)\n",
    "### Overall preprocessing\n",
    "\n",
    "# lower_cast - NEEDED? - DONE by many libs\n",
    "%time print(\"\\n (lower_cast)\"); series_content = series_content.str.lower()\n",
    "\n",
    "### replace [name] with tokens in text ###\n",
    "\n",
    "# Email_replace\n",
    "regexEmail = r\"[a-zA-Z_-]+@[a-zA-Z_-]+(?:\\.[a-zA-Z]{2,4}){1,3}\"\n",
    "%time print(\"\\n (Email_replace)\"); series_content = series_content.replace(to_replace=regexEmail, value=' <EMAIL> ', regex=True)\n",
    "\n",
    "# replace URLs  with token\n",
    "regexURL= r\"(?:https?:\\/\\/)?(?:www\\.)?([^@\\s]+\\.[a-zA-Z]{2,4})[^\\s]*\"\n",
    "%time print(\"\\n (URL_replace)\"); series_content = series_content.replace(to_replace=regexURL, value=' <URL> ', regex=True)\n",
    "\n",
    "# HTML_replace\n",
    "regexHTML = r\"<\\s*a[^>]*>(.*?)<\\s*/\\s*a>\"\n",
    "%time print(\"\\n (HTML_replace)\"); series_content = series_content.replace(to_replace=regexHTML, value=' <HTML> ', regex=True)\n",
    "\n",
    "# Date_replace - NOT DONE\n",
    "# - name         (jan(?:uary)?|Feb(?:ruary)?|Mar(?:ch)?|Apr(?:il)?|May|Jun(?:e)?|Jul(?:y)?|Aug(?:ust)?|Sep(?:tember)?|Oct(?:ober)?|Nov(?:ember)?|Dec(?:ember)?)\n",
    "# - day in month ([12]\\d|3[01]|0?[1-9]) - Day 0-31\n",
    "# - year         ([12][0-9]{3})         - Years from 1000 to 2999\n",
    "regexDate = r\"(((19[7-9]\\d|20\\d{2})|(?:jan(?:uary)?|feb(?:ruary)?|mar(?:ch)?|apr(?:il)?|may|jun(?:e)?|jul(?:y)?|aug(?:ust)?|sep(?:tember)?|oct(?:ober)?|(nov|dec)(?:ember)?)|(([12][0-9])|(3[01])|(0?[1-9])))[\\/. \\-,\\n]){2,3}\"\n",
    "%time print(\"\\n (Date_replace)\"); series_content = series_content.replace(to_replace=regexDate, value=' <DATE> ', regex=True)\n",
    "\n",
    "# Number_replace\n",
    "regexNum = r\"[0-9][0-9,\\.]+\" # nums with [0-9] and [,.]\n",
    "series_content = series_content.replace(to_replace=regexNum, value=' <NUM> ', regex=True)\n",
    "\n",
    "### string removal functions ###\n",
    "# New_line_remove\n",
    "regexNEWLINE = r\"\\n|\\\\n\"\n",
    "%time print(\"\\n (New_line_remove)\"); series_content = series_content.replace(to_replace=regexNEWLINE, value=' ', regex=True)\n",
    "\n",
    "# Punctuation_remove\n",
    "regexPunkt = r\"[!“”\\\"#$%&()*+,\\-–.…\\/:;<=>?@[\\\\\\]^_`{|}~'\\’\\']\" # also removes: \" ' \" which means ie. it's -> its - remove \\' from regwex if not needed\n",
    "%time print(\"\\n (Punctuation_remove)\"); series_content = series_content.replace(to_replace=regexPunkt, value='', regex=True)\n",
    "\n",
    "# Non_ASCII_remove - Maybe a step too much\n",
    "%time print(\"\\n (Non_ASCII_remove)\"); series_content = series_content.str.encode('ascii', 'ignore').str.decode('ascii')\n",
    "\n",
    "# After all steps\n",
    "print(\"\\n (Done cleaning)\")\n",
    "\n",
    "### DEBUG PRINT - COMPARE CLEAN VS NON_CLEAN ###\n",
    "print(\"[before]\\n\", repr(before), \"\\n\\n[After]\\n\", repr(series_content.iloc[sample_num]) )\n",
    "### DEBUG PRINT - COMPARE CLEAN VS NON_CLEAN ###"
   ]
  },
  {
   "cell_type": "markdown",
   "metadata": {},
   "source": [
    "## Cleaning for other colums"
   ]
  },
  {
   "cell_type": "code",
   "execution_count": 26,
   "metadata": {},
   "outputs": [],
   "source": [
    "# to-do add case for words line Niel's thois is pt transalted into Niels\n",
    "\n",
    "# Clean meta keywords representation\n",
    "regexStrList = r\".*?(.+? [0-9]{1,2}, [0-9]{4}).*\"\n",
    "df['publish_date'] = df['publish_date'].replace(to_replace=regexStrList, value=r'\\1', regex=True)"
   ]
  },
  {
   "cell_type": "code",
   "execution_count": 27,
   "metadata": {},
   "outputs": [
    {
     "output_type": "execute_result",
     "data": {
      "text/plain": "                                                                                           categories  \\\narticle_url                                                                                             \nhttps://en.wikinews.org/wiki/Namibia_votes_in_p...  November 28, 2009,Namibia,Published,Elections,...   \nhttps://en.wikinews.org/wiki/Scientology_defect...  October 9, 2010,Religion,Scientology,Published...   \nhttps://en.wikinews.org/wiki/Nobel_laureate_Dor...  October 22, 2007,Published,Archived,United Kin...   \nhttps://en.wikinews.org/wiki/No-fly_zone_demand...  October 29, 2011,Published,Archived,Syria,Midd...   \nhttps://en.wikinews.org/wiki/Romanian_oil_compa...  August 22, 2006,Published,AutoArchived,World,P...   \n\n                                                                                              content  \\\narticle_url                                                                                             \nhttps://en.wikinews.org/wiki/Namibia_votes_in_p...  [\\r, , voters, are, heading, to, the, polls, t...   \nhttps://en.wikinews.org/wiki/Scientology_defect...  [\\r, , recent, reports, have, revealed, that, ...   \nhttps://en.wikinews.org/wiki/Nobel_laureate_Dor...  [\\r, , british, , writer, , doris, lessing, , ...   \nhttps://en.wikinews.org/wiki/No-fly_zone_demand...  [\\r, , friday, saw, protests, across, , syria,...   \nhttps://en.wikinews.org/wiki/Romanian_oil_compa...  [\\r, , an, orizont, oil, platform, in, the, , ...   \n\n                                                         publish_date  \\\narticle_url                                                             \nhttps://en.wikinews.org/wiki/Namibia_votes_in_p...  November 28, 2009   \nhttps://en.wikinews.org/wiki/Scientology_defect...    October 9, 2010   \nhttps://en.wikinews.org/wiki/Nobel_laureate_Dor...   October 22, 2007   \nhttps://en.wikinews.org/wiki/No-fly_zone_demand...   October 29, 2011   \nhttps://en.wikinews.org/wiki/Romanian_oil_compa...    August 22, 2006   \n\n                                                    scraped_at  \\\narticle_url                                                      \nhttps://en.wikinews.org/wiki/Namibia_votes_in_p...  2020-04-23   \nhttps://en.wikinews.org/wiki/Scientology_defect...  2020-04-22   \nhttps://en.wikinews.org/wiki/Nobel_laureate_Dor...  2020-04-22   \nhttps://en.wikinews.org/wiki/No-fly_zone_demand...  2020-04-22   \nhttps://en.wikinews.org/wiki/Romanian_oil_compa...  2020-04-22   \n\n                                                                                          source_urls  \\\narticle_url                                                                                             \nhttps://en.wikinews.org/wiki/Namibia_votes_in_p...  http://www1.voanews.com/english/news/africa/27...   \nhttps://en.wikinews.org/wiki/Scientology_defect...  http://newsfeed.time.com/2010/10/09/scientolog...   \nhttps://en.wikinews.org/wiki/Nobel_laureate_Dor...  http://www.ctv.ca/servlet/ArticleNews/story/CT...   \nhttps://en.wikinews.org/wiki/No-fly_zone_demand...  http://www.bbc.co.uk/news/world-middle-east-15...   \nhttps://en.wikinews.org/wiki/Romanian_oil_compa...  http://www.bloomberg.com/apps/news?pid=2060108...   \n\n                                                                                  sources_domain_urls  \\\narticle_url                                                                                             \nhttps://en.wikinews.org/wiki/Namibia_votes_in_p...              /wiki/VOA_News,/wiki/Associated_Press   \nhttps://en.wikinews.org/wiki/Scientology_defect...  /wiki/TIME,https://en.wikipedia.org/wiki/LA_We...   \nhttps://en.wikinews.org/wiki/Nobel_laureate_Dor...  https://en.wikipedia.org/wiki/CTV.ca,https://e...   \nhttps://en.wikinews.org/wiki/No-fly_zone_demand...  /wiki/BBC_News_Online,/wiki/Agence_France-Pres...   \nhttps://en.wikinews.org/wiki/Romanian_oil_compa...  https://en.wikipedia.org/wiki/Bloomberg,/wiki/...   \n\n                                                                                                title  \narticle_url                                                                                            \nhttps://en.wikinews.org/wiki/Namibia_votes_in_p...             Namibia votes in presidential election  \nhttps://en.wikinews.org/wiki/Scientology_defect...  Scientology defector arrested after attempting...  \nhttps://en.wikinews.org/wiki/Nobel_laureate_Dor...  Nobel laureate Doris Lessing: 9/11 'wasn't tha...  \nhttps://en.wikinews.org/wiki/No-fly_zone_demand...          No-fly zone demanded by Syrian protesters  \nhttps://en.wikinews.org/wiki/Romanian_oil_compa...  Romanian oil company claims Iran has seized on...  ",
      "text/html": "<div>\n<style scoped>\n    .dataframe tbody tr th:only-of-type {\n        vertical-align: middle;\n    }\n\n    .dataframe tbody tr th {\n        vertical-align: top;\n    }\n\n    .dataframe thead th {\n        text-align: right;\n    }\n</style>\n<table border=\"1\" class=\"dataframe\">\n  <thead>\n    <tr style=\"text-align: right;\">\n      <th></th>\n      <th>categories</th>\n      <th>content</th>\n      <th>publish_date</th>\n      <th>scraped_at</th>\n      <th>source_urls</th>\n      <th>sources_domain_urls</th>\n      <th>title</th>\n    </tr>\n    <tr>\n      <th>article_url</th>\n      <th></th>\n      <th></th>\n      <th></th>\n      <th></th>\n      <th></th>\n      <th></th>\n      <th></th>\n    </tr>\n  </thead>\n  <tbody>\n    <tr>\n      <th>https://en.wikinews.org/wiki/Namibia_votes_in_presidential_election</th>\n      <td>November 28, 2009,Namibia,Published,Elections,...</td>\n      <td>[\\r, , voters, are, heading, to, the, polls, t...</td>\n      <td>November 28, 2009</td>\n      <td>2020-04-23</td>\n      <td>http://www1.voanews.com/english/news/africa/27...</td>\n      <td>/wiki/VOA_News,/wiki/Associated_Press</td>\n      <td>Namibia votes in presidential election</td>\n    </tr>\n    <tr>\n      <th>https://en.wikinews.org/wiki/Scientology_defector_arrested_after_attempting_to_leave_organization</th>\n      <td>October 9, 2010,Religion,Scientology,Published...</td>\n      <td>[\\r, , recent, reports, have, revealed, that, ...</td>\n      <td>October 9, 2010</td>\n      <td>2020-04-22</td>\n      <td>http://newsfeed.time.com/2010/10/09/scientolog...</td>\n      <td>/wiki/TIME,https://en.wikipedia.org/wiki/LA_We...</td>\n      <td>Scientology defector arrested after attempting...</td>\n    </tr>\n    <tr>\n      <th>https://en.wikinews.org/wiki/Nobel_laureate_Doris_Lessing:_9/11_%27wasn%27t_that_terrible%27_compared_to_IRA_attacks</th>\n      <td>October 22, 2007,Published,Archived,United Kin...</td>\n      <td>[\\r, , british, , writer, , doris, lessing, , ...</td>\n      <td>October 22, 2007</td>\n      <td>2020-04-22</td>\n      <td>http://www.ctv.ca/servlet/ArticleNews/story/CT...</td>\n      <td>https://en.wikipedia.org/wiki/CTV.ca,https://e...</td>\n      <td>Nobel laureate Doris Lessing: 9/11 'wasn't tha...</td>\n    </tr>\n    <tr>\n      <th>https://en.wikinews.org/wiki/No-fly_zone_demanded_by_Syrian_protesters</th>\n      <td>October 29, 2011,Published,Archived,Syria,Midd...</td>\n      <td>[\\r, , friday, saw, protests, across, , syria,...</td>\n      <td>October 29, 2011</td>\n      <td>2020-04-22</td>\n      <td>http://www.bbc.co.uk/news/world-middle-east-15...</td>\n      <td>/wiki/BBC_News_Online,/wiki/Agence_France-Pres...</td>\n      <td>No-fly zone demanded by Syrian protesters</td>\n    </tr>\n    <tr>\n      <th>https://en.wikinews.org/wiki/Romanian_oil_company_claims_Iran_has_seized_one_of_its_rigs</th>\n      <td>August 22, 2006,Published,AutoArchived,World,P...</td>\n      <td>[\\r, , an, orizont, oil, platform, in, the, , ...</td>\n      <td>August 22, 2006</td>\n      <td>2020-04-22</td>\n      <td>http://www.bloomberg.com/apps/news?pid=2060108...</td>\n      <td>https://en.wikipedia.org/wiki/Bloomberg,/wiki/...</td>\n      <td>Romanian oil company claims Iran has seized on...</td>\n    </tr>\n  </tbody>\n</table>\n</div>"
     },
     "metadata": {},
     "execution_count": 27
    }
   ],
   "source": [
    "df['content'] = series_content\n",
    "\n",
    "df['content'] = df['content'].str.split(\" \")\n",
    "df.head()"
   ]
  },
  {
   "cell_type": "markdown",
   "metadata": {},
   "source": [
    "## insert and write csv"
   ]
  },
  {
   "cell_type": "code",
   "execution_count": 28,
   "metadata": {},
   "outputs": [],
   "source": [
    "# inset all changes and write csv file\n",
    "\n",
    "#df['content'] = series_content\n",
    "\n",
    "# write csv\n",
    "df.to_csv('../Data_git_ignore/wiki_news_raw_backup_clean.csv', index=True, header=True)"
   ]
  },
  {
   "cell_type": "code",
   "execution_count": null,
   "metadata": {},
   "outputs": [],
   "source": []
  }
 ],
 "metadata": {
  "kernelspec": {
   "display_name": "Python 3.7.7 64-bit ('pip_env': conda)",
   "language": "python",
   "name": "python37764bitpipenvconda15c7d72bb4ae498faf3f23a7ca58d829"
  },
  "language_info": {
   "codemirror_mode": {
    "name": "ipython",
    "version": 3
   },
   "file_extension": ".py",
   "mimetype": "text/x-python",
   "name": "python",
   "nbconvert_exporter": "python",
   "pygments_lexer": "ipython3",
   "version": "3.7.7-final"
  }
 },
 "nbformat": 4,
 "nbformat_minor": 4
}