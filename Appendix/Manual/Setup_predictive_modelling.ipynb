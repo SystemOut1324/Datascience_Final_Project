{
 "cells": [
  {
   "cell_type": "code",
   "execution_count": 2,
   "metadata": {},
   "outputs": [],
   "source": [
    "import pandas as pd\n",
    "import psycopg2\n",
    "import numpy as np\n",
    "import sklearn\n",
    "import pyodbc"
   ]
  },
  {
   "cell_type": "code",
   "execution_count": 54,
   "metadata": {},
   "outputs": [],
   "source": [
    "connection = psycopg2.connect(user = \"postgres\",\n",
    "                                      password = \"root\",\n",
    "                                      host = \"localhost\",\n",
    "                                      port = \"5432\",\n",
    "                                      database = \"postgres\")\n",
    "\n",
    "# usage: specify file location, sample size and seed(used by random)\n",
    "filepath = 'train.tsv'\n",
    "filepathTest = 'test.tsv'\n",
    "\n",
    "#filepath = 'news_sample.csv' # <- overwrite for setup\n",
    "s = 200                    # desired sample size(seems to have slack ie. not exact)\n",
    "stest = 200                    # desired sample size(seems to have slack ie. not exact)\n",
    "\n",
    "seed = 1                     # seed used by Pseudorandom number generator\n",
    "\n",
    "df_train = pd.read_csv(filepath, header = 0, sep='\\t').sample(n=s, random_state=seed)\n",
    "df_train[\"content\"] = df_train[\"content\"].astype(str)\n",
    "\n",
    "df_test = pd.read_csv(filepathTest, header=0, sep='\\t').sample(n=stest, random_state=seed)\n",
    "df_train[\"content\"] = df_train[\"content\"].astype(str)\n",
    "\n",
    "df_test = df_test.reset_index(drop=True)\n",
    "df_test = df_train.reset_index(drop=True)\n",
    "\n",
    "# df = pd.read_sql_query(\"\"\"Select content, type_id\n",
    "# from article\"\"\", connection)"
   ]
  },
  {
   "cell_type": "code",
   "execution_count": 53,
   "metadata": {},
   "outputs": [
    {
     "data": {
      "text/html": [
       "<div>\n",
       "<style scoped>\n",
       "    .dataframe tbody tr th:only-of-type {\n",
       "        vertical-align: middle;\n",
       "    }\n",
       "\n",
       "    .dataframe tbody tr th {\n",
       "        vertical-align: top;\n",
       "    }\n",
       "\n",
       "    .dataframe thead th {\n",
       "        text-align: right;\n",
       "    }\n",
       "</style>\n",
       "<table border=\"1\" class=\"dataframe\">\n",
       "  <thead>\n",
       "    <tr style=\"text-align: right;\">\n",
       "      <th></th>\n",
       "      <th>idjson</th>\n",
       "      <th>rating</th>\n",
       "      <th>content</th>\n",
       "      <th>tags</th>\n",
       "      <th>author</th>\n",
       "      <th>position</th>\n",
       "      <th>state</th>\n",
       "      <th>party</th>\n",
       "      <th>number1</th>\n",
       "      <th>number2</th>\n",
       "      <th>number3</th>\n",
       "      <th>number4</th>\n",
       "      <th>number5</th>\n",
       "      <th>media</th>\n",
       "    </tr>\n",
       "  </thead>\n",
       "  <tbody>\n",
       "    <tr>\n",
       "      <td>0</td>\n",
       "      <td>5749.json</td>\n",
       "      <td>half-true</td>\n",
       "      <td>Says his Texas election fraud investigations h...</td>\n",
       "      <td>crime,elections,legal-issues</td>\n",
       "      <td>greg-abbott</td>\n",
       "      <td>governor</td>\n",
       "      <td>Texas</td>\n",
       "      <td>republican</td>\n",
       "      <td>11</td>\n",
       "      <td>3</td>\n",
       "      <td>8</td>\n",
       "      <td>6</td>\n",
       "      <td>5</td>\n",
       "      <td>a press release</td>\n",
       "    </tr>\n",
       "    <tr>\n",
       "      <td>1</td>\n",
       "      <td>12858.json</td>\n",
       "      <td>half-true</td>\n",
       "      <td>Thanks to the Trans-Pacific Partnership, Vietn...</td>\n",
       "      <td>labor,trade</td>\n",
       "      <td>barack-obama</td>\n",
       "      <td>President</td>\n",
       "      <td>Illinois</td>\n",
       "      <td>democrat</td>\n",
       "      <td>70</td>\n",
       "      <td>71</td>\n",
       "      <td>160</td>\n",
       "      <td>163</td>\n",
       "      <td>9</td>\n",
       "      <td>a press conference at the White House</td>\n",
       "    </tr>\n",
       "    <tr>\n",
       "      <td>2</td>\n",
       "      <td>7448.json</td>\n",
       "      <td>true</td>\n",
       "      <td>Felony crimes in the city of Atlanta are the l...</td>\n",
       "      <td>crime</td>\n",
       "      <td>kasim-reed</td>\n",
       "      <td>NaN</td>\n",
       "      <td>NaN</td>\n",
       "      <td>democrat</td>\n",
       "      <td>1</td>\n",
       "      <td>0</td>\n",
       "      <td>5</td>\n",
       "      <td>7</td>\n",
       "      <td>1</td>\n",
       "      <td>a speech</td>\n",
       "    </tr>\n",
       "    <tr>\n",
       "      <td>3</td>\n",
       "      <td>7886.json</td>\n",
       "      <td>mostly-true</td>\n",
       "      <td>We havent had a Republican senator in Washingt...</td>\n",
       "      <td>congress,history</td>\n",
       "      <td>christine-whitman</td>\n",
       "      <td>President, The Whitman Strategy Group</td>\n",
       "      <td>New Jersey</td>\n",
       "      <td>republican</td>\n",
       "      <td>0</td>\n",
       "      <td>0</td>\n",
       "      <td>0</td>\n",
       "      <td>2</td>\n",
       "      <td>0</td>\n",
       "      <td>an interview on The John Gambling radio show</td>\n",
       "    </tr>\n",
       "    <tr>\n",
       "      <td>4</td>\n",
       "      <td>10175.json</td>\n",
       "      <td>mostly-true</td>\n",
       "      <td>The gender gap in his support is not unique to...</td>\n",
       "      <td>elections,women</td>\n",
       "      <td>scott-walker</td>\n",
       "      <td>Milwaukee County Executive</td>\n",
       "      <td>Wisconsin</td>\n",
       "      <td>republican</td>\n",
       "      <td>26</td>\n",
       "      <td>41</td>\n",
       "      <td>32</td>\n",
       "      <td>40</td>\n",
       "      <td>11</td>\n",
       "      <td>an interview</td>\n",
       "    </tr>\n",
       "  </tbody>\n",
       "</table>\n",
       "</div>"
      ],
      "text/plain": [
       "       idjson       rating                                            content  \\\n",
       "0   5749.json    half-true  Says his Texas election fraud investigations h...   \n",
       "1  12858.json    half-true  Thanks to the Trans-Pacific Partnership, Vietn...   \n",
       "2   7448.json         true  Felony crimes in the city of Atlanta are the l...   \n",
       "3   7886.json  mostly-true  We havent had a Republican senator in Washingt...   \n",
       "4  10175.json  mostly-true  The gender gap in his support is not unique to...   \n",
       "\n",
       "                           tags             author  \\\n",
       "0  crime,elections,legal-issues        greg-abbott   \n",
       "1                   labor,trade       barack-obama   \n",
       "2                         crime         kasim-reed   \n",
       "3              congress,history  christine-whitman   \n",
       "4               elections,women       scott-walker   \n",
       "\n",
       "                                position       state       party  number1  \\\n",
       "0                               governor       Texas  republican       11   \n",
       "1                              President    Illinois    democrat       70   \n",
       "2                                    NaN         NaN    democrat        1   \n",
       "3  President, The Whitman Strategy Group  New Jersey  republican        0   \n",
       "4             Milwaukee County Executive   Wisconsin  republican       26   \n",
       "\n",
       "   number2  number3  number4  number5  \\\n",
       "0        3        8        6        5   \n",
       "1       71      160      163        9   \n",
       "2        0        5        7        1   \n",
       "3        0        0        2        0   \n",
       "4       41       32       40       11   \n",
       "\n",
       "                                          media  \n",
       "0                               a press release  \n",
       "1         a press conference at the White House  \n",
       "2                                      a speech  \n",
       "3  an interview on The John Gambling radio show  \n",
       "4                                  an interview  "
      ]
     },
     "execution_count": 53,
     "metadata": {},
     "output_type": "execute_result"
    }
   ],
   "source": [
    "df_test.head()"
   ]
  },
  {
   "cell_type": "code",
   "execution_count": 45,
   "metadata": {},
   "outputs": [],
   "source": [
    "# VIGTIG NOTE: måden jeg opdeler sættet på er MEGET dårlig, på det endelige skal vi shuffle og derefter opdele! "
   ]
  },
  {
   "cell_type": "code",
   "execution_count": null,
   "metadata": {},
   "outputs": [],
   "source": [
    "### Nearest hood (neighbors)"
   ]
  },
  {
   "cell_type": "code",
   "execution_count": 7,
   "metadata": {},
   "outputs": [
    {
     "ename": "NameError",
     "evalue": "name 'df' is not defined",
     "output_type": "error",
     "traceback": [
      "\u001b[1;31m---------------------------------------------------------------------------\u001b[0m",
      "\u001b[1;31mNameError\u001b[0m                                 Traceback (most recent call last)",
      "\u001b[1;32m<ipython-input-7-2f601155bd5c>\u001b[0m in \u001b[0;36m<module>\u001b[1;34m\u001b[0m\n\u001b[0;32m      1\u001b[0m \u001b[1;32mfrom\u001b[0m \u001b[0msklearn\u001b[0m\u001b[1;33m.\u001b[0m\u001b[0mfeature_extraction\u001b[0m\u001b[1;33m.\u001b[0m\u001b[0mtext\u001b[0m \u001b[1;32mimport\u001b[0m \u001b[0mTfidfVectorizer\u001b[0m\u001b[1;33m\u001b[0m\u001b[1;33m\u001b[0m\u001b[0m\n\u001b[0;32m      2\u001b[0m \u001b[0mv\u001b[0m \u001b[1;33m=\u001b[0m \u001b[0mTfidfVectorizer\u001b[0m\u001b[1;33m(\u001b[0m\u001b[1;33m)\u001b[0m\u001b[1;33m\u001b[0m\u001b[1;33m\u001b[0m\u001b[0m\n\u001b[1;32m----> 3\u001b[1;33m \u001b[0mx\u001b[0m \u001b[1;33m=\u001b[0m \u001b[0mv\u001b[0m\u001b[1;33m.\u001b[0m\u001b[0mfit_transform\u001b[0m\u001b[1;33m(\u001b[0m\u001b[0mdf\u001b[0m\u001b[1;33m[\u001b[0m\u001b[1;34m\"content\"\u001b[0m\u001b[1;33m]\u001b[0m\u001b[1;33m)\u001b[0m\u001b[1;33m\u001b[0m\u001b[1;33m\u001b[0m\u001b[0m\n\u001b[0m",
      "\u001b[1;31mNameError\u001b[0m: name 'df' is not defined"
     ]
    }
   ],
   "source": [
    "from sklearn.feature_extraction.text import TfidfVectorizer\n",
    "v = TfidfVectorizer()\n",
    "x = v.fit_transform(df[\"content\"])"
   ]
  },
  {
   "cell_type": "code",
   "execution_count": 47,
   "metadata": {},
   "outputs": [
    {
     "data": {
      "text/plain": [
       "NearestCentroid(metric='euclidean', shrink_threshold=None)"
      ]
     },
     "execution_count": 47,
     "metadata": {},
     "output_type": "execute_result"
    }
   ],
   "source": [
    "from sklearn.neighbors import NearestCentroid\n",
    "\n",
    "X = np.array(x.toarray()[int(len(df[\"type_id\"])/2):])\n",
    "y = np.array(df[\"type_id\"][int(len(df[\"type_id\"])/2):])\n",
    "clf = NearestCentroid()\n",
    "clf.fit(X, y)"
   ]
  },
  {
   "cell_type": "code",
   "execution_count": 48,
   "metadata": {},
   "outputs": [
    {
     "name": "stdout",
     "output_type": "stream",
     "text": [
      "Number of mislabeled points out of a total 125 points : 63\n"
     ]
    }
   ],
   "source": [
    "test_X = x.toarray()[:int(len(df[\"type_id\"])/2)]\n",
    "test_y = df[\"type_id\"][:int(len(df[\"type_id\"])/2)]\n",
    "\n",
    "predictions = clf.predict(np.array(test_X))\n",
    "\n",
    "failCounter = 0\n",
    "for i in range(int(len(df[\"type_id\"])/2)):\n",
    "    if (predictions[i] != test_y[i]):\n",
    "        failCounter += 1\n",
    "        \n",
    "print(\"Number of mislabeled points out of a total %d points : %d\" % (len(test_X), failCounter))"
   ]
  },
  {
   "cell_type": "code",
   "execution_count": 29,
   "metadata": {},
   "outputs": [],
   "source": [
    "### Naive bayes"
   ]
  },
  {
   "cell_type": "code",
   "execution_count": 49,
   "metadata": {},
   "outputs": [
    {
     "name": "stdout",
     "output_type": "stream",
     "text": [
      "Number of mislabeled points out of a total 125 points : 57\n"
     ]
    }
   ],
   "source": [
    "from sklearn.model_selection import train_test_split\n",
    "from sklearn.naive_bayes import GaussianNB\n",
    "X_train, X_test, y_train, y_test = train_test_split(x.toarray(), df[\"type_id\"], test_size=0.5, random_state=0)\n",
    "gnb = GaussianNB()\n",
    "y_pred = gnb.fit(X_train, y_train).predict(X_test)\n",
    "print(\"Number of mislabeled points out of a total %d points : %d\" % (X_test.shape[0], (y_test != y_pred).sum()))"
   ]
  },
  {
   "cell_type": "code",
   "execution_count": 42,
   "metadata": {},
   "outputs": [],
   "source": [
    "### Decision trees"
   ]
  },
  {
   "cell_type": "code",
   "execution_count": 61,
   "metadata": {},
   "outputs": [],
   "source": [
    "from sklearn import tree\n",
    "\n",
    "X = x.toarray()[int(len(df[\"type_id\"])/2):]\n",
    "y = df[\"type_id\"][int(len(df[\"type_id\"])/2):]\n",
    "clf = tree.DecisionTreeClassifier()\n",
    "clf = clf.fit(train_X, train_y)"
   ]
  },
  {
   "cell_type": "code",
   "execution_count": 62,
   "metadata": {},
   "outputs": [
    {
     "name": "stdout",
     "output_type": "stream",
     "text": [
      "Number of mislabeled points out of a total 125 points : 0\n"
     ]
    }
   ],
   "source": [
    "test_X = x.toarray()[:int(len(df[\"type_id\"])/2)]\n",
    "test_y = df[\"type_id\"][:int(len(df[\"type_id\"])/2)]\n",
    "\n",
    "predictions = clf.predict(np.array(train_X))\n",
    "\n",
    "failCounter = 0\n",
    "for i in range(int(len(df[\"type_id\"])/2)):\n",
    "    if (predictions[i] != test_y[i]):\n",
    "        failCounter += 1\n",
    "        \n",
    "print(\"Number of mislabeled points out of a total %d points : %d\" % (len(test_X), failCounter))"
   ]
  },
  {
   "cell_type": "code",
   "execution_count": 63,
   "metadata": {},
   "outputs": [],
   "source": [
    "### Support Vector Machines"
   ]
  },
  {
   "cell_type": "code",
   "execution_count": 67,
   "metadata": {},
   "outputs": [
    {
     "data": {
      "text/plain": [
       "SVC(C=1.0, cache_size=200, class_weight=None, coef0=0.0,\n",
       "    decision_function_shape='ovr', degree=3, gamma='scale', kernel='rbf',\n",
       "    max_iter=-1, probability=False, random_state=None, shrinking=True,\n",
       "    tol=0.001, verbose=False)"
      ]
     },
     "execution_count": 67,
     "metadata": {},
     "output_type": "execute_result"
    }
   ],
   "source": [
    "from sklearn import svm\n",
    "X = x.toarray()[int(len(df[\"type_id\"])/2):]\n",
    "y = df[\"type_id\"][int(len(df[\"type_id\"])/2):]\n",
    "clf = svm.SVC(gamma='scale')\n",
    "clf.fit(X, y)"
   ]
  },
  {
   "cell_type": "code",
   "execution_count": 66,
   "metadata": {},
   "outputs": [
    {
     "data": {
      "text/plain": [
       "array([1, 1, 1, 1, 1, 1, 1, 1, 1, 1, 1, 1, 1, 1, 1, 1, 1, 1, 1, 1, 1, 1,\n",
       "       1, 1, 1, 1, 1, 1, 1, 1, 1, 1, 1, 1, 1, 1, 1, 1, 1, 1, 1, 1, 1, 1,\n",
       "       1, 1, 1, 1, 1, 1, 1, 1, 1, 1, 1, 1, 1, 1, 1, 1, 1, 1, 1, 1, 1, 1,\n",
       "       1, 1, 1, 1, 1, 1, 1, 1, 1, 1, 1, 1, 1, 1, 1, 1, 1, 1, 1, 1, 1, 1,\n",
       "       1, 1, 1, 1, 1, 1, 1, 1, 1, 1, 1, 1, 1, 1, 1, 1, 1, 1, 1, 1, 1, 1,\n",
       "       1, 1, 1, 1, 1, 1, 1, 1, 1, 1, 1, 1, 1, 1, 1], dtype=int64)"
      ]
     },
     "execution_count": 66,
     "metadata": {},
     "output_type": "execute_result"
    }
   ],
   "source": [
    "### note testen gik meget godt, men det betyder ikke man har en god model ;)\n",
    "clf.predict(np.array(train_X))"
   ]
  },
  {
   "cell_type": "code",
   "execution_count": 68,
   "metadata": {},
   "outputs": [
    {
     "name": "stdout",
     "output_type": "stream",
     "text": [
      "Number of mislabeled points out of a total 125 points : 61\n"
     ]
    }
   ],
   "source": [
    "test_X = x.toarray()[:int(len(df[\"type_id\"])/2)]\n",
    "test_y = df[\"type_id\"][:int(len(df[\"type_id\"])/2)]\n",
    "\n",
    "predictions = clf.predict(np.array(train_X))\n",
    "\n",
    "failCounter = 0\n",
    "for i in range(int(len(df[\"type_id\"])/2)):\n",
    "    if (predictions[i] != test_y[i]):\n",
    "        failCounter += 1\n",
    "        \n",
    "print(\"Number of mislabeled points out of a total %d points : %d\" % (len(test_X), failCounter))"
   ]
  },
  {
   "cell_type": "code",
   "execution_count": 8,
   "metadata": {},
   "outputs": [],
   "source": [
    "# Med Lair datasæt"
   ]
  },
  {
   "cell_type": "code",
   "execution_count": null,
   "metadata": {},
   "outputs": [],
   "source": [
    "### nearest hood"
   ]
  },
  {
   "cell_type": "code",
   "execution_count": 70,
   "metadata": {},
   "outputs": [],
   "source": [
    "X_train, X_test, y_train, y_test = train_test_split(x.toarray(), df_train[\"rating\"], test_size=0.5, random_state=0)"
   ]
  },
  {
   "cell_type": "code",
   "execution_count": 27,
   "metadata": {},
   "outputs": [],
   "source": [
    "from sklearn.feature_extraction.text import TfidfVectorizer\n",
    "v = TfidfVectorizer()\n",
    "x = v.fit_transform(df_train[\"content\"])"
   ]
  },
  {
   "cell_type": "code",
   "execution_count": 77,
   "metadata": {},
   "outputs": [
    {
     "data": {
      "text/plain": [
       "NearestCentroid(metric='euclidean', shrink_threshold=None)"
      ]
     },
     "execution_count": 77,
     "metadata": {},
     "output_type": "execute_result"
    }
   ],
   "source": [
    "from sklearn.neighbors import NearestCentroid\n",
    "\n",
    "clf = NearestCentroid()\n",
    "clf.fit(X_train, y_train)"
   ]
  },
  {
   "cell_type": "code",
   "execution_count": null,
   "metadata": {},
   "outputs": [],
   "source": [
    "### Naive bias"
   ]
  },
  {
   "cell_type": "code",
   "execution_count": 85,
   "metadata": {},
   "outputs": [
    {
     "name": "stdout",
     "output_type": "stream",
     "text": [
      "Number of mislabeled points out of a total 100 points : 78\n"
     ]
    }
   ],
   "source": [
    "from sklearn.model_selection import train_test_split\n",
    "from sklearn.naive_bayes import GaussianNB\n",
    "\n",
    "gnb = GaussianNB()\n",
    "y_pred = gnb.fit(X_train, y_train).predict(X_test)\n",
    "print(\"Number of mislabeled points out of a total %d points : %d\" % (X_test.shape[0], (y_test != y_pred).sum()))"
   ]
  },
  {
   "cell_type": "code",
   "execution_count": 68,
   "metadata": {},
   "outputs": [],
   "source": [
    "### Decision trees"
   ]
  },
  {
   "cell_type": "code",
   "execution_count": 90,
   "metadata": {},
   "outputs": [],
   "source": [
    "from sklearn import tree\n",
    "\n",
    "clf = tree.DecisionTreeClassifier()\n",
    "clf = clf.fit(X_train, y_train)"
   ]
  },
  {
   "cell_type": "code",
   "execution_count": null,
   "metadata": {},
   "outputs": [],
   "source": [
    "### Support Vector Machine"
   ]
  },
  {
   "cell_type": "code",
   "execution_count": 93,
   "metadata": {},
   "outputs": [
    {
     "data": {
      "text/plain": [
       "SVC(C=1.0, cache_size=200, class_weight=None, coef0=0.0,\n",
       "    decision_function_shape='ovr', degree=3, gamma='scale', kernel='rbf',\n",
       "    max_iter=-1, probability=False, random_state=None, shrinking=True,\n",
       "    tol=0.001, verbose=False)"
      ]
     },
     "execution_count": 93,
     "metadata": {},
     "output_type": "execute_result"
    }
   ],
   "source": [
    "from sklearn import svm\n",
    "\n",
    "clf = svm.SVC(gamma='scale')\n",
    "clf.fit(X_train, y_train)"
   ]
  },
  {
   "cell_type": "code",
   "execution_count": null,
   "metadata": {},
   "outputs": [],
   "source": [
    "### test model"
   ]
  },
  {
   "cell_type": "code",
   "execution_count": 94,
   "metadata": {},
   "outputs": [
    {
     "name": "stdout",
     "output_type": "stream",
     "text": [
      "Number of mislabeled points out of a total 100 points : 34\n"
     ]
    }
   ],
   "source": [
    "predictions = clf.predict(np.array(test_X))\n",
    "\n",
    "failCounter = 0\n",
    "for i in range(int(len(df_test[\"rating\"])/2)):\n",
    "    if (predictions[i] != test_y[i]):\n",
    "        failCounter += 1\n",
    "        \n",
    "print(\"Number of mislabeled points out of a total %d points : %d\" % (len(test_X), failCounter))"
   ]
  },
  {
   "cell_type": "code",
   "execution_count": 96,
   "metadata": {},
   "outputs": [
    {
     "data": {
      "text/plain": [
       "0.15919645370109767"
      ]
     },
     "execution_count": 96,
     "metadata": {},
     "output_type": "execute_result"
    }
   ],
   "source": [
    "from sklearn.metrics import f1_score\n",
    "\n",
    "f1_score(y_test, predictions, average='macro')"
   ]
  },
  {
   "cell_type": "code",
   "execution_count": null,
   "metadata": {},
   "outputs": [],
   "source": []
  }
 ],
 "metadata": {
  "kernelspec": {
   "display_name": "Python 3",
   "language": "python",
   "name": "python3"
  },
  "language_info": {
   "codemirror_mode": {
    "name": "ipython",
    "version": 3
   },
   "file_extension": ".py",
   "mimetype": "text/x-python",
   "name": "python",
   "nbconvert_exporter": "python",
   "pygments_lexer": "ipython3",
   "version": "3.7.4"
  }
 },
 "nbformat": 4,
 "nbformat_minor": 4
}
