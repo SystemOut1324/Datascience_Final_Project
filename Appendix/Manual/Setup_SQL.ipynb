{
 "cells": [
  {
   "cell_type": "markdown",
   "metadata": {},
   "source": [
    "## **Opsætning af SQL-database (Fakenews data)**\n",
    "Dette dokument tager udgangspunkt i fakenews datasættet\n",
    "\n",
    "### **Klargøring af data**\n",
    "Når man har datasættet i csv format skal man først opdele det i mindre dele og ryde op i data’et. Dette kan gøre med scriptet: https://github.com/JonathanAhrenkiel-Frellsen/Milestone_Datascience/blob/master/Organize_Daniel_crash.ipynb\n",
    "\n",
    "Dette er det script vi brugte i milestone opgaven.\n",
    "\n",
    "### **Opsætning af værktøjer**\n",
    "Efter det skal man opsætte sin database. Dette kan man gøre i pgadmin eller psql terminalen. Jeg tager udgangspunkt i psql! De credentials man skal bruge i psql er bare default og derefter din kode (koden behøver ikke at være lang, det er normalt at den bare er ”root”). \n",
    "\n",
    "### **Opstilling af databasen**\n",
    "Før man opstiller databasen er det i en god ide at skrive ”\\d” i psql, dette giver alle tables. Hvis den er tom kan du forsætte, hvis du vil slætte et table skal man skrive ”DROP TABLE [table_name] **CASCADE**;” [table_name] er navnet på det table man vil slætte, CASCADE  er ikke nødvendigt, kun hvis man slætter et table som har relation til andre tables eller omvent. **HUSK SIMICOLON** jeg glemmer det altid 😉\n",
    "\n",
    "Når eller hvis du har slættet de tables som ikke skal være der kan du skrive komandoen ”\\i [path_to_sql_file].sql;” eksempel: ”\\i C:/Users/jola1/Desktop/ERDreal.sql;” tor det er vigtigt at skrive ”/” og ikke ”\\”, men er ikke sikker. Efter det kan du skrive ”\\d” igen for at se om dine tables er lavet. \n",
    "\n",
    "### **Populate database**\n",
    "Nu har du opsættet csv filerne fra afsnittet ”Klargøring af data” og opsættet databasen i afsnittet ”Opstilling af databasen” nu kan du overfør dataet fra csv filerne til databasen med psql. Dette gør man med komandoen: “\\COPY [table_name] FROM '[csv_file_position]’ DELIMITER ',' CSV HEADER; \n",
    "\n",
    "Her er et eksempel: \n",
    "\n",
    "\\COPY\n",
    "\n",
    "article(id,domain_id,type_id,url,content,title,meta_description,scraped_at,updated_at,inserted_at) FROM 'C:/Users/jola1/Desktop/Milestone_Datascience-master/article_clean.csv' DELIMITER ',' CSV HEADER; \n",
    "\n",
    "eller \n",
    "\n",
    "\\COPY article FROM 'C:/Users/jola1/Desktop/Milestone_Datascience-master/article_clean.csv' DELIMITER ',' CSV HEADER;\n",
    "\n",
    "Den sql fil som jeg bruger kan downloades fra her:\n",
    "\n",
    "https://discordapp.com/channels/@me/690271126944874496/714802715682668585"
   ]
  },
  {
   "cell_type": "markdown",
   "metadata": {},
   "source": [
    "## General useful commands\n",
    "### |  |  |\n",
    "| SQL cmd | cmd description |\n",
    "| :------------ |:------------|\n",
    "| \\l | List available databases |\n",
    "| \\c database_name | Connect to a Database  |\n",
    "| \\dt | List available tables |\n",
    "| \\d table_name | Describe a table |\n",
    "| \\dn | List available schema |\n",
    "| \\df | List available functions |\n",
    "| \\dv | List available views |\n",
    "| \\du | List users and their roles |\n",
    "| \\dt \\*.\\* | List tables in all schemas |\n",
    "| \\dt public.* | List tables in \"public\"-schema |\n",
    "| \\i filename | Execute psql commands from a file |"
   ]
  },
  {
   "cell_type": "markdown",
   "metadata": {},
   "source": [
    "## CREATING VIEW\n",
    "\n",
    "IMP pt we chose to combine with these colums/tables\n",
    "\n",
    "Below tables shows what tables has to be conbined\n",
    "\n",
    "| FakeNews table | WikiNews table |\n",
    "| ------------- |-------------|\n",
    "| Content | content |\n",
    "| title | title |\n",
    "| type_id | [create type_id] = reliable_id |\n",
    "| type | [create type] = reliable |\n",
    "| Meta_keywords| Categories |"
   ]
  },
  {
   "cell_type": "markdown",
   "metadata": {},
   "source": [
    "## Populating DataBase"
   ]
  },
  {
   "cell_type": "code",
   "execution_count": 12,
   "metadata": {},
   "outputs": [
    {
     "output_type": "stream",
     "name": "stdout",
     "text": "[PostgreSQL return] -  [] \n\n[PostgreSQL connection is closed]\n"
    }
   ],
   "source": [
    "# postgres lib\n",
    "import psycopg2\n",
    "\n",
    "tmp = \"SELECT type_id FROM fakenews_type;\"\n",
    "\n",
    "def SQL_query(use_database= \"data_science\")\n",
    "try:\n",
    "    connection = psycopg2.connect(user = \"postgres\",\n",
    "                                  password = \"root\",\n",
    "                                  host = \"127.0.0.1\",\n",
    "                                  port = \"5432\",\n",
    "                                  database = use_database)\n",
    "    cursor = connection.cursor()\n",
    "\n",
    "    # Print PostgreSQL version\n",
    "    # cursor.execute(\"COPY fakenews_domain_name FROM 'D:/Personal/OneDrive/KU-uni/DataScience/Python/Datascience_Final_Project/Appendix/Data_git_ignore/clean_csv/domain_name_clean.csv' DELIMITER ',' CSV HEADER;\")\n",
    "    cursor.execute(\"SELECT type_id FROM fakenews_type;\")\n",
    "    record = cursor.fetchall() \n",
    "    print(\"[PostgreSQL return] - \", record,\"\\n\")\n",
    "\n",
    "# Print if something is wrong ie. setup\n",
    "except (Exception, psycopg2.Error) as error :\n",
    "    print (\"[PostgreSQL Error] -\", error)\n",
    "finally:\n",
    "    #closing database connection.\n",
    "        if(connection):\n",
    "            cursor.close()\n",
    "            connection.close()\n",
    "            print(\"[PostgreSQL connection is closed]\")"
   ]
  }
 ],
 "metadata": {
  "kernelspec": {
   "display_name": "Python 3.8.3 64-bit ('DS': conda)",
   "language": "python",
   "name": "python38364bitdsconda84862e90309c4c22a12caae225d7d73a"
  },
  "language_info": {
   "codemirror_mode": {
    "name": "ipython",
    "version": 3
   },
   "file_extension": ".py",
   "mimetype": "text/x-python",
   "name": "python",
   "nbconvert_exporter": "python",
   "pygments_lexer": "ipython3",
   "version": "3.8.3-final"
  }
 },
 "nbformat": 4,
 "nbformat_minor": 4
}