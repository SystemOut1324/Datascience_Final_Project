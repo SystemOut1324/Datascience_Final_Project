{
 "cells": [
  {
   "cell_type": "code",
   "execution_count": 2,
   "metadata": {},
   "outputs": [],
   "source": [
    "import psycopg2\n",
    "import nltk\n",
    "import pandas as pd\n",
    "import numpy as np\n",
    "import re\n",
    "import string\n",
    "import spacy\n",
    "import sklearn\n",
    "from sklearn.svm import LinearSVC\n",
    "from sklearn.model_selection import train_test_split"
   ]
  },
  {
   "cell_type": "code",
   "execution_count": 2,
   "metadata": {},
   "outputs": [
    {
     "data": {
      "text/html": [
       "<div>\n",
       "<style scoped>\n",
       "    .dataframe tbody tr th:only-of-type {\n",
       "        vertical-align: middle;\n",
       "    }\n",
       "\n",
       "    .dataframe tbody tr th {\n",
       "        vertical-align: top;\n",
       "    }\n",
       "\n",
       "    .dataframe thead th {\n",
       "        text-align: right;\n",
       "    }\n",
       "</style>\n",
       "<table border=\"1\" class=\"dataframe\">\n",
       "  <thead>\n",
       "    <tr style=\"text-align: right;\">\n",
       "      <th></th>\n",
       "      <th>id</th>\n",
       "      <th>domain</th>\n",
       "      <th>type</th>\n",
       "      <th>url</th>\n",
       "      <th>content</th>\n",
       "      <th>scraped_at</th>\n",
       "      <th>inserted_at</th>\n",
       "      <th>updated_at</th>\n",
       "      <th>title</th>\n",
       "      <th>authors</th>\n",
       "      <th>keywords</th>\n",
       "      <th>meta_keywords</th>\n",
       "      <th>meta_description</th>\n",
       "      <th>tags</th>\n",
       "      <th>summary</th>\n",
       "      <th>source</th>\n",
       "      <th>type_id</th>\n",
       "    </tr>\n",
       "  </thead>\n",
       "  <tbody>\n",
       "    <tr>\n",
       "      <td>0</td>\n",
       "      <td>2</td>\n",
       "      <td>express.co.uk</td>\n",
       "      <td>rumor</td>\n",
       "      <td>https://www.express.co.uk/news/science/738402/...</td>\n",
       "      <td>Life is an illusion, at least on a quantum lev...</td>\n",
       "      <td>2018-01-25 16:17:44.789555</td>\n",
       "      <td>2018-02-02 01:19:41.756632</td>\n",
       "      <td>2018-02-02 01:19:41.756664</td>\n",
       "      <td>Is life an ILLUSION? Researchers prove 'realit...</td>\n",
       "      <td>Sean Martin</td>\n",
       "      <td>NaN</td>\n",
       "      <td>['']</td>\n",
       "      <td>THE UNIVERSE ceases to exist when we are not l...</td>\n",
       "      <td>NaN</td>\n",
       "      <td>NaN</td>\n",
       "      <td>NaN</td>\n",
       "      <td>8</td>\n",
       "    </tr>\n",
       "    <tr>\n",
       "      <td>1</td>\n",
       "      <td>6</td>\n",
       "      <td>barenakedislam.com</td>\n",
       "      <td>hate</td>\n",
       "      <td>http://barenakedislam.com/category/donald-trum...</td>\n",
       "      <td>Unfortunately, he hasn’t yet attacked her for ...</td>\n",
       "      <td>2018-01-25 16:17:44.789555</td>\n",
       "      <td>2018-02-02 01:19:41.756632</td>\n",
       "      <td>2018-02-02 01:19:41.756664</td>\n",
       "      <td>Donald Trump</td>\n",
       "      <td>Linda Rivera, Conrad Calvano, Az Gal, Lincoln ...</td>\n",
       "      <td>NaN</td>\n",
       "      <td>['']</td>\n",
       "      <td>NaN</td>\n",
       "      <td>NaN</td>\n",
       "      <td>NaN</td>\n",
       "      <td>NaN</td>\n",
       "      <td>4</td>\n",
       "    </tr>\n",
       "    <tr>\n",
       "      <td>2</td>\n",
       "      <td>7</td>\n",
       "      <td>barenakedislam.com</td>\n",
       "      <td>hate</td>\n",
       "      <td>http://barenakedislam.com/category/donald-trum...</td>\n",
       "      <td>The Los Angeles Police Department has been den...</td>\n",
       "      <td>2018-01-25 16:17:44.789555</td>\n",
       "      <td>2018-02-02 01:19:41.756632</td>\n",
       "      <td>2018-02-02 01:19:41.756664</td>\n",
       "      <td>Donald Trump</td>\n",
       "      <td>Linda Rivera, Conrad Calvano, Az Gal, Lincoln ...</td>\n",
       "      <td>NaN</td>\n",
       "      <td>['']</td>\n",
       "      <td>NaN</td>\n",
       "      <td>NaN</td>\n",
       "      <td>NaN</td>\n",
       "      <td>NaN</td>\n",
       "      <td>4</td>\n",
       "    </tr>\n",
       "    <tr>\n",
       "      <td>3</td>\n",
       "      <td>8</td>\n",
       "      <td>barenakedislam.com</td>\n",
       "      <td>hate</td>\n",
       "      <td>http://barenakedislam.com/2017/12/24/more-winn...</td>\n",
       "      <td>The White House has decided to quietly withdra...</td>\n",
       "      <td>2018-01-25 16:17:44.789555</td>\n",
       "      <td>2018-02-02 01:19:41.756632</td>\n",
       "      <td>2018-02-02 01:19:41.756664</td>\n",
       "      <td>MORE WINNING! Israeli intelligence source, DEB...</td>\n",
       "      <td>Cleavis Nowell, Cleavisnowell, Clarence J. Fei...</td>\n",
       "      <td>NaN</td>\n",
       "      <td>['']</td>\n",
       "      <td>NaN</td>\n",
       "      <td>NaN</td>\n",
       "      <td>NaN</td>\n",
       "      <td>NaN</td>\n",
       "      <td>4</td>\n",
       "    </tr>\n",
       "    <tr>\n",
       "      <td>4</td>\n",
       "      <td>9</td>\n",
       "      <td>barenakedislam.com</td>\n",
       "      <td>hate</td>\n",
       "      <td>http://barenakedislam.com/2017/12/25/oh-trump-...</td>\n",
       "      <td>“The time has come to cut off the tongues of t...</td>\n",
       "      <td>2018-01-25 16:17:44.789555</td>\n",
       "      <td>2018-02-02 01:19:41.756632</td>\n",
       "      <td>2018-02-02 01:19:41.756664</td>\n",
       "      <td>“Oh, Trump, you coward, you just wait, we will...</td>\n",
       "      <td>F.N. Lehner, Don Spilman, Clarence J. Feinour,...</td>\n",
       "      <td>NaN</td>\n",
       "      <td>['']</td>\n",
       "      <td>NaN</td>\n",
       "      <td>NaN</td>\n",
       "      <td>NaN</td>\n",
       "      <td>NaN</td>\n",
       "      <td>4</td>\n",
       "    </tr>\n",
       "  </tbody>\n",
       "</table>\n",
       "</div>"
      ],
      "text/plain": [
       "  id              domain   type  \\\n",
       "0  2       express.co.uk  rumor   \n",
       "1  6  barenakedislam.com   hate   \n",
       "2  7  barenakedislam.com   hate   \n",
       "3  8  barenakedislam.com   hate   \n",
       "4  9  barenakedislam.com   hate   \n",
       "\n",
       "                                                 url  \\\n",
       "0  https://www.express.co.uk/news/science/738402/...   \n",
       "1  http://barenakedislam.com/category/donald-trum...   \n",
       "2  http://barenakedislam.com/category/donald-trum...   \n",
       "3  http://barenakedislam.com/2017/12/24/more-winn...   \n",
       "4  http://barenakedislam.com/2017/12/25/oh-trump-...   \n",
       "\n",
       "                                             content  \\\n",
       "0  Life is an illusion, at least on a quantum lev...   \n",
       "1  Unfortunately, he hasn’t yet attacked her for ...   \n",
       "2  The Los Angeles Police Department has been den...   \n",
       "3  The White House has decided to quietly withdra...   \n",
       "4  “The time has come to cut off the tongues of t...   \n",
       "\n",
       "                   scraped_at                 inserted_at  \\\n",
       "0  2018-01-25 16:17:44.789555  2018-02-02 01:19:41.756632   \n",
       "1  2018-01-25 16:17:44.789555  2018-02-02 01:19:41.756632   \n",
       "2  2018-01-25 16:17:44.789555  2018-02-02 01:19:41.756632   \n",
       "3  2018-01-25 16:17:44.789555  2018-02-02 01:19:41.756632   \n",
       "4  2018-01-25 16:17:44.789555  2018-02-02 01:19:41.756632   \n",
       "\n",
       "                   updated_at  \\\n",
       "0  2018-02-02 01:19:41.756664   \n",
       "1  2018-02-02 01:19:41.756664   \n",
       "2  2018-02-02 01:19:41.756664   \n",
       "3  2018-02-02 01:19:41.756664   \n",
       "4  2018-02-02 01:19:41.756664   \n",
       "\n",
       "                                               title  \\\n",
       "0  Is life an ILLUSION? Researchers prove 'realit...   \n",
       "1                                       Donald Trump   \n",
       "2                                       Donald Trump   \n",
       "3  MORE WINNING! Israeli intelligence source, DEB...   \n",
       "4  “Oh, Trump, you coward, you just wait, we will...   \n",
       "\n",
       "                                             authors  keywords meta_keywords  \\\n",
       "0                                        Sean Martin       NaN          ['']   \n",
       "1  Linda Rivera, Conrad Calvano, Az Gal, Lincoln ...       NaN          ['']   \n",
       "2  Linda Rivera, Conrad Calvano, Az Gal, Lincoln ...       NaN          ['']   \n",
       "3  Cleavis Nowell, Cleavisnowell, Clarence J. Fei...       NaN          ['']   \n",
       "4  F.N. Lehner, Don Spilman, Clarence J. Feinour,...       NaN          ['']   \n",
       "\n",
       "                                    meta_description tags  summary  source  \\\n",
       "0  THE UNIVERSE ceases to exist when we are not l...  NaN      NaN     NaN   \n",
       "1                                                NaN  NaN      NaN     NaN   \n",
       "2                                                NaN  NaN      NaN     NaN   \n",
       "3                                                NaN  NaN      NaN     NaN   \n",
       "4                                                NaN  NaN      NaN     NaN   \n",
       "\n",
       "   type_id  \n",
       "0        8  \n",
       "1        4  \n",
       "2        4  \n",
       "3        4  \n",
       "4        4  "
      ]
     },
     "execution_count": 2,
     "metadata": {},
     "output_type": "execute_result"
    }
   ],
   "source": [
    "# importing and creating df (has to have type_id)\n",
    "\n",
    "# usage: specify file location, sample size and seed(used by random)\n",
    "#filepath = '../Data_sample/FakeNewsCorpus_250.csv' # 250 rows of FakeNewsCorpus\n",
    "filepath = '/Users/Master/Documents/KU/2.Semester/Datascience/1mioraw.csv'       # 1 mil rows raw\n",
    "#s = 1000000                                            # desired sample size\n",
    "#seed = 1                                           # seed used by Pseudorandom number generator\n",
    "\n",
    "df = pd.read_csv(filepath, index_col = [0])\n",
    "df[\"content\"] = df[\"content\"].astype(str)\n",
    "# create type_id\n",
    "df['type_id'] = df.groupby(['type']).ngroup()\n",
    "\n",
    "df.head()"
   ]
  },
  {
   "cell_type": "code",
   "execution_count": 3,
   "metadata": {},
   "outputs": [
    {
     "data": {
      "text/plain": [
       "Index([   0,    1,    2,    3,    4,    5,    6,    7,    8,    9,\n",
       "       ...\n",
       "       9924, 9925, 9926, 9927, 9928, 9929, 9930, 9931, 9932, 9933],\n",
       "      dtype='object', length=1000000)"
      ]
     },
     "execution_count": 3,
     "metadata": {},
     "output_type": "execute_result"
    }
   ],
   "source": [
    "df.index"
   ]
  },
  {
   "cell_type": "code",
   "execution_count": 28,
   "metadata": {},
   "outputs": [],
   "source": []
  },
  {
   "cell_type": "code",
   "execution_count": 4,
   "metadata": {},
   "outputs": [],
   "source": [
    "#1\n",
    "df['id'] = pd.to_numeric(df['id'], errors = 'coerce', downcast = 'integer')\n",
    "df.dropna(subset=['id'], inplace = True)\n",
    "#df.drop_duplicates(subset = 'content', inplace = True)\n",
    "df.drop_duplicates(subset = 'id', inplace = True)\n",
    "df.id = df.id.astype(int)\n",
    "\n"
   ]
  },
  {
   "cell_type": "code",
   "execution_count": 5,
   "metadata": {},
   "outputs": [
    {
     "data": {
      "text/html": [
       "<div>\n",
       "<style scoped>\n",
       "    .dataframe tbody tr th:only-of-type {\n",
       "        vertical-align: middle;\n",
       "    }\n",
       "\n",
       "    .dataframe tbody tr th {\n",
       "        vertical-align: top;\n",
       "    }\n",
       "\n",
       "    .dataframe thead th {\n",
       "        text-align: right;\n",
       "    }\n",
       "</style>\n",
       "<table border=\"1\" class=\"dataframe\">\n",
       "  <thead>\n",
       "    <tr style=\"text-align: right;\">\n",
       "      <th></th>\n",
       "      <th>id</th>\n",
       "      <th>domain</th>\n",
       "      <th>type</th>\n",
       "      <th>url</th>\n",
       "      <th>content</th>\n",
       "      <th>scraped_at</th>\n",
       "      <th>inserted_at</th>\n",
       "      <th>updated_at</th>\n",
       "      <th>title</th>\n",
       "      <th>authors</th>\n",
       "      <th>keywords</th>\n",
       "      <th>meta_keywords</th>\n",
       "      <th>meta_description</th>\n",
       "      <th>tags</th>\n",
       "      <th>summary</th>\n",
       "      <th>source</th>\n",
       "      <th>type_id</th>\n",
       "    </tr>\n",
       "  </thead>\n",
       "  <tbody>\n",
       "  </tbody>\n",
       "</table>\n",
       "</div>"
      ],
      "text/plain": [
       "Empty DataFrame\n",
       "Columns: [id, domain, type, url, content, scraped_at, inserted_at, updated_at, title, authors, keywords, meta_keywords, meta_description, tags, summary, source, type_id]\n",
       "Index: []"
      ]
     },
     "execution_count": 5,
     "metadata": {},
     "output_type": "execute_result"
    }
   ],
   "source": [
    "df.loc[df['id'] == np.nan]"
   ]
  },
  {
   "cell_type": "code",
   "execution_count": 6,
   "metadata": {},
   "outputs": [
    {
     "data": {
      "text/html": [
       "<div>\n",
       "<style scoped>\n",
       "    .dataframe tbody tr th:only-of-type {\n",
       "        vertical-align: middle;\n",
       "    }\n",
       "\n",
       "    .dataframe tbody tr th {\n",
       "        vertical-align: top;\n",
       "    }\n",
       "\n",
       "    .dataframe thead th {\n",
       "        text-align: right;\n",
       "    }\n",
       "</style>\n",
       "<table border=\"1\" class=\"dataframe\">\n",
       "  <thead>\n",
       "    <tr style=\"text-align: right;\">\n",
       "      <th></th>\n",
       "      <th>id</th>\n",
       "      <th>domain</th>\n",
       "      <th>type</th>\n",
       "      <th>url</th>\n",
       "      <th>content</th>\n",
       "      <th>scraped_at</th>\n",
       "      <th>inserted_at</th>\n",
       "      <th>updated_at</th>\n",
       "      <th>title</th>\n",
       "      <th>authors</th>\n",
       "      <th>keywords</th>\n",
       "      <th>meta_keywords</th>\n",
       "      <th>meta_description</th>\n",
       "      <th>tags</th>\n",
       "      <th>summary</th>\n",
       "      <th>source</th>\n",
       "      <th>type_id</th>\n",
       "    </tr>\n",
       "  </thead>\n",
       "  <tbody>\n",
       "  </tbody>\n",
       "</table>\n",
       "</div>"
      ],
      "text/plain": [
       "Empty DataFrame\n",
       "Columns: [id, domain, type, url, content, scraped_at, inserted_at, updated_at, title, authors, keywords, meta_keywords, meta_description, tags, summary, source, type_id]\n",
       "Index: []"
      ]
     },
     "execution_count": 6,
     "metadata": {},
     "output_type": "execute_result"
    }
   ],
   "source": [
    "df.loc[df['id'].duplicated()]"
   ]
  },
  {
   "cell_type": "code",
   "execution_count": 7,
   "metadata": {},
   "outputs": [
    {
     "data": {
      "text/plain": [
       "2047      1\n",
       "983221    1\n",
       "995507    1\n",
       "997554    1\n",
       "991409    1\n",
       "         ..\n",
       "717812    1\n",
       "707571    1\n",
       "705522    1\n",
       "711665    1\n",
       "0         1\n",
       "Length: 999934, dtype: int64"
      ]
     },
     "execution_count": 7,
     "metadata": {},
     "output_type": "execute_result"
    }
   ],
   "source": [
    "df.reset_index(inplace = True, drop = True)\n",
    "df.index.value_counts()"
   ]
  },
  {
   "cell_type": "code",
   "execution_count": 36,
   "metadata": {},
   "outputs": [],
   "source": [
    "#df.info()\n",
    "#df.count"
   ]
  },
  {
   "cell_type": "code",
   "execution_count": 9,
   "metadata": {},
   "outputs": [],
   "source": [
    "dupidx_lst = df.loc[df['content'].duplicated()].index.tolist()\n"
   ]
  },
  {
   "cell_type": "code",
   "execution_count": 10,
   "metadata": {},
   "outputs": [],
   "source": [
    "df_Uniq = df.loc[~df.index.isin(dupidx_lst)]"
   ]
  },
  {
   "cell_type": "code",
   "execution_count": 11,
   "metadata": {},
   "outputs": [
    {
     "data": {
      "text/html": [
       "<div>\n",
       "<style scoped>\n",
       "    .dataframe tbody tr th:only-of-type {\n",
       "        vertical-align: middle;\n",
       "    }\n",
       "\n",
       "    .dataframe tbody tr th {\n",
       "        vertical-align: top;\n",
       "    }\n",
       "\n",
       "    .dataframe thead th {\n",
       "        text-align: right;\n",
       "    }\n",
       "</style>\n",
       "<table border=\"1\" class=\"dataframe\">\n",
       "  <thead>\n",
       "    <tr style=\"text-align: right;\">\n",
       "      <th></th>\n",
       "      <th>id</th>\n",
       "      <th>domain</th>\n",
       "      <th>type</th>\n",
       "      <th>url</th>\n",
       "      <th>content</th>\n",
       "      <th>scraped_at</th>\n",
       "      <th>inserted_at</th>\n",
       "      <th>updated_at</th>\n",
       "      <th>title</th>\n",
       "      <th>authors</th>\n",
       "      <th>keywords</th>\n",
       "      <th>meta_keywords</th>\n",
       "      <th>meta_description</th>\n",
       "      <th>tags</th>\n",
       "      <th>summary</th>\n",
       "      <th>source</th>\n",
       "      <th>type_id</th>\n",
       "    </tr>\n",
       "  </thead>\n",
       "  <tbody>\n",
       "    <tr>\n",
       "      <td>0</td>\n",
       "      <td>2</td>\n",
       "      <td>express.co.uk</td>\n",
       "      <td>rumor</td>\n",
       "      <td>https://www.express.co.uk/news/science/738402/...</td>\n",
       "      <td>Life is an illusion, at least on a quantum lev...</td>\n",
       "      <td>2018-01-25 16:17:44.789555</td>\n",
       "      <td>2018-02-02 01:19:41.756632</td>\n",
       "      <td>2018-02-02 01:19:41.756664</td>\n",
       "      <td>Is life an ILLUSION? Researchers prove 'realit...</td>\n",
       "      <td>Sean Martin</td>\n",
       "      <td>NaN</td>\n",
       "      <td>['']</td>\n",
       "      <td>THE UNIVERSE ceases to exist when we are not l...</td>\n",
       "      <td>NaN</td>\n",
       "      <td>NaN</td>\n",
       "      <td>NaN</td>\n",
       "      <td>8</td>\n",
       "    </tr>\n",
       "    <tr>\n",
       "      <td>1</td>\n",
       "      <td>6</td>\n",
       "      <td>barenakedislam.com</td>\n",
       "      <td>hate</td>\n",
       "      <td>http://barenakedislam.com/category/donald-trum...</td>\n",
       "      <td>Unfortunately, he hasn’t yet attacked her for ...</td>\n",
       "      <td>2018-01-25 16:17:44.789555</td>\n",
       "      <td>2018-02-02 01:19:41.756632</td>\n",
       "      <td>2018-02-02 01:19:41.756664</td>\n",
       "      <td>Donald Trump</td>\n",
       "      <td>Linda Rivera, Conrad Calvano, Az Gal, Lincoln ...</td>\n",
       "      <td>NaN</td>\n",
       "      <td>['']</td>\n",
       "      <td>NaN</td>\n",
       "      <td>NaN</td>\n",
       "      <td>NaN</td>\n",
       "      <td>NaN</td>\n",
       "      <td>4</td>\n",
       "    </tr>\n",
       "    <tr>\n",
       "      <td>2</td>\n",
       "      <td>7</td>\n",
       "      <td>barenakedislam.com</td>\n",
       "      <td>hate</td>\n",
       "      <td>http://barenakedislam.com/category/donald-trum...</td>\n",
       "      <td>The Los Angeles Police Department has been den...</td>\n",
       "      <td>2018-01-25 16:17:44.789555</td>\n",
       "      <td>2018-02-02 01:19:41.756632</td>\n",
       "      <td>2018-02-02 01:19:41.756664</td>\n",
       "      <td>Donald Trump</td>\n",
       "      <td>Linda Rivera, Conrad Calvano, Az Gal, Lincoln ...</td>\n",
       "      <td>NaN</td>\n",
       "      <td>['']</td>\n",
       "      <td>NaN</td>\n",
       "      <td>NaN</td>\n",
       "      <td>NaN</td>\n",
       "      <td>NaN</td>\n",
       "      <td>4</td>\n",
       "    </tr>\n",
       "    <tr>\n",
       "      <td>3</td>\n",
       "      <td>8</td>\n",
       "      <td>barenakedislam.com</td>\n",
       "      <td>hate</td>\n",
       "      <td>http://barenakedislam.com/2017/12/24/more-winn...</td>\n",
       "      <td>The White House has decided to quietly withdra...</td>\n",
       "      <td>2018-01-25 16:17:44.789555</td>\n",
       "      <td>2018-02-02 01:19:41.756632</td>\n",
       "      <td>2018-02-02 01:19:41.756664</td>\n",
       "      <td>MORE WINNING! Israeli intelligence source, DEB...</td>\n",
       "      <td>Cleavis Nowell, Cleavisnowell, Clarence J. Fei...</td>\n",
       "      <td>NaN</td>\n",
       "      <td>['']</td>\n",
       "      <td>NaN</td>\n",
       "      <td>NaN</td>\n",
       "      <td>NaN</td>\n",
       "      <td>NaN</td>\n",
       "      <td>4</td>\n",
       "    </tr>\n",
       "    <tr>\n",
       "      <td>4</td>\n",
       "      <td>9</td>\n",
       "      <td>barenakedislam.com</td>\n",
       "      <td>hate</td>\n",
       "      <td>http://barenakedislam.com/2017/12/25/oh-trump-...</td>\n",
       "      <td>“The time has come to cut off the tongues of t...</td>\n",
       "      <td>2018-01-25 16:17:44.789555</td>\n",
       "      <td>2018-02-02 01:19:41.756632</td>\n",
       "      <td>2018-02-02 01:19:41.756664</td>\n",
       "      <td>“Oh, Trump, you coward, you just wait, we will...</td>\n",
       "      <td>F.N. Lehner, Don Spilman, Clarence J. Feinour,...</td>\n",
       "      <td>NaN</td>\n",
       "      <td>['']</td>\n",
       "      <td>NaN</td>\n",
       "      <td>NaN</td>\n",
       "      <td>NaN</td>\n",
       "      <td>NaN</td>\n",
       "      <td>4</td>\n",
       "    </tr>\n",
       "    <tr>\n",
       "      <td>...</td>\n",
       "      <td>...</td>\n",
       "      <td>...</td>\n",
       "      <td>...</td>\n",
       "      <td>...</td>\n",
       "      <td>...</td>\n",
       "      <td>...</td>\n",
       "      <td>...</td>\n",
       "      <td>...</td>\n",
       "      <td>...</td>\n",
       "      <td>...</td>\n",
       "      <td>...</td>\n",
       "      <td>...</td>\n",
       "      <td>...</td>\n",
       "      <td>...</td>\n",
       "      <td>...</td>\n",
       "      <td>...</td>\n",
       "      <td>...</td>\n",
       "    </tr>\n",
       "    <tr>\n",
       "      <td>999895</td>\n",
       "      <td>1170082</td>\n",
       "      <td>wikileaks.org</td>\n",
       "      <td>unreliable</td>\n",
       "      <td>https://www.wikileaks.org/plusd/cables/1974ATO...</td>\n",
       "      <td>Raw content\\n\\nPAGE 01 NATO 05116 01 OF 02 201...</td>\n",
       "      <td>2018-01-25 20:13:50.426130</td>\n",
       "      <td>2018-02-02 01:19:41.756632</td>\n",
       "      <td>2018-02-02 01:19:41.756664</td>\n",
       "      <td>Cable: 1974ATO05116</td>\n",
       "      <td>NaN</td>\n",
       "      <td>NaN</td>\n",
       "      <td>['']</td>\n",
       "      <td>NaN</td>\n",
       "      <td>View Tags</td>\n",
       "      <td>NaN</td>\n",
       "      <td>NaN</td>\n",
       "      <td>11</td>\n",
       "    </tr>\n",
       "    <tr>\n",
       "      <td>999906</td>\n",
       "      <td>1170093</td>\n",
       "      <td>wikileaks.org</td>\n",
       "      <td>unreliable</td>\n",
       "      <td>https://www.wikileaks.org/plusd/cables/1976ABU...</td>\n",
       "      <td>Raw content\\n\\nCONFIDENTIAL PAGE 01 ABU DH 000...</td>\n",
       "      <td>2018-01-25 20:13:50.426130</td>\n",
       "      <td>2018-02-02 01:19:41.756632</td>\n",
       "      <td>2018-02-02 01:19:41.756664</td>\n",
       "      <td>Cable: 1976ABUDH00021</td>\n",
       "      <td>NaN</td>\n",
       "      <td>NaN</td>\n",
       "      <td>['']</td>\n",
       "      <td>NaN</td>\n",
       "      <td>View Tags</td>\n",
       "      <td>NaN</td>\n",
       "      <td>NaN</td>\n",
       "      <td>11</td>\n",
       "    </tr>\n",
       "    <tr>\n",
       "      <td>999913</td>\n",
       "      <td>1170100</td>\n",
       "      <td>wikileaks.org</td>\n",
       "      <td>unreliable</td>\n",
       "      <td>https://www.wikileaks.org/plusd/cables/1976ANK...</td>\n",
       "      <td>Raw content\\n\\nCONFIDENTIAL PAGE 01 ANKARA 019...</td>\n",
       "      <td>2018-01-25 20:13:50.426130</td>\n",
       "      <td>2018-02-02 01:19:41.756632</td>\n",
       "      <td>2018-02-02 01:19:41.756664</td>\n",
       "      <td>Cable: 1976ANKARA01989</td>\n",
       "      <td>NaN</td>\n",
       "      <td>NaN</td>\n",
       "      <td>['']</td>\n",
       "      <td>NaN</td>\n",
       "      <td>View Tags</td>\n",
       "      <td>NaN</td>\n",
       "      <td>NaN</td>\n",
       "      <td>11</td>\n",
       "    </tr>\n",
       "    <tr>\n",
       "      <td>999923</td>\n",
       "      <td>1170110</td>\n",
       "      <td>wikileaks.org</td>\n",
       "      <td>unreliable</td>\n",
       "      <td>https://www.wikileaks.org/plusd/cables/1976ROM...</td>\n",
       "      <td>Raw content\\n\\nLIMITED OFFICIAL USE PAGE 01 RO...</td>\n",
       "      <td>2018-01-25 20:13:50.426130</td>\n",
       "      <td>2018-02-02 01:19:41.756632</td>\n",
       "      <td>2018-02-02 01:19:41.756664</td>\n",
       "      <td>Cable: 1976ROME16372</td>\n",
       "      <td>NaN</td>\n",
       "      <td>NaN</td>\n",
       "      <td>['']</td>\n",
       "      <td>NaN</td>\n",
       "      <td>View Tags</td>\n",
       "      <td>NaN</td>\n",
       "      <td>NaN</td>\n",
       "      <td>11</td>\n",
       "    </tr>\n",
       "    <tr>\n",
       "      <td>999927</td>\n",
       "      <td>1170114</td>\n",
       "      <td>express.co.uk</td>\n",
       "      <td>rumor</td>\n",
       "      <td>https://www.express.co.uk/celebrity-news/56649...</td>\n",
       "      <td>FLYNET Eddie looked unrecognisable as Einar We...</td>\n",
       "      <td>2018-01-25 20:13:50.426130</td>\n",
       "      <td>2018-02-02 01:19:41.756632</td>\n",
       "      <td>2018-02-02 01:19:41.756664</td>\n",
       "      <td>Eddie Redmayne looks ultra feminine as transge...</td>\n",
       "      <td>Annie Price</td>\n",
       "      <td>NaN</td>\n",
       "      <td>['']</td>\n",
       "      <td>FOR his last role Eddie Redmayne transformed h...</td>\n",
       "      <td>NaN</td>\n",
       "      <td>NaN</td>\n",
       "      <td>NaN</td>\n",
       "      <td>8</td>\n",
       "    </tr>\n",
       "  </tbody>\n",
       "</table>\n",
       "<p>660914 rows × 17 columns</p>\n",
       "</div>"
      ],
      "text/plain": [
       "             id              domain        type  \\\n",
       "0             2       express.co.uk       rumor   \n",
       "1             6  barenakedislam.com        hate   \n",
       "2             7  barenakedislam.com        hate   \n",
       "3             8  barenakedislam.com        hate   \n",
       "4             9  barenakedislam.com        hate   \n",
       "...         ...                 ...         ...   \n",
       "999895  1170082       wikileaks.org  unreliable   \n",
       "999906  1170093       wikileaks.org  unreliable   \n",
       "999913  1170100       wikileaks.org  unreliable   \n",
       "999923  1170110       wikileaks.org  unreliable   \n",
       "999927  1170114       express.co.uk       rumor   \n",
       "\n",
       "                                                      url  \\\n",
       "0       https://www.express.co.uk/news/science/738402/...   \n",
       "1       http://barenakedislam.com/category/donald-trum...   \n",
       "2       http://barenakedislam.com/category/donald-trum...   \n",
       "3       http://barenakedislam.com/2017/12/24/more-winn...   \n",
       "4       http://barenakedislam.com/2017/12/25/oh-trump-...   \n",
       "...                                                   ...   \n",
       "999895  https://www.wikileaks.org/plusd/cables/1974ATO...   \n",
       "999906  https://www.wikileaks.org/plusd/cables/1976ABU...   \n",
       "999913  https://www.wikileaks.org/plusd/cables/1976ANK...   \n",
       "999923  https://www.wikileaks.org/plusd/cables/1976ROM...   \n",
       "999927  https://www.express.co.uk/celebrity-news/56649...   \n",
       "\n",
       "                                                  content  \\\n",
       "0       Life is an illusion, at least on a quantum lev...   \n",
       "1       Unfortunately, he hasn’t yet attacked her for ...   \n",
       "2       The Los Angeles Police Department has been den...   \n",
       "3       The White House has decided to quietly withdra...   \n",
       "4       “The time has come to cut off the tongues of t...   \n",
       "...                                                   ...   \n",
       "999895  Raw content\\n\\nPAGE 01 NATO 05116 01 OF 02 201...   \n",
       "999906  Raw content\\n\\nCONFIDENTIAL PAGE 01 ABU DH 000...   \n",
       "999913  Raw content\\n\\nCONFIDENTIAL PAGE 01 ANKARA 019...   \n",
       "999923  Raw content\\n\\nLIMITED OFFICIAL USE PAGE 01 RO...   \n",
       "999927  FLYNET Eddie looked unrecognisable as Einar We...   \n",
       "\n",
       "                        scraped_at                 inserted_at  \\\n",
       "0       2018-01-25 16:17:44.789555  2018-02-02 01:19:41.756632   \n",
       "1       2018-01-25 16:17:44.789555  2018-02-02 01:19:41.756632   \n",
       "2       2018-01-25 16:17:44.789555  2018-02-02 01:19:41.756632   \n",
       "3       2018-01-25 16:17:44.789555  2018-02-02 01:19:41.756632   \n",
       "4       2018-01-25 16:17:44.789555  2018-02-02 01:19:41.756632   \n",
       "...                            ...                         ...   \n",
       "999895  2018-01-25 20:13:50.426130  2018-02-02 01:19:41.756632   \n",
       "999906  2018-01-25 20:13:50.426130  2018-02-02 01:19:41.756632   \n",
       "999913  2018-01-25 20:13:50.426130  2018-02-02 01:19:41.756632   \n",
       "999923  2018-01-25 20:13:50.426130  2018-02-02 01:19:41.756632   \n",
       "999927  2018-01-25 20:13:50.426130  2018-02-02 01:19:41.756632   \n",
       "\n",
       "                        updated_at  \\\n",
       "0       2018-02-02 01:19:41.756664   \n",
       "1       2018-02-02 01:19:41.756664   \n",
       "2       2018-02-02 01:19:41.756664   \n",
       "3       2018-02-02 01:19:41.756664   \n",
       "4       2018-02-02 01:19:41.756664   \n",
       "...                            ...   \n",
       "999895  2018-02-02 01:19:41.756664   \n",
       "999906  2018-02-02 01:19:41.756664   \n",
       "999913  2018-02-02 01:19:41.756664   \n",
       "999923  2018-02-02 01:19:41.756664   \n",
       "999927  2018-02-02 01:19:41.756664   \n",
       "\n",
       "                                                    title  \\\n",
       "0       Is life an ILLUSION? Researchers prove 'realit...   \n",
       "1                                            Donald Trump   \n",
       "2                                            Donald Trump   \n",
       "3       MORE WINNING! Israeli intelligence source, DEB...   \n",
       "4       “Oh, Trump, you coward, you just wait, we will...   \n",
       "...                                                   ...   \n",
       "999895                                Cable: 1974ATO05116   \n",
       "999906                              Cable: 1976ABUDH00021   \n",
       "999913                             Cable: 1976ANKARA01989   \n",
       "999923                               Cable: 1976ROME16372   \n",
       "999927  Eddie Redmayne looks ultra feminine as transge...   \n",
       "\n",
       "                                                  authors  keywords  \\\n",
       "0                                             Sean Martin       NaN   \n",
       "1       Linda Rivera, Conrad Calvano, Az Gal, Lincoln ...       NaN   \n",
       "2       Linda Rivera, Conrad Calvano, Az Gal, Lincoln ...       NaN   \n",
       "3       Cleavis Nowell, Cleavisnowell, Clarence J. Fei...       NaN   \n",
       "4       F.N. Lehner, Don Spilman, Clarence J. Feinour,...       NaN   \n",
       "...                                                   ...       ...   \n",
       "999895                                                NaN       NaN   \n",
       "999906                                                NaN       NaN   \n",
       "999913                                                NaN       NaN   \n",
       "999923                                                NaN       NaN   \n",
       "999927                                        Annie Price       NaN   \n",
       "\n",
       "       meta_keywords                                   meta_description  \\\n",
       "0               ['']  THE UNIVERSE ceases to exist when we are not l...   \n",
       "1               ['']                                                NaN   \n",
       "2               ['']                                                NaN   \n",
       "3               ['']                                                NaN   \n",
       "4               ['']                                                NaN   \n",
       "...              ...                                                ...   \n",
       "999895          ['']                                                NaN   \n",
       "999906          ['']                                                NaN   \n",
       "999913          ['']                                                NaN   \n",
       "999923          ['']                                                NaN   \n",
       "999927          ['']  FOR his last role Eddie Redmayne transformed h...   \n",
       "\n",
       "             tags  summary  source  type_id  \n",
       "0             NaN      NaN     NaN        8  \n",
       "1             NaN      NaN     NaN        4  \n",
       "2             NaN      NaN     NaN        4  \n",
       "3             NaN      NaN     NaN        4  \n",
       "4             NaN      NaN     NaN        4  \n",
       "...           ...      ...     ...      ...  \n",
       "999895  View Tags      NaN     NaN       11  \n",
       "999906  View Tags      NaN     NaN       11  \n",
       "999913  View Tags      NaN     NaN       11  \n",
       "999923  View Tags      NaN     NaN       11  \n",
       "999927        NaN      NaN     NaN        8  \n",
       "\n",
       "[660914 rows x 17 columns]"
      ]
     },
     "execution_count": 11,
     "metadata": {},
     "output_type": "execute_result"
    }
   ],
   "source": [
    "df_Uniq"
   ]
  },
  {
   "cell_type": "code",
   "execution_count": 12,
   "metadata": {},
   "outputs": [
    {
     "data": {
      "text/plain": [
       "5222"
      ]
     },
     "execution_count": 12,
     "metadata": {},
     "output_type": "execute_result"
    }
   ],
   "source": [
    "df_Uniq['type'].loc[df_Uniq['type'] == 'reliable'].value_counts().min()"
   ]
  },
  {
   "cell_type": "code",
   "execution_count": 13,
   "metadata": {},
   "outputs": [
    {
     "data": {
      "text/plain": [
       "660914"
      ]
     },
     "execution_count": 13,
     "metadata": {},
     "output_type": "execute_result"
    }
   ],
   "source": [
    "df_Uniq.content.nunique()"
   ]
  },
  {
   "cell_type": "code",
   "execution_count": 14,
   "metadata": {},
   "outputs": [
    {
     "name": "stdout",
     "output_type": "stream",
     "text": [
      "=> fake (5000, 17) (4000, 17) (1000, 17)\n",
      "=> satire (5000, 17) (4000, 17) (1000, 17)\n",
      "=> bias (5000, 17) (4000, 17) (1000, 17)\n",
      "=> conspiracy (5000, 17) (4000, 17) (1000, 17)\n",
      "=> junksci (5000, 17) (4000, 17) (1000, 17)\n",
      "=> hate (3112, 17) (2489, 17) (623, 17)\n",
      "=> clickbait (5000, 17) (4000, 17) (1000, 17)\n",
      "=> unreliable (5000, 17) (4000, 17) (1000, 17)\n",
      "=> political (5000, 17) (4000, 17) (1000, 17)\n",
      "=> reliable (5000, 17) (4000, 17) (1000, 17)\n",
      "\n",
      "[Final split]\n",
      "train, test, validate ==> (38489, 17) (9623, 17)\n"
     ]
    }
   ],
   "source": [
    "#USE THIS\n",
    "# This can generate a dataset with random purmutation and a max size for each type(can be smaller if desired max is not possible)\n",
    "\n",
    "# max size for type\n",
    "max_size = 5000\n",
    "# traning_set ratio - splits data into traning=ratio,  test and validate=(1-ratio)/2 ex. train=80%, test=10%, validate=10%\n",
    "ratio=0.8\n",
    "# Labels to include - ['fake', 'satire', 'bias', 'conspiracy', 'state', 'junksci', 'hate', 'clickbait', 'unreliable', 'political', 'reliable'] - all labels\n",
    "use_types = ['fake', 'satire', 'bias', 'conspiracy', 'junksci', 'hate', 'clickbait', 'unreliable', 'political', 'reliable']\n",
    "# Random seed\n",
    "rnd = 1\n",
    "\n",
    "# initialize dataframes\n",
    "train    = pd.DataFrame(columns = df_Uniq.columns)\n",
    "test     = pd.DataFrame(columns = df_Uniq.columns)\n",
    "\n",
    "# add type to test splits\n",
    "for t in use_types:\n",
    "\n",
    "    # type size\n",
    "    type_size = df_Uniq['type'].loc[df_Uniq['type'] == t].value_counts().min()\n",
    "\n",
    "    # set size of type slice\n",
    "    if type_size < max_size:\n",
    "        tmp = df_Uniq.loc[df_Uniq['type'] == t].sample(n = type_size, random_state=rnd)\n",
    "    else:\n",
    "        tmp = df_Uniq.loc[df_Uniq['type'] == t].sample(n = max_size, random_state=rnd)\n",
    "\n",
    "    # split current type\n",
    "    train_tmp, test_tmp = np.split(tmp, [int(ratio * len(tmp))])\n",
    "\n",
    "    # add tmp to dataframes\n",
    "    train    = pd.concat([train, train_tmp])\n",
    "    test     = pd.concat([test, test_tmp])\n",
    "    \n",
    "    # print split shape\n",
    "    print(\"=>\", t, tmp.shape, train_tmp.shape, test_tmp.shape)\n",
    "\n",
    "print(\"\\n[Final split]\\ntrain, test==>\", train.shape, test.shape)"
   ]
  },
  {
   "cell_type": "code",
   "execution_count": 15,
   "metadata": {},
   "outputs": [
    {
     "data": {
      "text/html": [
       "<div>\n",
       "<style scoped>\n",
       "    .dataframe tbody tr th:only-of-type {\n",
       "        vertical-align: middle;\n",
       "    }\n",
       "\n",
       "    .dataframe tbody tr th {\n",
       "        vertical-align: top;\n",
       "    }\n",
       "\n",
       "    .dataframe thead th {\n",
       "        text-align: right;\n",
       "    }\n",
       "</style>\n",
       "<table border=\"1\" class=\"dataframe\">\n",
       "  <thead>\n",
       "    <tr style=\"text-align: right;\">\n",
       "      <th></th>\n",
       "      <th>id_x</th>\n",
       "      <th>domain_x</th>\n",
       "      <th>type_x</th>\n",
       "      <th>url_x</th>\n",
       "      <th>content</th>\n",
       "      <th>scraped_at_x</th>\n",
       "      <th>inserted_at_x</th>\n",
       "      <th>updated_at_x</th>\n",
       "      <th>title_x</th>\n",
       "      <th>authors_x</th>\n",
       "      <th>...</th>\n",
       "      <th>updated_at_y</th>\n",
       "      <th>title_y</th>\n",
       "      <th>authors_y</th>\n",
       "      <th>keywords_y</th>\n",
       "      <th>meta_keywords_y</th>\n",
       "      <th>meta_description_y</th>\n",
       "      <th>tags_y</th>\n",
       "      <th>summary_y</th>\n",
       "      <th>source_y</th>\n",
       "      <th>type_id_y</th>\n",
       "    </tr>\n",
       "  </thead>\n",
       "  <tbody>\n",
       "  </tbody>\n",
       "</table>\n",
       "<p>0 rows × 33 columns</p>\n",
       "</div>"
      ],
      "text/plain": [
       "Empty DataFrame\n",
       "Columns: [id_x, domain_x, type_x, url_x, content, scraped_at_x, inserted_at_x, updated_at_x, title_x, authors_x, keywords_x, meta_keywords_x, meta_description_x, tags_x, summary_x, source_x, type_id_x, id_y, domain_y, type_y, url_y, scraped_at_y, inserted_at_y, updated_at_y, title_y, authors_y, keywords_y, meta_keywords_y, meta_description_y, tags_y, summary_y, source_y, type_id_y]\n",
       "Index: []\n",
       "\n",
       "[0 rows x 33 columns]"
      ]
     },
     "execution_count": 15,
     "metadata": {},
     "output_type": "execute_result"
    }
   ],
   "source": [
    "pd.merge(train,test, on =['content'], how ='inner')"
   ]
  },
  {
   "cell_type": "code",
   "execution_count": 87,
   "metadata": {},
   "outputs": [],
   "source": [
    "#Just for faster calculation for details, dont run normally\n",
    "# importing and creating df (has to have type_id)\n",
    "\n",
    "# usage: specify file location, sample size and seed(used by random) \n",
    "filepath = '/Users/Master/Documents/KU/2.Semester/Datascience/news_sample.csv' #\n",
    "#s = 250                                            # desired sample size\n",
    "#seed = 1                                           # seed used by Pseudorandom number generator\n",
    "\n",
    "df = pd.read_csv(filepath, index_col = [0])\n",
    "content = df['content']"
   ]
  },
  {
   "cell_type": "code",
   "execution_count": 16,
   "metadata": {},
   "outputs": [
    {
     "data": {
      "text/plain": [
       "['bag', 'is', 'up']"
      ]
     },
     "execution_count": 16,
     "metadata": {},
     "output_type": "execute_result"
    }
   ],
   "source": [
    "import gensim \n",
    "from nltk.tokenize import sent_tokenize, word_tokenize\n",
    "from gensim.models.doc2vec import TaggedDocument, Doc2Vec \n",
    "from gensim.utils import tokenize\n",
    "q = word_tokenize('bag is up')\n",
    "q"
   ]
  },
  {
   "cell_type": "code",
   "execution_count": 481,
   "metadata": {},
   "outputs": [
    {
     "output_type": "execute_result",
     "data": {
      "text/plain": "            id               domain        type  \\\n38303   862410    christianpost.com    reliable   \n8967    946094   russia-insider.com        bias   \n5033    588118  us.blastingnews.com      satire   \n38193   473608   nutritionfacts.org    reliable   \n29134  1011888        wikileaks.org  unreliable   \n...        ...                  ...         ...   \n18585   192675      wakingtimes.com     junksci   \n23357  1001832     politicususa.com   clickbait   \n26069   625831     politicususa.com   clickbait   \n18006   468329    healthnutnews.com     junksci   \n24685   122242   liberalamerica.org   clickbait   \n\n                                                     url  \\\n38303  https://www.christianpost.com/news/evangelical...   \n8967   http://russia-insider.com/en/ukraine/2015/02/1...   \n5033   http://us.blastingnews.com/showbiz-tv/2016/10/...   \n38193  https://nutritionfacts.org/video/treating-pros...   \n29134  https://www.wikileaks.org/plusd/cables/1973VIE...   \n...                                                  ...   \n18585  http://www.wakingtimes.com/2012/07/11/can-we-e...   \n23357  http://www.politicususa.com/2008/08/15/specula...   \n26069  http://www.politicususa.com/tag/melania-trump-...   \n18006  https://www.healthnutnews.com/what-to-do-if-cp...   \n24685  https://www.liberalamerica.org/2016/08/19/teen...   \n\n                                                 content  \\\n38303  The views expressed by the author do not neces...   \n8967   US diplomats have been openly talking about ho...   \n5033   After the grand success of Priyadarshan's \"Opp...   \n38193  Below is an approximation of this video’s audi...   \n29134  Raw content\\n\\nSECRET PAGE 01 VIENNA 08803 242...   \n...                                                  ...   \n18585  Flickr – Apple – ✿ nicolas_gent ✿ was last mod...   \n23357  Both Jeff Greenfield of CBS News and Marc Ambi...   \n26069  \"In the second passage...22 words out of 26 wo...   \n18006  We live in a society that sadly, necessitates ...   \n24685  Going to the movies can be expensive; $8.00 fo...   \n\n                       scraped_at                 inserted_at  \\\n38303  2018-01-25 20:13:50.426130  2018-02-02 01:19:41.756632   \n8967   2018-01-25 20:13:50.426130  2018-02-02 01:19:41.756632   \n5033   2018-01-25 20:13:50.426130  2018-02-02 01:19:41.756632   \n38193  2018-01-25 20:13:50.426130  2018-02-02 01:19:41.756632   \n29134  2018-01-25 20:13:50.426130  2018-02-02 01:19:41.756632   \n...                           ...                         ...   \n18585  2018-01-25 20:13:50.426130  2018-02-02 01:19:41.756632   \n23357  2018-01-25 20:13:50.426130  2018-02-02 01:19:41.756632   \n26069  2018-01-25 20:13:50.426130  2018-02-02 01:19:41.756632   \n18006  2018-01-25 20:13:50.426130  2018-02-02 01:19:41.756632   \n24685  2018-01-25 20:13:50.426130  2018-02-02 01:19:41.756632   \n\n                       updated_at  \\\n38303  2018-02-02 01:19:41.756664   \n8967   2018-02-02 01:19:41.756664   \n5033   2018-02-02 01:19:41.756664   \n38193  2018-02-02 01:19:41.756664   \n29134  2018-02-02 01:19:41.756664   \n...                           ...   \n18585  2018-02-02 01:19:41.756664   \n23357  2018-02-02 01:19:41.756664   \n26069  2018-02-02 01:19:41.756664   \n18006  2018-02-02 01:19:41.756664   \n24685  2018-02-02 01:19:41.756664   \n\n                                                   title  \\\n38303  Evangelical Pastors Advise Trump: Why Are Chri...   \n8967   Will IMF Try to Stiff Russia for Ukraine Billi...   \n5033   'Pulimurugan' Malayalam movie review: live pub...   \n38193            Treating Prostate Cancer with Green Tea   \n29134                             Cable: 1973VIENNA08803   \n...                                                  ...   \n18585                                   ✿ nicolas_gent ✿   \n23357  Speculation Grows that Obama Will Announce His...   \n26069  Melania Trump Speech at Republican Convention ...   \n18006            What to do if CPS shows up at your door   \n24685  Teen Girls Pretend To Be Pregnant To Smuggle W...   \n\n                                                 authors keywords  \\\n38303                                                NaN      NaN   \n8967   Michael Hudson, Gilbert Doctorow, Charles Baus...      NaN   \n5033         Blasting News, Kendall Thomas, Hailey Jones      NaN   \n38193                          Michael Greger M.D. Faclm      NaN   \n29134                                                NaN      NaN   \n...                                                  ...      ...   \n18585                                                NaN      NaN   \n23357                                       Jason Easley      NaN   \n26069                                                NaN      NaN   \n18006  Erin Elizabeth, Wendy Perry Harding, Sara Szok...      NaN   \n24685                                                NaN      NaN   \n\n                                           meta_keywords  \\\n38303                                               ['']   \n8967                                     ['russia news']   \n5033                                                ['']   \n38193                                               ['']   \n29134                                               ['']   \n...                                                  ...   \n18585                                               ['']   \n23357                                               ['']   \n26069                                               ['']   \n18006  ['medical kidnap', 'health', 'rights', 'cps', ...   \n24685                                               ['']   \n\n                                        meta_description  \\\n38303  I'm extremely saddened by the negative comment...   \n8967   This is an excerpt from an article that origin...   \n5033   The Mohanlal, Kamalini Mukherjee and Jagapati ...   \n38193  Green tea is put to the test against precancer...   \n29134                                                NaN   \n...                                                  ...   \n18585                                                NaN   \n23357                                                NaN   \n26069                                                NaN   \n18006  We live in a society that sadly, necessitates ...   \n24685  Going to the movies is expensive. A group of t...   \n\n                                                    tags summary source  \\\n38303                                                NaN     NaN    NaN   \n8967                                                 NaN     NaN    NaN   \n5033   4218 followers Dragon Ball Super, Movies, 4062...     NaN    NaN   \n38193  liver health, black tea, men's health, Volume ...     NaN    NaN   \n29134                                          View Tags     NaN    NaN   \n...                                                  ...     ...    ...   \n18585                                                NaN     NaN    NaN   \n23357                 book review, news, Obama, NBC, ABC     NaN    NaN   \n26069                                                NaN     NaN    NaN   \n18006                                                NaN     NaN    NaN   \n24685                                                NaN     NaN    NaN   \n\n      type_id  \n38303       7  \n8967        0  \n5033        9  \n38193       7  \n29134      11  \n...       ...  \n18585       5  \n23357       1  \n26069       1  \n18006       5  \n24685       1  \n\n[38489 rows x 17 columns]",
      "text/html": "<div>\n<style scoped>\n    .dataframe tbody tr th:only-of-type {\n        vertical-align: middle;\n    }\n\n    .dataframe tbody tr th {\n        vertical-align: top;\n    }\n\n    .dataframe thead th {\n        text-align: right;\n    }\n</style>\n<table border=\"1\" class=\"dataframe\">\n  <thead>\n    <tr style=\"text-align: right;\">\n      <th></th>\n      <th>id</th>\n      <th>domain</th>\n      <th>type</th>\n      <th>url</th>\n      <th>content</th>\n      <th>scraped_at</th>\n      <th>inserted_at</th>\n      <th>updated_at</th>\n      <th>title</th>\n      <th>authors</th>\n      <th>keywords</th>\n      <th>meta_keywords</th>\n      <th>meta_description</th>\n      <th>tags</th>\n      <th>summary</th>\n      <th>source</th>\n      <th>type_id</th>\n    </tr>\n  </thead>\n  <tbody>\n    <tr>\n      <td>38303</td>\n      <td>862410</td>\n      <td>christianpost.com</td>\n      <td>reliable</td>\n      <td>https://www.christianpost.com/news/evangelical...</td>\n      <td>The views expressed by the author do not neces...</td>\n      <td>2018-01-25 20:13:50.426130</td>\n      <td>2018-02-02 01:19:41.756632</td>\n      <td>2018-02-02 01:19:41.756664</td>\n      <td>Evangelical Pastors Advise Trump: Why Are Chri...</td>\n      <td>NaN</td>\n      <td>NaN</td>\n      <td>['']</td>\n      <td>I'm extremely saddened by the negative comment...</td>\n      <td>NaN</td>\n      <td>NaN</td>\n      <td>NaN</td>\n      <td>7</td>\n    </tr>\n    <tr>\n      <td>8967</td>\n      <td>946094</td>\n      <td>russia-insider.com</td>\n      <td>bias</td>\n      <td>http://russia-insider.com/en/ukraine/2015/02/1...</td>\n      <td>US diplomats have been openly talking about ho...</td>\n      <td>2018-01-25 20:13:50.426130</td>\n      <td>2018-02-02 01:19:41.756632</td>\n      <td>2018-02-02 01:19:41.756664</td>\n      <td>Will IMF Try to Stiff Russia for Ukraine Billi...</td>\n      <td>Michael Hudson, Gilbert Doctorow, Charles Baus...</td>\n      <td>NaN</td>\n      <td>['russia news']</td>\n      <td>This is an excerpt from an article that origin...</td>\n      <td>NaN</td>\n      <td>NaN</td>\n      <td>NaN</td>\n      <td>0</td>\n    </tr>\n    <tr>\n      <td>5033</td>\n      <td>588118</td>\n      <td>us.blastingnews.com</td>\n      <td>satire</td>\n      <td>http://us.blastingnews.com/showbiz-tv/2016/10/...</td>\n      <td>After the grand success of Priyadarshan's \"Opp...</td>\n      <td>2018-01-25 20:13:50.426130</td>\n      <td>2018-02-02 01:19:41.756632</td>\n      <td>2018-02-02 01:19:41.756664</td>\n      <td>'Pulimurugan' Malayalam movie review: live pub...</td>\n      <td>Blasting News, Kendall Thomas, Hailey Jones</td>\n      <td>NaN</td>\n      <td>['']</td>\n      <td>The Mohanlal, Kamalini Mukherjee and Jagapati ...</td>\n      <td>4218 followers Dragon Ball Super, Movies, 4062...</td>\n      <td>NaN</td>\n      <td>NaN</td>\n      <td>9</td>\n    </tr>\n    <tr>\n      <td>38193</td>\n      <td>473608</td>\n      <td>nutritionfacts.org</td>\n      <td>reliable</td>\n      <td>https://nutritionfacts.org/video/treating-pros...</td>\n      <td>Below is an approximation of this video’s audi...</td>\n      <td>2018-01-25 20:13:50.426130</td>\n      <td>2018-02-02 01:19:41.756632</td>\n      <td>2018-02-02 01:19:41.756664</td>\n      <td>Treating Prostate Cancer with Green Tea</td>\n      <td>Michael Greger M.D. Faclm</td>\n      <td>NaN</td>\n      <td>['']</td>\n      <td>Green tea is put to the test against precancer...</td>\n      <td>liver health, black tea, men's health, Volume ...</td>\n      <td>NaN</td>\n      <td>NaN</td>\n      <td>7</td>\n    </tr>\n    <tr>\n      <td>29134</td>\n      <td>1011888</td>\n      <td>wikileaks.org</td>\n      <td>unreliable</td>\n      <td>https://www.wikileaks.org/plusd/cables/1973VIE...</td>\n      <td>Raw content\\n\\nSECRET PAGE 01 VIENNA 08803 242...</td>\n      <td>2018-01-25 20:13:50.426130</td>\n      <td>2018-02-02 01:19:41.756632</td>\n      <td>2018-02-02 01:19:41.756664</td>\n      <td>Cable: 1973VIENNA08803</td>\n      <td>NaN</td>\n      <td>NaN</td>\n      <td>['']</td>\n      <td>NaN</td>\n      <td>View Tags</td>\n      <td>NaN</td>\n      <td>NaN</td>\n      <td>11</td>\n    </tr>\n    <tr>\n      <td>...</td>\n      <td>...</td>\n      <td>...</td>\n      <td>...</td>\n      <td>...</td>\n      <td>...</td>\n      <td>...</td>\n      <td>...</td>\n      <td>...</td>\n      <td>...</td>\n      <td>...</td>\n      <td>...</td>\n      <td>...</td>\n      <td>...</td>\n      <td>...</td>\n      <td>...</td>\n      <td>...</td>\n      <td>...</td>\n    </tr>\n    <tr>\n      <td>18585</td>\n      <td>192675</td>\n      <td>wakingtimes.com</td>\n      <td>junksci</td>\n      <td>http://www.wakingtimes.com/2012/07/11/can-we-e...</td>\n      <td>Flickr – Apple – ✿ nicolas_gent ✿ was last mod...</td>\n      <td>2018-01-25 20:13:50.426130</td>\n      <td>2018-02-02 01:19:41.756632</td>\n      <td>2018-02-02 01:19:41.756664</td>\n      <td>✿ nicolas_gent ✿</td>\n      <td>NaN</td>\n      <td>NaN</td>\n      <td>['']</td>\n      <td>NaN</td>\n      <td>NaN</td>\n      <td>NaN</td>\n      <td>NaN</td>\n      <td>5</td>\n    </tr>\n    <tr>\n      <td>23357</td>\n      <td>1001832</td>\n      <td>politicususa.com</td>\n      <td>clickbait</td>\n      <td>http://www.politicususa.com/2008/08/15/specula...</td>\n      <td>Both Jeff Greenfield of CBS News and Marc Ambi...</td>\n      <td>2018-01-25 20:13:50.426130</td>\n      <td>2018-02-02 01:19:41.756632</td>\n      <td>2018-02-02 01:19:41.756664</td>\n      <td>Speculation Grows that Obama Will Announce His...</td>\n      <td>Jason Easley</td>\n      <td>NaN</td>\n      <td>['']</td>\n      <td>NaN</td>\n      <td>book review, news, Obama, NBC, ABC</td>\n      <td>NaN</td>\n      <td>NaN</td>\n      <td>1</td>\n    </tr>\n    <tr>\n      <td>26069</td>\n      <td>625831</td>\n      <td>politicususa.com</td>\n      <td>clickbait</td>\n      <td>http://www.politicususa.com/tag/melania-trump-...</td>\n      <td>\"In the second passage...22 words out of 26 wo...</td>\n      <td>2018-01-25 20:13:50.426130</td>\n      <td>2018-02-02 01:19:41.756632</td>\n      <td>2018-02-02 01:19:41.756664</td>\n      <td>Melania Trump Speech at Republican Convention ...</td>\n      <td>NaN</td>\n      <td>NaN</td>\n      <td>['']</td>\n      <td>NaN</td>\n      <td>NaN</td>\n      <td>NaN</td>\n      <td>NaN</td>\n      <td>1</td>\n    </tr>\n    <tr>\n      <td>18006</td>\n      <td>468329</td>\n      <td>healthnutnews.com</td>\n      <td>junksci</td>\n      <td>https://www.healthnutnews.com/what-to-do-if-cp...</td>\n      <td>We live in a society that sadly, necessitates ...</td>\n      <td>2018-01-25 20:13:50.426130</td>\n      <td>2018-02-02 01:19:41.756632</td>\n      <td>2018-02-02 01:19:41.756664</td>\n      <td>What to do if CPS shows up at your door</td>\n      <td>Erin Elizabeth, Wendy Perry Harding, Sara Szok...</td>\n      <td>NaN</td>\n      <td>['medical kidnap', 'health', 'rights', 'cps', ...</td>\n      <td>We live in a society that sadly, necessitates ...</td>\n      <td>NaN</td>\n      <td>NaN</td>\n      <td>NaN</td>\n      <td>5</td>\n    </tr>\n    <tr>\n      <td>24685</td>\n      <td>122242</td>\n      <td>liberalamerica.org</td>\n      <td>clickbait</td>\n      <td>https://www.liberalamerica.org/2016/08/19/teen...</td>\n      <td>Going to the movies can be expensive; $8.00 fo...</td>\n      <td>2018-01-25 20:13:50.426130</td>\n      <td>2018-02-02 01:19:41.756632</td>\n      <td>2018-02-02 01:19:41.756664</td>\n      <td>Teen Girls Pretend To Be Pregnant To Smuggle W...</td>\n      <td>NaN</td>\n      <td>NaN</td>\n      <td>['']</td>\n      <td>Going to the movies is expensive. A group of t...</td>\n      <td>NaN</td>\n      <td>NaN</td>\n      <td>NaN</td>\n      <td>1</td>\n    </tr>\n  </tbody>\n</table>\n<p>38489 rows × 17 columns</p>\n</div>"
     },
     "metadata": {},
     "execution_count": 481
    }
   ],
   "source": [
    "train"
   ]
  },
  {
   "cell_type": "code",
   "execution_count": 483,
   "metadata": {},
   "outputs": [],
   "source": [
    "#train.set_index('id', inplace = True)\n",
    "train = shuffle(train, random_state = 1)\n",
    "test = shuffle(test, random_state = 1)\n",
    "train.reset_index(inplace = True, drop = True)\n",
    "test.reset_index(inplace = True, drop = True)"
   ]
  },
  {
   "cell_type": "code",
   "execution_count": 128,
   "metadata": {},
   "outputs": [
    {
     "data": {
      "text/plain": [
       "['this', 'is', 'to', 'token']"
      ]
     },
     "execution_count": 128,
     "metadata": {},
     "output_type": "execute_result"
    }
   ],
   "source": [
    "#this is how the tokenizer works\n",
    "list(tokenize(\"This , is 5to TOKEN\", lowercase = True))"
   ]
  },
  {
   "cell_type": "code",
   "execution_count": 486,
   "metadata": {},
   "outputs": [
    {
     "name": "stdout",
<<<<<<< Updated upstream
     "output_type": "stream",
     "text": [
      "CPU times: user 1.29 ms, sys: 8 µs, total: 1.29 ms\n",
      "Wall time: 1.39 ms\n"
     ]
=======
     "text": "CPU times: user 783 µs, sys: 7 µs, total: 790 µs\nWall time: 802 µs\n"
>>>>>>> Stashed changes
    }
   ],
   "source": [
    "%%time\n",
    "from gensim.models.doc2vec import Doc2Vec, TaggedDocument\n",
    "series_content = train.content\n",
    "#contTok = series_content.apply(nltk.word_tokenize)\n",
    "typeLst = train.type_id.tolist()\n",
    "#np.unique(typeLst, return_counts = True)"
   ]
  },
  {
   "cell_type": "code",
   "execution_count": 540,
   "metadata": {},
   "outputs": [],
   "source": [
    "test_content = test.content\n",
    "test_typeLst = test.type_id.tolist()"
   ]
  },
  {
   "cell_type": "code",
   "execution_count": 549,
   "metadata": {},
   "outputs": [],
   "source": [
    "#test_content\n",
    "#test_typeLst"
   ]
  },
  {
   "cell_type": "code",
   "execution_count": 541,
   "metadata": {},
   "outputs": [],
   "source": [
    "#Try gensim tokenizer\n",
    "testTok = test_content.apply(tokenize,lowercase =True)\n",
    "for i in testTok.index:\n",
    "    testTok[i] = list(testTok[i])"
   ]
  },
  {
   "cell_type": "code",
   "execution_count": 493,
   "metadata": {},
   "outputs": [],
   "source": [
    "#Try gensim tokenizer\n",
    "contTok = series_content.apply(tokenize,lowercase =True)\n",
    "for i in contTok.index:\n",
    "    contTok[i] = list(contTok[i])"
   ]
  },
  {
   "cell_type": "code",
   "execution_count": null,
   "metadata": {},
   "outputs": [],
   "source": [
    "#Maybe fallback tokenizer\n",
    "#contTok1 = series_content.apply(nltk.word_tokenize)"
   ]
  },
  {
   "cell_type": "code",
   "execution_count": 495,
   "metadata": {},
   "outputs": [
    {
     "output_type": "execute_result",
     "data": {
      "text/plain": "0        [are, you, prepared, for, the, coming, economi...\n1        [julius, caesar, is, reputed, to, have, said, ...\n2        [raw, content, confidential, page, state, orig...\n3        [the, vice, president, is, at, it, again, joe,...\n4        [geopolítica, guerra, fría, en, el, ártico, el...\n                               ...                        \n38484    [finally, the, day, has, arrived, the, god, da...\n38485    [stranger, things, season, arrives, on, netfli...\n38486    [below, is, an, approximation, of, this, video...\n38487    [belgium, has, recalled, all, experts, from, t...\n38488    [enron, s, india, disaster, by, sam, parry, de...\nName: content, Length: 38489, dtype: object"
     },
     "metadata": {},
     "execution_count": 495
    }
   ],
   "source": [
    "contTok"
   ]
  },
  {
   "cell_type": "code",
   "execution_count": 496,
   "metadata": {},
   "outputs": [],
   "source": [
    "documents = [TaggedDocument(contTok, [i]) for i, contTok in enumerate(contTok)]\n",
    "#contTok[291496]"
   ]
  },
  {
   "cell_type": "code",
   "execution_count": 472,
   "metadata": {},
   "outputs": [
    {
     "output_type": "execute_result",
     "data": {
      "text/plain": "38489"
     },
     "metadata": {},
     "execution_count": 472
    }
   ],
   "source": [
    "len(contTok1)"
   ]
  },
  {
   "cell_type": "code",
   "execution_count": 28,
   "metadata": {},
   "outputs": [],
   "source": [
    "#list(enumerate(contTok))[0]\n",
    "#documents"
   ]
  },
  {
   "cell_type": "code",
   "execution_count": 500,
   "metadata": {},
   "outputs": [
    {
     "name": "stdout",
<<<<<<< Updated upstream
     "output_type": "stream",
     "text": [
      "CPU times: user 21min 37s, sys: 21 s, total: 21min 58s\n",
      "Wall time: 9min 53s\n"
     ]
=======
     "text": "CPU times: user 22min 7s, sys: 28.5 s, total: 22min 36s\nWall time: 11min 52s\n"
>>>>>>> Stashed changes
    }
   ],
   "source": [
    "%%time\n",
    "model1 = Doc2Vec(documents, vector_size = 150, min_count = 3, window = 10, epochs=10, workers = 4)"
   ]
  },
  {
   "cell_type": "code",
   "execution_count": null,
   "metadata": {},
   "outputs": [],
   "source": [
    "#Eventuel træn andre modeller herefter:\n",
    "#%%time\n",
    "#model2 = Doc2Vec(documents, vector_size = 200, dm = 1, min_count = 3, window = 10, epochs= 10, workers = 4)"
   ]
  },
  {
   "cell_type": "code",
   "execution_count": 502,
   "metadata": {},
   "outputs": [
    {
     "data": {
<<<<<<< Updated upstream
      "text/plain": [
       "[('samsung', 0.6713467836380005),\n",
       " ('microsoft', 0.6199753284454346),\n",
       " ('smartphone', 0.5801456570625305),\n",
       " ('жалобы', 0.5783390402793884),\n",
       " ('iphone', 0.5735931396484375),\n",
       " ('android', 0.5688178539276123),\n",
       " ('ipad', 0.5556069612503052),\n",
       " ('фбр', 0.5543793439865112),\n",
       " ('ios', 0.5541474223136902),\n",
       " ('smartphones', 0.5402979254722595)]"
      ]
=======
      "text/plain": "[('samsung', 0.6107205152511597),\n ('ios', 0.5921568274497986),\n ('microsoft', 0.583616316318512),\n ('iphone', 0.5742916464805603),\n ('smartphone', 0.5690572261810303),\n ('smartphones', 0.5272736549377441),\n ('android', 0.5272537469863892),\n ('ipad', 0.5223880410194397),\n ('handset', 0.5197432041168213),\n ('появлении', 0.5081181526184082)]"
>>>>>>> Stashed changes
     },
     "execution_count": 173,
     "metadata": {},
<<<<<<< Updated upstream
     "output_type": "execute_result"
=======
     "execution_count": 502
>>>>>>> Stashed changes
    }
   ],
   "source": [
    "model1.most_similar('apple')"
   ]
  },
  {
   "cell_type": "code",
   "execution_count": 45,
   "metadata": {},
   "outputs": [
    {
     "data": {
      "text/plain": [
       "38489"
      ]
     },
     "execution_count": 45,
     "metadata": {},
     "output_type": "execute_result"
    }
   ],
   "source": [
    "model1.docvecs.count"
   ]
  },
  {
   "cell_type": "code",
   "execution_count": 503,
   "metadata": {},
   "outputs": [
    {
     "data": {
<<<<<<< Updated upstream
      "text/plain": [
       "[(2770, 0.6683179140090942),\n",
       " (12290, 0.6653847694396973),\n",
       " (15999, 0.662219226360321),\n",
       " (22598, 0.6556379795074463),\n",
       " (32844, 0.6499958038330078),\n",
       " (8656, 0.6471706628799438),\n",
       " (21454, 0.6457933187484741),\n",
       " (22137, 0.6448642611503601),\n",
       " (3240, 0.6421370506286621),\n",
       " (11925, 0.6404356360435486)]"
      ]
=======
      "text/plain": "[(19974, 0.6026570796966553),\n (6195, 0.5667001008987427),\n (8050, 0.5630171298980713),\n (25975, 0.5596201419830322),\n (15223, 0.5478417873382568),\n (12121, 0.5426212549209595),\n (14863, 0.5373646020889282),\n (6173, 0.5368658900260925),\n (35464, 0.5345829725265503),\n (32663, 0.5342726707458496)]"
>>>>>>> Stashed changes
     },
     "execution_count": 74,
     "metadata": {},
<<<<<<< Updated upstream
     "output_type": "execute_result"
=======
     "execution_count": 503
>>>>>>> Stashed changes
    }
   ],
   "source": [
    "model1.docvecs.most_similar(12000)"
   ]
  },
  {
   "cell_type": "code",
   "execution_count": 517,
   "metadata": {},
   "outputs": [
    {
     "data": {
<<<<<<< Updated upstream
      "text/plain": [
       "12000    conspiracy\n",
       "Name: type, dtype: object"
      ]
=======
      "text/plain": "19974    fake\nName: type, dtype: object"
>>>>>>> Stashed changes
     },
     "execution_count": 353,
     "metadata": {},
<<<<<<< Updated upstream
     "output_type": "execute_result"
=======
     "execution_count": 517
>>>>>>> Stashed changes
    }
   ],
   "source": [
    "#lookup types for the most similar docs\n",
    "#automate this\n",
    "train.type.loc[train.type.index == 19974]"
   ]
  },
  {
   "cell_type": "code",
   "execution_count": 516,
   "metadata": {},
   "outputs": [],
   "source": [
    "#documents[19974]"
   ]
  },
  {
   "cell_type": "code",
   "execution_count": 518,
   "metadata": {},
   "outputs": [
    {
     "data": {
<<<<<<< Updated upstream
      "text/plain": [
       "12000    conspiracy\n",
       "12001    conspiracy\n",
       "12002    conspiracy\n",
       "12003    conspiracy\n",
       "12004    conspiracy\n",
       "            ...    \n",
       "15995    conspiracy\n",
       "15996    conspiracy\n",
       "15997    conspiracy\n",
       "15998    conspiracy\n",
       "15999    conspiracy\n",
       "Name: type, Length: 4000, dtype: object"
      ]
=======
      "text/plain": "0        conspiracy\n16       conspiracy\n30       conspiracy\n31       conspiracy\n41       conspiracy\n            ...    \n38466    conspiracy\n38467    conspiracy\n38471    conspiracy\n38473    conspiracy\n38476    conspiracy\nName: type, Length: 4000, dtype: object"
>>>>>>> Stashed changes
     },
     "execution_count": 73,
     "metadata": {},
<<<<<<< Updated upstream
     "output_type": "execute_result"
=======
     "execution_count": 518
>>>>>>> Stashed changes
    }
   ],
   "source": [
    "#Lookup indeices for articles with certain types\n",
    "train.type.loc[train.type == 'conspiracy']"
   ]
  },
  {
   "cell_type": "code",
   "execution_count": 519,
   "metadata": {},
   "outputs": [],
   "source": [
    "from sklearn.metrics import accuracy_score, f1_score\n",
    "from sklearn.metrics import confusion_matrix\n",
    "from sklearn.model_selection import train_test_split\n",
    "from sklearn.linear_model import LogisticRegression\n",
    "from sklearn import utils\n",
    "\n",
    "from tqdm import tqdm\n",
    "import multiprocessing\n"
   ]
  },
  {
   "cell_type": "code",
   "execution_count": 108,
   "metadata": {},
   "outputs": [],
   "source": [
    "import numpy as np"
   ]
  },
  {
   "cell_type": "code",
   "execution_count": 531,
   "metadata": {},
   "outputs": [],
   "source": [
    "#Put all docvecs and labels into arrays for classifier:\n",
    "train_arrays = np.zeros((model1.docvecs.count,150),dtype=\"float32\")\n",
    "train_labels = np.zeros(model1.docvecs.count,dtype=\"float32\")\n",
    "for i in range(model1.docvecs.count):\n",
    "    train_arrays[i] = model1.docvecs[i]\n",
    "    train_labels[i] = train.type_id[i]"
   ]
  },
  {
   "cell_type": "code",
   "execution_count": 225,
   "metadata": {},
   "outputs": [
    {
     "data": {
      "text/plain": [
       "3.0"
      ]
     },
     "execution_count": 225,
     "metadata": {},
     "output_type": "execute_result"
    }
   ],
   "source": [
    "#np.unique(train_labels, return_counts = True)"
   ]
  },
  {
   "cell_type": "code",
   "execution_count": 537,
   "metadata": {},
   "outputs": [],
   "source": [
    "#No longer need to shuffle here\n",
    "#from sklearn.utils import shuffle\n",
    "#train_arrays, train_labels = shuffle(train_arrays, train_labels)"
   ]
  },
  {
   "cell_type": "code",
   "execution_count": 538,
   "metadata": {},
<<<<<<< Updated upstream
   "outputs": [
    {
     "data": {
      "text/html": [
       "<div>\n",
       "<style scoped>\n",
       "    .dataframe tbody tr th:only-of-type {\n",
       "        vertical-align: middle;\n",
       "    }\n",
       "\n",
       "    .dataframe tbody tr th {\n",
       "        vertical-align: top;\n",
       "    }\n",
       "\n",
       "    .dataframe thead th {\n",
       "        text-align: right;\n",
       "    }\n",
       "</style>\n",
       "<table border=\"1\" class=\"dataframe\">\n",
       "  <thead>\n",
       "    <tr style=\"text-align: right;\">\n",
       "      <th></th>\n",
       "      <th>id</th>\n",
       "      <th>domain</th>\n",
       "      <th>type</th>\n",
       "      <th>url</th>\n",
       "      <th>content</th>\n",
       "      <th>scraped_at</th>\n",
       "      <th>inserted_at</th>\n",
       "      <th>updated_at</th>\n",
       "      <th>title</th>\n",
       "      <th>authors</th>\n",
       "      <th>keywords</th>\n",
       "      <th>meta_keywords</th>\n",
       "      <th>meta_description</th>\n",
       "      <th>tags</th>\n",
       "      <th>summary</th>\n",
       "      <th>source</th>\n",
       "      <th>type_id</th>\n",
       "    </tr>\n",
       "  </thead>\n",
       "  <tbody>\n",
       "    <tr>\n",
       "      <td>37400</td>\n",
       "      <td>474909</td>\n",
       "      <td>nutritionfacts.org</td>\n",
       "      <td>reliable</td>\n",
       "      <td>https://nutritionfacts.org/es/season/volumen-28/</td>\n",
       "      <td>Parece que hay sólo dos tipos de personas en e...</td>\n",
       "      <td>2018-01-25 20:13:50.426130</td>\n",
       "      <td>2018-02-02 01:19:41.756632</td>\n",
       "      <td>2018-02-02 01:19:41.756664</td>\n",
       "      <td>NutritionFacts.org</td>\n",
       "      <td>NaN</td>\n",
       "      <td>NaN</td>\n",
       "      <td>['']</td>\n",
       "      <td>NaN</td>\n",
       "      <td>NaN</td>\n",
       "      <td>NaN</td>\n",
       "      <td>NaN</td>\n",
       "      <td>7</td>\n",
       "    </tr>\n",
       "  </tbody>\n",
       "</table>\n",
       "</div>"
      ],
      "text/plain": [
       "           id              domain      type  \\\n",
       "37400  474909  nutritionfacts.org  reliable   \n",
       "\n",
       "                                                    url  \\\n",
       "37400  https://nutritionfacts.org/es/season/volumen-28/   \n",
       "\n",
       "                                                 content  \\\n",
       "37400  Parece que hay sólo dos tipos de personas en e...   \n",
       "\n",
       "                       scraped_at                 inserted_at  \\\n",
       "37400  2018-01-25 20:13:50.426130  2018-02-02 01:19:41.756632   \n",
       "\n",
       "                       updated_at               title authors keywords  \\\n",
       "37400  2018-02-02 01:19:41.756664  NutritionFacts.org     NaN      NaN   \n",
       "\n",
       "      meta_keywords meta_description tags summary source type_id  \n",
       "37400          ['']              NaN  NaN     NaN    NaN       7  "
      ]
     },
     "execution_count": 301,
     "metadata": {},
     "output_type": "execute_result"
    }
   ],
=======
   "outputs": [],
>>>>>>> Stashed changes
   "source": [
    "#train_arrays[0]\n",
    "#train_labels[0]\n",
    "#model1.docvecs.most_similar([train_arrays[0]])\n",
    "#train.loc[train.index == 37400]"
   ]
  },
  {
   "cell_type": "code",
   "execution_count": 194,
   "metadata": {},
   "outputs": [],
   "source": [
    "#How infer_vector works:\n",
    "token = \"this is new sentence\".split()\n",
    "new_vector = model1.infer_vector(token)\n",
    "sims = model1.docvecs.most_similar([new_vector])"
   ]
  },
  {
   "cell_type": "code",
   "execution_count": 267,
   "metadata": {},
   "outputs": [],
   "source": [
    "#testTok"
   ]
  },
  {
   "cell_type": "code",
   "execution_count": 344,
   "metadata": {},
   "outputs": [],
   "source": [
    "#model1.infer_vector(testTok[0])"
   ]
  },
  {
   "cell_type": "code",
   "execution_count": 558,
   "metadata": {},
   "outputs": [],
   "source": [
    "#testTok\n",
    "test_arrays = np.zeros((len(test),150),dtype = \"float32\")\n",
    "for i in range(len(test)):\n",
    "    test_arrays[i] = model1.infer_vector(testTok[i],steps = 15)   \n",
    "test_labels = np.array(test_typeLst,dtype=\"float32\")\n",
    "\n",
    "#test_arrays = np.zeros((model1.docvecs.count,150),dtype=\"float32\")\n",
    "#test_labels = np.zeros(model1.docvecs.count,dtype=\"float32\")"
   ]
  },
  {
   "cell_type": "code",
   "execution_count": 584,
   "metadata": {},
   "outputs": [],
   "source": [
    "#np.unique(test_labels, return_counts=True)"
   ]
  },
  {
   "cell_type": "code",
   "execution_count": 568,
   "metadata": {},
   "outputs": [
    {
     "data": {
<<<<<<< Updated upstream
      "text/plain": [
       "[(9434, 0.7356703281402588),\n",
       " (377, 0.732562780380249),\n",
       " (24191, 0.7237445116043091),\n",
       " (4289, 0.7221462726593018),\n",
       " (8516, 0.7182392477989197),\n",
       " (30823, 0.7170534133911133),\n",
       " (23711, 0.7142242789268494),\n",
       " (17594, 0.7106937170028687),\n",
       " (15569, 0.7099297046661377),\n",
       " (16047, 0.7099068760871887)]"
      ]
=======
      "text/plain": "[(32672, 0.5412675142288208),\n (10444, 0.5094727277755737),\n (23135, 0.49477219581604004),\n (5553, 0.4843190908432007),\n (33264, 0.4779159426689148),\n (32602, 0.4745362102985382),\n (460, 0.4699743688106537),\n (24024, 0.468875527381897),\n (11487, 0.4654442071914673),\n (2246, 0.46349072456359863)]"
>>>>>>> Stashed changes
     },
     "execution_count": 436,
     "metadata": {},
<<<<<<< Updated upstream
     "output_type": "execute_result"
=======
     "execution_count": 568
>>>>>>> Stashed changes
    }
   ],
   "source": [
    "model1.docvecs.most_similar([test_arrays[200]])"
   ]
  },
  {
   "cell_type": "code",
   "execution_count": 570,
   "metadata": {},
   "outputs": [
    {
     "data": {
<<<<<<< Updated upstream
      "text/plain": [
       "8234    political\n",
       "Name: type, dtype: object"
      ]
=======
      "text/plain": "200    bias\nName: type, dtype: object"
>>>>>>> Stashed changes
     },
     "execution_count": 442,
     "metadata": {},
<<<<<<< Updated upstream
     "output_type": "execute_result"
=======
     "execution_count": 570
>>>>>>> Stashed changes
    }
   ],
   "source": [
    "test.type.loc[test.type.index == 200]"
   ]
  },
  {
   "cell_type": "code",
   "execution_count": 569,
   "metadata": {},
   "outputs": [
    {
     "data": {
<<<<<<< Updated upstream
      "text/plain": [
       "(array(['clickbait', 'conspiracy', 'fake', 'hate', 'reliable', 'satire'],\n",
       "       dtype=object), array([2, 1, 1, 1, 2, 3]))"
      ]
=======
      "text/plain": "(array(['bias', 'conspiracy', 'hate', 'political', 'reliable'],\n       dtype=object), array([3, 2, 2, 2, 1]))"
>>>>>>> Stashed changes
     },
     "execution_count": 441,
     "metadata": {},
<<<<<<< Updated upstream
     "output_type": "execute_result"
=======
     "execution_count": 569
>>>>>>> Stashed changes
    }
   ],
   "source": [
    "#documents = [TaggedDocument(contTok, [i]) for i, contTok in enumerate(contTok)]\n",
    "sim_labels = np.empty(10,dtype='object')\n",
    "for i in range(len(sim_labels)):\n",
    "    sim_labels[i] = train.type.loc[train.type.index == model1.docvecs.most_similar([test_arrays[200]])[i][0]].values[0]\n",
    "\n",
    "np.unique(sim_labels,return_counts=True)\n",
    "#for i in (model1.docvecs.most_similar([test_arrays[1]])):\n",
    "    #sim_labels[i] = train.type.loc[train.type.index == model1.docvecs.most_similar([test_arrays[1]])[0][0]]\n",
    "\n",
    "#model1.docvecs.most_similar([test_arrays[1]])"
   ]
  },
  {
   "cell_type": "code",
   "execution_count": 576,
   "metadata": {},
   "outputs": [
    {
     "data": {
      "text/plain": [
       "LogisticRegression(C=1.0, class_weight=None, dual=False, fit_intercept=True,\n",
       "                   intercept_scaling=1, l1_ratio=None, max_iter=100,\n",
       "                   multi_class='warn', n_jobs=None, penalty='l2',\n",
       "                   random_state=None, solver='warn', tol=0.0001, verbose=0,\n",
       "                   warm_start=False)"
      ]
     },
     "execution_count": 207,
     "metadata": {},
<<<<<<< Updated upstream
     "output_type": "execute_result"
=======
     "execution_count": 576
>>>>>>> Stashed changes
    }
   ],
   "source": [
    "#Now train a logistic classifier:\n",
    "classifier = LogisticRegression()\n",
    "classifier.fit(train_arrays,train_labels)\n",
    "#classifier.n_iter_"
   ]
  },
  {
   "cell_type": "code",
   "execution_count": 571,
   "metadata": {},
   "outputs": [
    {
     "data": {
<<<<<<< Updated upstream
      "text/plain": [
       "0.26706848176244413"
      ]
=======
      "text/plain": "0.4786449132287229"
>>>>>>> Stashed changes
     },
     "execution_count": 321,
     "metadata": {},
<<<<<<< Updated upstream
     "output_type": "execute_result"
=======
     "execution_count": 571
>>>>>>> Stashed changes
    }
   ],
   "source": [
    "classifier.score(test_arrays,test_labels)"
   ]
  },
  {
   "cell_type": "code",
   "execution_count": 585,
   "metadata": {},
   "outputs": [],
   "source": [
    "y_true = test_labels\n",
    "#y_true\n",
    "y_pred = classifier.predict(test_arrays)"
   ]
  },
  {
   "cell_type": "code",
   "execution_count": 586,
   "metadata": {},
   "outputs": [
    {
     "data": {
<<<<<<< Updated upstream
      "text/plain": [
       "array([[ 42,   6,  25,  56,   4,   4,  83, 378, 391,  11],\n",
       "       [  5,  28,  55,  12,   0,   5, 101, 394, 397,   3],\n",
       "       [ 24,   9,  27,  96,   6,   6,  91, 381, 352,   8],\n",
       "       [ 12,   6,  14, 123,   2,  19,  90, 442, 278,  14],\n",
       "       [ 29,   3,   9,  53,  37,  11,  53, 172, 246,  10],\n",
       "       [  3,  14,  24,  50,   0,  86,  56, 460, 302,   5],\n",
       "       [ 18,  16,  27,  49,   9,  12, 212, 242, 397,  18],\n",
       "       [ 16,   8,  11,  15,   5,  10,  53, 656, 219,   7],\n",
       "       [  4,   5,  11,  24,   2,   3,  38, 197, 711,   5],\n",
       "       [  4,   0,   4,  23,   4,   1,  14, 200, 102, 648]])"
      ]
=======
      "text/plain": "array([[120, 175, 162,  83,  93,  55,  93,  92,  80,  47],\n       [  7, 532,  96,  27,  13,  49,  84,  81,  96,  15],\n       [ 23, 124, 427,  92,  40,  76,  78,  51,  71,  18],\n       [ 10, 104, 183, 260,  33, 141,  89,  45, 112,  23],\n       [ 10,  86,  84,  31, 262,  27,  38,  46,  23,  16],\n       [  3, 115, 121,  42,   1, 639,  10,  27,  38,   4],\n       [ 14, 197, 133,  75,  40,  46, 301,  79,  95,  20],\n       [ 17, 142,  44,  25,  34,  62,  38, 564,  61,  13],\n       [  5, 107,  64,  31,  19,  48,  33,  26, 652,  15],\n       [  7,  45,  15,  15,   3,  18,  20,  12,  16, 849]])"
>>>>>>> Stashed changes
     },
     "execution_count": 327,
     "metadata": {},
<<<<<<< Updated upstream
     "output_type": "execute_result"
=======
     "execution_count": 586
>>>>>>> Stashed changes
    }
   ],
   "source": [
    "confusion_matrix(y_true,y_pred)"
   ]
  },
  {
   "cell_type": "code",
   "execution_count": 587,
   "metadata": {},
   "outputs": [
    {
     "data": {
<<<<<<< Updated upstream
      "text/plain": [
       "0.26706848176244413"
      ]
=======
      "text/plain": "0.4786449132287229"
>>>>>>> Stashed changes
     },
     "execution_count": 328,
     "metadata": {},
<<<<<<< Updated upstream
     "output_type": "execute_result"
=======
     "execution_count": 587
>>>>>>> Stashed changes
    }
   ],
   "source": [
    "accuracy_score(y_true,y_pred)"
   ]
  },
  {
   "cell_type": "code",
   "execution_count": 588,
   "metadata": {},
   "outputs": [
    {
     "data": {
      "text/plain": [
       "SVC(C=1.0, cache_size=200, class_weight=None, coef0=0.0,\n",
       "    decision_function_shape='ovr', degree=3, gamma='scale', kernel='rbf',\n",
       "    max_iter=-1, probability=False, random_state=None, shrinking=True,\n",
       "    tol=0.001, verbose=False)"
      ]
     },
     "execution_count": 329,
     "metadata": {},
<<<<<<< Updated upstream
     "output_type": "execute_result"
=======
     "execution_count": 588
>>>>>>> Stashed changes
    }
   ],
   "source": [
    "from sklearn import svm\n",
    "clf = svm.SVC(gamma='scale')\n",
    "clf.fit(train_arrays,train_labels)\n",
    "#clf.score(X_test, y_test)"
   ]
  },
  {
   "cell_type": "code",
   "execution_count": 330,
   "metadata": {},
   "outputs": [
    {
     "data": {
      "text/plain": [
       "0.3837680556998857"
      ]
     },
     "execution_count": 330,
     "metadata": {},
     "output_type": "execute_result"
    }
   ],
   "source": [
    "clf.score(test_arrays,test_labels)"
   ]
  },
  {
   "cell_type": "code",
   "execution_count": 457,
   "metadata": {},
   "outputs": [],
   "source": [
    "y_pred1 = clf.predict(test_arrays)"
   ]
  },
  {
   "cell_type": "code",
   "execution_count": 458,
   "metadata": {},
   "outputs": [
    {
     "data": {
      "text/plain": [
       "array([[455, 106, 134,  91,  24,  27, 101,  16,  31,   9],\n",
       "       [ 72, 583,  41,  92,  12,  23,  77,  45,  37,   5],\n",
       "       [153, 132, 495,  84,   8,  36,  74,   8,  20,   3],\n",
       "       [ 86, 115, 108, 472,   6,  56,  80,  16,  57,   4],\n",
       "       [ 51,  67,  30,  39, 155,  11,  54,  13,   5,   4],\n",
       "       [ 37, 220,  77,  79,   4, 513,  31,   8,  12,   2],\n",
       "       [ 86, 153,  82,  57,   6,  18, 448,  39,  34,   2],\n",
       "       [ 41,  86,  12,  40,   8,   3,  61, 455,  31,   1],\n",
       "       [ 47,  67,  32,  93,   2,  35,  44,  15, 642,   3],\n",
       "       [ 33,  41,  22,  23,   2,   8,  31,   8,  11, 779]])"
      ]
     },
     "execution_count": 458,
     "metadata": {},
     "output_type": "execute_result"
    }
   ],
   "source": [
    "confusion_matrix(y_true,y_pred1)"
   ]
  },
  {
   "cell_type": "code",
   "execution_count": 461,
   "metadata": {},
   "outputs": [
    {
     "data": {
      "text/html": [
       "<div>\n",
       "<style scoped>\n",
       "    .dataframe tbody tr th:only-of-type {\n",
       "        vertical-align: middle;\n",
       "    }\n",
       "\n",
       "    .dataframe tbody tr th {\n",
       "        vertical-align: top;\n",
       "    }\n",
       "\n",
       "    .dataframe thead th {\n",
       "        text-align: right;\n",
       "    }\n",
       "</style>\n",
       "<table border=\"1\" class=\"dataframe\">\n",
       "  <thead>\n",
       "    <tr style=\"text-align: right;\">\n",
       "      <th></th>\n",
       "      <th>id</th>\n",
       "      <th>domain</th>\n",
       "      <th>type</th>\n",
       "      <th>url</th>\n",
       "      <th>content</th>\n",
       "      <th>scraped_at</th>\n",
       "      <th>inserted_at</th>\n",
       "      <th>updated_at</th>\n",
       "      <th>title</th>\n",
       "      <th>authors</th>\n",
       "      <th>keywords</th>\n",
       "      <th>meta_keywords</th>\n",
       "      <th>meta_description</th>\n",
       "      <th>tags</th>\n",
       "      <th>summary</th>\n",
       "      <th>source</th>\n",
       "      <th>type_id</th>\n",
       "    </tr>\n",
       "  </thead>\n",
       "  <tbody>\n",
       "    <tr>\n",
       "      <td>0</td>\n",
       "      <td>452168</td>\n",
       "      <td>beforeitsnews.com</td>\n",
       "      <td>fake</td>\n",
       "      <td>http://beforeitsnews.com/gold-and-precious-met...</td>\n",
       "      <td>Agriculture Is Going To Be Extremely Profitabl...</td>\n",
       "      <td>2018-01-25 20:13:50.426130</td>\n",
       "      <td>2018-02-02 01:19:41.756632</td>\n",
       "      <td>2018-02-02 01:19:41.756664</td>\n",
       "      <td>Agriculture Is Going To Be Extremely Profitabl...</td>\n",
       "      <td>Jim Rogers Blog</td>\n",
       "      <td>NaN</td>\n",
       "      <td>['']</td>\n",
       "      <td>NaN</td>\n",
       "      <td>NaN</td>\n",
       "      <td>NaN</td>\n",
       "      <td>NaN</td>\n",
       "      <td>3</td>\n",
       "    </tr>\n",
       "    <tr>\n",
       "      <td>1</td>\n",
       "      <td>787933</td>\n",
       "      <td>beforeitsnews.com</td>\n",
       "      <td>fake</td>\n",
       "      <td>http://beforeitsnews.com/green-living/2013/02/...</td>\n",
       "      <td>Buried in Snow: Nemo Found Us\\n\\nHeadline: Bit...</td>\n",
       "      <td>2018-01-25 20:13:50.426130</td>\n",
       "      <td>2018-02-02 01:19:41.756632</td>\n",
       "      <td>2018-02-02 01:19:41.756664</td>\n",
       "      <td>Buried in Snow: Nemo Found Us</td>\n",
       "      <td>Groovy Green Livin</td>\n",
       "      <td>NaN</td>\n",
       "      <td>['']</td>\n",
       "      <td>NaN</td>\n",
       "      <td>NaN</td>\n",
       "      <td>NaN</td>\n",
       "      <td>NaN</td>\n",
       "      <td>3</td>\n",
       "    </tr>\n",
       "    <tr>\n",
       "      <td>2</td>\n",
       "      <td>806045</td>\n",
       "      <td>beforeitsnews.com</td>\n",
       "      <td>fake</td>\n",
       "      <td>http://beforeitsnews.com/health/2012/06/autism...</td>\n",
       "      <td>Autism Signs Found In Fish Due To Big-Pharma\\n...</td>\n",
       "      <td>2018-01-25 20:13:50.426130</td>\n",
       "      <td>2018-02-02 01:19:41.756632</td>\n",
       "      <td>2018-02-02 01:19:41.756664</td>\n",
       "      <td>Autism Signs Found In Fish Due To Big-Pharma</td>\n",
       "      <td>Alan Freestone</td>\n",
       "      <td>NaN</td>\n",
       "      <td>['']</td>\n",
       "      <td>NaN</td>\n",
       "      <td>NaN</td>\n",
       "      <td>NaN</td>\n",
       "      <td>NaN</td>\n",
       "      <td>3</td>\n",
       "    </tr>\n",
       "    <tr>\n",
       "      <td>3</td>\n",
       "      <td>831732</td>\n",
       "      <td>beforeitsnews.com</td>\n",
       "      <td>fake</td>\n",
       "      <td>http://beforeitsnews.com/outdoors/2011/12/book...</td>\n",
       "      <td>Book Review: 10: Celebrating Ten Years of the ...</td>\n",
       "      <td>2018-01-25 20:13:50.426130</td>\n",
       "      <td>2018-02-02 01:19:41.756632</td>\n",
       "      <td>2018-02-02 01:19:41.756664</td>\n",
       "      <td>Book Review: 10: Celebrating Ten Years of the ...</td>\n",
       "      <td>The Adventure Blog</td>\n",
       "      <td>NaN</td>\n",
       "      <td>['']</td>\n",
       "      <td>NaN</td>\n",
       "      <td>NaN</td>\n",
       "      <td>NaN</td>\n",
       "      <td>NaN</td>\n",
       "      <td>3</td>\n",
       "    </tr>\n",
       "    <tr>\n",
       "      <td>4</td>\n",
       "      <td>776101</td>\n",
       "      <td>beforeitsnews.com</td>\n",
       "      <td>fake</td>\n",
       "      <td>http://beforeitsnews.com/alternative/2013/02/e...</td>\n",
       "      <td>evening of insight and truth into the Pope &amp; t...</td>\n",
       "      <td>2018-01-25 20:13:50.426130</td>\n",
       "      <td>2018-02-02 01:19:41.756632</td>\n",
       "      <td>2018-02-02 01:19:41.756664</td>\n",
       "      <td>evening of insight and truth into the Pope &amp; t...</td>\n",
       "      <td>NaN</td>\n",
       "      <td>NaN</td>\n",
       "      <td>['']</td>\n",
       "      <td>NaN</td>\n",
       "      <td>NaN</td>\n",
       "      <td>NaN</td>\n",
       "      <td>NaN</td>\n",
       "      <td>3</td>\n",
       "    </tr>\n",
       "    <tr>\n",
       "      <td>...</td>\n",
       "      <td>...</td>\n",
       "      <td>...</td>\n",
       "      <td>...</td>\n",
       "      <td>...</td>\n",
       "      <td>...</td>\n",
       "      <td>...</td>\n",
       "      <td>...</td>\n",
       "      <td>...</td>\n",
       "      <td>...</td>\n",
       "      <td>...</td>\n",
       "      <td>...</td>\n",
       "      <td>...</td>\n",
       "      <td>...</td>\n",
       "      <td>...</td>\n",
       "      <td>...</td>\n",
       "      <td>...</td>\n",
       "      <td>...</td>\n",
       "    </tr>\n",
       "    <tr>\n",
       "      <td>4895</td>\n",
       "      <td>431227</td>\n",
       "      <td>beforeitsnews.com</td>\n",
       "      <td>fake</td>\n",
       "      <td>http://beforeitsnews.com/celebrities/2010/08/y...</td>\n",
       "      <td>Yes, THAT Eli Wallach\\n\\n% of readers think th...</td>\n",
       "      <td>2018-01-25 20:13:50.426130</td>\n",
       "      <td>2018-02-02 01:19:41.756632</td>\n",
       "      <td>2018-02-02 01:19:41.756664</td>\n",
       "      <td>Yes, THAT Eli Wallach</td>\n",
       "      <td>NaN</td>\n",
       "      <td>NaN</td>\n",
       "      <td>['']</td>\n",
       "      <td>NaN</td>\n",
       "      <td>NaN</td>\n",
       "      <td>NaN</td>\n",
       "      <td>NaN</td>\n",
       "      <td>3</td>\n",
       "    </tr>\n",
       "    <tr>\n",
       "      <td>4896</td>\n",
       "      <td>810336</td>\n",
       "      <td>beforeitsnews.com</td>\n",
       "      <td>fake</td>\n",
       "      <td>http://beforeitsnews.com/forex/2011/08/euro-ex...</td>\n",
       "      <td>Euro Extending Losses; SNB Intervention Just A...</td>\n",
       "      <td>2018-01-25 20:13:50.426130</td>\n",
       "      <td>2018-02-02 01:19:41.756632</td>\n",
       "      <td>2018-02-02 01:19:41.756664</td>\n",
       "      <td>Euro Extending Losses; SNB Intervention Just A...</td>\n",
       "      <td>NaN</td>\n",
       "      <td>NaN</td>\n",
       "      <td>['']</td>\n",
       "      <td>NaN</td>\n",
       "      <td>EURJPY, AUDJPY, Silver, CHFJPY, EURAUD, EURUSD...</td>\n",
       "      <td>NaN</td>\n",
       "      <td>NaN</td>\n",
       "      <td>3</td>\n",
       "    </tr>\n",
       "    <tr>\n",
       "      <td>4897</td>\n",
       "      <td>1029673</td>\n",
       "      <td>beforeitsnews.com</td>\n",
       "      <td>fake</td>\n",
       "      <td>http://beforeitsnews.com/eu/2013/02/salafists-...</td>\n",
       "      <td>Headline: Bitcoin &amp; Blockchain Searches Exceed...</td>\n",
       "      <td>2018-01-25 20:13:50.426130</td>\n",
       "      <td>2018-02-02 01:19:41.756632</td>\n",
       "      <td>2018-02-02 01:19:41.756664</td>\n",
       "      <td>Salafists fail to stop ‘Harlem Shake’ in Tunisia</td>\n",
       "      <td>Vlad Tepes</td>\n",
       "      <td>NaN</td>\n",
       "      <td>['']</td>\n",
       "      <td>NaN</td>\n",
       "      <td>NaN</td>\n",
       "      <td>NaN</td>\n",
       "      <td>NaN</td>\n",
       "      <td>3</td>\n",
       "    </tr>\n",
       "    <tr>\n",
       "      <td>4898</td>\n",
       "      <td>458467</td>\n",
       "      <td>beforeitsnews.com</td>\n",
       "      <td>fake</td>\n",
       "      <td>http://beforeitsnews.com/politics/2013/09/more...</td>\n",
       "      <td>Headline: Bitcoin &amp; Blockchain Searches Exceed...</td>\n",
       "      <td>2018-01-25 20:13:50.426130</td>\n",
       "      <td>2018-02-02 01:19:41.756632</td>\n",
       "      <td>2018-02-02 01:19:41.756664</td>\n",
       "      <td>More opposition to Energy East</td>\n",
       "      <td>The Media Co-Op</td>\n",
       "      <td>NaN</td>\n",
       "      <td>['']</td>\n",
       "      <td>NaN</td>\n",
       "      <td>NaN</td>\n",
       "      <td>NaN</td>\n",
       "      <td>NaN</td>\n",
       "      <td>3</td>\n",
       "    </tr>\n",
       "    <tr>\n",
       "      <td>4899</td>\n",
       "      <td>28790</td>\n",
       "      <td>beforeitsnews.com</td>\n",
       "      <td>fake</td>\n",
       "      <td>http://beforeitsnews.com/financial-markets/201...</td>\n",
       "      <td>Caeneus Minerals raises funds for lithium in C...</td>\n",
       "      <td>2018-01-25 16:17:44.789555</td>\n",
       "      <td>2018-02-02 01:19:41.756632</td>\n",
       "      <td>2018-02-02 01:19:41.756664</td>\n",
       "      <td>Caeneus Minerals raises funds for lithium in C...</td>\n",
       "      <td>NaN</td>\n",
       "      <td>NaN</td>\n",
       "      <td>['']</td>\n",
       "      <td>NaN</td>\n",
       "      <td>NaN</td>\n",
       "      <td>NaN</td>\n",
       "      <td>NaN</td>\n",
       "      <td>3</td>\n",
       "    </tr>\n",
       "  </tbody>\n",
       "</table>\n",
       "<p>4900 rows × 17 columns</p>\n",
       "</div>"
      ],
      "text/plain": [
       "           id             domain  type  \\\n",
       "0      452168  beforeitsnews.com  fake   \n",
       "1      787933  beforeitsnews.com  fake   \n",
       "2      806045  beforeitsnews.com  fake   \n",
       "3      831732  beforeitsnews.com  fake   \n",
       "4      776101  beforeitsnews.com  fake   \n",
       "...       ...                ...   ...   \n",
       "4895   431227  beforeitsnews.com  fake   \n",
       "4896   810336  beforeitsnews.com  fake   \n",
       "4897  1029673  beforeitsnews.com  fake   \n",
       "4898   458467  beforeitsnews.com  fake   \n",
       "4899    28790  beforeitsnews.com  fake   \n",
       "\n",
       "                                                    url  \\\n",
       "0     http://beforeitsnews.com/gold-and-precious-met...   \n",
       "1     http://beforeitsnews.com/green-living/2013/02/...   \n",
       "2     http://beforeitsnews.com/health/2012/06/autism...   \n",
       "3     http://beforeitsnews.com/outdoors/2011/12/book...   \n",
       "4     http://beforeitsnews.com/alternative/2013/02/e...   \n",
       "...                                                 ...   \n",
       "4895  http://beforeitsnews.com/celebrities/2010/08/y...   \n",
       "4896  http://beforeitsnews.com/forex/2011/08/euro-ex...   \n",
       "4897  http://beforeitsnews.com/eu/2013/02/salafists-...   \n",
       "4898  http://beforeitsnews.com/politics/2013/09/more...   \n",
       "4899  http://beforeitsnews.com/financial-markets/201...   \n",
       "\n",
       "                                                content  \\\n",
       "0     Agriculture Is Going To Be Extremely Profitabl...   \n",
       "1     Buried in Snow: Nemo Found Us\\n\\nHeadline: Bit...   \n",
       "2     Autism Signs Found In Fish Due To Big-Pharma\\n...   \n",
       "3     Book Review: 10: Celebrating Ten Years of the ...   \n",
       "4     evening of insight and truth into the Pope & t...   \n",
       "...                                                 ...   \n",
       "4895  Yes, THAT Eli Wallach\\n\\n% of readers think th...   \n",
       "4896  Euro Extending Losses; SNB Intervention Just A...   \n",
       "4897  Headline: Bitcoin & Blockchain Searches Exceed...   \n",
       "4898  Headline: Bitcoin & Blockchain Searches Exceed...   \n",
       "4899  Caeneus Minerals raises funds for lithium in C...   \n",
       "\n",
       "                      scraped_at                 inserted_at  \\\n",
       "0     2018-01-25 20:13:50.426130  2018-02-02 01:19:41.756632   \n",
       "1     2018-01-25 20:13:50.426130  2018-02-02 01:19:41.756632   \n",
       "2     2018-01-25 20:13:50.426130  2018-02-02 01:19:41.756632   \n",
       "3     2018-01-25 20:13:50.426130  2018-02-02 01:19:41.756632   \n",
       "4     2018-01-25 20:13:50.426130  2018-02-02 01:19:41.756632   \n",
       "...                          ...                         ...   \n",
       "4895  2018-01-25 20:13:50.426130  2018-02-02 01:19:41.756632   \n",
       "4896  2018-01-25 20:13:50.426130  2018-02-02 01:19:41.756632   \n",
       "4897  2018-01-25 20:13:50.426130  2018-02-02 01:19:41.756632   \n",
       "4898  2018-01-25 20:13:50.426130  2018-02-02 01:19:41.756632   \n",
       "4899  2018-01-25 16:17:44.789555  2018-02-02 01:19:41.756632   \n",
       "\n",
       "                      updated_at  \\\n",
       "0     2018-02-02 01:19:41.756664   \n",
       "1     2018-02-02 01:19:41.756664   \n",
       "2     2018-02-02 01:19:41.756664   \n",
       "3     2018-02-02 01:19:41.756664   \n",
       "4     2018-02-02 01:19:41.756664   \n",
       "...                          ...   \n",
       "4895  2018-02-02 01:19:41.756664   \n",
       "4896  2018-02-02 01:19:41.756664   \n",
       "4897  2018-02-02 01:19:41.756664   \n",
       "4898  2018-02-02 01:19:41.756664   \n",
       "4899  2018-02-02 01:19:41.756664   \n",
       "\n",
       "                                                  title             authors  \\\n",
       "0     Agriculture Is Going To Be Extremely Profitabl...     Jim Rogers Blog   \n",
       "1                         Buried in Snow: Nemo Found Us  Groovy Green Livin   \n",
       "2          Autism Signs Found In Fish Due To Big-Pharma      Alan Freestone   \n",
       "3     Book Review: 10: Celebrating Ten Years of the ...  The Adventure Blog   \n",
       "4     evening of insight and truth into the Pope & t...                 NaN   \n",
       "...                                                 ...                 ...   \n",
       "4895                              Yes, THAT Eli Wallach                 NaN   \n",
       "4896  Euro Extending Losses; SNB Intervention Just A...                 NaN   \n",
       "4897   Salafists fail to stop ‘Harlem Shake’ in Tunisia          Vlad Tepes   \n",
       "4898                     More opposition to Energy East     The Media Co-Op   \n",
       "4899  Caeneus Minerals raises funds for lithium in C...                 NaN   \n",
       "\n",
       "     keywords meta_keywords meta_description  \\\n",
       "0         NaN          ['']              NaN   \n",
       "1         NaN          ['']              NaN   \n",
       "2         NaN          ['']              NaN   \n",
       "3         NaN          ['']              NaN   \n",
       "4         NaN          ['']              NaN   \n",
       "...       ...           ...              ...   \n",
       "4895      NaN          ['']              NaN   \n",
       "4896      NaN          ['']              NaN   \n",
       "4897      NaN          ['']              NaN   \n",
       "4898      NaN          ['']              NaN   \n",
       "4899      NaN          ['']              NaN   \n",
       "\n",
       "                                                   tags summary source  \\\n",
       "0                                                   NaN     NaN    NaN   \n",
       "1                                                   NaN     NaN    NaN   \n",
       "2                                                   NaN     NaN    NaN   \n",
       "3                                                   NaN     NaN    NaN   \n",
       "4                                                   NaN     NaN    NaN   \n",
       "...                                                 ...     ...    ...   \n",
       "4895                                                NaN     NaN    NaN   \n",
       "4896  EURJPY, AUDJPY, Silver, CHFJPY, EURAUD, EURUSD...     NaN    NaN   \n",
       "4897                                                NaN     NaN    NaN   \n",
       "4898                                                NaN     NaN    NaN   \n",
       "4899                                                NaN     NaN    NaN   \n",
       "\n",
       "      type_id  \n",
       "0           3  \n",
       "1           3  \n",
       "2           3  \n",
       "3           3  \n",
       "4           3  \n",
       "...       ...  \n",
       "4895        3  \n",
       "4896        3  \n",
       "4897        3  \n",
       "4898        3  \n",
       "4899        3  \n",
       "\n",
       "[4900 rows x 17 columns]"
      ]
     },
     "execution_count": 461,
     "metadata": {},
     "output_type": "execute_result"
    }
   ],
   "source": [
    "train.loc[train.type == 'fake']"
   ]
  },
  {
   "cell_type": "code",
   "execution_count": 389,
   "metadata": {},
   "outputs": [],
   "source": [
    "#try tf-idf svm\n",
    "from sklearn.feature_extraction.text import TfidfVectorizer\n",
    "v = TfidfVectorizer()\n",
    "x = v.fit_transform(train[\"content\"])"
   ]
  },
  {
   "cell_type": "code",
   "execution_count": null,
   "metadata": {},
   "outputs": [],
   "source": []
  },
  {
   "cell_type": "code",
   "execution_count": 454,
   "metadata": {},
   "outputs": [
    {
     "data": {
      "text/plain": [
       "[('solid', 0.5569016933441162),\n",
       " ('weak', 0.48024940490722656),\n",
       " ('positive', 0.4619835615158081),\n",
       " ('significant', 0.4544695019721985),\n",
       " ('low', 0.44241464138031006),\n",
       " ('powerful', 0.4360508918762207),\n",
       " ('large', 0.42998695373535156),\n",
       " ('tough', 0.4249303936958313),\n",
       " ('high', 0.4169711470603943),\n",
       " ('broad', 0.4161904752254486)]"
      ]
     },
     "execution_count": 454,
     "metadata": {},
     "output_type": "execute_result"
    }
   ],
   "source": [
    "model.most_similar('strong')"
   ]
  }
 ],
 "metadata": {
  "kernelspec": {
   "display_name": "Python 3",
   "language": "python",
   "name": "python3"
  },
  "language_info": {
   "codemirror_mode": {
    "name": "ipython",
    "version": 3
   },
   "file_extension": ".py",
   "mimetype": "text/x-python",
   "name": "python",
   "nbconvert_exporter": "python",
   "pygments_lexer": "ipython3",
   "version": "3.7.4"
  }
 },
 "nbformat": 4,
 "nbformat_minor": 4
}
